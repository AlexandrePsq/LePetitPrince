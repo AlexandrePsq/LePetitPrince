{
 "cells": [
  {
   "cell_type": "markdown",
   "metadata": {},
   "source": [
    "# Notebook for analysing pipeline results"
   ]
  },
  {
   "cell_type": "markdown",
   "metadata": {},
   "source": [
    "Importing libraries:"
   ]
  },
  {
   "cell_type": "code",
   "execution_count": 41,
   "metadata": {},
   "outputs": [],
   "source": [
    "import os\n",
    "import glob\n",
    "import numpy as np\n",
    "import pandas as pd\n",
    "%matplotlib inline\n",
    "import matplotlib.pyplot as plt"
   ]
  },
  {
   "cell_type": "code",
   "execution_count": 19,
   "metadata": {},
   "outputs": [],
   "source": [
    "import nistats\n",
    "import scipy\n",
    "import nibabel as nib\n",
    "import nilearn\n",
    "from nilearn.image import load_img, mean_img, index_img, threshold_img, math_img, smooth_img, new_img_like\n",
    "from nilearn.input_data import NiftiMapsMasker, NiftiMasker, NiftiLabelsMasker, MultiNiftiMasker\n",
    "from nilearn.regions import RegionExtractor\n",
    "from nistats.second_level_model import SecondLevelModel\n",
    "from nistats.thresholding import map_threshold\n",
    "from nilearn import plotting\n",
    "from scipy.stats import norm"
   ]
  },
  {
   "cell_type": "code",
   "execution_count": 20,
   "metadata": {},
   "outputs": [],
   "source": [
    "from logger import Logger\n",
    "from utils import read_yaml, check_folder, fetch_masker, possible_subjects_id, get_subject_name"
   ]
  },
  {
   "cell_type": "markdown",
   "metadata": {},
   "source": [
    "Some useful functions:"
   ]
  },
  {
   "cell_type": "code",
   "execution_count": 21,
   "metadata": {},
   "outputs": [],
   "source": [
    "def fetch_map(path, distribution_name):\n",
    "    path = os.path.join(path, '*' + distribution_name+'.nii.gz')\n",
    "    files = sorted(glob.glob(path))\n",
    "    return files"
   ]
  },
  {
   "cell_type": "code",
   "execution_count": null,
   "metadata": {},
   "outputs": [],
   "source": [
    "def load_atlas(name='cort-prob-2mm'):\n",
    "    atlas = datasets.fetch_atlas_harvard_oxford(name)\n",
    "    labels = atlas['labels']\n",
    "    maps = nilearn.image.load_img(atlas['maps'])\n",
    "    return maps, labels"
   ]
  },
  {
   "cell_type": "code",
   "execution_count": 22,
   "metadata": {},
   "outputs": [],
   "source": [
    "def batchify(x, y, size=10):\n",
    "    if len(x) != len(y):\n",
    "        raise ValueError('vector length mismatch')\n",
    "    m = len(x)\n",
    "    x_batch = []\n",
    "    y_batch = []\n",
    "    last = 0\n",
    "    for i in range(m//size):\n",
    "        x_batch.append(x[last:last+size])\n",
    "        y_batch.append(y[last:last+size])\n",
    "        last = last+size\n",
    "    x_batch.append(x[last:])\n",
    "    y_batch.append(y[last:])\n",
    "    return zip(x_batch, y_batch)"
   ]
  },
  {
   "cell_type": "markdown",
   "metadata": {},
   "source": [
    "Defining variables:"
   ]
  },
  {
   "cell_type": "code",
   "execution_count": 23,
   "metadata": {},
   "outputs": [],
   "source": [
    "language = 'english'"
   ]
  },
  {
   "cell_type": "code",
   "execution_count": 24,
   "metadata": {},
   "outputs": [],
   "source": [
    "PROJECT_PATH = f\"/neurospin/unicog/protocols/IRMf/LePetitPrince_Pallier_2018/LePetitPrince/\"\n",
    "OUTPUT_PATH = f\"/neurospin/unicog/protocols/IRMf/LePetitPrince_Pallier_2018/LePetitPrince/derivatives/fMRI/maps/{language}\"\n",
    "INPUT_PATH = f\"/neurospin/unicog/protocols/IRMf/LePetitPrince_Pallier_2018/LePetitPrince/data/stimuli-representations/{language}\"\n",
    "FMRIDATA_PATH = f\"/neurospin/unicog/protocols/IRMf/LePetitPrince_Pallier_2018/LePetitPrince/data/fMRI/{language}\"\n",
    "MASKER_PATH = f\"/neurospin/unicog/protocols/IRMf/LePetitPrince_Pallier_2018/LePetitPrince/global_masker_{language}\"\n",
    "SMOOTHED_MASKER_PATH = f\"/neurospin/unicog/protocols/IRMf/LePetitPrince_Pallier_2018/LePetitPrince/smoothed_global_masker_{language}\""
   ]
  },
  {
   "cell_type": "markdown",
   "metadata": {},
   "source": [
    "Defining objects:"
   ]
  },
  {
   "cell_type": "code",
   "execution_count": 25,
   "metadata": {},
   "outputs": [],
   "source": [
    "logger = Logger(os.path.join(PROJECT_PATH, 'logs.txt'))"
   ]
  },
  {
   "cell_type": "code",
   "execution_count": 26,
   "metadata": {},
   "outputs": [],
   "source": [
    "masker = fetch_masker(MASKER_PATH, language, FMRIDATA_PATH, INPUT_PATH, smoothing_fwhm=None, logger=logger)\n",
    "smoothed_masker = fetch_masker(SMOOTHED_MASKER_PATH, language, FMRIDATA_PATH, INPUT_PATH, smoothing_fwhm=None, logger=logger)"
   ]
  },
  {
   "cell_type": "markdown",
   "metadata": {},
   "source": [
    "### Determination of the hrf for the following analysis"
   ]
  },
  {
   "cell_type": "code",
   "execution_count": 54,
   "metadata": {},
   "outputs": [],
   "source": [
    "hrf_list = [\n",
    "    'spm', # hrf model used in SPM\n",
    "    'spm + derivative', # SPM model plus its time derivative (2 regressors)\n",
    "    'spm + derivative + dispersion', # idem, plus dispersion derivative (3 regressors)\n",
    "    'glover', # this one corresponds to the Glover hrf\n",
    "    'glover + derivative', # the Glover hrf + time derivative (2 regressors)\n",
    "    'glover + derivative + dispersion' # idem + dispersion derivative\n",
    "]\n",
    "subject_list = [57, 63, 67, 77] # identified correct subjects\n",
    "model_name = 'bert-base-cased'\n",
    "hidden_layer_list = [[1], [6], [8], [9], [10], [12]]\n",
    "attention_layer_head_list = [[7, 6], [4, 10], [8, 1], [8,2], [6,7], [8, 10], [8, 11], [9, 6]]"
   ]
  },
  {
   "cell_type": "code",
   "execution_count": 28,
   "metadata": {},
   "outputs": [],
   "source": [
    "reg_model_names = ['attention-layer-{}_head-{}'.format(layer, head) for hrf in hrf_list for subject in subject_list for (layer, head) in attention_layer_head_list ]\n",
    "reg_model_names += ['hidden-layer-{}'.format(hidden_layers[0]) for hrf in hrf_list for subject in subject_list for hidden_layers in hidden_layer_list]\n"
   ]
  },
  {
   "cell_type": "markdown",
   "metadata": {},
   "source": [
    "#### R2"
   ]
  },
  {
   "cell_type": "code",
   "execution_count": 29,
   "metadata": {},
   "outputs": [],
   "source": [
    "distribution_name = 'R2'"
   ]
  },
  {
   "cell_type": "code",
   "execution_count": 49,
   "metadata": {
    "scrolled": false
   },
   "outputs": [
    {
     "name": "stdout",
     "output_type": "stream",
     "text": [
      "\n",
      "    ##############################################################################\n",
      "    ###################         HRF spm        ###################\n",
      "    max: 0.2599216293039259\n",
      "    75%: 0.008868061679319427\n",
      "    median: 0.0004870379290168993\n",
      "    mean: 0.008245440711537674\n",
      "    25%: -0.0009432293895007395\n",
      "    min: -8.608776142681336\n",
      "    \n",
      "    Data > 0.2: 0.006301956894614841\n",
      "    Data > 0.15: 0.11418871894916238\n",
      "    Data > 0.1: 0.7835661404075996\n",
      "    Data > 0.05: 4.487952302406252\n",
      "    \n",
      "    ##############################################################################\n",
      "    \n"
     ]
    },
    {
     "data": {
      "image/png": "[encoded data removed]",
      "text/plain": [
       "<Figure size 432x288 with 1 Axes>"
      ]
     },
     "metadata": {
      "needs_background": "light"
     },
     "output_type": "display_data"
    },
    {
     "name": "stdout",
     "output_type": "stream",
     "text": [
      "\n",
      "    ##############################################################################\n",
      "    ###################         HRF spm + derivative        ###################\n",
      "    max: 0.2806225481374186\n",
      "    75%: 0.009290241862852456\n",
      "    median: 0.000952237169993554\n",
      "    mean: 0.008792892282731892\n",
      "    25%: -0.0008220860145219203\n",
      "    min: -3.0963193662103223\n",
      "    \n",
      "    Data > 0.2: 0.00815144424412137\n",
      "    Data > 0.15: 0.12425815007425349\n",
      "    Data > 0.1: 0.8514491760876356\n",
      "    Data > 0.05: 4.914087887638849\n",
      "    \n",
      "    ##############################################################################\n",
      "    \n"
     ]
    },
    {
     "data": {
      "image/png": "[encoded data removed]",
      "text/plain": [
       "<Figure size 432x288 with 1 Axes>"
      ]
     },
     "metadata": {
      "needs_background": "light"
     },
     "output_type": "display_data"
    },
    {
     "name": "stdout",
     "output_type": "stream",
     "text": [
      "\n",
      "    ##############################################################################\n",
      "    ###################         HRF spm + derivative + dispersion        ###################\n",
      "    max: 0.2779681180954616\n",
      "    75%: 0.009011966102095778\n",
      "    median: 0.0009273725447779516\n",
      "    mean: 0.00855674033185519\n",
      "    25%: -0.0008598987594254185\n",
      "    min: -6.305062982731245\n",
      "    \n",
      "    Data > 0.2: 0.008219943775584574\n",
      "    Data > 0.15: 0.12186066647304132\n",
      "    Data > 0.1: 0.8737800233446403\n",
      "    Data > 0.05: 4.750579506036178\n",
      "    \n",
      "    ##############################################################################\n",
      "    \n"
     ]
    },
    {
     "data": {
      "image/png": "[encoded data removed]",
      "text/plain": [
       "<Figure size 432x288 with 1 Axes>"
      ]
     },
     "metadata": {
      "needs_background": "light"
     },
     "output_type": "display_data"
    }
   ],
   "source": [
    "for hrf in hrf_list:\n",
    "    imgs = []\n",
    "    for subject in subject_list:\n",
    "        paths = [os.path.join(OUTPUT_PATH, f\"sub-0{subject}/{hrf.replace(' ', '')}_{subject}_{model_name}_{name}\") for name in reg_model_names]\n",
    "        imgs += [fetch_map(path, distribution_name)[0] for path in paths]\n",
    "    data = np.hstack([masker.transform(img).reshape(-1) for img in imgs])\n",
    "    print(f\"\"\"\n",
    "    ##############################################################################\n",
    "    ###################         HRF {hrf}        ###################\n",
    "    max: {np.max(data)}\n",
    "    75%: {np.percentile(data, 75)}\n",
    "    median: {np.percentile(data, 50)}\n",
    "    mean: {np.mean(data)}\n",
    "    25%: {np.percentile(data, 25)}\n",
    "    min: {np.min(data)}\n",
    "    \n",
    "    Data > 0.2: {100*np.sum(data>0.2)/len(data)}\n",
    "    Data > 0.15: {100*np.sum(data>0.15)/len(data)}\n",
    "    Data > 0.1: {100*np.sum(data>0.1)/len(data)}\n",
    "    Data > 0.05: {100*np.sum(data>0.05)/len(data)}\n",
    "    \n",
    "    ##############################################################################\n",
    "    \"\"\")\n",
    "    data[data>1] = np.nan\n",
    "    data[data<-0.4] = np.nan\n",
    "    plt.hist(data[~np.isnan(data)], bins=50)\n",
    "    plt.xlim((-0.1, 0.2))\n",
    "    plt.title(f\"HRF: {hrf}\")\n",
    "    plt.show()"
   ]
  },
  {
   "cell_type": "code",
   "execution_count": 51,
   "metadata": {},
   "outputs": [
    {
     "name": "stdout",
     "output_type": "stream",
     "text": [
      "\n",
      "##############################################################################\n",
      "###################         HRF spm + derivative        ###################\n",
      "max: 8.608776142681336\n",
      "75%: 0.001549230584507042\n",
      "median: 0.00010417790217025972\n",
      "mean: 0.0005474515711942177\n",
      "25%: -0.0009882186138779367\n",
      "min: -3.1076800765959245\n",
      "\n",
      "Data > 0.2: 0.001301491097800891\n",
      "Data > 0.15: 0.001301491097800891\n",
      "Data > 0.1: 0.0017124882865801197\n",
      "Data > 0.05: 0.037469243710373024\n",
      "\n",
      "##############################################################################\n",
      "\n"
     ]
    },
    {
     "name": "stderr",
     "output_type": "stream",
     "text": [
      "/home/ap259944/anaconda3/envs/parietal/lib/python3.7/site-packages/ipykernel_launcher.py:27: RuntimeWarning: invalid value encountered in less\n"
     ]
    },
    {
     "data": {
      "image/png": "[encoded data removed]",
      "text/plain": [
       "<Figure size 432x288 with 1 Axes>"
      ]
     },
     "metadata": {
      "needs_background": "light"
     },
     "output_type": "display_data"
    }
   ],
   "source": [
    "data= []\n",
    "for hrf in ['spm', 'spm + derivative']: # 2 best identified hrf\n",
    "    imgs = []\n",
    "    for subject in subject_list:\n",
    "        paths = [os.path.join(OUTPUT_PATH, f\"sub-0{subject}/{hrf.replace(' ', '')}_{subject}_{model_name}_{name}\") for name in reg_model_names]\n",
    "        imgs += [fetch_map(path, distribution_name)[0] for path in paths]\n",
    "    data.append(np.hstack([masker.transform(img).reshape(-1) for img in imgs]))\n",
    "data = data[1] - data[0]\n",
    "print(f\"\"\"\n",
    "##############################################################################\n",
    "###################         HRF {hrf}        ###################\n",
    "max: {np.max(data)}\n",
    "75%: {np.percentile(data, 75)}\n",
    "median: {np.percentile(data, 50)}\n",
    "mean: {np.mean(data)}\n",
    "25%: {np.percentile(data, 25)}\n",
    "min: {np.min(data)}\n",
    "\n",
    "Data > 0.2: {100*np.sum(data>0.2)/len(data)}\n",
    "Data > 0.15: {100*np.sum(data>0.15)/len(data)}\n",
    "Data > 0.1: {100*np.sum(data>0.1)/len(data)}\n",
    "Data > 0.05: {100*np.sum(data>0.05)/len(data)}\n",
    "\n",
    "##############################################################################\n",
    "\"\"\")\n",
    "data[data>1] = np.nan\n",
    "data[data<-0.4] = np.nan\n",
    "plt.hist(data[~np.isnan(data)], bins=50)\n",
    "plt.xlim((-0.1, 0.2))\n",
    "plt.title(\"'spm + derivative' - 'spm'\")\n",
    "plt.show()"
   ]
  },
  {
   "cell_type": "markdown",
   "metadata": {},
   "source": [
    "#### Pearson Coefficient "
   ]
  },
  {
   "cell_type": "code",
   "execution_count": 55,
   "metadata": {},
   "outputs": [],
   "source": [
    "distribution_name = 'Pearson_coeff'"
   ]
  },
  {
   "cell_type": "code",
   "execution_count": 57,
   "metadata": {
    "scrolled": false
   },
   "outputs": [
    {
     "name": "stdout",
     "output_type": "stream",
     "text": [
      "\n",
      "    ##############################################################################\n",
      "    ###################         HRF spm        ###################\n",
      "    max: 0.5177206425608482\n",
      "    75%: 0.10935408937988064\n",
      "    median: 0.05272860980007671\n",
      "    mean: 0.06821765055714024\n",
      "    25%: 0.013264488465320832\n",
      "    min: -0.19634181924787023\n",
      "    \n",
      "    Data > 0.2: 7.216083141991309\n",
      "    Data > 0.15: 14.719727317065152\n",
      "    Data > 0.1: 28.101590285122448\n",
      "    Data > 0.05: 51.625425382090384\n",
      "    \n",
      "    ##############################################################################\n",
      "    \n"
     ]
    },
    {
     "data": {
      "image/png": "[encoded data removed]",
      "text/plain": [
       "<Figure size 432x288 with 1 Axes>"
      ]
     },
     "metadata": {
      "needs_background": "light"
     },
     "output_type": "display_data"
    },
    {
     "name": "stdout",
     "output_type": "stream",
     "text": [
      "\n",
      "    ##############################################################################\n",
      "    ###################         HRF spm + derivative        ###################\n",
      "    max: 0.5339845743135865\n",
      "    75%: 0.11068743671282957\n",
      "    median: 0.05375653291149071\n",
      "    mean: 0.0705422545486214\n",
      "    25%: 0.015024430965312634\n",
      "    min: -0.1615176317993926\n",
      "    \n",
      "    Data > 0.2: 7.596529539737948\n",
      "    Data > 0.15: 15.230939320375048\n",
      "    Data > 0.1: 28.50107955261586\n",
      "    Data > 0.05: 52.25253859263603\n",
      "    \n",
      "    ##############################################################################\n",
      "    \n"
     ]
    },
    {
     "data": {
      "image/png": "[encoded data removed]",
      "text/plain": [
       "<Figure size 432x288 with 1 Axes>"
      ]
     },
     "metadata": {
      "needs_background": "light"
     },
     "output_type": "display_data"
    },
    {
     "name": "stdout",
     "output_type": "stream",
     "text": [
      "\n",
      "    ##############################################################################\n",
      "    ###################         HRF spm + derivative + dispersion        ###################\n",
      "    max: 0.530222279351241\n",
      "    75%: 0.10970542017042477\n",
      "    median: 0.052965020720797173\n",
      "    mean: 0.07012533678257556\n",
      "    25%: 0.014849196666799763\n",
      "    min: -0.16155285805527209\n",
      "    \n",
      "    Data > 0.2: 7.471380895754673\n",
      "    Data > 0.15: 15.004548368889157\n",
      "    Data > 0.1: 28.189817681647057\n",
      "    Data > 0.05: 51.785919784308675\n",
      "    \n",
      "    ##############################################################################\n",
      "    \n"
     ]
    },
    {
     "data": {
      "image/png": "[encoded data removed]",
      "text/plain": [
       "<Figure size 432x288 with 1 Axes>"
      ]
     },
     "metadata": {
      "needs_background": "light"
     },
     "output_type": "display_data"
    },
    {
     "name": "stdout",
     "output_type": "stream",
     "text": [
      "\n",
      "    ##############################################################################\n",
      "    ###################         HRF glover        ###################\n",
      "    max: 0.48897802426744175\n",
      "    75%: 0.10117462198532827\n",
      "    median: 0.04866590456718021\n",
      "    mean: 0.0629889273437017\n",
      "    25%: 0.011608101872994794\n",
      "    min: -0.17624214333164767\n",
      "    \n",
      "    Data > 0.2: 5.8254741537567885\n",
      "    Data > 0.15: 12.610284245655759\n",
      "    Data > 0.1: 25.40161275296877\n",
      "    Data > 0.05: 49.17101867023229\n",
      "    \n",
      "    ##############################################################################\n",
      "    \n"
     ]
    },
    {
     "data": {
      "image/png": "[encoded data removed]",
      "text/plain": [
       "<Figure size 432x288 with 1 Axes>"
      ]
     },
     "metadata": {
      "needs_background": "light"
     },
     "output_type": "display_data"
    },
    {
     "name": "stdout",
     "output_type": "stream",
     "text": [
      "\n",
      "    ##############################################################################\n",
      "    ###################         HRF glover + derivative        ###################\n",
      "    max: 0.5115232108275165\n",
      "    75%: 0.1026669654879825\n",
      "    median: 0.04980188440204516\n",
      "    mean: 0.0654211571212044\n",
      "    25%: 0.013512289317017461\n",
      "    min: -0.16210154497573864\n",
      "    \n",
      "    Data > 0.2: 6.246951770849887\n",
      "    Data > 0.15: 13.207189162826126\n",
      "    Data > 0.1: 25.883506956812415\n",
      "    Data > 0.05: 49.87813933352696\n",
      "    \n",
      "    ##############################################################################\n",
      "    \n"
     ]
    },
    {
     "data": {
      "image/png": "[encoded data removed]",
      "text/plain": [
       "<Figure size 432x288 with 1 Axes>"
      ]
     },
     "metadata": {
      "needs_background": "light"
     },
     "output_type": "display_data"
    },
    {
     "name": "stdout",
     "output_type": "stream",
     "text": [
      "\n",
      "    ##############################################################################\n",
      "    ###################         HRF glover + derivative + dispersion        ###################\n",
      "    max: 0.5057571782285276\n",
      "    75%: 0.10345571793622718\n",
      "    median: 0.049496402220751606\n",
      "    mean: 0.06492790853887725\n",
      "    25%: 0.011924324305782682\n",
      "    min: -0.16299576333185423\n",
      "    \n",
      "    Data > 0.2: 6.2807220398612476\n",
      "    Data > 0.15: 13.259180307206698\n",
      "    Data > 0.1: 26.175862957097372\n",
      "    Data > 0.05: 49.69449208967411\n",
      "    \n",
      "    ##############################################################################\n",
      "    \n"
     ]
    },
    {
     "data": {
      "image/png": "[encoded data removed]",
      "text/plain": [
       "<Figure size 432x288 with 1 Axes>"
      ]
     },
     "metadata": {
      "needs_background": "light"
     },
     "output_type": "display_data"
    }
   ],
   "source": [
    "for hrf in hrf_list:\n",
    "    imgs = []\n",
    "    for subject in subject_list:\n",
    "        paths = [os.path.join(OUTPUT_PATH, f\"sub-0{subject}/{hrf.replace(' ', '')}_{subject}_{model_name}_{name}\") for name in reg_model_names]\n",
    "        imgs += [fetch_map(path, distribution_name)[0] for path in paths]\n",
    "    data = np.hstack([masker.transform(img).reshape(-1) for img in imgs])\n",
    "    print(f\"\"\"\n",
    "    ##############################################################################\n",
    "    ###################         HRF {hrf}        ###################\n",
    "    max: {np.max(data)}\n",
    "    75%: {np.percentile(data, 75)}\n",
    "    median: {np.percentile(data, 50)}\n",
    "    mean: {np.mean(data)}\n",
    "    25%: {np.percentile(data, 25)}\n",
    "    min: {np.min(data)}\n",
    "    \n",
    "    Data > 0.2: {100*np.sum(data>0.2)/len(data)}\n",
    "    Data > 0.15: {100*np.sum(data>0.15)/len(data)}\n",
    "    Data > 0.1: {100*np.sum(data>0.1)/len(data)}\n",
    "    Data > 0.05: {100*np.sum(data>0.05)/len(data)}\n",
    "    \n",
    "    ##############################################################################\n",
    "    \"\"\")\n",
    "    data[data>1] = np.nan\n",
    "    data[data<-0.4] = np.nan\n",
    "    plt.hist(data[~np.isnan(data)], bins=50)\n",
    "    plt.xlim((-0.2, 0.54))\n",
    "    plt.title(f\"HRF: {hrf}\")\n",
    "    plt.show()"
   ]
  },
  {
   "cell_type": "code",
   "execution_count": 59,
   "metadata": {},
   "outputs": [
    {
     "name": "stdout",
     "output_type": "stream",
     "text": [
      "\n",
      "##############################################################################\n",
      "###################         HRF spm + derivative        ###################\n",
      "max: 0.1638431133910795\n",
      "75%: 0.012727405923583054\n",
      "median: 0.0002137281977143829\n",
      "mean: 0.0023246039914808082\n",
      "25%: -0.010369441791048536\n",
      "min: -0.09171806801510506\n",
      "\n",
      "Data > 0.2: 0.0\n",
      "Data > 0.15: 0.00034249765731602397\n",
      "Data > 0.1: 0.07843196352536949\n",
      "Data > 0.05: 2.0460810048059273\n",
      "\n",
      "##############################################################################\n",
      "\n"
     ]
    },
    {
     "data": {
      "image/png": "[encoded data removed]",
      "text/plain": [
       "<Figure size 432x288 with 1 Axes>"
      ]
     },
     "metadata": {
      "needs_background": "light"
     },
     "output_type": "display_data"
    }
   ],
   "source": [
    "data= []\n",
    "for hrf in ['spm', 'spm + derivative']: # 2 best identified hrf\n",
    "    imgs = []\n",
    "    for subject in subject_list:\n",
    "        paths = [os.path.join(OUTPUT_PATH, f\"sub-0{subject}/{hrf.replace(' ', '')}_{subject}_{model_name}_{name}\") for name in reg_model_names]\n",
    "        imgs += [fetch_map(path, distribution_name)[0] for path in paths]\n",
    "    data.append(np.hstack([masker.transform(img).reshape(-1) for img in imgs]))\n",
    "data = data[1] - data[0]\n",
    "print(f\"\"\"\n",
    "##############################################################################\n",
    "###################         HRF {hrf}        ###################\n",
    "max: {np.max(data)}\n",
    "75%: {np.percentile(data, 75)}\n",
    "median: {np.percentile(data, 50)}\n",
    "mean: {np.mean(data)}\n",
    "25%: {np.percentile(data, 25)}\n",
    "min: {np.min(data)}\n",
    "\n",
    "Data > 0.2: {100*np.sum(data>0.2)/len(data)}\n",
    "Data > 0.15: {100*np.sum(data>0.15)/len(data)}\n",
    "Data > 0.1: {100*np.sum(data>0.1)/len(data)}\n",
    "Data > 0.05: {100*np.sum(data>0.05)/len(data)}\n",
    "\n",
    "##############################################################################\n",
    "\"\"\")\n",
    "data[data>1] = np.nan\n",
    "data[data<-0.4] = np.nan\n",
    "plt.hist(data[~np.isnan(data)], bins=50)\n",
    "plt.xlim((-0.1, 0.2))\n",
    "plt.title(\"'spm + derivative' - 'spm'\")\n",
    "plt.show()"
   ]
  },
  {
   "cell_type": "markdown",
   "metadata": {},
   "source": [
    "### Bert with sentence-level predictions VS Bert with sequential prediction"
   ]
  },
  {
   "cell_type": "code",
   "execution_count": null,
   "metadata": {},
   "outputs": [],
   "source": [
    "data = {}\n",
    "model_names = ['bert-base-cased', 'bert-base-cased_sequential']\n",
    "analysis = {\n",
    "    'Hidden-layers': 'hidden-layer-\\d{1,2}',\n",
    "    'Attention-layers': 'attention-layer-\\d{1,2}',\n",
    "    'Specific-attention-heads': 'attention-layer-\\d{1,2}_head-\\d{1,2}'\n",
    "}"
   ]
  },
  {
   "cell_type": "code",
   "execution_count": null,
   "metadata": {},
   "outputs": [],
   "source": [
    "for model_name in model_names:\n",
    "    data[model_name] = {}\n",
    "    for analysis_of_interest in analysis.keys():\n",
    "        R2_maps = {}\n",
    "        Pearson_coeff_maps = {}\n",
    "        for subject_id in possible_subjects_id(language):\n",
    "            subject = get_subject_name(subject_id)\n",
    "            path_to_map = os.path.join(OUTPUT_PATH, subject, '_'.join([model_name, subject_id, analysis[analysis_of_interest]]))\n",
    "            R2_maps[subject] = fetch_map(path_to_map, 'R2')\n",
    "            Pearson_coeff_maps[subject] = fetch_map(path_to_map, 'Pearson_coeff')\n",
    "        data[model_name][analysis_of_interest]['models'] = [name.split('_')[-1] for name in list(Pearson_coeff_maps.values())[-1]]\n",
    "        R2_lists = list(zip(*R2_maps.values()))\n",
    "        Pearson_coeff_lists = list(zip(*Pearson_coeff_maps.values()))\n",
    "        for index, model in enumerate(data[model_name][analysis_of_interest]['models']):\n",
    "            data[model_name][analysis_of_interest][model]['R2'] = R2_lists[index]\n",
    "            data[model_name][analysis_of_interest][model]['Pearson_coeff'] = Pearson_coeff_lists[index]"
   ]
  },
  {
   "cell_type": "code",
   "execution_count": null,
   "metadata": {},
   "outputs": [],
   "source": [
    "def create_one_sample_t_test(name, maps, output_dir, smoothing_fwhm=None, vmax=None, design_matrix=None):\n",
    "    \"\"\" Do a one sample t-test over the maps.\n",
    "    \"\"\"\n",
    "    if not os.path.isdir(output_dir):\n",
    "        os.path.mkdir(output_dir)\n",
    "\n",
    "    model = SecondLevelModel(smoothing_fwhm=smoothing_fwhm)\n",
    "    design_matrix = design_matrix if design_matrix else pd.DataFrame([1] * len(maps),\n",
    "                                                             columns=['intercept'])\n",
    "    model = model.fit(maps,\n",
    "                      design_matrix=design_matrix)\n",
    "    z_map = model.compute_contrast(output_type='z_score')\n",
    "    nib.save(z_map, os.path.join(output_dir, \"{}_group_zmap.nii.gz\".format(name)))\n",
    "\n",
    "    p_val = 0.001\n",
    "    z_th = norm.isf(p_val)  # 3.09\n",
    "    display = plotting.plot_glass_brain(\n",
    "        z_map,\n",
    "        threshold=z_th,\n",
    "        colorbar=True,\n",
    "        plot_abs=False,\n",
    "        display_mode='lzry',\n",
    "        title=name + ' z values (P<.001 unc.)',\n",
    "        vmax=10)\n",
    "    display.savefig(os.path.join(output_dir, \"{}_group_zmap\".format(name)))\n",
    "\n",
    "    # apply fdr to zmap\n",
    "    thresholded_zmap, th = map_threshold(stat_img=z_map,\n",
    "                                         alpha=0.01,\n",
    "                                         height_control='fdr',\n",
    "                                         cluster_threshold=0)\n",
    "    nib.save(thresholded_zmap, os.path.join(output_dir, \"{}_group_fdr_zmap.nii.gz\".format(name)))\n",
    "\n",
    "\n",
    "    display = plotting.plot_glass_brain(\n",
    "        thresholded_zmap,\n",
    "        #threshold=np.max([th, z_th]),\n",
    "        threshold=th,\n",
    "        colorbar=True,\n",
    "        plot_abs=False,\n",
    "        display_mode='lzry',\n",
    "        title=name + ' z values (Pfdr<.01: Z >{}'.format(np.round(th,2)),\n",
    "        vmax=10)\n",
    "    display.savefig(os.path.join(output_dir, \"{}_fdr_group_zmap\".format(name)))\n",
    "\n",
    "    # effect size-map\n",
    "    eff_map = model.compute_contrast(output_type='effect_size')\n",
    "    nib.save(eff_map, os.path.join(output_dir, \"{}_group_effect.nii.gz\".format(name)))\n",
    "\n",
    "    display = plotting.plot_glass_brain(\n",
    "        smooth_img(eff_map, fwhm=6),\n",
    "        colorbar=True,\n",
    "        plot_abs=False,\n",
    "        display_mode='lzry',\n",
    "        title=None, vmax=vmax)\n",
    "    display.savefig(os.path.join(output_dir, \"{}_group_effect\".format(name)))\n",
    "\n",
    "    #thr = thresholded_zmap.get_data()\n",
    "    thr = np.abs(z_map.get_data())\n",
    "    eff = eff_map.get_data()\n",
    "    thr_eff = eff * (thr > 3.09)\n",
    "    eff_thr_map = new_img_like(eff_map, thr_eff)\n",
    "\n",
    "    nib.save(eff_thr_map, os.path.join(output_dir, \"{}_group_fdr_effect.nii.gz\".format(name)))\n",
    "\n",
    "    display = plotting.plot_glass_brain(\n",
    "        smooth_img(eff_thr_map, fwhm=6),\n",
    "        colorbar=True,\n",
    "        plot_abs=False,\n",
    "        display_mode='lzry',\n",
    "        title=None,\n",
    "        vmax=vmax)\n",
    "    display.savefig(os.path.join(output_dir, 'group_fdr_effect', \"{}_group_fdr_effect\".format(name)))\n"
   ]
  },
  {
   "cell_type": "code",
   "execution_count": null,
   "metadata": {},
   "outputs": [],
   "source": [
    "for model_name in model_names:\n",
    "    for analysis_of_interest in analysis.keys():\n",
    "        for key in tqdm(data[model_name][analysis_of_interest].keys()):\n",
    "            imgs = data[model_name][analysis_of_interest][key]['R2']\n",
    "            name = '_'.join([model_name, key])\n",
    "            output_dir = os.path.join(PROJECT_PATH, 'derivatives/fMRI/analysis/{}/{}'.format(language, name))\n",
    "            check_folder(output_dir)\n",
    "            create_one_sample_t_test(name, imgs, output_dir, smoothing_fwhm=5.0, vmax=None)"
   ]
  },
  {
   "cell_type": "markdown",
   "metadata": {},
   "source": [
    "Group analysis of the difference between the models:"
   ]
  },
  {
   "cell_type": "code",
   "execution_count": null,
   "metadata": {},
   "outputs": [],
   "source": [
    "for analysis_of_interest in analysis.keys():\n",
    "    for key in tqdm(data[model_name][analysis_of_interest].keys()):\n",
    "        imgs = [data[model_name][analysis_of_interest][key]['R2'] for model_name in model_names]\n",
    "        imgs = [item for l in imgs for item in l]\n",
    "        name = '_'.join(['Bert-VS-Bert_sequential', key])\n",
    "        output_dir = os.path.join(PROJECT_PATH, 'derivatives/fMRI/analysis/{}/{}'.format(language, name))\n",
    "        check_folder(output_dir)\n",
    "        design_matrix = pd.concat([pd.DataFrame([1] * len(imgs)/2, columns=['intercept']),\n",
    "                                   pd.DataFrame([-1] * len(imgs)/2, columns=['intercept'])],\n",
    "                                  axis=0)\n",
    "        create_one_sample_t_test(name, imgs, output_dir, smoothing_fwhm=5.0, vmax=None, design_matrix=design_matrix)"
   ]
  },
  {
   "cell_type": "code",
   "execution_count": null,
   "metadata": {},
   "outputs": [],
   "source": [
    "#imgs = []\n",
    "#for img1, img2 in zip(files1, files2):\n",
    "#    i1 = nibabel.load(img1)\n",
    "#    i2 = nibabel.load(img2)\n",
    "#    imgs.append(new_img_like(i1, i1.get_data() - i2.get_data()))\n",
    "#\n",
    "#\n",
    "#vmax= None\n",
    "#create_one_sample_t_test(name, imgs, output_dir, smoothing_fwhm=5.0, vmax=vmax)\n"
   ]
  },
  {
   "cell_type": "markdown",
   "metadata": {},
   "source": [
    "### Attention heads analysis"
   ]
  },
  {
   "cell_type": "code",
   "execution_count": null,
   "metadata": {},
   "outputs": [],
   "source": []
  },
  {
   "cell_type": "code",
   "execution_count": null,
   "metadata": {},
   "outputs": [],
   "source": []
  },
  {
   "cell_type": "code",
   "execution_count": null,
   "metadata": {},
   "outputs": [],
   "source": []
  },
  {
   "cell_type": "markdown",
   "metadata": {},
   "source": [
    "### Impact of fine-tuning"
   ]
  },
  {
   "cell_type": "code",
   "execution_count": null,
   "metadata": {},
   "outputs": [],
   "source": []
  },
  {
   "cell_type": "code",
   "execution_count": null,
   "metadata": {},
   "outputs": [],
   "source": []
  }
 ],
 "metadata": {
  "kernelspec": {
   "display_name": "Python 3",
   "language": "python",
   "name": "python3"
  },
  "language_info": {
   "codemirror_mode": {
    "name": "ipython",
    "version": 3
   },
   "file_extension": ".py",
   "mimetype": "text/x-python",
   "name": "python",
   "nbconvert_exporter": "python",
   "pygments_lexer": "ipython3",
   "version": "3.7.6"
  }
 },
 "nbformat": 4,
 "nbformat_minor": 4
}
