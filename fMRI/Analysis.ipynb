{
 "cells": [
  {
   "cell_type": "markdown",
   "metadata": {},
   "source": [
    "# Notebook for analysing pipeline results"
   ]
  },
  {
   "cell_type": "markdown",
   "metadata": {},
   "source": [
    "Importing libraries:"
   ]
  },
  {
   "cell_type": "code",
   "execution_count": 1,
   "metadata": {},
   "outputs": [],
   "source": [
    "import os\n",
    "import glob\n",
    "from tqdm import tqdm\n",
    "import numpy as np\n",
    "import pandas as pd\n",
    "%matplotlib inline\n",
    "import matplotlib.pyplot as plt\n",
    "import matplotlib"
   ]
  },
  {
   "cell_type": "code",
   "execution_count": 2,
   "metadata": {},
   "outputs": [
    {
     "name": "stderr",
     "output_type": "stream",
     "text": [
      "/Applications/anaconda3/envs/parietal/lib/python3.7/site-packages/sklearn/externals/joblib/__init__.py:15: FutureWarning: sklearn.externals.joblib is deprecated in 0.21 and will be removed in 0.23. Please import this functionality directly from joblib, which can be installed with: pip install joblib. If this warning is raised when loading pickled models, you may need to re-serialize those models with scikit-learn 0.21+.\n",
      "  warnings.warn(msg, category=FutureWarning)\n"
     ]
    }
   ],
   "source": [
    "import nistats\n",
    "import scipy\n",
    "import nibabel as nib\n",
    "import nilearn\n",
    "from nilearn.image import load_img, mean_img, index_img, threshold_img, math_img, smooth_img, new_img_like\n",
    "from nilearn.input_data import NiftiMapsMasker, NiftiMasker, NiftiLabelsMasker, MultiNiftiMasker\n",
    "from nilearn.regions import RegionExtractor\n",
    "from nistats.second_level_model import SecondLevelModel\n",
    "from nistats.thresholding import map_threshold\n",
    "from nilearn import plotting\n",
    "from nilearn import datasets\n",
    "from scipy.stats import norm"
   ]
  },
  {
   "cell_type": "code",
   "execution_count": 3,
   "metadata": {},
   "outputs": [],
   "source": [
    "from logger import Logger\n",
    "from utils import read_yaml, check_folder, fetch_masker, possible_subjects_id, get_subject_name"
   ]
  },
  {
   "cell_type": "markdown",
   "metadata": {},
   "source": [
    "Some useful functions:"
   ]
  },
  {
   "cell_type": "code",
   "execution_count": 4,
   "metadata": {},
   "outputs": [],
   "source": [
    "def fetch_map(path, distribution_name):\n",
    "    path = os.path.join(path, '*' + distribution_name+'.nii.gz')\n",
    "    files = sorted(glob.glob(path))\n",
    "    return files"
   ]
  },
  {
   "cell_type": "code",
   "execution_count": 5,
   "metadata": {},
   "outputs": [],
   "source": [
    "def load_atlas(name='cort-prob-2mm'):\n",
    "    atlas = datasets.fetch_atlas_harvard_oxford(name)\n",
    "    labels = atlas['labels']\n",
    "    maps = nilearn.image.load_img(atlas['maps'])\n",
    "    return maps, labels"
   ]
  },
  {
   "cell_type": "code",
   "execution_count": 6,
   "metadata": {},
   "outputs": [],
   "source": [
    "def batchify(x, y, size=10):\n",
    "    if len(x) != len(y):\n",
    "        raise ValueError('vector length mismatch')\n",
    "    m = len(x)\n",
    "    x_batch = []\n",
    "    y_batch = []\n",
    "    last = 0\n",
    "    for i in range(m//size):\n",
    "        x_batch.append(x[last:last+size])\n",
    "        y_batch.append(y[last:last+size])\n",
    "        last = last+size\n",
    "    x_batch.append(x[last:])\n",
    "    y_batch.append(y[last:])\n",
    "    return zip(x_batch, y_batch)"
   ]
  },
  {
   "cell_type": "markdown",
   "metadata": {},
   "source": [
    "Defining variables:"
   ]
  },
  {
   "cell_type": "code",
   "execution_count": 7,
   "metadata": {},
   "outputs": [],
   "source": [
    "language = 'english'"
   ]
  },
  {
   "cell_type": "code",
   "execution_count": 8,
   "metadata": {},
   "outputs": [],
   "source": [
    "PROJECT_PATH = f\"/neurospin/unicog/protocols/IRMf/LePetitPrince_Pallier_2018/LePetitPrince/\"\n",
    "OUTPUT_PATH = f\"/neurospin/unicog/protocols/IRMf/LePetitPrince_Pallier_2018/LePetitPrince/derivatives/fMRI/maps/{language}\"\n",
    "INPUT_PATH = f\"/neurospin/unicog/protocols/IRMf/LePetitPrince_Pallier_2018/LePetitPrince/data/stimuli-representations/{language}\"\n",
    "FMRIDATA_PATH = f\"/neurospin/unicog/protocols/IRMf/LePetitPrince_Pallier_2018/LePetitPrince/data/fMRI/{language}\"\n",
    "MASKER_PATH = f\"/neurospin/unicog/protocols/IRMf/LePetitPrince_Pallier_2018/LePetitPrince/global_masker_{language}\"\n",
    "SMOOTHED_MASKER_PATH = f\"/neurospin/unicog/protocols/IRMf/LePetitPrince_Pallier_2018/LePetitPrince/smoothed_global_masker_{language}\""
   ]
  },
  {
   "cell_type": "markdown",
   "metadata": {},
   "source": [
    "Defining objects:"
   ]
  },
  {
   "cell_type": "code",
   "execution_count": 9,
   "metadata": {},
   "outputs": [],
   "source": [
    "logger = Logger(os.path.join(PROJECT_PATH, 'logs.txt'))"
   ]
  },
  {
   "cell_type": "code",
   "execution_count": 10,
   "metadata": {},
   "outputs": [],
   "source": [
    "masker = fetch_masker(MASKER_PATH, language, FMRIDATA_PATH, INPUT_PATH, smoothing_fwhm=None, logger=logger)\n",
    "#smoothed_masker = fetch_masker(SMOOTHED_MASKER_PATH, language, FMRIDATA_PATH, INPUT_PATH, smoothing_fwhm=None, logger=logger)"
   ]
  },
  {
   "cell_type": "markdown",
   "metadata": {},
   "source": [
    "### Determination of the hrf for the following analysis"
   ]
  },
  {
   "cell_type": "code",
   "execution_count": 54,
   "metadata": {},
   "outputs": [],
   "source": [
    "hrf_list = [\n",
    "    'spm', # hrf model used in SPM\n",
    "    'spm + derivative', # SPM model plus its time derivative (2 regressors)\n",
    "    'spm + derivative + dispersion', # idem, plus dispersion derivative (3 regressors)\n",
    "    'glover', # this one corresponds to the Glover hrf\n",
    "    'glover + derivative', # the Glover hrf + time derivative (2 regressors)\n",
    "    'glover + derivative + dispersion' # idem + dispersion derivative\n",
    "]\n",
    "subject_list = [57, 63, 67, 77] # identified correct subjects\n",
    "model_name = 'bert-base-cased'\n",
    "hidden_layer_list = [[1], [6], [8], [9], [10], [12]]\n",
    "attention_layer_head_list = [[7, 6], [4, 10], [8, 1], [8,2], [6,7], [8, 10], [8, 11], [9, 6]]"
   ]
  },
  {
   "cell_type": "code",
   "execution_count": 28,
   "metadata": {},
   "outputs": [],
   "source": [
    "reg_model_names = ['attention-layer-{}_head-{}'.format(layer, head) for hrf in hrf_list for subject in subject_list for (layer, head) in attention_layer_head_list ]\n",
    "reg_model_names += ['hidden-layer-{}'.format(hidden_layers[0]) for hrf in hrf_list for subject in subject_list for hidden_layers in hidden_layer_list]\n"
   ]
  },
  {
   "cell_type": "markdown",
   "metadata": {},
   "source": [
    "#### R2"
   ]
  },
  {
   "cell_type": "code",
   "execution_count": 29,
   "metadata": {},
   "outputs": [],
   "source": [
    "distribution_name = 'R2'"
   ]
  },
  {
   "cell_type": "code",
   "execution_count": 49,
   "metadata": {
    "scrolled": false
   },
   "outputs": [
    {
     "name": "stdout",
     "output_type": "stream",
     "text": [
      "\n",
      "    ##############################################################################\n",
      "    ###################         HRF spm        ###################\n",
      "    max: 0.2599216293039259\n",
      "    75%: 0.008868061679319427\n",
      "    median: 0.0004870379290168993\n",
      "    mean: 0.008245440711537674\n",
      "    25%: -0.0009432293895007395\n",
      "    min: -8.608776142681336\n",
      "    \n",
      "    Data > 0.2: 0.006301956894614841\n",
      "    Data > 0.15: 0.11418871894916238\n",
      "    Data > 0.1: 0.7835661404075996\n",
      "    Data > 0.05: 4.487952302406252\n",
      "    \n",
      "    ##############################################################################\n",
      "    \n"
     ]
    },
    {
     "data": {
      "image/png": "[encoded data removed]",
      "text/plain": [
       "<Figure size 432x288 with 1 Axes>"
      ]
     },
     "metadata": {
      "needs_background": "light"
     },
     "output_type": "display_data"
    },
    {
     "name": "stdout",
     "output_type": "stream",
     "text": [
      "\n",
      "    ##############################################################################\n",
      "    ###################         HRF spm + derivative        ###################\n",
      "    max: 0.2806225481374186\n",
      "    75%: 0.009290241862852456\n",
      "    median: 0.000952237169993554\n",
      "    mean: 0.008792892282731892\n",
      "    25%: -0.0008220860145219203\n",
      "    min: -3.0963193662103223\n",
      "    \n",
      "    Data > 0.2: 0.00815144424412137\n",
      "    Data > 0.15: 0.12425815007425349\n",
      "    Data > 0.1: 0.8514491760876356\n",
      "    Data > 0.05: 4.914087887638849\n",
      "    \n",
      "    ##############################################################################\n",
      "    \n"
     ]
    },
    {
     "data": {
      "image/png": "[encoded data removed]",
      "text/plain": [
       "<Figure size 432x288 with 1 Axes>"
      ]
     },
     "metadata": {
      "needs_background": "light"
     },
     "output_type": "display_data"
    },
    {
     "name": "stdout",
     "output_type": "stream",
     "text": [
      "\n",
      "    ##############################################################################\n",
      "    ###################         HRF spm + derivative + dispersion        ###################\n",
      "    max: 0.2779681180954616\n",
      "    75%: 0.009011966102095778\n",
      "    median: 0.0009273725447779516\n",
      "    mean: 0.00855674033185519\n",
      "    25%: -0.0008598987594254185\n",
      "    min: -6.305062982731245\n",
      "    \n",
      "    Data > 0.2: 0.008219943775584574\n",
      "    Data > 0.15: 0.12186066647304132\n",
      "    Data > 0.1: 0.8737800233446403\n",
      "    Data > 0.05: 4.750579506036178\n",
      "    \n",
      "    ##############################################################################\n",
      "    \n"
     ]
    },
    {
     "data": {
      "image/png": "[encoded data removed]",
      "text/plain": [
       "<Figure size 432x288 with 1 Axes>"
      ]
     },
     "metadata": {
      "needs_background": "light"
     },
     "output_type": "display_data"
    }
   ],
   "source": [
    "for hrf in hrf_list:\n",
    "    imgs = []\n",
    "    for subject in subject_list:\n",
    "        paths = [os.path.join(OUTPUT_PATH, f\"sub-0{subject}/{hrf.replace(' ', '')}_{subject}_{model_name}_{name}\") for name in reg_model_names]\n",
    "        imgs += [fetch_map(path, distribution_name)[0] for path in paths]\n",
    "    data = np.hstack([masker.transform(img).reshape(-1) for img in imgs])\n",
    "    print(f\"\"\"\n",
    "    ##############################################################################\n",
    "    ###################         HRF {hrf}        ###################\n",
    "    max: {np.max(data)}\n",
    "    75%: {np.percentile(data, 75)}\n",
    "    median: {np.percentile(data, 50)}\n",
    "    mean: {np.mean(data)}\n",
    "    25%: {np.percentile(data, 25)}\n",
    "    min: {np.min(data)}\n",
    "    \n",
    "    Data > 0.2: {100*np.sum(data>0.2)/len(data)}\n",
    "    Data > 0.15: {100*np.sum(data>0.15)/len(data)}\n",
    "    Data > 0.1: {100*np.sum(data>0.1)/len(data)}\n",
    "    Data > 0.05: {100*np.sum(data>0.05)/len(data)}\n",
    "    \n",
    "    ##############################################################################\n",
    "    \"\"\")\n",
    "    data[data>1] = np.nan\n",
    "    data[data<-0.4] = np.nan\n",
    "    plt.hist(data[~np.isnan(data)], bins=50)\n",
    "    plt.xlim((-0.1, 0.2))\n",
    "    plt.title(f\"HRF: {hrf}\")\n",
    "    plt.show()"
   ]
  },
  {
   "cell_type": "code",
   "execution_count": 51,
   "metadata": {},
   "outputs": [
    {
     "name": "stdout",
     "output_type": "stream",
     "text": [
      "\n",
      "##############################################################################\n",
      "###################         HRF spm + derivative        ###################\n",
      "max: 8.608776142681336\n",
      "75%: 0.001549230584507042\n",
      "median: 0.00010417790217025972\n",
      "mean: 0.0005474515711942177\n",
      "25%: -0.0009882186138779367\n",
      "min: -3.1076800765959245\n",
      "\n",
      "Data > 0.2: 0.001301491097800891\n",
      "Data > 0.15: 0.001301491097800891\n",
      "Data > 0.1: 0.0017124882865801197\n",
      "Data > 0.05: 0.037469243710373024\n",
      "\n",
      "##############################################################################\n",
      "\n"
     ]
    },
    {
     "name": "stderr",
     "output_type": "stream",
     "text": [
      "/home/ap259944/anaconda3/envs/parietal/lib/python3.7/site-packages/ipykernel_launcher.py:27: RuntimeWarning: invalid value encountered in less\n"
     ]
    },
    {
     "data": {
      "image/png": "[encoded data removed]",
      "text/plain": [
       "<Figure size 432x288 with 1 Axes>"
      ]
     },
     "metadata": {
      "needs_background": "light"
     },
     "output_type": "display_data"
    }
   ],
   "source": [
    "data= []\n",
    "for hrf in ['spm', 'spm + derivative']: # 2 best identified hrf\n",
    "    imgs = []\n",
    "    for subject in subject_list:\n",
    "        paths = [os.path.join(OUTPUT_PATH, f\"sub-0{subject}/{hrf.replace(' ', '')}_{subject}_{model_name}_{name}\") for name in reg_model_names]\n",
    "        imgs += [fetch_map(path, distribution_name)[0] for path in paths]\n",
    "    data.append(np.hstack([masker.transform(img).reshape(-1) for img in imgs]))\n",
    "data = data[1] - data[0]\n",
    "print(f\"\"\"\n",
    "##############################################################################\n",
    "###################         HRF {hrf}        ###################\n",
    "max: {np.max(data)}\n",
    "75%: {np.percentile(data, 75)}\n",
    "median: {np.percentile(data, 50)}\n",
    "mean: {np.mean(data)}\n",
    "25%: {np.percentile(data, 25)}\n",
    "min: {np.min(data)}\n",
    "\n",
    "Data > 0.2: {100*np.sum(data>0.2)/len(data)}\n",
    "Data > 0.15: {100*np.sum(data>0.15)/len(data)}\n",
    "Data > 0.1: {100*np.sum(data>0.1)/len(data)}\n",
    "Data > 0.05: {100*np.sum(data>0.05)/len(data)}\n",
    "\n",
    "##############################################################################\n",
    "\"\"\")\n",
    "data[data>1] = np.nan\n",
    "data[data<-0.4] = np.nan\n",
    "plt.hist(data[~np.isnan(data)], bins=50)\n",
    "plt.xlim((-0.1, 0.2))\n",
    "plt.title(\"'spm + derivative' - 'spm'\")\n",
    "plt.show()"
   ]
  },
  {
   "cell_type": "markdown",
   "metadata": {},
   "source": [
    "#### Pearson Coefficient "
   ]
  },
  {
   "cell_type": "code",
   "execution_count": 55,
   "metadata": {},
   "outputs": [],
   "source": [
    "distribution_name = 'Pearson_coeff'"
   ]
  },
  {
   "cell_type": "code",
   "execution_count": 57,
   "metadata": {
    "scrolled": true
   },
   "outputs": [
    {
     "name": "stdout",
     "output_type": "stream",
     "text": [
      "\n",
      "    ##############################################################################\n",
      "    ###################         HRF spm        ###################\n",
      "    max: 0.5177206425608482\n",
      "    75%: 0.10935408937988064\n",
      "    median: 0.05272860980007671\n",
      "    mean: 0.06821765055714024\n",
      "    25%: 0.013264488465320832\n",
      "    min: -0.19634181924787023\n",
      "    \n",
      "    Data > 0.2: 7.216083141991309\n",
      "    Data > 0.15: 14.719727317065152\n",
      "    Data > 0.1: 28.101590285122448\n",
      "    Data > 0.05: 51.625425382090384\n",
      "    \n",
      "    ##############################################################################\n",
      "    \n"
     ]
    },
    {
     "data": {
      "image/png": "[encoded data removed]",
      "text/plain": [
       "<Figure size 432x288 with 1 Axes>"
      ]
     },
     "metadata": {
      "needs_background": "light"
     },
     "output_type": "display_data"
    },
    {
     "name": "stdout",
     "output_type": "stream",
     "text": [
      "\n",
      "    ##############################################################################\n",
      "    ###################         HRF spm + derivative        ###################\n",
      "    max: 0.5339845743135865\n",
      "    75%: 0.11068743671282957\n",
      "    median: 0.05375653291149071\n",
      "    mean: 0.0705422545486214\n",
      "    25%: 0.015024430965312634\n",
      "    min: -0.1615176317993926\n",
      "    \n",
      "    Data > 0.2: 7.596529539737948\n",
      "    Data > 0.15: 15.230939320375048\n",
      "    Data > 0.1: 28.50107955261586\n",
      "    Data > 0.05: 52.25253859263603\n",
      "    \n",
      "    ##############################################################################\n",
      "    \n"
     ]
    },
    {
     "data": {
      "image/png": "[encoded data removed]",
      "text/plain": [
       "<Figure size 432x288 with 1 Axes>"
      ]
     },
     "metadata": {
      "needs_background": "light"
     },
     "output_type": "display_data"
    },
    {
     "name": "stdout",
     "output_type": "stream",
     "text": [
      "\n",
      "    ##############################################################################\n",
      "    ###################         HRF spm + derivative + dispersion        ###################\n",
      "    max: 0.530222279351241\n",
      "    75%: 0.10970542017042477\n",
      "    median: 0.052965020720797173\n",
      "    mean: 0.07012533678257556\n",
      "    25%: 0.014849196666799763\n",
      "    min: -0.16155285805527209\n",
      "    \n",
      "    Data > 0.2: 7.471380895754673\n",
      "    Data > 0.15: 15.004548368889157\n",
      "    Data > 0.1: 28.189817681647057\n",
      "    Data > 0.05: 51.785919784308675\n",
      "    \n",
      "    ##############################################################################\n",
      "    \n"
     ]
    },
    {
     "data": {
      "image/png": "[encoded data removed]",
      "text/plain": [
       "<Figure size 432x288 with 1 Axes>"
      ]
     },
     "metadata": {
      "needs_background": "light"
     },
     "output_type": "display_data"
    },
    {
     "name": "stdout",
     "output_type": "stream",
     "text": [
      "\n",
      "    ##############################################################################\n",
      "    ###################         HRF glover        ###################\n",
      "    max: 0.48897802426744175\n",
      "    75%: 0.10117462198532827\n",
      "    median: 0.04866590456718021\n",
      "    mean: 0.0629889273437017\n",
      "    25%: 0.011608101872994794\n",
      "    min: -0.17624214333164767\n",
      "    \n",
      "    Data > 0.2: 5.8254741537567885\n",
      "    Data > 0.15: 12.610284245655759\n",
      "    Data > 0.1: 25.40161275296877\n",
      "    Data > 0.05: 49.17101867023229\n",
      "    \n",
      "    ##############################################################################\n",
      "    \n"
     ]
    },
    {
     "data": {
      "image/png": "[encoded data removed]",
      "text/plain": [
       "<Figure size 432x288 with 1 Axes>"
      ]
     },
     "metadata": {
      "needs_background": "light"
     },
     "output_type": "display_data"
    },
    {
     "name": "stdout",
     "output_type": "stream",
     "text": [
      "\n",
      "    ##############################################################################\n",
      "    ###################         HRF glover + derivative        ###################\n",
      "    max: 0.5115232108275165\n",
      "    75%: 0.1026669654879825\n",
      "    median: 0.04980188440204516\n",
      "    mean: 0.0654211571212044\n",
      "    25%: 0.013512289317017461\n",
      "    min: -0.16210154497573864\n",
      "    \n",
      "    Data > 0.2: 6.246951770849887\n",
      "    Data > 0.15: 13.207189162826126\n",
      "    Data > 0.1: 25.883506956812415\n",
      "    Data > 0.05: 49.87813933352696\n",
      "    \n",
      "    ##############################################################################\n",
      "    \n"
     ]
    },
    {
     "data": {
      "image/png": "[encoded data removed]",
      "text/plain": [
       "<Figure size 432x288 with 1 Axes>"
      ]
     },
     "metadata": {
      "needs_background": "light"
     },
     "output_type": "display_data"
    },
    {
     "name": "stdout",
     "output_type": "stream",
     "text": [
      "\n",
      "    ##############################################################################\n",
      "    ###################         HRF glover + derivative + dispersion        ###################\n",
      "    max: 0.5057571782285276\n",
      "    75%: 0.10345571793622718\n",
      "    median: 0.049496402220751606\n",
      "    mean: 0.06492790853887725\n",
      "    25%: 0.011924324305782682\n",
      "    min: -0.16299576333185423\n",
      "    \n",
      "    Data > 0.2: 6.2807220398612476\n",
      "    Data > 0.15: 13.259180307206698\n",
      "    Data > 0.1: 26.175862957097372\n",
      "    Data > 0.05: 49.69449208967411\n",
      "    \n",
      "    ##############################################################################\n",
      "    \n"
     ]
    },
    {
     "data": {
      "image/png": "[encoded data removed]",
      "text/plain": [
       "<Figure size 432x288 with 1 Axes>"
      ]
     },
     "metadata": {
      "needs_background": "light"
     },
     "output_type": "display_data"
    }
   ],
   "source": [
    "for hrf in hrf_list:\n",
    "    imgs = []\n",
    "    for subject in subject_list:\n",
    "        paths = [os.path.join(OUTPUT_PATH, f\"sub-0{subject}/{hrf.replace(' ', '')}_{subject}_{model_name}_{name}\") for name in reg_model_names]\n",
    "        imgs += [fetch_map(path, distribution_name)[0] for path in paths]\n",
    "    data = np.hstack([masker.transform(img).reshape(-1) for img in imgs])\n",
    "    print(f\"\"\"\n",
    "    ##############################################################################\n",
    "    ###################         HRF {hrf}        ###################\n",
    "    max: {np.max(data)}\n",
    "    75%: {np.percentile(data, 75)}\n",
    "    median: {np.percentile(data, 50)}\n",
    "    mean: {np.mean(data)}\n",
    "    25%: {np.percentile(data, 25)}\n",
    "    min: {np.min(data)}\n",
    "    \n",
    "    Data > 0.2: {100*np.sum(data>0.2)/len(data)}\n",
    "    Data > 0.15: {100*np.sum(data>0.15)/len(data)}\n",
    "    Data > 0.1: {100*np.sum(data>0.1)/len(data)}\n",
    "    Data > 0.05: {100*np.sum(data>0.05)/len(data)}\n",
    "    \n",
    "    ##############################################################################\n",
    "    \"\"\")\n",
    "    data[data>1] = np.nan\n",
    "    data[data<-0.4] = np.nan\n",
    "    plt.hist(data[~np.isnan(data)], bins=50)\n",
    "    plt.xlim((-0.2, 0.54))\n",
    "    plt.title(f\"HRF: {hrf}\")\n",
    "    plt.show()"
   ]
  },
  {
   "cell_type": "code",
   "execution_count": 59,
   "metadata": {},
   "outputs": [
    {
     "name": "stdout",
     "output_type": "stream",
     "text": [
      "\n",
      "##############################################################################\n",
      "###################         HRF spm + derivative        ###################\n",
      "max: 0.1638431133910795\n",
      "75%: 0.012727405923583054\n",
      "median: 0.0002137281977143829\n",
      "mean: 0.0023246039914808082\n",
      "25%: -0.010369441791048536\n",
      "min: -0.09171806801510506\n",
      "\n",
      "Data > 0.2: 0.0\n",
      "Data > 0.15: 0.00034249765731602397\n",
      "Data > 0.1: 0.07843196352536949\n",
      "Data > 0.05: 2.0460810048059273\n",
      "\n",
      "##############################################################################\n",
      "\n"
     ]
    },
    {
     "data": {
      "image/png": "[encoded data removed]",
      "text/plain": [
       "<Figure size 432x288 with 1 Axes>"
      ]
     },
     "metadata": {
      "needs_background": "light"
     },
     "output_type": "display_data"
    }
   ],
   "source": [
    "data= []\n",
    "for hrf in ['spm', 'spm + derivative']: # 2 best identified hrf\n",
    "    imgs = []\n",
    "    for subject in subject_list:\n",
    "        paths = [os.path.join(OUTPUT_PATH, f\"sub-0{subject}/{hrf.replace(' ', '')}_{subject}_{model_name}_{name}\") for name in reg_model_names]\n",
    "        imgs += [fetch_map(path, distribution_name)[0] for path in paths]\n",
    "    data.append(np.hstack([masker.transform(img).reshape(-1) for img in imgs]))\n",
    "data = data[1] - data[0]\n",
    "print(f\"\"\"\n",
    "##############################################################################\n",
    "###################         HRF {hrf}        ###################\n",
    "max: {np.max(data)}\n",
    "75%: {np.percentile(data, 75)}\n",
    "median: {np.percentile(data, 50)}\n",
    "mean: {np.mean(data)}\n",
    "25%: {np.percentile(data, 25)}\n",
    "min: {np.min(data)}\n",
    "\n",
    "Data > 0.2: {100*np.sum(data>0.2)/len(data)}\n",
    "Data > 0.15: {100*np.sum(data>0.15)/len(data)}\n",
    "Data > 0.1: {100*np.sum(data>0.1)/len(data)}\n",
    "Data > 0.05: {100*np.sum(data>0.05)/len(data)}\n",
    "\n",
    "##############################################################################\n",
    "\"\"\")\n",
    "data[data>1] = np.nan\n",
    "data[data<-0.4] = np.nan\n",
    "plt.hist(data[~np.isnan(data)], bins=50)\n",
    "plt.xlim((-0.1, 0.2))\n",
    "plt.title(\"'spm + derivative' - 'spm'\")\n",
    "plt.show()"
   ]
  },
  {
   "cell_type": "markdown",
   "metadata": {},
   "source": [
    "### Bert with sentence-level predictions VS Bert with sequential prediction"
   ]
  },
  {
   "cell_type": "code",
   "execution_count": 11,
   "metadata": {},
   "outputs": [],
   "source": [
    "data = {}\n",
    "model_names = ['bert-base-cased', 'bert-base-cased_sequential', 'roberta-base', 'gpt2']\n",
    "analysis = {\n",
    "    'Hidden-layers': 'hidden-layer-*',\n",
    "    'Attention-layers': 'attention_layer-*',\n",
    "    'Specific-attention-heads': 'attention-layer-*_head-*'\n",
    "}"
   ]
  },
  {
   "cell_type": "code",
   "execution_count": 12,
   "metadata": {
    "scrolled": true
   },
   "outputs": [
    {
     "name": "stderr",
     "output_type": "stream",
     "text": [
      "  2%|▏         | 1/51 [00:00<00:49,  1.00it/s]"
     ]
    },
    {
     "name": "stdout",
     "output_type": "stream",
     "text": [
      "sub-057 - 13 - 13\n"
     ]
    },
    {
     "name": "stderr",
     "output_type": "stream",
     "text": [
      "\r",
      "  4%|▍         | 2/51 [00:01<00:42,  1.15it/s]"
     ]
    },
    {
     "name": "stdout",
     "output_type": "stream",
     "text": [
      "sub-058 - 13 - 13\n"
     ]
    },
    {
     "name": "stderr",
     "output_type": "stream",
     "text": [
      "\r",
      "  6%|▌         | 3/51 [00:02<00:39,  1.21it/s]"
     ]
    },
    {
     "name": "stdout",
     "output_type": "stream",
     "text": [
      "sub-059 - 13 - 13\n"
     ]
    },
    {
     "name": "stderr",
     "output_type": "stream",
     "text": [
      "\r",
      "  8%|▊         | 4/51 [00:02<00:36,  1.29it/s]"
     ]
    },
    {
     "name": "stdout",
     "output_type": "stream",
     "text": [
      "sub-061 - 13 - 13\n"
     ]
    },
    {
     "name": "stderr",
     "output_type": "stream",
     "text": [
      "\r",
      " 10%|▉         | 5/51 [00:03<00:36,  1.25it/s]"
     ]
    },
    {
     "name": "stdout",
     "output_type": "stream",
     "text": [
      "sub-062 - 13 - 13\n"
     ]
    },
    {
     "name": "stderr",
     "output_type": "stream",
     "text": [
      "\r",
      " 12%|█▏        | 6/51 [00:04<00:35,  1.26it/s]"
     ]
    },
    {
     "name": "stdout",
     "output_type": "stream",
     "text": [
      "sub-063 - 13 - 13\n"
     ]
    },
    {
     "name": "stderr",
     "output_type": "stream",
     "text": [
      "\r",
      " 14%|█▎        | 7/51 [00:05<00:31,  1.41it/s]"
     ]
    },
    {
     "name": "stdout",
     "output_type": "stream",
     "text": [
      "sub-064 - 13 - 13\n"
     ]
    },
    {
     "name": "stderr",
     "output_type": "stream",
     "text": [
      "\r",
      " 16%|█▌        | 8/51 [00:05<00:31,  1.35it/s]"
     ]
    },
    {
     "name": "stdout",
     "output_type": "stream",
     "text": [
      "sub-065 - 13 - 13\n"
     ]
    },
    {
     "name": "stderr",
     "output_type": "stream",
     "text": [
      "\r",
      " 18%|█▊        | 9/51 [00:06<00:31,  1.34it/s]"
     ]
    },
    {
     "name": "stdout",
     "output_type": "stream",
     "text": [
      "sub-066 - 13 - 13\n"
     ]
    },
    {
     "name": "stderr",
     "output_type": "stream",
     "text": [
      "\r",
      " 20%|█▉        | 10/51 [00:07<00:25,  1.59it/s]"
     ]
    },
    {
     "name": "stdout",
     "output_type": "stream",
     "text": [
      "sub-067 - 13 - 13\n"
     ]
    },
    {
     "name": "stderr",
     "output_type": "stream",
     "text": [
      "\r",
      " 22%|██▏       | 11/51 [00:07<00:23,  1.72it/s]"
     ]
    },
    {
     "name": "stdout",
     "output_type": "stream",
     "text": [
      "sub-068 - 13 - 13\n"
     ]
    },
    {
     "name": "stderr",
     "output_type": "stream",
     "text": [
      "\r",
      " 24%|██▎       | 12/51 [00:08<00:21,  1.78it/s]"
     ]
    },
    {
     "name": "stdout",
     "output_type": "stream",
     "text": [
      "sub-069 - 13 - 13\n"
     ]
    },
    {
     "name": "stderr",
     "output_type": "stream",
     "text": [
      "\r",
      " 25%|██▌       | 13/51 [00:08<00:22,  1.68it/s]"
     ]
    },
    {
     "name": "stdout",
     "output_type": "stream",
     "text": [
      "sub-070 - 13 - 13\n"
     ]
    },
    {
     "name": "stderr",
     "output_type": "stream",
     "text": [
      "\r",
      " 27%|██▋       | 14/51 [00:09<00:24,  1.50it/s]"
     ]
    },
    {
     "name": "stdout",
     "output_type": "stream",
     "text": [
      "sub-072 - 13 - 13\n"
     ]
    },
    {
     "name": "stderr",
     "output_type": "stream",
     "text": [
      "\r",
      " 29%|██▉       | 15/51 [00:10<00:24,  1.45it/s]"
     ]
    },
    {
     "name": "stdout",
     "output_type": "stream",
     "text": [
      "sub-073 - 13 - 13\n"
     ]
    },
    {
     "name": "stderr",
     "output_type": "stream",
     "text": [
      "\r",
      " 31%|███▏      | 16/51 [00:11<00:24,  1.40it/s]"
     ]
    },
    {
     "name": "stdout",
     "output_type": "stream",
     "text": [
      "sub-074 - 13 - 13\n"
     ]
    },
    {
     "name": "stderr",
     "output_type": "stream",
     "text": [
      "\r",
      " 33%|███▎      | 17/51 [00:11<00:21,  1.59it/s]"
     ]
    },
    {
     "name": "stdout",
     "output_type": "stream",
     "text": [
      "sub-075 - 13 - 13\n"
     ]
    },
    {
     "name": "stderr",
     "output_type": "stream",
     "text": [
      "\r",
      " 35%|███▌      | 18/51 [00:12<00:20,  1.63it/s]"
     ]
    },
    {
     "name": "stdout",
     "output_type": "stream",
     "text": [
      "sub-076 - 13 - 13\n"
     ]
    },
    {
     "name": "stderr",
     "output_type": "stream",
     "text": [
      "\r",
      " 37%|███▋      | 19/51 [00:12<00:17,  1.83it/s]"
     ]
    },
    {
     "name": "stdout",
     "output_type": "stream",
     "text": [
      "sub-077 - 13 - 13\n"
     ]
    },
    {
     "name": "stderr",
     "output_type": "stream",
     "text": [
      "\r",
      " 39%|███▉      | 20/51 [00:13<00:18,  1.65it/s]"
     ]
    },
    {
     "name": "stdout",
     "output_type": "stream",
     "text": [
      "sub-078 - 13 - 13\n"
     ]
    },
    {
     "name": "stderr",
     "output_type": "stream",
     "text": [
      "\r",
      " 41%|████      | 21/51 [00:13<00:17,  1.69it/s]"
     ]
    },
    {
     "name": "stdout",
     "output_type": "stream",
     "text": [
      "sub-079 - 13 - 13\n"
     ]
    },
    {
     "name": "stderr",
     "output_type": "stream",
     "text": [
      "\r",
      " 43%|████▎     | 22/51 [00:14<00:18,  1.59it/s]"
     ]
    },
    {
     "name": "stdout",
     "output_type": "stream",
     "text": [
      "sub-080 - 13 - 13\n"
     ]
    },
    {
     "name": "stderr",
     "output_type": "stream",
     "text": [
      "\r",
      " 45%|████▌     | 23/51 [00:15<00:18,  1.52it/s]"
     ]
    },
    {
     "name": "stdout",
     "output_type": "stream",
     "text": [
      "sub-081 - 13 - 13\n"
     ]
    },
    {
     "name": "stderr",
     "output_type": "stream",
     "text": [
      "\r",
      " 47%|████▋     | 24/51 [00:15<00:16,  1.62it/s]"
     ]
    },
    {
     "name": "stdout",
     "output_type": "stream",
     "text": [
      "sub-082 - 13 - 13\n"
     ]
    },
    {
     "name": "stderr",
     "output_type": "stream",
     "text": [
      "\r",
      " 49%|████▉     | 25/51 [00:16<00:14,  1.83it/s]"
     ]
    },
    {
     "name": "stdout",
     "output_type": "stream",
     "text": [
      "sub-083 - 13 - 13\n"
     ]
    },
    {
     "name": "stderr",
     "output_type": "stream",
     "text": [
      "\r",
      " 51%|█████     | 26/51 [00:16<00:12,  2.02it/s]"
     ]
    },
    {
     "name": "stdout",
     "output_type": "stream",
     "text": [
      "sub-084 - 13 - 13\n"
     ]
    },
    {
     "name": "stderr",
     "output_type": "stream",
     "text": [
      "\r",
      " 53%|█████▎    | 27/51 [00:16<00:10,  2.22it/s]"
     ]
    },
    {
     "name": "stdout",
     "output_type": "stream",
     "text": [
      "sub-086 - 13 - 13\n"
     ]
    },
    {
     "name": "stderr",
     "output_type": "stream",
     "text": [
      "\r",
      " 55%|█████▍    | 28/51 [00:17<00:12,  1.87it/s]"
     ]
    },
    {
     "name": "stdout",
     "output_type": "stream",
     "text": [
      "sub-087 - 13 - 13\n"
     ]
    },
    {
     "name": "stderr",
     "output_type": "stream",
     "text": [
      "\r",
      " 57%|█████▋    | 29/51 [00:17<00:10,  2.01it/s]"
     ]
    },
    {
     "name": "stdout",
     "output_type": "stream",
     "text": [
      "sub-088 - 13 - 13\n"
     ]
    },
    {
     "name": "stderr",
     "output_type": "stream",
     "text": [
      "\r",
      " 59%|█████▉    | 30/51 [00:18<00:09,  2.15it/s]"
     ]
    },
    {
     "name": "stdout",
     "output_type": "stream",
     "text": [
      "sub-089 - 13 - 13\n"
     ]
    },
    {
     "name": "stderr",
     "output_type": "stream",
     "text": [
      " 63%|██████▎   | 32/51 [00:19<00:07,  2.60it/s]"
     ]
    },
    {
     "name": "stdout",
     "output_type": "stream",
     "text": [
      "sub-091 - 13 - 13\n",
      "sub-092 - 13 - 13\n"
     ]
    },
    {
     "name": "stderr",
     "output_type": "stream",
     "text": [
      "\r",
      " 65%|██████▍   | 33/51 [00:19<00:06,  2.57it/s]"
     ]
    },
    {
     "name": "stdout",
     "output_type": "stream",
     "text": [
      "sub-093 - 13 - 13\n"
     ]
    },
    {
     "name": "stderr",
     "output_type": "stream",
     "text": [
      "\r",
      " 67%|██████▋   | 34/51 [00:19<00:06,  2.75it/s]"
     ]
    },
    {
     "name": "stdout",
     "output_type": "stream",
     "text": [
      "sub-094 - 13 - 13\n"
     ]
    },
    {
     "name": "stderr",
     "output_type": "stream",
     "text": [
      "\r",
      " 69%|██████▊   | 35/51 [00:19<00:05,  3.11it/s]"
     ]
    },
    {
     "name": "stdout",
     "output_type": "stream",
     "text": [
      "sub-095 - 13 - 13\n"
     ]
    },
    {
     "name": "stderr",
     "output_type": "stream",
     "text": [
      "\r",
      " 71%|███████   | 36/51 [00:20<00:05,  2.96it/s]"
     ]
    },
    {
     "name": "stdout",
     "output_type": "stream",
     "text": [
      "sub-096 - 13 - 13\n"
     ]
    },
    {
     "name": "stderr",
     "output_type": "stream",
     "text": [
      "\r",
      " 73%|███████▎  | 37/51 [00:20<00:04,  3.31it/s]"
     ]
    },
    {
     "name": "stdout",
     "output_type": "stream",
     "text": [
      "sub-097 - 13 - 13\n",
      "sub-098 - 13 - "
     ]
    },
    {
     "name": "stderr",
     "output_type": "stream",
     "text": [
      "\r",
      " 75%|███████▍  | 38/51 [00:20<00:03,  3.68it/s]"
     ]
    },
    {
     "name": "stdout",
     "output_type": "stream",
     "text": [
      "13\n"
     ]
    },
    {
     "name": "stderr",
     "output_type": "stream",
     "text": [
      " 78%|███████▊  | 40/51 [00:21<00:02,  3.90it/s]"
     ]
    },
    {
     "name": "stdout",
     "output_type": "stream",
     "text": [
      "sub-099 - 13 - 13\n",
      "sub-100 - 13 - 13\n"
     ]
    },
    {
     "name": "stderr",
     "output_type": "stream",
     "text": [
      "\r",
      " 80%|████████  | 41/51 [00:21<00:02,  4.00it/s]"
     ]
    },
    {
     "name": "stdout",
     "output_type": "stream",
     "text": [
      "sub-101 - 13 - 13\n"
     ]
    },
    {
     "name": "stderr",
     "output_type": "stream",
     "text": [
      "\r",
      " 82%|████████▏ | 42/51 [00:21<00:02,  4.14it/s]"
     ]
    },
    {
     "name": "stdout",
     "output_type": "stream",
     "text": [
      "sub-103 - 13 - 13\n"
     ]
    },
    {
     "name": "stderr",
     "output_type": "stream",
     "text": [
      "\r",
      " 84%|████████▍ | 43/51 [00:22<00:02,  3.54it/s]"
     ]
    },
    {
     "name": "stdout",
     "output_type": "stream",
     "text": [
      "sub-104 - 13 - 13\n"
     ]
    },
    {
     "name": "stderr",
     "output_type": "stream",
     "text": [
      "\r",
      " 86%|████████▋ | 44/51 [00:22<00:02,  3.41it/s]"
     ]
    },
    {
     "name": "stdout",
     "output_type": "stream",
     "text": [
      "sub-105 - 13 - 13\n"
     ]
    },
    {
     "name": "stderr",
     "output_type": "stream",
     "text": [
      "\r",
      " 88%|████████▊ | 45/51 [00:22<00:01,  3.52it/s]"
     ]
    },
    {
     "name": "stdout",
     "output_type": "stream",
     "text": [
      "sub-106 - 13 - 13\n"
     ]
    },
    {
     "name": "stderr",
     "output_type": "stream",
     "text": [
      "\r",
      " 90%|█████████ | 46/51 [00:23<00:01,  3.16it/s]"
     ]
    },
    {
     "name": "stdout",
     "output_type": "stream",
     "text": [
      "sub-108 - 13 - 13\n"
     ]
    },
    {
     "name": "stderr",
     "output_type": "stream",
     "text": [
      "\r",
      " 92%|█████████▏| 47/51 [00:23<00:01,  2.84it/s]"
     ]
    },
    {
     "name": "stdout",
     "output_type": "stream",
     "text": [
      "sub-109 - 13 - 13\n"
     ]
    },
    {
     "name": "stderr",
     "output_type": "stream",
     "text": [
      "\r",
      " 94%|█████████▍| 48/51 [00:23<00:01,  2.61it/s]"
     ]
    },
    {
     "name": "stdout",
     "output_type": "stream",
     "text": [
      "sub-110 - 13 - 13\n"
     ]
    },
    {
     "name": "stderr",
     "output_type": "stream",
     "text": [
      " 98%|█████████▊| 50/51 [00:24<00:00,  2.99it/s]"
     ]
    },
    {
     "name": "stdout",
     "output_type": "stream",
     "text": [
      "sub-113 - 13 - 13\n",
      "sub-114 - 13 - 13\n"
     ]
    },
    {
     "name": "stderr",
     "output_type": "stream",
     "text": [
      "100%|██████████| 51/51 [00:24<00:00,  2.04it/s]\n",
      " 10%|▉         | 5/51 [00:00<00:01, 42.78it/s]"
     ]
    },
    {
     "name": "stdout",
     "output_type": "stream",
     "text": [
      "sub-115 - 13 - 13\n",
      "sub-057 - 12 - 12\n",
      "sub-058 - 12 - 12\n",
      "sub-059 - 12 - 12\n",
      "sub-061 - 12 - 12\n",
      "sub-062 - 12 - 12\n",
      "sub-063 - 12 - 12\n",
      "sub-064 - 12 - 12\n",
      "sub-065 - 12 - 12\n"
     ]
    },
    {
     "name": "stderr",
     "output_type": "stream",
     "text": [
      " 29%|██▉       | 15/51 [00:00<00:00, 43.73it/s]"
     ]
    },
    {
     "name": "stdout",
     "output_type": "stream",
     "text": [
      "sub-066 - 12 - 12\n",
      "sub-067 - 12 - 12\n",
      "sub-068 - 12 - 12\n",
      "sub-069 - 12 - 12\n",
      "sub-070 - 12 - 12\n",
      "sub-072 - 12 - 12\n",
      "sub-073 - 12 - 12\n",
      "sub-074 - 12 - 12\n",
      "sub-075 - 12 - 12\n",
      "sub-076 - 12 - 12\n"
     ]
    },
    {
     "name": "stderr",
     "output_type": "stream",
     "text": [
      " 49%|████▉     | 25/51 [00:00<00:00, 44.61it/s]"
     ]
    },
    {
     "name": "stdout",
     "output_type": "stream",
     "text": [
      "sub-077 - 12 - 12\n",
      "sub-078 - 12 - 12\n",
      "sub-079 - 12 - 12\n",
      "sub-080 - 12 - 12\n",
      "sub-081 - 12 - 12\n",
      "sub-082 - 12 - 12\n",
      "sub-083 - 12 - 12\n",
      "sub-084 - 12 - 12\n",
      "sub-086 - 12 - 12\n",
      "sub-087 - 12 - 12\n"
     ]
    },
    {
     "name": "stderr",
     "output_type": "stream",
     "text": [
      "\r",
      " 59%|█████▉    | 30/51 [00:00<00:00, 44.42it/s]"
     ]
    },
    {
     "name": "stdout",
     "output_type": "stream",
     "text": [
      "sub-088 - 12 - 12\n",
      "sub-089 - 12 - 12\n",
      "sub-091 - 12 - 12\n",
      "sub-092 - 12 - 12\n"
     ]
    },
    {
     "name": "stderr",
     "output_type": "stream",
     "text": [
      "\r",
      " 67%|██████▋   | 34/51 [00:01<00:01, 11.78it/s]"
     ]
    },
    {
     "name": "stdout",
     "output_type": "stream",
     "text": [
      "sub-093 - 12 - 12\n",
      "sub-094 - 12 - 12\n",
      "sub-095 - 12 - 12\n"
     ]
    },
    {
     "name": "stderr",
     "output_type": "stream",
     "text": [
      "\r",
      " 73%|███████▎  | 37/51 [00:02<00:01,  7.27it/s]"
     ]
    },
    {
     "name": "stdout",
     "output_type": "stream",
     "text": [
      "sub-096 - 12 - 12\n",
      "sub-097 - 12 - 12\n",
      "sub-098 - 12 - 12\n",
      "sub-099 - 12 - 12\n"
     ]
    },
    {
     "name": "stderr",
     "output_type": "stream",
     "text": [
      "\r",
      " 78%|███████▊  | 40/51 [00:03<00:01,  6.01it/s]"
     ]
    },
    {
     "name": "stdout",
     "output_type": "stream",
     "text": [
      "sub-100 - 12 - 12\n",
      "sub-101 - 12 - 12\n"
     ]
    },
    {
     "name": "stderr",
     "output_type": "stream",
     "text": [
      "\r",
      " 82%|████████▏ | 42/51 [00:03<00:01,  5.47it/s]"
     ]
    },
    {
     "name": "stdout",
     "output_type": "stream",
     "text": [
      "sub-103 - 12 - 12\n",
      "sub-104 - 12 - 12\n"
     ]
    },
    {
     "name": "stderr",
     "output_type": "stream",
     "text": [
      "\r",
      " 86%|████████▋ | 44/51 [00:03<00:01,  5.24it/s]"
     ]
    },
    {
     "name": "stdout",
     "output_type": "stream",
     "text": [
      "sub-105 - 12 - 12\n",
      "sub-106 - 12 - 12\n"
     ]
    },
    {
     "name": "stderr",
     "output_type": "stream",
     "text": [
      "\r",
      " 90%|█████████ | 46/51 [00:04<00:01,  4.31it/s]"
     ]
    },
    {
     "name": "stdout",
     "output_type": "stream",
     "text": [
      "sub-108 - 12 - 12\n"
     ]
    },
    {
     "name": "stderr",
     "output_type": "stream",
     "text": [
      "\r",
      " 92%|█████████▏| 47/51 [00:04<00:01,  3.82it/s]"
     ]
    },
    {
     "name": "stdout",
     "output_type": "stream",
     "text": [
      "sub-109 - 12 - 12\n"
     ]
    },
    {
     "name": "stderr",
     "output_type": "stream",
     "text": [
      " 96%|█████████▌| 49/51 [00:05<00:00,  3.90it/s]"
     ]
    },
    {
     "name": "stdout",
     "output_type": "stream",
     "text": [
      "sub-110 - 12 - 12\n",
      "sub-113 - 12 - 12\n"
     ]
    },
    {
     "name": "stderr",
     "output_type": "stream",
     "text": [
      "\r",
      " 98%|█████████▊| 50/51 [00:05<00:00,  3.59it/s]"
     ]
    },
    {
     "name": "stdout",
     "output_type": "stream",
     "text": [
      "sub-114 - 12 - 12\n",
      "sub-115 - 12 - "
     ]
    },
    {
     "name": "stderr",
     "output_type": "stream",
     "text": [
      "100%|██████████| 51/51 [00:05<00:00,  8.51it/s]\n",
      " 10%|▉         | 5/51 [00:00<00:00, 49.28it/s]"
     ]
    },
    {
     "name": "stdout",
     "output_type": "stream",
     "text": [
      "12\n",
      "sub-057 - 8 - 8\n",
      "sub-058 - 8 - 8\n",
      "sub-059 - 8 - 8\n",
      "sub-061 - 8 - 8\n",
      "sub-062 - 8 - 8\n",
      "sub-063 - 8 - 8\n",
      "sub-064 - 8 - 8\n",
      "sub-065 - 8 - 8\n",
      "sub-066 - 8 - 8\n"
     ]
    },
    {
     "name": "stderr",
     "output_type": "stream",
     "text": [
      " 31%|███▏      | 16/51 [00:00<00:00, 50.31it/s]"
     ]
    },
    {
     "name": "stdout",
     "output_type": "stream",
     "text": [
      "sub-067 - 8 - 8\n",
      "sub-068 - 8 - 8\n",
      "sub-069 - 8 - 8\n",
      "sub-070 - 8 - 8\n",
      "sub-072 - 8 - 8\n",
      "sub-073 - 8 - 8\n",
      "sub-074 - 8 - 8\n",
      "sub-075 - 8 - 8\n",
      "sub-076 - 8 - 8\n",
      "sub-077 - 8 - 8\n",
      "sub-078 - 8 - 8\n"
     ]
    },
    {
     "name": "stderr",
     "output_type": "stream",
     "text": [
      " 53%|█████▎    | 27/51 [00:00<00:00, 49.90it/s]"
     ]
    },
    {
     "name": "stdout",
     "output_type": "stream",
     "text": [
      "sub-079 - 8 - 8\n",
      "sub-080 - 8 - 8\n",
      "sub-081 - 8 - 8\n",
      "sub-082 - 8 - 8\n",
      "sub-083 - 8 - 8\n",
      "sub-084 - 8 - 8\n",
      "sub-086 - 8 - 8\n",
      "sub-087 - 8 - 8\n",
      "sub-088 - 8 - 8\n",
      "sub-089 - 8 - 8\n",
      "sub-091 - 8 - 8\n"
     ]
    },
    {
     "name": "stderr",
     "output_type": "stream",
     "text": [
      "\r",
      " 63%|██████▎   | 32/51 [00:01<00:00, 21.24it/s]"
     ]
    },
    {
     "name": "stdout",
     "output_type": "stream",
     "text": [
      "sub-092 - 8 - 8\n",
      "sub-093 - 8 - 8\n",
      "sub-094 - 8 - 8\n",
      "sub-095 - 8 - 8\n"
     ]
    },
    {
     "name": "stderr",
     "output_type": "stream",
     "text": [
      "\r",
      " 71%|███████   | 36/51 [00:01<00:01, 13.49it/s]"
     ]
    },
    {
     "name": "stdout",
     "output_type": "stream",
     "text": [
      "sub-096 - 8 - 8\n",
      "sub-097 - 8 - 8\n"
     ]
    },
    {
     "name": "stderr",
     "output_type": "stream",
     "text": [
      "\r",
      " 76%|███████▋  | 39/51 [00:02<00:01,  9.49it/s]"
     ]
    },
    {
     "name": "stdout",
     "output_type": "stream",
     "text": [
      "sub-098 - 8 - 8\n",
      "sub-099 - 8 - 8\n"
     ]
    },
    {
     "name": "stderr",
     "output_type": "stream",
     "text": [
      "\r",
      " 80%|████████  | 41/51 [00:02<00:01,  7.70it/s]"
     ]
    },
    {
     "name": "stdout",
     "output_type": "stream",
     "text": [
      "sub-100 - 8 - 8\n",
      "sub-101 - 8 - 8\n",
      "sub-103 - 8 - 8\n"
     ]
    },
    {
     "name": "stderr",
     "output_type": "stream",
     "text": [
      "\r",
      " 84%|████████▍ | 43/51 [00:02<00:01,  7.33it/s]"
     ]
    },
    {
     "name": "stdout",
     "output_type": "stream",
     "text": [
      "sub-104 - 8 - 8\n",
      "sub-105 - 8 - 8\n"
     ]
    },
    {
     "name": "stderr",
     "output_type": "stream",
     "text": [
      " 90%|█████████ | 46/51 [00:03<00:00,  6.07it/s]"
     ]
    },
    {
     "name": "stdout",
     "output_type": "stream",
     "text": [
      "sub-106 - 8 - 8\n",
      "sub-108 - 8 - 8\n"
     ]
    },
    {
     "name": "stderr",
     "output_type": "stream",
     "text": [
      " 94%|█████████▍| 48/51 [00:03<00:00,  6.82it/s]"
     ]
    },
    {
     "name": "stdout",
     "output_type": "stream",
     "text": [
      "sub-109 - 8 - 8\n",
      "sub-110 - 8 - 8\n"
     ]
    },
    {
     "name": "stderr",
     "output_type": "stream",
     "text": [
      "\r",
      " 96%|█████████▌| 49/51 [00:03<00:00,  6.47it/s]"
     ]
    },
    {
     "name": "stdout",
     "output_type": "stream",
     "text": [
      "sub-113 - 8 - 8\n",
      "sub-114 - 8 - 8\n"
     ]
    },
    {
     "name": "stderr",
     "output_type": "stream",
     "text": [
      "100%|██████████| 51/51 [00:04<00:00, 12.23it/s]\n",
      "  8%|▊         | 4/51 [00:00<00:01, 39.81it/s]"
     ]
    },
    {
     "name": "stdout",
     "output_type": "stream",
     "text": [
      "sub-115 - 8 - 8\n",
      "sub-057 - 13 - 13\n",
      "sub-058 - 13 - 13\n",
      "sub-059 - 13 - 13\n",
      "sub-061 - 13 - 13\n",
      "sub-062 - 13 - 13\n",
      "sub-063 - 13 - 13\n",
      "sub-064 - 13 - 13\n",
      "sub-065 - 13 - 13\n"
     ]
    },
    {
     "name": "stderr",
     "output_type": "stream",
     "text": [
      " 27%|██▋       | 14/51 [00:00<00:00, 41.74it/s]"
     ]
    },
    {
     "name": "stdout",
     "output_type": "stream",
     "text": [
      "sub-066 - 13 - 13\n",
      "sub-067 - 13 - 13\n",
      "sub-068 - 13 - 13\n",
      "sub-069 - 13 - 13\n",
      "sub-070 - 13 - 13\n",
      "sub-072 - 13 - 13\n",
      "sub-073 - 13 - 13\n",
      "sub-074 - 13 - 13\n",
      "sub-075 - 13 - 13\n"
     ]
    },
    {
     "name": "stderr",
     "output_type": "stream",
     "text": [
      " 47%|████▋     | 24/51 [00:00<00:00, 44.05it/s]"
     ]
    },
    {
     "name": "stdout",
     "output_type": "stream",
     "text": [
      "sub-076 - 13 - 13\n",
      "sub-077 - 13 - 13\n",
      "sub-078 - 13 - 13\n",
      "sub-079 - 13 - 13\n",
      "sub-080 - 13 - 13\n",
      "sub-081 - 13 - 13\n",
      "sub-082 - 13 - 13\n",
      "sub-083 - 13 - 13\n",
      "sub-084 - 13 - 13\n",
      "sub-086 - 13 - 13\n"
     ]
    },
    {
     "name": "stderr",
     "output_type": "stream",
     "text": [
      "\r",
      " 57%|█████▋    | 29/51 [00:00<00:00, 44.30it/s]"
     ]
    },
    {
     "name": "stdout",
     "output_type": "stream",
     "text": [
      "sub-087 - 13 - 13\n",
      "sub-088 - 13 - 13\n",
      "sub-089 - 13 - 13\n",
      "sub-091 - 13 - 13\n"
     ]
    },
    {
     "name": "stderr",
     "output_type": "stream",
     "text": [
      "\r",
      " 65%|██████▍   | 33/51 [00:01<00:01, 17.46it/s]"
     ]
    },
    {
     "name": "stdout",
     "output_type": "stream",
     "text": [
      "sub-092 - 13 - 13\n",
      "sub-093 - 13 - 13\n",
      "sub-094 - 13 - 13\n",
      "sub-095 - 13 - 13\n"
     ]
    },
    {
     "name": "stderr",
     "output_type": "stream",
     "text": [
      "\r",
      " 71%|███████   | 36/51 [00:02<00:01,  8.30it/s]"
     ]
    },
    {
     "name": "stdout",
     "output_type": "stream",
     "text": [
      "sub-096 - 13 - 13\n",
      "sub-097 - 13 - 13\n",
      "sub-098 - 13 - 13\n"
     ]
    },
    {
     "name": "stderr",
     "output_type": "stream",
     "text": [
      "\r",
      " 76%|███████▋  | 39/51 [00:03<00:02,  5.22it/s]"
     ]
    },
    {
     "name": "stdout",
     "output_type": "stream",
     "text": [
      "sub-099 - 13 - 13\n",
      "sub-100 - 13 - 13\n"
     ]
    },
    {
     "name": "stderr",
     "output_type": "stream",
     "text": [
      "\r",
      " 80%|████████  | 41/51 [00:03<00:02,  4.76it/s]"
     ]
    },
    {
     "name": "stdout",
     "output_type": "stream",
     "text": [
      "sub-101 - 13 - 13\n",
      "sub-103 - 13 - 13\n"
     ]
    },
    {
     "name": "stderr",
     "output_type": "stream",
     "text": [
      "\r",
      " 84%|████████▍ | 43/51 [00:04<00:01,  4.61it/s]"
     ]
    },
    {
     "name": "stdout",
     "output_type": "stream",
     "text": [
      "sub-104 - 13 - 13\n"
     ]
    },
    {
     "name": "stderr",
     "output_type": "stream",
     "text": [
      "\r",
      " 88%|████████▊ | 45/51 [00:04<00:01,  4.22it/s]"
     ]
    },
    {
     "name": "stdout",
     "output_type": "stream",
     "text": [
      "sub-105 - 13 - 13\n",
      "sub-106 - 13 - 13\n"
     ]
    },
    {
     "name": "stderr",
     "output_type": "stream",
     "text": [
      "\r",
      " 92%|█████████▏| 47/51 [00:04<00:00,  4.92it/s]"
     ]
    },
    {
     "name": "stdout",
     "output_type": "stream",
     "text": [
      "sub-108 - 13 - 13\n",
      "sub-109 - 13 - 13\n"
     ]
    },
    {
     "name": "stderr",
     "output_type": "stream",
     "text": [
      " 96%|█████████▌| 49/51 [00:05<00:00,  5.13it/s]"
     ]
    },
    {
     "name": "stdout",
     "output_type": "stream",
     "text": [
      "sub-110 - 13 - 13\n",
      "sub-113 - 13 - 13\n"
     ]
    },
    {
     "name": "stderr",
     "output_type": "stream",
     "text": [
      "\r",
      " 98%|█████████▊| 50/51 [00:05<00:00,  4.67it/s]"
     ]
    },
    {
     "name": "stdout",
     "output_type": "stream",
     "text": [
      "sub-114 - 13 - 13\n",
      "sub-115 - 13 - 13\n"
     ]
    },
    {
     "name": "stderr",
     "output_type": "stream",
     "text": [
      "100%|██████████| 51/51 [00:05<00:00,  8.91it/s]\n",
      " 10%|▉         | 5/51 [00:00<00:01, 43.70it/s]"
     ]
    },
    {
     "name": "stdout",
     "output_type": "stream",
     "text": [
      "sub-057 - 12 - 12\n",
      "sub-058 - 12 - 12\n",
      "sub-059 - 12 - 12\n",
      "sub-061 - 12 - 12\n",
      "sub-062 - 12 - 12\n",
      "sub-063 - 12 - 12\n",
      "sub-064 - 12 - 12\n",
      "sub-065 - 12 - 12\n"
     ]
    },
    {
     "name": "stderr",
     "output_type": "stream",
     "text": [
      " 29%|██▉       | 15/51 [00:00<00:00, 42.69it/s]"
     ]
    },
    {
     "name": "stdout",
     "output_type": "stream",
     "text": [
      "sub-066 - 12 - 12\n",
      "sub-067 - 12 - 12\n",
      "sub-068 - 12 - 12\n",
      "sub-069 - 12 - 12\n",
      "sub-070 - 12 - 12\n",
      "sub-072 - 12 - 12\n",
      "sub-073 - 12 - 12\n",
      "sub-074 - 12 - 12\n",
      "sub-075 - 12 - 12\n"
     ]
    },
    {
     "name": "stderr",
     "output_type": "stream",
     "text": [
      " 49%|████▉     | 25/51 [00:00<00:00, 44.84it/s]"
     ]
    },
    {
     "name": "stdout",
     "output_type": "stream",
     "text": [
      "sub-076 - 12 - 12\n",
      "sub-077 - 12 - 12\n",
      "sub-078 - 12 - 12\n",
      "sub-079 - 12 - 12\n",
      "sub-080 - 12 - 12\n",
      "sub-081 - 12 - 12\n",
      "sub-082 - 12 - 12\n",
      "sub-083 - 12 - 12\n",
      "sub-084 - 12 - 12\n",
      "sub-086 - 12 - 12\n"
     ]
    },
    {
     "name": "stderr",
     "output_type": "stream",
     "text": [
      "\r",
      " 59%|█████▉    | 30/51 [00:00<00:00, 44.20it/s]"
     ]
    },
    {
     "name": "stdout",
     "output_type": "stream",
     "text": [
      "sub-087 - 12 - 12\n",
      "sub-088 - 12 - 12\n",
      "sub-089 - 12 - 12\n",
      "sub-091 - 12 - 12\n",
      "sub-092 - 12 - 12\n",
      "sub-093 - 12 - 12\n"
     ]
    },
    {
     "name": "stderr",
     "output_type": "stream",
     "text": [
      "\r",
      " 67%|██████▋   | 34/51 [00:01<00:01, 13.14it/s]"
     ]
    },
    {
     "name": "stdout",
     "output_type": "stream",
     "text": [
      "sub-094 - 12 - 12\n",
      "sub-095 - 12 - 12\n",
      "sub-096 - 12 - 12\n"
     ]
    },
    {
     "name": "stderr",
     "output_type": "stream",
     "text": [
      "\r",
      " 73%|███████▎  | 37/51 [00:02<00:01,  9.43it/s]"
     ]
    },
    {
     "name": "stdout",
     "output_type": "stream",
     "text": [
      "sub-097 - 12 - 12\n",
      "sub-098 - 12 - 12\n"
     ]
    },
    {
     "name": "stderr",
     "output_type": "stream",
     "text": [
      "\r",
      " 78%|███████▊  | 40/51 [00:02<00:01,  7.18it/s]"
     ]
    },
    {
     "name": "stdout",
     "output_type": "stream",
     "text": [
      "sub-099 - 12 - 12\n",
      "sub-100 - 12 - 12\n",
      "sub-101 - 12 - 12\n"
     ]
    },
    {
     "name": "stderr",
     "output_type": "stream",
     "text": [
      "\r",
      " 82%|████████▏ | 42/51 [00:03<00:01,  5.61it/s]"
     ]
    },
    {
     "name": "stdout",
     "output_type": "stream",
     "text": [
      "sub-103 - 12 - 12\n",
      "sub-104 - 12 - 12\n"
     ]
    },
    {
     "name": "stderr",
     "output_type": "stream",
     "text": [
      "\r",
      " 86%|████████▋ | 44/51 [00:03<00:01,  5.30it/s]"
     ]
    },
    {
     "name": "stdout",
     "output_type": "stream",
     "text": [
      "sub-105 - 12 - 12\n",
      "sub-106 - 12 - 12\n"
     ]
    },
    {
     "name": "stderr",
     "output_type": "stream",
     "text": [
      " 92%|█████████▏| 47/51 [00:04<00:00,  6.44it/s]"
     ]
    },
    {
     "name": "stdout",
     "output_type": "stream",
     "text": [
      "sub-108 - 12 - 12\n",
      "sub-109 - 12 - 12\n"
     ]
    },
    {
     "name": "stderr",
     "output_type": "stream",
     "text": [
      "\r",
      " 94%|█████████▍| 48/51 [00:04<00:00,  5.98it/s]"
     ]
    },
    {
     "name": "stdout",
     "output_type": "stream",
     "text": [
      "sub-110 - 12 - 12\n"
     ]
    },
    {
     "name": "stderr",
     "output_type": "stream",
     "text": [
      "\r",
      " 96%|█████████▌| 49/51 [00:04<00:00,  4.77it/s]"
     ]
    },
    {
     "name": "stdout",
     "output_type": "stream",
     "text": [
      "sub-113 - 12 - 12\n"
     ]
    },
    {
     "name": "stderr",
     "output_type": "stream",
     "text": [
      "100%|██████████| 51/51 [00:04<00:00, 10.35it/s]\n",
      "  0%|          | 0/51 [00:00<?, ?it/s]"
     ]
    },
    {
     "name": "stdout",
     "output_type": "stream",
     "text": [
      "sub-114 - 12 - 12\n",
      "sub-115 - 12 - 12\n",
      "sub-057 - 8 - 8\n",
      "sub-058 - 8 - 8\n"
     ]
    },
    {
     "name": "stderr",
     "output_type": "stream",
     "text": [
      " 25%|██▌       | 13/51 [00:00<00:00, 60.43it/s]"
     ]
    },
    {
     "name": "stdout",
     "output_type": "stream",
     "text": [
      "sub-059 - 8 - 8\n",
      "sub-061 - 8 - 8\n",
      "sub-062 - 8 - 8\n",
      "sub-063 - 8 - 8\n",
      "sub-064 - 8 - 8\n",
      "sub-065 - 8 - 8\n",
      "sub-066 - 8 - 8\n",
      "sub-067 - 8 - 8\n",
      "sub-068 - 8 - 8\n",
      "sub-069 - 8 - 8\n",
      "sub-070 - 8 - 8\n",
      "sub-072 - 8 - 8\n",
      "sub-073 - 8 - 8\n"
     ]
    },
    {
     "name": "stderr",
     "output_type": "stream",
     "text": [
      " 53%|█████▎    | 27/51 [00:00<00:00, 62.25it/s]"
     ]
    },
    {
     "name": "stdout",
     "output_type": "stream",
     "text": [
      "sub-074 - 8 - 8\n",
      "sub-075 - 8 - 8\n",
      "sub-076 - 8 - 8\n",
      "sub-077 - 8 - 8\n",
      "sub-078 - 8 - 8\n",
      "sub-079 - 8 - 8\n",
      "sub-080 - 8 - 8\n",
      "sub-081 - 8 - 8\n",
      "sub-082 - 8 - 8\n",
      "sub-083 - 8 - 8\n",
      "sub-084 - 8 - 8\n",
      "sub-086 - 8 - 8\n",
      "sub-087 - 8 - 8\n",
      "sub-088 - 8 - 8\n",
      "sub-089 - 8 - 8\n",
      "sub-091 - 8 - 8\n"
     ]
    },
    {
     "name": "stderr",
     "output_type": "stream",
     "text": [
      "\r",
      " 63%|██████▎   | 32/51 [00:00<00:00, 34.13it/s]"
     ]
    },
    {
     "name": "stdout",
     "output_type": "stream",
     "text": [
      "sub-092 - 8 - 8\n",
      "sub-093 - 8 - 8\n",
      "sub-094 - 8 - 8\n",
      "sub-095 - 8 - 8\n"
     ]
    },
    {
     "name": "stderr",
     "output_type": "stream",
     "text": [
      "\r",
      " 71%|███████   | 36/51 [00:01<00:00, 16.59it/s]"
     ]
    },
    {
     "name": "stdout",
     "output_type": "stream",
     "text": [
      "sub-096 - 8 - 8\n",
      "sub-097 - 8 - 8\n",
      "sub-098 - 8 - 8\n"
     ]
    },
    {
     "name": "stderr",
     "output_type": "stream",
     "text": [
      "\r",
      " 76%|███████▋  | 39/51 [00:01<00:01,  9.92it/s]"
     ]
    },
    {
     "name": "stdout",
     "output_type": "stream",
     "text": [
      "sub-099 - 8 - 8\n",
      "sub-100 - 8 - 8\n"
     ]
    },
    {
     "name": "stderr",
     "output_type": "stream",
     "text": [
      "\r",
      " 82%|████████▏ | 42/51 [00:02<00:01,  8.57it/s]"
     ]
    },
    {
     "name": "stdout",
     "output_type": "stream",
     "text": [
      "sub-101 - 8 - 8\n",
      "sub-103 - 8 - 8\n"
     ]
    },
    {
     "name": "stderr",
     "output_type": "stream",
     "text": [
      "\r",
      " 86%|████████▋ | 44/51 [00:02<00:00,  8.82it/s]"
     ]
    },
    {
     "name": "stdout",
     "output_type": "stream",
     "text": [
      "sub-104 - 8 - 8\n",
      "sub-105 - 8 - 8\n",
      "sub-106 - 8 - 8\n"
     ]
    },
    {
     "name": "stderr",
     "output_type": "stream",
     "text": [
      " 94%|█████████▍| 48/51 [00:02<00:00, 10.58it/s]"
     ]
    },
    {
     "name": "stdout",
     "output_type": "stream",
     "text": [
      "sub-108 - 8 - 8\n",
      "sub-109 - 8 - 8\n",
      "sub-110 - 8 - 8\n"
     ]
    },
    {
     "name": "stderr",
     "output_type": "stream",
     "text": [
      "\r",
      " 98%|█████████▊| 50/51 [00:03<00:00,  9.94it/s]"
     ]
    },
    {
     "name": "stdout",
     "output_type": "stream",
     "text": [
      "sub-113 - 8 - 8\n",
      "sub-114 - 8 - 8\n"
     ]
    },
    {
     "name": "stderr",
     "output_type": "stream",
     "text": [
      "100%|██████████| 51/51 [00:03<00:00, 16.05it/s]\n",
      "  8%|▊         | 4/51 [00:00<00:01, 37.86it/s]"
     ]
    },
    {
     "name": "stdout",
     "output_type": "stream",
     "text": [
      "sub-115 - 8 - 8\n",
      "sub-057 - 13 - 13\n",
      "sub-058 - 13 - 13\n",
      "sub-059 - 13 - 13\n",
      "sub-061 - 13 - 13\n",
      "sub-062 - 13 - 13\n",
      "sub-063 - 13 - 13\n",
      "sub-064 - 13 - 13\n"
     ]
    },
    {
     "name": "stderr",
     "output_type": "stream",
     "text": [
      " 25%|██▌       | 13/51 [00:00<00:00, 39.20it/s]"
     ]
    },
    {
     "name": "stdout",
     "output_type": "stream",
     "text": [
      "sub-065 - 13 - 13\n",
      "sub-066 - 13 - 13\n",
      "sub-067 - 13 - 13\n",
      "sub-068 - 13 - 13\n",
      "sub-069 - 13 - 13\n",
      "sub-070 - 13 - 13\n",
      "sub-072 - 13 - 13\n",
      "sub-073 - 13 - 13\n",
      "sub-074 - 13 - 13\n"
     ]
    },
    {
     "name": "stderr",
     "output_type": "stream",
     "text": [
      " 45%|████▌     | 23/51 [00:00<00:00, 40.16it/s]"
     ]
    },
    {
     "name": "stdout",
     "output_type": "stream",
     "text": [
      "sub-075 - 13 - 13\n",
      "sub-076 - 13 - 13\n",
      "sub-077 - 13 - 13\n",
      "sub-078 - 13 - 13\n",
      "sub-079 - 13 - 13\n",
      "sub-080 - 13 - 13\n",
      "sub-081 - 13 - 13\n",
      "sub-082 - 13 - 13\n",
      "sub-083 - 13 - 13\n"
     ]
    },
    {
     "name": "stderr",
     "output_type": "stream",
     "text": [
      "\r",
      " 53%|█████▎    | 27/51 [00:00<00:00, 39.60it/s]"
     ]
    },
    {
     "name": "stdout",
     "output_type": "stream",
     "text": [
      "sub-084 - 13 - 13\n",
      "sub-086 - 13 - 13\n",
      "sub-087 - 13 - 13\n",
      "sub-088 - 13 - 13\n",
      "sub-089 - 13 - 13\n"
     ]
    },
    {
     "name": "stderr",
     "output_type": "stream",
     "text": [
      "\r",
      " 61%|██████    | 31/51 [00:00<00:00, 26.38it/s]"
     ]
    },
    {
     "name": "stdout",
     "output_type": "stream",
     "text": [
      "sub-091 - 13 - 13\n",
      "sub-092 - 13 - 13\n",
      "sub-093 - 13 - 13\n"
     ]
    },
    {
     "name": "stderr",
     "output_type": "stream",
     "text": [
      "\r",
      " 67%|██████▋   | 34/51 [00:01<00:01, 10.59it/s]"
     ]
    },
    {
     "name": "stdout",
     "output_type": "stream",
     "text": [
      "sub-094 - 13 - 13\n",
      "sub-095 - 13 - 13\n",
      "sub-096 - 13 - 13\n"
     ]
    },
    {
     "name": "stderr",
     "output_type": "stream",
     "text": [
      "\r",
      " 73%|███████▎  | 37/51 [00:02<00:02,  6.29it/s]"
     ]
    },
    {
     "name": "stdout",
     "output_type": "stream",
     "text": [
      "sub-097 - 13 - 13\n",
      "sub-098 - 13 - 13\n"
     ]
    },
    {
     "name": "stderr",
     "output_type": "stream",
     "text": [
      "\r",
      " 76%|███████▋  | 39/51 [00:03<00:02,  5.56it/s]"
     ]
    },
    {
     "name": "stdout",
     "output_type": "stream",
     "text": [
      "sub-099 - 13 - 13\n",
      "sub-100 - 13 - 13\n"
     ]
    },
    {
     "name": "stderr",
     "output_type": "stream",
     "text": [
      "\r",
      " 80%|████████  | 41/51 [00:03<00:02,  4.99it/s]"
     ]
    },
    {
     "name": "stdout",
     "output_type": "stream",
     "text": [
      "sub-101 - 13 - 13\n"
     ]
    },
    {
     "name": "stderr",
     "output_type": "stream",
     "text": [
      "\r",
      " 84%|████████▍ | 43/51 [00:03<00:01,  5.04it/s]"
     ]
    },
    {
     "name": "stdout",
     "output_type": "stream",
     "text": [
      "sub-103 - 13 - 13\n",
      "sub-104 - 13 - 13\n"
     ]
    },
    {
     "name": "stderr",
     "output_type": "stream",
     "text": [
      " 88%|████████▊ | 45/51 [00:04<00:00,  6.04it/s]"
     ]
    },
    {
     "name": "stdout",
     "output_type": "stream",
     "text": [
      "sub-105 - 13 - 13\n",
      "sub-106 - 13 - 13\n"
     ]
    },
    {
     "name": "stderr",
     "output_type": "stream",
     "text": [
      "\r",
      " 90%|█████████ | 46/51 [00:04<00:01,  3.85it/s]"
     ]
    },
    {
     "name": "stdout",
     "output_type": "stream",
     "text": [
      "sub-108 - 13 - 13\n"
     ]
    },
    {
     "name": "stderr",
     "output_type": "stream",
     "text": [
      "\r",
      " 92%|█████████▏| 47/51 [00:05<00:01,  3.10it/s]"
     ]
    },
    {
     "name": "stdout",
     "output_type": "stream",
     "text": [
      "sub-109 - 13 - 13\n"
     ]
    },
    {
     "name": "stderr",
     "output_type": "stream",
     "text": [
      "\r",
      " 94%|█████████▍| 48/51 [00:05<00:00,  3.22it/s]"
     ]
    },
    {
     "name": "stdout",
     "output_type": "stream",
     "text": [
      "sub-110 - 13 - 13\n"
     ]
    },
    {
     "name": "stderr",
     "output_type": "stream",
     "text": [
      " 98%|█████████▊| 50/51 [00:05<00:00,  3.79it/s]"
     ]
    },
    {
     "name": "stdout",
     "output_type": "stream",
     "text": [
      "sub-113 - 13 - 13\n",
      "sub-114 - 13 - 13\n"
     ]
    },
    {
     "name": "stderr",
     "output_type": "stream",
     "text": [
      "100%|██████████| 51/51 [00:06<00:00,  8.39it/s]\n",
      " 10%|▉         | 5/51 [00:00<00:01, 45.47it/s]"
     ]
    },
    {
     "name": "stdout",
     "output_type": "stream",
     "text": [
      "sub-115 - 13 - 13\n",
      "sub-057 - 12 - 12\n",
      "sub-058 - 12 - 12\n",
      "sub-059 - 12 - 12\n",
      "sub-061 - 12 - 12\n",
      "sub-062 - 12 - 12\n",
      "sub-063 - 12 - 12\n",
      "sub-064 - 12 - 12\n",
      "sub-065 - 12 - 12\n"
     ]
    },
    {
     "name": "stderr",
     "output_type": "stream",
     "text": [
      " 29%|██▉       | 15/51 [00:00<00:00, 44.50it/s]"
     ]
    },
    {
     "name": "stdout",
     "output_type": "stream",
     "text": [
      "sub-066 - 12 - 12\n",
      "sub-067 - 12 - 12\n",
      "sub-068 - 12 - 12\n",
      "sub-069 - 12 - 12\n",
      "sub-070 - 12 - 12\n",
      "sub-072 - 12 - 12\n",
      "sub-073 - 12 - 12\n",
      "sub-074 - 12 - 12\n",
      "sub-075 - 12 - 12\n"
     ]
    },
    {
     "name": "stderr",
     "output_type": "stream",
     "text": [
      " 49%|████▉     | 25/51 [00:00<00:00, 43.61it/s]"
     ]
    },
    {
     "name": "stdout",
     "output_type": "stream",
     "text": [
      "sub-076 - 12 - 12\n",
      "sub-077 - 12 - 12\n",
      "sub-078 - 12 - 12\n",
      "sub-079 - 12 - 12\n",
      "sub-080 - 12 - 12\n",
      "sub-081 - 12 - 12\n",
      "sub-082 - 12 - 12\n",
      "sub-083 - 12 - 12\n",
      "sub-084 - 12 - 12\n"
     ]
    },
    {
     "name": "stderr",
     "output_type": "stream",
     "text": [
      "\r",
      " 59%|█████▉    | 30/51 [00:00<00:00, 43.64it/s]"
     ]
    },
    {
     "name": "stdout",
     "output_type": "stream",
     "text": [
      "sub-086 - 12 - 12\n",
      "sub-087 - 12 - 12\n",
      "sub-088 - 12 - 12\n",
      "sub-089 - 12 - 12\n",
      "sub-091 - 12 - 12\n",
      "sub-092 - 12 - 12\n",
      "sub-093 - 12 - 12\n"
     ]
    },
    {
     "name": "stderr",
     "output_type": "stream",
     "text": [
      "\r",
      " 67%|██████▋   | 34/51 [00:01<00:01, 10.24it/s]"
     ]
    },
    {
     "name": "stdout",
     "output_type": "stream",
     "text": [
      "sub-094 - 12 - 12\n",
      "sub-095 - 12 - 12\n",
      "sub-096 - 12 - 12\n"
     ]
    },
    {
     "name": "stderr",
     "output_type": "stream",
     "text": [
      "\r",
      " 73%|███████▎  | 37/51 [00:02<00:01,  8.35it/s]"
     ]
    },
    {
     "name": "stdout",
     "output_type": "stream",
     "text": [
      "sub-097 - 12 - 12\n",
      "sub-098 - 12 - 12\n"
     ]
    },
    {
     "name": "stderr",
     "output_type": "stream",
     "text": [
      "\r",
      " 78%|███████▊  | 40/51 [00:02<00:01,  6.80it/s]"
     ]
    },
    {
     "name": "stdout",
     "output_type": "stream",
     "text": [
      "sub-099 - 12 - 12\n",
      "sub-100 - 12 - 12\n"
     ]
    },
    {
     "name": "stderr",
     "output_type": "stream",
     "text": [
      "\r",
      " 82%|████████▏ | 42/51 [00:03<00:01,  6.63it/s]"
     ]
    },
    {
     "name": "stdout",
     "output_type": "stream",
     "text": [
      "sub-101 - 12 - 12\n",
      "sub-103 - 12 - 12\n"
     ]
    },
    {
     "name": "stderr",
     "output_type": "stream",
     "text": [
      "\r",
      " 86%|████████▋ | 44/51 [00:03<00:01,  5.98it/s]"
     ]
    },
    {
     "name": "stdout",
     "output_type": "stream",
     "text": [
      "sub-104 - 12 - 12\n",
      "sub-105 - 12 - 12\n",
      "sub-106 - 12 - 12\n"
     ]
    },
    {
     "name": "stderr",
     "output_type": "stream",
     "text": [
      "\r",
      " 90%|█████████ | 46/51 [00:04<00:00,  5.10it/s]"
     ]
    },
    {
     "name": "stdout",
     "output_type": "stream",
     "text": [
      "sub-108 - 12 - 12\n"
     ]
    },
    {
     "name": "stderr",
     "output_type": "stream",
     "text": [
      "\r",
      " 92%|█████████▏| 47/51 [00:04<00:00,  4.35it/s]"
     ]
    },
    {
     "name": "stdout",
     "output_type": "stream",
     "text": [
      "sub-109 - 12 - 12\n"
     ]
    },
    {
     "name": "stderr",
     "output_type": "stream",
     "text": [
      " 96%|█████████▌| 49/51 [00:04<00:00,  5.20it/s]"
     ]
    },
    {
     "name": "stdout",
     "output_type": "stream",
     "text": [
      "sub-110 - 12 - 12\n",
      "sub-113 - 12 - 12\n"
     ]
    },
    {
     "name": "stderr",
     "output_type": "stream",
     "text": [
      "100%|██████████| 51/51 [00:05<00:00,  9.99it/s]\n",
      "  0%|          | 0/51 [00:00<?, ?it/s]"
     ]
    },
    {
     "name": "stdout",
     "output_type": "stream",
     "text": [
      "sub-114 - 12 - 12\n",
      "sub-115 - 12 - 12\n",
      "sub-057 - 8 - 8\n"
     ]
    },
    {
     "name": "stderr",
     "output_type": "stream",
     "text": [
      " 27%|██▋       | 14/51 [00:00<00:00, 64.28it/s]"
     ]
    },
    {
     "name": "stdout",
     "output_type": "stream",
     "text": [
      "sub-058 - 8 - 8\n",
      "sub-059 - 8 - 8\n",
      "sub-061 - 8 - 8\n",
      "sub-062 - 8 - 8\n",
      "sub-063 - 8 - 8\n",
      "sub-064 - 8 - 8\n",
      "sub-065 - 8 - 8\n",
      "sub-066 - 8 - 8\n",
      "sub-067 - 8 - 8\n",
      "sub-068 - 8 - 8\n",
      "sub-069 - 8 - 8\n",
      "sub-070 - 8 - 8\n",
      "sub-072 - 8 - 8\n",
      "sub-073 - 8 - 8\n"
     ]
    },
    {
     "name": "stderr",
     "output_type": "stream",
     "text": [
      " 55%|█████▍    | 28/51 [00:00<00:00, 62.76it/s]"
     ]
    },
    {
     "name": "stdout",
     "output_type": "stream",
     "text": [
      "sub-074 - 8 - 8\n",
      "sub-075 - 8 - 8\n",
      "sub-076 - 8 - 8\n",
      "sub-077 - 8 - 8\n",
      "sub-078 - 8 - 8\n",
      "sub-079 - 8 - 8\n",
      "sub-080 - 8 - 8\n",
      "sub-081 - 8 - 8\n",
      "sub-082 - 8 - 8\n",
      "sub-083 - 8 - 8\n",
      "sub-084 - 8 - 8\n",
      "sub-086 - 8 - 8\n",
      "sub-087 - 8 - 8\n",
      "sub-088 - 8 - 8\n",
      "sub-089 - 8 - 8\n",
      "sub-091 - 8 - 8\n",
      "sub-092 - 8 - 8\n"
     ]
    },
    {
     "name": "stderr",
     "output_type": "stream",
     "text": [
      "\r",
      " 65%|██████▍   | 33/51 [00:00<00:00, 24.76it/s]"
     ]
    },
    {
     "name": "stdout",
     "output_type": "stream",
     "text": [
      "sub-093 - 8 - 8\n",
      "sub-094 - 8 - 8\n",
      "sub-095 - 8 - 8\n"
     ]
    },
    {
     "name": "stderr",
     "output_type": "stream",
     "text": [
      "\r",
      " 73%|███████▎  | 37/51 [00:01<00:01, 13.58it/s]"
     ]
    },
    {
     "name": "stdout",
     "output_type": "stream",
     "text": [
      "sub-096 - 8 - 8\n",
      "sub-097 - 8 - 8\n",
      "sub-098 - 8 - 8\n"
     ]
    },
    {
     "name": "stderr",
     "output_type": "stream",
     "text": [
      "\r",
      " 78%|███████▊  | 40/51 [00:01<00:00, 12.61it/s]"
     ]
    },
    {
     "name": "stdout",
     "output_type": "stream",
     "text": [
      "sub-099 - 8 - 8\n",
      "sub-100 - 8 - 8\n",
      "sub-101 - 8 - 8\n"
     ]
    },
    {
     "name": "stderr",
     "output_type": "stream",
     "text": [
      "\r",
      " 84%|████████▍ | 43/51 [00:02<00:00, 11.56it/s]"
     ]
    },
    {
     "name": "stdout",
     "output_type": "stream",
     "text": [
      "sub-103 - 8 - 8\n",
      "sub-104 - 8 - 8\n"
     ]
    },
    {
     "name": "stderr",
     "output_type": "stream",
     "text": [
      "\r",
      " 88%|████████▊ | 45/51 [00:02<00:00,  9.79it/s]"
     ]
    },
    {
     "name": "stdout",
     "output_type": "stream",
     "text": [
      "sub-105 - 8 - 8\n",
      "sub-106 - 8 - 8\n",
      "sub-108 - 8 - 8\n"
     ]
    },
    {
     "name": "stderr",
     "output_type": "stream",
     "text": [
      " 96%|█████████▌| 49/51 [00:02<00:00,  8.65it/s]"
     ]
    },
    {
     "name": "stdout",
     "output_type": "stream",
     "text": [
      "sub-109 - 8 - 8\n",
      "sub-110 - 8 - 8\n",
      "sub-113 - 8 - 8\n"
     ]
    },
    {
     "name": "stderr",
     "output_type": "stream",
     "text": [
      "100%|██████████| 51/51 [00:03<00:00, 16.48it/s]"
     ]
    },
    {
     "name": "stdout",
     "output_type": "stream",
     "text": [
      "sub-114 - 8 - 8\n",
      "sub-115 - 8 - 8\n"
     ]
    },
    {
     "name": "stderr",
     "output_type": "stream",
     "text": [
      "\n"
     ]
    }
   ],
   "source": [
    "for model_name in model_names:\n",
    "    data[model_name] = {}\n",
    "    for analysis_of_interest in analysis.keys():\n",
    "        R2_maps = {}\n",
    "        Pearson_coeff_maps = {}\n",
    "        data[model_name][analysis_of_interest] = {}\n",
    "        for subject_id in tqdm(possible_subjects_id(language)):\n",
    "            subject = get_subject_name(subject_id)\n",
    "            path_to_map = os.path.join(OUTPUT_PATH, subject, '_'.join([model_name, str(subject_id), analysis[analysis_of_interest]]))\n",
    "            R2_maps[subject] = fetch_map(path_to_map, 'R2')\n",
    "            Pearson_coeff_maps[subject] = fetch_map(path_to_map, 'Pearson_coeff')\n",
    "            print(subject, '-', len(R2_maps[subject]), '-', len(Pearson_coeff_maps[subject]))\n",
    "        if analysis_of_interest == 'Hidden-layers':\n",
    "            data[model_name][analysis_of_interest]['models'] = [os.path.dirname(name).split('_')[-1] for name in list(Pearson_coeff_maps.values())[-1]]\n",
    "        else:\n",
    "            data[model_name][analysis_of_interest]['models'] = ['-'.join(os.path.dirname(name).split('_')[-2:]) for name in list(Pearson_coeff_maps.values())[-1]]\n",
    "        R2_lists = list(zip(*R2_maps.values()))\n",
    "        Pearson_coeff_lists = list(zip(*Pearson_coeff_maps.values()))\n",
    "        for index, model in enumerate(data[model_name][analysis_of_interest]['models']):\n",
    "            try:\n",
    "                data[model_name][analysis_of_interest][model] = {'R2': list(R2_lists[index]),\n",
    "                                                                 'Pearson_coeff': list(Pearson_coeff_lists[index])\n",
    "                                                                }\n",
    "            except:\n",
    "                print(model_name)\n",
    "                print(analysis_of_interest)\n",
    "                print(model)\n",
    "                print(index)\n",
    "                print(data[model_name][analysis_of_interest]['models'])\n",
    "                "
   ]
  },
  {
   "cell_type": "code",
   "execution_count": 21,
   "metadata": {},
   "outputs": [
    {
     "name": "stdout",
     "output_type": "stream",
     "text": [
      "dict_keys(['models', 'attention-layer-4-head-10', 'attention-layer-6-head-7', 'attention-layer-7-head-6', 'attention-layer-8-head-1', 'attention-layer-8-head-10', 'attention-layer-8-head-11', 'attention-layer-8-head-2', 'attention-layer-9-head-6'])\n",
      "['attention-layer-4-head-10', 'attention-layer-6-head-7', 'attention-layer-7-head-6', 'attention-layer-8-head-1', 'attention-layer-8-head-10', 'attention-layer-8-head-11', 'attention-layer-8-head-2', 'attention-layer-9-head-6']\n"
     ]
    }
   ],
   "source": [
    "print(data['bert-base-cased']['Specific-attention-heads'].keys()) #'Attention-layers', 'Specific-attention-heads']\n",
    "print(data['bert-base-cased']['Specific-attention-heads']['models']) #'Attention-layers', 'Specific-attention-heads']"
   ]
  },
  {
   "cell_type": "code",
   "execution_count": 14,
   "metadata": {},
   "outputs": [],
   "source": [
    "def create_one_sample_t_test(name, maps, output_dir, smoothing_fwhm=None, vmax=None, design_matrix=None):\n",
    "    \"\"\" Do a one sample t-test over the maps.\n",
    "    \"\"\"\n",
    "    print('##### ', name, ' #####')\n",
    "\n",
    "    model = SecondLevelModel(smoothing_fwhm=smoothing_fwhm, n_jobs=-1)\n",
    "    design_matrix = design_matrix if (design_matrix is not None) else pd.DataFrame([1] * len(maps),\n",
    "                                                             columns=['intercept'])\n",
    "    model = model.fit(maps,\n",
    "                      design_matrix=design_matrix)\n",
    "    z_map = model.compute_contrast(output_type='z_score')\n",
    "    nib.save(z_map, os.path.join(output_dir, \"{}_group_zmap.nii.gz\".format(name)))\n",
    "\n",
    "    p_val = 0.001\n",
    "    z_th = norm.isf(p_val)  # 3.09\n",
    "    display = plotting.plot_glass_brain(\n",
    "        z_map,\n",
    "        threshold=z_th,\n",
    "        colorbar=True,\n",
    "        plot_abs=False,\n",
    "        display_mode='lzry',\n",
    "        title=name + ' z values (P<.001 unc.)',\n",
    "        vmax=10)\n",
    "    display.savefig(os.path.join(output_dir, \"{}_group_zmap\".format(name)))\n",
    "\n",
    "    # apply fdr to zmap\n",
    "    thresholded_zmap, th = map_threshold(stat_img=z_map,\n",
    "                                         alpha=0.01,\n",
    "                                         height_control='fdr',\n",
    "                                         cluster_threshold=0)\n",
    "    nib.save(thresholded_zmap, os.path.join(output_dir, \"{}_group_fdr_zmap.nii.gz\".format(name)))\n",
    "\n",
    "    display = plotting.plot_glass_brain(\n",
    "        thresholded_zmap,\n",
    "        #threshold=np.max([th, z_th]),\n",
    "        threshold=th,\n",
    "        colorbar=True,\n",
    "        plot_abs=False,\n",
    "        display_mode='lzry',\n",
    "        title=name + ' z values (Pfdr<.01: Z >{}'.format(np.round(th,2)),\n",
    "        vmax=10)\n",
    "    display.savefig(os.path.join(output_dir, \"{}_fdr_group_zmap\".format(name)))\n",
    "\n",
    "    # effect size-map\n",
    "    eff_map = model.compute_contrast(output_type='effect_size')\n",
    "    nib.save(eff_map, os.path.join(output_dir, \"{}_group_effect.nii.gz\".format(name)))\n",
    "\n",
    "    display = plotting.plot_glass_brain(\n",
    "        smooth_img(eff_map, fwhm=6),\n",
    "        colorbar=True,\n",
    "        plot_abs=False,\n",
    "        display_mode='lzry',\n",
    "        title=None, vmax=vmax)\n",
    "    display.savefig(os.path.join(output_dir, \"{}_group_effect\".format(name)))\n",
    "\n",
    "    #thr = thresholded_zmap.get_data()\n",
    "    thr = np.abs(z_map.get_data())\n",
    "    eff = eff_map.get_data()\n",
    "    thr_eff = eff * (thr > 3.09)\n",
    "    eff_thr_map = new_img_like(eff_map, thr_eff)\n",
    "    nib.save(eff_thr_map, os.path.join(output_dir, \"{}_group_fdr_effect.nii.gz\".format(name)))\n",
    "\n",
    "    display = plotting.plot_glass_brain(\n",
    "        smooth_img(eff_thr_map, fwhm=6),\n",
    "        colorbar=True,\n",
    "        plot_abs=False,\n",
    "        display_mode='lzry',\n",
    "        title=None,\n",
    "        vmax=vmax)\n",
    "    display.savefig(os.path.join(output_dir, \"{}_group_fdr_effect\".format(name)))\n",
    "    plt.close('all')\n"
   ]
  },
  {
   "cell_type": "code",
   "execution_count": 15,
   "metadata": {},
   "outputs": [
    {
     "name": "stderr",
     "output_type": "stream",
     "text": [
      "\r",
      "  0%|          | 0/9 [00:00<?, ?it/s]"
     ]
    },
    {
     "name": "stdout",
     "output_type": "stream",
     "text": [
      "#####  bert-base-cased_attention-layer-4-head-10_R2  #####\n",
      "#####  bert-base-cased_attention-layer-4-head-10_Pearson_coeff  #####\n"
     ]
    },
    {
     "name": "stderr",
     "output_type": "stream",
     "text": [
      "\r",
      " 22%|██▏       | 2/9 [00:27<01:37, 13.94s/it]"
     ]
    },
    {
     "name": "stdout",
     "output_type": "stream",
     "text": [
      "#####  bert-base-cased_attention-layer-6-head-7_R2  #####\n",
      "#####  bert-base-cased_attention-layer-6-head-7_Pearson_coeff  #####\n"
     ]
    },
    {
     "name": "stderr",
     "output_type": "stream",
     "text": [
      "\r",
      " 33%|███▎      | 3/9 [00:57<01:52, 18.74s/it]"
     ]
    },
    {
     "name": "stdout",
     "output_type": "stream",
     "text": [
      "#####  bert-base-cased_attention-layer-7-head-6_R2  #####\n",
      "#####  bert-base-cased_attention-layer-7-head-6_Pearson_coeff  #####\n"
     ]
    },
    {
     "name": "stderr",
     "output_type": "stream",
     "text": [
      "\r",
      " 44%|████▍     | 4/9 [01:26<01:49, 21.84s/it]"
     ]
    },
    {
     "name": "stdout",
     "output_type": "stream",
     "text": [
      "#####  bert-base-cased_attention-layer-8-head-1_R2  #####\n",
      "#####  bert-base-cased_attention-layer-8-head-1_Pearson_coeff  #####\n"
     ]
    },
    {
     "name": "stderr",
     "output_type": "stream",
     "text": [
      "\r",
      " 56%|█████▌    | 5/9 [01:58<01:39, 24.86s/it]"
     ]
    },
    {
     "name": "stdout",
     "output_type": "stream",
     "text": [
      "#####  bert-base-cased_attention-layer-8-head-10_R2  #####\n",
      "#####  bert-base-cased_attention-layer-8-head-10_Pearson_coeff  #####\n"
     ]
    },
    {
     "name": "stderr",
     "output_type": "stream",
     "text": [
      "\r",
      " 67%|██████▋   | 6/9 [02:29<01:19, 26.50s/it]"
     ]
    },
    {
     "name": "stdout",
     "output_type": "stream",
     "text": [
      "#####  bert-base-cased_attention-layer-8-head-11_R2  #####\n",
      "#####  bert-base-cased_attention-layer-8-head-11_Pearson_coeff  #####\n"
     ]
    },
    {
     "name": "stderr",
     "output_type": "stream",
     "text": [
      "\r",
      " 78%|███████▊  | 7/9 [02:58<00:54, 27.42s/it]"
     ]
    },
    {
     "name": "stdout",
     "output_type": "stream",
     "text": [
      "#####  bert-base-cased_attention-layer-8-head-2_R2  #####\n",
      "#####  bert-base-cased_attention-layer-8-head-2_Pearson_coeff  #####\n"
     ]
    },
    {
     "name": "stderr",
     "output_type": "stream",
     "text": [
      "\r",
      " 89%|████████▉ | 8/9 [03:27<00:27, 27.86s/it]"
     ]
    },
    {
     "name": "stdout",
     "output_type": "stream",
     "text": [
      "#####  bert-base-cased_attention-layer-9-head-6_R2  #####\n",
      "#####  bert-base-cased_attention-layer-9-head-6_Pearson_coeff  #####\n"
     ]
    },
    {
     "name": "stderr",
     "output_type": "stream",
     "text": [
      "100%|██████████| 9/9 [03:56<00:00, 26.24s/it]\n"
     ]
    }
   ],
   "source": [
    "#smoothing_fwhm = None # 5.0\n",
    "#for model_name in ['bert-base-cased']:\n",
    "#    for analysis_of_interest in ['Specific-attention-heads']:\n",
    "#        for key in tqdm(data[model_name][analysis_of_interest].keys()):\n",
    "#            if key != 'models':\n",
    "#                # R2\n",
    "#                imgs = data[model_name][analysis_of_interest][key]['R2']\n",
    "#                name = '_'.join([model_name, key])\n",
    "#                output_dir = os.path.join(PROJECT_PATH, 'derivatives/fMRI/analysis/{}/{}'.format(language, name))\n",
    "#                check_folder(output_dir)\n",
    "#                create_one_sample_t_test(name + '_R2', imgs, output_dir, smoothing_fwhm=smoothing_fwhm, vmax=None)\n",
    "#                # Pearson coefficient\n",
    "#                imgs = data[model_name][analysis_of_interest][key]['Pearson_coeff']\n",
    "#                create_one_sample_t_test(name + '_Pearson_coeff', imgs, output_dir, smoothing_fwhm=smoothing_fwhm, vmax=None)\n",
    "#                plt.close('all')"
   ]
  },
  {
   "cell_type": "code",
   "execution_count": 84,
   "metadata": {
    "scrolled": true
   },
   "outputs": [
    {
     "name": "stderr",
     "output_type": "stream",
     "text": [
      "\r",
      "  0%|          | 0/14 [00:00<?, ?it/s]"
     ]
    },
    {
     "name": "stdout",
     "output_type": "stream",
     "text": [
      "#####  bert-base-cased_hidden-layer-0_R2  #####\n",
      "#####  bert-base-cased_hidden-layer-0_Pearson_coeff  #####\n"
     ]
    },
    {
     "name": "stderr",
     "output_type": "stream",
     "text": [
      "\r",
      " 14%|█▍        | 2/14 [00:35<03:31, 17.60s/it]"
     ]
    },
    {
     "name": "stdout",
     "output_type": "stream",
     "text": [
      "#####  bert-base-cased_hidden-layer-1_R2  #####\n",
      "#####  bert-base-cased_hidden-layer-1_Pearson_coeff  #####\n"
     ]
    },
    {
     "name": "stderr",
     "output_type": "stream",
     "text": [
      "\r",
      " 21%|██▏       | 3/14 [01:46<06:11, 33.77s/it]"
     ]
    },
    {
     "name": "stdout",
     "output_type": "stream",
     "text": [
      "#####  bert-base-cased_hidden-layer-10_R2  #####\n",
      "#####  bert-base-cased_hidden-layer-10_Pearson_coeff  #####\n"
     ]
    },
    {
     "name": "stderr",
     "output_type": "stream",
     "text": [
      "\r",
      " 29%|██▊       | 4/14 [03:17<08:30, 51.00s/it]"
     ]
    },
    {
     "name": "stdout",
     "output_type": "stream",
     "text": [
      "#####  bert-base-cased_hidden-layer-11_R2  #####\n",
      "#####  bert-base-cased_hidden-layer-11_Pearson_coeff  #####\n"
     ]
    },
    {
     "name": "stderr",
     "output_type": "stream",
     "text": [
      "\r",
      " 36%|███▌      | 5/14 [05:35<11:31, 76.84s/it]"
     ]
    },
    {
     "name": "stdout",
     "output_type": "stream",
     "text": [
      "#####  bert-base-cased_hidden-layer-12_R2  #####\n",
      "#####  bert-base-cased_hidden-layer-12_Pearson_coeff  #####\n"
     ]
    },
    {
     "name": "stderr",
     "output_type": "stream",
     "text": [
      "\r",
      " 43%|████▎     | 6/14 [08:09<13:20, 100.07s/it]"
     ]
    },
    {
     "name": "stdout",
     "output_type": "stream",
     "text": [
      "#####  bert-base-cased_hidden-layer-2_R2  #####\n",
      "#####  bert-base-cased_hidden-layer-2_Pearson_coeff  #####\n"
     ]
    },
    {
     "name": "stderr",
     "output_type": "stream",
     "text": [
      "\r",
      " 50%|█████     | 7/14 [11:32<15:17, 131.14s/it]"
     ]
    },
    {
     "name": "stdout",
     "output_type": "stream",
     "text": [
      "#####  bert-base-cased_hidden-layer-3_R2  #####\n",
      "#####  bert-base-cased_hidden-layer-3_Pearson_coeff  #####\n"
     ]
    },
    {
     "name": "stderr",
     "output_type": "stream",
     "text": [
      "\r",
      " 57%|█████▋    | 8/14 [15:18<15:57, 159.53s/it]"
     ]
    },
    {
     "name": "stdout",
     "output_type": "stream",
     "text": [
      "#####  bert-base-cased_hidden-layer-4_R2  #####\n",
      "#####  bert-base-cased_hidden-layer-4_Pearson_coeff  #####\n"
     ]
    },
    {
     "name": "stderr",
     "output_type": "stream",
     "text": [
      "\r",
      " 64%|██████▍   | 9/14 [19:27<15:31, 186.37s/it]"
     ]
    },
    {
     "name": "stdout",
     "output_type": "stream",
     "text": [
      "#####  bert-base-cased_hidden-layer-5_R2  #####\n",
      "#####  bert-base-cased_hidden-layer-5_Pearson_coeff  #####\n"
     ]
    },
    {
     "name": "stderr",
     "output_type": "stream",
     "text": [
      "\r",
      " 71%|███████▏  | 10/14 [24:23<14:36, 219.10s/it]"
     ]
    },
    {
     "name": "stdout",
     "output_type": "stream",
     "text": [
      "#####  bert-base-cased_hidden-layer-6_R2  #####\n",
      "#####  bert-base-cased_hidden-layer-6_Pearson_coeff  #####\n"
     ]
    },
    {
     "name": "stderr",
     "output_type": "stream",
     "text": [
      "\r",
      " 79%|███████▊  | 11/14 [29:43<12:28, 249.41s/it]"
     ]
    },
    {
     "name": "stdout",
     "output_type": "stream",
     "text": [
      "#####  bert-base-cased_hidden-layer-7_R2  #####\n",
      "#####  bert-base-cased_hidden-layer-7_Pearson_coeff  #####\n"
     ]
    },
    {
     "name": "stderr",
     "output_type": "stream",
     "text": [
      "\r",
      " 86%|████████▌ | 12/14 [35:38<09:22, 281.29s/it]"
     ]
    },
    {
     "name": "stdout",
     "output_type": "stream",
     "text": [
      "#####  bert-base-cased_hidden-layer-8_R2  #####\n",
      "#####  bert-base-cased_hidden-layer-8_Pearson_coeff  #####\n"
     ]
    },
    {
     "name": "stderr",
     "output_type": "stream",
     "text": [
      "\r",
      " 93%|█████████▎| 13/14 [42:07<05:13, 313.39s/it]"
     ]
    },
    {
     "name": "stdout",
     "output_type": "stream",
     "text": [
      "#####  bert-base-cased_hidden-layer-9_R2  #####\n",
      "#####  bert-base-cased_hidden-layer-9_Pearson_coeff  #####\n"
     ]
    },
    {
     "name": "stderr",
     "output_type": "stream",
     "text": [
      "100%|██████████| 14/14 [48:47<00:00, 209.14s/it]\n",
      "  0%|          | 0/13 [00:00<?, ?it/s]"
     ]
    },
    {
     "name": "stdout",
     "output_type": "stream",
     "text": [
      "#####  bert-base-cased_attention-layer-1_R2  #####\n",
      "#####  bert-base-cased_attention-layer-1_Pearson_coeff  #####\n"
     ]
    },
    {
     "name": "stderr",
     "output_type": "stream",
     "text": [
      "\r",
      " 15%|█▌        | 2/13 [07:17<40:05, 218.67s/it]"
     ]
    },
    {
     "name": "stdout",
     "output_type": "stream",
     "text": [
      "#####  bert-base-cased_attention-layer-10_R2  #####\n",
      "#####  bert-base-cased_attention-layer-10_Pearson_coeff  #####\n"
     ]
    },
    {
     "name": "stderr",
     "output_type": "stream",
     "text": [
      "\r",
      " 23%|██▎       | 3/13 [14:51<48:14, 289.41s/it]"
     ]
    },
    {
     "name": "stdout",
     "output_type": "stream",
     "text": [
      "#####  bert-base-cased_attention-layer-11_R2  #####\n",
      "#####  bert-base-cased_attention-layer-11_Pearson_coeff  #####\n"
     ]
    },
    {
     "name": "stderr",
     "output_type": "stream",
     "text": [
      "\r",
      " 31%|███       | 4/13 [22:58<52:18, 348.68s/it]"
     ]
    },
    {
     "name": "stdout",
     "output_type": "stream",
     "text": [
      "#####  bert-base-cased_attention-layer-12_R2  #####\n",
      "#####  bert-base-cased_attention-layer-12_Pearson_coeff  #####\n"
     ]
    },
    {
     "name": "stderr",
     "output_type": "stream",
     "text": [
      "\r",
      " 38%|███▊      | 5/13 [31:17<52:30, 393.80s/it]"
     ]
    },
    {
     "name": "stdout",
     "output_type": "stream",
     "text": [
      "#####  bert-base-cased_attention-layer-2_R2  #####\n",
      "#####  bert-base-cased_attention-layer-2_Pearson_coeff  #####\n"
     ]
    },
    {
     "name": "stderr",
     "output_type": "stream",
     "text": [
      " 38%|███▊      | 5/13 [37:04<59:18, 444.85s/it]\n"
     ]
    },
    {
     "ename": "KeyboardInterrupt",
     "evalue": "",
     "output_type": "error",
     "traceback": [
      "\u001b[0;31m---------------------------------------------------------------------------\u001b[0m",
      "\u001b[0;31mKeyboardInterrupt\u001b[0m                         Traceback (most recent call last)",
      "\u001b[0;32m<ipython-input-84-ccb309ce94c0>\u001b[0m in \u001b[0;36m<module>\u001b[0;34m\u001b[0m\n\u001b[1;32m     12\u001b[0m                 \u001b[0;31m# Pearson coefficient\u001b[0m\u001b[0;34m\u001b[0m\u001b[0;34m\u001b[0m\u001b[0;34m\u001b[0m\u001b[0m\n\u001b[1;32m     13\u001b[0m                 \u001b[0mimgs\u001b[0m \u001b[0;34m=\u001b[0m \u001b[0mdata\u001b[0m\u001b[0;34m[\u001b[0m\u001b[0mmodel_name\u001b[0m\u001b[0;34m]\u001b[0m\u001b[0;34m[\u001b[0m\u001b[0manalysis_of_interest\u001b[0m\u001b[0;34m]\u001b[0m\u001b[0;34m[\u001b[0m\u001b[0mkey\u001b[0m\u001b[0;34m]\u001b[0m\u001b[0;34m[\u001b[0m\u001b[0;34m'Pearson_coeff'\u001b[0m\u001b[0;34m]\u001b[0m\u001b[0;34m\u001b[0m\u001b[0;34m\u001b[0m\u001b[0m\n\u001b[0;32m---> 14\u001b[0;31m                 \u001b[0mcreate_one_sample_t_test\u001b[0m\u001b[0;34m(\u001b[0m\u001b[0mname\u001b[0m \u001b[0;34m+\u001b[0m \u001b[0;34m'_Pearson_coeff'\u001b[0m\u001b[0;34m,\u001b[0m \u001b[0mimgs\u001b[0m\u001b[0;34m,\u001b[0m \u001b[0moutput_dir\u001b[0m\u001b[0;34m,\u001b[0m \u001b[0msmoothing_fwhm\u001b[0m\u001b[0;34m=\u001b[0m\u001b[0msmoothing_fwhm\u001b[0m\u001b[0;34m,\u001b[0m \u001b[0mvmax\u001b[0m\u001b[0;34m=\u001b[0m\u001b[0;32mNone\u001b[0m\u001b[0;34m)\u001b[0m\u001b[0;34m\u001b[0m\u001b[0;34m\u001b[0m\u001b[0m\n\u001b[0m\u001b[1;32m     15\u001b[0m                 \u001b[0mplt\u001b[0m\u001b[0;34m.\u001b[0m\u001b[0mclose\u001b[0m\u001b[0;34m(\u001b[0m\u001b[0;34m'all'\u001b[0m\u001b[0;34m)\u001b[0m\u001b[0;34m\u001b[0m\u001b[0;34m\u001b[0m\u001b[0m\n",
      "\u001b[0;32m<ipython-input-83-9320fc7c693e>\u001b[0m in \u001b[0;36mcreate_one_sample_t_test\u001b[0;34m(name, maps, output_dir, smoothing_fwhm, vmax, design_matrix)\u001b[0m\n\u001b[1;32m      8\u001b[0m                                                              columns=['intercept'])\n\u001b[1;32m      9\u001b[0m     model = model.fit(maps,\n\u001b[0;32m---> 10\u001b[0;31m                       design_matrix=design_matrix)\n\u001b[0m\u001b[1;32m     11\u001b[0m     \u001b[0mz_map\u001b[0m \u001b[0;34m=\u001b[0m \u001b[0mmodel\u001b[0m\u001b[0;34m.\u001b[0m\u001b[0mcompute_contrast\u001b[0m\u001b[0;34m(\u001b[0m\u001b[0moutput_type\u001b[0m\u001b[0;34m=\u001b[0m\u001b[0;34m'z_score'\u001b[0m\u001b[0;34m)\u001b[0m\u001b[0;34m\u001b[0m\u001b[0;34m\u001b[0m\u001b[0m\n\u001b[1;32m     12\u001b[0m     \u001b[0mnib\u001b[0m\u001b[0;34m.\u001b[0m\u001b[0msave\u001b[0m\u001b[0;34m(\u001b[0m\u001b[0mz_map\u001b[0m\u001b[0;34m,\u001b[0m \u001b[0mos\u001b[0m\u001b[0;34m.\u001b[0m\u001b[0mpath\u001b[0m\u001b[0;34m.\u001b[0m\u001b[0mjoin\u001b[0m\u001b[0;34m(\u001b[0m\u001b[0moutput_dir\u001b[0m\u001b[0;34m,\u001b[0m \u001b[0;34m\"{}_group_zmap.nii.gz\"\u001b[0m\u001b[0;34m.\u001b[0m\u001b[0mformat\u001b[0m\u001b[0;34m(\u001b[0m\u001b[0mname\u001b[0m\u001b[0;34m)\u001b[0m\u001b[0;34m)\u001b[0m\u001b[0;34m)\u001b[0m\u001b[0;34m\u001b[0m\u001b[0;34m\u001b[0m\u001b[0m\n",
      "\u001b[0;32m~/anaconda3/envs/parietal/lib/python3.7/site-packages/nistats/second_level_model.py\u001b[0m in \u001b[0;36mfit\u001b[0;34m(self, second_level_input, confounds, design_matrix)\u001b[0m\n\u001b[1;32m    382\u001b[0m         \u001b[0;32melse\u001b[0m\u001b[0;34m:\u001b[0m\u001b[0;34m\u001b[0m\u001b[0;34m\u001b[0m\u001b[0m\n\u001b[1;32m    383\u001b[0m             \u001b[0;31m# In this case design matrix had to be provided\u001b[0m\u001b[0;34m\u001b[0m\u001b[0;34m\u001b[0m\u001b[0;34m\u001b[0m\u001b[0m\n\u001b[0;32m--> 384\u001b[0;31m             \u001b[0msample_map\u001b[0m \u001b[0;34m=\u001b[0m \u001b[0mmean_img\u001b[0m\u001b[0;34m(\u001b[0m\u001b[0msecond_level_input\u001b[0m\u001b[0;34m)\u001b[0m\u001b[0;34m\u001b[0m\u001b[0;34m\u001b[0m\u001b[0m\n\u001b[0m\u001b[1;32m    385\u001b[0m \u001b[0;34m\u001b[0m\u001b[0m\n\u001b[1;32m    386\u001b[0m         \u001b[0;31m# Create and set design matrix, if not given\u001b[0m\u001b[0;34m\u001b[0m\u001b[0;34m\u001b[0m\u001b[0;34m\u001b[0m\u001b[0m\n",
      "\u001b[0;32m~/.local/lib/python3.7/site-packages/nilearn/image/image.py\u001b[0m in \u001b[0;36mmean_img\u001b[0;34m(imgs, target_affine, target_shape, verbose, n_jobs)\u001b[0m\n\u001b[1;32m    473\u001b[0m             delayed(_compute_mean)(n, target_affine=target_affine,\n\u001b[1;32m    474\u001b[0m                                    target_shape=target_shape)\n\u001b[0;32m--> 475\u001b[0;31m             for n in imgs_iter):\n\u001b[0m\u001b[1;32m    476\u001b[0m         \u001b[0mn_imgs\u001b[0m \u001b[0;34m+=\u001b[0m \u001b[0;36m1\u001b[0m\u001b[0;34m\u001b[0m\u001b[0;34m\u001b[0m\u001b[0m\n\u001b[1;32m    477\u001b[0m         \u001b[0;31m# _compute_mean returns (mean_img, affine)\u001b[0m\u001b[0;34m\u001b[0m\u001b[0;34m\u001b[0m\u001b[0;34m\u001b[0m\u001b[0m\n",
      "\u001b[0;32m~/anaconda3/envs/parietal/lib/python3.7/site-packages/joblib/parallel.py\u001b[0m in \u001b[0;36m__call__\u001b[0;34m(self, iterable)\u001b[0m\n\u001b[1;32m   1005\u001b[0m                 \u001b[0mself\u001b[0m\u001b[0;34m.\u001b[0m\u001b[0m_iterating\u001b[0m \u001b[0;34m=\u001b[0m \u001b[0mself\u001b[0m\u001b[0;34m.\u001b[0m\u001b[0m_original_iterator\u001b[0m \u001b[0;32mis\u001b[0m \u001b[0;32mnot\u001b[0m \u001b[0;32mNone\u001b[0m\u001b[0;34m\u001b[0m\u001b[0;34m\u001b[0m\u001b[0m\n\u001b[1;32m   1006\u001b[0m \u001b[0;34m\u001b[0m\u001b[0m\n\u001b[0;32m-> 1007\u001b[0;31m             \u001b[0;32mwhile\u001b[0m \u001b[0mself\u001b[0m\u001b[0;34m.\u001b[0m\u001b[0mdispatch_one_batch\u001b[0m\u001b[0;34m(\u001b[0m\u001b[0miterator\u001b[0m\u001b[0;34m)\u001b[0m\u001b[0;34m:\u001b[0m\u001b[0;34m\u001b[0m\u001b[0;34m\u001b[0m\u001b[0m\n\u001b[0m\u001b[1;32m   1008\u001b[0m                 \u001b[0;32mpass\u001b[0m\u001b[0;34m\u001b[0m\u001b[0;34m\u001b[0m\u001b[0m\n\u001b[1;32m   1009\u001b[0m \u001b[0;34m\u001b[0m\u001b[0m\n",
      "\u001b[0;32m~/anaconda3/envs/parietal/lib/python3.7/site-packages/joblib/parallel.py\u001b[0m in \u001b[0;36mdispatch_one_batch\u001b[0;34m(self, iterator)\u001b[0m\n\u001b[1;32m    833\u001b[0m                 \u001b[0;32mreturn\u001b[0m \u001b[0;32mFalse\u001b[0m\u001b[0;34m\u001b[0m\u001b[0;34m\u001b[0m\u001b[0m\n\u001b[1;32m    834\u001b[0m             \u001b[0;32melse\u001b[0m\u001b[0;34m:\u001b[0m\u001b[0;34m\u001b[0m\u001b[0;34m\u001b[0m\u001b[0m\n\u001b[0;32m--> 835\u001b[0;31m                 \u001b[0mself\u001b[0m\u001b[0;34m.\u001b[0m\u001b[0m_dispatch\u001b[0m\u001b[0;34m(\u001b[0m\u001b[0mtasks\u001b[0m\u001b[0;34m)\u001b[0m\u001b[0;34m\u001b[0m\u001b[0;34m\u001b[0m\u001b[0m\n\u001b[0m\u001b[1;32m    836\u001b[0m                 \u001b[0;32mreturn\u001b[0m \u001b[0;32mTrue\u001b[0m\u001b[0;34m\u001b[0m\u001b[0;34m\u001b[0m\u001b[0m\n\u001b[1;32m    837\u001b[0m \u001b[0;34m\u001b[0m\u001b[0m\n",
      "\u001b[0;32m~/anaconda3/envs/parietal/lib/python3.7/site-packages/joblib/parallel.py\u001b[0m in \u001b[0;36m_dispatch\u001b[0;34m(self, batch)\u001b[0m\n\u001b[1;32m    752\u001b[0m         \u001b[0;32mwith\u001b[0m \u001b[0mself\u001b[0m\u001b[0;34m.\u001b[0m\u001b[0m_lock\u001b[0m\u001b[0;34m:\u001b[0m\u001b[0;34m\u001b[0m\u001b[0;34m\u001b[0m\u001b[0m\n\u001b[1;32m    753\u001b[0m             \u001b[0mjob_idx\u001b[0m \u001b[0;34m=\u001b[0m \u001b[0mlen\u001b[0m\u001b[0;34m(\u001b[0m\u001b[0mself\u001b[0m\u001b[0;34m.\u001b[0m\u001b[0m_jobs\u001b[0m\u001b[0;34m)\u001b[0m\u001b[0;34m\u001b[0m\u001b[0;34m\u001b[0m\u001b[0m\n\u001b[0;32m--> 754\u001b[0;31m             \u001b[0mjob\u001b[0m \u001b[0;34m=\u001b[0m \u001b[0mself\u001b[0m\u001b[0;34m.\u001b[0m\u001b[0m_backend\u001b[0m\u001b[0;34m.\u001b[0m\u001b[0mapply_async\u001b[0m\u001b[0;34m(\u001b[0m\u001b[0mbatch\u001b[0m\u001b[0;34m,\u001b[0m \u001b[0mcallback\u001b[0m\u001b[0;34m=\u001b[0m\u001b[0mcb\u001b[0m\u001b[0;34m)\u001b[0m\u001b[0;34m\u001b[0m\u001b[0;34m\u001b[0m\u001b[0m\n\u001b[0m\u001b[1;32m    755\u001b[0m             \u001b[0;31m# A job can complete so quickly than its callback is\u001b[0m\u001b[0;34m\u001b[0m\u001b[0;34m\u001b[0m\u001b[0;34m\u001b[0m\u001b[0m\n\u001b[1;32m    756\u001b[0m             \u001b[0;31m# called before we get here, causing self._jobs to\u001b[0m\u001b[0;34m\u001b[0m\u001b[0;34m\u001b[0m\u001b[0;34m\u001b[0m\u001b[0m\n",
      "\u001b[0;32m~/anaconda3/envs/parietal/lib/python3.7/site-packages/joblib/_parallel_backends.py\u001b[0m in \u001b[0;36mapply_async\u001b[0;34m(self, func, callback)\u001b[0m\n\u001b[1;32m    207\u001b[0m     \u001b[0;32mdef\u001b[0m \u001b[0mapply_async\u001b[0m\u001b[0;34m(\u001b[0m\u001b[0mself\u001b[0m\u001b[0;34m,\u001b[0m \u001b[0mfunc\u001b[0m\u001b[0;34m,\u001b[0m \u001b[0mcallback\u001b[0m\u001b[0;34m=\u001b[0m\u001b[0;32mNone\u001b[0m\u001b[0;34m)\u001b[0m\u001b[0;34m:\u001b[0m\u001b[0;34m\u001b[0m\u001b[0;34m\u001b[0m\u001b[0m\n\u001b[1;32m    208\u001b[0m         \u001b[0;34m\"\"\"Schedule a func to be run\"\"\"\u001b[0m\u001b[0;34m\u001b[0m\u001b[0;34m\u001b[0m\u001b[0m\n\u001b[0;32m--> 209\u001b[0;31m         \u001b[0mresult\u001b[0m \u001b[0;34m=\u001b[0m \u001b[0mImmediateResult\u001b[0m\u001b[0;34m(\u001b[0m\u001b[0mfunc\u001b[0m\u001b[0;34m)\u001b[0m\u001b[0;34m\u001b[0m\u001b[0;34m\u001b[0m\u001b[0m\n\u001b[0m\u001b[1;32m    210\u001b[0m         \u001b[0;32mif\u001b[0m \u001b[0mcallback\u001b[0m\u001b[0;34m:\u001b[0m\u001b[0;34m\u001b[0m\u001b[0;34m\u001b[0m\u001b[0m\n\u001b[1;32m    211\u001b[0m             \u001b[0mcallback\u001b[0m\u001b[0;34m(\u001b[0m\u001b[0mresult\u001b[0m\u001b[0;34m)\u001b[0m\u001b[0;34m\u001b[0m\u001b[0;34m\u001b[0m\u001b[0m\n",
      "\u001b[0;32m~/anaconda3/envs/parietal/lib/python3.7/site-packages/joblib/_parallel_backends.py\u001b[0m in \u001b[0;36m__init__\u001b[0;34m(self, batch)\u001b[0m\n\u001b[1;32m    588\u001b[0m         \u001b[0;31m# Don't delay the application, to avoid keeping the input\u001b[0m\u001b[0;34m\u001b[0m\u001b[0;34m\u001b[0m\u001b[0;34m\u001b[0m\u001b[0m\n\u001b[1;32m    589\u001b[0m         \u001b[0;31m# arguments in memory\u001b[0m\u001b[0;34m\u001b[0m\u001b[0;34m\u001b[0m\u001b[0;34m\u001b[0m\u001b[0m\n\u001b[0;32m--> 590\u001b[0;31m         \u001b[0mself\u001b[0m\u001b[0;34m.\u001b[0m\u001b[0mresults\u001b[0m \u001b[0;34m=\u001b[0m \u001b[0mbatch\u001b[0m\u001b[0;34m(\u001b[0m\u001b[0;34m)\u001b[0m\u001b[0;34m\u001b[0m\u001b[0;34m\u001b[0m\u001b[0m\n\u001b[0m\u001b[1;32m    591\u001b[0m \u001b[0;34m\u001b[0m\u001b[0m\n\u001b[1;32m    592\u001b[0m     \u001b[0;32mdef\u001b[0m \u001b[0mget\u001b[0m\u001b[0;34m(\u001b[0m\u001b[0mself\u001b[0m\u001b[0;34m)\u001b[0m\u001b[0;34m:\u001b[0m\u001b[0;34m\u001b[0m\u001b[0;34m\u001b[0m\u001b[0m\n",
      "\u001b[0;32m~/anaconda3/envs/parietal/lib/python3.7/site-packages/joblib/parallel.py\u001b[0m in \u001b[0;36m__call__\u001b[0;34m(self)\u001b[0m\n\u001b[1;32m    254\u001b[0m         \u001b[0;32mwith\u001b[0m \u001b[0mparallel_backend\u001b[0m\u001b[0;34m(\u001b[0m\u001b[0mself\u001b[0m\u001b[0;34m.\u001b[0m\u001b[0m_backend\u001b[0m\u001b[0;34m,\u001b[0m \u001b[0mn_jobs\u001b[0m\u001b[0;34m=\u001b[0m\u001b[0mself\u001b[0m\u001b[0;34m.\u001b[0m\u001b[0m_n_jobs\u001b[0m\u001b[0;34m)\u001b[0m\u001b[0;34m:\u001b[0m\u001b[0;34m\u001b[0m\u001b[0;34m\u001b[0m\u001b[0m\n\u001b[1;32m    255\u001b[0m             return [func(*args, **kwargs)\n\u001b[0;32m--> 256\u001b[0;31m                     for func, args, kwargs in self.items]\n\u001b[0m\u001b[1;32m    257\u001b[0m \u001b[0;34m\u001b[0m\u001b[0m\n\u001b[1;32m    258\u001b[0m     \u001b[0;32mdef\u001b[0m \u001b[0m__len__\u001b[0m\u001b[0;34m(\u001b[0m\u001b[0mself\u001b[0m\u001b[0;34m)\u001b[0m\u001b[0;34m:\u001b[0m\u001b[0;34m\u001b[0m\u001b[0;34m\u001b[0m\u001b[0m\n",
      "\u001b[0;32m~/anaconda3/envs/parietal/lib/python3.7/site-packages/joblib/parallel.py\u001b[0m in \u001b[0;36m<listcomp>\u001b[0;34m(.0)\u001b[0m\n\u001b[1;32m    254\u001b[0m         \u001b[0;32mwith\u001b[0m \u001b[0mparallel_backend\u001b[0m\u001b[0;34m(\u001b[0m\u001b[0mself\u001b[0m\u001b[0;34m.\u001b[0m\u001b[0m_backend\u001b[0m\u001b[0;34m,\u001b[0m \u001b[0mn_jobs\u001b[0m\u001b[0;34m=\u001b[0m\u001b[0mself\u001b[0m\u001b[0;34m.\u001b[0m\u001b[0m_n_jobs\u001b[0m\u001b[0;34m)\u001b[0m\u001b[0;34m:\u001b[0m\u001b[0;34m\u001b[0m\u001b[0;34m\u001b[0m\u001b[0m\n\u001b[1;32m    255\u001b[0m             return [func(*args, **kwargs)\n\u001b[0;32m--> 256\u001b[0;31m                     for func, args, kwargs in self.items]\n\u001b[0m\u001b[1;32m    257\u001b[0m \u001b[0;34m\u001b[0m\u001b[0m\n\u001b[1;32m    258\u001b[0m     \u001b[0;32mdef\u001b[0m \u001b[0m__len__\u001b[0m\u001b[0;34m(\u001b[0m\u001b[0mself\u001b[0m\u001b[0;34m)\u001b[0m\u001b[0;34m:\u001b[0m\u001b[0;34m\u001b[0m\u001b[0;34m\u001b[0m\u001b[0m\n",
      "\u001b[0;32m~/.local/lib/python3.7/site-packages/nilearn/image/image.py\u001b[0m in \u001b[0;36m_compute_mean\u001b[0;34m(imgs, target_affine, target_shape, smooth)\u001b[0m\n\u001b[1;32m    383\u001b[0m \u001b[0;34m\u001b[0m\u001b[0m\n\u001b[1;32m    384\u001b[0m     \u001b[0mimgs\u001b[0m \u001b[0;34m=\u001b[0m \u001b[0mcheck_niimg\u001b[0m\u001b[0;34m(\u001b[0m\u001b[0mimgs\u001b[0m\u001b[0;34m)\u001b[0m\u001b[0;34m\u001b[0m\u001b[0;34m\u001b[0m\u001b[0m\n\u001b[0;32m--> 385\u001b[0;31m     \u001b[0mmean_data\u001b[0m \u001b[0;34m=\u001b[0m \u001b[0m_safe_get_data\u001b[0m\u001b[0;34m(\u001b[0m\u001b[0mimgs\u001b[0m\u001b[0;34m)\u001b[0m\u001b[0;34m\u001b[0m\u001b[0;34m\u001b[0m\u001b[0m\n\u001b[0m\u001b[1;32m    386\u001b[0m     \u001b[0maffine\u001b[0m \u001b[0;34m=\u001b[0m \u001b[0mimgs\u001b[0m\u001b[0;34m.\u001b[0m\u001b[0maffine\u001b[0m\u001b[0;34m\u001b[0m\u001b[0;34m\u001b[0m\u001b[0m\n\u001b[1;32m    387\u001b[0m     \u001b[0;31m# Free memory ASAP\u001b[0m\u001b[0;34m\u001b[0m\u001b[0;34m\u001b[0m\u001b[0;34m\u001b[0m\u001b[0m\n",
      "\u001b[0;32m~/.local/lib/python3.7/site-packages/nilearn/_utils/niimg.py\u001b[0m in \u001b[0;36m_safe_get_data\u001b[0;34m(img, ensure_finite)\u001b[0m\n\u001b[1;32m     39\u001b[0m     \u001b[0;31m# typically the line below can double memory usage\u001b[0m\u001b[0;34m\u001b[0m\u001b[0;34m\u001b[0m\u001b[0;34m\u001b[0m\u001b[0m\n\u001b[1;32m     40\u001b[0m     \u001b[0;31m# that's why we invoke a forced call to the garbage collector\u001b[0m\u001b[0;34m\u001b[0m\u001b[0;34m\u001b[0m\u001b[0;34m\u001b[0m\u001b[0m\n\u001b[0;32m---> 41\u001b[0;31m     \u001b[0mgc\u001b[0m\u001b[0;34m.\u001b[0m\u001b[0mcollect\u001b[0m\u001b[0;34m(\u001b[0m\u001b[0;34m)\u001b[0m\u001b[0;34m\u001b[0m\u001b[0;34m\u001b[0m\u001b[0m\n\u001b[0m\u001b[1;32m     42\u001b[0m \u001b[0;34m\u001b[0m\u001b[0m\n\u001b[1;32m     43\u001b[0m     \u001b[0mdata\u001b[0m \u001b[0;34m=\u001b[0m \u001b[0mimg\u001b[0m\u001b[0;34m.\u001b[0m\u001b[0mget_data\u001b[0m\u001b[0;34m(\u001b[0m\u001b[0;34m)\u001b[0m\u001b[0;34m\u001b[0m\u001b[0;34m\u001b[0m\u001b[0m\n",
      "\u001b[0;31mKeyboardInterrupt\u001b[0m: "
     ]
    }
   ],
   "source": [
    "smoothing_fwhm = None # 5.0\n",
    "for model_name in model_names:\n",
    "    for analysis_of_interest in analysis.keys():\n",
    "        for key in tqdm(data[model_name][analysis_of_interest].keys()):\n",
    "            if key != 'models':\n",
    "                # R2\n",
    "                imgs = data[model_name][analysis_of_interest][key]['R2']\n",
    "                name = '_'.join([model_name, key])\n",
    "                output_dir = os.path.join(PROJECT_PATH, 'derivatives/fMRI/analysis/{}/{}'.format(language, name))\n",
    "                check_folder(output_dir)\n",
    "                create_one_sample_t_test(name + '_R2', imgs, output_dir, smoothing_fwhm=smoothing_fwhm, vmax=None)\n",
    "                # Pearson coefficient\n",
    "                imgs = data[model_name][analysis_of_interest][key]['Pearson_coeff']\n",
    "                create_one_sample_t_test(name + '_Pearson_coeff', imgs, output_dir, smoothing_fwhm=smoothing_fwhm, vmax=None)\n",
    "                plt.close('all')"
   ]
  },
  {
   "cell_type": "markdown",
   "metadata": {},
   "source": [
    "Group analysis of the difference between the models:"
   ]
  },
  {
   "cell_type": "markdown",
   "metadata": {},
   "source": [
    "La prochaine fois, faire la différence entre les images et passer un intercept de 1 (voir ancien script)"
   ]
  },
  {
   "cell_type": "code",
   "execution_count": 15,
   "metadata": {},
   "outputs": [],
   "source": [
    "smoothing_fwhm = None # 5.0"
   ]
  },
  {
   "cell_type": "code",
   "execution_count": 303,
   "metadata": {
    "scrolled": false
   },
   "outputs": [
    {
     "name": "stderr",
     "output_type": "stream",
     "text": [
      "\r",
      "  0%|          | 0/14 [00:00<?, ?it/s]"
     ]
    },
    {
     "name": "stdout",
     "output_type": "stream",
     "text": [
      "Retrieving data...\n",
      "/neurospin/unicog/protocols/IRMf/LePetitPrince_Pallier_2018/LePetitPrince/derivatives/fMRI/maps/english/sub-057/bert-base-cased_57_hidden-layer-0/sub-057_bert-base-cased_57_hidden-layer-0_R2.nii.gz /neurospin/unicog/protocols/IRMf/LePetitPrince_Pallier_2018/LePetitPrince/derivatives/fMRI/maps/english/sub-057/bert-base-cased_sequential_57_hidden-layer-0/sub-057_bert-base-cased_sequential_57_hidden-layer-0_R2.nii.gz /neurospin/unicog/protocols/IRMf/LePetitPrince_Pallier_2018/LePetitPrince/derivatives/fMRI/maps/english/sub-057/roberta-base_57_hidden-layer-0/sub-057_roberta-base_57_hidden-layer-0_R2.nii.gz\n",
      "\n",
      "/neurospin/unicog/protocols/IRMf/LePetitPrince_Pallier_2018/LePetitPrince/derivatives/fMRI/maps/english/sub-058/bert-base-cased_58_hidden-layer-0/sub-058_bert-base-cased_58_hidden-layer-0_R2.nii.gz /neurospin/unicog/protocols/IRMf/LePetitPrince_Pallier_2018/LePetitPrince/derivatives/fMRI/maps/english/sub-058/bert-base-cased_sequential_58_hidden-layer-0/sub-058_bert-base-cased_sequential_58_hidden-layer-0_R2.nii.gz /neurospin/unicog/protocols/IRMf/LePetitPrince_Pallier_2018/LePetitPrince/derivatives/fMRI/maps/english/sub-058/roberta-base_58_hidden-layer-0/sub-058_roberta-base_58_hidden-layer-0_R2.nii.gz\n"
     ]
    },
    {
     "name": "stderr",
     "output_type": "stream",
     "text": [
      "  7%|▋         | 1/14 [00:31<06:52, 31.75s/it]\n"
     ]
    },
    {
     "ename": "KeyboardInterrupt",
     "evalue": "Interrupted by user",
     "output_type": "error",
     "traceback": [
      "\u001b[0;31m---------------------------------------------------------------------------\u001b[0m",
      "\u001b[0;31mKeyboardInterrupt\u001b[0m                         Traceback (most recent call last)",
      "\u001b[0;32m<ipython-input-303-69a4f98afaac>\u001b[0m in \u001b[0;36m<module>\u001b[0;34m\u001b[0m\n\u001b[1;32m     12\u001b[0m             \u001b[0;32mfor\u001b[0m \u001b[0mimg_bert\u001b[0m\u001b[0;34m,\u001b[0m \u001b[0mimg_bert_seq\u001b[0m\u001b[0;34m,\u001b[0m \u001b[0mimg_roberta\u001b[0m \u001b[0;32min\u001b[0m \u001b[0mzip\u001b[0m\u001b[0;34m(\u001b[0m\u001b[0mimgs_bert\u001b[0m\u001b[0;34m,\u001b[0m \u001b[0mimgs_bert_seq\u001b[0m\u001b[0;34m,\u001b[0m \u001b[0mimgs_roberta\u001b[0m\u001b[0;34m)\u001b[0m\u001b[0;34m:\u001b[0m\u001b[0;34m\u001b[0m\u001b[0;34m\u001b[0m\u001b[0m\n\u001b[1;32m     13\u001b[0m                 \u001b[0mprint\u001b[0m\u001b[0;34m(\u001b[0m\u001b[0mimg_bert\u001b[0m\u001b[0;34m,\u001b[0m \u001b[0mimg_bert_seq\u001b[0m\u001b[0;34m,\u001b[0m \u001b[0mimg_roberta\u001b[0m\u001b[0;34m)\u001b[0m\u001b[0;34m\u001b[0m\u001b[0;34m\u001b[0m\u001b[0m\n\u001b[0;32m---> 14\u001b[0;31m                 \u001b[0ma\u001b[0m\u001b[0;34m=\u001b[0m\u001b[0minput\u001b[0m\u001b[0;34m(\u001b[0m\u001b[0;34m)\u001b[0m\u001b[0;34m\u001b[0m\u001b[0;34m\u001b[0m\u001b[0m\n\u001b[0m\u001b[1;32m     15\u001b[0m                 \u001b[0mi1\u001b[0m \u001b[0;34m=\u001b[0m \u001b[0mnib\u001b[0m\u001b[0;34m.\u001b[0m\u001b[0mload\u001b[0m\u001b[0;34m(\u001b[0m\u001b[0mimg_bert\u001b[0m\u001b[0;34m)\u001b[0m\u001b[0;34m\u001b[0m\u001b[0;34m\u001b[0m\u001b[0m\n\u001b[1;32m     16\u001b[0m                 \u001b[0mi2\u001b[0m \u001b[0;34m=\u001b[0m \u001b[0mnib\u001b[0m\u001b[0;34m.\u001b[0m\u001b[0mload\u001b[0m\u001b[0;34m(\u001b[0m\u001b[0mimg_bert_seq\u001b[0m\u001b[0;34m)\u001b[0m\u001b[0;34m\u001b[0m\u001b[0;34m\u001b[0m\u001b[0m\n",
      "\u001b[0;32m~/anaconda3/envs/parietal/lib/python3.7/site-packages/ipykernel/kernelbase.py\u001b[0m in \u001b[0;36mraw_input\u001b[0;34m(self, prompt)\u001b[0m\n\u001b[1;32m    861\u001b[0m             \u001b[0mself\u001b[0m\u001b[0;34m.\u001b[0m\u001b[0m_parent_ident\u001b[0m\u001b[0;34m,\u001b[0m\u001b[0;34m\u001b[0m\u001b[0;34m\u001b[0m\u001b[0m\n\u001b[1;32m    862\u001b[0m             \u001b[0mself\u001b[0m\u001b[0;34m.\u001b[0m\u001b[0m_parent_header\u001b[0m\u001b[0;34m,\u001b[0m\u001b[0;34m\u001b[0m\u001b[0;34m\u001b[0m\u001b[0m\n\u001b[0;32m--> 863\u001b[0;31m             \u001b[0mpassword\u001b[0m\u001b[0;34m=\u001b[0m\u001b[0;32mFalse\u001b[0m\u001b[0;34m,\u001b[0m\u001b[0;34m\u001b[0m\u001b[0;34m\u001b[0m\u001b[0m\n\u001b[0m\u001b[1;32m    864\u001b[0m         )\n\u001b[1;32m    865\u001b[0m \u001b[0;34m\u001b[0m\u001b[0m\n",
      "\u001b[0;32m~/anaconda3/envs/parietal/lib/python3.7/site-packages/ipykernel/kernelbase.py\u001b[0m in \u001b[0;36m_input_request\u001b[0;34m(self, prompt, ident, parent, password)\u001b[0m\n\u001b[1;32m    891\u001b[0m             \u001b[0;32mexcept\u001b[0m \u001b[0mKeyboardInterrupt\u001b[0m\u001b[0;34m:\u001b[0m\u001b[0;34m\u001b[0m\u001b[0;34m\u001b[0m\u001b[0m\n\u001b[1;32m    892\u001b[0m                 \u001b[0;31m# re-raise KeyboardInterrupt, to truncate traceback\u001b[0m\u001b[0;34m\u001b[0m\u001b[0;34m\u001b[0m\u001b[0;34m\u001b[0m\u001b[0m\n\u001b[0;32m--> 893\u001b[0;31m                 \u001b[0;32mraise\u001b[0m \u001b[0mKeyboardInterrupt\u001b[0m\u001b[0;34m(\u001b[0m\u001b[0;34m\"Interrupted by user\"\u001b[0m\u001b[0;34m)\u001b[0m \u001b[0;32mfrom\u001b[0m \u001b[0;32mNone\u001b[0m\u001b[0;34m\u001b[0m\u001b[0;34m\u001b[0m\u001b[0m\n\u001b[0m\u001b[1;32m    894\u001b[0m             \u001b[0;32melse\u001b[0m\u001b[0;34m:\u001b[0m\u001b[0;34m\u001b[0m\u001b[0;34m\u001b[0m\u001b[0m\n\u001b[1;32m    895\u001b[0m                 \u001b[0;32mbreak\u001b[0m\u001b[0;34m\u001b[0m\u001b[0;34m\u001b[0m\u001b[0m\n",
      "\u001b[0;31mKeyboardInterrupt\u001b[0m: Interrupted by user"
     ]
    }
   ],
   "source": [
    "for analysis_of_interest in analysis.keys():\n",
    "    for key in tqdm(data['bert-base-cased'][analysis_of_interest].keys()):\n",
    "        if key != 'models':\n",
    "            # R2\n",
    "            print('Retrieving data...')\n",
    "            imgs_bert = data['bert-base-cased'][analysis_of_interest][key]['R2']\n",
    "            imgs_bert_seq = data['bert-base-cased_sequential'][analysis_of_interest][key]['R2']\n",
    "            imgs_roberta = data['roberta-base'][analysis_of_interest][key]['R2']\n",
    "            imgs_gpt2 = data['gpt2'][analysis_of_interest][key]['R2']\n",
    "            \n",
    "            imgs_bert_vs_bert_seq = []\n",
    "            imgs_roberta_vs_bert = []\n",
    "            imgs_bert_vs_gpt2 = []\n",
    "            imgs_bert_seq_vs_gpt2 = []\n",
    "            for img_bert, img_bert_seq, img_roberta, img_gpt2 in zip(imgs_bert, imgs_bert_seq, imgs_roberta, imgs_gpt2):\n",
    "                i1 = nib.load(img_bert)\n",
    "                i2 = nib.load(img_bert_seq)\n",
    "                i3 = nib.load(img_roberta)\n",
    "                i4 = nib.load(img_gpt2)\n",
    "                imgs_bert_vs_bert_seq.append(new_img_like(i1, i1.get_data() - i2.get_data()))\n",
    "                imgs_roberta_vs_bert.append(new_img_like(i3, i3.get_data() - i1.get_data()))\n",
    "                imgs_bert_vs_gpt2.append(new_img_like(i1, i1.get_data() - i4.get_data()))\n",
    "                imgs_bert_seq_vs_gpt2.append(new_img_like(i2, i2.get_data() - i4.get_data()))\n",
    "                \n",
    "            name_1 = '_'.join(['Bert-VS-Bert_sequential', key])\n",
    "            name_2 = '_'.join(['RoBerta-VS-Bert', key])\n",
    "            name_3 = '_'.join(['Bert-VS-GPT2', key])\n",
    "            name_4 = '_'.join(['Bert_sequential-VS-GTP2', key])\n",
    "            output_dir_1 = os.path.join(PROJECT_PATH, 'derivatives/fMRI/analysis/{}/{}'.format(language, name_1))\n",
    "            output_dir_2 = os.path.join(PROJECT_PATH, 'derivatives/fMRI/analysis/{}/{}'.format(language, name_2))\n",
    "            output_dir_3 = os.path.join(PROJECT_PATH, 'derivatives/fMRI/analysis/{}/{}'.format(language, name_3))\n",
    "            output_dir_4 = os.path.join(PROJECT_PATH, 'derivatives/fMRI/analysis/{}/{}'.format(language, name_4))\n",
    "            check_folder(output_dir_1)\n",
    "            check_folder(output_dir_2)\n",
    "            check_folder(output_dir_3)\n",
    "            check_folder(output_dir_4)\n",
    "            print('One sample t-test...')\n",
    "            create_one_sample_t_test(name_1 + '_R2', imgs_bert_vs_bert_seq, output_dir_1, smoothing_fwhm=smoothing_fwhm, vmax=None)\n",
    "            create_one_sample_t_test(name_2 + '_R2', imgs_roberta_vs_bert, output_dir_2, smoothing_fwhm=smoothing_fwhm, vmax=None)\n",
    "            create_one_sample_t_test(name_3 + '_R2', imgs_bert_vs_gpt2, output_dir_3, smoothing_fwhm=smoothing_fwhm, vmax=None)\n",
    "            create_one_sample_t_test(name_4 + '_R2', imgs_bert_seq_vs_gpt2, output_dir_4, smoothing_fwhm=smoothing_fwhm, vmax=None)\n",
    "            # Pearson Coefficient\n",
    "            print('Retrieving data...')\n",
    "            imgs_bert = data['bert-base-cased'][analysis_of_interest][key]['Pearson_coeff']\n",
    "            imgs_bert_seq = data['bert-base-cased_sequential'][analysis_of_interest][key]['Pearson_coeff']\n",
    "            imgs_roberta = data['roberta-base'][analysis_of_interest][key]['Pearson_coeff']\n",
    "            imgs_gpt2 = data['gpt2'][analysis_of_interest][key]['Pearson_coeff']\n",
    "            \n",
    "            imgs_bert_vs_bert_seq = []\n",
    "            imgs_bert_vs_roberta = []\n",
    "            imgs_bert_vs_gpt2 = []\n",
    "            imgs_bert_seq_vs_gpt2 = []\n",
    "            for img_bert, img_bert_seq, img_roberta, img_gpt2 in zip(imgs_bert, imgs_bert_seq, imgs_roberta, imgs_gpt2):\n",
    "                i1 = nib.load(img_bert)\n",
    "                i2 = nib.load(img_bert_seq)\n",
    "                i3 = nib.load(img_roberta)\n",
    "                i4 = nib.load(img_gpt2)\n",
    "                imgs_bert_vs_bert_seq.append(new_img_like(i1, i1.get_data() - i2.get_data()))\n",
    "                imgs_bert_vs_roberta.append(new_img_like(i3, i3.get_data() - i1.get_data()))\n",
    "                imgs_bert_vs_gpt2.append(new_img_like(i1, i1.get_data() - i4.get_data()))\n",
    "                imgs_bert_seq_vs_gpt2.append(new_img_like(i2, i2.get_data() - i4.get_data()))\n",
    "            create_one_sample_t_test(name_1 + '_Pearson_coeff', imgs_bert_vs_bert_seq, output_dir_1, smoothing_fwhm=smoothing_fwhm, vmax=None)\n",
    "            create_one_sample_t_test(name_2 + '_Pearson_coeff', imgs_bert_vs_roberta, output_dir_2, smoothing_fwhm=smoothing_fwhm, vmax=None)\n",
    "            create_one_sample_t_test(name_3 + '_Pearson_coeff', imgs_bert_vs_gpt2, output_dir_3, smoothing_fwhm=smoothing_fwhm, vmax=None)\n",
    "            create_one_sample_t_test(name_4 + '_Pearson_coeff', imgs_bert_seq_vs_gpt2, output_dir_4, smoothing_fwhm=smoothing_fwhm, vmax=None)\n",
    "            "
   ]
  },
  {
   "cell_type": "code",
   "execution_count": null,
   "metadata": {},
   "outputs": [],
   "source": [
    "#imgs = []\n",
    "#for img1, img2 in zip(files1, files2):\n",
    "#    i1 = nibabel.load(img1)\n",
    "#    i2 = nibabel.load(img2)\n",
    "#    imgs.append(new_img_like(i1, i1.get_data() - i2.get_data()))\n",
    "#\n",
    "#\n",
    "#vmax= None\n",
    "#create_one_sample_t_test(name, imgs, output_dir, smoothing_fwhm=5.0, vmax=vmax)\n"
   ]
  },
  {
   "cell_type": "markdown",
   "metadata": {},
   "source": [
    "### Attention heads analysis"
   ]
  },
  {
   "cell_type": "code",
   "execution_count": 22,
   "metadata": {},
   "outputs": [],
   "source": [
    "surnames = {'attention-layer-4-head-10': 'L4-H10', \n",
    "            'attention-layer-6-head-7': 'L6-H7', \n",
    "            'attention-layer-7-head-6': 'L7-H6', \n",
    "            'attention-layer-8-head-1': 'L8-H1', \n",
    "            'attention-layer-8-head-10': 'L8-H10', \n",
    "            'attention-layer-8-head-11': 'L8-H11', \n",
    "            'attention-layer-8-head-2': 'L8-H2', \n",
    "            'attention-layer-9-head-6': 'L9-H6',\n",
    "            'attention-layer-1': 'A-L1', \n",
    "            'attention-layer-10': 'A-L10', \n",
    "            'attention-layer-11': 'A-L11', \n",
    "            'attention-layer-12': 'A-L12', \n",
    "            'attention-layer-2': 'A-L2', \n",
    "            'attention-layer-3': 'A-L3', \n",
    "            'attention-layer-4': 'A-L4', \n",
    "            'attention-layer-5': 'A-L5', \n",
    "            'attention-layer-6': 'A-L6', \n",
    "            'attention-layer-7': 'A-L7', \n",
    "            'attention-layer-8': 'A-L8', \n",
    "            'attention-layer-9': 'A-L9',\n",
    "            'hidden-layer-1': 'H-L1', \n",
    "            'hidden-layer-10': 'H-L10',  \n",
    "            'hidden-layer-11': 'H-L11',  \n",
    "            'hidden-layer-0': 'H-L0', \n",
    "            'hidden-layer-12': 'H-L12',\n",
    "            'hidden-layer-2': 'H-L2', \n",
    "            'hidden-layer-3': 'H-L3', \n",
    "            'hidden-layer-4': 'H-L4',\n",
    "            'hidden-layer-5': 'H-L5',\n",
    "            'hidden-layer-6': 'H-L6',\n",
    "            'hidden-layer-7': 'H-L7',\n",
    "            'hidden-layer-8': 'H-L8',\n",
    "            'hidden-layer-9': 'H-L9',\n",
    "            'word_position': 'Word-position',\n",
    "                'wordrate': 'Wordrate',\n",
    "                'log_frequency': 'Log-frequency',\n",
    "                'function_words': 'Function-words',\n",
    "               'content-words': 'Content-words',\n",
    "                'wordrate_all_model': 'All-word-related-models',\n",
    "                'topdown_model': 'Topdown-parser',\n",
    "                'rms': 'RMS',\n",
    "                'other_sentence_onset': 'Sentence-onset',\n",
    "                'mfcc': 'MFCC',\n",
    "                'gpt2_hidden-layer-9': 'GPT2-H-L9',\n",
    "                'gpt2_hidden-layer-8': 'GPT2-H-L8',\n",
    "                'gpt2_hidden-layer-7': 'GPT2-H-L7',\n",
    "                'gpt2_hidden-layer-6': 'GPT2-H-L6',\n",
    "                'gpt2_hidden-layer-5': 'GPT2-H-L5',\n",
    "                'gpt2_hidden-layer-4': 'GPT2-H-L4',\n",
    "                'gpt2_hidden-layer-3': 'GPT2-H-L3',\n",
    "                'gpt2_hidden-layer-2': 'GPT2-H-L2',\n",
    "                'gpt2_hidden-layer-12': 'GPT2-H-L12',\n",
    "                'gpt2_hidden-layer-11': 'GPT2-H-L11',\n",
    "                'gpt2_hidden-layer-10': 'GPT2-H-L10',\n",
    "                'gpt2_hidden-layer-1': 'GPT2-H-L1',\n",
    "                'gpt2_embeddings': 'GPT2-L0',\n",
    "                'gpt2_all-hidden-layers': 'GPT2-all-hidden',\n",
    "                'bottomup_model': 'Bottomup-parser',\n",
    "                'bert_bucket_median_all-layers': 'BERT-median-all',\n",
    "                'bert_bucket_layer-9': 'BERT-L9',\n",
    "                'bert_bucket_layer-8': 'BERT-L8',\n",
    "                'bert_bucket_layer-7': 'BERT-L7',\n",
    "                'bert_bucket_layer-6': 'BERT-L6',\n",
    "                'bert_bucket_layer-5': 'BERT-L5',\n",
    "                'bert_bucket_layer-4': 'BERT-L4',\n",
    "                'bert_bucket_layer-3': 'BERT-L3',\n",
    "                'bert_bucket_layer-2': 'BERT-L2',\n",
    "                'bert_bucket_layer-12': 'BERT-L12',\n",
    "                'bert_bucket_layer-11': 'BERT-L11',\n",
    "                'bert_bucket_layer-10': 'BERT-L10',\n",
    "                'bert_bucket_layer-1': 'BERT-L1',\n",
    "                'bert_bucket_embeddings': 'BERT-L0',\n",
    "                'bert_bucket_all-layers': 'BERT-all',\n",
    "                'glove_embeddings': 'GloVe',\n",
    "                'lstm_wikikristina_embedding-size_600_nhid_768_nlayers_1_dropout_02_hidden_first-layer': 'LSTM-E600-H768-#L1-all',\n",
    "                'lstm_wikikristina_embedding-size_600_nhid_300_nlayers_1_dropout_02_hidden_first-layer': 'LSTM-E600-H300-#L1-all',\n",
    "                'lstm_wikikristina_embedding-size_600_nhid_150_nlayers_2_dropout_02_hidden_all-layers': 'LSTM-E600-H150-#L2-all',\n",
    "                'lstm_wikikristina_embedding-size_600_nhid_100_nlayers_3_dropout_02_hidden_all-layers': 'LSTM-E600-H100-#L3-all',\n",
    "                'lstm_wikikristina_embedding-size_600_nhid_75_nlayers_4_dropout_02_hidden_all-layers': 'LSTM-E600-H75-#L4-all',\n",
    "                'lstm_wikikristina_embedding-size_600_nhid_150_nlayers_2_dropout_02_hidden_first-layer': 'LSTM-E600-H150-#L2-L1',\n",
    "                'lstm_wikikristina_embedding-size_600_nhid_150_nlayers_2_dropout_02_hidden_second-layer': 'LSTM-E600-H150-#L2-L2',\n",
    "                'lstm_wikikristina_embedding-size_600_nhid_100_nlayers_3_dropout_02_hidden_first-layer': 'LSTM-E600-H100-#L3-L1',\n",
    "                'lstm_wikikristina_embedding-size_600_nhid_100_nlayers_3_dropout_02_hidden_second-layer': 'LSTM-E600-H100-#L3-L2',\n",
    "                'lstm_wikikristina_embedding-size_600_nhid_100_nlayers_3_dropout_02_hidden_third-layer': 'LSTM-E600-H100-#L3-L3',\n",
    "                'lstm_wikikristina_embedding-size_600_nhid_75_nlayers_4_dropout_02_hidden_first-layer': 'LSTM-E600-H75-#L4-L1',\n",
    "                'lstm_wikikristina_embedding-size_600_nhid_75_nlayers_4_dropout_02_hidden_second-layer': 'LSTM-E600-H75-#L4-L2',\n",
    "                'lstm_wikikristina_embedding-size_600_nhid_75_nlayers_4_dropout_02_hidden_third-layer': 'LSTM-E600-H75-#L4-L3',\n",
    "                'lstm_wikikristina_embedding-size_600_nhid_75_nlayers_4_dropout_02_hidden_fourth-layer': 'LSTM-E600-H75-#L4-L4',\n",
    "                'lstm_wikikristina_embedding-size_600_nhid_768_nlayers_1_dropout_02_cell_first-layer': 'LSTM-E600-C768-#L1-all',\n",
    "                'lstm_wikikristina_embedding-size_600_nhid_300_nlayers_1_dropout_02_cell_first-layer': 'LSTM-E600-C300-#L1-all',\n",
    "                'lstm_wikikristina_embedding-size_600_nhid_150_nlayers_2_dropout_02_cell_all-layers': 'LSTM-E600-C150-#L2-all',\n",
    "                'lstm_wikikristina_embedding-size_600_nhid_100_nlayers_3_dropout_02_cell_all-layers': 'LSTM-E600-C100-#L3-all',\n",
    "                'lstm_wikikristina_embedding-size_600_nhid_75_nlayers_4_dropout_02_cell_all-layers': 'LSTM-E600-C75-#L4-all',\n",
    "                'lstm_wikikristina_embedding-size_600_nhid_150_nlayers_2_dropout_02_cell_first-layer': 'LSTM-E600-C150-#L2-L1',\n",
    "                'lstm_wikikristina_embedding-size_600_nhid_150_nlayers_2_dropout_02_cell_second-layer': 'LSTM-E600-C150-#L2-L2',\n",
    "                'lstm_wikikristina_embedding-size_600_nhid_100_nlayers_3_dropout_02_cell_first-layer': 'LSTM-E600-C100-#L3-L1',\n",
    "                'lstm_wikikristina_embedding-size_600_nhid_100_nlayers_3_dropout_02_cell_second-layer': 'LSTM-E600-C100-#L3-L2',\n",
    "                'lstm_wikikristina_embedding-size_600_nhid_100_nlayers_3_dropout_02_cell_third-layer': 'LSTM-E600-C100-#L3-L3',\n",
    "                'lstm_wikikristina_embedding-size_600_nhid_75_nlayers_4_dropout_02_cell_first-layer': 'LSTM-E600-C75-#L4-L1',\n",
    "                'lstm_wikikristina_embedding-size_600_nhid_75_nlayers_4_dropout_02_cell_second-layer': 'LSTM-E600-C75-#L4-L2',\n",
    "                'lstm_wikikristina_embedding-size_600_nhid_75_nlayers_4_dropout_02_cell_third-layer': 'LSTM-E600-C75-#L4-L3',\n",
    "                'lstm_wikikristina_embedding-size_600_nhid_75_nlayers_4_dropout_02_cell_fourth-layer': 'LSTM-E600-C75-#L4-L4',\n",
    "                'lstm_wikikristina_embedding-size_650_nhid_650_nlayers_2_dropout_02_cell_unit_775': 'LSTM-E650-H650-Cu775',\n",
    "                'lstm_wikikristina_embedding-size_650_nhid_650_nlayers_2_dropout_02_cell_unit_775_987': 'LSTM-E650-H650-Cu775-987',\n",
    "                'lstm_wikikristina_embedding-size_650_nhid_650_nlayers_2_dropout_02_cell_unit_987': 'LSTM-E650-H650-Cu987',\n",
    "                'lstm_wikikristina_embedding-size_650_nhid_650_nlayers_2_dropout_02_forget_unit_775': 'LSTM-E650-H650-Fu775',\n",
    "                'lstm_wikikristina_embedding-size_650_nhid_650_nlayers_2_dropout_02_forget_unit_987': 'LSTM-E650-H650-Fu775',\n",
    "                'lstm_wikikristina_embedding-size_650_nhid_650_nlayers_2_dropout_02_hidden_short-range-units': 'LSTM-E650-H650-Short-Range',\n",
    "                'lstm_wikikristina_embedding-size_650_nhid_650_nlayers_2_dropout_02_hidden_unit_1149': 'LSTM-E650-H650-Hu1149',\n",
    "                'lstm_wikikristina_embedding-size_650_nhid_650_nlayers_2_dropout_02_input_unit_775': 'LSTM-E650-H650-Iu775',\n",
    "                'lstm_wikikristina_embedding-size_650_nhid_650_nlayers_2_dropout_02_input_unit_987': 'LSTM-E650-H650-Iu987',\n",
    "                'lstm_wikikristina_embedding-size_650_nhid_650_nlayers_2_dropout_02_forget_unit_775_987': 'LSTM-E650-H650-Fu775-987',\n",
    "                'lstm_wikikristina_embedding-size_650_nhid_650_nlayers_2_dropout_02_hidden_unit_1282_1283': 'LSTM-E650-H650-Hu1282-1283',\n",
    "                'bert_bucket_pca_300_all-layers': 'BERT-all-pca-300',\n",
    "                'gpt2_pca_300_all-layers':'GPT2-all-pca-300',\n",
    "                'maps_r2_':'R2', \n",
    "                'maps_pearson_corr':'Pearson',\n",
    "                'maps_significant_pearson_corr_with_pvalues':'Significant-Pearson', \n",
    "                'maps_significant_r2_with_pvalues':'Significant-R2',\n",
    "                'Background': 'Background', \n",
    "                'Frontal Pole': 'FP', \n",
    "                'Insular Cortex': 'InsC', \n",
    "                'Superior Frontal Gyrus': 'SFG', \n",
    "                'Middle Frontal Gyrus': 'MFG', \n",
    "                'Inferior Frontal Gyrus, pars triangularis': 'IFG, pars tr.', \n",
    "                'Inferior Frontal Gyrus, pars opercularis': 'IFG, pars op.', \n",
    "                'Precentral Gyrus': 'PrG', \n",
    "                'Temporal Pole': 'TP', \n",
    "                'Superior Temporal Gyrus, anterior division': 'STG-a', \n",
    "                'Superior Temporal Gyrus, posterior division': 'STG-p', \n",
    "                'Middle Temporal Gyrus, anterior division': 'MTG-a', \n",
    "                'Middle Temporal Gyrus, posterior division': 'MTG-p', \n",
    "                'Middle Temporal Gyrus, temporooccipital part': 'MTG-toc', \n",
    "                'Inferior Temporal Gyrus, anterior division': 'ITG-a', \n",
    "                'Inferior Temporal Gyrus, posterior division': 'ITG-p', \n",
    "                'Inferior Temporal Gyrus, temporooccipital part': 'ITG-toc', \n",
    "                'Postcentral Gyrus': 'PoG', \n",
    "                'Superior Parietal Lobule': 'SPL', \n",
    "                'Supramarginal Gyrus, anterior division': 'SmG-a', \n",
    "                'Supramarginal Gyrus, posterior division': 'SmG-p', \n",
    "                'Angular Gyrus': 'AnG', \n",
    "                'Lateral Occipital Cortex, superior division': 'LOC-s', \n",
    "                'Lateral Occipital Cortex, inferior division': 'LOC-i', \n",
    "                'Intracalcarine Cortex': 'IccC', \n",
    "                'Frontal Medial Cortex': 'FMC', \n",
    "                'Juxtapositional Lobule Cortex (formerly Supplementary Motor Cortex)': 'SMA', \n",
    "                'Subcallosal Cortex': 'SC', \n",
    "                'Paracingulate Gyrus': 'PCgG', \n",
    "                'Cingulate Gyrus, anterior division': 'CgG-a', \n",
    "                'Cingulate Gyrus, posterior division': 'CgG-p', \n",
    "                'Precuneous Cortex': 'PrCuG', \n",
    "                'Cuneal Cortex': 'CuC', \n",
    "                'Frontal Orbital Cortex': 'FoG', \n",
    "                'Parahippocampal Gyrus, anterior division': 'PHG-a', \n",
    "                'Parahippocampal Gyrus, posterior division': 'PHG-p', \n",
    "                'Lingual Gyrus': 'LgG', \n",
    "                'Temporal Fusiform Cortex, anterior division': 'TFuC-a', \n",
    "                'Temporal Fusiform Cortex, posterior division': 'TFuC-p', \n",
    "                'Temporal Occipital Fusiform Cortex': 'TocFucC', \n",
    "                'Occipital Fusiform Gyrus': 'OcFuC', \n",
    "                'Frontal Operculum Cortex': 'FOpC', \n",
    "                'Central Opercular Cortex': 'cOpC', \n",
    "                'Parietal Operculum Cortex': 'POpC', \n",
    "                'Planum Polare': 'PP', \n",
    "                \"Heschl's Gyrus (includes H1 and H2)\": 'HG', \n",
    "                'Planum Temporale': 'PT', \n",
    "                'Supracalcarine Cortex': 'SccC', \n",
    "                'Occipital Pole': 'OcP'}"
   ]
  },
  {
   "cell_type": "code",
   "execution_count": 23,
   "metadata": {},
   "outputs": [],
   "source": [
    "limit_values = {'maps_r2_':0.07,\n",
    "                'maps_pearson_corr':0.6,\n",
    "                'maps_significant_pearson_corr_with_pvalues':0.4,\n",
    "                'maps_significant_r2_with_pvalues':0.07}\n",
    "\n",
    "syntactic_roi = ['Inferior Frontal Gyrus, pars triangularis',\n",
    "                    'Inferior Frontal Gyrus, pars opercularis',\n",
    "                    'Temporal Pole',\n",
    "                    'Superior Temporal Gyrus, anterior division',\n",
    "                    'Superior Temporal Gyrus, posterior division',\n",
    "                    'Middle Temporal Gyrus, anterior division',\n",
    "                    'Middle Temporal Gyrus, posterior division',\n",
    "                    'Middle Temporal Gyrus, temporooccipital part',\n",
    "                    'Angular Gyrus']\n",
    "\n",
    "language_roi = ['Inferior Frontal Gyrus, pars triangularis',\n",
    "                    'Inferior Frontal Gyrus, pars opercularis',\n",
    "                    'Temporal Pole',\n",
    "                    'Superior Temporal Gyrus, anterior division',\n",
    "                    'Superior Temporal Gyrus, posterior division',\n",
    "                    'Middle Temporal Gyrus, anterior division',\n",
    "                    'Middle Temporal Gyrus, posterior division',\n",
    "                    'Middle Temporal Gyrus, temporooccipital part',\n",
    "                    'Angular Gyrus']"
   ]
  },
  {
   "cell_type": "code",
   "execution_count": 24,
   "metadata": {},
   "outputs": [],
   "source": [
    "syntactic_roi += [surnames[item] for item in syntactic_roi]\n",
    "language_roi += [surnames[item] for item in language_roi]"
   ]
  },
  {
   "cell_type": "code",
   "execution_count": 25,
   "metadata": {},
   "outputs": [],
   "source": [
    "def vertical_plot(data, x_names, analysis_name, save_folder, object_of_interest, surnames, models, syntactic_roi, language_roi, figsize=(9,12), count=False, title=None, ylabel='Regions of interest (ROI)', xlabel='R2 value', model_name=''):\n",
    "    \"\"\"Plots models vertically.\n",
    "    \"\"\"\n",
    "    #limit = (-0.01, 0.05) if object_of_interest=='R2' else None\n",
    "    limit = None\n",
    "    dash_inf = limit[0] if limit else 0\n",
    "    x = x_names.copy()\n",
    "    plt.figure(figsize=figsize) # (7.6,12)\n",
    "    ax = plt.axes()\n",
    "    order = np.argsort(np.mean(data, axis=1))\n",
    "    data = data[order, :]\n",
    "    x = [surnames[x[i]] for i in order]\n",
    "    ax = plt.axes()\n",
    "    # set possible colors\n",
    "    colormap = plt.cm.gist_ncar #nipy_spectral, Set1,Paired   \n",
    "    colors = [colormap(i) for i in np.linspace(0, 1,data.shape[1] + 1)]\n",
    "    for col in range(data.shape[1]):\n",
    "        plt.plot(data[:,col], x, '.', alpha=0.7, markersize=9, color=colors[col])\n",
    "    plt.title(title)\n",
    "    plt.ylabel(ylabel, fontsize=16)\n",
    "    plt.xlabel(xlabel, fontsize=16)\n",
    "    if count:\n",
    "        plt.axvline(x=100, color='k', linestyle='-', alpha=0.2)\n",
    "    for col in range(data.shape[1]):\n",
    "        plt.hlines(x, dash_inf, data[:,col], linestyle=\"dashed\", alpha=0.05)\n",
    "    plt.xlim(limit)\n",
    "    plt.minorticks_on()\n",
    "    ax.tick_params(axis='x', labelsize=12)\n",
    "    ax.tick_params(axis='y', labelsize=12)\n",
    "    plt.grid(which='major', linestyle=':', linewidth='0.5', color='black', alpha=0.4, axis='x')\n",
    "    plt.grid(which='minor', linestyle=':', linewidth='0.5', color='black', alpha=0.1, axis='x')\n",
    "    plt.legend([surnames[model] for model in models], ncol=3, bbox_to_anchor=(0,0,1,1), fontsize=5)\n",
    "    for index, label in enumerate(x):\n",
    "        if label in language_roi:\n",
    "            if label in syntactic_roi:\n",
    "                ax.get_yticklabels()[index].set_bbox(dict(facecolor=\"green\", alpha=0.4)) # set box around label\n",
    "            #ax.axhspan(index-0.5, index+0.5, alpha=0.1, color='red') #set shade over the line of interest\n",
    "    plt.tight_layout()\n",
    "    check_folder(save_folder)\n",
    "    plt.savefig(os.path.join(save_folder, '{model_name}-{analysis_name}.png'.format(model_name=model_name,\n",
    "                                                                                    analysis_name=analysis_name)))\n",
    "    #plt.show()\n",
    "    plt.close('all')"
   ]
  },
  {
   "cell_type": "code",
   "execution_count": 26,
   "metadata": {},
   "outputs": [],
   "source": [
    "atlas_maps, labels = load_atlas() # load harvard-oxford atlas named'cort-prob-2mm'"
   ]
  },
  {
   "cell_type": "markdown",
   "metadata": {},
   "source": [
    "### R2"
   ]
  },
  {
   "cell_type": "code",
   "execution_count": 27,
   "metadata": {
    "scrolled": true
   },
   "outputs": [
    {
     "name": "stderr",
     "output_type": "stream",
     "text": [
      "\r",
      "  0%|          | 0/48 [00:00<?, ?it/s]"
     ]
    },
    {
     "name": "stdout",
     "output_type": "stream",
     "text": [
      "\tLooping through labeled masks...\n"
     ]
    },
    {
     "name": "stderr",
     "output_type": "stream",
     "text": [
      "100%|██████████| 48/48 [01:12<00:00,  1.50s/it]\n",
      "/home/ap259944/anaconda3/envs/parietal/lib/python3.7/site-packages/ipykernel_launcher.py:13: MatplotlibDeprecationWarning: Adding an axes using the same arguments as a previous axes currently reuses the earlier instance.  In a future version, a new instance will always be created and returned.  Meanwhile, this warning can be suppressed, and the future behavior ensured, by passing a unique label to each axes instance.\n",
      "  del sys.path[0]\n"
     ]
    },
    {
     "name": "stdout",
     "output_type": "stream",
     "text": [
      "\t\t-->Done\n",
      "\tPlotting...\n"
     ]
    },
    {
     "name": "stderr",
     "output_type": "stream",
     "text": [
      "/home/ap259944/anaconda3/envs/parietal/lib/python3.7/site-packages/ipykernel_launcher.py:13: MatplotlibDeprecationWarning: Adding an axes using the same arguments as a previous axes currently reuses the earlier instance.  In a future version, a new instance will always be created and returned.  Meanwhile, this warning can be suppressed, and the future behavior ensured, by passing a unique label to each axes instance.\n",
      "  del sys.path[0]\n",
      "  0%|          | 0/48 [00:00<?, ?it/s]"
     ]
    },
    {
     "name": "stdout",
     "output_type": "stream",
     "text": [
      "\t\t-->Done\n",
      "\tLooping through labeled masks...\n"
     ]
    },
    {
     "name": "stderr",
     "output_type": "stream",
     "text": [
      "100%|██████████| 48/48 [00:57<00:00,  1.20s/it]\n",
      "/home/ap259944/anaconda3/envs/parietal/lib/python3.7/site-packages/ipykernel_launcher.py:13: MatplotlibDeprecationWarning: Adding an axes using the same arguments as a previous axes currently reuses the earlier instance.  In a future version, a new instance will always be created and returned.  Meanwhile, this warning can be suppressed, and the future behavior ensured, by passing a unique label to each axes instance.\n",
      "  del sys.path[0]\n"
     ]
    },
    {
     "name": "stdout",
     "output_type": "stream",
     "text": [
      "\t\t-->Done\n",
      "\tPlotting...\n"
     ]
    },
    {
     "name": "stderr",
     "output_type": "stream",
     "text": [
      "/home/ap259944/anaconda3/envs/parietal/lib/python3.7/site-packages/ipykernel_launcher.py:13: MatplotlibDeprecationWarning: Adding an axes using the same arguments as a previous axes currently reuses the earlier instance.  In a future version, a new instance will always be created and returned.  Meanwhile, this warning can be suppressed, and the future behavior ensured, by passing a unique label to each axes instance.\n",
      "  del sys.path[0]\n",
      "  0%|          | 0/48 [00:00<?, ?it/s]"
     ]
    },
    {
     "name": "stdout",
     "output_type": "stream",
     "text": [
      "\t\t-->Done\n",
      "\tLooping through labeled masks...\n"
     ]
    },
    {
     "name": "stderr",
     "output_type": "stream",
     "text": [
      "100%|██████████| 48/48 [00:39<00:00,  1.21it/s]\n",
      "/home/ap259944/anaconda3/envs/parietal/lib/python3.7/site-packages/ipykernel_launcher.py:13: MatplotlibDeprecationWarning: Adding an axes using the same arguments as a previous axes currently reuses the earlier instance.  In a future version, a new instance will always be created and returned.  Meanwhile, this warning can be suppressed, and the future behavior ensured, by passing a unique label to each axes instance.\n",
      "  del sys.path[0]\n"
     ]
    },
    {
     "name": "stdout",
     "output_type": "stream",
     "text": [
      "\t\t-->Done\n",
      "\tPlotting...\n"
     ]
    },
    {
     "name": "stderr",
     "output_type": "stream",
     "text": [
      "/home/ap259944/anaconda3/envs/parietal/lib/python3.7/site-packages/ipykernel_launcher.py:13: MatplotlibDeprecationWarning: Adding an axes using the same arguments as a previous axes currently reuses the earlier instance.  In a future version, a new instance will always be created and returned.  Meanwhile, this warning can be suppressed, and the future behavior ensured, by passing a unique label to each axes instance.\n",
      "  del sys.path[0]\n"
     ]
    },
    {
     "name": "stdout",
     "output_type": "stream",
     "text": [
      "\t\t-->Done\n"
     ]
    },
    {
     "name": "stderr",
     "output_type": "stream",
     "text": [
      "\r",
      "  0%|          | 0/48 [00:00<?, ?it/s]"
     ]
    },
    {
     "name": "stdout",
     "output_type": "stream",
     "text": [
      "\tLooping through labeled masks...\n"
     ]
    },
    {
     "name": "stderr",
     "output_type": "stream",
     "text": [
      "100%|██████████| 48/48 [01:04<00:00,  1.35s/it]\n",
      "/home/ap259944/anaconda3/envs/parietal/lib/python3.7/site-packages/ipykernel_launcher.py:13: MatplotlibDeprecationWarning: Adding an axes using the same arguments as a previous axes currently reuses the earlier instance.  In a future version, a new instance will always be created and returned.  Meanwhile, this warning can be suppressed, and the future behavior ensured, by passing a unique label to each axes instance.\n",
      "  del sys.path[0]\n"
     ]
    },
    {
     "name": "stdout",
     "output_type": "stream",
     "text": [
      "\t\t-->Done\n",
      "\tPlotting...\n"
     ]
    },
    {
     "name": "stderr",
     "output_type": "stream",
     "text": [
      "/home/ap259944/anaconda3/envs/parietal/lib/python3.7/site-packages/ipykernel_launcher.py:13: MatplotlibDeprecationWarning: Adding an axes using the same arguments as a previous axes currently reuses the earlier instance.  In a future version, a new instance will always be created and returned.  Meanwhile, this warning can be suppressed, and the future behavior ensured, by passing a unique label to each axes instance.\n",
      "  del sys.path[0]\n",
      "  0%|          | 0/48 [00:00<?, ?it/s]"
     ]
    },
    {
     "name": "stdout",
     "output_type": "stream",
     "text": [
      "\t\t-->Done\n",
      "\tLooping through labeled masks...\n"
     ]
    },
    {
     "name": "stderr",
     "output_type": "stream",
     "text": [
      "100%|██████████| 48/48 [00:55<00:00,  1.16s/it]\n",
      "/home/ap259944/anaconda3/envs/parietal/lib/python3.7/site-packages/ipykernel_launcher.py:13: MatplotlibDeprecationWarning: Adding an axes using the same arguments as a previous axes currently reuses the earlier instance.  In a future version, a new instance will always be created and returned.  Meanwhile, this warning can be suppressed, and the future behavior ensured, by passing a unique label to each axes instance.\n",
      "  del sys.path[0]\n"
     ]
    },
    {
     "name": "stdout",
     "output_type": "stream",
     "text": [
      "\t\t-->Done\n",
      "\tPlotting...\n"
     ]
    },
    {
     "name": "stderr",
     "output_type": "stream",
     "text": [
      "/home/ap259944/anaconda3/envs/parietal/lib/python3.7/site-packages/ipykernel_launcher.py:13: MatplotlibDeprecationWarning: Adding an axes using the same arguments as a previous axes currently reuses the earlier instance.  In a future version, a new instance will always be created and returned.  Meanwhile, this warning can be suppressed, and the future behavior ensured, by passing a unique label to each axes instance.\n",
      "  del sys.path[0]\n",
      "  0%|          | 0/48 [00:00<?, ?it/s]"
     ]
    },
    {
     "name": "stdout",
     "output_type": "stream",
     "text": [
      "\t\t-->Done\n",
      "\tLooping through labeled masks...\n"
     ]
    },
    {
     "name": "stderr",
     "output_type": "stream",
     "text": [
      "100%|██████████| 48/48 [00:39<00:00,  1.23it/s]\n",
      "/home/ap259944/anaconda3/envs/parietal/lib/python3.7/site-packages/ipykernel_launcher.py:13: MatplotlibDeprecationWarning: Adding an axes using the same arguments as a previous axes currently reuses the earlier instance.  In a future version, a new instance will always be created and returned.  Meanwhile, this warning can be suppressed, and the future behavior ensured, by passing a unique label to each axes instance.\n",
      "  del sys.path[0]\n"
     ]
    },
    {
     "name": "stdout",
     "output_type": "stream",
     "text": [
      "\t\t-->Done\n",
      "\tPlotting...\n"
     ]
    },
    {
     "name": "stderr",
     "output_type": "stream",
     "text": [
      "/home/ap259944/anaconda3/envs/parietal/lib/python3.7/site-packages/ipykernel_launcher.py:13: MatplotlibDeprecationWarning: Adding an axes using the same arguments as a previous axes currently reuses the earlier instance.  In a future version, a new instance will always be created and returned.  Meanwhile, this warning can be suppressed, and the future behavior ensured, by passing a unique label to each axes instance.\n",
      "  del sys.path[0]\n",
      "  0%|          | 0/48 [00:00<?, ?it/s]"
     ]
    },
    {
     "name": "stdout",
     "output_type": "stream",
     "text": [
      "\t\t-->Done\n",
      "\tLooping through labeled masks...\n"
     ]
    },
    {
     "name": "stderr",
     "output_type": "stream",
     "text": [
      "100%|██████████| 48/48 [01:00<00:00,  1.26s/it]\n",
      "/home/ap259944/anaconda3/envs/parietal/lib/python3.7/site-packages/ipykernel_launcher.py:13: MatplotlibDeprecationWarning: Adding an axes using the same arguments as a previous axes currently reuses the earlier instance.  In a future version, a new instance will always be created and returned.  Meanwhile, this warning can be suppressed, and the future behavior ensured, by passing a unique label to each axes instance.\n",
      "  del sys.path[0]\n"
     ]
    },
    {
     "name": "stdout",
     "output_type": "stream",
     "text": [
      "\t\t-->Done\n",
      "\tPlotting...\n"
     ]
    },
    {
     "name": "stderr",
     "output_type": "stream",
     "text": [
      "/home/ap259944/anaconda3/envs/parietal/lib/python3.7/site-packages/ipykernel_launcher.py:13: MatplotlibDeprecationWarning: Adding an axes using the same arguments as a previous axes currently reuses the earlier instance.  In a future version, a new instance will always be created and returned.  Meanwhile, this warning can be suppressed, and the future behavior ensured, by passing a unique label to each axes instance.\n",
      "  del sys.path[0]\n",
      "  0%|          | 0/48 [00:00<?, ?it/s]"
     ]
    },
    {
     "name": "stdout",
     "output_type": "stream",
     "text": [
      "\t\t-->Done\n",
      "\tLooping through labeled masks...\n"
     ]
    },
    {
     "name": "stderr",
     "output_type": "stream",
     "text": [
      "100%|██████████| 48/48 [00:56<00:00,  1.18s/it]\n",
      "/home/ap259944/anaconda3/envs/parietal/lib/python3.7/site-packages/ipykernel_launcher.py:13: MatplotlibDeprecationWarning: Adding an axes using the same arguments as a previous axes currently reuses the earlier instance.  In a future version, a new instance will always be created and returned.  Meanwhile, this warning can be suppressed, and the future behavior ensured, by passing a unique label to each axes instance.\n",
      "  del sys.path[0]\n"
     ]
    },
    {
     "name": "stdout",
     "output_type": "stream",
     "text": [
      "\t\t-->Done\n",
      "\tPlotting...\n"
     ]
    },
    {
     "name": "stderr",
     "output_type": "stream",
     "text": [
      "/home/ap259944/anaconda3/envs/parietal/lib/python3.7/site-packages/ipykernel_launcher.py:13: MatplotlibDeprecationWarning: Adding an axes using the same arguments as a previous axes currently reuses the earlier instance.  In a future version, a new instance will always be created and returned.  Meanwhile, this warning can be suppressed, and the future behavior ensured, by passing a unique label to each axes instance.\n",
      "  del sys.path[0]\n",
      "  0%|          | 0/48 [00:00<?, ?it/s]"
     ]
    },
    {
     "name": "stdout",
     "output_type": "stream",
     "text": [
      "\t\t-->Done\n",
      "\tLooping through labeled masks...\n"
     ]
    },
    {
     "name": "stderr",
     "output_type": "stream",
     "text": [
      "100%|██████████| 48/48 [00:41<00:00,  1.15it/s]\n",
      "/home/ap259944/anaconda3/envs/parietal/lib/python3.7/site-packages/ipykernel_launcher.py:13: MatplotlibDeprecationWarning: Adding an axes using the same arguments as a previous axes currently reuses the earlier instance.  In a future version, a new instance will always be created and returned.  Meanwhile, this warning can be suppressed, and the future behavior ensured, by passing a unique label to each axes instance.\n",
      "  del sys.path[0]\n"
     ]
    },
    {
     "name": "stdout",
     "output_type": "stream",
     "text": [
      "\t\t-->Done\n",
      "\tPlotting...\n"
     ]
    },
    {
     "name": "stderr",
     "output_type": "stream",
     "text": [
      "/home/ap259944/anaconda3/envs/parietal/lib/python3.7/site-packages/ipykernel_launcher.py:13: MatplotlibDeprecationWarning: Adding an axes using the same arguments as a previous axes currently reuses the earlier instance.  In a future version, a new instance will always be created and returned.  Meanwhile, this warning can be suppressed, and the future behavior ensured, by passing a unique label to each axes instance.\n",
      "  del sys.path[0]\n"
     ]
    },
    {
     "name": "stdout",
     "output_type": "stream",
     "text": [
      "\t\t-->Done\n"
     ]
    }
   ],
   "source": [
    "for model_name in model_names:\n",
    "    for key in analysis:\n",
    "        maps = []\n",
    "        for model in data[model_name][key].keys():\n",
    "            if model == 'models':\n",
    "                models = data[model_name][key][model]\n",
    "            else:\n",
    "                name = '_'.join([model_name, model])\n",
    "                path = os.path.join(PROJECT_PATH, 'derivatives/fMRI/analysis/{}/{}'.format(language, name))\n",
    "                name = 'R2_group_fdr_effect'\n",
    "                maps.append(fetch_map(path, name)[0])\n",
    "        plot_name = [\"{} for {}\".format(model_name, key)]\n",
    "        x_labels = labels[1:]\n",
    "\n",
    "        mean = np.zeros((len(labels)-1, len(models)))\n",
    "        third_quartile = np.zeros((len(labels)-1, len(models)))\n",
    "        # extract data\n",
    "        print(\"\\tLooping through labeled masks...\")\n",
    "        for index_mask in tqdm(range(len(labels)-1)):\n",
    "            mask = math_img('img > 50', img=index_img(atlas_maps, index_mask))  \n",
    "            masker = NiftiMasker(mask_img=mask, memory='nilearn_cache', verbose=0)\n",
    "            masker.fit()\n",
    "\n",
    "            for index_model, model in enumerate(models):\n",
    "                array = masker.transform(maps[index_model])\n",
    "                third_quartile[index_mask, index_model] = np.percentile(array, 75)\n",
    "                mean[index_mask, index_model] = np.mean(array)\n",
    "        print(\"\\t\\t-->Done\")\n",
    "        \n",
    "        # Small reordering of models so that layers are in increasing order\n",
    "        if key=='Hidden-layers':\n",
    "            mean = np.hstack([mean[:, :2], mean[:,5:], mean[:,2:5]])\n",
    "            third_quartile = np.hstack([third_quartile[:, :2], third_quartile[:,5:], third_quartile[:,2:5]])\n",
    "            models = models[:2] + models[5:] + models[2:5]\n",
    "        elif key=='Attention-layers':\n",
    "            mean = np.hstack([mean[:, :1], mean[:,4:], mean[:,1:4]])\n",
    "            third_quartile = np.hstack([third_quartile[:, :1], third_quartile[:,4:], third_quartile[:,1:4]])\n",
    "            models = models[:1] + models[4:] + models[1:4]\n",
    "        elif key=='Specific-attention-heads':\n",
    "            mean = np.hstack([mean[:, :4], mean[:,6:7], mean[:,4:6], mean[:,7:]])\n",
    "            third_quartile = np.hstack([third_quartile[:, :4], third_quartile[:,6:7], third_quartile[:,4:6], third_quartile[:,7:]])\n",
    "            models = models[:4] + models[6:7] + models[4:6] + models[7:]\n",
    "\n",
    "        print(\"\\tPlotting...\")\n",
    "        vertical_plot(mean, x_labels, '{}-Mean_R2_per_ROI'.format(key), \n",
    "                        os.path.join(PROJECT_PATH, 'derivatives/fMRI/analysis/{}/{}'.format(language, key + '-Average')), \n",
    "                        'R2', surnames, models, syntactic_roi, language_roi, xlabel='Average R2 values', title='{}-{}'.format(model_name, key), model_name=model_name)\n",
    "        vertical_plot(third_quartile, x_labels, '{}-R2_Third_quartile_per_ROI'.format(key), \n",
    "                        os.path.join(PROJECT_PATH, 'derivatives/fMRI/analysis/{}/{}'.format(language,  key + '-3rd_Quartile')), \n",
    "                        'R2', surnames, models, syntactic_roi, language_roi, xlabel='Third Quartile R2 values', title='{}-{}'.format(model_name, key), model_name=model_name)\n",
    "        print(\"\\t\\t-->Done\")"
   ]
  },
  {
   "cell_type": "code",
   "execution_count": 28,
   "metadata": {
    "scrolled": true
   },
   "outputs": [
    {
     "name": "stderr",
     "output_type": "stream",
     "text": [
      "\r",
      "  0%|          | 0/48 [00:00<?, ?it/s]"
     ]
    },
    {
     "name": "stdout",
     "output_type": "stream",
     "text": [
      "\tLooping through labeled masks...\n"
     ]
    },
    {
     "name": "stderr",
     "output_type": "stream",
     "text": [
      "100%|██████████| 48/48 [01:01<00:00,  1.28s/it]\n",
      "/home/ap259944/anaconda3/envs/parietal/lib/python3.7/site-packages/ipykernel_launcher.py:13: MatplotlibDeprecationWarning: Adding an axes using the same arguments as a previous axes currently reuses the earlier instance.  In a future version, a new instance will always be created and returned.  Meanwhile, this warning can be suppressed, and the future behavior ensured, by passing a unique label to each axes instance.\n",
      "  del sys.path[0]\n"
     ]
    },
    {
     "name": "stdout",
     "output_type": "stream",
     "text": [
      "\t\t-->Done\n",
      "\tPlotting...\n"
     ]
    },
    {
     "name": "stderr",
     "output_type": "stream",
     "text": [
      "/home/ap259944/anaconda3/envs/parietal/lib/python3.7/site-packages/ipykernel_launcher.py:13: MatplotlibDeprecationWarning: Adding an axes using the same arguments as a previous axes currently reuses the earlier instance.  In a future version, a new instance will always be created and returned.  Meanwhile, this warning can be suppressed, and the future behavior ensured, by passing a unique label to each axes instance.\n",
      "  del sys.path[0]\n",
      "  0%|          | 0/48 [00:00<?, ?it/s]"
     ]
    },
    {
     "name": "stdout",
     "output_type": "stream",
     "text": [
      "\t\t-->Done\n",
      "\tLooping through labeled masks...\n"
     ]
    },
    {
     "name": "stderr",
     "output_type": "stream",
     "text": [
      "100%|██████████| 48/48 [00:57<00:00,  1.20s/it]\n",
      "/home/ap259944/anaconda3/envs/parietal/lib/python3.7/site-packages/ipykernel_launcher.py:13: MatplotlibDeprecationWarning: Adding an axes using the same arguments as a previous axes currently reuses the earlier instance.  In a future version, a new instance will always be created and returned.  Meanwhile, this warning can be suppressed, and the future behavior ensured, by passing a unique label to each axes instance.\n",
      "  del sys.path[0]\n"
     ]
    },
    {
     "name": "stdout",
     "output_type": "stream",
     "text": [
      "\t\t-->Done\n",
      "\tPlotting...\n"
     ]
    },
    {
     "name": "stderr",
     "output_type": "stream",
     "text": [
      "/home/ap259944/anaconda3/envs/parietal/lib/python3.7/site-packages/ipykernel_launcher.py:13: MatplotlibDeprecationWarning: Adding an axes using the same arguments as a previous axes currently reuses the earlier instance.  In a future version, a new instance will always be created and returned.  Meanwhile, this warning can be suppressed, and the future behavior ensured, by passing a unique label to each axes instance.\n",
      "  del sys.path[0]\n",
      "  0%|          | 0/48 [00:00<?, ?it/s]"
     ]
    },
    {
     "name": "stdout",
     "output_type": "stream",
     "text": [
      "\t\t-->Done\n",
      "\tLooping through labeled masks...\n"
     ]
    },
    {
     "name": "stderr",
     "output_type": "stream",
     "text": [
      "100%|██████████| 48/48 [00:42<00:00,  1.14it/s]\n",
      "/home/ap259944/anaconda3/envs/parietal/lib/python3.7/site-packages/ipykernel_launcher.py:13: MatplotlibDeprecationWarning: Adding an axes using the same arguments as a previous axes currently reuses the earlier instance.  In a future version, a new instance will always be created and returned.  Meanwhile, this warning can be suppressed, and the future behavior ensured, by passing a unique label to each axes instance.\n",
      "  del sys.path[0]\n"
     ]
    },
    {
     "name": "stdout",
     "output_type": "stream",
     "text": [
      "\t\t-->Done\n",
      "\tPlotting...\n"
     ]
    },
    {
     "name": "stderr",
     "output_type": "stream",
     "text": [
      "/home/ap259944/anaconda3/envs/parietal/lib/python3.7/site-packages/ipykernel_launcher.py:13: MatplotlibDeprecationWarning: Adding an axes using the same arguments as a previous axes currently reuses the earlier instance.  In a future version, a new instance will always be created and returned.  Meanwhile, this warning can be suppressed, and the future behavior ensured, by passing a unique label to each axes instance.\n",
      "  del sys.path[0]\n",
      "  0%|          | 0/48 [00:00<?, ?it/s]"
     ]
    },
    {
     "name": "stdout",
     "output_type": "stream",
     "text": [
      "\t\t-->Done\n",
      "\tLooping through labeled masks...\n"
     ]
    },
    {
     "name": "stderr",
     "output_type": "stream",
     "text": [
      "100%|██████████| 48/48 [01:05<00:00,  1.37s/it]\n",
      "/home/ap259944/anaconda3/envs/parietal/lib/python3.7/site-packages/ipykernel_launcher.py:13: MatplotlibDeprecationWarning: Adding an axes using the same arguments as a previous axes currently reuses the earlier instance.  In a future version, a new instance will always be created and returned.  Meanwhile, this warning can be suppressed, and the future behavior ensured, by passing a unique label to each axes instance.\n",
      "  del sys.path[0]\n"
     ]
    },
    {
     "name": "stdout",
     "output_type": "stream",
     "text": [
      "\t\t-->Done\n",
      "\tPlotting...\n"
     ]
    },
    {
     "name": "stderr",
     "output_type": "stream",
     "text": [
      "/home/ap259944/anaconda3/envs/parietal/lib/python3.7/site-packages/ipykernel_launcher.py:13: MatplotlibDeprecationWarning: Adding an axes using the same arguments as a previous axes currently reuses the earlier instance.  In a future version, a new instance will always be created and returned.  Meanwhile, this warning can be suppressed, and the future behavior ensured, by passing a unique label to each axes instance.\n",
      "  del sys.path[0]\n",
      "  0%|          | 0/48 [00:00<?, ?it/s]"
     ]
    },
    {
     "name": "stdout",
     "output_type": "stream",
     "text": [
      "\t\t-->Done\n",
      "\tLooping through labeled masks...\n"
     ]
    },
    {
     "name": "stderr",
     "output_type": "stream",
     "text": [
      "100%|██████████| 48/48 [00:59<00:00,  1.24s/it]\n",
      "/home/ap259944/anaconda3/envs/parietal/lib/python3.7/site-packages/ipykernel_launcher.py:13: MatplotlibDeprecationWarning: Adding an axes using the same arguments as a previous axes currently reuses the earlier instance.  In a future version, a new instance will always be created and returned.  Meanwhile, this warning can be suppressed, and the future behavior ensured, by passing a unique label to each axes instance.\n",
      "  del sys.path[0]\n"
     ]
    },
    {
     "name": "stdout",
     "output_type": "stream",
     "text": [
      "\t\t-->Done\n",
      "\tPlotting...\n"
     ]
    },
    {
     "name": "stderr",
     "output_type": "stream",
     "text": [
      "/home/ap259944/anaconda3/envs/parietal/lib/python3.7/site-packages/ipykernel_launcher.py:13: MatplotlibDeprecationWarning: Adding an axes using the same arguments as a previous axes currently reuses the earlier instance.  In a future version, a new instance will always be created and returned.  Meanwhile, this warning can be suppressed, and the future behavior ensured, by passing a unique label to each axes instance.\n",
      "  del sys.path[0]\n",
      "  0%|          | 0/48 [00:00<?, ?it/s]"
     ]
    },
    {
     "name": "stdout",
     "output_type": "stream",
     "text": [
      "\t\t-->Done\n",
      "\tLooping through labeled masks...\n"
     ]
    },
    {
     "name": "stderr",
     "output_type": "stream",
     "text": [
      "100%|██████████| 48/48 [00:39<00:00,  1.22it/s]\n",
      "/home/ap259944/anaconda3/envs/parietal/lib/python3.7/site-packages/ipykernel_launcher.py:13: MatplotlibDeprecationWarning: Adding an axes using the same arguments as a previous axes currently reuses the earlier instance.  In a future version, a new instance will always be created and returned.  Meanwhile, this warning can be suppressed, and the future behavior ensured, by passing a unique label to each axes instance.\n",
      "  del sys.path[0]\n"
     ]
    },
    {
     "name": "stdout",
     "output_type": "stream",
     "text": [
      "\t\t-->Done\n",
      "\tPlotting...\n"
     ]
    },
    {
     "name": "stderr",
     "output_type": "stream",
     "text": [
      "/home/ap259944/anaconda3/envs/parietal/lib/python3.7/site-packages/ipykernel_launcher.py:13: MatplotlibDeprecationWarning: Adding an axes using the same arguments as a previous axes currently reuses the earlier instance.  In a future version, a new instance will always be created and returned.  Meanwhile, this warning can be suppressed, and the future behavior ensured, by passing a unique label to each axes instance.\n",
      "  del sys.path[0]\n"
     ]
    },
    {
     "name": "stdout",
     "output_type": "stream",
     "text": [
      "\t\t-->Done\n"
     ]
    }
   ],
   "source": [
    "for model_name in ['Bert-VS-Bert_sequential', 'RoBerta-VS-Bert', 'Bert-VS-GPT2', 'Bert_sequential-VS-GTP2']:\n",
    "    for mod in ['bert-base-cased']:\n",
    "        for key in analysis:\n",
    "            maps = []\n",
    "            for model in data[mod][key].keys():\n",
    "                if model == 'models':\n",
    "                    models = data[mod][key][model]\n",
    "                else:\n",
    "                    name = '_'.join([model_name, model])\n",
    "                    path = os.path.join(PROJECT_PATH, 'derivatives/fMRI/analysis/{}/{}'.format(language, name))\n",
    "                    name = 'R2_group_fdr_effect'\n",
    "                    maps.append(fetch_map(path, name)[0])\n",
    "            plot_name = [\"{} for {}\".format(model_name, key)]\n",
    "            x_labels = labels[1:]\n",
    "\n",
    "            mean = np.zeros((len(labels)-1, len(models)))\n",
    "            third_quartile = np.zeros((len(labels)-1, len(models)))\n",
    "            # extract data\n",
    "            print(\"\\tLooping through labeled masks...\")\n",
    "            for index_mask in tqdm(range(len(labels)-1)):\n",
    "                mask = math_img('img > 50', img=index_img(atlas_maps, index_mask))  \n",
    "                masker = NiftiMasker(mask_img=mask, memory='nilearn_cache', verbose=0)\n",
    "                masker.fit()\n",
    "\n",
    "                for index_model, model in enumerate(models):\n",
    "                    array = masker.transform(maps[index_model])\n",
    "                    third_quartile[index_mask, index_model] = np.percentile(array, 75)\n",
    "                    mean[index_mask, index_model] = np.mean(array)\n",
    "            print(\"\\t\\t-->Done\")\n",
    "\n",
    "            # Small reordering of models so that layers are in increasing order\n",
    "            if key=='Hidden-layers':\n",
    "                mean = np.hstack([mean[:, :2], mean[:,5:], mean[:,2:5]])\n",
    "                third_quartile = np.hstack([third_quartile[:, :2], third_quartile[:,5:], third_quartile[:,2:5]])\n",
    "                models = models[:2] + models[5:] + models[2:5]\n",
    "            elif key=='Attention-layers':\n",
    "                mean = np.hstack([mean[:, :1], mean[:,4:], mean[:,1:4]])\n",
    "                third_quartile = np.hstack([third_quartile[:, :1], third_quartile[:,4:], third_quartile[:,1:4]])\n",
    "                models = models[:1] + models[4:] + models[1:4]\n",
    "            elif key=='Specific-attention-heads':\n",
    "                mean = np.hstack([mean[:, :4], mean[:,6:7], mean[:,4:6], mean[:,7:]])\n",
    "                third_quartile = np.hstack([third_quartile[:, :4], third_quartile[:,6:7], third_quartile[:,4:6], third_quartile[:,7:]])\n",
    "                models = models[:4] + models[6:7] + models[4:6] + models[7:]\n",
    "\n",
    "            print(\"\\tPlotting...\")\n",
    "            vertical_plot(mean, x_labels, '{}-Mean_R2_per_ROI'.format(key), \n",
    "                            os.path.join(PROJECT_PATH, 'derivatives/fMRI/analysis/{}/{}'.format(language, key + '-Average')), \n",
    "                            'R2', surnames, models, syntactic_roi, language_roi, xlabel='Average R2 values', title='{}-{}'.format(model_name, key), model_name=model_name)\n",
    "            vertical_plot(third_quartile, x_labels, '{}-R2_Third_quartile_per_ROI'.format(key), \n",
    "                            os.path.join(PROJECT_PATH, 'derivatives/fMRI/analysis/{}/{}'.format(language,  key + '-3rd_Quartile')), \n",
    "                            'R2', surnames, models, syntactic_roi, language_roi, xlabel='Third Quartile R2 values', title='{}-{}'.format(model_name, key), model_name=model_name)\n",
    "            print(\"\\t\\t-->Done\")"
   ]
  },
  {
   "cell_type": "markdown",
   "metadata": {},
   "source": [
    "### Pearson coefficient"
   ]
  },
  {
   "cell_type": "code",
   "execution_count": 29,
   "metadata": {
    "scrolled": true
   },
   "outputs": [
    {
     "name": "stderr",
     "output_type": "stream",
     "text": [
      "\r",
      "  0%|          | 0/48 [00:00<?, ?it/s]"
     ]
    },
    {
     "name": "stdout",
     "output_type": "stream",
     "text": [
      "\tLooping through labeled masks...\n"
     ]
    },
    {
     "name": "stderr",
     "output_type": "stream",
     "text": [
      "100%|██████████| 48/48 [01:04<00:00,  1.33s/it]\n",
      "/home/ap259944/anaconda3/envs/parietal/lib/python3.7/site-packages/ipykernel_launcher.py:13: MatplotlibDeprecationWarning: Adding an axes using the same arguments as a previous axes currently reuses the earlier instance.  In a future version, a new instance will always be created and returned.  Meanwhile, this warning can be suppressed, and the future behavior ensured, by passing a unique label to each axes instance.\n",
      "  del sys.path[0]\n"
     ]
    },
    {
     "name": "stdout",
     "output_type": "stream",
     "text": [
      "\t\t-->Done\n",
      "\tPlotting...\n"
     ]
    },
    {
     "name": "stderr",
     "output_type": "stream",
     "text": [
      "/home/ap259944/anaconda3/envs/parietal/lib/python3.7/site-packages/ipykernel_launcher.py:13: MatplotlibDeprecationWarning: Adding an axes using the same arguments as a previous axes currently reuses the earlier instance.  In a future version, a new instance will always be created and returned.  Meanwhile, this warning can be suppressed, and the future behavior ensured, by passing a unique label to each axes instance.\n",
      "  del sys.path[0]\n",
      "  0%|          | 0/48 [00:00<?, ?it/s]"
     ]
    },
    {
     "name": "stdout",
     "output_type": "stream",
     "text": [
      "\t\t-->Done\n",
      "\tLooping through labeled masks...\n"
     ]
    },
    {
     "name": "stderr",
     "output_type": "stream",
     "text": [
      "100%|██████████| 48/48 [00:56<00:00,  1.19s/it]\n",
      "/home/ap259944/anaconda3/envs/parietal/lib/python3.7/site-packages/ipykernel_launcher.py:13: MatplotlibDeprecationWarning: Adding an axes using the same arguments as a previous axes currently reuses the earlier instance.  In a future version, a new instance will always be created and returned.  Meanwhile, this warning can be suppressed, and the future behavior ensured, by passing a unique label to each axes instance.\n",
      "  del sys.path[0]\n"
     ]
    },
    {
     "name": "stdout",
     "output_type": "stream",
     "text": [
      "\t\t-->Done\n",
      "\tPlotting...\n"
     ]
    },
    {
     "name": "stderr",
     "output_type": "stream",
     "text": [
      "/home/ap259944/anaconda3/envs/parietal/lib/python3.7/site-packages/ipykernel_launcher.py:13: MatplotlibDeprecationWarning: Adding an axes using the same arguments as a previous axes currently reuses the earlier instance.  In a future version, a new instance will always be created and returned.  Meanwhile, this warning can be suppressed, and the future behavior ensured, by passing a unique label to each axes instance.\n",
      "  del sys.path[0]\n",
      "  0%|          | 0/48 [00:00<?, ?it/s]"
     ]
    },
    {
     "name": "stdout",
     "output_type": "stream",
     "text": [
      "\t\t-->Done\n",
      "\tLooping through labeled masks...\n"
     ]
    },
    {
     "name": "stderr",
     "output_type": "stream",
     "text": [
      "100%|██████████| 48/48 [00:37<00:00,  1.28it/s]\n",
      "/home/ap259944/anaconda3/envs/parietal/lib/python3.7/site-packages/ipykernel_launcher.py:13: MatplotlibDeprecationWarning: Adding an axes using the same arguments as a previous axes currently reuses the earlier instance.  In a future version, a new instance will always be created and returned.  Meanwhile, this warning can be suppressed, and the future behavior ensured, by passing a unique label to each axes instance.\n",
      "  del sys.path[0]\n"
     ]
    },
    {
     "name": "stdout",
     "output_type": "stream",
     "text": [
      "\t\t-->Done\n",
      "\tPlotting...\n"
     ]
    },
    {
     "name": "stderr",
     "output_type": "stream",
     "text": [
      "/home/ap259944/anaconda3/envs/parietal/lib/python3.7/site-packages/ipykernel_launcher.py:13: MatplotlibDeprecationWarning: Adding an axes using the same arguments as a previous axes currently reuses the earlier instance.  In a future version, a new instance will always be created and returned.  Meanwhile, this warning can be suppressed, and the future behavior ensured, by passing a unique label to each axes instance.\n",
      "  del sys.path[0]\n",
      "  0%|          | 0/48 [00:00<?, ?it/s]"
     ]
    },
    {
     "name": "stdout",
     "output_type": "stream",
     "text": [
      "\t\t-->Done\n",
      "\tLooping through labeled masks...\n"
     ]
    },
    {
     "name": "stderr",
     "output_type": "stream",
     "text": [
      "100%|██████████| 48/48 [00:59<00:00,  1.25s/it]\n",
      "/home/ap259944/anaconda3/envs/parietal/lib/python3.7/site-packages/ipykernel_launcher.py:13: MatplotlibDeprecationWarning: Adding an axes using the same arguments as a previous axes currently reuses the earlier instance.  In a future version, a new instance will always be created and returned.  Meanwhile, this warning can be suppressed, and the future behavior ensured, by passing a unique label to each axes instance.\n",
      "  del sys.path[0]\n"
     ]
    },
    {
     "name": "stdout",
     "output_type": "stream",
     "text": [
      "\t\t-->Done\n",
      "\tPlotting...\n"
     ]
    },
    {
     "name": "stderr",
     "output_type": "stream",
     "text": [
      "/home/ap259944/anaconda3/envs/parietal/lib/python3.7/site-packages/ipykernel_launcher.py:13: MatplotlibDeprecationWarning: Adding an axes using the same arguments as a previous axes currently reuses the earlier instance.  In a future version, a new instance will always be created and returned.  Meanwhile, this warning can be suppressed, and the future behavior ensured, by passing a unique label to each axes instance.\n",
      "  del sys.path[0]\n"
     ]
    },
    {
     "name": "stdout",
     "output_type": "stream",
     "text": [
      "\t\t-->Done\n"
     ]
    },
    {
     "name": "stderr",
     "output_type": "stream",
     "text": [
      "\r",
      "  0%|          | 0/48 [00:00<?, ?it/s]"
     ]
    },
    {
     "name": "stdout",
     "output_type": "stream",
     "text": [
      "\tLooping through labeled masks...\n"
     ]
    },
    {
     "name": "stderr",
     "output_type": "stream",
     "text": [
      "100%|██████████| 48/48 [01:03<00:00,  1.33s/it]\n",
      "/home/ap259944/anaconda3/envs/parietal/lib/python3.7/site-packages/ipykernel_launcher.py:13: MatplotlibDeprecationWarning: Adding an axes using the same arguments as a previous axes currently reuses the earlier instance.  In a future version, a new instance will always be created and returned.  Meanwhile, this warning can be suppressed, and the future behavior ensured, by passing a unique label to each axes instance.\n",
      "  del sys.path[0]\n"
     ]
    },
    {
     "name": "stdout",
     "output_type": "stream",
     "text": [
      "\t\t-->Done\n",
      "\tPlotting...\n"
     ]
    },
    {
     "name": "stderr",
     "output_type": "stream",
     "text": [
      "/home/ap259944/anaconda3/envs/parietal/lib/python3.7/site-packages/ipykernel_launcher.py:13: MatplotlibDeprecationWarning: Adding an axes using the same arguments as a previous axes currently reuses the earlier instance.  In a future version, a new instance will always be created and returned.  Meanwhile, this warning can be suppressed, and the future behavior ensured, by passing a unique label to each axes instance.\n",
      "  del sys.path[0]\n",
      "  0%|          | 0/48 [00:00<?, ?it/s]"
     ]
    },
    {
     "name": "stdout",
     "output_type": "stream",
     "text": [
      "\t\t-->Done\n",
      "\tLooping through labeled masks...\n"
     ]
    },
    {
     "name": "stderr",
     "output_type": "stream",
     "text": [
      "100%|██████████| 48/48 [00:38<00:00,  1.24it/s]\n",
      "/home/ap259944/anaconda3/envs/parietal/lib/python3.7/site-packages/ipykernel_launcher.py:13: MatplotlibDeprecationWarning: Adding an axes using the same arguments as a previous axes currently reuses the earlier instance.  In a future version, a new instance will always be created and returned.  Meanwhile, this warning can be suppressed, and the future behavior ensured, by passing a unique label to each axes instance.\n",
      "  del sys.path[0]\n"
     ]
    },
    {
     "name": "stdout",
     "output_type": "stream",
     "text": [
      "\t\t-->Done\n",
      "\tPlotting...\n"
     ]
    },
    {
     "name": "stderr",
     "output_type": "stream",
     "text": [
      "/home/ap259944/anaconda3/envs/parietal/lib/python3.7/site-packages/ipykernel_launcher.py:13: MatplotlibDeprecationWarning: Adding an axes using the same arguments as a previous axes currently reuses the earlier instance.  In a future version, a new instance will always be created and returned.  Meanwhile, this warning can be suppressed, and the future behavior ensured, by passing a unique label to each axes instance.\n",
      "  del sys.path[0]\n",
      "  0%|          | 0/48 [00:00<?, ?it/s]"
     ]
    },
    {
     "name": "stdout",
     "output_type": "stream",
     "text": [
      "\t\t-->Done\n",
      "\tLooping through labeled masks...\n"
     ]
    },
    {
     "name": "stderr",
     "output_type": "stream",
     "text": [
      "100%|██████████| 48/48 [01:01<00:00,  1.28s/it]\n",
      "/home/ap259944/anaconda3/envs/parietal/lib/python3.7/site-packages/ipykernel_launcher.py:13: MatplotlibDeprecationWarning: Adding an axes using the same arguments as a previous axes currently reuses the earlier instance.  In a future version, a new instance will always be created and returned.  Meanwhile, this warning can be suppressed, and the future behavior ensured, by passing a unique label to each axes instance.\n",
      "  del sys.path[0]\n"
     ]
    },
    {
     "name": "stdout",
     "output_type": "stream",
     "text": [
      "\t\t-->Done\n",
      "\tPlotting...\n"
     ]
    },
    {
     "name": "stderr",
     "output_type": "stream",
     "text": [
      "/home/ap259944/anaconda3/envs/parietal/lib/python3.7/site-packages/ipykernel_launcher.py:13: MatplotlibDeprecationWarning: Adding an axes using the same arguments as a previous axes currently reuses the earlier instance.  In a future version, a new instance will always be created and returned.  Meanwhile, this warning can be suppressed, and the future behavior ensured, by passing a unique label to each axes instance.\n",
      "  del sys.path[0]\n",
      "  0%|          | 0/48 [00:00<?, ?it/s]"
     ]
    },
    {
     "name": "stdout",
     "output_type": "stream",
     "text": [
      "\t\t-->Done\n",
      "\tLooping through labeled masks...\n"
     ]
    },
    {
     "name": "stderr",
     "output_type": "stream",
     "text": [
      "100%|██████████| 48/48 [00:56<00:00,  1.18s/it]\n",
      "/home/ap259944/anaconda3/envs/parietal/lib/python3.7/site-packages/ipykernel_launcher.py:13: MatplotlibDeprecationWarning: Adding an axes using the same arguments as a previous axes currently reuses the earlier instance.  In a future version, a new instance will always be created and returned.  Meanwhile, this warning can be suppressed, and the future behavior ensured, by passing a unique label to each axes instance.\n",
      "  del sys.path[0]\n"
     ]
    },
    {
     "name": "stdout",
     "output_type": "stream",
     "text": [
      "\t\t-->Done\n",
      "\tPlotting...\n"
     ]
    },
    {
     "name": "stderr",
     "output_type": "stream",
     "text": [
      "/home/ap259944/anaconda3/envs/parietal/lib/python3.7/site-packages/ipykernel_launcher.py:13: MatplotlibDeprecationWarning: Adding an axes using the same arguments as a previous axes currently reuses the earlier instance.  In a future version, a new instance will always be created and returned.  Meanwhile, this warning can be suppressed, and the future behavior ensured, by passing a unique label to each axes instance.\n",
      "  del sys.path[0]\n",
      "  0%|          | 0/48 [00:00<?, ?it/s]"
     ]
    },
    {
     "name": "stdout",
     "output_type": "stream",
     "text": [
      "\t\t-->Done\n",
      "\tLooping through labeled masks...\n"
     ]
    },
    {
     "name": "stderr",
     "output_type": "stream",
     "text": [
      "100%|██████████| 48/48 [00:38<00:00,  1.24it/s]\n",
      "/home/ap259944/anaconda3/envs/parietal/lib/python3.7/site-packages/ipykernel_launcher.py:13: MatplotlibDeprecationWarning: Adding an axes using the same arguments as a previous axes currently reuses the earlier instance.  In a future version, a new instance will always be created and returned.  Meanwhile, this warning can be suppressed, and the future behavior ensured, by passing a unique label to each axes instance.\n",
      "  del sys.path[0]\n"
     ]
    },
    {
     "name": "stdout",
     "output_type": "stream",
     "text": [
      "\t\t-->Done\n",
      "\tPlotting...\n"
     ]
    },
    {
     "name": "stderr",
     "output_type": "stream",
     "text": [
      "/home/ap259944/anaconda3/envs/parietal/lib/python3.7/site-packages/ipykernel_launcher.py:13: MatplotlibDeprecationWarning: Adding an axes using the same arguments as a previous axes currently reuses the earlier instance.  In a future version, a new instance will always be created and returned.  Meanwhile, this warning can be suppressed, and the future behavior ensured, by passing a unique label to each axes instance.\n",
      "  del sys.path[0]\n"
     ]
    },
    {
     "name": "stdout",
     "output_type": "stream",
     "text": [
      "\t\t-->Done\n"
     ]
    }
   ],
   "source": [
    "for model_name in model_names:\n",
    "    for key in analysis:\n",
    "        maps = []\n",
    "        for model in data[model_name][key].keys():\n",
    "            if model == 'models':\n",
    "                models = data[model_name][key][model]\n",
    "            else:\n",
    "                name = '_'.join([model_name, model])\n",
    "                path = os.path.join(PROJECT_PATH, 'derivatives/fMRI/analysis/{}/{}'.format(language, name))\n",
    "                name = 'Pearson_coeff_group_fdr_effect'\n",
    "                maps.append(fetch_map(path, name)[0])\n",
    "        plot_name = [\"{} for {}\".format(model_name, key)]\n",
    "        x_labels = labels[1:]\n",
    "\n",
    "        mean = np.zeros((len(labels)-1, len(models)))\n",
    "        third_quartile = np.zeros((len(labels)-1, len(models)))\n",
    "        # extract data\n",
    "        print(\"\\tLooping through labeled masks...\")\n",
    "        for index_mask in tqdm(range(len(labels)-1)):\n",
    "            mask = math_img('img > 50', img=index_img(atlas_maps, index_mask))  \n",
    "            masker = NiftiMasker(mask_img=mask, memory='nilearn_cache', verbose=0)\n",
    "            masker.fit()\n",
    "\n",
    "            for index_model, model in enumerate(models):\n",
    "                array = masker.transform(maps[index_model])\n",
    "                third_quartile[index_mask, index_model] = np.percentile(array, 75)\n",
    "                mean[index_mask, index_model] = np.mean(array)\n",
    "        print(\"\\t\\t-->Done\")\n",
    "        \n",
    "        # Small reordering of models so that layers are in increasing order\n",
    "        if key=='Hidden-layers':\n",
    "            mean = np.hstack([mean[:, :2], mean[:,5:], mean[:,2:5]])\n",
    "            third_quartile = np.hstack([third_quartile[:, :2], third_quartile[:,5:], third_quartile[:,2:5]])\n",
    "            models = models[:2] + models[5:] + models[2:5]\n",
    "        elif key=='Attention-layers':\n",
    "            mean = np.hstack([mean[:, :1], mean[:,4:], mean[:,1:4]])\n",
    "            third_quartile = np.hstack([third_quartile[:, :1], third_quartile[:,4:], third_quartile[:,1:4]])\n",
    "            models = models[:1] + models[4:] + models[1:4]\n",
    "        elif key=='Specific-attention-heads':\n",
    "            mean = np.hstack([mean[:, :4], mean[:,6:7], mean[:,4:6], mean[:,7:]])\n",
    "            third_quartile = np.hstack([third_quartile[:, :4], third_quartile[:,6:7], third_quartile[:,4:6], third_quartile[:,7:]])\n",
    "            models = models[:4] + models[6:7] + models[4:6] + models[7:]\n",
    "\n",
    "        print(\"\\tPlotting...\")\n",
    "        vertical_plot(mean, x_labels, '{}-Mean_Pearson_coeff_per_ROI'.format(key), \n",
    "                        os.path.join(PROJECT_PATH, 'derivatives/fMRI/analysis/{}/{}'.format(language, key + '-Average')), \n",
    "                        'Pearson_coeff', surnames, models, syntactic_roi, language_roi, xlabel='Average Pearson_coeff values', title='{}-{}'.format(model_name, key), model_name=model_name)\n",
    "        vertical_plot(third_quartile, x_labels, '{}-Pearson_coeff_Third_quartile_per_ROI'.format(key), \n",
    "                        os.path.join(PROJECT_PATH, 'derivatives/fMRI/analysis/{}/{}'.format(language,  key + '-3rd_Quartile')), \n",
    "                        'Pearson_coeff', surnames, models, syntactic_roi, language_roi, xlabel='Third Quartile Pearson_coeff values', title='{}-{}'.format(model_name, key), model_name=model_name)\n",
    "        print(\"\\t\\t-->Done\")"
   ]
  },
  {
   "cell_type": "code",
   "execution_count": 30,
   "metadata": {
    "scrolled": true
   },
   "outputs": [
    {
     "name": "stderr",
     "output_type": "stream",
     "text": [
      "\r",
      "  0%|          | 0/48 [00:00<?, ?it/s]"
     ]
    },
    {
     "name": "stdout",
     "output_type": "stream",
     "text": [
      "\tLooping through labeled masks...\n"
     ]
    },
    {
     "name": "stderr",
     "output_type": "stream",
     "text": [
      "100%|██████████| 48/48 [01:03<00:00,  1.32s/it]\n",
      "/home/ap259944/anaconda3/envs/parietal/lib/python3.7/site-packages/ipykernel_launcher.py:13: MatplotlibDeprecationWarning: Adding an axes using the same arguments as a previous axes currently reuses the earlier instance.  In a future version, a new instance will always be created and returned.  Meanwhile, this warning can be suppressed, and the future behavior ensured, by passing a unique label to each axes instance.\n",
      "  del sys.path[0]\n"
     ]
    },
    {
     "name": "stdout",
     "output_type": "stream",
     "text": [
      "\t\t-->Done\n",
      "\tPlotting...\n"
     ]
    },
    {
     "name": "stderr",
     "output_type": "stream",
     "text": [
      "/home/ap259944/anaconda3/envs/parietal/lib/python3.7/site-packages/ipykernel_launcher.py:13: MatplotlibDeprecationWarning: Adding an axes using the same arguments as a previous axes currently reuses the earlier instance.  In a future version, a new instance will always be created and returned.  Meanwhile, this warning can be suppressed, and the future behavior ensured, by passing a unique label to each axes instance.\n",
      "  del sys.path[0]\n",
      "  0%|          | 0/48 [00:00<?, ?it/s]"
     ]
    },
    {
     "name": "stdout",
     "output_type": "stream",
     "text": [
      "\t\t-->Done\n",
      "\tLooping through labeled masks...\n"
     ]
    },
    {
     "name": "stderr",
     "output_type": "stream",
     "text": [
      "100%|██████████| 48/48 [00:57<00:00,  1.19s/it]\n",
      "/home/ap259944/anaconda3/envs/parietal/lib/python3.7/site-packages/ipykernel_launcher.py:13: MatplotlibDeprecationWarning: Adding an axes using the same arguments as a previous axes currently reuses the earlier instance.  In a future version, a new instance will always be created and returned.  Meanwhile, this warning can be suppressed, and the future behavior ensured, by passing a unique label to each axes instance.\n",
      "  del sys.path[0]\n"
     ]
    },
    {
     "name": "stdout",
     "output_type": "stream",
     "text": [
      "\t\t-->Done\n",
      "\tPlotting...\n"
     ]
    },
    {
     "name": "stderr",
     "output_type": "stream",
     "text": [
      "/home/ap259944/anaconda3/envs/parietal/lib/python3.7/site-packages/ipykernel_launcher.py:13: MatplotlibDeprecationWarning: Adding an axes using the same arguments as a previous axes currently reuses the earlier instance.  In a future version, a new instance will always be created and returned.  Meanwhile, this warning can be suppressed, and the future behavior ensured, by passing a unique label to each axes instance.\n",
      "  del sys.path[0]\n",
      "  0%|          | 0/48 [00:00<?, ?it/s]"
     ]
    },
    {
     "name": "stdout",
     "output_type": "stream",
     "text": [
      "\t\t-->Done\n",
      "\tLooping through labeled masks...\n"
     ]
    },
    {
     "name": "stderr",
     "output_type": "stream",
     "text": [
      "100%|██████████| 48/48 [00:37<00:00,  1.27it/s]\n",
      "/home/ap259944/anaconda3/envs/parietal/lib/python3.7/site-packages/ipykernel_launcher.py:13: MatplotlibDeprecationWarning: Adding an axes using the same arguments as a previous axes currently reuses the earlier instance.  In a future version, a new instance will always be created and returned.  Meanwhile, this warning can be suppressed, and the future behavior ensured, by passing a unique label to each axes instance.\n",
      "  del sys.path[0]\n"
     ]
    },
    {
     "name": "stdout",
     "output_type": "stream",
     "text": [
      "\t\t-->Done\n",
      "\tPlotting...\n"
     ]
    },
    {
     "name": "stderr",
     "output_type": "stream",
     "text": [
      "/home/ap259944/anaconda3/envs/parietal/lib/python3.7/site-packages/ipykernel_launcher.py:13: MatplotlibDeprecationWarning: Adding an axes using the same arguments as a previous axes currently reuses the earlier instance.  In a future version, a new instance will always be created and returned.  Meanwhile, this warning can be suppressed, and the future behavior ensured, by passing a unique label to each axes instance.\n",
      "  del sys.path[0]\n",
      "  0%|          | 0/48 [00:00<?, ?it/s]"
     ]
    },
    {
     "name": "stdout",
     "output_type": "stream",
     "text": [
      "\t\t-->Done\n",
      "\tLooping through labeled masks...\n"
     ]
    },
    {
     "name": "stderr",
     "output_type": "stream",
     "text": [
      "100%|██████████| 48/48 [01:00<00:00,  1.26s/it]\n",
      "/home/ap259944/anaconda3/envs/parietal/lib/python3.7/site-packages/ipykernel_launcher.py:13: MatplotlibDeprecationWarning: Adding an axes using the same arguments as a previous axes currently reuses the earlier instance.  In a future version, a new instance will always be created and returned.  Meanwhile, this warning can be suppressed, and the future behavior ensured, by passing a unique label to each axes instance.\n",
      "  del sys.path[0]\n"
     ]
    },
    {
     "name": "stdout",
     "output_type": "stream",
     "text": [
      "\t\t-->Done\n",
      "\tPlotting...\n"
     ]
    },
    {
     "name": "stderr",
     "output_type": "stream",
     "text": [
      "/home/ap259944/anaconda3/envs/parietal/lib/python3.7/site-packages/ipykernel_launcher.py:13: MatplotlibDeprecationWarning: Adding an axes using the same arguments as a previous axes currently reuses the earlier instance.  In a future version, a new instance will always be created and returned.  Meanwhile, this warning can be suppressed, and the future behavior ensured, by passing a unique label to each axes instance.\n",
      "  del sys.path[0]\n",
      "  0%|          | 0/48 [00:00<?, ?it/s]"
     ]
    },
    {
     "name": "stdout",
     "output_type": "stream",
     "text": [
      "\t\t-->Done\n",
      "\tLooping through labeled masks...\n"
     ]
    },
    {
     "name": "stderr",
     "output_type": "stream",
     "text": [
      "100%|██████████| 48/48 [00:55<00:00,  1.15s/it]\n",
      "/home/ap259944/anaconda3/envs/parietal/lib/python3.7/site-packages/ipykernel_launcher.py:13: MatplotlibDeprecationWarning: Adding an axes using the same arguments as a previous axes currently reuses the earlier instance.  In a future version, a new instance will always be created and returned.  Meanwhile, this warning can be suppressed, and the future behavior ensured, by passing a unique label to each axes instance.\n",
      "  del sys.path[0]\n"
     ]
    },
    {
     "name": "stdout",
     "output_type": "stream",
     "text": [
      "\t\t-->Done\n",
      "\tPlotting...\n"
     ]
    },
    {
     "name": "stderr",
     "output_type": "stream",
     "text": [
      "/home/ap259944/anaconda3/envs/parietal/lib/python3.7/site-packages/ipykernel_launcher.py:13: MatplotlibDeprecationWarning: Adding an axes using the same arguments as a previous axes currently reuses the earlier instance.  In a future version, a new instance will always be created and returned.  Meanwhile, this warning can be suppressed, and the future behavior ensured, by passing a unique label to each axes instance.\n",
      "  del sys.path[0]\n",
      "  0%|          | 0/48 [00:00<?, ?it/s]"
     ]
    },
    {
     "name": "stdout",
     "output_type": "stream",
     "text": [
      "\t\t-->Done\n",
      "\tLooping through labeled masks...\n"
     ]
    },
    {
     "name": "stderr",
     "output_type": "stream",
     "text": [
      "100%|██████████| 48/48 [00:40<00:00,  1.19it/s]\n",
      "/home/ap259944/anaconda3/envs/parietal/lib/python3.7/site-packages/ipykernel_launcher.py:13: MatplotlibDeprecationWarning: Adding an axes using the same arguments as a previous axes currently reuses the earlier instance.  In a future version, a new instance will always be created and returned.  Meanwhile, this warning can be suppressed, and the future behavior ensured, by passing a unique label to each axes instance.\n",
      "  del sys.path[0]\n"
     ]
    },
    {
     "name": "stdout",
     "output_type": "stream",
     "text": [
      "\t\t-->Done\n",
      "\tPlotting...\n"
     ]
    },
    {
     "name": "stderr",
     "output_type": "stream",
     "text": [
      "/home/ap259944/anaconda3/envs/parietal/lib/python3.7/site-packages/ipykernel_launcher.py:13: MatplotlibDeprecationWarning: Adding an axes using the same arguments as a previous axes currently reuses the earlier instance.  In a future version, a new instance will always be created and returned.  Meanwhile, this warning can be suppressed, and the future behavior ensured, by passing a unique label to each axes instance.\n",
      "  del sys.path[0]\n"
     ]
    },
    {
     "name": "stdout",
     "output_type": "stream",
     "text": [
      "\t\t-->Done\n"
     ]
    }
   ],
   "source": [
    "for model_name in ['Bert-VS-Bert_sequential', 'RoBerta-VS-Bert', 'Bert-VS-GPT2', 'Bert_sequential-VS-GTP2']:\n",
    "    for mod in ['bert-base-cased']:\n",
    "        for key in analysis:\n",
    "            maps = []\n",
    "            for model in data[mod][key].keys():\n",
    "                if model == 'models':\n",
    "                    models = data[mod][key][model]\n",
    "                else:\n",
    "                    name = '_'.join([model_name, model])\n",
    "                    path = os.path.join(PROJECT_PATH, 'derivatives/fMRI/analysis/{}/{}'.format(language, name))\n",
    "                    name = 'Pearson_coeff_group_fdr_effect'\n",
    "                    maps.append(fetch_map(path, name)[0])\n",
    "            plot_name = [\"{} for {}\".format(model_name, key)]\n",
    "            x_labels = labels[1:]\n",
    "\n",
    "            mean = np.zeros((len(labels)-1, len(models)))\n",
    "            third_quartile = np.zeros((len(labels)-1, len(models)))\n",
    "            # extract data\n",
    "            print(\"\\tLooping through labeled masks...\")\n",
    "            for index_mask in tqdm(range(len(labels)-1)):\n",
    "                mask = math_img('img > 50', img=index_img(atlas_maps, index_mask))  \n",
    "                masker = NiftiMasker(mask_img=mask, memory='nilearn_cache', verbose=0)\n",
    "                masker.fit()\n",
    "\n",
    "                for index_model, model in enumerate(models):\n",
    "                    array = masker.transform(maps[index_model])\n",
    "                    third_quartile[index_mask, index_model] = np.percentile(array, 75)\n",
    "                    mean[index_mask, index_model] = np.mean(array)\n",
    "            print(\"\\t\\t-->Done\")\n",
    "\n",
    "            # Small reordering of models so that layers are in increasing order\n",
    "            if key=='Hidden-layers':\n",
    "                mean = np.hstack([mean[:, :2], mean[:,5:], mean[:,2:5]])\n",
    "                third_quartile = np.hstack([third_quartile[:, :2], third_quartile[:,5:], third_quartile[:,2:5]])\n",
    "                models = models[:2] + models[5:] + models[2:5]\n",
    "            elif key=='Attention-layers':\n",
    "                mean = np.hstack([mean[:, :1], mean[:,4:], mean[:,1:4]])\n",
    "                third_quartile = np.hstack([third_quartile[:, :1], third_quartile[:,4:], third_quartile[:,1:4]])\n",
    "                models = models[:1] + models[4:] + models[1:4]\n",
    "            elif key=='Specific-attention-heads':\n",
    "                mean = np.hstack([mean[:, :4], mean[:,6:7], mean[:,4:6], mean[:,7:]])\n",
    "                third_quartile = np.hstack([third_quartile[:, :4], third_quartile[:,6:7], third_quartile[:,4:6], third_quartile[:,7:]])\n",
    "                models = models[:4] + models[6:7] + models[4:6] + models[7:]\n",
    "\n",
    "            print(\"\\tPlotting...\")\n",
    "            vertical_plot(mean, x_labels, '{}-Mean_Pearson_coeff_per_ROI'.format(key), \n",
    "                            os.path.join(PROJECT_PATH, 'derivatives/fMRI/analysis/{}/{}'.format(language, key + '-Average')), \n",
    "                            'Pearson_coeff', surnames, models, syntactic_roi, language_roi, xlabel='Average Pearson_coeff values', title='{}-{}'.format(model_name, key), model_name=model_name)\n",
    "            vertical_plot(third_quartile, x_labels, '{}-Pearson_coeff_Third_quartile_per_ROI'.format(key), \n",
    "                            os.path.join(PROJECT_PATH, 'derivatives/fMRI/analysis/{}/{}'.format(language,  key + '-3rd_Quartile')), \n",
    "                            'Pearson_coeff', surnames, models, syntactic_roi, language_roi, xlabel='Third Quartile Pearson_coeff values', title='{}-{}'.format(model_name, key), model_name=model_name)\n",
    "            print(\"\\t\\t-->Done\")"
   ]
  },
  {
   "cell_type": "markdown",
   "metadata": {},
   "source": [
    "## Glass-brain plotting best layers per region"
   ]
  },
  {
   "cell_type": "code",
   "execution_count": 31,
   "metadata": {},
   "outputs": [],
   "source": [
    "masker = fetch_masker(MASKER_PATH, language, FMRIDATA_PATH, INPUT_PATH, smoothing_fwhm=None, logger=logger)"
   ]
  },
  {
   "cell_type": "code",
   "execution_count": null,
   "metadata": {},
   "outputs": [],
   "source": [
    "fsaverage = datasets.fetch_surf_fsaverage()\n",
    "kwargs = {'surf_mesh': fsaverage['pial_left'], \n",
    "            'hemi':'left', \n",
    "            'view':'lateral',\n",
    "            'bg_map':fsaverage['sulc_left'], \n",
    "            'bg_on_data':True,\n",
    "            'darkness':.5}"
   ]
  },
  {
   "cell_type": "code",
   "execution_count": null,
   "metadata": {},
   "outputs": [],
   "source": [
    "def plot_img_surf(img, saving_path, plot_name, **kwargs):\n",
    "    if 'surf_mesh' in kwargs:\n",
    "        surf_mesh = kwargs['surf_mesh'] if kwargs['surf_mesh'] is not None else fsaverage['pial_left']\n",
    "    if 'hemi' in kwargs:\n",
    "        hemi = kwargs['hemi'] if kwargs['hemi'] is not None else 'left'\n",
    "    if 'view' in kwargs:\n",
    "        view = kwargs['view'] if kwargs['view'] is not None else 'lateral'\n",
    "    if 'bg_map' in kwargs:\n",
    "        bg_map = kwargs['bg_map'] if kwargs['bg_map'] is not None else fsaverage['sulc_left']\n",
    "    if 'bg_on_data' in kwargs:\n",
    "        bg_on_data = kwargs['bg_on_data'] if kwargs['bg_on_data'] is not None else True\n",
    "    if 'darkness' in kwargs:\n",
    "        darkness = kwargs['darkness'] if kwargs['darkness'] is not None else .5\n",
    "    \n",
    "    disp = plotting.plot_surf_roi(surf_mesh=surf_mesh, roi_map=img,\n",
    "                        hemi=hemi, view=view,\n",
    "                        bg_map=bg_map, bg_on_data=bg_on_data,\n",
    "                        darkness=darkness)\n",
    "    disp.savefig(saving_path + plot_name + '.png')\n",
    "    plotting.show()"
   ]
  },
  {
   "cell_type": "markdown",
   "metadata": {},
   "source": [
    "### R2"
   ]
  },
  {
   "cell_type": "code",
   "execution_count": 32,
   "metadata": {
    "scrolled": false
   },
   "outputs": [
    {
     "name": "stderr",
     "output_type": "stream",
     "text": [
      "/home/ap259944/anaconda3/envs/parietal/lib/python3.7/site-packages/IPython/core/interactiveshell.py:3254: FutureWarning: arrays to stack must be passed as a \"sequence\" type such as list or tuple. Support for non-sequence iterables such as generators is deprecated as of NumPy 1.16 and will raise an error in the future.\n",
      "  if (await self.run_code(code, result,  async_=asy)):\n",
      "/home/ap259944/.local/lib/python3.7/site-packages/nilearn/signal.py:139: UserWarning: Detrending of 3D signal has been requested but would lead to zero values. Skipping.\n",
      "  warnings.warn('Detrending of 3D signal has been requested but '\n",
      "/home/ap259944/.local/lib/python3.7/site-packages/nilearn/signal.py:51: UserWarning: Standardization of 3D signal has been requested but would lead to zero values. Skipping.\n",
      "  warnings.warn('Standardization of 3D signal has been requested but '\n"
     ]
    },
    {
     "name": "stdout",
     "output_type": "stream",
     "text": [
      "R2-bert-base-cased-Hidden-layers\n",
      "\t\t-->Done\n",
      "R2-bert-base-cased-Attention-layers\n",
      "\t\t-->Done\n",
      "R2-bert-base-cased-Specific-attention-heads\n",
      "\t\t-->Done\n",
      "R2-bert-base-cased_sequential-Hidden-layers\n",
      "\t\t-->Done\n",
      "R2-bert-base-cased_sequential-Attention-layers\n",
      "\t\t-->Done\n",
      "R2-bert-base-cased_sequential-Specific-attention-heads\n",
      "\t\t-->Done\n",
      "R2-roberta-base-Hidden-layers\n",
      "\t\t-->Done\n",
      "R2-roberta-base-Attention-layers\n",
      "\t\t-->Done\n",
      "R2-roberta-base-Specific-attention-heads\n",
      "\t\t-->Done\n"
     ]
    }
   ],
   "source": [
    "for model_name in model_names:\n",
    "    for key in analysis:\n",
    "        maps = []\n",
    "        for model in data[model_name][key].keys():\n",
    "            if model == 'models':\n",
    "                models = data[model_name][key][model]\n",
    "            else:\n",
    "                name = '_'.join([model_name, model])\n",
    "                path = os.path.join(PROJECT_PATH, 'derivatives/fMRI/analysis/{}/{}'.format(language, name))\n",
    "                name = 'R2_group_fdr_effect'\n",
    "                maps.append(fetch_map(path, name)[0])\n",
    "        # Small reordering of models so that layers are in increasing order\n",
    "        maps \n",
    "        if key=='Hidden-layers':\n",
    "            maps = maps[:2] + maps[5:] + maps[2:5]\n",
    "            models = models[:2] + models[5:] + models[2:5]\n",
    "            load = 0\n",
    "        elif key=='Attention-layers':\n",
    "            maps = maps[:1] + maps[4:] + maps[1:4]\n",
    "            models = models[:1] + models[4:] + models[1:4]\n",
    "            load = 1\n",
    "        elif key=='Specific-attention-heads':\n",
    "            maps = maps[:4] + maps[6:7] + maps[4:6] + maps[7:]\n",
    "            models = models[:4] + models[6:7] + models[4:6] + models[7:]\n",
    "            load = 0\n",
    "        data_tmp = np.stack(masker.transform(map_) for map_ in maps)\n",
    "        data_tmp = np.argmax(data_tmp, axis=0)\n",
    "        #m = np.max(data_tmp)\n",
    "        data_tmp = (data_tmp + load)\n",
    "        \n",
    "        plot_name = \"R2-{}-{}\".format(model_name, key)\n",
    "        \n",
    "    \n",
    "        colormap = plt.cm.gist_ncar  # define the colormap\n",
    "        # extract all colors from the color map\n",
    "        #cmaplist = [colormap(i) for i in np.linspace(0, colormap.N, len(models))]\n",
    "        cmaplist = [colormap(i) for i in range(colormap.N)]\n",
    "        indexes = [int(item) for item in np.linspace(0, colormap.N,  len(models)+1)]\n",
    "        palette = np.array([cmaplist[index] for index in indexes[:-1]])\n",
    "\n",
    "\n",
    "        # create the new map\n",
    "        #cmap = matplotlib.colors.LinearSegmentedColormap.from_list(\n",
    "        #    'Custom cmap', cmaplist, len(models)) \n",
    "        cmap = matplotlib.colors.LinearSegmentedColormap.from_list(\n",
    "            'Custom cmap', palette, N=len(models)*2 ) #colormap(np.linspace(0, colormap.N, len(models)))\n",
    "        # define the bins and normalize\n",
    "        bounds = np.linspace(load, len(models)+load, len(models) + 1)\n",
    "        norm = matplotlib.colors.BoundaryNorm(bounds, len(models)*2) # colormap.N\n",
    "\n",
    "\n",
    "        img = masker.inverse_transform(data_tmp)\n",
    "\n",
    "        saving_path = os.path.join(PROJECT_PATH, 'derivatives/fMRI/analysis/{}/glass_brains/'.format(language))\n",
    "        check_folder(saving_path)\n",
    "        print(plot_name)\n",
    "\n",
    "        plot_img_surf(img, path, plot_name + '_surf', **kwargs)\n",
    "        \n",
    "        display = plotting.plot_glass_brain(\n",
    "            img,\n",
    "            colorbar=True,\n",
    "            cmap=cmap,\n",
    "            norm=norm,\n",
    "            plot_abs=False,\n",
    "            display_mode='lzry',\n",
    "            title=plot_name, \n",
    "            vmin=load,\n",
    "            vmax=len(models)-1+load)\n",
    "        \n",
    "        #plt.show()\n",
    "        display.savefig(saving_path + plot_name + '.png')\n",
    "        nib.save(img, saving_path + plot_name + '.nii.gz')\n",
    "        plt.close('all')\n",
    "        \n",
    "        print(\"\\t\\t-->Done\")"
   ]
  },
  {
   "cell_type": "markdown",
   "metadata": {},
   "source": [
    "### Pearson Coeff"
   ]
  },
  {
   "cell_type": "code",
   "execution_count": 293,
   "metadata": {},
   "outputs": [
    {
     "name": "stdout",
     "output_type": "stream",
     "text": [
      "[ 0  1  2  3  4  5  6  7  8  9 10 11 12]\n",
      "{'monochrome': False, 'name': 'Custom cmap', 'N': 26, '_rgba_bad': (0.0, 0.0, 0.0, 0.0), '_rgba_under': None, '_rgba_over': None, '_i_under': 26, '_i_over': 27, '_i_bad': 28, '_isinit': False, 'colorbar_extend': False, '_segmentdata': {'red': [(0.0, 0.0, 0.0), (0.08333333333333333, 0.0, 0.0), (0.16666666666666666, 0.0, 0.0), (0.25, 0.0, 0.0), (0.3333333333333333, 0.0, 0.0), (0.41666666666666663, 0.4226958093041137, 0.4226958093041137), (0.5, 0.6789045126611666, 0.6789045126611666), (0.5833333333333333, 1.0, 1.0), (0.6666666666666666, 1.0, 1.0), (0.75, 1.0, 1.0), (0.8333333333333333, 1.0, 1.0), (0.9166666666666666, 0.6220836601307185, 0.6220836601307185), (1.0, 0.9430665513264129, 0.9430665513264129)], 'green': [(0.0, 0.0, 0.0), (0.08333333333333333, 0.2128129504625165, 0.2128129504625165), (0.16666666666666666, 0.6642952018454439, 0.6642952018454439), (0.25, 0.9928728083344707, 0.9928728083344707), (0.3333333333333333, 0.995113491864831, 0.995113491864831), (0.41666666666666663, 0.8592963314358, 0.8592963314358), (0.5, 1.0, 1.0), (0.5833333333333333, 0.9613902782242221, 0.9613902782242221), (0.6666666666666666, 0.7679547983856564, 0.7679547983856564), (0.75, 0.24242629051620673, 0.24242629051620673), (0.8333333333333333, 0.0, 0.0), (0.9166666666666666, 0.1987140255009108, 0.1987140255009108), (1.0, 0.6273442906574394, 0.6273442906574394)], 'blue': [(0.0, 0.502, 0.502), (0.08333333333333333, 0.41315044684540486, 0.41315044684540486), (0.16666666666666666, 1.0, 1.0), (0.25, 0.8198866046418568, 0.8198866046418568), (0.3333333333333333, 0.16398122440826918, 0.16398122440826918), (0.41666666666666663, 0.0, 0.0), (0.5, 0.18738030545551568, 0.18738030545551568), (0.5833333333333333, 0.0, 0.0), (0.6666666666666666, 0.03798463667820075, 0.03798463667820075), (0.75, 0.0, 0.0), (0.8333333333333333, 0.5556770813243317, 0.5556770813243317), (0.9166666666666666, 0.9952479695703418, 0.9952479695703418), (1.0, 0.9508097270280661, 0.9508097270280661)], 'alpha': [(0.0, 1.0, 1.0), (0.08333333333333333, 1.0, 1.0), (0.16666666666666666, 1.0, 1.0), (0.25, 1.0, 1.0), (0.3333333333333333, 1.0, 1.0), (0.41666666666666663, 1.0, 1.0), (0.5, 1.0, 1.0), (0.5833333333333333, 1.0, 1.0), (0.6666666666666666, 1.0, 1.0), (0.75, 1.0, 1.0), (0.8333333333333333, 1.0, 1.0), (0.9166666666666666, 1.0, 1.0), (1.0, 1.0, 1.0)]}, '_gamma': 1.0}\n"
     ]
    },
    {
     "ename": "IndexError",
     "evalue": "list assignment index out of range",
     "output_type": "error",
     "traceback": [
      "\u001b[0;31m---------------------------------------------------------------------------\u001b[0m",
      "\u001b[0;31mIndexError\u001b[0m                                Traceback (most recent call last)",
      "\u001b[0;32m<ipython-input-293-b7d9ea10718e>\u001b[0m in \u001b[0;36m<module>\u001b[0;34m\u001b[0m\n\u001b[1;32m     60\u001b[0m             \u001b[0mplot_abs\u001b[0m\u001b[0;34m=\u001b[0m\u001b[0;32mFalse\u001b[0m\u001b[0;34m,\u001b[0m\u001b[0;34m\u001b[0m\u001b[0;34m\u001b[0m\u001b[0m\n\u001b[1;32m     61\u001b[0m             \u001b[0mdisplay_mode\u001b[0m\u001b[0;34m=\u001b[0m\u001b[0;34m'lzry'\u001b[0m\u001b[0;34m,\u001b[0m\u001b[0;34m\u001b[0m\u001b[0;34m\u001b[0m\u001b[0m\n\u001b[0;32m---> 62\u001b[0;31m             title=plot_name)\n\u001b[0m\u001b[1;32m     63\u001b[0m         \u001b[0msaving_path\u001b[0m \u001b[0;34m=\u001b[0m \u001b[0mos\u001b[0m\u001b[0;34m.\u001b[0m\u001b[0mpath\u001b[0m\u001b[0;34m.\u001b[0m\u001b[0mjoin\u001b[0m\u001b[0;34m(\u001b[0m\u001b[0mPROJECT_PATH\u001b[0m\u001b[0;34m,\u001b[0m \u001b[0;34m'derivatives/fMRI/analysis/{}/glass_brains/'\u001b[0m\u001b[0;34m.\u001b[0m\u001b[0mformat\u001b[0m\u001b[0;34m(\u001b[0m\u001b[0mlanguage\u001b[0m\u001b[0;34m)\u001b[0m\u001b[0;34m)\u001b[0m\u001b[0;34m\u001b[0m\u001b[0;34m\u001b[0m\u001b[0m\n\u001b[1;32m     64\u001b[0m         \u001b[0mcheck_folder\u001b[0m\u001b[0;34m(\u001b[0m\u001b[0msaving_path\u001b[0m\u001b[0;34m)\u001b[0m\u001b[0;34m\u001b[0m\u001b[0;34m\u001b[0m\u001b[0m\n",
      "\u001b[0;32m~/.local/lib/python3.7/site-packages/nilearn/plotting/img_plotting.py\u001b[0m in \u001b[0;36mplot_glass_brain\u001b[0;34m(stat_map_img, output_file, display_mode, colorbar, figure, axes, title, threshold, annotate, black_bg, cmap, alpha, vmin, vmax, plot_abs, symmetric_cbar, resampling_interpolation, **kwargs)\u001b[0m\n\u001b[1;32m   1174\u001b[0m         \u001b[0mdisplay_factory\u001b[0m\u001b[0;34m=\u001b[0m\u001b[0mdisplay_factory\u001b[0m\u001b[0;34m,\u001b[0m \u001b[0mvmin\u001b[0m\u001b[0;34m=\u001b[0m\u001b[0mvmin\u001b[0m\u001b[0;34m,\u001b[0m \u001b[0mvmax\u001b[0m\u001b[0;34m=\u001b[0m\u001b[0mvmax\u001b[0m\u001b[0;34m,\u001b[0m\u001b[0;34m\u001b[0m\u001b[0;34m\u001b[0m\u001b[0m\n\u001b[1;32m   1175\u001b[0m         \u001b[0mcbar_vmin\u001b[0m\u001b[0;34m=\u001b[0m\u001b[0mcbar_vmin\u001b[0m\u001b[0;34m,\u001b[0m \u001b[0mcbar_vmax\u001b[0m\u001b[0;34m=\u001b[0m\u001b[0mcbar_vmax\u001b[0m\u001b[0;34m,\u001b[0m \u001b[0mbrain_color\u001b[0m\u001b[0;34m=\u001b[0m\u001b[0mbrain_color\u001b[0m\u001b[0;34m,\u001b[0m\u001b[0;34m\u001b[0m\u001b[0;34m\u001b[0m\u001b[0m\n\u001b[0;32m-> 1176\u001b[0;31m         resampling_interpolation=resampling_interpolation, **kwargs)\n\u001b[0m\u001b[1;32m   1177\u001b[0m \u001b[0;34m\u001b[0m\u001b[0m\n\u001b[1;32m   1178\u001b[0m     \u001b[0;32mreturn\u001b[0m \u001b[0mdisplay\u001b[0m\u001b[0;34m\u001b[0m\u001b[0;34m\u001b[0m\u001b[0m\n",
      "\u001b[0;32m~/.local/lib/python3.7/site-packages/nilearn/plotting/img_plotting.py\u001b[0m in \u001b[0;36m_plot_img_with_bg\u001b[0;34m(img, bg_img, cut_coords, output_file, display_mode, colorbar, figure, axes, title, threshold, annotate, draw_cross, black_bg, vmin, vmax, bg_vmin, bg_vmax, interpolation, display_factory, cbar_vmin, cbar_vmax, brain_color, **kwargs)\u001b[0m\n\u001b[1;32m    188\u001b[0m                             \u001b[0mthreshold\u001b[0m\u001b[0;34m=\u001b[0m\u001b[0mthreshold\u001b[0m\u001b[0;34m,\u001b[0m \u001b[0minterpolation\u001b[0m\u001b[0;34m=\u001b[0m\u001b[0minterpolation\u001b[0m\u001b[0;34m,\u001b[0m\u001b[0;34m\u001b[0m\u001b[0;34m\u001b[0m\u001b[0m\n\u001b[1;32m    189\u001b[0m                             \u001b[0mcolorbar\u001b[0m\u001b[0;34m=\u001b[0m\u001b[0mcolorbar\u001b[0m\u001b[0;34m,\u001b[0m \u001b[0mvmin\u001b[0m\u001b[0;34m=\u001b[0m\u001b[0mvmin\u001b[0m\u001b[0;34m,\u001b[0m \u001b[0mvmax\u001b[0m\u001b[0;34m=\u001b[0m\u001b[0mvmax\u001b[0m\u001b[0;34m,\u001b[0m\u001b[0;34m\u001b[0m\u001b[0;34m\u001b[0m\u001b[0m\n\u001b[0;32m--> 190\u001b[0;31m                             **kwargs)\n\u001b[0m\u001b[1;32m    191\u001b[0m \u001b[0;34m\u001b[0m\u001b[0m\n\u001b[1;32m    192\u001b[0m     \u001b[0;32mif\u001b[0m \u001b[0mannotate\u001b[0m\u001b[0;34m:\u001b[0m\u001b[0;34m\u001b[0m\u001b[0;34m\u001b[0m\u001b[0m\n",
      "\u001b[0;32m~/.local/lib/python3.7/site-packages/nilearn/plotting/displays.py\u001b[0m in \u001b[0;36madd_overlay\u001b[0;34m(self, img, threshold, colorbar, **kwargs)\u001b[0m\n\u001b[1;32m    685\u001b[0m         \u001b[0;31m# `ims` can be empty in some corner cases, look at test_img_plotting.test_outlier_cut_coords.\u001b[0m\u001b[0;34m\u001b[0m\u001b[0;34m\u001b[0m\u001b[0;34m\u001b[0m\u001b[0m\n\u001b[1;32m    686\u001b[0m         \u001b[0;32mif\u001b[0m \u001b[0mcolorbar\u001b[0m \u001b[0;32mand\u001b[0m \u001b[0mims\u001b[0m\u001b[0;34m:\u001b[0m\u001b[0;34m\u001b[0m\u001b[0;34m\u001b[0m\u001b[0m\n\u001b[0;32m--> 687\u001b[0;31m             \u001b[0mself\u001b[0m\u001b[0;34m.\u001b[0m\u001b[0m_show_colorbar\u001b[0m\u001b[0;34m(\u001b[0m\u001b[0mims\u001b[0m\u001b[0;34m[\u001b[0m\u001b[0;36m0\u001b[0m\u001b[0;34m]\u001b[0m\u001b[0;34m.\u001b[0m\u001b[0mcmap\u001b[0m\u001b[0;34m,\u001b[0m \u001b[0mims\u001b[0m\u001b[0;34m[\u001b[0m\u001b[0;36m0\u001b[0m\u001b[0;34m]\u001b[0m\u001b[0;34m.\u001b[0m\u001b[0mnorm\u001b[0m\u001b[0;34m,\u001b[0m \u001b[0mthreshold\u001b[0m\u001b[0;34m)\u001b[0m\u001b[0;34m\u001b[0m\u001b[0;34m\u001b[0m\u001b[0m\n\u001b[0m\u001b[1;32m    688\u001b[0m \u001b[0;34m\u001b[0m\u001b[0m\n\u001b[1;32m    689\u001b[0m         \u001b[0mplt\u001b[0m\u001b[0;34m.\u001b[0m\u001b[0mdraw_if_interactive\u001b[0m\u001b[0;34m(\u001b[0m\u001b[0;34m)\u001b[0m\u001b[0;34m\u001b[0m\u001b[0;34m\u001b[0m\u001b[0m\n",
      "\u001b[0;32m~/.local/lib/python3.7/site-packages/nilearn/plotting/displays.py\u001b[0m in \u001b[0;36m_show_colorbar\u001b[0;34m(self, cmap, norm, threshold)\u001b[0m\n\u001b[1;32m    848\u001b[0m         \u001b[0mtransparent_stop\u001b[0m \u001b[0;34m=\u001b[0m \u001b[0mint\u001b[0m\u001b[0;34m(\u001b[0m\u001b[0mnorm\u001b[0m\u001b[0;34m(\u001b[0m\u001b[0moffset\u001b[0m\u001b[0;34m,\u001b[0m \u001b[0mclip\u001b[0m\u001b[0;34m=\u001b[0m\u001b[0;32mTrue\u001b[0m\u001b[0;34m)\u001b[0m \u001b[0;34m*\u001b[0m \u001b[0;34m(\u001b[0m\u001b[0mour_cmap\u001b[0m\u001b[0;34m.\u001b[0m\u001b[0mN\u001b[0m \u001b[0;34m-\u001b[0m \u001b[0;36m1\u001b[0m\u001b[0;34m)\u001b[0m\u001b[0;34m)\u001b[0m\u001b[0;34m\u001b[0m\u001b[0;34m\u001b[0m\u001b[0m\n\u001b[1;32m    849\u001b[0m         \u001b[0;32mfor\u001b[0m \u001b[0mi\u001b[0m \u001b[0;32min\u001b[0m \u001b[0mrange\u001b[0m\u001b[0;34m(\u001b[0m\u001b[0mtransparent_start\u001b[0m\u001b[0;34m,\u001b[0m \u001b[0mtransparent_stop\u001b[0m\u001b[0;34m)\u001b[0m\u001b[0;34m:\u001b[0m\u001b[0;34m\u001b[0m\u001b[0;34m\u001b[0m\u001b[0m\n\u001b[0;32m--> 850\u001b[0;31m             \u001b[0mcmaplist\u001b[0m\u001b[0;34m[\u001b[0m\u001b[0mi\u001b[0m\u001b[0;34m]\u001b[0m \u001b[0;34m=\u001b[0m \u001b[0mself\u001b[0m\u001b[0;34m.\u001b[0m\u001b[0m_brain_color\u001b[0m \u001b[0;34m+\u001b[0m \u001b[0;34m(\u001b[0m\u001b[0;36m0.\u001b[0m\u001b[0;34m,\u001b[0m\u001b[0;34m)\u001b[0m  \u001b[0;31m# transparent\u001b[0m\u001b[0;34m\u001b[0m\u001b[0;34m\u001b[0m\u001b[0m\n\u001b[0m\u001b[1;32m    851\u001b[0m         \u001b[0;32mif\u001b[0m \u001b[0mnorm\u001b[0m\u001b[0;34m.\u001b[0m\u001b[0mvmin\u001b[0m \u001b[0;34m==\u001b[0m \u001b[0mnorm\u001b[0m\u001b[0;34m.\u001b[0m\u001b[0mvmax\u001b[0m\u001b[0;34m:\u001b[0m  \u001b[0;31m# len(np.unique(data)) == 1 ?\u001b[0m\u001b[0;34m\u001b[0m\u001b[0;34m\u001b[0m\u001b[0m\n\u001b[1;32m    852\u001b[0m             \u001b[0;32mreturn\u001b[0m\u001b[0;34m\u001b[0m\u001b[0;34m\u001b[0m\u001b[0m\n",
      "\u001b[0;31mIndexError\u001b[0m: list assignment index out of range"
     ]
    },
    {
     "data": {
      "image/png": "[encoded data removed]",
      "text/plain": [
       "<Figure size 684x187.2 with 6 Axes>"
      ]
     },
     "metadata": {},
     "output_type": "display_data"
    }
   ],
   "source": [
    "for model_name in model_names:\n",
    "    for key in analysis:\n",
    "        maps = []\n",
    "        for model in data[model_name][key].keys():\n",
    "            if model == 'models':\n",
    "                models = data[model_name][key][model]\n",
    "            else:\n",
    "                name = '_'.join([model_name, model])\n",
    "                path = os.path.join(PROJECT_PATH, 'derivatives/fMRI/analysis/{}/{}'.format(language, name))\n",
    "                name = 'Pearson_coeff_group_fdr_effect'\n",
    "                maps.append(fetch_map(path, name)[0])\n",
    "        # Small reordering of models so that layers are in increasing order\n",
    "        maps \n",
    "        if key=='Hidden-layers':\n",
    "            maps = maps[:2] + maps[5:] + maps[2:5]\n",
    "            models = models[:2] + models[5:] + models[2:5]\n",
    "            load = 0\n",
    "        elif key=='Attention-layers':\n",
    "            maps = maps[:1] + maps[4:] + maps[1:4]\n",
    "            models = models[:1] + models[4:] + models[1:4]\n",
    "            load = 1\n",
    "        elif key=='Specific-attention-heads':\n",
    "            maps = maps[:4] + maps[6:7] + maps[4:6] + maps[7:]\n",
    "            models = models[:4] + models[6:7] + models[4:6] + models[7:]\n",
    "            load = 0\n",
    "        data_tmp = np.stack(masker.transform(map_) for map_ in maps)\n",
    "        data_tmp = np.argmax(data_tmp, axis=0)\n",
    "        #m = np.max(data_tmp)\n",
    "        data_tmp = (data_tmp + load)\n",
    "        print(np.unique(data_tmp))\n",
    "        \n",
    "        plot_name = \"Pearson_coeff-{}-{}\".format(model_name, key)\n",
    "        \n",
    "    \n",
    "        colormap = plt.cm.gist_ncar  # define the colormap\n",
    "        # extract all colors from the color map\n",
    "        #cmaplist = [colormap(i) for i in np.linspace(0, colormap.N, len(models))]\n",
    "        cmaplist = [colormap(i) for i in range(colormap.N)]\n",
    "        indexes = [int(item) for item in np.linspace(0, colormap.N,  len(models)+1)]\n",
    "        palette = np.array([cmaplist[index] for index in indexes[:-1]])\n",
    "\n",
    "\n",
    "        # create the new map\n",
    "        #cmap = matplotlib.colors.LinearSegmentedColormap.from_list(\n",
    "        #    'Custom cmap', cmaplist, len(models)) \n",
    "        cmap = matplotlib.colors.LinearSegmentedColormap.from_list(\n",
    "            'Custom cmap', palette, N=len(models)*2 ) #colormap(np.linspace(0, colormap.N, len(models)))\n",
    "        # define the bins and normalize\n",
    "        bounds = np.linspace(load, len(models)+load, len(models) + 1)\n",
    "        norm = matplotlib.colors.BoundaryNorm(bounds, len(models)*2) # colormap.N\n",
    "\n",
    "        print(vars(cmap))\n",
    "        img = masker.inverse_transform(data_tmp)\n",
    "        \n",
    "        display = plotting.plot_glass_brain(\n",
    "            img,\n",
    "            colorbar=True,\n",
    "            cmap=cmap,\n",
    "            norm=norm,\n",
    "            plot_abs=False,\n",
    "            display_mode='lzry',\n",
    "            title=plot_name)\n",
    "        saving_path = os.path.join(PROJECT_PATH, 'derivatives/fMRI/analysis/{}/glass_brains/'.format(language))\n",
    "        check_folder(saving_path)\n",
    "        print(plot_name)\n",
    "        #plt.show()\n",
    "        display.savefig(saving_path + plot_name + '.png')\n",
    "        nib.save(img, saving_path + plot_name + '.nii.gz')\n",
    "        plt.close('all')\n",
    "        \n",
    "        print(\"\\t\\t-->Done\")"
   ]
  },
  {
   "cell_type": "code",
   "execution_count": null,
   "metadata": {},
   "outputs": [],
   "source": [
    "def layer_plot(X,Y, error, surnames, object_of_interest, roi, limit, save_folder, name):\n",
    "    \"\"\"Layer-wised plot per ROI\n",
    "    \"\"\"\n",
    "    plot = plt.plot(X, Y)\n",
    "    ax = plt.axes()\n",
    "    plt.minorticks_on()\n",
    "    plt.grid(which='major', linestyle=':', linewidth='0.5', color='black', alpha=0.4, axis='both')\n",
    "    plt.grid(which='minor', linestyle=':', linewidth='0.5', color='black', alpha=0.1, axis='y')\n",
    "    #plt.title('\\n'.join(wrap(surnames[object_of_interest] + ' per ROI - {roi} - all voxels'.format(roi=roi))))\n",
    "    plt.xlabel('Models', fontsize=16)\n",
    "    plt.ylabel(surnames[object_of_interest], fontsize=16)\n",
    "    ax.tick_params(axis='y', labelsize=12)\n",
    "    plt.ylim(0,0.1)\n",
    "    plt.xticks(rotation=30, fontsize=10, horizontalalignment='right')\n",
    "    plt.errorbar(X, Y, error, linestyle='None', marker='^')\n",
    "    plt.tight_layout()\n",
    "    check_folder(save_folder)\n",
    "    plt.savefig(os.path.join(save_folder, name))\n",
    "    plt.close()"
   ]
  },
  {
   "cell_type": "markdown",
   "metadata": {},
   "source": [
    "### Impact of fine-tuning"
   ]
  },
  {
   "cell_type": "code",
   "execution_count": null,
   "metadata": {},
   "outputs": [],
   "source": [
    "scp -r ap259944@is153803.intra.cea.fr:/neurospin/unicog/protocols/IRMf/LePetitPrince_Pallier_2018/LePetitPrince/derivatives/fMRI/analysis/english/Attention-layers-Average/ /Users/alexpsq/Code/Parietal/analysis\n",
    "scp -r ap259944@is153803.intra.cea.fr:/neurospin/unicog/protocols/IRMf/LePetitPrince_Pallier_2018/LePetitPrince/derivatives/fMRI/analysis/english/Attention-layers-3rd_Quartile/ /Users/alexpsq/Code/Parietal/analysis\n",
    "scp -r ap259944@is153803.intra.cea.fr:/neurospin/unicog/protocols/IRMf/LePetitPrince_Pallier_2018/LePetitPrince/derivatives/fMRI/analysis/english/Hidden-layers-3rd_Quartile/ /Users/alexpsq/Code/Parietal/analysis\n",
    "scp -r ap259944@is153803.intra.cea.fr:/neurospin/unicog/protocols/IRMf/LePetitPrince_Pallier_2018/LePetitPrince/derivatives/fMRI/analysis/english/Hidden-layers-Average/ /Users/alexpsq/Code/Parietal/analysis\n",
    "scp -r ap259944@is153803.intra.cea.fr:/neurospin/unicog/protocols/IRMf/LePetitPrince_Pallier_2018/LePetitPrince/derivatives/fMRI/analysis/english/glass_brains/ /Users/alexpsq/Code/Parietal/analysis\n",
    "scp -r ap259944@is153803.intra.cea.fr:/neurospin/unicog/protocols/IRMf/LePetitPrince_Pallier_2018/LePetitPrince/derivatives/fMRI/analysis/english/Specific-attention-heads-Average/ /Users/alexpsq/Code/Parietal/analysis\n",
    "scp -r ap259944@is153803.intra.cea.fr:/neurospin/unicog/protocols/IRMf/LePetitPrince_Pallier_2018/LePetitPrince/derivatives/fMRI/analysis/english/Specific-attention-heads-3rd_Quartile/ /Users/alexpsq/Code/Parietal/analysis\n"
   ]
  },
  {
   "cell_type": "markdown",
   "metadata": {},
   "source": [
    "Relation\t| Head\t| Accuracy\t| Baseline\n",
    "\n",
    "All      \t| 7-6 \t| 34.5    \t| 26.3 \t (1)\n",
    "prep    \t| 7-4 \t| 66.7    \t| 61.8 \t (-1)\n",
    "pobj    \t| 9-6 \t| 76.3    \t| 34.6 \t (-2)\n",
    "det     \t| 8-11\t| 94.3    \t| 51.7 \t (1)\n",
    "nn      \t| 4-10\t| 70.4    \t| 70.2 \t (1)\n",
    "nsubj    \t| 8-2 \t| 58.5    \t| 45.5 \t (1)\n",
    "amod    \t| 4-10\t| 75.6    \t| 68.3 \t (1)\n",
    "dobj    \t| 8-10\t| 86.8    \t| 40.0 \t (-2)\n",
    "advmod    \t| 7-6 \t| 48.8    \t| 40.2 \t (1)\n",
    "aux     \t| 4-10\t| 81.1    \t| 71.5 \t (1)\n",
    "poss    \t| 7-6 \t| 80.5    \t| 47.7 \t (1)\n",
    "auxpass    \t| 4-10\t| 82.5    \t| 40.5 \t (1)\n",
    "ccomp    \t| 8-1 \t| 48.8    \t| 12.4 \t (-2)\n",
    "mark    \t| 8-2 \t| 50.7    \t| 14.5 \t (2)\n",
    "prt     \t| 6-7 \t| 99.1    \t| 91.4 \t (-1)"
   ]
  },
  {
   "cell_type": "markdown",
   "metadata": {},
   "source": [
    "### Full models"
   ]
  },
  {
   "cell_type": "code",
   "execution_count": null,
   "metadata": {},
   "outputs": [],
   "source": [
    "data_full = {}\n",
    "model_full_names = ['bert-base-cased_{}_all-hidden-layer',\n",
    "               'bert-base-cased_{}_all-hidden-layers_pca_300',\n",
    "               'bert-base-cased_{}_all-attention-layers',\n",
    "               'bert-base-cased_{}_all-attention-layers_pca_300',\n",
    "               'bert-base-cased_sequential_{}_all-hidden-layer',\n",
    "               'bert-base-cased_sequential_{}_all-hidden-layers_pca_300',\n",
    "               'bert-base-cased_sequential_{}_all-attention-layers',\n",
    "               'bert-base-cased_sequential_{}_all-attention-layers_pca_300',\n",
    "               'gpt2_{}_all-hidden-layer',\n",
    "               'gpt2_{}_all-hidden-layers_pca_300',\n",
    "               'gpt2_{}_all-attention-layers',\n",
    "               'gpt2_{}_all-attention-layers_pca_300',\n",
    "               'glove_300_{}',\n",
    "               'BF_rms_{}',\n",
    "               'BF_log_frequency_{}',\n",
    "               'LSTM_embedding-size_650_nhid_650_nlayers_2_dropout_02_wiki_kristina_english_{}_all-out-layers',\n",
    "               'LSTM_embedding-size_650_nhid_650_nlayers_2_dropout_02_wiki_kristina_english_{}_all-in-layers',\n",
    "               'LSTM_embedding-size_650_nhid_650_nlayers_2_dropout_02_wiki_kristina_english_{}_all-hidden-layers',\n",
    "               'LSTM_embedding-size_650_nhid_650_nlayers_2_dropout_02_wiki_kristina_english_{}_all-forget-layers',\n",
    "               'LSTM_embedding-size_650_nhid_650_nlayers_2_dropout_02_wiki_kristina_english_{}_all-c_tilde-layers',\n",
    "               'LSTM_embedding-size_650_nhid_650_nlayers_2_dropout_02_wiki_kristina_english_{}_all-cell-layers',\n",
    "               'LSTM_embedding-size_600_nhid_300_nlayers_1_dropout_02_wiki_kristina_english_{}_all-out-layers',\n",
    "               'LSTM_embedding-size_600_nhid_300_nlayers_1_dropout_02_wiki_kristina_english_{}_all-in-layers',\n",
    "               'LSTM_embedding-size_600_nhid_300_nlayers_1_dropout_02_wiki_kristina_english_{}_all-hidden-layers',\n",
    "               'LSTM_embedding-size_600_nhid_300_nlayers_1_dropout_02_wiki_kristina_english_{}_all-forget-layers',\n",
    "               'LSTM_embedding-size_600_nhid_300_nlayers_1_dropout_02_wiki_kristina_english_{}_all-c_tilde-layers',\n",
    "               'LSTM_embedding-size_600_nhid_300_nlayers_1_dropout_02_wiki_kristina_english_{}_all-cell-layers'\n",
    "              ]\n",
    "\n",
    "for model_name in model_full_names:\n",
    "    data_full[model_name.replace('_{}', '')] = {}\n",
    "    R2_maps = {}\n",
    "    Pearson_coeff_maps = {}\n",
    "    for subject_id in tqdm(possible_subjects_id(language)):\n",
    "        subject = get_subject_name(subject_id)\n",
    "        path_to_map = os.path.join(OUTPUT_PATH, subject, model_name.format(subject_id))\n",
    "        R2_maps[subject] = fetch_map(path_to_map, 'R2')\n",
    "        Pearson_coeff_maps[subject] = fetch_map(path_to_map, 'Pearson_coeff')\n",
    "        print(subject, '-', len(R2_maps[subject]), '-', len(Pearson_coeff_maps[subject]))\n",
    "    R2_lists = list(zip(*R2_maps.values()))\n",
    "    Pearson_coeff_lists = list(zip(*Pearson_coeff_maps.values()))\n",
    "    try:\n",
    "        data_full[model_name.replace('_{}', '')] = {'R2': list(R2_lists[0]),\n",
    "                            'Pearson_coeff': list(Pearson_coeff_lists[0])\n",
    "                            }\n",
    "    except:\n",
    "        print(model_name)\n"
   ]
  },
  {
   "cell_type": "code",
   "execution_count": null,
   "metadata": {},
   "outputs": [],
   "source": [
    "smoothing_fwhm = None # 5.0\n",
    "for model_name in model_full_names:\n",
    "    # R2\n",
    "    name = model_name.replace('_{}', '')\n",
    "    imgs = data_full[name]['R2']\n",
    "    output_dir = os.path.join(PROJECT_PATH, 'derivatives/fMRI/analysis/{}/{}'.format(language, name))\n",
    "    check_folder(output_dir)\n",
    "    create_one_sample_t_test(name + '_R2', imgs, output_dir, smoothing_fwhm=smoothing_fwhm, vmax=None)\n",
    "    # Pearson coefficient\n",
    "    imgs = data_full[name]['Pearson_coeff']\n",
    "    create_one_sample_t_test(name + '_Pearson_coeff', imgs, output_dir, smoothing_fwhm=smoothing_fwhm, vmax=None)\n",
    "    plt.close('all')"
   ]
  },
  {
   "cell_type": "markdown",
   "metadata": {},
   "source": [
    "We study:\n",
    "- BERT vs GPT2\n",
    "- BERT (pca) vs GPT2 (pca)\n",
    "- BERT (pca) vs LSTM (H)\n",
    "- GPT2 (pca) vs LSTM (H)\n",
    "- LSTM (H) vs GLOVE\n",
    "- BERT (pca) vs GLOVE\n",
    "- GPT2 (pca) vs GLOVE\n",
    "\n",
    "But also:\n",
    "- BERT (H) vs BERT (A)\n",
    "- GPT2 (H) vs GPT2 (A)\n",
    "- LSTM (O/I/H/F/C/T) vs LSTM (O/I/H/F/C/T)\n",
    "\n"
   ]
  },
  {
   "cell_type": "code",
   "execution_count": null,
   "metadata": {},
   "outputs": [],
   "source": [
    "comparisons = {'BERT(H)_vs_GPT2(H)' : ['bert-base-cased_all-hidden-layer', 'gpt2_all-hidden-layer'],\n",
    "              'BERT(A)_vs_GPT2(A)' : ['bert-base-cased_all-attention-layers', 'gpt2_all-attention-layers'],\n",
    "              'BERT(H)_vs_BERT(A)' : ['bert-base-cased_all-hidden-layer', 'bert-base-cased_all-attention-layers'],\n",
    "              'GPT2(H)_vs_GPT2(A)' : ['gpt2_all-hidden-layer', 'gpt2_all-attention-layers'],\n",
    "              'BERT(Hpca)_vs_GPT2(Hpca)' : ['bert-base-cased_all-hidden-layers_pca_300', 'gpt2_all-hidden-layers_pca_300'],\n",
    "              'BERT(Apca)_vs_GPT2(Apca)' : ['bert-base-cased_all-attention-layers_pca_300', 'gpt2_all-attention-layers_pca_300'],\n",
    "              'BERT(Hpca)_vs_BERT(Apca)' : ['bert-base-cased_all-hidden-layers_pca_300', 'bert-base-cased_all-attention-layers_pca_300'],\n",
    "              'GPT2(Hpca)_vs_GPT2(Apca)' : ['gpt2_all-hidden-layers_pca_300', 'gpt2_all-attention-layers_pca_300'],\n",
    "              \n",
    "              'BERT(Hpca)_vs_LSTM_650(Hpca)' : ['bert-base-cased_all-hidden-layers_pca_300', 'LSTM_embedding-size_650_nhid_650_nlayers_2_dropout_02_wiki_kristina_english_all-hidden-layers'],\n",
    "              'GPT2(Hpca)_vs_LSTM_650(Hpca)' : ['gpt2_all-hidden-layers_pca_300', 'LSTM_embedding-size_650_nhid_650_nlayers_2_dropout_02_wiki_kristina_english_all-hidden-layers'],\n",
    "              'BERT(Hpca)_vs_LSTM_300(H)' : ['bert-base-cased_all-hidden-layers_pca_300', 'LSTM_embedding-size_600_nhid_300_nlayers_1_dropout_02_wiki_kristina_english_all-hidden-layers'],\n",
    "              'GPT2(Hpca)_vs_LSTM_300(H)' : ['gpt2_all-hidden-layers_pca_300', 'LSTM_embedding-size_600_nhid_300_nlayers_1_dropout_02_wiki_kristina_english_all-hidden-layers'],\n",
    "              \n",
    "              'LSTM_650(Hpca)_vs_Glove' : ['LSTM_embedding-size_650_nhid_650_nlayers_2_dropout_02_wiki_kristina_english_all-hidden-layers', 'glove_300'],\n",
    "              'LSTM_300(H)_vs_Glove' : ['LSTM_embedding-size_600_nhid_300_nlayers_1_dropout_02_wiki_kristina_english_all-hidden-layers', 'glove_300'],\n",
    "              'BERT(Hpca)_vs_Glove' : ['bert-base-cased_all-hidden-layers_pca_300', 'glove_300'],\n",
    "              'GPT2(Hpca)_vs_Glove' : ['gpt2_all-hidden-layers_pca_300', 'glove_300'],\n",
    "              \n",
    "              'LSTM_650(Hpca)_vs_LSTM_650(Opca)' : ['LSTM_embedding-size_650_nhid_650_nlayers_2_dropout_02_wiki_kristina_english_all-hidden-layers', 'LSTM_embedding-size_650_nhid_650_nlayers_2_dropout_02_wiki_kristina_english_all-out-layers'],\n",
    "              'LSTM_300(H)_vs_LSTM_300(O)' : ['LSTM_embedding-size_600_nhid_300_nlayers_1_dropout_02_wiki_kristina_english_all-hidden-layers', 'LSTM_embedding-size_600_nhid_300_nlayers_1_dropout_02_wiki_kristina_english_all-out-layers'],\n",
    "              'LSTM_650(Hpca)_vs_LSTM_650(Ipca)' : ['LSTM_embedding-size_650_nhid_650_nlayers_2_dropout_02_wiki_kristina_english_all-hidden-layers', 'LSTM_embedding-size_650_nhid_650_nlayers_2_dropout_02_wiki_kristina_english_all-in-layers'],\n",
    "              'LSTM_300(H)_vs_LSTM_300(I)' : ['LSTM_embedding-size_600_nhid_300_nlayers_1_dropout_02_wiki_kristina_english_all-hidden-layers', 'LSTM_embedding-size_600_nhid_300_nlayers_1_dropout_02_wiki_kristina_english_all-in-layers'],\n",
    "              'LSTM_650(Hpca)_vs_LSTM_650(Fpca)' : ['LSTM_embedding-size_650_nhid_650_nlayers_2_dropout_02_wiki_kristina_english_all-hidden-layers', 'LSTM_embedding-size_650_nhid_650_nlayers_2_dropout_02_wiki_kristina_english_all-forget-layers'],\n",
    "              'LSTM_300(H)_vs_LSTM_300(F)' : ['LSTM_embedding-size_600_nhid_300_nlayers_1_dropout_02_wiki_kristina_english_all-hidden-layers', 'LSTM_embedding-size_600_nhid_300_nlayers_1_dropout_02_wiki_kristina_english_all-forget-layers'],\n",
    "              'LSTM_650(Hpca)_vs_LSTM_650(Cpca)' : ['LSTM_embedding-size_650_nhid_650_nlayers_2_dropout_02_wiki_kristina_english_all-hidden-layers', 'LSTM_embedding-size_650_nhid_650_nlayers_2_dropout_02_wiki_kristina_english_all-cell-layers'],\n",
    "              'LSTM_300(H)_vs_LSTM_300(C)' : ['LSTM_embedding-size_600_nhid_300_nlayers_1_dropout_02_wiki_kristina_english_all-hidden-layers', 'LSTM_embedding-size_600_nhid_300_nlayers_1_dropout_02_wiki_kristina_english_all-cell-layers'],\n",
    "              'LSTM_650(Hpca)_vs_LSTM_650(Tpca)' : ['LSTM_embedding-size_650_nhid_650_nlayers_2_dropout_02_wiki_kristina_english_all-hidden-layers', 'LSTM_embedding-size_650_nhid_650_nlayers_2_dropout_02_wiki_kristina_english_all-c_tilde-layers'],\n",
    "              'LSTM_300(H)_vs_LSTM_300(T)' : ['LSTM_embedding-size_600_nhid_300_nlayers_1_dropout_02_wiki_kristina_english_all-hidden-layers', 'LSTM_embedding-size_600_nhid_300_nlayers_1_dropout_02_wiki_kristina_english_all-c_tilde-layers']\n",
    "}\n",
    "\n"
   ]
  },
  {
   "cell_type": "code",
   "execution_count": null,
   "metadata": {},
   "outputs": [],
   "source": [
    "for comparison in comparisons.keys():\n",
    "    # R2\n",
    "    print('Retrieving data...')\n",
    "    imgs_1 = data_full[comparisons[comparison][0]]['R2']\n",
    "    imgs_2 = data_full[comparisons[comparison][1]]['R2']\n",
    "\n",
    "    imgs = []\n",
    "    for img_1, img_2 in zip(imgs_1, imgs_2):\n",
    "        i1 = nib.load(img_1)\n",
    "        i2 = nib.load(img_2)\n",
    "        imgs.append(new_img_like(i1, i1.get_data() - i2.get_data()))\n",
    "\n",
    "    output_dir = os.path.join(PROJECT_PATH, 'derivatives/fMRI/analysis/{}/{}'.format(language, name))\n",
    "    check_folder(output_dir)\n",
    "    print('One sample t-test...')\n",
    "    create_one_sample_t_test(name + '_R2', imgs, output_dir, smoothing_fwhm=smoothing_fwhm, vmax=None)\n",
    "    # Pearson Coefficient\n",
    "    print('Retrieving data...')\n",
    "    imgs_1 = data_full[comparisons[comparison][0]]['Pearson_coeff']\n",
    "    imgs_2 = data_full[comparisons[comparison][1]]['Pearson_coeff']\n",
    "\n",
    "    imgs = []\n",
    "    for img_1, img_2 in zip(imgs_1, imgs_2):\n",
    "        i1 = nib.load(img_1)\n",
    "        i2 = nib.load(img_2)\n",
    "        imgs.append(new_img_like(i1, i1.get_data() - i2.get_data()))\n",
    "    create_one_sample_t_test(name + '_Pearson_coeff', imgs, output_dir, smoothing_fwhm=smoothing_fwhm, vmax=None)\n"
   ]
  },
  {
   "cell_type": "code",
   "execution_count": null,
   "metadata": {},
   "outputs": [],
   "source": []
  },
  {
   "cell_type": "code",
   "execution_count": null,
   "metadata": {},
   "outputs": [],
   "source": []
  },
  {
   "cell_type": "code",
   "execution_count": null,
   "metadata": {},
   "outputs": [],
   "source": []
  },
  {
   "cell_type": "code",
   "execution_count": null,
   "metadata": {},
   "outputs": [],
   "source": []
  },
  {
   "cell_type": "code",
   "execution_count": null,
   "metadata": {},
   "outputs": [],
   "source": []
  },
  {
   "cell_type": "code",
   "execution_count": null,
   "metadata": {},
   "outputs": [],
   "source": []
  },
  {
   "cell_type": "code",
   "execution_count": null,
   "metadata": {},
   "outputs": [],
   "source": []
  },
  {
   "cell_type": "code",
   "execution_count": null,
   "metadata": {},
   "outputs": [],
   "source": []
  },
  {
   "cell_type": "code",
   "execution_count": null,
   "metadata": {},
   "outputs": [],
   "source": []
  }
 ],
 "metadata": {
  "kernelspec": {
   "display_name": "Python 3",
   "language": "python",
   "name": "python3"
  },
  "language_info": {
   "codemirror_mode": {
    "name": "ipython",
    "version": 3
   },
   "file_extension": ".py",
   "mimetype": "text/x-python",
   "name": "python",
   "nbconvert_exporter": "python",
   "pygments_lexer": "ipython3",
   "version": "3.7.6"
  }
 },
 "nbformat": 4,
 "nbformat_minor": 4
}
