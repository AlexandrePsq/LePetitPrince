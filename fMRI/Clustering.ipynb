{
 "cells": [
  {
   "cell_type": "markdown",
   "metadata": {},
   "source": [
    "# Clustering of voxels and ROI based on beta maps"
   ]
  },
  {
   "cell_type": "markdown",
   "metadata": {},
   "source": [
    "## Importing"
   ]
  },
  {
   "cell_type": "code",
   "execution_count": 7,
   "metadata": {},
   "outputs": [],
   "source": [
    "import os\n",
    "import glob\n",
    "import itertools\n",
    "from tqdm import tqdm\n",
    "import numpy as np\n",
    "import pandas as pd\n",
    "%matplotlib inline\n",
    "import matplotlib.pyplot as plt\n",
    "import matplotlib\n",
    "from mpl_toolkits.mplot3d import Axes3D\n",
    "import matplotlib.cm as cmx\n",
    "import nistats\n",
    "import scipy\n",
    "import seaborn as sns\n",
    "import nibabel as nib\n",
    "import nilearn\n",
    "from nilearn.image import load_img, mean_img, index_img, threshold_img, math_img, smooth_img, new_img_like\n",
    "from nilearn.regions import RegionExtractor\n",
    "from nilearn import plotting\n",
    "from nilearn import datasets\n",
    "from scipy.stats import norm\n",
    "from nilearn.surface import vol_to_surf\n",
    "from utils import *\n",
    "import hdbscan\n",
    "import umap\n",
    "from sklearn.decomposition import PCA\n",
    "from sklearn.cluster import AgglomerativeClustering, KMeans\n",
    "from sklearn.manifold import LocallyLinearEmbedding\n",
    "from sklearn.decomposition import FastICA \n",
    "from sklearn import manifold\n",
    "from sklearn.neighbors import kneighbors_graph"
   ]
  },
  {
   "cell_type": "code",
   "execution_count": 8,
   "metadata": {},
   "outputs": [],
   "source": [
    "from logger import Logger\n",
    "from utils import read_yaml, check_folder, fetch_masker, possible_subjects_id, get_subject_name\n",
    "import reporting\n",
    "from linguistics_info import load_surnames, load_syntactic_roi, load_language_roi"
   ]
  },
  {
   "cell_type": "markdown",
   "metadata": {},
   "source": [
    "## Defining global variables"
   ]
  },
  {
   "cell_type": "code",
   "execution_count": 9,
   "metadata": {},
   "outputs": [],
   "source": [
    "language = 'english'"
   ]
  },
  {
   "cell_type": "code",
   "execution_count": 10,
   "metadata": {},
   "outputs": [],
   "source": [
    "PROJECT_PATH = f\"/neurospin/unicog/protocols/IRMf/LePetitPrince_Pallier_2018/LePetitPrince/\"\n",
    "OUTPUT_PATH = f\"/neurospin/unicog/protocols/IRMf/LePetitPrince_Pallier_2018/LePetitPrince/derivatives/fMRI/maps/{language}\"\n",
    "INPUT_PATH = f\"/neurospin/unicog/protocols/IRMf/LePetitPrince_Pallier_2018/LePetitPrince/data/stimuli-representations/{language}\"\n",
    "FMRIDATA_PATH = f\"/neurospin/unicog/protocols/IRMf/LePetitPrince_Pallier_2018/LePetitPrince/data/fMRI/{language}\"\n",
    "MASKER_PATH = f\"/neurospin/unicog/protocols/IRMf/LePetitPrince_Pallier_2018/LePetitPrince/global_masker_95%_{language}\"\n",
    "SMOOTHED_MASKER_PATH = f\"/neurospin/unicog/protocols/IRMf/LePetitPrince_Pallier_2018/LePetitPrince/smoothed_global_masker_{language}\""
   ]
  },
  {
   "cell_type": "code",
   "execution_count": 11,
   "metadata": {},
   "outputs": [],
   "source": [
    "#PROJECT_PATH = f\"/Users/alexpsq/Code/Parietal/maps\""
   ]
  },
  {
   "cell_type": "code",
   "execution_count": 12,
   "metadata": {},
   "outputs": [],
   "source": [
    "logger = Logger(os.path.join(PROJECT_PATH, 'logs.txt'))"
   ]
  },
  {
   "cell_type": "code",
   "execution_count": 13,
   "metadata": {},
   "outputs": [],
   "source": [
    "path_to_beta_maps_template = \"/neurospin/unicog/protocols/IRMf/LePetitPrince_Pallier_2018/LePetitPrince/derivatives/fMRI/maps/english/{subject_name}/bert-base-cased_pre-7_1_post-0_norm-None_norm-inf_temporal-shifting-0_{subject_id}_hidden-all-layers/{subject_name}_bert-base-cased_pre-7_1_post-0_norm-None_norm-inf_temporal-shifting-0_{subject_id}_hidden-all-layers_coef_.npy\"\n",
    "mask_template = \"/neurospin/unicog/protocols/IRMf/LePetitPrince_Pallier_2018/LePetitPrince/derivatives/fMRI/maps/english/{subject_name}/bert-base-cased_pre-7_1_post-0_norm-None_norm-inf_temporal-shifting-0_{subject_id}_hidden-all-layers/{subject_name}_bert-base-cased_pre-7_1_post-0_norm-None_norm-inf_temporal-shifting-0_{subject_id}_hidden-all-layers_R2.nii.gz\"\n",
    "#path_to_beta_maps_template = \"/Users/alexpsq/Code/Parietal/maps/{subject_name}_bert-base-cased_pre-7_1_post-0_norm-None_norm-inf_temporal-shifting-0_{subject_id}_hidden-all-layers_coef_.npy\"\n",
    "#mask_template = \"/Users/alexpsq/Code/Parietal/maps/{subject_name}_bert-base-cased_pre-7_1_post-0_norm-None_norm-inf_temporal-shifting-0_{subject_id}_hidden-all-layers_R2.nii.gz\""
   ]
  },
  {
   "cell_type": "code",
   "execution_count": 14,
   "metadata": {},
   "outputs": [],
   "source": [
    "#saving_folder = \"/Users/alexpsq/Code/Parietal/maps/\"\n",
    "saving_folder =  \"/neurospin/unicog/protocols/IRMf/LePetitPrince_Pallier_2018/LePetitPrince/derivatives/fMRI/clustering/\""
   ]
  },
  {
   "cell_type": "code",
   "execution_count": 15,
   "metadata": {},
   "outputs": [],
   "source": [
    "all_reduction_method = [\"umap\", \"pca\", \"ica\", \"isomap\"] # \"none\", \"mds\", \"sp-emb\"\n",
    "all_clustering_method = [\"hdbscan\", \"agg-clus\", \"max\"]"
   ]
  },
  {
   "cell_type": "code",
   "execution_count": 37,
   "metadata": {},
   "outputs": [],
   "source": [
    "params = {\n",
    "        'data':None, \n",
    "        'reduction':'umap', \n",
    "        'clustering':'hdbscan', \n",
    "        'mask':None, \n",
    "        'min_cluster_size':50, \n",
    "        'min_samples':10, \n",
    "        'n_neighbors':4, \n",
    "        'min_dist':0.0, \n",
    "        'n_components':7, \n",
    "        'n_clusters':13, \n",
    "        'random_state':1111, \n",
    "        'cluster_selection_epsilon':0.5, \n",
    "        'affinity_reduc' : 'nearest_neighbors',\n",
    "        'affinity_cluster':'cosine', \n",
    "        'linkage':'average',\n",
    "        'saving_folder': None,\n",
    "        'plot_name': None\n",
    "}"
   ]
  },
  {
   "cell_type": "markdown",
   "metadata": {},
   "source": [
    "## Functions definition"
   ]
  },
  {
   "cell_type": "code",
   "execution_count": 38,
   "metadata": {},
   "outputs": [],
   "source": [
    "def heat_map(path_to_beta_maps, aggregate=False, title='', saving_path=None):\n",
    "    if isinstance(path_to_beta_maps, str):\n",
    "        data = np.load(path_to_beta_maps)\n",
    "    else:\n",
    "        data = path_to_beta_maps\n",
    "    plt.figure(figsize=(40,40))\n",
    "    if aggregate:\n",
    "        data = aggregate_beta_maps(data, nb_layers=13, layer_size=768)\n",
    "    sns.heatmap(data)\n",
    "    plt.title('Heatmap -', title)\n",
    "    if saving_path is not None:\n",
    "        plt.savefig(saving_path)\n",
    "        plt.close()\n",
    "    else:\n",
    "        plt.show()"
   ]
  },
  {
   "cell_type": "code",
   "execution_count": 39,
   "metadata": {},
   "outputs": [],
   "source": [
    "def resample_beta_maps(path_to_beta_maps, original_masker, new_masker):\n",
    "    \"\"\"Resample beta map with a new masker.\n",
    "    path_to_beta_maps: #voxels x #features\"\"\"\n",
    "    if isinstance(original_masker, str):\n",
    "        original_masker = load_masker(original_masker)\n",
    "    if isinstance(new_masker, str):\n",
    "        new_masker = load_masker(new_masker)\n",
    "    if isinstance(path_to_beta_maps, str):\n",
    "        data = np.load(path_to_beta_maps)\n",
    "    else:\n",
    "        data = path_to_beta_maps\n",
    "    print(\"Original data has dimension: \", data.shape)\n",
    "    imgs = original_masker.inverse_transform([data[:, i] for i in range(data.shape[1])])\n",
    "    new_data = new_masker.transform(imgs) # dimension: #samples x #voxels\n",
    "    print(\"New data has dimension: \", new_data.T.shape)\n",
    "    return new_data.T\n",
    "    "
   ]
  },
  {
   "cell_type": "code",
   "execution_count": 40,
   "metadata": {},
   "outputs": [],
   "source": [
    "def create_subject_mask(mask_template, subject_name, subject_id, global_masker, threshold=75):\n",
    "    mask_img = nib.load(mask_template.format(subject_name=subject_name, subject_id=subject_id))\n",
    "    mask_tmp = global_masker.transform(mask_img)\n",
    "    mask = np.zeros(mask_tmp.shape)\n",
    "    mask[mask_tmp > np.percentile(mask_tmp, threshold)] = 1\n",
    "    mask = mask.astype(int)\n",
    "    mask = mask[0].astype(bool)\n",
    "    return mask"
   ]
  },
  {
   "cell_type": "code",
   "execution_count": 41,
   "metadata": {},
   "outputs": [],
   "source": [
    "def aggregate_beta_maps(data, nb_layers=13, layer_size=768):\n",
    "    \"\"\"Clustering of voxels or ROI based on their beta maps.\n",
    "    maps: (#voxels x #features)\n",
    "    \"\"\"\n",
    "    if isinstance(data, str):\n",
    "        data = np.load(data)\n",
    "    nb_layers = nb_layers\n",
    "    layer_size = layer_size\n",
    "    result = np.zeros((data.shape[0], nb_layers))\n",
    "    for index in range(nb_layers):\n",
    "        result[:, index] = np.mean(data[:, layer_size * index : layer_size * (index + 1)], axis=1)\n",
    "    return result"
   ]
  },
  {
   "cell_type": "code",
   "execution_count": 42,
   "metadata": {},
   "outputs": [],
   "source": [
    "def plot_roi_img_surf(surf_img, saving_path, plot_name, mask=None, labels=None, inflated=False, compute_surf=True, colorbar=True, **kwargs):\n",
    "    fsaverage = datasets.fetch_surf_fsaverage()\n",
    "    if compute_surf:\n",
    "        surf_img = vol_to_surf(surf_img, fsaverage[kwargs['surf_mesh']], interpolation='nearest', mask_img=mask)\n",
    "        surf_img[np.isnan(surf_img)] = -2\n",
    "    if labels is not None:\n",
    "        surf_img = np.round(surf_img)\n",
    "        \n",
    "    surf_img += 2\n",
    "    if saving_path:\n",
    "        plt.close('all')\n",
    "        plt.hist(surf_img, bins=50)\n",
    "        plt.title(plot_name)\n",
    "        plt.savefig(saving_path + \"hist_{}.png\".format(plot_name))\n",
    "    plt.close('all')\n",
    "    if inflated:\n",
    "        kwargs['surf_mesh'] = 'infl_left' if 'left' in kwargs['surf_mesh_type'] else 'infl_right' \n",
    "    disp = plotting.plot_surf_roi(\n",
    "        surf_mesh=fsaverage[kwargs['surf_mesh']], \n",
    "        roi_map=surf_img,\n",
    "        hemi=kwargs['hemi'],\n",
    "        view=kwargs['view'],\n",
    "        bg_map=fsaverage[kwargs['bg_map']], \n",
    "        bg_on_data=kwargs['bg_on_data'],\n",
    "        darkness=kwargs['darkness'],\n",
    "        colorbar=colorbar)\n",
    "    if saving_path:\n",
    "        disp.savefig(saving_path + plot_name + '_{}_{}_{}.png'.format(kwargs['surf_mesh_type'], kwargs['hemi'], kwargs['view']))\n",
    "    else:\n",
    "        plotting.show()"
   ]
  },
  {
   "cell_type": "code",
   "execution_count": 43,
   "metadata": {},
   "outputs": [],
   "source": [
    "def scatter3d(data, cs, colorsMap='jet', reduction_type='', other=None, **kwargs):\n",
    "    \"\"\"3D scatter plot with random color to distinguish the shape.\"\"\"\n",
    "    cm = plt.get_cmap(colorsMap)\n",
    "    cNorm = matplotlib.colors.Normalize(vmin=min(cs), vmax=max(cs))\n",
    "    scalarMap = cmx.ScalarMappable(norm=cNorm, cmap=cm)\n",
    "    fig = plt.figure(figsize=(12,12))\n",
    "    ax = fig.add_subplot(111, projection='3d')\n",
    "    \n",
    "    ax.scatter(data[:, 0], data[:, 1], data[:, 2], marker='o', c=scalarMap.to_rgba(cs), **kwargs)\n",
    "    ax.set_xlabel('X Label')\n",
    "    ax.set_ylabel('Y Label')\n",
    "    ax.set_zlabel('Z Label')\n",
    "    ax.view_init(other['elevation'], other['azimuth'])\n",
    "\n",
    "    #ax.scatter(x, y, z, c=scalarMap.to_rgba(cs))\n",
    "    scalarMap.set_array(cs)\n",
    "    fig.colorbar(scalarMap)\n",
    "    plt.title('Activations embedding for {}'.format(reduction_type), fontsize=24)\n",
    "    ax.view_init(other['elevation'], other['azimuth'])\n",
    "    interact()"
   ]
  },
  {
   "cell_type": "code",
   "execution_count": 44,
   "metadata": {},
   "outputs": [],
   "source": [
    "def plot_reduction(data, plot_type='2D', reduction_type='', other=None, **kwargs):\n",
    "    \"\"\"kwargs includes: \n",
    "     - s=5\n",
    "     - c='density'\n",
    "     - cmap='Spectral'\n",
    "    \"\"\"\n",
    "    plt.close('all')\n",
    "    if plot_type=='2D':\n",
    "        plt.scatter(data[:, 0], data[:, 1], **kwargs)\n",
    "        interact()\n",
    "    elif plot_type=='3D':\n",
    "        scatter3d(data, results, colorsMap='jet', reduction_type=reduction_type, other=other, **kwargs)"
   ]
  },
  {
   "cell_type": "code",
   "execution_count": 45,
   "metadata": {},
   "outputs": [],
   "source": [
    "def plot_reduc(path_to_beta_maps, n_neighbors=30, min_dist=0.0, n_components=3, random_state=1111, cluster_selection_epsilon=0.0):\n",
    "    \"\"\"Clustering of voxels or ROI based on their beta maps.\n",
    "    \"\"\"\n",
    "    if isinstance(path_to_beta_maps, str):\n",
    "        data = np.load(path_to_beta_maps).T\n",
    "    else:\n",
    "        data = path_to_beta_maps.T\n",
    "    \n",
    "    plot_kwargs = {\n",
    "        's':2,\n",
    "        #'c':'density',\n",
    "        'cmap':'Spectral'\n",
    "    }\n",
    "    data = data.T\n",
    "    print(\"UMAP...\")\n",
    "    umap_result_3D = umap.UMAP(n_neighbors=n_neighbors, min_dist=min_dist, n_components=n_components, random_state=random_state, metric='manhattan').fit_transform(data)\n",
    "    plot_reduction(umap_result_3D, plot_type='3D', reduction_type='UMAP', other={'elevation': 15, 'azimuth': 15}, **plot_kwargs)\n",
    "    "
   ]
  },
  {
   "cell_type": "code",
   "execution_count": 112,
   "metadata": {},
   "outputs": [],
   "source": [
    "def clustering(data, mask, reduction, clustering, min_cluster_size=20, min_samples=10, n_neighbors=30, min_dist=0.0, n_components=10, n_clusters=13, random_state=1111, cluster_selection_epsilon=0.0, affinity_reduc='nearest_neighbors', affinity_cluster='cosine', linkage='average', saving_folder=None, plot_name=None, metric='cosine'):\n",
    "    \"\"\"Clustering of voxels or ROI based on their beta maps.\n",
    "    \"\"\"    \n",
    "    if reduction==\"umap\":\n",
    "        data_reduced = umap.UMAP(n_neighbors=n_neighbors, min_dist=min_dist, n_components=n_components, random_state=random_state, metric=metric).fit_transform(data)\n",
    "        standard_embedding = umap.UMAP(n_neighbors=n_neighbors, min_dist=min_dist, n_components=2, random_state=random_state, metric=metric).fit_transform(data)\n",
    "    elif reduction==\"pca\":\n",
    "        data_reduced = PCA(n_components=n_components, random_state=random_state).fit_transform(data)\n",
    "        standard_embedding = PCA(n_components=2, random_state=random_state).fit_transform(data)\n",
    "    elif reduction==\"ica\":\n",
    "        data_reduced = FastICA(n_components=n_components, random_state=random_state).fit_transform(data)\n",
    "        standard_embedding = FastICA(n_components=2, random_state=random_state).fit_transform(data)\n",
    "    elif reduction==\"isomap\":\n",
    "        data_reduced = manifold.Isomap(n_components=n_components, n_neighbors=n_neighbors, n_jobs=-1).fit_transform(data)\n",
    "        standard_embedding = manifold.Isomap(n_components=2, n_neighbors=n_neighbors, n_jobs=-1).fit_transform(data)\n",
    "    elif reduction==\"mds\":\n",
    "        data_reduced = manifold.MDS(n_components=n_components, random_state=random_state, n_jobs=-1).fit_transform(data)\n",
    "        standard_embedding = manifold.MDS(n_components=2, random_state=random_state, n_jobs=-1).fit_transform(data)\n",
    "    elif reduction==\"sp-emb\":\n",
    "        data_reduced = manifold.SpectralEmbedding(n_components=n_components, random_state=random_state, n_neighbors=n_neighbors, n_jobs=-1).fit_transform(data)\n",
    "        standard_embedding = manifold.SpectralEmbedding(n_components=2, random_state=random_state, n_neighbors=n_neighbors, n_jobs=-1, affinity=affinity_reduc).fit_transform(data)\n",
    "    else:\n",
    "        data_reduced = data\n",
    "    if clustering=='hdbscan':\n",
    "        labels_ = hdbscan.HDBSCAN(min_samples=min_samples, min_cluster_size=min_cluster_size, cluster_selection_epsilon=cluster_selection_epsilon).fit_predict(data_reduced)\n",
    "    elif clustering=='agg-clus':\n",
    "        #kneighbors_graph_ = kneighbors_graph(data_, n_neighbors=5)\n",
    "        sc = AgglomerativeClustering(n_clusters=n_clusters, linkage=linkage, affinity=affinity_cluster) #  connectivity=kneighbors_graph_\n",
    "        clustering = sc.fit(data_reduced)\n",
    "        labels_ = clustering.labels_\n",
    "    elif clustering==\"max\":\n",
    "        labels_ = np.argmax(data_reduced, axis=1)\n",
    "    all_labels = np.zeros(len(mask))\n",
    "    all_labels[mask] = labels_\n",
    "    all_labels[~mask] = -2\n",
    "    \n",
    "    # Printing scatter plot\n",
    "    if reduction in [\"umap\", \"pca\", \"ica\", \"isomap\", \"mds\", \"sp-emb\"]:\n",
    "        plt.close('all')\n",
    "        clustered = (labels_ >= 0)\n",
    "        colorsMap='jet'\n",
    "        cm = plt.get_cmap(colorsMap)\n",
    "        cNorm = matplotlib.colors.Normalize(vmin=min(labels_), vmax=max(labels_))\n",
    "        scalarMap = cmx.ScalarMappable(norm=cNorm, cmap=cm)\n",
    "\n",
    "        plt.scatter(standard_embedding[clustered, 0],\n",
    "                    standard_embedding[clustered, 1],\n",
    "                    c=scalarMap.to_rgba(labels_[clustered]),\n",
    "                    s=0.1,\n",
    "                    cmap='Spectral')\n",
    "        plot_name += '_nb_clusters-{}_non-null-{}'.format(len(np.unique(all_labels)), np.sum(all_labels>0))\n",
    "        plt.title(plot_name)\n",
    "        check_folder(saving_folder)\n",
    "        if saving_folder is not None:\n",
    "            plt.savefig(saving_folder + \"scatter_{}.png\".format(plot_name))\n",
    "        plt.show()\n",
    "        plt.close('all')\n",
    "        \n",
    "    return all_labels"
   ]
  },
  {
   "cell_type": "code",
   "execution_count": 113,
   "metadata": {},
   "outputs": [],
   "source": [
    "def create_name(subject_name, params):\n",
    "    keys = [\n",
    "            'reduction',\n",
    "            'clustering',\n",
    "            'min_cluster_size',\n",
    "            'n_neighbors',\n",
    "            'n_components',\n",
    "            'affinity_cluster',\n",
    "            'linkage',\n",
    "            'min_samples',\n",
    "            'metric'\n",
    "    ]\n",
    "    name = subject_name\n",
    "    for key in keys:\n",
    "        name += '_' + key + '-' + str(params[key])\n",
    "    return name"
   ]
  },
  {
   "cell_type": "code",
   "execution_count": 114,
   "metadata": {},
   "outputs": [],
   "source": [
    "def save_results(data, all_original_length, saving_folder, plot_name, global_masker, mask, **kwargs):\n",
    "    \"\"\"Save surface plot.\"\"\"\n",
    "    plot_name += '_nb_clusters-{}_non-null-{}'.format(len(np.unique(data)), np.sum(data>0))\n",
    "    if saving_folder is not None:\n",
    "        check_folder(os.path.join(saving_folder, 'labels'))\n",
    "        np.save(os.path.join(saving_folder, 'labels', plot_name+'.npy'), data)\n",
    "    i = 0\n",
    "    results = []\n",
    "    nb_clusters = len(np.unique(data))\n",
    "    print('Input shape: ', data.shape)\n",
    "    print('Number of clusters: ', nb_clusters)\n",
    "    for l in all_original_length:\n",
    "        results.append(get_prob_matrix(data[i: i+l], nb_clusters))\n",
    "        i += l\n",
    "    l = results[0].shape[1]\n",
    "    print('Number of voxels:', l)\n",
    "    for index, item in enumerate(results):\n",
    "        assert item.shape[1]==l\n",
    "    matrix_ = np.stack(results, axis=0)\n",
    "    prob_matrix = np.mean(matrix_, axis=0)\n",
    "    argmax_matrix = np.argmax(prob_matrix, axis=0)\n",
    "    #final_matrix = np.zeros((nb_clusters, len(argmax_matrix)))\n",
    "    #for index, i in enumerate(rois):\n",
    "    #    final_matrix[i, index] = 1\n",
    "    \n",
    "    img = global_masker.inverse_transform(argmax_matrix)\n",
    "    plot_roi_img_surf(img, saving_folder, plot_name, mask=global_masker.inverse_transform(mask), labels=np.unique(results), inflated=False, compute_surf=True, colorbar=True, **kwargs)\n"
   ]
  },
  {
   "cell_type": "code",
   "execution_count": 49,
   "metadata": {},
   "outputs": [],
   "source": [
    "def get_connectivity_matrix(labels):\n",
    "    if isinstance(labels, str):\n",
    "        labels = np.load(labels)\n",
    "    result = np.equal.outer(labels,labels).astype(int)\n",
    "    return result"
   ]
  },
  {
   "cell_type": "code",
   "execution_count": 50,
   "metadata": {},
   "outputs": [],
   "source": [
    "def get_prob_matrix(labels, nb_clusters):\n",
    "    if isinstance(labels, str):\n",
    "        labels = np.load(labels)\n",
    "    nb_voxels = len(labels)\n",
    "    prob_matrix = np.zeros((nb_clusters, nb_voxels))\n",
    "    for index, i in enumerate(range(nb_clusters)):\n",
    "        prob_matrix[index, labels==i] = 1\n",
    "    return prob_matrix"
   ]
  },
  {
   "cell_type": "code",
   "execution_count": 51,
   "metadata": {},
   "outputs": [],
   "source": [
    "def get_labels(subject_name, reduction, clustering, saving_folder, params):\n",
    "    \"\"\"Retrieve computed labels for a given subject.\"\"\"\n",
    "    saving_folder = os.path.join(saving_folder, '_'.join([reduction, clustering]) + '/')\n",
    "    plot_name = create_name(subject_name, params)\n",
    "    path = sorted(glob.glob(os.path.join(saving_folder, 'labels', plot_name + '*.npy')))\n",
    "    return path"
   ]
  },
  {
   "cell_type": "code",
   "execution_count": 52,
   "metadata": {},
   "outputs": [],
   "source": [
    "def get_images(subject_name, reduction, clustering, saving_folder, params):\n",
    "    \"\"\"Retrieve computed labels for a given subject.\"\"\"\n",
    "    saving_folder = os.path.join(saving_folder, '_'.join([reduction, clustering]) + '/')\n",
    "    plot_name = create_name(subject_name, params)\n",
    "    path = sorted(glob.glob(os.path.join(saving_folder, plot_name + '*.png')))\n",
    "    return path"
   ]
  },
  {
   "cell_type": "markdown",
   "metadata": {},
   "source": [
    "## Data Loading"
   ]
  },
  {
   "cell_type": "code",
   "execution_count": 53,
   "metadata": {},
   "outputs": [],
   "source": [
    "global_masker_50 = reporting.fetch_masker(f\"{PROJECT_PATH}/global_masker_{language}\"\n",
    ", language, FMRIDATA_PATH, INPUT_PATH, smoothing_fwhm=None, logger=logger)\n",
    "global_masker_95 = reporting.fetch_masker(f\"{PROJECT_PATH}/global_masker_95%_{language}\"\n",
    ", language, FMRIDATA_PATH, INPUT_PATH, smoothing_fwhm=None, logger=logger)"
   ]
  },
  {
   "cell_type": "code",
   "execution_count": 54,
   "metadata": {},
   "outputs": [],
   "source": [
    "atlas_maps, labels = reporting.load_atlas() # load harvard-oxford atlas named'cort-prob-2mm'\n",
    "x_labels = labels[1:]"
   ]
  },
  {
   "cell_type": "code",
   "execution_count": 55,
   "metadata": {},
   "outputs": [],
   "source": [
    "subjects = [get_subject_name(sub_id) for sub_id in possible_subjects_id(language)]"
   ]
  },
  {
   "cell_type": "code",
   "execution_count": 56,
   "metadata": {},
   "outputs": [],
   "source": [
    "#reporting.plot_roi_img_surf(global_masker_50.inverse_transform(global_masker_50.transform(\"/neurospin/unicog/protocols/IRMf/LePetitPrince_Pallier_2018/LePetitPrince/derivatives/fMRI/maps/english/sub-057/bert-base-cased_pre-7_1_post-0_norm-None_norm-inf_temporal-shifting-0_57_hidden-all-layers/sub-057_bert-base-cased_pre-7_1_post-0_norm-None_norm-inf_temporal-shifting-0_57_hidden-all-layers_R2.nii.gz\")), None, 'test', inflated=False, compute_surf=True, colorbar=True, **kwargs)\n"
   ]
  },
  {
   "cell_type": "markdown",
   "metadata": {},
   "source": [
    "## Defining subjects variables"
   ]
  },
  {
   "cell_type": "code",
   "execution_count": 31,
   "metadata": {},
   "outputs": [
    {
     "data": {
      "text/plain": [
       "NiftiMasker(detrend=False, dtype=None, high_pass=None, low_pass=None,\n",
       "            mask_args=None,\n",
       "            mask_img=<nibabel.nifti1.Nifti1Image object at 0x7f7c589fa210>,\n",
       "            mask_strategy='background', memory=Memory(location=None),\n",
       "            memory_level=0, reports=True, sample_mask=None, sessions=None,\n",
       "            smoothing_fwhm=None, standardize=False, t_r=None,\n",
       "            target_affine=None, target_shape=None, verbose=0)"
      ]
     },
     "execution_count": 31,
     "metadata": {},
     "output_type": "execute_result"
    }
   ],
   "source": [
    "subject_name=\"sub-057\"\n",
    "subject_id=\"57\"\n",
    "original_masker = global_masker_50\n",
    "new_masker = global_masker_95\n",
    "original_masker.set_params(detrend=False, standardize=False)\n",
    "new_masker.set_params(detrend=False, standardize=False)"
   ]
  },
  {
   "cell_type": "code",
   "execution_count": 32,
   "metadata": {},
   "outputs": [],
   "source": [
    "path_to_beta_maps = path_to_beta_maps_template.format(subject_name=subject_name, subject_id=subject_id)\n",
    "mask = create_subject_mask(mask_template, subject_name, subject_id, global_masker_95, threshold=75)"
   ]
  },
  {
   "cell_type": "code",
   "execution_count": 33,
   "metadata": {},
   "outputs": [],
   "source": [
    "view = 'left' #left\n",
    "kwargs = {\n",
    "    'surf_mesh': f'pial_{view}', # pial_right, infl_left, infl_right\n",
    "    'surf_mesh_type': f'pial_{view}',\n",
    "    'hemi': view, # right\n",
    "    'view':'lateral', # medial\n",
    "    'bg_map': f'sulc_{view}', # sulc_right\n",
    "    'bg_on_data':True,\n",
    "    'darkness':.8\n",
    "}"
   ]
  },
  {
   "cell_type": "code",
   "execution_count": 34,
   "metadata": {},
   "outputs": [],
   "source": [
    "# Parameters\n",
    "n_components_list = [3, 4, 7, 10] # \n",
    "n_clusters_list = [3, 4, 5, 6, 10]\n",
    "min_samples = 10\n",
    "min_cluster_size = 50 #\n",
    "n_neighbors_list = [3, 4]\n",
    "cluster_selection_epsilon = 0.5\n",
    "min_dist = 0.0\n",
    "#affinity_list_SE = 'nearest_neighbors' #(for spectral_embedding, no difference with 'rbf')\n",
    "affinity_list_AC = [\"cosine\"] #(for agglomerative clustering) other metrics:  \"l1\", \"l2\", \"manhattan\", \n",
    "linkage_list = ['ward', 'complete'] # 'average'"
   ]
  },
  {
   "cell_type": "code",
   "execution_count": 35,
   "metadata": {},
   "outputs": [],
   "source": [
    "all_clustering_method = ['agg-clus', 'max']\n",
    "all_reduction_method = ['umap', 'pca', 'ica', 'isomap']"
   ]
  },
  {
   "cell_type": "code",
   "execution_count": 36,
   "metadata": {},
   "outputs": [],
   "source": [
    "iterator = [('umap', 'hdbscan')] + list(itertools.product(*[all_reduction_method, all_clustering_method]))"
   ]
  },
  {
   "cell_type": "markdown",
   "metadata": {},
   "source": [
    "## Evaluation of all models"
   ]
  },
  {
   "cell_type": "code",
   "execution_count": 206,
   "metadata": {
    "scrolled": true
   },
   "outputs": [],
   "source": [
    "params.update({'data': resample_beta_maps(aggregate_beta_maps(path_to_beta_maps, nb_layers=13, layer_size=768), original_masker, new_masker),\n",
    "              'mask': mask})\n",
    "\n",
    "for reduction_method, clustering_method in iterator:\n",
    "    params.update({'saving_folder': os.path.join(saving_folder, '_'.join([reduction_method, clustering_method]) + '/')})\n",
    "    for n_components in n_components_list:\n",
    "        for n_clusters in n_clusters_list:\n",
    "            for n_neighbors in n_neighbors_list:\n",
    "        #if n_components > n_clusters:\n",
    "                params.update({'reduction':reduction_method,\n",
    "                               'clustering':clustering_method, \n",
    "                               'n_components':n_components,\n",
    "                               'n_clusters':n_clusters,\n",
    "                               'min_samples': min_samples,\n",
    "                               'min_cluster_size': min_cluster_size,\n",
    "                               'cluster_selection_epsilon': cluster_selection_epsilon,\n",
    "                               'min_dist': min_dist,\n",
    "                               'n_neighbors': n_neighbors\n",
    "                              })\n",
    "                print(\"reduction_method: \", reduction_method, '- clustering_method:', clustering_method)\n",
    "                print('min_samples:', min_samples, '- min_cluster_size:', min_cluster_size, '- cluster_selection_epsilon:', cluster_selection_epsilon)\n",
    "                print('n_neighbors:', n_neighbors, '- min_dist:', min_dist, '- n_components:', n_components, '- n_clusters:', n_clusters)\n",
    "                if clustering_method==\"agg-clus\":\n",
    "                    for linkage in linkage_list:\n",
    "                        if linkage!='ward':\n",
    "                            for affinity_cluster in affinity_list_AC:\n",
    "                                params.update({'affinity_cluster': affinity_cluster, 'linkage': linkage})\n",
    "                                plot_name = create_name(subject_name, params)\n",
    "                                params.update({'plot_name': plot_name})\n",
    "                                results = clustering(**params)\n",
    "                                save_results(results, params['saving_folder'], plot_name, global_masker_95, mask, **kwargs)\n",
    "                        else:\n",
    "                            params.update({'affinity_cluster': \"euclidean\", 'linkage': linkage})\n",
    "                            plot_name = create_name(subject_name, params)\n",
    "                            params.update({'plot_name': plot_name})\n",
    "                            results = clustering(**params)\n",
    "                            save_results(results, params['saving_folder'], plot_name, global_masker_95, mask, **kwargs)\n",
    "                else:\n",
    "                    plot_name = create_name(subject_name, params)\n",
    "                    params.update({'plot_name': plot_name})\n",
    "                    results = clustering(**params)\n",
    "                    save_results(results, params['saving_folder'], plot_name, global_masker_95, mask, **kwargs)\n"
   ]
  },
  {
   "cell_type": "markdown",
   "metadata": {},
   "source": [
    "## Loop over subjects"
   ]
  },
  {
   "cell_type": "code",
   "execution_count": 99,
   "metadata": {},
   "outputs": [
    {
     "data": {
      "text/plain": [
       "{'data': array([[ 3.05821954e-06,  1.03257184e-07,  1.17698720e-06, ...,\n",
       "         -1.64752808e-06, -1.05416780e-05,  1.78105042e-07],\n",
       "        [-1.53837464e-06,  5.99221938e-08,  7.57781357e-07, ...,\n",
       "         -1.52695328e-06, -1.70396835e-05,  1.45347150e-06],\n",
       "        [ 1.32903441e-05, -5.51975342e-06, -1.74639329e-06, ...,\n",
       "          3.11801822e-06,  4.17036457e-07,  2.76057167e-06],\n",
       "        ...,\n",
       "        [ 4.42373291e-05,  1.33730607e-05,  3.28934397e-06, ...,\n",
       "          6.40353170e-06,  1.11998565e-05, -1.58832716e-06],\n",
       "        [ 1.60131168e-05,  4.18155786e-06, -5.55135333e-08, ...,\n",
       "          5.61078977e-07,  1.13640585e-06, -7.64459724e-07],\n",
       "        [-1.10253892e-06, -1.60263999e-06, -5.24188306e-07, ...,\n",
       "         -1.68598378e-06,  2.41015997e-06,  2.09688924e-06]]),\n",
       " 'reduction': 'umap',\n",
       " 'clustering': 'hdbscan',\n",
       " 'mask': array([ True,  True,  True, ...,  True, False, False]),\n",
       " 'min_cluster_size': 50,\n",
       " 'min_samples': 10,\n",
       " 'n_neighbors': 4,\n",
       " 'min_dist': 0.0,\n",
       " 'n_components': 7,\n",
       " 'n_clusters': 4,\n",
       " 'random_state': 1111,\n",
       " 'cluster_selection_epsilon': 0.5,\n",
       " 'affinity_reduc': 'nearest_neighbors',\n",
       " 'affinity_cluster': 'euclidean',\n",
       " 'linkage': 'ward',\n",
       " 'saving_folder': '/neurospin/unicog/protocols/IRMf/LePetitPrince_Pallier_2018/LePetitPrince/derivatives/fMRI/clustering/umap_hdbscan/',\n",
       " 'plot_name': 'all-subjects_reduction-umap_clustering-hdbscan_min_cluster_size-50_n_neighbors-4_n_components-7_affinity_cluster-euclidean_linkage-ward_min_samples-10'}"
      ]
     },
     "execution_count": 99,
     "metadata": {},
     "output_type": "execute_result"
    }
   ],
   "source": [
    "params"
   ]
  },
  {
   "cell_type": "code",
   "execution_count": 58,
   "metadata": {},
   "outputs": [],
   "source": [
    "params.update({'reduction': 'umap', \n",
    "               'clustering': 'hdbscan', \n",
    "               'n_clusters': 4, \n",
    "               'linkage': 'ward', \n",
    "               'affinity_cluster': 'euclidean'})"
   ]
  },
  {
   "cell_type": "code",
   "execution_count": 59,
   "metadata": {},
   "outputs": [],
   "source": [
    "view = 'left' #left\n",
    "kwargs = {\n",
    "    'surf_mesh': f'pial_{view}', # pial_right, infl_left, infl_right\n",
    "    'surf_mesh_type': f'pial_{view}',\n",
    "    'hemi': view, # right\n",
    "    'view':'lateral', # medial\n",
    "    'bg_map': f'sulc_{view}', # sulc_right\n",
    "    'bg_on_data':True,\n",
    "    'darkness':.8\n",
    "}"
   ]
  },
  {
   "cell_type": "code",
   "execution_count": 60,
   "metadata": {
    "scrolled": true
   },
   "outputs": [
    {
     "name": "stderr",
     "output_type": "stream",
     "text": [
      "\r",
      "  0%|          | 0/51 [00:00<?, ?it/s]"
     ]
    },
    {
     "name": "stdout",
     "output_type": "stream",
     "text": [
      "Original data has dimension:  (26164, 13)\n"
     ]
    },
    {
     "name": "stderr",
     "output_type": "stream",
     "text": [
      "\r",
      "  2%|▏         | 1/51 [00:20<16:45, 20.10s/it]"
     ]
    },
    {
     "name": "stdout",
     "output_type": "stream",
     "text": [
      "New data has dimension:  (22378, 13)\n",
      "Original data has dimension:  (26164, 13)\n"
     ]
    },
    {
     "name": "stderr",
     "output_type": "stream",
     "text": [
      "\r",
      "  4%|▍         | 2/51 [00:40<16:22, 20.04s/it]"
     ]
    },
    {
     "name": "stdout",
     "output_type": "stream",
     "text": [
      "New data has dimension:  (22378, 13)\n",
      "Original data has dimension:  (26164, 13)\n"
     ]
    },
    {
     "name": "stderr",
     "output_type": "stream",
     "text": [
      "\r",
      "  6%|▌         | 3/51 [01:00<16:03, 20.07s/it]"
     ]
    },
    {
     "name": "stdout",
     "output_type": "stream",
     "text": [
      "New data has dimension:  (22378, 13)\n",
      "Original data has dimension:  (26164, 13)\n"
     ]
    },
    {
     "name": "stderr",
     "output_type": "stream",
     "text": [
      "\r",
      "  8%|▊         | 4/51 [01:20<15:40, 20.01s/it]"
     ]
    },
    {
     "name": "stdout",
     "output_type": "stream",
     "text": [
      "New data has dimension:  (22378, 13)\n",
      "Original data has dimension:  (26164, 13)\n"
     ]
    },
    {
     "name": "stderr",
     "output_type": "stream",
     "text": [
      "\r",
      " 10%|▉         | 5/51 [01:44<16:16, 21.22s/it]"
     ]
    },
    {
     "name": "stdout",
     "output_type": "stream",
     "text": [
      "New data has dimension:  (22378, 13)\n",
      "Original data has dimension:  (26164, 13)\n"
     ]
    },
    {
     "name": "stderr",
     "output_type": "stream",
     "text": [
      "\r",
      " 12%|█▏        | 6/51 [02:04<15:41, 20.93s/it]"
     ]
    },
    {
     "name": "stdout",
     "output_type": "stream",
     "text": [
      "New data has dimension:  (22378, 13)\n",
      "Original data has dimension:  (26164, 13)\n"
     ]
    },
    {
     "name": "stderr",
     "output_type": "stream",
     "text": [
      "\r",
      " 14%|█▎        | 7/51 [02:24<15:05, 20.58s/it]"
     ]
    },
    {
     "name": "stdout",
     "output_type": "stream",
     "text": [
      "New data has dimension:  (22378, 13)\n",
      "Original data has dimension:  (26164, 13)\n"
     ]
    },
    {
     "name": "stderr",
     "output_type": "stream",
     "text": [
      "\r",
      " 16%|█▌        | 8/51 [02:43<14:32, 20.30s/it]"
     ]
    },
    {
     "name": "stdout",
     "output_type": "stream",
     "text": [
      "New data has dimension:  (22378, 13)\n",
      "Original data has dimension:  (26164, 13)\n"
     ]
    },
    {
     "name": "stderr",
     "output_type": "stream",
     "text": [
      "\r",
      " 18%|█▊        | 9/51 [03:03<14:03, 20.08s/it]"
     ]
    },
    {
     "name": "stdout",
     "output_type": "stream",
     "text": [
      "New data has dimension:  (22378, 13)\n",
      "Original data has dimension:  (26164, 13)\n"
     ]
    },
    {
     "name": "stderr",
     "output_type": "stream",
     "text": [
      "\r",
      " 20%|█▉        | 10/51 [03:22<13:36, 19.93s/it]"
     ]
    },
    {
     "name": "stdout",
     "output_type": "stream",
     "text": [
      "New data has dimension:  (22378, 13)\n"
     ]
    },
    {
     "name": "stderr",
     "output_type": "stream",
     "text": [
      "\r",
      " 22%|██▏       | 11/51 [03:42<13:14, 19.86s/it]"
     ]
    },
    {
     "name": "stdout",
     "output_type": "stream",
     "text": [
      "Original data has dimension:  (26164, 13)\n",
      "New data has dimension:  (22378, 13)\n",
      "Original data has dimension:  (26164, 13)\n"
     ]
    },
    {
     "name": "stderr",
     "output_type": "stream",
     "text": [
      "\r",
      " 24%|██▎       | 12/51 [04:02<12:50, 19.76s/it]"
     ]
    },
    {
     "name": "stdout",
     "output_type": "stream",
     "text": [
      "New data has dimension:  (22378, 13)\n"
     ]
    },
    {
     "name": "stderr",
     "output_type": "stream",
     "text": [
      "\r",
      " 25%|██▌       | 13/51 [04:21<12:30, 19.76s/it]"
     ]
    },
    {
     "name": "stdout",
     "output_type": "stream",
     "text": [
      "Original data has dimension:  (26164, 13)\n",
      "New data has dimension:  (22378, 13)\n",
      "Original data has dimension:  (26164, 13)\n"
     ]
    },
    {
     "name": "stderr",
     "output_type": "stream",
     "text": [
      "\r",
      " 27%|██▋       | 14/51 [04:41<12:11, 19.76s/it]"
     ]
    },
    {
     "name": "stdout",
     "output_type": "stream",
     "text": [
      "New data has dimension:  (22378, 13)\n",
      "Original data has dimension:  (26164, 13)\n"
     ]
    },
    {
     "name": "stderr",
     "output_type": "stream",
     "text": [
      "\r",
      " 29%|██▉       | 15/51 [05:01<11:48, 19.67s/it]"
     ]
    },
    {
     "name": "stdout",
     "output_type": "stream",
     "text": [
      "New data has dimension:  (22378, 13)\n",
      "Original data has dimension:  (26164, 13)\n"
     ]
    },
    {
     "name": "stderr",
     "output_type": "stream",
     "text": [
      "\r",
      " 31%|███▏      | 16/51 [05:20<11:28, 19.67s/it]"
     ]
    },
    {
     "name": "stdout",
     "output_type": "stream",
     "text": [
      "New data has dimension:  (22378, 13)\n",
      "Original data has dimension:  (26164, 13)\n"
     ]
    },
    {
     "name": "stderr",
     "output_type": "stream",
     "text": [
      "\r",
      " 33%|███▎      | 17/51 [05:40<11:13, 19.80s/it]"
     ]
    },
    {
     "name": "stdout",
     "output_type": "stream",
     "text": [
      "New data has dimension:  (22378, 13)\n",
      "Original data has dimension:  (26164, 13)\n"
     ]
    },
    {
     "name": "stderr",
     "output_type": "stream",
     "text": [
      "\r",
      " 35%|███▌      | 18/51 [06:01<10:59, 19.97s/it]"
     ]
    },
    {
     "name": "stdout",
     "output_type": "stream",
     "text": [
      "New data has dimension:  (22378, 13)\n"
     ]
    },
    {
     "name": "stderr",
     "output_type": "stream",
     "text": [
      "\r",
      " 37%|███▋      | 19/51 [06:21<10:37, 19.94s/it]"
     ]
    },
    {
     "name": "stdout",
     "output_type": "stream",
     "text": [
      "Original data has dimension:  (26164, 13)\n",
      "New data has dimension:  (22378, 13)\n",
      "Original data has dimension:  (26164, 13)\n"
     ]
    },
    {
     "name": "stderr",
     "output_type": "stream",
     "text": [
      "\r",
      " 39%|███▉      | 20/51 [06:41<10:18, 19.95s/it]"
     ]
    },
    {
     "name": "stdout",
     "output_type": "stream",
     "text": [
      "New data has dimension:  (22378, 13)\n",
      "Original data has dimension:  (26164, 13)\n"
     ]
    },
    {
     "name": "stderr",
     "output_type": "stream",
     "text": [
      "\r",
      " 41%|████      | 21/51 [07:01<09:58, 19.96s/it]"
     ]
    },
    {
     "name": "stdout",
     "output_type": "stream",
     "text": [
      "New data has dimension:  (22378, 13)\n",
      "Original data has dimension:  (26164, 13)\n"
     ]
    },
    {
     "name": "stderr",
     "output_type": "stream",
     "text": [
      "\r",
      " 43%|████▎     | 22/51 [07:20<09:37, 19.92s/it]"
     ]
    },
    {
     "name": "stdout",
     "output_type": "stream",
     "text": [
      "New data has dimension:  (22378, 13)\n"
     ]
    },
    {
     "name": "stderr",
     "output_type": "stream",
     "text": [
      "\r",
      " 45%|████▌     | 23/51 [07:40<09:14, 19.80s/it]"
     ]
    },
    {
     "name": "stdout",
     "output_type": "stream",
     "text": [
      "Original data has dimension:  (26164, 13)\n",
      "New data has dimension:  (22378, 13)\n"
     ]
    },
    {
     "name": "stderr",
     "output_type": "stream",
     "text": [
      "\r",
      " 47%|████▋     | 24/51 [07:59<08:51, 19.67s/it]"
     ]
    },
    {
     "name": "stdout",
     "output_type": "stream",
     "text": [
      "Original data has dimension:  (26164, 13)\n",
      "New data has dimension:  (22378, 13)\n"
     ]
    },
    {
     "name": "stderr",
     "output_type": "stream",
     "text": [
      "\r",
      " 49%|████▉     | 25/51 [08:19<08:29, 19.60s/it]"
     ]
    },
    {
     "name": "stdout",
     "output_type": "stream",
     "text": [
      "Original data has dimension:  (26164, 13)\n",
      "New data has dimension:  (22378, 13)\n"
     ]
    },
    {
     "name": "stderr",
     "output_type": "stream",
     "text": [
      "\r",
      " 51%|█████     | 26/51 [08:38<08:09, 19.57s/it]"
     ]
    },
    {
     "name": "stdout",
     "output_type": "stream",
     "text": [
      "Original data has dimension:  (26164, 13)\n",
      "New data has dimension:  (22378, 13)\n"
     ]
    },
    {
     "name": "stderr",
     "output_type": "stream",
     "text": [
      "\r",
      " 53%|█████▎    | 27/51 [08:58<07:48, 19.52s/it]"
     ]
    },
    {
     "name": "stdout",
     "output_type": "stream",
     "text": [
      "Original data has dimension:  (26164, 13)\n",
      "New data has dimension:  (22378, 13)\n"
     ]
    },
    {
     "name": "stderr",
     "output_type": "stream",
     "text": [
      "\r",
      " 55%|█████▍    | 28/51 [09:17<07:29, 19.53s/it]"
     ]
    },
    {
     "name": "stdout",
     "output_type": "stream",
     "text": [
      "Original data has dimension:  (26164, 13)\n",
      "New data has dimension:  (22378, 13)\n"
     ]
    },
    {
     "name": "stderr",
     "output_type": "stream",
     "text": [
      "\r",
      " 57%|█████▋    | 29/51 [09:37<07:09, 19.53s/it]"
     ]
    },
    {
     "name": "stdout",
     "output_type": "stream",
     "text": [
      "Original data has dimension:  (26164, 13)\n",
      "New data has dimension:  (22378, 13)\n"
     ]
    },
    {
     "name": "stderr",
     "output_type": "stream",
     "text": [
      "\r",
      " 59%|█████▉    | 30/51 [09:56<06:50, 19.54s/it]"
     ]
    },
    {
     "name": "stdout",
     "output_type": "stream",
     "text": [
      "Original data has dimension:  (26164, 13)\n",
      "New data has dimension:  (22378, 13)\n"
     ]
    },
    {
     "name": "stderr",
     "output_type": "stream",
     "text": [
      "\r",
      " 61%|██████    | 31/51 [10:16<06:31, 19.56s/it]"
     ]
    },
    {
     "name": "stdout",
     "output_type": "stream",
     "text": [
      "Original data has dimension:  (26164, 13)\n",
      "New data has dimension:  (22378, 13)\n"
     ]
    },
    {
     "name": "stderr",
     "output_type": "stream",
     "text": [
      "\r",
      " 63%|██████▎   | 32/51 [10:36<06:14, 19.72s/it]"
     ]
    },
    {
     "name": "stdout",
     "output_type": "stream",
     "text": [
      "Original data has dimension:  (26164, 13)\n",
      "New data has dimension:  (22378, 13)\n"
     ]
    },
    {
     "name": "stderr",
     "output_type": "stream",
     "text": [
      "\r",
      " 65%|██████▍   | 33/51 [10:56<05:57, 19.86s/it]"
     ]
    },
    {
     "name": "stdout",
     "output_type": "stream",
     "text": [
      "Original data has dimension:  (26164, 13)\n",
      "New data has dimension:  (22378, 13)\n"
     ]
    },
    {
     "name": "stderr",
     "output_type": "stream",
     "text": [
      "\r",
      " 67%|██████▋   | 34/51 [11:16<05:38, 19.90s/it]"
     ]
    },
    {
     "name": "stdout",
     "output_type": "stream",
     "text": [
      "Original data has dimension:  (26164, 13)\n",
      "New data has dimension:  (22378, 13)\n"
     ]
    },
    {
     "name": "stderr",
     "output_type": "stream",
     "text": [
      "\r",
      " 69%|██████▊   | 35/51 [11:36<05:19, 19.98s/it]"
     ]
    },
    {
     "name": "stdout",
     "output_type": "stream",
     "text": [
      "Original data has dimension:  (26164, 13)\n",
      "New data has dimension:  (22378, 13)\n"
     ]
    },
    {
     "name": "stderr",
     "output_type": "stream",
     "text": [
      "\r",
      " 71%|███████   | 36/51 [11:56<05:00, 20.02s/it]"
     ]
    },
    {
     "name": "stdout",
     "output_type": "stream",
     "text": [
      "Original data has dimension:  (26164, 13)\n",
      "New data has dimension:  (22378, 13)\n"
     ]
    },
    {
     "name": "stderr",
     "output_type": "stream",
     "text": [
      "\r",
      " 73%|███████▎  | 37/51 [12:16<04:40, 20.03s/it]"
     ]
    },
    {
     "name": "stdout",
     "output_type": "stream",
     "text": [
      "Original data has dimension:  (26164, 13)\n",
      "New data has dimension:  (22378, 13)\n"
     ]
    },
    {
     "name": "stderr",
     "output_type": "stream",
     "text": [
      "\r",
      " 75%|███████▍  | 38/51 [12:36<04:19, 19.93s/it]"
     ]
    },
    {
     "name": "stdout",
     "output_type": "stream",
     "text": [
      "Original data has dimension:  (26164, 13)\n",
      "New data has dimension:  (22378, 13)\n"
     ]
    },
    {
     "name": "stderr",
     "output_type": "stream",
     "text": [
      "\r",
      " 76%|███████▋  | 39/51 [12:56<03:57, 19.82s/it]"
     ]
    },
    {
     "name": "stdout",
     "output_type": "stream",
     "text": [
      "Original data has dimension:  (26164, 13)\n",
      "New data has dimension:  (22378, 13)\n"
     ]
    },
    {
     "name": "stderr",
     "output_type": "stream",
     "text": [
      "\r",
      " 78%|███████▊  | 40/51 [13:15<03:37, 19.75s/it]"
     ]
    },
    {
     "name": "stdout",
     "output_type": "stream",
     "text": [
      "Original data has dimension:  (26164, 13)\n",
      "New data has dimension:  (22378, 13)\n"
     ]
    },
    {
     "name": "stderr",
     "output_type": "stream",
     "text": [
      "\r",
      " 80%|████████  | 41/51 [13:35<03:17, 19.72s/it]"
     ]
    },
    {
     "name": "stdout",
     "output_type": "stream",
     "text": [
      "Original data has dimension:  (26164, 13)\n",
      "New data has dimension:  (22378, 13)\n"
     ]
    },
    {
     "name": "stderr",
     "output_type": "stream",
     "text": [
      "\r",
      " 82%|████████▏ | 42/51 [13:54<02:57, 19.68s/it]"
     ]
    },
    {
     "name": "stdout",
     "output_type": "stream",
     "text": [
      "Original data has dimension:  (26164, 13)\n",
      "New data has dimension:  (22378, 13)\n"
     ]
    },
    {
     "name": "stderr",
     "output_type": "stream",
     "text": [
      "\r",
      " 84%|████████▍ | 43/51 [14:14<02:37, 19.69s/it]"
     ]
    },
    {
     "name": "stdout",
     "output_type": "stream",
     "text": [
      "Original data has dimension:  (26164, 13)\n",
      "New data has dimension:  (22378, 13)\n"
     ]
    },
    {
     "name": "stderr",
     "output_type": "stream",
     "text": [
      "\r",
      " 86%|████████▋ | 44/51 [14:34<02:17, 19.67s/it]"
     ]
    },
    {
     "name": "stdout",
     "output_type": "stream",
     "text": [
      "Original data has dimension:  (26164, 13)\n",
      "New data has dimension:  (22378, 13)\n",
      "Original data has dimension:  (26164, 13)\n"
     ]
    },
    {
     "name": "stderr",
     "output_type": "stream",
     "text": [
      "\r",
      " 88%|████████▊ | 45/51 [14:53<01:57, 19.64s/it]"
     ]
    },
    {
     "name": "stdout",
     "output_type": "stream",
     "text": [
      "New data has dimension:  (22378, 13)\n"
     ]
    },
    {
     "name": "stderr",
     "output_type": "stream",
     "text": [
      "\r",
      " 90%|█████████ | 46/51 [15:13<01:37, 19.58s/it]"
     ]
    },
    {
     "name": "stdout",
     "output_type": "stream",
     "text": [
      "Original data has dimension:  (26164, 13)\n",
      "New data has dimension:  (22378, 13)\n"
     ]
    },
    {
     "name": "stderr",
     "output_type": "stream",
     "text": [
      "\r",
      " 92%|█████████▏| 47/51 [15:33<01:18, 19.63s/it]"
     ]
    },
    {
     "name": "stdout",
     "output_type": "stream",
     "text": [
      "Original data has dimension:  (26164, 13)\n",
      "New data has dimension:  (22378, 13)\n"
     ]
    },
    {
     "name": "stderr",
     "output_type": "stream",
     "text": [
      "\r",
      " 94%|█████████▍| 48/51 [15:52<00:59, 19.71s/it]"
     ]
    },
    {
     "name": "stdout",
     "output_type": "stream",
     "text": [
      "Original data has dimension:  (26164, 13)\n",
      "New data has dimension:  (22378, 13)\n"
     ]
    },
    {
     "name": "stderr",
     "output_type": "stream",
     "text": [
      "\r",
      " 96%|█████████▌| 49/51 [16:12<00:39, 19.73s/it]"
     ]
    },
    {
     "name": "stdout",
     "output_type": "stream",
     "text": [
      "Original data has dimension:  (26164, 13)\n",
      "New data has dimension:  (22378, 13)\n"
     ]
    },
    {
     "name": "stderr",
     "output_type": "stream",
     "text": [
      "\r",
      " 98%|█████████▊| 50/51 [16:32<00:19, 19.73s/it]"
     ]
    },
    {
     "name": "stdout",
     "output_type": "stream",
     "text": [
      "Original data has dimension:  (26164, 13)\n",
      "New data has dimension:  (22378, 13)\n"
     ]
    },
    {
     "name": "stderr",
     "output_type": "stream",
     "text": [
      "100%|██████████| 51/51 [16:52<00:00, 19.85s/it]"
     ]
    },
    {
     "name": "stdout",
     "output_type": "stream",
     "text": [
      "Original data has dimension:  (26164, 13)\n",
      "New data has dimension:  (22378, 13)\n"
     ]
    },
    {
     "name": "stderr",
     "output_type": "stream",
     "text": [
      "\n"
     ]
    }
   ],
   "source": [
    "original_masker = global_masker_50\n",
    "new_masker = global_masker_95\n",
    "original_masker.set_params(detrend=False, standardize=False)\n",
    "new_masker.set_params(detrend=False, standardize=False)\n",
    "\n",
    "all_data = []\n",
    "all_masks = []\n",
    "all_original_length = []\n",
    "\n",
    "for subject_name in tqdm(subjects):\n",
    "    subject_id = int(subject_name.split('-')[-1])\n",
    "    path_to_beta_maps = path_to_beta_maps_template.format(subject_name=subject_name, subject_id=subject_id)\n",
    "    mask = create_subject_mask(mask_template, subject_name, subject_id, global_masker_95, threshold=75)\n",
    "    \n",
    "    data = np.load(path_to_beta_maps)\n",
    "    all_masks.append(mask)\n",
    "    all_data.append(resample_beta_maps(aggregate_beta_maps(np.vstack(data) if mask is not None else data.copy(), nb_layers=13, layer_size=768), original_masker, new_masker)[mask, :])\n",
    "    all_original_length.append(data.shape[0] if mask is not None else data.copy().shape[0])"
   ]
  },
  {
   "cell_type": "code",
   "execution_count": 96,
   "metadata": {},
   "outputs": [],
   "source": [
    "folder = os.path.join(PROJECT_PATH, 'test')\n",
    "np.save(os.path.join(folder, 'all_masks.npy'), np.array(all_masks))\n",
    "np.save(os.path.join(folder, 'all_data.npy'), np.array(all_data))\n",
    "np.save(os.path.join(folder, 'all_original_length.npy'), np.array(all_original_length))"
   ]
  },
  {
   "cell_type": "code",
   "execution_count": 108,
   "metadata": {},
   "outputs": [],
   "source": [
    "params.update({'reduction':'umap',\n",
    "               'clustering':'hdbscan', \n",
    "               'n_components':3,\n",
    "               'n_clusters':8,\n",
    "               'min_samples': 10,\n",
    "               'min_cluster_size': 30,\n",
    "               'cluster_selection_epsilon': 0.5,\n",
    "               'min_dist': 0.0,\n",
    "               'n_neighbors': 3\n",
    "                              })"
   ]
  },
  {
   "cell_type": "code",
   "execution_count": 109,
   "metadata": {},
   "outputs": [
    {
     "name": "stdout",
     "output_type": "stream",
     "text": [
      "Plot name: all-subjects_reduction-umap_clustering-hdbscan_min_cluster_size-30_n_neighbors-3_n_components-3_affinity_cluster-euclidean_linkage-ward_min_samples-10\n"
     ]
    }
   ],
   "source": [
    "params.update({'data': np.vstack(all_data),\n",
    "               'mask': np.hstack(all_masks)\n",
    "              })\n",
    "\n",
    "params.update({'saving_folder': os.path.join(saving_folder, '_'.join([params['reduction'], params['clustering']]) + '/')})\n",
    "plot_name = create_name('all-subjects', params)\n",
    "params.update({'plot_name': plot_name})\n",
    "print('Plot name:' , plot_name)"
   ]
  },
  {
   "cell_type": "code",
   "execution_count": 110,
   "metadata": {},
   "outputs": [
    {
     "data": {
      "image/png": "[encoded data removed]",
      "text/plain": [
       "<Figure size 432x288 with 1 Axes>"
      ]
     },
     "metadata": {
      "needs_background": "light"
     },
     "output_type": "display_data"
    }
   ],
   "source": [
    "results = clustering(**params)"
   ]
  },
  {
   "cell_type": "code",
   "execution_count": 111,
   "metadata": {},
   "outputs": [
    {
     "name": "stdout",
     "output_type": "stream",
     "text": [
      "Input shape:  (1141278,)\n",
      "Number of clusters:  27\n",
      "Number of voxels: 22378\n"
     ]
    },
    {
     "data": {
      "image/png": "[encoded data removed]",
      "text/plain": [
       "<Figure size 432x288 with 2 Axes>"
      ]
     },
     "metadata": {
      "needs_background": "light"
     },
     "output_type": "display_data"
    }
   ],
   "source": [
    "save_results(results, all_original_length, None, plot_name, global_masker_95, mask, **kwargs) #params['saving_folder']"
   ]
  },
  {
   "cell_type": "code",
   "execution_count": null,
   "metadata": {
    "scrolled": false
   },
   "outputs": [
    {
     "name": "stdout",
     "output_type": "stream",
     "text": [
      "Plot name: all-subjects_reduction-umap_clustering-hdbscan_min_cluster_size-50_n_neighbors-2_n_components-2_affinity_cluster-euclidean_linkage-ward_min_samples-10_metric-cosine\n"
     ]
    }
   ],
   "source": [
    "for n_components in [2, 3]:\n",
    "    for n_neighbors in [2, 3, 100]:\n",
    "        metric = 'cosine'\n",
    "        params.update({'reduction':'umap',\n",
    "                       'clustering':'hdbscan', \n",
    "                       'n_components':n_components,\n",
    "                       'n_clusters':8,\n",
    "                       'min_samples': 10,\n",
    "                       'min_cluster_size': 50,\n",
    "                       'cluster_selection_epsilon': 0.5,\n",
    "                       'min_dist': 0.0,\n",
    "                       'n_neighbors': n_neighbors,\n",
    "                       'metric': metric\n",
    "                                      })\n",
    "\n",
    "        params.update({'saving_folder': os.path.join(saving_folder, '_'.join([params['reduction'], params['clustering']]) + '/')})\n",
    "        plot_name = create_name('all-subjects', params)\n",
    "        params.update({'plot_name': plot_name})\n",
    "        print('Plot name:' , plot_name)\n",
    "        results = clustering(**params)\n",
    "        save_results(results, all_original_length, None, plot_name, global_masker_95, mask, **kwargs) #params['saving_folder']"
   ]
  },
  {
   "cell_type": "markdown",
   "metadata": {},
   "source": [
    "## Average atlas"
   ]
  },
  {
   "cell_type": "code",
   "execution_count": 53,
   "metadata": {},
   "outputs": [
    {
     "name": "stderr",
     "output_type": "stream",
     "text": [
      " 63%|██████▎   | 32/51 [08:49<05:14, 16.55s/it]\n"
     ]
    },
    {
     "ename": "MemoryError",
     "evalue": "Unable to allocate 3.73 GiB for an array with shape (22378, 22378) and data type int64",
     "output_type": "error",
     "traceback": [
      "\u001b[0;31m---------------------------------------------------------------------------\u001b[0m",
      "\u001b[0;31mMemoryError\u001b[0m                               Traceback (most recent call last)",
      "\u001b[0;32m<ipython-input-53-dfecc8df90d0>\u001b[0m in \u001b[0;36m<module>\u001b[0;34m\u001b[0m\n\u001b[1;32m     10\u001b[0m     \u001b[0mpaths\u001b[0m \u001b[0;34m=\u001b[0m \u001b[0mget_labels\u001b[0m\u001b[0;34m(\u001b[0m\u001b[0msubject_name\u001b[0m\u001b[0;34m,\u001b[0m \u001b[0mparams\u001b[0m\u001b[0;34m[\u001b[0m\u001b[0;34m'reduction'\u001b[0m\u001b[0;34m]\u001b[0m\u001b[0;34m,\u001b[0m \u001b[0mparams\u001b[0m\u001b[0;34m[\u001b[0m\u001b[0;34m'clustering'\u001b[0m\u001b[0;34m]\u001b[0m\u001b[0;34m,\u001b[0m \u001b[0msaving_folder\u001b[0m\u001b[0;34m,\u001b[0m \u001b[0mparams\u001b[0m\u001b[0;34m)\u001b[0m\u001b[0;34m\u001b[0m\u001b[0;34m\u001b[0m\u001b[0m\n\u001b[1;32m     11\u001b[0m     \u001b[0;32mfor\u001b[0m \u001b[0mpath\u001b[0m \u001b[0;32min\u001b[0m \u001b[0mpaths\u001b[0m\u001b[0;34m:\u001b[0m\u001b[0;34m\u001b[0m\u001b[0;34m\u001b[0m\u001b[0m\n\u001b[0;32m---> 12\u001b[0;31m         \u001b[0mprob_matrices\u001b[0m\u001b[0;34m.\u001b[0m\u001b[0mappend\u001b[0m\u001b[0;34m(\u001b[0m\u001b[0mget_connectivity_matrix\u001b[0m\u001b[0;34m(\u001b[0m\u001b[0mpath\u001b[0m\u001b[0;34m)\u001b[0m\u001b[0;34m)\u001b[0m\u001b[0;34m\u001b[0m\u001b[0;34m\u001b[0m\u001b[0m\n\u001b[0m",
      "\u001b[0;32m<ipython-input-51-479aea97d32a>\u001b[0m in \u001b[0;36mget_connectivity_matrix\u001b[0;34m(labels)\u001b[0m\n\u001b[1;32m      2\u001b[0m     \u001b[0;32mif\u001b[0m \u001b[0misinstance\u001b[0m\u001b[0;34m(\u001b[0m\u001b[0mlabels\u001b[0m\u001b[0;34m,\u001b[0m \u001b[0mstr\u001b[0m\u001b[0;34m)\u001b[0m\u001b[0;34m:\u001b[0m\u001b[0;34m\u001b[0m\u001b[0;34m\u001b[0m\u001b[0m\n\u001b[1;32m      3\u001b[0m         \u001b[0mlabels\u001b[0m \u001b[0;34m=\u001b[0m \u001b[0mnp\u001b[0m\u001b[0;34m.\u001b[0m\u001b[0mload\u001b[0m\u001b[0;34m(\u001b[0m\u001b[0mlabels\u001b[0m\u001b[0;34m)\u001b[0m\u001b[0;34m\u001b[0m\u001b[0;34m\u001b[0m\u001b[0m\n\u001b[0;32m----> 4\u001b[0;31m     \u001b[0mresult\u001b[0m \u001b[0;34m=\u001b[0m \u001b[0mnp\u001b[0m\u001b[0;34m.\u001b[0m\u001b[0mequal\u001b[0m\u001b[0;34m.\u001b[0m\u001b[0mouter\u001b[0m\u001b[0;34m(\u001b[0m\u001b[0mlabels\u001b[0m\u001b[0;34m,\u001b[0m\u001b[0mlabels\u001b[0m\u001b[0;34m)\u001b[0m\u001b[0;34m.\u001b[0m\u001b[0mastype\u001b[0m\u001b[0;34m(\u001b[0m\u001b[0mint\u001b[0m\u001b[0;34m)\u001b[0m\u001b[0;34m\u001b[0m\u001b[0;34m\u001b[0m\u001b[0m\n\u001b[0m\u001b[1;32m      5\u001b[0m     \u001b[0;32mreturn\u001b[0m \u001b[0mresult\u001b[0m\u001b[0;34m\u001b[0m\u001b[0;34m\u001b[0m\u001b[0m\n",
      "\u001b[0;31mMemoryError\u001b[0m: Unable to allocate 3.73 GiB for an array with shape (22378, 22378) and data type int64"
     ]
    }
   ],
   "source": [
    "params.update({'reduction': 'umap', \n",
    "               'clustering': 'hdbscan', \n",
    "               'n_clusters': '*', \n",
    "               'linkage': '*', \n",
    "               'affinity_cluster': '*'})\n",
    "prob_matrices = []\n",
    "\n",
    "for subject_name in tqdm(subjects):\n",
    "    subject_id = int(subject_name.split('-')[-1])\n",
    "    paths = get_labels(subject_name, params['reduction'], params['clustering'], saving_folder, params)\n",
    "    for path in paths:\n",
    "        prob_matrices.append(get_connectivity_matrix(path))"
   ]
  },
  {
   "cell_type": "code",
   "execution_count": null,
   "metadata": {},
   "outputs": [],
   "source": [
    "prob_matrices[0].shape"
   ]
  },
  {
   "cell_type": "code",
   "execution_count": 121,
   "metadata": {},
   "outputs": [],
   "source": [
    "matrix_ = np.stack(prob_matrices, axis=0)\n",
    "matrix = np.mean(matrix_, axis=0)"
   ]
  },
  {
   "cell_type": "code",
   "execution_count": 118,
   "metadata": {},
   "outputs": [],
   "source": [
    "rois = np.argmax(matrix, axis=0)"
   ]
  },
  {
   "cell_type": "code",
   "execution_count": 119,
   "metadata": {},
   "outputs": [],
   "source": [
    "final_matrix = np.zeros((len(np.unique(rois)), len(rois)))\n",
    "for index, i in enumerate(rois):\n",
    "    final_matrix[i, index] = 1"
   ]
  },
  {
   "cell_type": "code",
   "execution_count": 101,
   "metadata": {},
   "outputs": [
    {
     "name": "stderr",
     "output_type": "stream",
     "text": [
      "/home/ap259944/anaconda3/envs/parietal/lib/python3.7/site-packages/nilearn/plotting/displays.py:780: UserWarning: empty mask\n",
      "  get_mask_bounds(new_img_like(img, not_mask, affine))\n",
      "/home/ap259944/anaconda3/envs/parietal/lib/python3.7/site-packages/numpy/ma/core.py:2795: UserWarning: Warning: converting a masked element to nan.\n",
      "  order=order, subok=True, ndmin=ndmin)\n"
     ]
    }
   ],
   "source": [
    "plotting.plot_prob_atlas(\n",
    "    global_masker_95.inverse_transform(final_matrix), \n",
    "    display_mode='ortho', \n",
    "    colorbar=False,\n",
    "    cut_coords=(-58,-1, 20))\n",
    "plotting.show()"
   ]
  },
  {
   "cell_type": "code",
   "execution_count": 105,
   "metadata": {},
   "outputs": [
    {
     "data": {
      "image/png": "[encoded data removed]",
      "text/plain": [
       "<Figure size 432x288 with 2 Axes>"
      ]
     },
     "metadata": {
      "needs_background": "light"
     },
     "output_type": "display_data"
    }
   ],
   "source": [
    "img = global_masker_95.inverse_transform(rois)\n",
    "plot_roi_img_surf(img, 'None', 'plot_name', mask=global_masker_95.inverse_transform(mask), labels=np.unique(rois), inflated=False, compute_surf=True, colorbar=True, **kwargs)\n"
   ]
  },
  {
   "cell_type": "code",
   "execution_count": 128,
   "metadata": {},
   "outputs": [],
   "source": [
    "from IPython.display import Image\n",
    "for subject_name in subjects:\n",
    "    images = get_images(subject_name, params['reduction'], params['clustering'], saving_folder, params)\n",
    "    for image in images:\n",
    "        Image(filename=image) \n",
    "\n"
   ]
  },
  {
   "cell_type": "markdown",
   "metadata": {},
   "source": [
    "## Analysis per ROI"
   ]
  },
  {
   "cell_type": "code",
   "execution_count": null,
   "metadata": {},
   "outputs": [],
   "source": [
    "if global_mask and atlas_maps:\n",
    "    global_masker = load_masker(global_mask)\n",
    "    imgs = global_masker.inverse_transform([data[i, :] for i in range(data.shape[0])])\n",
    "    data = np.zeros((data.shape[0], len(labels)-1))\n",
    "    for index_mask in tqdm(range(len(labels)-1)):\n",
    "        masker = get_roi_mask(atlas_maps, index_mask, labels, global_mask=global_mask)\n",
    "        data[:, index_mask] = np.mean(masker.transform(imgs), axis=1)"
   ]
  },
  {
   "cell_type": "code",
   "execution_count": null,
   "metadata": {},
   "outputs": [],
   "source": []
  },
  {
   "cell_type": "markdown",
   "metadata": {},
   "source": [
    "## Visualization"
   ]
  },
  {
   "cell_type": "code",
   "execution_count": null,
   "metadata": {},
   "outputs": [],
   "source": [
    "%matplotlib notebook\n",
    "from ipywidgets import *\n",
    "import matplotlib.pyplot as plt\n",
    "from mpl_toolkits.mplot3d import Axes3D\n",
    "import matplotlib.cm as cmx\n",
    "import matplotlib\n",
    "\n",
    "\n",
    "plot_reduc(\n",
    "            aggregate_beta_maps(path_to_beta_maps, nb_layers=13, layer_size=768), \n",
    "            )"
   ]
  }
 ],
 "metadata": {
  "kernelspec": {
   "display_name": "Python 3",
   "language": "python",
   "name": "python3"
  },
  "language_info": {
   "codemirror_mode": {
    "name": "ipython",
    "version": 3
   },
   "file_extension": ".py",
   "mimetype": "text/x-python",
   "name": "python",
   "nbconvert_exporter": "python",
   "pygments_lexer": "ipython3",
   "version": "3.7.7"
  }
 },
 "nbformat": 4,
 "nbformat_minor": 4
}
