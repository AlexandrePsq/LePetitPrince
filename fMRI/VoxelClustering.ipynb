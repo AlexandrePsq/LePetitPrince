{
 "cells": [
  {
   "cell_type": "markdown",
   "metadata": {},
   "source": [
    "# Notebook for brain voxels clustering"
   ]
  },
  {
   "cell_type": "markdown",
   "metadata": {},
   "source": [
    "In this notebook we try to investigate networks of voxels in the brain when processing natural language and their potential meaning.\n",
    "To do so, two approaches were considered:\n",
    "    - fonctional clustering\n",
    "    - semantic clustering"
   ]
  },
  {
   "cell_type": "code",
   "execution_count": 18,
   "metadata": {},
   "outputs": [],
   "source": [
    "import warnings\n",
    "warnings.simplefilter(action='ignore')\n",
    "\n",
    "import os\n",
    "import gc\n",
    "import glob\n",
    "import itertools\n",
    "from tqdm import tqdm\n",
    "from itertools import combinations\n",
    "from joblib import Parallel, delayed\n",
    "\n",
    "import umap\n",
    "import scipy\n",
    "import hdbscan\n",
    "import nistats\n",
    "import numpy as np\n",
    "import pandas as pd\n",
    "from sklearn import manifold\n",
    "from sklearn.decomposition import PCA, FastICA\n",
    "from sklearn.neighbors import kneighbors_graph\n",
    "from sklearn.preprocessing import StandardScaler\n",
    "from sklearn.manifold import LocallyLinearEmbedding\n",
    "from sklearn.cluster import AgglomerativeClustering, KMeans\n",
    "\n",
    "%matplotlib inline\n",
    "import matplotlib\n",
    "import seaborn as sns\n",
    "import matplotlib.cm as cmx\n",
    "import matplotlib.pyplot as plt\n",
    "from mpl_toolkits.mplot3d import Axes3D\n",
    "\n",
    "import nibabel as nib\n",
    "import nilearn\n",
    "from nilearn.image import load_img, mean_img, index_img, threshold_img, math_img, smooth_img, new_img_like\n",
    "from nilearn.input_data import NiftiMapsMasker, NiftiMasker, NiftiLabelsMasker, MultiNiftiMasker\n",
    "from nistats.second_level_model import SecondLevelModel\n",
    "from nistats.thresholding import map_threshold\n",
    "from nilearn import plotting\n",
    "from nilearn import datasets\n",
    "from scipy.stats import norm\n",
    "from nilearn.surface import vol_to_surf\n",
    "\n",
    "import utils \n",
    "import reporting\n",
    "from logger import Logger\n",
    "from linguistics_info import load_surnames, load_syntactic_roi, load_language_roi"
   ]
  },
  {
   "cell_type": "markdown",
   "metadata": {},
   "source": [
    "### Paths"
   ]
  },
  {
   "cell_type": "code",
   "execution_count": 3,
   "metadata": {},
   "outputs": [],
   "source": [
    "language = 'english'\n",
    "model_name = 'bert-base-cased_pre-7_1_post-0_norm-None'"
   ]
  },
  {
   "cell_type": "code",
   "execution_count": 4,
   "metadata": {},
   "outputs": [],
   "source": [
    "PROJECT_PATH = f\"/neurospin/unicog/protocols/IRMf/LePetitPrince_Pallier_2018/LePetitPrince/\"\n",
    "OUTPUT_PATH = f\"/neurospin/unicog/protocols/IRMf/LePetitPrince_Pallier_2018/LePetitPrince/derivatives/fMRI/maps/{language}\"\n",
    "INPUT_PATH = f\"/neurospin/unicog/protocols/IRMf/LePetitPrince_Pallier_2018/LePetitPrince/data/stimuli-representations/{language}\"\n",
    "FMRIDATA_PATH = f\"/neurospin/unicog/protocols/IRMf/LePetitPrince_Pallier_2018/LePetitPrince/data/fMRI/{language}\"\n",
    "MASKER_PATH = f\"/neurospin/unicog/protocols/IRMf/LePetitPrince_Pallier_2018/LePetitPrince/derivatives/fMRI/ROI_masks/global_masker_95%_{language}\"\n",
    "ALL_MASKS_PATH = f\"/neurospin/unicog/protocols/IRMf/LePetitPrince_Pallier_2018/LePetitPrince/derivatives/fMRI/ROI_masks/\"\n",
    "SAVING_FOLDER = f\"/neurospin/unicog/protocols/IRMf/LePetitPrince_Pallier_2018/LePetitPrince/derivatives/fMRI/clustering/{language}\"\n",
    "TMP_FOLDER = f\"/home/ap259944/tmp\""
   ]
  },
  {
   "cell_type": "markdown",
   "metadata": {},
   "source": [
    "### Maskers"
   ]
  },
  {
   "cell_type": "code",
   "execution_count": 5,
   "metadata": {},
   "outputs": [
    {
     "data": {
      "text/plain": [
       "NiftiMasker(detrend=False, dtype=None, high_pass=None, low_pass=None,\n",
       "            mask_args=None,\n",
       "            mask_img=<nibabel.nifti1.Nifti1Image object at 0x7f089c3adfd0>,\n",
       "            mask_strategy='background', memory=Memory(location=None),\n",
       "            memory_level=0, reports=True, sample_mask=None, sessions=None,\n",
       "            smoothing_fwhm=None, standardize=False, t_r=None,\n",
       "            target_affine=None, target_shape=None, verbose=0)"
      ]
     },
     "execution_count": 5,
     "metadata": {},
     "output_type": "execute_result"
    }
   ],
   "source": [
    "logger = Logger(os.path.join(PROJECT_PATH, 'logs.txt'))\n",
    "\n",
    "global_masker_50 = reporting.fetch_masker(f\"{ALL_MASKS_PATH}/global_masker_{language}\"\n",
    ", language, FMRIDATA_PATH, INPUT_PATH, smoothing_fwhm=None, logger=logger)\n",
    "global_masker_95 = reporting.fetch_masker(f\"{ALL_MASKS_PATH}/global_masker_95%_{language}\"\n",
    ", language, FMRIDATA_PATH, INPUT_PATH, smoothing_fwhm=None, logger=logger)\n",
    "\n",
    "\n",
    "original_masker = global_masker_50\n",
    "new_masker = global_masker_95\n",
    "original_masker.set_params(detrend=False, standardize=False)\n",
    "new_masker.set_params(detrend=False, standardize=False)\n"
   ]
  },
  {
   "cell_type": "markdown",
   "metadata": {},
   "source": [
    "### Atlas"
   ]
  },
  {
   "cell_type": "code",
   "execution_count": 6,
   "metadata": {},
   "outputs": [],
   "source": [
    "atlas_maps, labels = reporting.load_atlas() # load harvard-oxford atlas named'cort-prob-2mm'"
   ]
  },
  {
   "cell_type": "markdown",
   "metadata": {},
   "source": [
    "### Additional parameters"
   ]
  },
  {
   "cell_type": "code",
   "execution_count": 7,
   "metadata": {},
   "outputs": [],
   "source": [
    "params = {\n",
    "        'reduction':'umap', \n",
    "        'clustering':'hdbscan', \n",
    "        'min_cluster_size':50, \n",
    "        'min_samples':10, \n",
    "        'n_neighbors':4, \n",
    "        'min_dist':0.0, \n",
    "        'n_components':7, \n",
    "        'n_clusters':13, \n",
    "        'random_state':1111, \n",
    "        'cluster_selection_epsilon':0.5, \n",
    "        'affinity_reduc' : 'nearest_neighbors',\n",
    "        'affinity_cluster':'cosine', \n",
    "        'linkage':'average',\n",
    "        'saving_folder': None,\n",
    "        'plot_name': None\n",
    "}"
   ]
  },
  {
   "cell_type": "code",
   "execution_count": 8,
   "metadata": {},
   "outputs": [],
   "source": [
    "view = 'left' #left\n",
    "kwargs = {\n",
    "    'surf_mesh': f'pial_{view}', # pial_right, infl_left, infl_right\n",
    "    'surf_mesh_type': f'pial_{view}',\n",
    "    'hemi': view, # right\n",
    "    'view':'lateral', # medial\n",
    "    'bg_map': f'sulc_{view}', # sulc_right\n",
    "    'bg_on_data':True,\n",
    "    'darkness':.8,\n",
    "    'axes':None, \n",
    "    'figure':None\n",
    "}"
   ]
  },
  {
   "cell_type": "markdown",
   "metadata": {},
   "source": [
    "### Subjects"
   ]
  },
  {
   "cell_type": "code",
   "execution_count": 10,
   "metadata": {},
   "outputs": [],
   "source": [
    "subject_names_list = [utils.get_subject_name(sub_id) for sub_id in utils.possible_subjects_id(language)]\n",
    "subject_ids_list = utils.possible_subjects_id(language)\n",
    "\n",
    "# UMAP behave strangly when directly apply to the fMRI data of the following subjects, I don't know why. \n",
    "# But we still includ them in the study.\n",
    "\n",
    "black_list_index = [10, 14, 16, 26, 31, 43]\n",
    "clean_mask = np.ones(len(subject_names_list))\n",
    "clean_mask[black_list_index] = 0\n",
    "clean_mask = clean_mask.astype(bool)\n",
    "clean_subjects = np.array(subject_names_list)[clean_mask]"
   ]
  },
  {
   "cell_type": "code",
   "execution_count": 11,
   "metadata": {},
   "outputs": [],
   "source": [
    "path_to_beta_maps = \"/neurospin/unicog/protocols/IRMf/LePetitPrince_Pallier_2018/LePetitPrince/derivatives/fMRI/maps/english/{subject_name}/bert-base-cased_pre-7_1_post-0_norm-None_norm-inf_temporal-shifting-0_{subject_id}_hidden-all-layers/{subject_name}_bert-base-cased_pre-7_1_post-0_norm-None_norm-inf_temporal-shifting-0_{subject_id}_hidden-all-layers_coef_.npy\"\n",
    "mask = \"/neurospin/unicog/protocols/IRMf/LePetitPrince_Pallier_2018/LePetitPrince/derivatives/fMRI/maps/english/{subject_name}/bert-base-cased_pre-7_1_post-0_norm-None_norm-inf_temporal-shifting-0_{subject_id}_hidden-all-layers/{subject_name}_bert-base-cased_pre-7_1_post-0_norm-None_norm-inf_temporal-shifting-0_{subject_id}_hidden-all-layers_Pearson_coeff.nii.gz\""
   ]
  },
  {
   "cell_type": "markdown",
   "metadata": {},
   "source": [
    "### Words data"
   ]
  },
  {
   "cell_type": "markdown",
   "metadata": {},
   "source": [
    "In the following cell you can specify the words that you don't want to keep in the clustering analysis."
   ]
  },
  {
   "cell_type": "code",
   "execution_count": 12,
   "metadata": {},
   "outputs": [],
   "source": [
    "filtered_words = [\n",
    "    'a', \n",
    "    's',\n",
    "    'the', \n",
    "    'he', \n",
    "    'she', \n",
    "    'I', \n",
    "    'i', \n",
    "    'my', \n",
    "    'me', \n",
    "    '\"', \n",
    "    ',', \n",
    "    '.', \n",
    "    '!', \n",
    "    'that', \n",
    "    'they',\n",
    "    'this', \n",
    "    'them', \n",
    "    'and', \n",
    "    'you',\n",
    "    'it',\n",
    "    '“', \n",
    "    '”',\n",
    "    '‘', \n",
    "    '’'\n",
    "]"
   ]
  },
  {
   "cell_type": "code",
   "execution_count": 13,
   "metadata": {},
   "outputs": [],
   "source": [
    "# Fetching words\n",
    "onsets = [pd.read_csv(os.path.join(PROJECT_PATH, 'data', 'onsets-offsets', language, 'word+punctuation_run{index}.csv'.format(index=index))) for index in range(1, 10)]\n",
    "onsets = [item['word'].values for item in onsets]\n",
    "onsets = np.hstack(onsets)\n"
   ]
  },
  {
   "cell_type": "code",
   "execution_count": 14,
   "metadata": {},
   "outputs": [],
   "source": [
    "# Fetching model activations\n",
    "all_data = [pd.read_csv(os.path.join(INPUT_PATH, model_name, 'activations_run{index}.csv'.format(index=index))) for index in range(1, 10)]\n",
    "\n",
    "data_array = [data_tmp.values[:, :768*13] for data_tmp in all_data] # only keep hidden states\n",
    "\n",
    "# see LayerWiseAnalysis\n",
    "aggregation_type = 'attention_head' # 'pca', 'layer'\n",
    "data_agg = reporting.aggregate_beta_maps(\n",
    "    np.vstack(data_array),\n",
    "    nb_layers=13, \n",
    "    layer_size=768, \n",
    "    aggregation_type=aggregation_type\n",
    ")"
   ]
  },
  {
   "cell_type": "code",
   "execution_count": 15,
   "metadata": {},
   "outputs": [],
   "source": [
    "# Filtering words\n",
    "indexes = Parallel(n_jobs=-1)(delayed(reporting.extract_indexes)(onsets, item) for item in filtered_words) #returns a list of list of indexes\n",
    "mask = np.ones(onsets.shape)\n",
    "mask[np.hstack([item[0] for item in indexes])] = 0 #flatten 'indexes' object and put 0 at specified indexes values in the mask\n",
    "mask = mask.astype(bool)"
   ]
  },
  {
   "cell_type": "code",
   "execution_count": 16,
   "metadata": {},
   "outputs": [],
   "source": [
    "# Applying word mask\n",
    "data_words_filtered = data_agg[mask, :] # dimension: #words * #features\n",
    "onsets_filtered = onsets[mask]"
   ]
  },
  {
   "cell_type": "code",
   "execution_count": 19,
   "metadata": {},
   "outputs": [],
   "source": [
    "standardize_words_activations = True\n",
    "\n",
    "# standardize words activations if necessary\n",
    "if standardize_words_activations:\n",
    "    scaler = StandardScaler(with_mean=True, with_std=True)\n",
    "    data_words_filtered = scaler.fit_transform(data_words_filtered.T).T"
   ]
  },
  {
   "cell_type": "markdown",
   "metadata": {},
   "source": [
    "## Data preparation"
   ]
  },
  {
   "cell_type": "code",
   "execution_count": null,
   "metadata": {},
   "outputs": [],
   "source": [
    "all_data = []\n",
    "all_masks = []\n",
    "aggregation_type = 'attention_head' # 'pca', 'layer'\n",
    "\n",
    "for subject_name in tqdm(subjects):\n",
    "    subject_id = int(subject_name.split('-')[-1])\n",
    "    path_to_beta_maps = path_to_beta_maps_template.format(model_name=model_name, subject_name=subject_name, subject_id=subject_id)\n",
    "    mask = create_subject_mask(mask_template, subject_name, subject_id, model_name, global_masker_95, threshold=90)\n",
    "    \n",
    "    data = np.load(path_to_beta_maps)\n",
    "    all_masks.append(mask)\n",
    "    all_data.append(\n",
    "        resample_beta_maps(\n",
    "            aggregate_beta_maps(\n",
    "                np.vstack(data) if mask is not None else data.copy(), \n",
    "                nb_layers=13, \n",
    "                layer_size=768, \n",
    "                aggregation_type=aggregation_type), \n",
    "            original_masker, \n",
    "            new_masker)[mask, :])\n",
    "    #all_original_length.append(data.shape[0] if mask is not None else data.copy().shape[0])"
   ]
  },
  {
   "cell_type": "code",
   "execution_count": null,
   "metadata": {},
   "outputs": [],
   "source": [
    "folder = os.path.join(PROJECT_PATH, 'test/filter_90', model_name)\n",
    "check_folder(folder)\n",
    "#np.save(os.path.join(folder, 'all_masks_attention_head.npy'), np.array(all_masks))\n",
    "#np.save(os.path.join(folder, 'all_data_attention_head.npy'), np.array(all_data))"
   ]
  },
  {
   "cell_type": "code",
   "execution_count": null,
   "metadata": {},
   "outputs": [],
   "source": [
    "average_mask = math_img('img>0.4', img=mean_img(new_masker.inverse_transform(all_masks))) # take the average mask and threshold at 0.5\n"
   ]
  },
  {
   "cell_type": "code",
   "execution_count": null,
   "metadata": {},
   "outputs": [],
   "source": [
    "plotting.plot_glass_brain(average_mask, colorbar=False, display_mode = 'lzry')\n",
    "plotting.show()"
   ]
  },
  {
   "cell_type": "code",
   "execution_count": null,
   "metadata": {},
   "outputs": [],
   "source": [
    "voxels_data = np.vstack(all_data)"
   ]
  },
  {
   "cell_type": "code",
   "execution_count": null,
   "metadata": {},
   "outputs": [],
   "source": [
    "standardize_beta_maps = False\n",
    "\n",
    "# standardize beta maps if necessary\n",
    "if standardize_beta_maps:\n",
    "    scaler = StandardScaler(with_mean=True, with_std=True)\n",
    "    voxels_data = scaler.fit_transform(voxels_data.T).T"
   ]
  },
  {
   "cell_type": "markdown",
   "metadata": {},
   "source": [
    "## Fonctional clustering\n",
    "\n",
    "We cluster voxels based on their dependencies towards model features.\n",
    "Voxels with similar dpeendency patterns are likely to deal with similar information.\n",
    "To do so, we regroup in one big matrix all subjects voxels as to learn shared clustering patterns."
   ]
  },
  {
   "cell_type": "code",
   "execution_count": null,
   "metadata": {},
   "outputs": [],
   "source": [
    "nb_voxels=data.shape[0]/len(subject_names_list)\n",
    "\n",
    "plot_functional_clustering(\n",
    "    data=voxels_data, \n",
    "    mask=np.hstack(all_masks),\n",
    "    masker=new_masker,\n",
    "    average_mask=average_mask,\n",
    "    nb_voxels=nb_voxels,\n",
    "    nb_subjects=len(subject_names_list),\n",
    "    data_name='{}_attention-head'.format(model_name),\n",
    "    params=params,\n",
    "    saving_folder=SAVING_FOLDER,\n",
    "    n_neighbors_list=[3, 4, 5],\n",
    "    min_samples_list=[5, 8, 10, 12, 15, 17, 20, 23,  25, 27, 30],\n",
    "    min_cluster_size_list=[200, 300, 500, 550, 600, 650, 700, 750, 800, 850, 900, 950, 1000, 1100, 1200, 1300, 1350 ,1400, 1450, 1500, 1550, 1600, 1700, 1750, 1800, 1850, 1900],\n",
    "    tmp_folder=TMP_FOLDER, \n",
    "    return_plot=False\n",
    "    **kwargs\n",
    "    )"
   ]
  },
  {
   "cell_type": "markdown",
   "metadata": {},
   "source": [
    "Have a loook at 'SAVING_FOLDER' were all figures are displayed."
   ]
  },
  {
   "cell_type": "markdown",
   "metadata": {},
   "source": [
    "Interesting plots:"
   ]
  },
  {
   "cell_type": "code",
   "execution_count": null,
   "metadata": {},
   "outputs": [],
   "source": [
    "paths = [\n",
    " '/neurospin/unicog/protocols/IRMf/LePetitPrince_Pallier_2018/LePetitPrince/derivatives/fMRI/clustering/data-average_umap_hdbscan/labels/all-subjects_red-umap_clust-hdbscan_min-c-size-1250_n-neigh-5_n-comp-3_aff-clus-euclidean_link-ward_min-samples-3_metric-r-cosine_metric-c-euclidean_out-metric-euclidean_nb_clusters-23.npy',\n",
    " '/neurospin/unicog/protocols/IRMf/LePetitPrince_Pallier_2018/LePetitPrince/derivatives/fMRI/clustering/data-average_umap_hdbscan/labels/all-subjects_red-umap_clust-hdbscan_min-c-size-1450_n-neigh-4_n-comp-3_aff-clus-euclidean_link-ward_min-samples-10_metric-r-cosine_metric-c-euclidean_out-metric-euclidean_nb_clusters-15.npy',\n",
    " '/neurospin/unicog/protocols/IRMf/LePetitPrince_Pallier_2018/LePetitPrince/derivatives/fMRI/clustering/data-average_umap_hdbscan/labels/all-subjects_red-umap_clust-hdbscan_min-c-size-1500_n-neigh-4_n-comp-3_aff-clus-euclidean_link-ward_min-samples-10_metric-r-cosine_metric-c-euclidean_out-metric-euclidean_nb_clusters-15.npy',\n",
    " '/neurospin/unicog/protocols/IRMf/LePetitPrince_Pallier_2018/LePetitPrince/derivatives/fMRI/clustering/data-average_umap_hdbscan/labels/all-subjects_red-umap_clust-hdbscan_min-c-size-1550_n-neigh-4_n-comp-3_aff-clus-euclidean_link-ward_min-samples-10_metric-r-cosine_metric-c-euclidean_out-metric-euclidean_nb_clusters-15.npy',\n",
    " '/neurospin/unicog/protocols/IRMf/LePetitPrince_Pallier_2018/LePetitPrince/derivatives/fMRI/clustering/data-pca_umap_hdbscan/labels/all-subjects_red-umap_clust-hdbscan_min-c-size-1450_n-neigh-4_n-comp-3_aff-clus-euclidean_link-ward_min-samples-5_metric-r-cosine_metric-c-euclidean_out-metric-euclidean_nb_clusters-19.npy',\n",
    " '/neurospin/unicog/protocols/IRMf/LePetitPrince_Pallier_2018/LePetitPrince/derivatives/fMRI/clustering/data-pca_umap_hdbscan/labels/all-subjects_red-umap_clust-hdbscan_min-c-size-1500_n-neigh-4_n-comp-3_aff-clus-euclidean_link-ward_min-samples-5_metric-r-cosine_metric-c-euclidean_out-metric-euclidean_nb_clusters-19.npy',\n",
    " '/neurospin/unicog/protocols/IRMf/LePetitPrince_Pallier_2018/LePetitPrince/derivatives/fMRI/clustering/data-pca_umap_hdbscan/labels/all-subjects_red-umap_clust-hdbscan_min-c-size-1550_n-neigh-4_n-comp-3_aff-clus-euclidean_link-ward_min-samples-5_metric-r-cosine_metric-c-euclidean_out-metric-euclidean_nb_clusters-17.npy',\n",
    " '/neurospin/unicog/protocols/IRMf/LePetitPrince_Pallier_2018/LePetitPrince/derivatives/fMRI/clustering/bert-base-cased_pre-7_1_post-0_norm-None_norm-inf/data-attention_head_umap_hdbscan/labels/all-subjects_red-umap_clust-hdbscan_min-c-size-1350_n-neigh-3_n-comp-3_aff-clus-cosine_link-average_min-samples-30_metric-r-cosine_metric-c-euclidean_out-metric-euclidean_nb_clusters-26.npy',\n",
    " '/neurospin/unicog/protocols/IRMf/LePetitPrince_Pallier_2018/LePetitPrince/derivatives/fMRI/clustering/bert-base-cased_pre-7_1_post-0_norm-None_norm-inf/data-attention_head_umap_hdbscan/labels/all-subjects_red-umap_clust-hdbscan_min-c-size-1400_n-neigh-3_n-comp-3_aff-clus-cosine_link-average_min-samples-20_metric-r-cosine_metric-c-euclidean_out-metric-euclidean_nb_clusters-26.npy',\n",
    " '/neurospin/unicog/protocols/IRMf/LePetitPrince_Pallier_2018/LePetitPrince/derivatives/fMRI/clustering/bert-base-cased_pre-7_1_post-0_norm-None_norm-inf/data-attention_head_umap_hdbscan/labels/all-subjects_red-umap_clust-hdbscan_min-c-size-1400_n-neigh-3_n-comp-3_aff-clus-cosine_link-average_min-samples-23_metric-r-cosine_metric-c-euclidean_out-metric-euclidean_nb_clusters-24.npy',\n",
    " '/neurospin/unicog/protocols/IRMf/LePetitPrince_Pallier_2018/LePetitPrince/derivatives/fMRI/clustering/bert-base-cased_pre-7_1_post-0_norm-None_norm-inf/data-attention_head_umap_hdbscan/labels/all-subjects_red-umap_clust-hdbscan_min-c-size-1400_n-neigh-3_n-comp-3_aff-clus-cosine_link-average_min-samples-25_metric-r-cosine_metric-c-euclidean_out-metric-euclidean_nb_clusters-22.npy',\n",
    " '/neurospin/unicog/protocols/IRMf/LePetitPrince_Pallier_2018/LePetitPrince/derivatives/fMRI/clustering/bert-base-cased_pre-7_1_post-0_norm-None_norm-inf/data-attention_head_umap_hdbscan/labels/all-subjects_red-umap_clust-hdbscan_min-c-size-1400_n-neigh-3_n-comp-3_aff-clus-cosine_link-average_min-samples-27_metric-r-cosine_metric-c-euclidean_out-metric-euclidean_nb_clusters-29.npy',\n",
    " '/neurospin/unicog/protocols/IRMf/LePetitPrince_Pallier_2018/LePetitPrince/derivatives/fMRI/clustering/bert-base-cased_pre-7_1_post-0_norm-None_norm-inf/data-attention_head_umap_hdbscan/labels/all-subjects_red-umap_clust-hdbscan_min-c-size-1450_n-neigh-3_n-comp-3_aff-clus-cosine_link-average_min-samples-15_metric-r-cosine_metric-c-euclidean_out-metric-euclidean_nb_clusters-29.npy',\n",
    " '/neurospin/unicog/protocols/IRMf/LePetitPrince_Pallier_2018/LePetitPrince/derivatives/fMRI/clustering/bert-base-cased_pre-7_1_post-0_norm-None_norm-inf/data-attention_head_umap_hdbscan/labels/all-subjects_red-umap_clust-hdbscan_min-c-size-1450_n-neigh-3_n-comp-3_aff-clus-cosine_link-average_min-samples-17_metric-r-cosine_metric-c-euclidean_out-metric-euclidean_nb_clusters-27.npy',\n",
    " '/neurospin/unicog/protocols/IRMf/LePetitPrince_Pallier_2018/LePetitPrince/derivatives/fMRI/clustering/bert-base-cased_pre-7_1_post-0_norm-None_norm-inf/data-attention_head_umap_hdbscan/labels/all-subjects_red-umap_clust-hdbscan_min-c-size-1450_n-neigh-3_n-comp-3_aff-clus-cosine_link-average_min-samples-20_metric-r-cosine_metric-c-euclidean_out-metric-euclidean_nb_clusters-24.npy',\n",
    " '/neurospin/unicog/protocols/IRMf/LePetitPrince_Pallier_2018/LePetitPrince/derivatives/fMRI/clustering/bert-base-cased_pre-7_1_post-0_norm-None_norm-inf/data-attention_head_umap_hdbscan/labels/all-subjects_red-umap_clust-hdbscan_min-c-size-1450_n-neigh-3_n-comp-3_aff-clus-cosine_link-average_min-samples-25_metric-r-cosine_metric-c-euclidean_out-metric-euclidean_nb_clusters-19.npy',\n",
    " '/neurospin/unicog/protocols/IRMf/LePetitPrince_Pallier_2018/LePetitPrince/derivatives/fMRI/clustering/bert-base-cased_pre-7_1_post-0_norm-None_norm-inf/data-attention_head_umap_hdbscan/labels/all-subjects_red-umap_clust-hdbscan_min-c-size-1450_n-neigh-3_n-comp-3_aff-clus-cosine_link-average_min-samples-27_metric-r-cosine_metric-c-euclidean_out-metric-euclidean_nb_clusters-28.npy',\n",
    " '/neurospin/unicog/protocols/IRMf/LePetitPrince_Pallier_2018/LePetitPrince/derivatives/fMRI/clustering/bert-base-cased_pre-7_1_post-0_norm-None_norm-inf/data-attention_head_umap_hdbscan/labels/all-subjects_red-umap_clust-hdbscan_min-c-size-1500_n-neigh-3_n-comp-3_aff-clus-cosine_link-average_min-samples-17_metric-r-cosine_metric-c-euclidean_out-metric-euclidean_nb_clusters-25.npy',\n",
    " '/neurospin/unicog/protocols/IRMf/LePetitPrince_Pallier_2018/LePetitPrince/derivatives/fMRI/clustering/bert-base-cased_pre-7_1_post-0_norm-None_norm-inf/data-attention_head_umap_hdbscan/labels/all-subjects_red-umap_clust-hdbscan_min-c-size-1500_n-neigh-3_n-comp-3_aff-clus-cosine_link-average_min-samples-20_metric-r-cosine_metric-c-euclidean_out-metric-euclidean_nb_clusters-23.npy',\n",
    " '/neurospin/unicog/protocols/IRMf/LePetitPrince_Pallier_2018/LePetitPrince/derivatives/fMRI/clustering/bert-base-cased_pre-7_1_post-0_norm-None_norm-inf/data-attention_head_umap_hdbscan/labels/all-subjects_red-umap_clust-hdbscan_min-c-size-1500_n-neigh-3_n-comp-3_aff-clus-cosine_link-average_min-samples-25_metric-r-cosine_metric-c-euclidean_out-metric-euclidean_nb_clusters-19.npy',\n",
    " '/neurospin/unicog/protocols/IRMf/LePetitPrince_Pallier_2018/LePetitPrince/derivatives/fMRI/clustering/bert-base-cased_pre-7_1_post-0_norm-None_norm-inf/data-attention_head_umap_hdbscan/labels/all-subjects_red-umap_clust-hdbscan_min-c-size-1500_n-neigh-3_n-comp-3_aff-clus-cosine_link-average_min-samples-27_metric-r-cosine_metric-c-euclidean_out-metric-euclidean_nb_clusters-25.npy',\n",
    " '/neurospin/unicog/protocols/IRMf/LePetitPrince_Pallier_2018/LePetitPrince/derivatives/fMRI/clustering/bert-base-cased_pre-7_1_post-0_norm-None_norm-inf/data-attention_head_umap_hdbscan/labels/all-subjects_red-umap_clust-hdbscan_min-c-size-1500_n-neigh-3_n-comp-3_aff-clus-cosine_link-average_min-samples-30_metric-r-cosine_metric-c-euclidean_out-metric-euclidean_nb_clusters-23.npy',\n",
    " '/neurospin/unicog/protocols/IRMf/LePetitPrince_Pallier_2018/LePetitPrince/derivatives/fMRI/clustering/bert-base-cased_pre-7_1_post-0_norm-None_norm-inf/data-attention_head_umap_hdbscan/labels/all-subjects_red-umap_clust-hdbscan_min-c-size-1550_n-neigh-3_n-comp-3_aff-clus-cosine_link-average_min-samples-17_metric-r-cosine_metric-c-euclidean_out-metric-euclidean_nb_clusters-24.npy',\n",
    " '/neurospin/unicog/protocols/IRMf/LePetitPrince_Pallier_2018/LePetitPrince/derivatives/fMRI/clustering/bert-base-cased_pre-7_1_post-0_norm-None_norm-inf/data-attention_head_umap_hdbscan/labels/all-subjects_red-umap_clust-hdbscan_min-c-size-1550_n-neigh-3_n-comp-3_aff-clus-cosine_link-average_min-samples-20_metric-r-cosine_metric-c-euclidean_out-metric-euclidean_nb_clusters-22.npy',\n",
    " '/neurospin/unicog/protocols/IRMf/LePetitPrince_Pallier_2018/LePetitPrince/derivatives/fMRI/clustering/bert-base-cased_pre-7_1_post-0_norm-None_norm-inf/data-attention_head_umap_hdbscan/labels/all-subjects_red-umap_clust-hdbscan_min-c-size-1550_n-neigh-3_n-comp-3_aff-clus-cosine_link-average_min-samples-25_metric-r-cosine_metric-c-euclidean_out-metric-euclidean_nb_clusters-19.npy',\n",
    " '/neurospin/unicog/protocols/IRMf/LePetitPrince_Pallier_2018/LePetitPrince/derivatives/fMRI/clustering/bert-base-cased_pre-7_1_post-0_norm-None_norm-inf/data-attention_head_umap_hdbscan/labels/all-subjects_red-umap_clust-hdbscan_min-c-size-1550_n-neigh-3_n-comp-3_aff-clus-cosine_link-average_min-samples-27_metric-r-cosine_metric-c-euclidean_out-metric-euclidean_nb_clusters-25.npy',\n",
    " '/neurospin/unicog/protocols/IRMf/LePetitPrince_Pallier_2018/LePetitPrince/derivatives/fMRI/clustering/bert-base-cased_pre-7_1_post-0_norm-None_norm-inf/data-attention_head_umap_hdbscan/labels/all-subjects_red-umap_clust-hdbscan_min-c-size-1550_n-neigh-3_n-comp-3_aff-clus-cosine_link-average_min-samples-30_metric-r-cosine_metric-c-euclidean_out-metric-euclidean_nb_clusters-23.npy',\n",
    " '/neurospin/unicog/protocols/IRMf/LePetitPrince_Pallier_2018/LePetitPrince/derivatives/fMRI/clustering/bert-base-cased_pre-7_1_post-0_norm-None_norm-inf/data-attention_head_umap_hdbscan/labels/all-subjects_red-umap_clust-hdbscan_min-c-size-1600_n-neigh-3_n-comp-3_aff-clus-cosine_link-average_min-samples-20_metric-r-cosine_metric-c-euclidean_out-metric-euclidean_nb_clusters-21.npy',\n",
    " '/neurospin/unicog/protocols/IRMf/LePetitPrince_Pallier_2018/LePetitPrince/derivatives/fMRI/clustering/bert-base-cased_pre-7_1_post-0_norm-None_norm-inf/data-attention_head_umap_hdbscan/labels/all-subjects_red-umap_clust-hdbscan_min-c-size-1600_n-neigh-3_n-comp-3_aff-clus-cosine_link-average_min-samples-25_metric-r-cosine_metric-c-euclidean_out-metric-euclidean_nb_clusters-18.npy',\n",
    " '/neurospin/unicog/protocols/IRMf/LePetitPrince_Pallier_2018/LePetitPrince/derivatives/fMRI/clustering/bert-base-cased_pre-7_1_post-0_norm-None_norm-inf/data-attention_head_umap_hdbscan/labels/all-subjects_red-umap_clust-hdbscan_min-c-size-1600_n-neigh-3_n-comp-3_aff-clus-cosine_link-average_min-samples-27_metric-r-cosine_metric-c-euclidean_out-metric-euclidean_nb_clusters-22.npy',\n",
    " '/neurospin/unicog/protocols/IRMf/LePetitPrince_Pallier_2018/LePetitPrince/derivatives/fMRI/clustering/bert-base-cased_pre-7_1_post-0_norm-None_norm-inf/data-attention_head_umap_hdbscan/labels/all-subjects_red-umap_clust-hdbscan_min-c-size-1600_n-neigh-3_n-comp-3_aff-clus-cosine_link-average_min-samples-30_metric-r-cosine_metric-c-euclidean_out-metric-euclidean_nb_clusters-22.npy',\n",
    " '/neurospin/unicog/protocols/IRMf/LePetitPrince_Pallier_2018/LePetitPrince/derivatives/fMRI/clustering/bert-base-cased_pre-7_1_post-0_norm-None_norm-inf/data-attention_head_umap_hdbscan/labels/all-subjects_red-umap_clust-hdbscan_min-c-size-1700_n-neigh-3_n-comp-3_aff-clus-cosine_link-average_min-samples-20_metric-r-cosine_metric-c-euclidean_out-metric-euclidean_nb_clusters-16.npy',\n",
    " '/neurospin/unicog/protocols/IRMf/LePetitPrince_Pallier_2018/LePetitPrince/derivatives/fMRI/clustering/bert-base-cased_pre-7_1_post-0_norm-None_norm-inf/data-attention_head_umap_hdbscan/labels/all-subjects_red-umap_clust-hdbscan_min-c-size-1700_n-neigh-3_n-comp-3_aff-clus-cosine_link-average_min-samples-25_metric-r-cosine_metric-c-euclidean_out-metric-euclidean_nb_clusters-16.npy',\n",
    " '/neurospin/unicog/protocols/IRMf/LePetitPrince_Pallier_2018/LePetitPrince/derivatives/fMRI/clustering/bert-base-cased_pre-7_1_post-0_norm-None_norm-inf/data-attention_head_umap_hdbscan/labels/all-subjects_red-umap_clust-hdbscan_min-c-size-1700_n-neigh-3_n-comp-3_aff-clus-cosine_link-average_min-samples-27_metric-r-cosine_metric-c-euclidean_out-metric-euclidean_nb_clusters-20.npy',\n",
    " '/neurospin/unicog/protocols/IRMf/LePetitPrince_Pallier_2018/LePetitPrince/derivatives/fMRI/clustering/bert-base-cased_pre-7_1_post-0_norm-None_norm-inf/data-attention_head_umap_hdbscan/labels/all-subjects_red-umap_clust-hdbscan_min-c-size-1700_n-neigh-3_n-comp-3_aff-clus-cosine_link-average_min-samples-30_metric-r-cosine_metric-c-euclidean_out-metric-euclidean_nb_clusters-20.npy',\n",
    " '/neurospin/unicog/protocols/IRMf/LePetitPrince_Pallier_2018/LePetitPrince/derivatives/fMRI/clustering/bert-base-cased_pre-7_1_post-0_norm-None_norm-inf/data-attention_head_umap_hdbscan/labels/all-subjects_red-umap_clust-hdbscan_min-c-size-1750_n-neigh-3_n-comp-3_aff-clus-cosine_link-average_min-samples-25_metric-r-cosine_metric-c-euclidean_out-metric-euclidean_nb_clusters-16.npy',\n",
    " '/neurospin/unicog/protocols/IRMf/LePetitPrince_Pallier_2018/LePetitPrince/derivatives/fMRI/clustering/bert-base-cased_pre-7_1_post-0_norm-None_norm-inf/data-attention_head_umap_hdbscan/labels/all-subjects_red-umap_clust-hdbscan_min-c-size-1750_n-neigh-3_n-comp-3_aff-clus-cosine_link-average_min-samples-27_metric-r-cosine_metric-c-euclidean_out-metric-euclidean_nb_clusters-20.npy',\n",
    " '/neurospin/unicog/protocols/IRMf/LePetitPrince_Pallier_2018/LePetitPrince/derivatives/fMRI/clustering/bert-base-cased_pre-7_1_post-0_norm-None_norm-inf/data-attention_head_umap_hdbscan/labels/all-subjects_red-umap_clust-hdbscan_min-c-size-1750_n-neigh-3_n-comp-3_aff-clus-cosine_link-average_min-samples-30_metric-r-cosine_metric-c-euclidean_out-metric-euclidean_nb_clusters-20.npy',\n",
    " '/neurospin/unicog/protocols/IRMf/LePetitPrince_Pallier_2018/LePetitPrince/derivatives/fMRI/clustering/bert-base-cased_pre-7_1_post-0_norm-None_norm-inf/data-attention_head_umap_hdbscan/labels/all-subjects_red-umap_clust-hdbscan_min-c-size-1800_n-neigh-3_n-comp-3_aff-clus-cosine_link-average_min-samples-25_metric-r-cosine_metric-c-euclidean_out-metric-euclidean_nb_clusters-16.npy',\n",
    " '/neurospin/unicog/protocols/IRMf/LePetitPrince_Pallier_2018/LePetitPrince/derivatives/fMRI/clustering/bert-base-cased_pre-7_1_post-0_norm-None_norm-inf/data-attention_head_umap_hdbscan/labels/all-subjects_red-umap_clust-hdbscan_min-c-size-1800_n-neigh-3_n-comp-3_aff-clus-cosine_link-average_min-samples-27_metric-r-cosine_metric-c-euclidean_out-metric-euclidean_nb_clusters-19.npy',\n",
    " '/neurospin/unicog/protocols/IRMf/LePetitPrince_Pallier_2018/LePetitPrince/derivatives/fMRI/clustering/bert-base-cased_pre-7_1_post-0_norm-None_norm-inf/data-attention_head_umap_hdbscan/labels/all-subjects_red-umap_clust-hdbscan_min-c-size-1800_n-neigh-3_n-comp-3_aff-clus-cosine_link-average_min-samples-30_metric-r-cosine_metric-c-euclidean_out-metric-euclidean_nb_clusters-18.npy',\n",
    " '/neurospin/unicog/protocols/IRMf/LePetitPrince_Pallier_2018/LePetitPrince/derivatives/fMRI/clustering/bert-base-cased_pre-7_1_post-0_norm-None_norm-inf/data-attention_head_umap_hdbscan/labels/all-subjects_red-umap_clust-hdbscan_min-c-size-1850_n-neigh-3_n-comp-3_aff-clus-cosine_link-average_min-samples-25_metric-r-cosine_metric-c-euclidean_out-metric-euclidean_nb_clusters-15.npy',\n",
    " '/neurospin/unicog/protocols/IRMf/LePetitPrince_Pallier_2018/LePetitPrince/derivatives/fMRI/clustering/bert-base-cased_pre-7_1_post-0_norm-None_norm-inf/data-attention_head_umap_hdbscan/labels/all-subjects_red-umap_clust-hdbscan_min-c-size-1850_n-neigh-3_n-comp-3_aff-clus-cosine_link-average_min-samples-27_metric-r-cosine_metric-c-euclidean_out-metric-euclidean_nb_clusters-17.npy',\n",
    " '/neurospin/unicog/protocols/IRMf/LePetitPrince_Pallier_2018/LePetitPrince/derivatives/fMRI/clustering/bert-base-cased_pre-7_1_post-0_norm-None_norm-inf/data-attention_head_umap_hdbscan/labels/all-subjects_red-umap_clust-hdbscan_min-c-size-1850_n-neigh-3_n-comp-3_aff-clus-cosine_link-average_min-samples-30_metric-r-cosine_metric-c-euclidean_out-metric-euclidean_nb_clusters-17.npy',\n",
    " '/neurospin/unicog/protocols/IRMf/LePetitPrince_Pallier_2018/LePetitPrince/derivatives/fMRI/clustering/bert-base-cased_pre-7_1_post-0_norm-None_norm-inf/data-attention_head_umap_hdbscan/labels/all-subjects_red-umap_clust-hdbscan_min-c-size-1900_n-neigh-3_n-comp-3_aff-clus-cosine_link-average_min-samples-27_metric-r-cosine_metric-c-euclidean_out-metric-euclidean_nb_clusters-17.npy',\n",
    " '/neurospin/unicog/protocols/IRMf/LePetitPrince_Pallier_2018/LePetitPrince/derivatives/fMRI/clustering/bert-base-cased_pre-7_1_post-0_norm-None_norm-inf/data-attention_head_umap_hdbscan/labels/all-subjects_red-umap_clust-hdbscan_min-c-size-1900_n-neigh-3_n-comp-3_aff-clus-cosine_link-average_min-samples-30_metric-r-cosine_metric-c-euclidean_out-metric-euclidean_nb_clusters-17.npy',\n",
    " '/neurospin/unicog/protocols/IRMf/LePetitPrince_Pallier_2018/LePetitPrince/derivatives/fMRI/clustering/bert-base-cased_pre-7_1_post-0_norm-None_norm-inf/data-attention_head_umap_hdbscan/labels/all-subjects_red-umap_clust-hdbscan_min-c-size-1850_n-neigh-3_n-comp-3_aff-clus-cosine_link-average_min-samples-25_metric-r-cosine_metric-c-euclidean_out-metric-euclidean_nb_clusters-15.npy',\n",
    " '/neurospin/unicog/protocols/IRMf/LePetitPrince_Pallier_2018/LePetitPrince/derivatives/fMRI/clustering/bert-base-cased_pre-7_1_post-0_norm-None_norm-inf/data-attention_head_umap_hdbscan/labels/all-subjects_red-umap_clust-hdbscan_min-c-size-1900_n-neigh-3_n-comp-3_aff-clus-cosine_link-average_min-samples-25_metric-r-cosine_metric-c-euclidean_out-metric-euclidean_nb_clusters-13.npy',\n",
    " '/neurospin/unicog/protocols/IRMf/LePetitPrince_Pallier_2018/LePetitPrince/derivatives/fMRI/clustering/bert-base-cased_pre-7_1_post-0_norm-None_norm-inf/data-attention_head_umap_hdbscan/labels/all-subjects_red-umap_clust-hdbscan_min-c-size-1850_n-neigh-5_n-comp-3_aff-clus-cosine_link-average_min-samples-25_metric-r-cosine_metric-c-euclidean_out-metric-euclidean_nb_clusters-44.npy',\n",
    " '/neurospin/unicog/protocols/IRMf/LePetitPrince_Pallier_2018/LePetitPrince/derivatives/fMRI/clustering/bert-base-cased_pre-7_1_post-0_norm-None_norm-inf/data-attention_head_umap_hdbscan/labels/all-subjects_red-umap_clust-hdbscan_min-c-size-1850_n-neigh-5_n-comp-3_aff-clus-cosine_link-average_min-samples-27_metric-r-cosine_metric-c-euclidean_out-metric-euclidean_nb_clusters-44.npy',\n",
    " '/neurospin/unicog/protocols/IRMf/LePetitPrince_Pallier_2018/LePetitPrince/derivatives/fMRI/clustering/bert-base-cased_pre-7_1_post-0_norm-None_norm-inf/data-attention_head_umap_hdbscan/labels/all-subjects_red-umap_clust-hdbscan_min-c-size-1870_n-neigh-5_n-comp-3_aff-clus-cosine_link-average_min-samples-20_metric-r-cosine_metric-c-euclidean_out-metric-euclidean_nb_clusters-44.npy',\n",
    " '/neurospin/unicog/protocols/IRMf/LePetitPrince_Pallier_2018/LePetitPrince/derivatives/fMRI/clustering/bert-base-cased_pre-7_1_post-0_norm-None_norm-inf/data-attention_head_umap_hdbscan/labels/all-subjects_red-umap_clust-hdbscan_min-c-size-1870_n-neigh-5_n-comp-3_aff-clus-cosine_link-average_min-samples-23_metric-r-cosine_metric-c-euclidean_out-metric-euclidean_nb_clusters-45.npy',\n",
    " '/neurospin/unicog/protocols/IRMf/LePetitPrince_Pallier_2018/LePetitPrince/derivatives/fMRI/clustering/bert-base-cased_pre-7_1_post-0_norm-None_norm-inf/data-attention_head_umap_hdbscan/labels/all-subjects_red-umap_clust-hdbscan_min-c-size-1870_n-neigh-5_n-comp-3_aff-clus-cosine_link-average_min-samples-25_metric-r-cosine_metric-c-euclidean_out-metric-euclidean_nb_clusters-44.npy',\n",
    " '/neurospin/unicog/protocols/IRMf/LePetitPrince_Pallier_2018/LePetitPrince/derivatives/fMRI/clustering/bert-base-cased_pre-7_1_post-0_norm-None_norm-inf/data-attention_head_umap_hdbscan/labels/all-subjects_red-umap_clust-hdbscan_min-c-size-1870_n-neigh-5_n-comp-3_aff-clus-cosine_link-average_min-samples-27_metric-r-cosine_metric-c-euclidean_out-metric-euclidean_nb_clusters-44.npy',\n",
    " '/neurospin/unicog/protocols/IRMf/LePetitPrince_Pallier_2018/LePetitPrince/derivatives/fMRI/clustering/bert-base-cased_pre-7_1_post-0_norm-None_norm-inf/data-attention_head_umap_hdbscan/labels/all-subjects_red-umap_clust-hdbscan_min-c-size-1870_n-neigh-5_n-comp-3_aff-clus-cosine_link-average_min-samples-30_metric-r-cosine_metric-c-euclidean_out-metric-euclidean_nb_clusters-43.npy',\n",
    " '/neurospin/unicog/protocols/IRMf/LePetitPrince_Pallier_2018/LePetitPrince/derivatives/fMRI/clustering/bert-base-cased_pre-7_1_post-0_norm-None_norm-inf/data-attention_head_umap_hdbscan/labels/all-subjects_red-umap_clust-hdbscan_min-c-size-1900_n-neigh-5_n-comp-3_aff-clus-cosine_link-average_min-samples-20_metric-r-cosine_metric-c-euclidean_out-metric-euclidean_nb_clusters-44.npy',\n",
    " '/neurospin/unicog/protocols/IRMf/LePetitPrince_Pallier_2018/LePetitPrince/derivatives/fMRI/clustering/bert-base-cased_pre-7_1_post-0_norm-None_norm-inf/data-attention_head_umap_hdbscan/labels/all-subjects_red-umap_clust-hdbscan_min-c-size-1900_n-neigh-5_n-comp-3_aff-clus-cosine_link-average_min-samples-23_metric-r-cosine_metric-c-euclidean_out-metric-euclidean_nb_clusters-45.npy',\n",
    " '/neurospin/unicog/protocols/IRMf/LePetitPrince_Pallier_2018/LePetitPrince/derivatives/fMRI/clustering/bert-base-cased_pre-7_1_post-0_norm-None_norm-inf/data-attention_head_umap_hdbscan/labels/all-subjects_red-umap_clust-hdbscan_min-c-size-1900_n-neigh-5_n-comp-3_aff-clus-cosine_link-average_min-samples-25_metric-r-cosine_metric-c-euclidean_out-metric-euclidean_nb_clusters-44.npy',\n",
    " '/neurospin/unicog/protocols/IRMf/LePetitPrince_Pallier_2018/LePetitPrince/derivatives/fMRI/clustering/bert-base-cased_pre-7_1_post-0_norm-None_norm-inf/data-attention_head_umap_hdbscan/labels/all-subjects_red-umap_clust-hdbscan_min-c-size-1900_n-neigh-5_n-comp-3_aff-clus-cosine_link-average_min-samples-27_metric-r-cosine_metric-c-euclidean_out-metric-euclidean_nb_clusters-44.npy',\n",
    " '/neurospin/unicog/protocols/IRMf/LePetitPrince_Pallier_2018/LePetitPrince/derivatives/fMRI/clustering/bert-base-cased_pre-7_1_post-0_norm-None_norm-inf/data-attention_head_umap_hdbscan/labels/all-subjects_red-umap_clust-hdbscan_min-c-size-1900_n-neigh-5_n-comp-3_aff-clus-cosine_link-average_min-samples-30_metric-r-cosine_metric-c-euclidean_out-metric-euclidean_nb_clusters-42.npy',\n",
    " '/neurospin/unicog/protocols/IRMf/LePetitPrince_Pallier_2018/LePetitPrince/derivatives/fMRI/clustering/bert-base-cased_pre-7_1_post-0_norm-None_norm-inf/data-attention_head_umap_hdbscan/labels/all-subjects_red-umap_clust-hdbscan_min-c-size-1920_n-neigh-5_n-comp-3_aff-clus-cosine_link-average_min-samples-20_metric-r-cosine_metric-c-euclidean_out-metric-euclidean_nb_clusters-44.npy',\n",
    " '/neurospin/unicog/protocols/IRMf/LePetitPrince_Pallier_2018/LePetitPrince/derivatives/fMRI/clustering/bert-base-cased_pre-7_1_post-0_norm-None_norm-inf/data-attention_head_umap_hdbscan/labels/all-subjects_red-umap_clust-hdbscan_min-c-size-1920_n-neigh-5_n-comp-3_aff-clus-cosine_link-average_min-samples-23_metric-r-cosine_metric-c-euclidean_out-metric-euclidean_nb_clusters-45.npy',\n",
    " '/neurospin/unicog/protocols/IRMf/LePetitPrince_Pallier_2018/LePetitPrince/derivatives/fMRI/clustering/bert-base-cased_pre-7_1_post-0_norm-None_norm-inf/data-attention_head_umap_hdbscan/labels/all-subjects_red-umap_clust-hdbscan_min-c-size-1920_n-neigh-5_n-comp-3_aff-clus-cosine_link-average_min-samples-25_metric-r-cosine_metric-c-euclidean_out-metric-euclidean_nb_clusters-44.npy',\n",
    " '/neurospin/unicog/protocols/IRMf/LePetitPrince_Pallier_2018/LePetitPrince/derivatives/fMRI/clustering/bert-base-cased_pre-7_1_post-0_norm-None_norm-inf/data-attention_head_umap_hdbscan/labels/all-subjects_red-umap_clust-hdbscan_min-c-size-1920_n-neigh-5_n-comp-3_aff-clus-cosine_link-average_min-samples-27_metric-r-cosine_metric-c-euclidean_out-metric-euclidean_nb_clusters-43.npy',\n",
    " '/neurospin/unicog/protocols/IRMf/LePetitPrince_Pallier_2018/LePetitPrince/derivatives/fMRI/clustering/bert-base-cased_pre-7_1_post-0_norm-None_norm-inf/data-attention_head_umap_hdbscan/labels/all-subjects_red-umap_clust-hdbscan_min-c-size-1920_n-neigh-5_n-comp-3_aff-clus-cosine_link-average_min-samples-30_metric-r-cosine_metric-c-euclidean_out-metric-euclidean_nb_clusters-42.npy',\n",
    " '/neurospin/unicog/protocols/IRMf/LePetitPrince_Pallier_2018/LePetitPrince/derivatives/fMRI/clustering/gpt2_pre-20_1_norm-inf_norm-inf/data-attention_head_umap_hdbscan/labels/all-subjects_red-umap_clust-hdbscan_min-c-size-950_n-neigh-3_n-comp-3_aff-clus-cosine_link-average_min-samples-15_metric-r-cosine_metric-c-euclidean_out-metric-euclidean_nb_clusters-25.npy',\n",
    " '/neurospin/unicog/protocols/IRMf/LePetitPrince_Pallier_2018/LePetitPrince/derivatives/fMRI/clustering/gpt2_pre-20_1_norm-inf_norm-inf/data-attention_head_umap_hdbscan/labels/all-subjects_red-umap_clust-hdbscan_min-c-size-900_n-neigh-3_n-comp-3_aff-clus-cosine_link-average_min-samples-15_metric-r-cosine_metric-c-euclidean_out-metric-euclidean_nb_clusters-29.npy',\n",
    " '/neurospin/unicog/protocols/IRMf/LePetitPrince_Pallier_2018/LePetitPrince/derivatives/fMRI/clustering/gpt2_pre-20_1_norm-inf_norm-inf/data-attention_head_umap_hdbscan/labels/all-subjects_red-umap_clust-hdbscan_min-c-size-1400_n-neigh-3_n-comp-3_aff-clus-cosine_link-average_min-samples-15_metric-r-cosine_metric-c-euclidean_out-metric-euclidean_nb_clusters-15.npy',\n",
    " '/neurospin/unicog/protocols/IRMf/LePetitPrince_Pallier_2018/LePetitPrince/derivatives/fMRI/clustering/gpt2_pre-20_1_norm-inf_norm-inf/data-attention_head_umap_hdbscan/labels/all-subjects_red-umap_clust-hdbscan_min-c-size-1350_n-neigh-3_n-comp-3_aff-clus-cosine_link-average_min-samples-15_metric-r-cosine_metric-c-euclidean_out-metric-euclidean_nb_clusters-17.npy',\n",
    " '/neurospin/unicog/protocols/IRMf/LePetitPrince_Pallier_2018/LePetitPrince/derivatives/fMRI/clustering/gpt2_pre-20_1_norm-inf_norm-inf/data-attention_head_umap_hdbscan/labels/all-subjects_red-umap_clust-hdbscan_min-c-size-1300_n-neigh-3_n-comp-3_aff-clus-cosine_link-average_min-samples-15_metric-r-cosine_metric-c-euclidean_out-metric-euclidean_nb_clusters-17.npy',\n",
    " '/neurospin/unicog/protocols/IRMf/LePetitPrince_Pallier_2018/LePetitPrince/derivatives/fMRI/clustering/gpt2_pre-20_1_norm-inf_norm-inf/data-attention_head_umap_hdbscan/labels/all-subjects_red-umap_clust-hdbscan_min-c-size-1200_n-neigh-3_n-comp-3_aff-clus-cosine_link-average_min-samples-20_metric-r-cosine_metric-c-euclidean_out-metric-euclidean_nb_clusters-22.npy',\n",
    " '/neurospin/unicog/protocols/IRMf/LePetitPrince_Pallier_2018/LePetitPrince/derivatives/fMRI/clustering/gpt2_pre-20_1_norm-inf_norm-inf/data-attention_head_umap_hdbscan/labels/all-subjects_red-umap_clust-hdbscan_min-c-size-1100_n-neigh-3_n-comp-3_aff-clus-cosine_link-average_min-samples-20_metric-r-cosine_metric-c-euclidean_out-metric-euclidean_nb_clusters-23.npy',\n",
    " '/neurospin/unicog/protocols/IRMf/LePetitPrince_Pallier_2018/LePetitPrince/derivatives/fMRI/clustering/gpt2_pre-20_1_norm-inf_norm-inf/data-attention_head_umap_hdbscan/labels/all-subjects_red-umap_clust-hdbscan_min-c-size-1100_n-neigh-3_n-comp-3_aff-clus-cosine_link-average_min-samples-15_metric-r-cosine_metric-c-euclidean_out-metric-euclidean_nb_clusters-21.npy',\n",
    " '/neurospin/unicog/protocols/IRMf/LePetitPrince_Pallier_2018/LePetitPrince/derivatives/fMRI/clustering/gpt2_pre-20_1_norm-inf_norm-inf/data-attention_head_umap_hdbscan/labels/all-subjects_red-umap_clust-hdbscan_min-c-size-1100_n-neigh-3_n-comp-3_aff-clus-cosine_link-average_min-samples-10_metric-r-cosine_metric-c-euclidean_out-metric-euclidean_nb_clusters-29.npy',\n",
    " '/neurospin/unicog/protocols/IRMf/LePetitPrince_Pallier_2018/LePetitPrince/derivatives/fMRI/clustering/gpt2_pre-20_1_norm-inf_norm-inf/data-attention_head_umap_hdbscan/labels/all-subjects_red-umap_clust-hdbscan_min-c-size-1000_n-neigh-3_n-comp-3_aff-clus-cosine_link-average_min-samples-15_metric-r-cosine_metric-c-euclidean_out-metric-euclidean_nb_clusters-25.npy',\n",
    " '/neurospin/unicog/protocols/IRMf/LePetitPrince_Pallier_2018/LePetitPrince/derivatives/fMRI/clustering/gpt2_pre-20_1_norm-inf_norm-inf/data-attention_head_umap_hdbscan/labels/all-subjects_red-umap_clust-hdbscan_min-c-size-1200_n-neigh-4_n-comp-3_aff-clus-cosine_link-average_min-samples-17_metric-r-cosine_metric-c-euclidean_out-metric-euclidean_nb_clusters-39.npy',\n",
    " '/neurospin/unicog/protocols/IRMf/LePetitPrince_Pallier_2018/LePetitPrince/derivatives/fMRI/clustering/gpt2_pre-20_1_norm-inf_norm-inf/data-attention_head_umap_hdbscan/labels/all-subjects_red-umap_clust-hdbscan_min-c-size-1200_n-neigh-4_n-comp-3_aff-clus-cosine_link-average_min-samples-23_metric-r-cosine_metric-c-euclidean_out-metric-euclidean_nb_clusters-37.npy',\n",
    " '/neurospin/unicog/protocols/IRMf/LePetitPrince_Pallier_2018/LePetitPrince/derivatives/fMRI/clustering/bert-base-cased_pre-7_1_post-0_norm-None_norm-inf/data-attention_head_umap_hdbscan/labels/all-subjects_red-umap_clust-hdbscan_min-c-size-1750_n-neigh-4_n-comp-3_aff-clus-cosine_link-average_min-samples-25_metric-r-cosine_metric-c-euclidean_out-metric-euclidean_nb_clusters-36.npy',\n",
    " '/neurospin/unicog/protocols/IRMf/LePetitPrince_Pallier_2018/LePetitPrince/derivatives/fMRI/clustering/bert-base-cased_pre-7_1_post-0_norm-None_norm-inf/data-attention_head_umap_hdbscan/labels/all-subjects_red-umap_clust-hdbscan_min-c-size-1750_n-neigh-4_n-comp-3_aff-clus-cosine_link-average_min-samples-27_metric-r-cosine_metric-c-euclidean_out-metric-euclidean_nb_clusters-28.npy',\n",
    " '/neurospin/unicog/protocols/IRMf/LePetitPrince_Pallier_2018/LePetitPrince/derivatives/fMRI/clustering/bert-base-cased_pre-7_1_post-0_norm-None_norm-inf/data-attention_head_umap_hdbscan/labels/all-subjects_red-umap_clust-hdbscan_min-c-size-1780_n-neigh-4_n-comp-3_aff-clus-cosine_link-average_min-samples-20_metric-r-cosine_metric-c-euclidean_out-metric-euclidean_nb_clusters-36.npy',\n",
    " '/neurospin/unicog/protocols/IRMf/LePetitPrince_Pallier_2018/LePetitPrince/derivatives/fMRI/clustering/bert-base-cased_pre-7_1_post-0_norm-None_norm-inf/data-attention_head_umap_hdbscan/labels/all-subjects_red-umap_clust-hdbscan_min-c-size-1780_n-neigh-4_n-comp-3_aff-clus-cosine_link-average_min-samples-23_metric-r-cosine_metric-c-euclidean_out-metric-euclidean_nb_clusters-36.npy',\n",
    " '/neurospin/unicog/protocols/IRMf/LePetitPrince_Pallier_2018/LePetitPrince/derivatives/fMRI/clustering/bert-base-cased_pre-7_1_post-0_norm-None_norm-inf/data-attention_head_umap_hdbscan/labels/all-subjects_red-umap_clust-hdbscan_min-c-size-1780_n-neigh-4_n-comp-3_aff-clus-cosine_link-average_min-samples-25_metric-r-cosine_metric-c-euclidean_out-metric-euclidean_nb_clusters-35.npy',\n",
    " '/neurospin/unicog/protocols/IRMf/LePetitPrince_Pallier_2018/LePetitPrince/derivatives/fMRI/clustering/bert-base-cased_pre-7_1_post-0_norm-None_norm-inf/data-attention_head_umap_hdbscan/labels/all-subjects_red-umap_clust-hdbscan_min-c-size-1780_n-neigh-4_n-comp-3_aff-clus-cosine_link-average_min-samples-27_metric-r-cosine_metric-c-euclidean_out-metric-euclidean_nb_clusters-27.npy',\n",
    " '/neurospin/unicog/protocols/IRMf/LePetitPrince_Pallier_2018/LePetitPrince/derivatives/fMRI/clustering/bert-base-cased_pre-7_1_post-0_norm-None_norm-inf/data-attention_head_umap_hdbscan/labels/all-subjects_red-umap_clust-hdbscan_min-c-size-1780_n-neigh-4_n-comp-3_aff-clus-cosine_link-average_min-samples-30_metric-r-cosine_metric-c-euclidean_out-metric-euclidean_nb_clusters-36.npy',\n",
    " '/neurospin/unicog/protocols/IRMf/LePetitPrince_Pallier_2018/LePetitPrince/derivatives/fMRI/clustering/bert-base-cased_pre-7_1_post-0_norm-None_norm-inf/data-attention_head_umap_hdbscan/labels/all-subjects_red-umap_clust-hdbscan_min-c-size-1800_n-neigh-4_n-comp-3_aff-clus-cosine_link-average_min-samples-20_metric-r-cosine_metric-c-euclidean_out-metric-euclidean_nb_clusters-36.npy',\n",
    " '/neurospin/unicog/protocols/IRMf/LePetitPrince_Pallier_2018/LePetitPrince/derivatives/fMRI/clustering/bert-base-cased_pre-7_1_post-0_norm-None_norm-inf/data-attention_head_umap_hdbscan/labels/all-subjects_red-umap_clust-hdbscan_min-c-size-1800_n-neigh-4_n-comp-3_aff-clus-cosine_link-average_min-samples-23_metric-r-cosine_metric-c-euclidean_out-metric-euclidean_nb_clusters-34.npy',\n",
    " '/neurospin/unicog/protocols/IRMf/LePetitPrince_Pallier_2018/LePetitPrince/derivatives/fMRI/clustering/bert-base-cased_pre-7_1_post-0_norm-None_norm-inf/data-attention_head_umap_hdbscan/labels/all-subjects_red-umap_clust-hdbscan_min-c-size-1800_n-neigh-4_n-comp-3_aff-clus-cosine_link-average_min-samples-25_metric-r-cosine_metric-c-euclidean_out-metric-euclidean_nb_clusters-35.npy',\n",
    " '/neurospin/unicog/protocols/IRMf/LePetitPrince_Pallier_2018/LePetitPrince/derivatives/fMRI/clustering/bert-base-cased_pre-7_1_post-0_norm-None_norm-inf/data-attention_head_umap_hdbscan/labels/all-subjects_red-umap_clust-hdbscan_min-c-size-1800_n-neigh-4_n-comp-3_aff-clus-cosine_link-average_min-samples-27_metric-r-cosine_metric-c-euclidean_out-metric-euclidean_nb_clusters-27.npy',\n",
    " '/neurospin/unicog/protocols/IRMf/LePetitPrince_Pallier_2018/LePetitPrince/derivatives/fMRI/clustering/bert-base-cased_pre-7_1_post-0_norm-None_norm-inf/data-attention_head_umap_hdbscan/labels/all-subjects_red-umap_clust-hdbscan_min-c-size-1800_n-neigh-4_n-comp-3_aff-clus-cosine_link-average_min-samples-30_metric-r-cosine_metric-c-euclidean_out-metric-euclidean_nb_clusters-36.npy',\n",
    " '/neurospin/unicog/protocols/IRMf/LePetitPrince_Pallier_2018/LePetitPrince/derivatives/fMRI/clustering/bert-base-cased_pre-7_1_post-0_norm-None_norm-inf/data-attention_head_umap_hdbscan/labels/all-subjects_red-umap_clust-hdbscan_min-c-size-1830_n-neigh-4_n-comp-3_aff-clus-cosine_link-average_min-samples-20_metric-r-cosine_metric-c-euclidean_out-metric-euclidean_nb_clusters-34.npy',\n",
    " '/neurospin/unicog/protocols/IRMf/LePetitPrince_Pallier_2018/LePetitPrince/derivatives/fMRI/clustering/bert-base-cased_pre-7_1_post-0_norm-None_norm-inf/data-attention_head_umap_hdbscan/labels/all-subjects_red-umap_clust-hdbscan_min-c-size-1830_n-neigh-4_n-comp-3_aff-clus-cosine_link-average_min-samples-23_metric-r-cosine_metric-c-euclidean_out-metric-euclidean_nb_clusters-33.npy',\n",
    " '/neurospin/unicog/protocols/IRMf/LePetitPrince_Pallier_2018/LePetitPrince/derivatives/fMRI/clustering/bert-base-cased_pre-7_1_post-0_norm-None_norm-inf/data-attention_head_umap_hdbscan/labels/all-subjects_red-umap_clust-hdbscan_min-c-size-1830_n-neigh-4_n-comp-3_aff-clus-cosine_link-average_min-samples-25_metric-r-cosine_metric-c-euclidean_out-metric-euclidean_nb_clusters-35.npy',\n",
    " '/neurospin/unicog/protocols/IRMf/LePetitPrince_Pallier_2018/LePetitPrince/derivatives/fMRI/clustering/bert-base-cased_pre-7_1_post-0_norm-None_norm-inf/data-attention_head_umap_hdbscan/labels/all-subjects_red-umap_clust-hdbscan_min-c-size-1830_n-neigh-4_n-comp-3_aff-clus-cosine_link-average_min-samples-27_metric-r-cosine_metric-c-euclidean_out-metric-euclidean_nb_clusters-26.npy',\n",
    " '/neurospin/unicog/protocols/IRMf/LePetitPrince_Pallier_2018/LePetitPrince/derivatives/fMRI/clustering/bert-base-cased_pre-7_1_post-0_norm-None_norm-inf/data-attention_head_umap_hdbscan/labels/all-subjects_red-umap_clust-hdbscan_min-c-size-1850_n-neigh-4_n-comp-3_aff-clus-cosine_link-average_min-samples-20_metric-r-cosine_metric-c-euclidean_out-metric-euclidean_nb_clusters-33.npy',\n",
    " '/neurospin/unicog/protocols/IRMf/LePetitPrince_Pallier_2018/LePetitPrince/derivatives/fMRI/clustering/bert-base-cased_pre-7_1_post-0_norm-None_norm-inf/data-attention_head_umap_hdbscan/labels/all-subjects_red-umap_clust-hdbscan_min-c-size-1850_n-neigh-4_n-comp-3_aff-clus-cosine_link-average_min-samples-27_metric-r-cosine_metric-c-euclidean_out-metric-euclidean_nb_clusters-26.npy',\n",
    " '/neurospin/unicog/protocols/IRMf/LePetitPrince_Pallier_2018/LePetitPrince/derivatives/fMRI/clustering/gpt2_pre-20_1_norm-inf_norm-inf/data-average_umap_hdbscan/labels/all-subjects_red-umap_clust-hdbscan_min-c-size-550_n-neigh-5_n-comp-3_aff-clus-cosine_link-average_min-samples-8_metric-r-cosine_metric-c-euclidean_out-metric-euclidean_nb_clusters-20.npy',\n",
    " '/neurospin/unicog/protocols/IRMf/LePetitPrince_Pallier_2018/LePetitPrince/derivatives/fMRI/clustering/gpt2_pre-20_1_norm-inf_norm-inf/data-average_umap_hdbscan/labels/all-subjects_red-umap_clust-hdbscan_min-c-size-600_n-neigh-5_n-comp-3_aff-clus-cosine_link-average_min-samples-8_metric-r-cosine_metric-c-euclidean_out-metric-euclidean_nb_clusters-18.npy',\n",
    " '/neurospin/unicog/protocols/IRMf/LePetitPrince_Pallier_2018/LePetitPrince/derivatives/fMRI/clustering/gpt2_pre-20_1_norm-inf_norm-inf/data-average_umap_hdbscan/labels/all-subjects_red-umap_clust-hdbscan_min-c-size-650_n-neigh-5_n-comp-3_aff-clus-cosine_link-average_min-samples-8_metric-r-cosine_metric-c-euclidean_out-metric-euclidean_nb_clusters-15.npy',\n",
    " '/neurospin/unicog/protocols/IRMf/LePetitPrince_Pallier_2018/LePetitPrince/derivatives/fMRI/clustering/gpt2_pre-20_1_norm-inf_norm-inf/data-average_umap_hdbscan/labels/all-subjects_red-umap_clust-hdbscan_min-c-size-800_n-neigh-5_n-comp-3_aff-clus-cosine_link-average_min-samples-12_metric-r-cosine_metric-c-euclidean_out-metric-euclidean_nb_clusters-15.npy',\n",
    " '/neurospin/unicog/protocols/IRMf/LePetitPrince_Pallier_2018/LePetitPrince/derivatives/fMRI/clustering/gpt2_pre-20_1_norm-inf_norm-inf/data-average_umap_hdbscan/labels/all-subjects_red-umap_clust-hdbscan_min-c-size-800_n-neigh-5_n-comp-3_aff-clus-cosine_link-average_min-samples-3_metric-r-cosine_metric-c-euclidean_out-metric-euclidean_nb_clusters-16.npy',\n",
    " '/neurospin/unicog/protocols/IRMf/LePetitPrince_Pallier_2018/LePetitPrince/derivatives/fMRI/clustering/gpt2_pre-20_1_norm-inf_norm-inf/data-average_umap_hdbscan/labels/all-subjects_red-umap_clust-hdbscan_min-c-size-850_n-neigh-5_n-comp-3_aff-clus-cosine_link-average_min-samples-3_metric-r-cosine_metric-c-euclidean_out-metric-euclidean_nb_clusters-16.npy',\n",
    " '/neurospin/unicog/protocols/IRMf/LePetitPrince_Pallier_2018/LePetitPrince/derivatives/fMRI/clustering/gpt2_pre-20_1_norm-inf_norm-inf/data-average_umap_hdbscan/labels/all-subjects_red-umap_clust-hdbscan_min-c-size-900_n-neigh-5_n-comp-3_aff-clus-cosine_link-average_min-samples-3_metric-r-cosine_metric-c-euclidean_out-metric-euclidean_nb_clusters-15.npy',\n",
    " '/neurospin/unicog/protocols/IRMf/LePetitPrince_Pallier_2018/LePetitPrince/derivatives/fMRI/clustering/gpt2_pre-20_1_norm-inf_norm-inf/data-attention_head_umap_hdbscan/labels/all-subjects_red-umap_clust-hdbscan_min-c-size-1700_n-neigh-5_n-comp-3_aff-clus-cosine_link-average_min-samples-10_metric-r-cosine_metric-c-euclidean_out-metric-euclidean_nb_clusters-24.npy',\n",
    " '/neurospin/unicog/protocols/IRMf/LePetitPrince_Pallier_2018/LePetitPrince/derivatives/fMRI/clustering/gpt2_pre-20_1_norm-inf_norm-inf/data-attention_head_umap_hdbscan/labels/all-subjects_red-umap_clust-hdbscan_min-c-size-1900_n-neigh-5_n-comp-3_aff-clus-cosine_link-average_min-samples-10_metric-r-cosine_metric-c-euclidean_out-metric-euclidean_nb_clusters-21.npy',\n",
    " '/neurospin/unicog/protocols/IRMf/LePetitPrince_Pallier_2018/LePetitPrince/derivatives/fMRI/clustering/data-pca_umap_hdbscan/labels/all-subjects_red-umap_clust-hdbscan_min-c-size-1550_n-neigh-5_n-comp-3_aff-clus-euclidean_link-ward_min-samples-20_metric-r-cosine_metric-c-euclidean_out-metric-euclidean_nb_clusters-7.npy',     \n",
    " '/neurospin/unicog/protocols/IRMf/LePetitPrince_Pallier_2018/LePetitPrince/derivatives/fMRI/clustering/data-pca_umap_hdbscan/labels/all-subjects_red-umap_clust-hdbscan_min-c-size-1550_n-neigh-5_n-comp-3_aff-clus-euclidean_link-ward_min-samples-10_metric-r-cosine_metric-c-euclidean_out-metric-euclidean_nb_clusters-9.npy',\n",
    " '/neurospin/unicog/protocols/IRMf/LePetitPrince_Pallier_2018/LePetitPrince/derivatives/fMRI/clustering/data-pca_umap_hdbscan/labels/all-subjects_red-umap_clust-hdbscan_min-c-size-650_n-neigh-3_n-comp-3_aff-clus-euclidean_link-ward_min-samples-3_metric-r-cosine_metric-c-euclidean_out-metric-euclidean_nb_clusters-60.npy',\n",
    " '/neurospin/unicog/protocols/IRMf/LePetitPrince_Pallier_2018/LePetitPrince/derivatives/fMRI/clustering/data-pca_umap_hdbscan/labels/all-subjects_red-umap_clust-hdbscan_min-c-size-650_n-neigh-3_n-comp-3_aff-clus-euclidean_link-ward_min-samples-2_metric-r-cosine_metric-c-euclidean_out-metric-euclidean_nb_clusters-65.npy',\n",
    "        ]\n"
   ]
  },
  {
   "cell_type": "code",
   "execution_count": null,
   "metadata": {},
   "outputs": [],
   "source": [
    "nb_voxels=data.shape[0]/len(subject_names_list)\n",
    "\n",
    "multi_plot(\n",
    "    paths, \n",
    "    saving_path=SAVING_FOLDER,\n",
    "    nb_subjects=len(subject_names_list),\n",
    "    nb_voxels=nb_voxels,\n",
    "    plot_name='', \n",
    "    new_masker=new_masker, \n",
    "    average_mask=average_mask,\n",
    "    return_plot=True, \n",
    "    **kwargs\n",
    "    )"
   ]
  },
  {
   "cell_type": "markdown",
   "metadata": {},
   "source": [
    "## Semantic clustering\n",
    "\n",
    "We cluster words based on their embedding, and apply the transformations learnt to the voxels of each subject independently."
   ]
  },
  {
   "cell_type": "code",
   "execution_count": null,
   "metadata": {},
   "outputs": [],
   "source": [
    "reporting.plot_semantic_clustering(\n",
    "    data_words_filtered,\n",
    "    path_to_data_template,\n",
    "    mask_template,\n",
    "    original_masker,\n",
    "    new_masker,\n",
    "    onsets_filtered,\n",
    "    subject_names_list,\n",
    "    subject_ids_list,\n",
    "    data_name='{}_attention-head'.format(model_name),\n",
    "    params=params,\n",
    "    saving_folder=SAVING_FOLDER,\n",
    "    n_neighbors_list=[3, 4, 5],\n",
    "    min_samples_list=[5, 8, 10, 12, 15, 17, 20, 23,  25, 27, 30],\n",
    "    min_cluster_size_list=[200, 300, 500, 550, 600, 650, 700, 750, 800, 850, 900, 950, 1000, 1100, 1200],\n",
    "    tmp_folder=TMP_FOLDER, \n",
    "    model_name=model_name,\n",
    "    aggregation_type='attention_head', # 'pca', 'layer'\n",
    "    return_plot=False,\n",
    "    standardize_beta_maps=True\n",
    "    **kwargs\n",
    "    )"
   ]
  },
  {
   "cell_type": "markdown",
   "metadata": {},
   "source": [
    "Have a look at scatter text plots that are saved in 'SAVING_FOLDER' (they are too heavy to display, ~10MB each)."
   ]
  },
  {
   "cell_type": "code",
   "execution_count": null,
   "metadata": {},
   "outputs": [],
   "source": [
    "d = extract_clusters(labels_, onsets[mask])"
   ]
  }
 ],
 "metadata": {
  "kernelspec": {
   "display_name": "Python 3",
   "language": "python",
   "name": "python3"
  },
  "language_info": {
   "codemirror_mode": {
    "name": "ipython",
    "version": 3
   },
   "file_extension": ".py",
   "mimetype": "text/x-python",
   "name": "python",
   "nbconvert_exporter": "python",
   "pygments_lexer": "ipython3",
   "version": "3.7.7"
  }
 },
 "nbformat": 4,
 "nbformat_minor": 2
}
