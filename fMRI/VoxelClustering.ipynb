{
 "cells": [
  {
   "cell_type": "markdown",
   "metadata": {},
   "source": [
    "# Notebook for brain voxels clustering"
   ]
  },
  {
   "cell_type": "markdown",
   "metadata": {},
   "source": [
    "In this notebook we try to investigate networks of voxels in the brain when processing natural language and their potential meaning.\n",
    "To do so, two approaches were considered:\n",
    "    - fonctional clustering\n",
    "    - semantic clustering"
   ]
  },
  {
   "cell_type": "code",
   "execution_count": 2,
   "metadata": {},
   "outputs": [],
   "source": [
    "import warnings\n",
    "warnings.simplefilter(action='ignore')\n",
    "\n",
    "import os\n",
    "import gc\n",
    "import glob\n",
    "import itertools\n",
    "from tqdm import tqdm\n",
    "from itertools import combinations\n",
    "from joblib import Parallel, delayed\n",
    "\n",
    "import umap\n",
    "import scipy\n",
    "import hdbscan\n",
    "import nistats\n",
    "import numpy as np\n",
    "import pandas as pd\n",
    "from sklearn import manifold\n",
    "from sklearn.decomposition import PCA, FastICA\n",
    "from sklearn.neighbors import kneighbors_graph\n",
    "from sklearn.preprocessing import StandardScaler\n",
    "from sklearn.manifold import LocallyLinearEmbedding\n",
    "from sklearn.cluster import AgglomerativeClustering, KMeans\n",
    "\n",
    "%matplotlib inline\n",
    "import matplotlib\n",
    "import seaborn as sns\n",
    "import matplotlib.cm as cmx\n",
    "import matplotlib.pyplot as plt\n",
    "from mpl_toolkits.mplot3d import Axes3D\n",
    "\n",
    "import nibabel as nib\n",
    "import nilearn\n",
    "from nilearn.image import load_img, mean_img, index_img, threshold_img, math_img, smooth_img, new_img_like\n",
    "from nilearn.input_data import NiftiMapsMasker, NiftiMasker, NiftiLabelsMasker, MultiNiftiMasker\n",
    "from nistats.second_level_model import SecondLevelModel\n",
    "from nistats.thresholding import map_threshold\n",
    "from nilearn import plotting\n",
    "from nilearn import datasets\n",
    "from scipy.stats import norm\n",
    "from nilearn.surface import vol_to_surf\n",
    "\n",
    "import utils \n",
    "import reporting\n",
    "from logger import Logger\n",
    "from linguistics_info import load_surnames, load_syntactic_roi, load_language_roi"
   ]
  },
  {
   "cell_type": "markdown",
   "metadata": {},
   "source": [
    "### Paths"
   ]
  },
  {
   "cell_type": "code",
   "execution_count": 19,
   "metadata": {},
   "outputs": [],
   "source": [
    "language = 'english'\n",
    "model_name = 'bert-base-uncased_pre-1_1_post-0_norm-None'"
   ]
  },
  {
   "cell_type": "code",
   "execution_count": 4,
   "metadata": {},
   "outputs": [],
   "source": [
    "PROJECT_PATH = f\"/neurospin/unicog/protocols/IRMf/LePetitPrince_Pallier_2018/LePetitPrince/\"\n",
    "OUTPUT_PATH = f\"/neurospin/unicog/protocols/IRMf/LePetitPrince_Pallier_2018/LePetitPrince/derivatives/fMRI/maps/{language}\"\n",
    "INPUT_PATH = f\"/neurospin/unicog/protocols/IRMf/LePetitPrince_Pallier_2018/LePetitPrince/data/stimuli-representations/{language}\"\n",
    "FMRIDATA_PATH = f\"/neurospin/unicog/protocols/IRMf/LePetitPrince_Pallier_2018/LePetitPrince/data/fMRI/{language}\"\n",
    "MASKER_PATH = f\"/neurospin/unicog/protocols/IRMf/LePetitPrince_Pallier_2018/LePetitPrince/derivatives/fMRI/ROI_masks/global_masker_95%_{language}\"\n",
    "ALL_MASKS_PATH = f\"/neurospin/unicog/protocols/IRMf/LePetitPrince_Pallier_2018/LePetitPrince/derivatives/fMRI/ROI_masks/\"\n",
    "SAVING_FOLDER = f\"/neurospin/unicog/protocols/IRMf/LePetitPrince_Pallier_2018/LePetitPrince/derivatives/fMRI/clustering/{language}\"\n",
    "TMP_FOLDER = f\"/home/ap259944/tmp\""
   ]
  },
  {
   "cell_type": "markdown",
   "metadata": {},
   "source": [
    "### Maskers"
   ]
  },
  {
   "cell_type": "code",
   "execution_count": 5,
   "metadata": {},
   "outputs": [
    {
     "data": {
      "text/plain": [
       "NiftiMasker(detrend=False, dtype=None, high_pass=None, low_pass=None,\n",
       "            mask_args=None,\n",
       "            mask_img=<nibabel.nifti1.Nifti1Image object at 0x7fb2d935fa00>,\n",
       "            mask_strategy='background', memory=Memory(location=None),\n",
       "            memory_level=0, reports=True, sample_mask=None, sessions=None,\n",
       "            smoothing_fwhm=None, standardize=False, t_r=None,\n",
       "            target_affine=None, target_shape=None, verbose=0)"
      ]
     },
     "execution_count": 5,
     "metadata": {},
     "output_type": "execute_result"
    }
   ],
   "source": [
    "logger = Logger(os.path.join(PROJECT_PATH, 'logs.txt'))\n",
    "\n",
    "global_masker_50 = reporting.fetch_masker(f\"{ALL_MASKS_PATH}/global_masker_{language}\"\n",
    ", language, FMRIDATA_PATH, INPUT_PATH, smoothing_fwhm=None, logger=logger)\n",
    "global_masker_95 = reporting.fetch_masker(f\"{ALL_MASKS_PATH}/global_masker_95%_{language}\"\n",
    ", language, FMRIDATA_PATH, INPUT_PATH, smoothing_fwhm=None, logger=logger)\n",
    "\n",
    "\n",
    "original_masker = global_masker_50\n",
    "new_masker = global_masker_95\n",
    "original_masker.set_params(detrend=False, standardize=False)\n",
    "new_masker.set_params(detrend=False, standardize=False)\n"
   ]
  },
  {
   "cell_type": "markdown",
   "metadata": {},
   "source": [
    "### Atlas"
   ]
  },
  {
   "cell_type": "code",
   "execution_count": 6,
   "metadata": {},
   "outputs": [],
   "source": [
    "atlas_maps, labels = reporting.load_atlas() # load harvard-oxford atlas named'cort-prob-2mm'"
   ]
  },
  {
   "cell_type": "markdown",
   "metadata": {},
   "source": [
    "### Additional parameters"
   ]
  },
  {
   "cell_type": "code",
   "execution_count": 7,
   "metadata": {},
   "outputs": [],
   "source": [
    "params = {\n",
    "        'reduction':'umap', \n",
    "        'clustering':'hdbscan', \n",
    "        'min_cluster_size':50, \n",
    "        'min_samples':10, \n",
    "        'n_neighbors':4, \n",
    "        'min_dist':0.0, \n",
    "        'n_components':7, \n",
    "        'n_clusters':13, \n",
    "        'random_state':1111, \n",
    "        'cluster_selection_epsilon':0.5, \n",
    "        'affinity_reduc' : 'nearest_neighbors',\n",
    "        'affinity_cluster':'cosine', \n",
    "        'linkage':'average',\n",
    "        'saving_folder': None,\n",
    "        'plot_name': None\n",
    "}"
   ]
  },
  {
   "cell_type": "code",
   "execution_count": 8,
   "metadata": {},
   "outputs": [],
   "source": [
    "view = 'left' #left\n",
    "kwargs = {\n",
    "    'surf_mesh': f'pial_{view}', # pial_right, infl_left, infl_right\n",
    "    'surf_mesh_type': f'pial_{view}',\n",
    "    'hemi': view, # right\n",
    "    'view':'lateral', # medial\n",
    "    'bg_map': f'sulc_{view}', # sulc_right\n",
    "    'bg_on_data':True,\n",
    "    'darkness':.8,\n",
    "    'axes':None, \n",
    "    'figure':None\n",
    "}"
   ]
  },
  {
   "cell_type": "markdown",
   "metadata": {},
   "source": [
    "### Subjects"
   ]
  },
  {
   "cell_type": "code",
   "execution_count": 9,
   "metadata": {},
   "outputs": [],
   "source": [
    "subject_names_list = [utils.get_subject_name(sub_id) for sub_id in utils.possible_subjects_id(language)]\n",
    "subject_ids_list = utils.possible_subjects_id(language)\n",
    "\n",
    "# UMAP behave strangly when directly apply to the fMRI data of the following subjects, I don't know why. \n",
    "# But we still includ them in the study.\n",
    "\n",
    "black_list_index = [10, 14, 16, 26, 31, 43]\n",
    "clean_mask = np.ones(len(subject_names_list))\n",
    "clean_mask[black_list_index] = 0\n",
    "clean_mask = clean_mask.astype(bool)\n",
    "clean_subjects = np.array(subject_names_list)[clean_mask]"
   ]
  },
  {
   "cell_type": "code",
   "execution_count": 20,
   "metadata": {},
   "outputs": [],
   "source": [
    "path_to_data_template = \"/neurospin/unicog/protocols/IRMf/LePetitPrince_Pallier_2018/LePetitPrince/derivatives/fMRI/maps/english/{subject_name}/bert-base-uncased_pre-1_1_post-0_norm-None_norm-inf_temporal-shifting-0_{subject_id}_hidden-all-layers/{subject_name}_bert-base-uncased_pre-1_1_post-0_norm-None_norm-inf_temporal-shifting-0_{subject_id}_hidden-all-layers_coef_.npy\"\n",
    "mask_template = \"/neurospin/unicog/protocols/IRMf/LePetitPrince_Pallier_2018/LePetitPrince/derivatives/fMRI/maps/english/{subject_name}/bert-base-uncased_pre-1_1_post-0_norm-None_norm-inf_temporal-shifting-0_{subject_id}_hidden-all-layers/{subject_name}_bert-base-uncased_pre-1_1_post-0_norm-None_norm-inf_temporal-shifting-0_{subject_id}_hidden-all-layers_Pearson_coeff.nii.gz\"\n"
   ]
  },
  {
   "cell_type": "markdown",
   "metadata": {},
   "source": [
    "### Words data"
   ]
  },
  {
   "cell_type": "markdown",
   "metadata": {},
   "source": [
    "In the following cell you can specify the words that you don't want to keep in the clustering analysis."
   ]
  },
  {
   "cell_type": "code",
   "execution_count": 21,
   "metadata": {},
   "outputs": [],
   "source": [
    "filtered_words = [\n",
    "    'a', \n",
    "    's',\n",
    "    'the', \n",
    "    'he', \n",
    "    'she', \n",
    "    'I', \n",
    "    'i', \n",
    "    'my', \n",
    "    'me', \n",
    "    '\"', \n",
    "    ',', \n",
    "    '.', \n",
    "    '!', \n",
    "    'that', \n",
    "    'they',\n",
    "    'this', \n",
    "    'them', \n",
    "    'and', \n",
    "    'you',\n",
    "    'it',\n",
    "    '“', \n",
    "    '”',\n",
    "    '‘', \n",
    "    '’'\n",
    "]"
   ]
  },
  {
   "cell_type": "code",
   "execution_count": 22,
   "metadata": {},
   "outputs": [],
   "source": [
    "# Fetching words\n",
    "onsets = [pd.read_csv(os.path.join(PROJECT_PATH, 'data', 'onsets-offsets', language, 'word+punctuation_run{index}.csv'.format(index=index))) for index in range(1, 10)]\n",
    "onsets = [item['word'].values for item in onsets]\n",
    "onsets = np.hstack(onsets)\n"
   ]
  },
  {
   "cell_type": "code",
   "execution_count": 23,
   "metadata": {},
   "outputs": [],
   "source": [
    "# Fetching model activations\n",
    "all_data = [pd.read_csv(os.path.join(INPUT_PATH, model_name, 'activations_run{index}.csv'.format(index=index))) for index in range(1, 10)]\n"
   ]
  },
  {
   "cell_type": "code",
   "execution_count": 38,
   "metadata": {},
   "outputs": [],
   "source": [
    "data_array_1 = [[data_tmp.values[:, 768*index:768*(index+1)] for index in range(13)] for data_tmp in all_data] # only keep hidden states\n",
    "data_array_2 = [np.vstack(item) for item in data_array_1]\n",
    "data_array = np.vstack(data_array_2)\n",
    "\n",
    "# see LayerWiseAnalysis\n",
    "aggregation_type = 'pca' # 'pca', 'layer', 'attention_head'\n",
    "data_agg = reporting.aggregate_beta_maps(\n",
    "    np.vstack(data_array),\n",
    "    nb_layers=13, \n",
    "    layer_size=768, \n",
    "    aggregation_type=aggregation_type,\n",
    "    n_components=50\n",
    ")"
   ]
  },
  {
   "cell_type": "code",
   "execution_count": 90,
   "metadata": {
    "scrolled": true
   },
   "outputs": [
    {
     "ename": "ValueError",
     "evalue": "Found array with 0 feature(s) (shape=(25792, 0)) while a minimum of 1 is required.",
     "output_type": "error",
     "traceback": [
      "\u001b[0;31m---------------------------------------------------------------------------\u001b[0m",
      "\u001b[0;31mValueError\u001b[0m                                Traceback (most recent call last)",
      "\u001b[0;32m<ipython-input-90-2820435246df>\u001b[0m in \u001b[0;36m<module>\u001b[0;34m\u001b[0m\n\u001b[1;32m     17\u001b[0m ).fit(data_array[:1984*13, window_size*window_index:(1+window_index)*window_size]) for window_index in range(12)]\n\u001b[1;32m     18\u001b[0m \u001b[0;34m\u001b[0m\u001b[0m\n\u001b[0;32m---> 19\u001b[0;31m \u001b[0mdata_reduced\u001b[0m \u001b[0;34m=\u001b[0m \u001b[0;34m[\u001b[0m\u001b[0mmapper\u001b[0m\u001b[0;34m.\u001b[0m\u001b[0mtransform\u001b[0m\u001b[0;34m(\u001b[0m\u001b[0mdata_array\u001b[0m\u001b[0;34m[\u001b[0m\u001b[0;34m:\u001b[0m\u001b[0;36m1984\u001b[0m\u001b[0;34m*\u001b[0m\u001b[0;36m13\u001b[0m\u001b[0;34m,\u001b[0m \u001b[0mwindow_size\u001b[0m\u001b[0;34m*\u001b[0m\u001b[0mwindow_index\u001b[0m\u001b[0;34m:\u001b[0m\u001b[0;34m(\u001b[0m\u001b[0;36m1\u001b[0m\u001b[0;34m+\u001b[0m\u001b[0mwindow_size\u001b[0m\u001b[0;34m)\u001b[0m\u001b[0;34m*\u001b[0m\u001b[0mwindow_index\u001b[0m\u001b[0;34m]\u001b[0m\u001b[0;34m)\u001b[0m \u001b[0;32mfor\u001b[0m \u001b[0mwindow_index\u001b[0m\u001b[0;34m,\u001b[0m \u001b[0mmapper\u001b[0m \u001b[0;32min\u001b[0m \u001b[0menumerate\u001b[0m\u001b[0;34m(\u001b[0m\u001b[0mumpa_set\u001b[0m\u001b[0;34m)\u001b[0m\u001b[0;34m]\u001b[0m\u001b[0;34m\u001b[0m\u001b[0;34m\u001b[0m\u001b[0m\n\u001b[0m",
      "\u001b[0;32m<ipython-input-90-2820435246df>\u001b[0m in \u001b[0;36m<listcomp>\u001b[0;34m(.0)\u001b[0m\n\u001b[1;32m     17\u001b[0m ).fit(data_array[:1984*13, window_size*window_index:(1+window_index)*window_size]) for window_index in range(12)]\n\u001b[1;32m     18\u001b[0m \u001b[0;34m\u001b[0m\u001b[0m\n\u001b[0;32m---> 19\u001b[0;31m \u001b[0mdata_reduced\u001b[0m \u001b[0;34m=\u001b[0m \u001b[0;34m[\u001b[0m\u001b[0mmapper\u001b[0m\u001b[0;34m.\u001b[0m\u001b[0mtransform\u001b[0m\u001b[0;34m(\u001b[0m\u001b[0mdata_array\u001b[0m\u001b[0;34m[\u001b[0m\u001b[0;34m:\u001b[0m\u001b[0;36m1984\u001b[0m\u001b[0;34m*\u001b[0m\u001b[0;36m13\u001b[0m\u001b[0;34m,\u001b[0m \u001b[0mwindow_size\u001b[0m\u001b[0;34m*\u001b[0m\u001b[0mwindow_index\u001b[0m\u001b[0;34m:\u001b[0m\u001b[0;34m(\u001b[0m\u001b[0;36m1\u001b[0m\u001b[0;34m+\u001b[0m\u001b[0mwindow_size\u001b[0m\u001b[0;34m)\u001b[0m\u001b[0;34m*\u001b[0m\u001b[0mwindow_index\u001b[0m\u001b[0;34m]\u001b[0m\u001b[0;34m)\u001b[0m \u001b[0;32mfor\u001b[0m \u001b[0mwindow_index\u001b[0m\u001b[0;34m,\u001b[0m \u001b[0mmapper\u001b[0m \u001b[0;32min\u001b[0m \u001b[0menumerate\u001b[0m\u001b[0;34m(\u001b[0m\u001b[0mumpa_set\u001b[0m\u001b[0;34m)\u001b[0m\u001b[0;34m]\u001b[0m\u001b[0;34m\u001b[0m\u001b[0;34m\u001b[0m\u001b[0m\n\u001b[0m",
      "\u001b[0;32m~/anaconda3/lib/python3.8/site-packages/umap/umap_.py\u001b[0m in \u001b[0;36mtransform\u001b[0;34m(self, X)\u001b[0m\n\u001b[1;32m   2035\u001b[0m             )\n\u001b[1;32m   2036\u001b[0m         \u001b[0;31m# If we just have the original input then short circuit things\u001b[0m\u001b[0;34m\u001b[0m\u001b[0;34m\u001b[0m\u001b[0;34m\u001b[0m\u001b[0m\n\u001b[0;32m-> 2037\u001b[0;31m         \u001b[0mX\u001b[0m \u001b[0;34m=\u001b[0m \u001b[0mcheck_array\u001b[0m\u001b[0;34m(\u001b[0m\u001b[0mX\u001b[0m\u001b[0;34m,\u001b[0m \u001b[0mdtype\u001b[0m\u001b[0;34m=\u001b[0m\u001b[0mnp\u001b[0m\u001b[0;34m.\u001b[0m\u001b[0mfloat32\u001b[0m\u001b[0;34m,\u001b[0m \u001b[0maccept_sparse\u001b[0m\u001b[0;34m=\u001b[0m\u001b[0;34m\"csr\"\u001b[0m\u001b[0;34m,\u001b[0m \u001b[0morder\u001b[0m\u001b[0;34m=\u001b[0m\u001b[0;34m\"C\"\u001b[0m\u001b[0;34m)\u001b[0m\u001b[0;34m\u001b[0m\u001b[0;34m\u001b[0m\u001b[0m\n\u001b[0m\u001b[1;32m   2038\u001b[0m         \u001b[0mx_hash\u001b[0m \u001b[0;34m=\u001b[0m \u001b[0mjoblib\u001b[0m\u001b[0;34m.\u001b[0m\u001b[0mhash\u001b[0m\u001b[0;34m(\u001b[0m\u001b[0mX\u001b[0m\u001b[0;34m)\u001b[0m\u001b[0;34m\u001b[0m\u001b[0;34m\u001b[0m\u001b[0m\n\u001b[1;32m   2039\u001b[0m         \u001b[0;32mif\u001b[0m \u001b[0mx_hash\u001b[0m \u001b[0;34m==\u001b[0m \u001b[0mself\u001b[0m\u001b[0;34m.\u001b[0m\u001b[0m_input_hash\u001b[0m\u001b[0;34m:\u001b[0m\u001b[0;34m\u001b[0m\u001b[0;34m\u001b[0m\u001b[0m\n",
      "\u001b[0;32m~/anaconda3/lib/python3.8/site-packages/sklearn/utils/validation.py\u001b[0m in \u001b[0;36mcheck_array\u001b[0;34m(array, accept_sparse, accept_large_sparse, dtype, order, copy, force_all_finite, ensure_2d, allow_nd, ensure_min_samples, ensure_min_features, warn_on_dtype, estimator)\u001b[0m\n\u001b[1;32m    553\u001b[0m         \u001b[0mn_features\u001b[0m \u001b[0;34m=\u001b[0m \u001b[0marray\u001b[0m\u001b[0;34m.\u001b[0m\u001b[0mshape\u001b[0m\u001b[0;34m[\u001b[0m\u001b[0;36m1\u001b[0m\u001b[0;34m]\u001b[0m\u001b[0;34m\u001b[0m\u001b[0;34m\u001b[0m\u001b[0m\n\u001b[1;32m    554\u001b[0m         \u001b[0;32mif\u001b[0m \u001b[0mn_features\u001b[0m \u001b[0;34m<\u001b[0m \u001b[0mensure_min_features\u001b[0m\u001b[0;34m:\u001b[0m\u001b[0;34m\u001b[0m\u001b[0;34m\u001b[0m\u001b[0m\n\u001b[0;32m--> 555\u001b[0;31m             raise ValueError(\"Found array with %d feature(s) (shape=%s) while\"\n\u001b[0m\u001b[1;32m    556\u001b[0m                              \u001b[0;34m\" a minimum of %d is required%s.\"\u001b[0m\u001b[0;34m\u001b[0m\u001b[0;34m\u001b[0m\u001b[0m\n\u001b[1;32m    557\u001b[0m                              % (n_features, array.shape, ensure_min_features,\n",
      "\u001b[0;31mValueError\u001b[0m: Found array with 0 feature(s) (shape=(25792, 0)) while a minimum of 1 is required."
     ]
    }
   ],
   "source": [
    "gc.collect()\n",
    "n_neighbors = 30\n",
    "min_dist = 0.0\n",
    "n_components = 2\n",
    "random_state = 1111\n",
    "metric_r = 'cosine'\n",
    "output_metric = 'euclidean'\n",
    "window_size = 64\n",
    "\n",
    "umpa_set = [umap.UMAP(\n",
    "    n_neighbors=n_neighbors, \n",
    "    min_dist=min_dist, \n",
    "    n_components=n_components, \n",
    "    random_state=random_state, \n",
    "    metric=metric_r, \n",
    "    output_metric=output_metric\n",
    ").fit(data_array[:1984*13, window_size*window_index:(1+window_index)*window_size]) for window_index in range(12)]\n",
    "\n"
   ]
  },
  {
   "cell_type": "code",
   "execution_count": 91,
   "metadata": {},
   "outputs": [],
   "source": [
    "data_reduced = [mapper.transform(data_array[:1984*13, window_size*window_index:(1+window_index)*window_size]) for window_index, mapper in enumerate(umpa_set)]\n"
   ]
  },
  {
   "cell_type": "code",
   "execution_count": 121,
   "metadata": {
    "scrolled": false
   },
   "outputs": [
    {
     "data": {
      "image/png": "[encoded data removed]",
      "text/plain": [
       "<Figure size 360x360 with 1 Axes>"
      ]
     },
     "metadata": {
      "needs_background": "light"
     },
     "output_type": "display_data"
    },
    {
     "data": {
      "image/png": "[encoded data removed]",
      "text/plain": [
       "<Figure size 360x360 with 1 Axes>"
      ]
     },
     "metadata": {
      "needs_background": "light"
     },
     "output_type": "display_data"
    },
    {
     "data": {
      "image/png": "[encoded data removed]",
      "text/plain": [
       "<Figure size 360x360 with 1 Axes>"
      ]
     },
     "metadata": {
      "needs_background": "light"
     },
     "output_type": "display_data"
    },
    {
     "data": {
      "image/png": "[encoded data removed]",
      "text/plain": [
       "<Figure size 360x360 with 1 Axes>"
      ]
     },
     "metadata": {
      "needs_background": "light"
     },
     "output_type": "display_data"
    },
    {
     "data": {
      "image/png": "[encoded data removed]",
      "text/plain": [
       "<Figure size 360x360 with 1 Axes>"
      ]
     },
     "metadata": {
      "needs_background": "light"
     },
     "output_type": "display_data"
    },
    {
     "data": {
      "image/png": "[encoded data removed]",
      "text/plain": [
       "<Figure size 360x360 with 1 Axes>"
      ]
     },
     "metadata": {
      "needs_background": "light"
     },
     "output_type": "display_data"
    },
    {
     "data": {
      "image/png": "[encoded data removed]",
      "text/plain": [
       "<Figure size 360x360 with 1 Axes>"
      ]
     },
     "metadata": {
      "needs_background": "light"
     },
     "output_type": "display_data"
    },
    {
     "data": {
      "image/png": "[encoded data removed]",
      "text/plain": [
       "<Figure size 360x360 with 1 Axes>"
      ]
     },
     "metadata": {
      "needs_background": "light"
     },
     "output_type": "display_data"
    },
    {
     "data": {
      "image/png": "[encoded data removed]",
      "text/plain": [
       "<Figure size 360x360 with 1 Axes>"
      ]
     },
     "metadata": {
      "needs_background": "light"
     },
     "output_type": "display_data"
    },
    {
     "data": {
      "image/png": "[encoded data removed]",
      "text/plain": [
       "<Figure size 360x360 with 1 Axes>"
      ]
     },
     "metadata": {
      "needs_background": "light"
     },
     "output_type": "display_data"
    },
    {
     "data": {
      "image/png": "[encoded data removed]",
      "text/plain": [
       "<Figure size 360x360 with 1 Axes>"
      ]
     },
     "metadata": {
      "needs_background": "light"
     },
     "output_type": "display_data"
    },
    {
     "data": {
      "image/png": "[encoded data removed]",
      "text/plain": [
       "<Figure size 360x360 with 1 Axes>"
      ]
     },
     "metadata": {
      "needs_background": "light"
     },
     "output_type": "display_data"
    },
    {
     "data": {
      "image/png": "[encoded data removed]",
      "text/plain": [
       "<Figure size 360x360 with 1 Axes>"
      ]
     },
     "metadata": {
      "needs_background": "light"
     },
     "output_type": "display_data"
    }
   ],
   "source": [
    "index = 0\n",
    "\n",
    "colorsMap='jet'\n",
    "cm = plt.get_cmap(colorsMap)\n",
    "cNorm = matplotlib.colors.Normalize(vmin=0, vmax=13)\n",
    "scalarMap = cmx.ScalarMappable(norm=cNorm, cmap=cm)\n",
    "for index in range(1):\n",
    "    for layer in range(13):\n",
    "        fig = plt.figure(figsize=(5, 5))\n",
    "        label = str(layer)\n",
    "\n",
    "        plt.plot(\n",
    "            [data_reduced[window_index][index + 768*layer, 0] for window_index in range(12)],\n",
    "            [data_reduced[window_index][index + 768*layer, 1] for window_index in range(12)],\n",
    "            #s=3,\n",
    "            '-o',\n",
    "            c=scalarMap.to_rgba(layer),\n",
    "            label=label,\n",
    "            #cmap='Spectral'\n",
    "                   )\n",
    "        plt.title('point: {}'.format(index))\n",
    "        plt.legend()\n",
    "        plt.show()\n",
    "        plt.close('all')"
   ]
  },
  {
   "cell_type": "code",
   "execution_count": 118,
   "metadata": {},
   "outputs": [
    {
     "name": "stdout",
     "output_type": "stream",
     "text": [
      "35.26861882591183\n",
      "45.966263823168\n",
      "33.73412571483784\n"
     ]
    }
   ],
   "source": [
    "def f(index_point):\n",
    "    return np.stack([np.stack([[data_reduced[window_index][index_point + 768*layer, 0] for window_index in range(12)], [data_reduced[window_index][index_point + 768*layer, 1] for window_index in range(12)]])\n",
    "for layer in range(13)])\n",
    "\n",
    "\n",
    "a = _umeyama(f(0)[0, :, :], f(0)[1, :, :], False)\n",
    "b = _umeyama(f(1)[0, :, :], f(1)[1, :, :], False)\n",
    "c = _umeyama(f(2)[0, :, :], f(2)[1, :, :], False)\n",
    "\n",
    "print(np.linalg.norm(a-b))\n",
    "print(np.linalg.norm(a-c))\n",
    "print(np.linalg.norm(c-b))"
   ]
  },
  {
   "cell_type": "code",
   "execution_count": 99,
   "metadata": {},
   "outputs": [],
   "source": [
    "def _umeyama(src, dst, estimate_scale):\n",
    "    \"\"\"Estimate N-D similarity transformation with or without scaling.\n",
    "    Parameters\n",
    "    ----------\n",
    "    src : (M, N) array\n",
    "        Source coordinates.\n",
    "    dst : (M, N) array\n",
    "        Destination coordinates.\n",
    "    estimate_scale : bool\n",
    "        Whether to estimate scaling factor.\n",
    "    Returns\n",
    "    -------\n",
    "    T : (N + 1, N + 1)\n",
    "        The homogeneous similarity transformation matrix. The matrix contains\n",
    "        NaN values only if the problem is not well-conditioned.\n",
    "    References\n",
    "    ----------\n",
    "    .. [1] \"Least-squares estimation of transformation parameters between two\n",
    "            point patterns\", Shinji Umeyama, PAMI 1991, :DOI:`10.1109/34.88573`\n",
    "    \"\"\"\n",
    "\n",
    "    num = src.shape[0]\n",
    "    dim = src.shape[1]\n",
    "\n",
    "    # Compute mean of src and dst.\n",
    "    src_mean = src.mean(axis=0)\n",
    "    dst_mean = dst.mean(axis=0)\n",
    "\n",
    "    # Subtract mean from src and dst.\n",
    "    src_demean = src - src_mean\n",
    "    dst_demean = dst - dst_mean\n",
    "\n",
    "    # Eq. (38).\n",
    "    A = dst_demean.T @ src_demean / num\n",
    "\n",
    "    # Eq. (39).\n",
    "    d = np.ones((dim,), dtype=np.double)\n",
    "    if np.linalg.det(A) < 0:\n",
    "        d[dim - 1] = -1\n",
    "\n",
    "    T = np.eye(dim + 1, dtype=np.double)\n",
    "\n",
    "    U, S, V = np.linalg.svd(A)\n",
    "\n",
    "    # Eq. (40) and (43).\n",
    "    rank = np.linalg.matrix_rank(A)\n",
    "    if rank == 0:\n",
    "        return np.nan * T\n",
    "    elif rank == dim - 1:\n",
    "        if np.linalg.det(U) * np.linalg.det(V) > 0:\n",
    "            T[:dim, :dim] = U @ V\n",
    "        else:\n",
    "            s = d[dim - 1]\n",
    "            d[dim - 1] = -1\n",
    "            T[:dim, :dim] = U @ np.diag(d) @ V\n",
    "            d[dim - 1] = s\n",
    "    else:\n",
    "        T[:dim, :dim] = U @ np.diag(d) @ V\n",
    "\n",
    "    if estimate_scale:\n",
    "        # Eq. (41) and (42).\n",
    "        scale = 1.0 / src_demean.var(axis=0).sum() * (S @ d)\n",
    "    else:\n",
    "        scale = 1.0\n",
    "\n",
    "    T[:dim, dim] = dst_mean - scale * (T[:dim, :dim] @ src_mean.T)\n",
    "    T[:dim, :dim] *= scale\n",
    "\n",
    "    return T"
   ]
  },
  {
   "cell_type": "code",
   "execution_count": 13,
   "metadata": {},
   "outputs": [],
   "source": [
    "# Filtering words\n",
    "indexes = Parallel(n_jobs=-1)(delayed(reporting.extract_indexes)(onsets, item) for item in filtered_words) #returns a list of list of indexes\n",
    "mask = np.ones(onsets.shape)\n",
    "mask[np.hstack([item[0] for item in indexes])] = 0 #flatten 'indexes' object and put 0 at specified indexes values in the mask\n",
    "mask = mask.astype(bool)"
   ]
  },
  {
   "cell_type": "code",
   "execution_count": 14,
   "metadata": {},
   "outputs": [],
   "source": [
    "# Applying word mask\n",
    "data_words_filtered = data_agg[mask, :] # dimension: #words * #features\n",
    "onsets_filtered = onsets[mask]"
   ]
  },
  {
   "cell_type": "code",
   "execution_count": 17,
   "metadata": {},
   "outputs": [],
   "source": [
    "standardize_words_activations = True\n",
    "\n",
    "# standardize words activations if necessary\n",
    "if standardize_words_activations:\n",
    "    scaler = StandardScaler(with_mean=True, with_std=True)\n",
    "    data_words_filtered = scaler.fit_transform(data_words_filtered.T).T"
   ]
  },
  {
   "cell_type": "code",
   "execution_count": 12,
   "metadata": {},
   "outputs": [],
   "source": [
    "folder_words = os.path.join(SAVING_FOLDER, 'filtered_words_data', model_name)\n",
    "utils.check_folder(folder_words)"
   ]
  },
  {
   "cell_type": "code",
   "execution_count": 13,
   "metadata": {},
   "outputs": [],
   "source": [
    "data_words_filtered = np.load(os.path.join(folder_words, 'data_words_filtered.npy'))\n",
    "onsets_filtered = np.load(os.path.join(folder_words, 'onsets_filtered.npy'), allow_pickle=True)\n"
   ]
  },
  {
   "cell_type": "code",
   "execution_count": 23,
   "metadata": {},
   "outputs": [],
   "source": [
    "np.save(os.path.join(folder_words, 'data_words_filtered.npy'), data_words_filtered)\n",
    "np.save(os.path.join(folder_words, 'onsets_filtered.npy'), onsets_filtered)\n"
   ]
  },
  {
   "cell_type": "markdown",
   "metadata": {},
   "source": [
    "## Data preparation"
   ]
  },
  {
   "cell_type": "code",
   "execution_count": 11,
   "metadata": {},
   "outputs": [],
   "source": [
    "all_data_voxels = []\n",
    "all_masks = []\n",
    "aggregation_type = 'pca' # 'pca', 'layer', 'attention_head'\n",
    "n_components_beginning = 100"
   ]
  },
  {
   "cell_type": "code",
   "execution_count": 12,
   "metadata": {},
   "outputs": [
    {
     "name": "stderr",
     "output_type": "stream",
     "text": [
      "\r",
      "0it [00:00, ?it/s]"
     ]
    },
    {
     "name": "stdout",
     "output_type": "stream",
     "text": [
      "Original data has dimension:  (26164, 100)\n"
     ]
    },
    {
     "name": "stderr",
     "output_type": "stream",
     "text": [
      "\r",
      "1it [00:28, 28.51s/it]"
     ]
    },
    {
     "name": "stdout",
     "output_type": "stream",
     "text": [
      "New data has dimension:  (22378, 100)\n",
      "Original data has dimension:  (26164, 100)\n"
     ]
    },
    {
     "name": "stderr",
     "output_type": "stream",
     "text": [
      "\r",
      "2it [00:39, 23.23s/it]"
     ]
    },
    {
     "name": "stdout",
     "output_type": "stream",
     "text": [
      "New data has dimension:  (22378, 100)\n",
      "Original data has dimension:  (26164, 100)\n"
     ]
    },
    {
     "name": "stderr",
     "output_type": "stream",
     "text": [
      "\r",
      "3it [00:50, 19.45s/it]"
     ]
    },
    {
     "name": "stdout",
     "output_type": "stream",
     "text": [
      "New data has dimension:  (22378, 100)\n",
      "Original data has dimension:  (26164, 100)\n"
     ]
    },
    {
     "name": "stderr",
     "output_type": "stream",
     "text": [
      "\r",
      "4it [01:18, 22.08s/it]"
     ]
    },
    {
     "name": "stdout",
     "output_type": "stream",
     "text": [
      "New data has dimension:  (22378, 100)\n",
      "Original data has dimension:  (26164, 100)\n"
     ]
    },
    {
     "name": "stderr",
     "output_type": "stream",
     "text": [
      "\r",
      "5it [01:30, 19.04s/it]"
     ]
    },
    {
     "name": "stdout",
     "output_type": "stream",
     "text": [
      "New data has dimension:  (22378, 100)\n",
      "Original data has dimension:  (26164, 100)\n"
     ]
    },
    {
     "name": "stderr",
     "output_type": "stream",
     "text": [
      "\r",
      "6it [02:00, 22.33s/it]"
     ]
    },
    {
     "name": "stdout",
     "output_type": "stream",
     "text": [
      "New data has dimension:  (22378, 100)\n",
      "Original data has dimension:  (26164, 100)\n"
     ]
    },
    {
     "name": "stderr",
     "output_type": "stream",
     "text": [
      "\r",
      "7it [02:29, 24.53s/it]"
     ]
    },
    {
     "name": "stdout",
     "output_type": "stream",
     "text": [
      "New data has dimension:  (22378, 100)\n",
      "Original data has dimension:  (26164, 100)\n"
     ]
    },
    {
     "name": "stderr",
     "output_type": "stream",
     "text": [
      "\r",
      "8it [02:59, 26.00s/it]"
     ]
    },
    {
     "name": "stdout",
     "output_type": "stream",
     "text": [
      "New data has dimension:  (22378, 100)\n",
      "Original data has dimension:  (26164, 100)\n"
     ]
    },
    {
     "name": "stderr",
     "output_type": "stream",
     "text": [
      "\r",
      "9it [03:28, 27.00s/it]"
     ]
    },
    {
     "name": "stdout",
     "output_type": "stream",
     "text": [
      "New data has dimension:  (22378, 100)\n",
      "Original data has dimension:  (26164, 100)\n"
     ]
    },
    {
     "name": "stderr",
     "output_type": "stream",
     "text": [
      "\r",
      "10it [03:57, 27.66s/it]"
     ]
    },
    {
     "name": "stdout",
     "output_type": "stream",
     "text": [
      "New data has dimension:  (22378, 100)\n",
      "Original data has dimension:  (26164, 100)\n"
     ]
    },
    {
     "name": "stderr",
     "output_type": "stream",
     "text": [
      "\r",
      "11it [04:30, 29.14s/it]"
     ]
    },
    {
     "name": "stdout",
     "output_type": "stream",
     "text": [
      "New data has dimension:  (22378, 100)\n",
      "Original data has dimension:  (26164, 100)\n"
     ]
    },
    {
     "name": "stderr",
     "output_type": "stream",
     "text": [
      "\r",
      "12it [04:58, 28.92s/it]"
     ]
    },
    {
     "name": "stdout",
     "output_type": "stream",
     "text": [
      "New data has dimension:  (22378, 100)\n",
      "Original data has dimension:  (26164, 100)\n"
     ]
    },
    {
     "name": "stderr",
     "output_type": "stream",
     "text": [
      "\r",
      "13it [05:27, 28.75s/it]"
     ]
    },
    {
     "name": "stdout",
     "output_type": "stream",
     "text": [
      "New data has dimension:  (22378, 100)\n",
      "Original data has dimension:  (26164, 100)\n"
     ]
    },
    {
     "name": "stderr",
     "output_type": "stream",
     "text": [
      "\r",
      "14it [05:55, 28.56s/it]"
     ]
    },
    {
     "name": "stdout",
     "output_type": "stream",
     "text": [
      "New data has dimension:  (22378, 100)\n",
      "Original data has dimension:  (26164, 100)\n"
     ]
    },
    {
     "name": "stderr",
     "output_type": "stream",
     "text": [
      "\r",
      "15it [06:23, 28.53s/it]"
     ]
    },
    {
     "name": "stdout",
     "output_type": "stream",
     "text": [
      "New data has dimension:  (22378, 100)\n",
      "Original data has dimension:  (26164, 100)\n"
     ]
    },
    {
     "name": "stderr",
     "output_type": "stream",
     "text": [
      "\r",
      "16it [06:53, 28.91s/it]"
     ]
    },
    {
     "name": "stdout",
     "output_type": "stream",
     "text": [
      "New data has dimension:  (22378, 100)\n",
      "Original data has dimension:  (26164, 100)\n"
     ]
    },
    {
     "name": "stderr",
     "output_type": "stream",
     "text": [
      "\r",
      "17it [07:23, 29.23s/it]"
     ]
    },
    {
     "name": "stdout",
     "output_type": "stream",
     "text": [
      "New data has dimension:  (22378, 100)\n",
      "Original data has dimension:  (26164, 100)\n"
     ]
    },
    {
     "name": "stderr",
     "output_type": "stream",
     "text": [
      "\r",
      "18it [07:52, 29.22s/it]"
     ]
    },
    {
     "name": "stdout",
     "output_type": "stream",
     "text": [
      "New data has dimension:  (22378, 100)\n",
      "Original data has dimension:  (26164, 100)\n"
     ]
    },
    {
     "name": "stderr",
     "output_type": "stream",
     "text": [
      "\r",
      "19it [08:21, 29.03s/it]"
     ]
    },
    {
     "name": "stdout",
     "output_type": "stream",
     "text": [
      "New data has dimension:  (22378, 100)\n",
      "Original data has dimension:  (26164, 100)\n"
     ]
    },
    {
     "name": "stderr",
     "output_type": "stream",
     "text": [
      "\r",
      "20it [09:02, 32.75s/it]"
     ]
    },
    {
     "name": "stdout",
     "output_type": "stream",
     "text": [
      "New data has dimension:  (22378, 100)\n",
      "Original data has dimension:  (26164, 100)\n"
     ]
    },
    {
     "name": "stderr",
     "output_type": "stream",
     "text": [
      "\r",
      "21it [09:25, 29.77s/it]"
     ]
    },
    {
     "name": "stdout",
     "output_type": "stream",
     "text": [
      "New data has dimension:  (22378, 100)\n",
      "Original data has dimension:  (26164, 100)\n"
     ]
    },
    {
     "name": "stderr",
     "output_type": "stream",
     "text": [
      "\r",
      "22it [09:54, 29.52s/it]"
     ]
    },
    {
     "name": "stdout",
     "output_type": "stream",
     "text": [
      "New data has dimension:  (22378, 100)\n",
      "Original data has dimension:  (26164, 100)\n"
     ]
    },
    {
     "name": "stderr",
     "output_type": "stream",
     "text": [
      "\r",
      "23it [10:12, 26.17s/it]"
     ]
    },
    {
     "name": "stdout",
     "output_type": "stream",
     "text": [
      "New data has dimension:  (22378, 100)\n",
      "Original data has dimension:  (26164, 100)\n"
     ]
    },
    {
     "name": "stderr",
     "output_type": "stream",
     "text": [
      "\r",
      "24it [10:42, 27.07s/it]"
     ]
    },
    {
     "name": "stdout",
     "output_type": "stream",
     "text": [
      "New data has dimension:  (22378, 100)\n",
      "Original data has dimension:  (26164, 100)\n"
     ]
    },
    {
     "name": "stderr",
     "output_type": "stream",
     "text": [
      "\r",
      "25it [11:11, 27.64s/it]"
     ]
    },
    {
     "name": "stdout",
     "output_type": "stream",
     "text": [
      "New data has dimension:  (22378, 100)\n",
      "Original data has dimension:  (26164, 100)\n"
     ]
    },
    {
     "name": "stderr",
     "output_type": "stream",
     "text": [
      "\r",
      "26it [11:40, 28.19s/it]"
     ]
    },
    {
     "name": "stdout",
     "output_type": "stream",
     "text": [
      "New data has dimension:  (22378, 100)\n",
      "Original data has dimension:  (26164, 100)\n"
     ]
    },
    {
     "name": "stderr",
     "output_type": "stream",
     "text": [
      "\r",
      "27it [12:14, 29.89s/it]"
     ]
    },
    {
     "name": "stdout",
     "output_type": "stream",
     "text": [
      "New data has dimension:  (22378, 100)\n",
      "Original data has dimension:  (26164, 100)\n"
     ]
    },
    {
     "name": "stderr",
     "output_type": "stream",
     "text": [
      "\r",
      "28it [12:44, 30.03s/it]"
     ]
    },
    {
     "name": "stdout",
     "output_type": "stream",
     "text": [
      "New data has dimension:  (22378, 100)\n",
      "Original data has dimension:  (26164, 100)\n"
     ]
    },
    {
     "name": "stderr",
     "output_type": "stream",
     "text": [
      "\r",
      "29it [13:14, 29.94s/it]"
     ]
    },
    {
     "name": "stdout",
     "output_type": "stream",
     "text": [
      "New data has dimension:  (22378, 100)\n",
      "Original data has dimension:  (26164, 100)\n"
     ]
    },
    {
     "name": "stderr",
     "output_type": "stream",
     "text": [
      "\r",
      "30it [13:43, 29.72s/it]"
     ]
    },
    {
     "name": "stdout",
     "output_type": "stream",
     "text": [
      "New data has dimension:  (22378, 100)\n",
      "Original data has dimension:  (26164, 100)\n"
     ]
    },
    {
     "name": "stderr",
     "output_type": "stream",
     "text": [
      "\r",
      "31it [14:14, 30.03s/it]"
     ]
    },
    {
     "name": "stdout",
     "output_type": "stream",
     "text": [
      "New data has dimension:  (22378, 100)\n",
      "Original data has dimension:  (26164, 100)\n"
     ]
    },
    {
     "name": "stderr",
     "output_type": "stream",
     "text": [
      "\r",
      "32it [14:44, 30.10s/it]"
     ]
    },
    {
     "name": "stdout",
     "output_type": "stream",
     "text": [
      "New data has dimension:  (22378, 100)\n",
      "Original data has dimension:  (26164, 100)\n"
     ]
    },
    {
     "name": "stderr",
     "output_type": "stream",
     "text": [
      "\r",
      "33it [15:13, 29.83s/it]"
     ]
    },
    {
     "name": "stdout",
     "output_type": "stream",
     "text": [
      "New data has dimension:  (22378, 100)\n",
      "Original data has dimension:  (26164, 100)\n"
     ]
    },
    {
     "name": "stderr",
     "output_type": "stream",
     "text": [
      "\r",
      "34it [15:42, 29.54s/it]"
     ]
    },
    {
     "name": "stdout",
     "output_type": "stream",
     "text": [
      "New data has dimension:  (22378, 100)\n",
      "Original data has dimension:  (26164, 100)\n"
     ]
    },
    {
     "name": "stderr",
     "output_type": "stream",
     "text": [
      "\r",
      "35it [16:11, 29.38s/it]"
     ]
    },
    {
     "name": "stdout",
     "output_type": "stream",
     "text": [
      "New data has dimension:  (22378, 100)\n",
      "Original data has dimension:  (26164, 100)\n"
     ]
    },
    {
     "name": "stderr",
     "output_type": "stream",
     "text": [
      "\r",
      "36it [16:41, 29.58s/it]"
     ]
    },
    {
     "name": "stdout",
     "output_type": "stream",
     "text": [
      "New data has dimension:  (22378, 100)\n",
      "Original data has dimension:  (26164, 100)\n"
     ]
    },
    {
     "name": "stderr",
     "output_type": "stream",
     "text": [
      "\r",
      "37it [17:13, 30.23s/it]"
     ]
    },
    {
     "name": "stdout",
     "output_type": "stream",
     "text": [
      "New data has dimension:  (22378, 100)\n",
      "Original data has dimension:  (26164, 100)\n"
     ]
    },
    {
     "name": "stderr",
     "output_type": "stream",
     "text": [
      "\r",
      "38it [17:45, 30.68s/it]"
     ]
    },
    {
     "name": "stdout",
     "output_type": "stream",
     "text": [
      "New data has dimension:  (22378, 100)\n",
      "Original data has dimension:  (26164, 100)\n"
     ]
    },
    {
     "name": "stderr",
     "output_type": "stream",
     "text": [
      "\r",
      "39it [18:25, 33.42s/it]"
     ]
    },
    {
     "name": "stdout",
     "output_type": "stream",
     "text": [
      "New data has dimension:  (22378, 100)\n",
      "Original data has dimension:  (26164, 100)\n"
     ]
    },
    {
     "name": "stderr",
     "output_type": "stream",
     "text": [
      "\r",
      "40it [18:57, 33.07s/it]"
     ]
    },
    {
     "name": "stdout",
     "output_type": "stream",
     "text": [
      "New data has dimension:  (22378, 100)\n",
      "Original data has dimension:  (26164, 100)\n"
     ]
    },
    {
     "name": "stderr",
     "output_type": "stream",
     "text": [
      "\r",
      "41it [19:31, 33.26s/it]"
     ]
    },
    {
     "name": "stdout",
     "output_type": "stream",
     "text": [
      "New data has dimension:  (22378, 100)\n",
      "Original data has dimension:  (26164, 100)\n"
     ]
    },
    {
     "name": "stderr",
     "output_type": "stream",
     "text": [
      "\r",
      "42it [20:06, 33.77s/it]"
     ]
    },
    {
     "name": "stdout",
     "output_type": "stream",
     "text": [
      "New data has dimension:  (22378, 100)\n",
      "Original data has dimension:  (26164, 100)\n"
     ]
    },
    {
     "name": "stderr",
     "output_type": "stream",
     "text": [
      "\r",
      "43it [20:40, 34.10s/it]"
     ]
    },
    {
     "name": "stdout",
     "output_type": "stream",
     "text": [
      "New data has dimension:  (22378, 100)\n",
      "Original data has dimension:  (26164, 100)\n"
     ]
    },
    {
     "name": "stderr",
     "output_type": "stream",
     "text": [
      "\r",
      "44it [21:20, 35.80s/it]"
     ]
    },
    {
     "name": "stdout",
     "output_type": "stream",
     "text": [
      "New data has dimension:  (22378, 100)\n",
      "Original data has dimension:  (26164, 100)\n"
     ]
    },
    {
     "name": "stderr",
     "output_type": "stream",
     "text": [
      "\r",
      "45it [22:04, 38.22s/it]"
     ]
    },
    {
     "name": "stdout",
     "output_type": "stream",
     "text": [
      "New data has dimension:  (22378, 100)\n",
      "Original data has dimension:  (26164, 100)\n"
     ]
    },
    {
     "name": "stderr",
     "output_type": "stream",
     "text": [
      "\r",
      "46it [22:42, 38.04s/it]"
     ]
    },
    {
     "name": "stdout",
     "output_type": "stream",
     "text": [
      "New data has dimension:  (22378, 100)\n",
      "Original data has dimension:  (26164, 100)\n"
     ]
    },
    {
     "name": "stderr",
     "output_type": "stream",
     "text": [
      "\r",
      "47it [23:23, 38.97s/it]"
     ]
    },
    {
     "name": "stdout",
     "output_type": "stream",
     "text": [
      "New data has dimension:  (22378, 100)\n",
      "Original data has dimension:  (26164, 100)\n"
     ]
    },
    {
     "name": "stderr",
     "output_type": "stream",
     "text": [
      "\r",
      "48it [24:06, 40.24s/it]"
     ]
    },
    {
     "name": "stdout",
     "output_type": "stream",
     "text": [
      "New data has dimension:  (22378, 100)\n",
      "Original data has dimension:  (26164, 100)\n"
     ]
    },
    {
     "name": "stderr",
     "output_type": "stream",
     "text": [
      "\r",
      "49it [24:53, 42.25s/it]"
     ]
    },
    {
     "name": "stdout",
     "output_type": "stream",
     "text": [
      "New data has dimension:  (22378, 100)\n",
      "Original data has dimension:  (26164, 100)\n"
     ]
    },
    {
     "name": "stderr",
     "output_type": "stream",
     "text": [
      "\r",
      "50it [25:40, 43.85s/it]"
     ]
    },
    {
     "name": "stdout",
     "output_type": "stream",
     "text": [
      "New data has dimension:  (22378, 100)\n",
      "Original data has dimension:  (26164, 100)\n"
     ]
    },
    {
     "name": "stderr",
     "output_type": "stream",
     "text": [
      "51it [26:30, 31.18s/it]"
     ]
    },
    {
     "name": "stdout",
     "output_type": "stream",
     "text": [
      "New data has dimension:  (22378, 100)\n"
     ]
    },
    {
     "name": "stderr",
     "output_type": "stream",
     "text": [
      "\n"
     ]
    }
   ],
   "source": [
    "for index, subject_name in tqdm(enumerate(subject_names_list)):\n",
    "    subject_id = subject_ids_list[index]\n",
    "    path_to_beta_maps = path_to_data_template.format(model_name=model_name, subject_name=subject_name, subject_id=subject_id)\n",
    "    mask = reporting.create_subject_mask(mask_template, subject_name, subject_id, model_name, global_masker_95, threshold=80)\n",
    "    \n",
    "    data = np.load(path_to_beta_maps)\n",
    "    all_masks.append(mask)\n",
    "    all_data_voxels.append(\n",
    "        reporting.resample_beta_maps(\n",
    "            reporting.aggregate_beta_maps(\n",
    "                np.vstack(data) if mask is not None else data.copy(), \n",
    "                nb_layers=13, \n",
    "                layer_size=768, \n",
    "                aggregation_type=aggregation_type,\n",
    "                n_components=n_components_beginning), \n",
    "            original_masker, \n",
    "            new_masker)[mask, :])\n",
    "    #all_original_length.append(data.shape[0] if mask is not None else data.copy().shape[0])"
   ]
  },
  {
   "cell_type": "code",
   "execution_count": 14,
   "metadata": {},
   "outputs": [],
   "source": [
    "folder = os.path.join(SAVING_FOLDER, 'filter_80_fmri_data', model_name)\n",
    "utils.check_folder(folder)\n",
    "np.save(os.path.join(folder, 'all_masks_attention_head.npy'), np.array(all_masks))\n",
    "np.save(os.path.join(folder, 'all_data_attention_head.npy'), np.array(all_data_voxels))\n",
    "#all_masks = np.load(os.path.join(folder, 'all_masks_attention_head.npy'))\n",
    "#all_data_voxels = np.load(os.path.join(folder, 'all_data_attention_head.npy'))"
   ]
  },
  {
   "cell_type": "code",
   "execution_count": 16,
   "metadata": {},
   "outputs": [],
   "source": [
    "average_mask = math_img('img>0.4', img=mean_img(new_masker.inverse_transform(all_masks))) # take the average mask and threshold at 0.5\n"
   ]
  },
  {
   "cell_type": "code",
   "execution_count": 17,
   "metadata": {},
   "outputs": [
    {
     "data": {
      "image/png": "[encoded data removed]",
      "text/plain": [
       "<Figure size 633.6x187.2 with 5 Axes>"
      ]
     },
     "metadata": {},
     "output_type": "display_data"
    }
   ],
   "source": [
    "plotting.plot_glass_brain(average_mask, colorbar=False, display_mode = 'lzry', title='Average mask - threshold at 0.4 (intersection from subjects 90% best voxels)')\n",
    "plotting.show()"
   ]
  },
  {
   "cell_type": "code",
   "execution_count": 18,
   "metadata": {},
   "outputs": [],
   "source": [
    "voxels_data = np.vstack(all_data_voxels)"
   ]
  },
  {
   "cell_type": "code",
   "execution_count": 19,
   "metadata": {},
   "outputs": [],
   "source": [
    "standardize_beta_maps = True\n",
    "\n",
    "# standardize beta maps if necessary\n",
    "if standardize_beta_maps:\n",
    "    scaler = StandardScaler(with_mean=True, with_std=True)\n",
    "    voxels_data = scaler.fit_transform(voxels_data.T).T"
   ]
  },
  {
   "cell_type": "markdown",
   "metadata": {},
   "source": [
    "## Fonctional clustering\n",
    "\n",
    "We cluster voxels based on their dependencies towards model features.\n",
    "Voxels with similar dpeendency patterns are likely to deal with similar information.\n",
    "To do so, we regroup in one big matrix all subjects voxels as to learn shared clustering patterns."
   ]
  },
  {
   "cell_type": "code",
   "execution_count": 20,
   "metadata": {},
   "outputs": [
    {
     "data": {
      "text/plain": [
       "22378"
      ]
     },
     "execution_count": 20,
     "metadata": {},
     "output_type": "execute_result"
    }
   ],
   "source": [
    "nb_voxels=int(all_masks.shape[1])\n",
    "nb_voxels"
   ]
  },
  {
   "cell_type": "code",
   "execution_count": 26,
   "metadata": {
    "scrolled": true
   },
   "outputs": [
    {
     "name": "stdout",
     "output_type": "stream",
     "text": [
      "Reducing...\n",
      "Input shape:  (1141278,)\n",
      "Number of clusters:  167\n",
      "Number of voxels: 22378\n",
      "Effective number of clusters: 166\n",
      "Input shape:  (1141278,)\n",
      "Number of clusters:  93\n",
      "Number of voxels: 22378\n",
      "Effective number of clusters: 92\n",
      "Input shape:  (1141278,)\n",
      "Number of clusters:  3\n",
      "Number of voxels: 22378\n",
      "Effective number of clusters: 2\n",
      "Input shape:  (1141278,)\n",
      "Number of clusters:  17\n",
      "Number of voxels: 22378\n",
      "Effective number of clusters: 16\n",
      "Input shape:  (1141278,)\n",
      "Number of clusters:  16\n",
      "Number of voxels: 22378\n",
      "Effective number of clusters: 15\n",
      "Input shape:  (1141278,)\n",
      "Number of clusters:  13\n",
      "Number of voxels: 22378\n",
      "Effective number of clusters: 12\n",
      "Input shape:  (1141278,)\n",
      "Number of clusters:  12\n",
      "Number of voxels: 22378\n",
      "Effective number of clusters: 11\n",
      "Input shape:  (1141278,)\n",
      "Number of clusters:  12\n",
      "Number of voxels: 22378\n",
      "Effective number of clusters: 11\n",
      "Input shape:  (1141278,)\n",
      "Number of clusters:  11\n",
      "Number of voxels: 22378\n",
      "Effective number of clusters: 10\n",
      "Input shape:  (1141278,)\n",
      "Number of clusters:  10\n",
      "Number of voxels: 22378\n",
      "Effective number of clusters: 9\n",
      "Input shape:  (1141278,)\n",
      "Number of clusters:  9\n",
      "Number of voxels: 22378\n",
      "Effective number of clusters: 8\n",
      "Input shape:  (1141278,)\n",
      "Number of clusters:  7\n",
      "Number of voxels: 22378\n",
      "Effective number of clusters: 6\n",
      "Input shape:  (1141278,)\n",
      "Number of clusters:  7\n",
      "Number of voxels: 22378\n",
      "Effective number of clusters: 6\n",
      "Input shape:  (1141278,)\n",
      "Number of clusters:  9\n",
      "Number of voxels: 22378\n",
      "Effective number of clusters: 8\n",
      "Input shape:  (1141278,)\n",
      "Number of clusters:  5\n",
      "Number of voxels: 22378\n",
      "Effective number of clusters: 4\n",
      "Input shape:  (1141278,)\n",
      "Number of clusters:  4\n",
      "Number of voxels: 22378\n",
      "Effective number of clusters: 3\n",
      "Input shape:  (1141278,)\n",
      "Number of clusters:  3\n",
      "Number of voxels: 22378\n",
      "Effective number of clusters: 2\n",
      "Input shape:  (1141278,)\n",
      "Number of clusters:  3\n",
      "Number of voxels: 22378\n",
      "Effective number of clusters: 2\n",
      "Input shape:  (1141278,)\n",
      "Number of clusters:  3\n",
      "Number of voxels: 22378\n",
      "Effective number of clusters: 2\n",
      "Input shape:  (1141278,)\n",
      "Number of clusters:  3\n",
      "Number of voxels: 22378\n",
      "Effective number of clusters: 2\n",
      "Input shape:  (1141278,)\n",
      "Number of clusters:  3\n",
      "Number of voxels: 22378\n",
      "Effective number of clusters: 2\n",
      "Input shape:  (1141278,)\n",
      "Number of clusters:  3\n",
      "Number of voxels: 22378\n",
      "Effective number of clusters: 2\n",
      "Input shape:  (1141278,)\n",
      "Number of clusters:  3\n",
      "Number of voxels: 22378\n",
      "Effective number of clusters: 2\n",
      "Input shape:  (1141278,)\n",
      "Number of clusters:  3\n",
      "Number of voxels: 22378\n",
      "Effective number of clusters: 2\n",
      "Input shape:  (1141278,)\n",
      "Number of clusters:  3\n",
      "Number of voxels: 22378\n",
      "Effective number of clusters: 2\n",
      "Input shape:  (1141278,)\n",
      "Number of clusters:  3\n",
      "Number of voxels: 22378\n",
      "Effective number of clusters: 2\n",
      "Input shape:  (1141278,)\n",
      "Number of clusters:  3\n",
      "Number of voxels: 22378\n",
      "Effective number of clusters: 2\n",
      "Input shape:  (1141278,)\n",
      "Number of clusters:  165\n",
      "Number of voxels: 22378\n",
      "Effective number of clusters: 164\n",
      "Input shape:  (1141278,)\n",
      "Number of clusters:  97\n",
      "Number of voxels: 22378\n",
      "Effective number of clusters: 96\n",
      "Input shape:  (1141278,)\n",
      "Number of clusters:  4\n",
      "Number of voxels: 22378\n",
      "Effective number of clusters: 3\n",
      "Input shape:  (1141278,)\n",
      "Number of clusters:  3\n",
      "Number of voxels: 22378\n",
      "Effective number of clusters: 2\n",
      "Input shape:  (1141278,)\n",
      "Number of clusters:  3\n",
      "Number of voxels: 22378\n",
      "Effective number of clusters: 2\n",
      "Input shape:  (1141278,)\n",
      "Number of clusters:  3\n",
      "Number of voxels: 22378\n",
      "Effective number of clusters: 2\n",
      "Input shape:  (1141278,)\n",
      "Number of clusters:  3\n",
      "Number of voxels: 22378\n",
      "Effective number of clusters: 2\n",
      "Input shape:  (1141278,)\n",
      "Number of clusters:  3\n",
      "Number of voxels: 22378\n",
      "Effective number of clusters: 2\n",
      "Input shape:  (1141278,)\n",
      "Number of clusters:  3\n",
      "Number of voxels: 22378\n",
      "Effective number of clusters: 2\n",
      "Input shape:  (1141278,)\n",
      "Number of clusters:  5\n",
      "Number of voxels: 22378\n",
      "Effective number of clusters: 4\n",
      "Input shape:  (1141278,)\n",
      "Number of clusters:  5\n",
      "Number of voxels: 22378\n",
      "Effective number of clusters: 4\n",
      "Input shape:  (1141278,)\n",
      "Number of clusters:  7\n",
      "Number of voxels: 22378\n",
      "Effective number of clusters: 6\n",
      "Input shape:  (1141278,)\n",
      "Number of clusters:  6\n",
      "Number of voxels: 22378\n",
      "Effective number of clusters: 5\n",
      "Input shape:  (1141278,)\n",
      "Number of clusters:  3\n",
      "Number of voxels: 22378\n",
      "Effective number of clusters: 2\n",
      "Input shape:  (1141278,)\n",
      "Number of clusters:  3\n",
      "Number of voxels: 22378\n",
      "Effective number of clusters: 2\n",
      "Input shape:  (1141278,)\n",
      "Number of clusters:  5\n",
      "Number of voxels: 22378\n",
      "Effective number of clusters: 4\n",
      "Input shape:  (1141278,)\n",
      "Number of clusters:  5\n",
      "Number of voxels: 22378\n",
      "Effective number of clusters: 4\n",
      "Input shape:  (1141278,)\n",
      "Number of clusters:  5\n",
      "Number of voxels: 22378\n",
      "Effective number of clusters: 4\n",
      "Input shape:  (1141278,)\n",
      "Number of clusters:  5\n",
      "Number of voxels: 22378\n",
      "Effective number of clusters: 4\n",
      "Input shape:  (1141278,)\n",
      "Number of clusters:  5\n",
      "Number of voxels: 22378\n",
      "Effective number of clusters: 4\n",
      "Input shape:  (1141278,)\n",
      "Number of clusters:  5\n",
      "Number of voxels: 22378\n",
      "Effective number of clusters: 4\n",
      "Input shape:  (1141278,)\n",
      "Number of clusters:  5\n",
      "Number of voxels: 22378\n",
      "Effective number of clusters: 4\n",
      "Input shape:  (1141278,)\n",
      "Number of clusters:  3\n",
      "Number of voxels: 22378\n",
      "Effective number of clusters: 2\n",
      "Input shape:  (1141278,)\n",
      "Number of clusters:  3\n",
      "Number of voxels: 22378\n",
      "Effective number of clusters: 2\n",
      "Input shape:  (1141278,)\n",
      "Number of clusters:  3\n",
      "Number of voxels: 22378\n",
      "Effective number of clusters: 2\n",
      "Input shape:  (1141278,)\n",
      "Number of clusters:  3\n",
      "Number of voxels: 22378\n",
      "Effective number of clusters: 2\n",
      "Input shape:  (1141278,)\n",
      "Number of clusters:  3\n",
      "Number of voxels: 22378\n",
      "Effective number of clusters: 2\n",
      "Input shape:  (1141278,)\n",
      "Number of clusters:  157\n",
      "Number of voxels: 22378\n",
      "Effective number of clusters: 156\n",
      "Input shape:  (1141278,)\n",
      "Number of clusters:  90\n",
      "Number of voxels: 22378\n",
      "Effective number of clusters: 89\n",
      "Input shape:  (1141278,)\n",
      "Number of clusters:  5\n",
      "Number of voxels: 22378\n",
      "Effective number of clusters: 4\n",
      "Input shape:  (1141278,)\n",
      "Number of clusters:  4\n",
      "Number of voxels: 22378\n",
      "Effective number of clusters: 3\n",
      "Input shape:  (1141278,)\n",
      "Number of clusters:  4\n",
      "Number of voxels: 22378\n",
      "Effective number of clusters: 3\n",
      "Input shape:  (1141278,)\n",
      "Number of clusters:  3\n",
      "Number of voxels: 22378\n",
      "Effective number of clusters: 2\n",
      "Input shape:  (1141278,)\n",
      "Number of clusters:  3\n",
      "Number of voxels: 22378\n",
      "Effective number of clusters: 2\n",
      "Input shape:  (1141278,)\n",
      "Number of clusters:  3\n",
      "Number of voxels: 22378\n",
      "Effective number of clusters: 2\n",
      "Input shape:  (1141278,)\n",
      "Number of clusters:  3\n",
      "Number of voxels: 22378\n",
      "Effective number of clusters: 2\n",
      "Input shape:  (1141278,)\n",
      "Number of clusters:  3\n",
      "Number of voxels: 22378\n",
      "Effective number of clusters: 2\n",
      "Input shape:  (1141278,)\n",
      "Number of clusters:  3\n",
      "Number of voxels: 22378\n",
      "Effective number of clusters: 2\n",
      "Input shape:  (1141278,)\n",
      "Number of clusters:  3\n",
      "Number of voxels: 22378\n",
      "Effective number of clusters: 2\n",
      "Input shape:  (1141278,)\n",
      "Number of clusters:  3\n",
      "Number of voxels: 22378\n",
      "Effective number of clusters: 2\n",
      "Input shape:  (1141278,)\n",
      "Number of clusters:  4\n",
      "Number of voxels: 22378\n",
      "Effective number of clusters: 3\n",
      "Input shape:  (1141278,)\n",
      "Number of clusters:  4\n",
      "Number of voxels: 22378\n",
      "Effective number of clusters: 3\n",
      "Input shape:  (1141278,)\n",
      "Number of clusters:  3\n",
      "Number of voxels: 22378\n",
      "Effective number of clusters: 2\n",
      "Input shape:  (1141278,)\n",
      "Number of clusters:  6\n",
      "Number of voxels: 22378\n",
      "Effective number of clusters: 5\n",
      "Input shape:  (1141278,)\n",
      "Number of clusters:  6\n",
      "Number of voxels: 22378\n",
      "Effective number of clusters: 5\n",
      "Input shape:  (1141278,)\n",
      "Number of clusters:  6\n",
      "Number of voxels: 22378\n",
      "Effective number of clusters: 5\n",
      "Input shape:  (1141278,)\n",
      "Number of clusters:  6\n",
      "Number of voxels: 22378\n",
      "Effective number of clusters: 5\n",
      "Input shape:  (1141278,)\n",
      "Number of clusters:  6\n",
      "Number of voxels: 22378\n",
      "Effective number of clusters: 5\n",
      "Input shape:  (1141278,)\n",
      "Number of clusters:  6\n",
      "Number of voxels: 22378\n",
      "Effective number of clusters: 5\n",
      "Input shape:  (1141278,)\n",
      "Number of clusters:  4\n",
      "Number of voxels: 22378\n",
      "Effective number of clusters: 3\n",
      "Input shape:  (1141278,)\n",
      "Number of clusters:  4\n",
      "Number of voxels: 22378\n",
      "Effective number of clusters: 3\n",
      "Input shape:  (1141278,)\n",
      "Number of clusters:  4\n",
      "Number of voxels: 22378\n",
      "Effective number of clusters: 3\n"
     ]
    },
    {
     "name": "stdout",
     "output_type": "stream",
     "text": [
      "Input shape:  (1141278,)\n",
      "Number of clusters:  4\n",
      "Number of voxels: 22378\n",
      "Effective number of clusters: 3\n",
      "Input shape:  (1141278,)\n",
      "Number of clusters:  4\n",
      "Number of voxels: 22378\n",
      "Effective number of clusters: 3\n",
      "Input shape:  (1141278,)\n",
      "Number of clusters:  153\n",
      "Number of voxels: 22378\n",
      "Effective number of clusters: 152\n",
      "Input shape:  (1141278,)\n",
      "Number of clusters:  83\n",
      "Number of voxels: 22378\n",
      "Effective number of clusters: 82\n",
      "Input shape:  (1141278,)\n",
      "Number of clusters:  4\n",
      "Number of voxels: 22378\n",
      "Effective number of clusters: 3\n",
      "Input shape:  (1141278,)\n",
      "Number of clusters:  4\n",
      "Number of voxels: 22378\n",
      "Effective number of clusters: 3\n",
      "Input shape:  (1141278,)\n",
      "Number of clusters:  3\n",
      "Number of voxels: 22378\n",
      "Effective number of clusters: 2\n",
      "Input shape:  (1141278,)\n",
      "Number of clusters:  19\n",
      "Number of voxels: 22378\n",
      "Effective number of clusters: 18\n",
      "Input shape:  (1141278,)\n",
      "Number of clusters:  18\n",
      "Number of voxels: 22378\n",
      "Effective number of clusters: 17\n",
      "Input shape:  (1141278,)\n",
      "Number of clusters:  4\n",
      "Number of voxels: 22378\n",
      "Effective number of clusters: 3\n",
      "Input shape:  (1141278,)\n",
      "Number of clusters:  4\n",
      "Number of voxels: 22378\n",
      "Effective number of clusters: 3\n",
      "Input shape:  (1141278,)\n",
      "Number of clusters:  3\n",
      "Number of voxels: 22378\n",
      "Effective number of clusters: 2\n",
      "Input shape:  (1141278,)\n",
      "Number of clusters:  3\n",
      "Number of voxels: 22378\n",
      "Effective number of clusters: 2\n",
      "Input shape:  (1141278,)\n",
      "Number of clusters:  5\n",
      "Number of voxels: 22378\n",
      "Effective number of clusters: 4\n",
      "Input shape:  (1141278,)\n",
      "Number of clusters:  5\n",
      "Number of voxels: 22378\n",
      "Effective number of clusters: 4\n",
      "Input shape:  (1141278,)\n",
      "Number of clusters:  4\n",
      "Number of voxels: 22378\n",
      "Effective number of clusters: 3\n",
      "Input shape:  (1141278,)\n",
      "Number of clusters:  3\n",
      "Number of voxels: 22378\n",
      "Effective number of clusters: 2\n",
      "Input shape:  (1141278,)\n",
      "Number of clusters:  6\n",
      "Number of voxels: 22378\n",
      "Effective number of clusters: 5\n",
      "Input shape:  (1141278,)\n",
      "Number of clusters:  6\n",
      "Number of voxels: 22378\n",
      "Effective number of clusters: 5\n",
      "Input shape:  (1141278,)\n",
      "Number of clusters:  6\n",
      "Number of voxels: 22378\n",
      "Effective number of clusters: 5\n",
      "Input shape:  (1141278,)\n",
      "Number of clusters:  6\n",
      "Number of voxels: 22378\n",
      "Effective number of clusters: 5\n",
      "Input shape:  (1141278,)\n",
      "Number of clusters:  6\n",
      "Number of voxels: 22378\n",
      "Effective number of clusters: 5\n",
      "Input shape:  (1141278,)\n",
      "Number of clusters:  6\n",
      "Number of voxels: 22378\n",
      "Effective number of clusters: 5\n",
      "Input shape:  (1141278,)\n",
      "Number of clusters:  6\n",
      "Number of voxels: 22378\n",
      "Effective number of clusters: 5\n",
      "Input shape:  (1141278,)\n",
      "Number of clusters:  4\n",
      "Number of voxels: 22378\n",
      "Effective number of clusters: 3\n",
      "Input shape:  (1141278,)\n",
      "Number of clusters:  4\n",
      "Number of voxels: 22378\n",
      "Effective number of clusters: 3\n",
      "Input shape:  (1141278,)\n",
      "Number of clusters:  4\n",
      "Number of voxels: 22378\n",
      "Effective number of clusters: 3\n",
      "Input shape:  (1141278,)\n",
      "Number of clusters:  4\n",
      "Number of voxels: 22378\n",
      "Effective number of clusters: 3\n",
      "Input shape:  (1141278,)\n",
      "Number of clusters:  4\n",
      "Number of voxels: 22378\n",
      "Effective number of clusters: 3\n",
      "Input shape:  (1141278,)\n",
      "Number of clusters:  156\n",
      "Number of voxels: 22378\n",
      "Effective number of clusters: 155\n",
      "Input shape:  (1141278,)\n",
      "Number of clusters:  70\n",
      "Number of voxels: 22378\n",
      "Effective number of clusters: 69\n",
      "Input shape:  (1141278,)\n",
      "Number of clusters:  29\n",
      "Number of voxels: 22378\n",
      "Effective number of clusters: 28\n",
      "Input shape:  (1141278,)\n",
      "Number of clusters:  22\n",
      "Number of voxels: 22378\n",
      "Effective number of clusters: 21\n",
      "Input shape:  (1141278,)\n",
      "Number of clusters:  16\n",
      "Number of voxels: 22378\n",
      "Effective number of clusters: 15\n",
      "Input shape:  (1141278,)\n",
      "Number of clusters:  15\n",
      "Number of voxels: 22378\n",
      "Effective number of clusters: 14\n",
      "Input shape:  (1141278,)\n",
      "Number of clusters:  13\n",
      "Number of voxels: 22378\n",
      "Effective number of clusters: 12\n",
      "Input shape:  (1141278,)\n",
      "Number of clusters:  12\n",
      "Number of voxels: 22378\n",
      "Effective number of clusters: 11\n",
      "Input shape:  (1141278,)\n",
      "Number of clusters:  4\n",
      "Number of voxels: 22378\n",
      "Effective number of clusters: 3\n",
      "Input shape:  (1141278,)\n",
      "Number of clusters:  8\n",
      "Number of voxels: 22378\n",
      "Effective number of clusters: 7\n",
      "Input shape:  (1141278,)\n",
      "Number of clusters:  7\n",
      "Number of voxels: 22378\n",
      "Effective number of clusters: 6\n",
      "Input shape:  (1141278,)\n",
      "Number of clusters:  7\n",
      "Number of voxels: 22378\n",
      "Effective number of clusters: 6\n",
      "Input shape:  (1141278,)\n",
      "Number of clusters:  8\n",
      "Number of voxels: 22378\n",
      "Effective number of clusters: 7\n",
      "Input shape:  (1141278,)\n",
      "Number of clusters:  8\n",
      "Number of voxels: 22378\n",
      "Effective number of clusters: 7\n",
      "Input shape:  (1141278,)\n",
      "Number of clusters:  5\n",
      "Number of voxels: 22378\n",
      "Effective number of clusters: 4\n",
      "Input shape:  (1141278,)\n",
      "Number of clusters:  3\n",
      "Number of voxels: 22378\n",
      "Effective number of clusters: 2\n",
      "Input shape:  (1141278,)\n",
      "Number of clusters:  3\n",
      "Number of voxels: 22378\n",
      "Effective number of clusters: 2\n",
      "Input shape:  (1141278,)\n",
      "Number of clusters:  3\n",
      "Number of voxels: 22378\n",
      "Effective number of clusters: 2\n",
      "Input shape:  (1141278,)\n",
      "Number of clusters:  3\n",
      "Number of voxels: 22378\n",
      "Effective number of clusters: 2\n",
      "Input shape:  (1141278,)\n",
      "Number of clusters:  3\n",
      "Number of voxels: 22378\n",
      "Effective number of clusters: 2\n",
      "Input shape:  (1141278,)\n",
      "Number of clusters:  3\n",
      "Number of voxels: 22378\n",
      "Effective number of clusters: 2\n",
      "Input shape:  (1141278,)\n",
      "Number of clusters:  3\n",
      "Number of voxels: 22378\n",
      "Effective number of clusters: 2\n",
      "Input shape:  (1141278,)\n",
      "Number of clusters:  3\n",
      "Number of voxels: 22378\n",
      "Effective number of clusters: 2\n",
      "Input shape:  (1141278,)\n",
      "Number of clusters:  3\n",
      "Number of voxels: 22378\n",
      "Effective number of clusters: 2\n",
      "Input shape:  (1141278,)\n",
      "Number of clusters:  3\n",
      "Number of voxels: 22378\n",
      "Effective number of clusters: 2\n",
      "Input shape:  (1141278,)\n",
      "Number of clusters:  3\n",
      "Number of voxels: 22378\n",
      "Effective number of clusters: 2\n",
      "Input shape:  (1141278,)\n",
      "Number of clusters:  3\n",
      "Number of voxels: 22378\n",
      "Effective number of clusters: 2\n",
      "Input shape:  (1141278,)\n",
      "Number of clusters:  153\n",
      "Number of voxels: 22378\n",
      "Effective number of clusters: 152\n",
      "Input shape:  (1141278,)\n",
      "Number of clusters:  72\n",
      "Number of voxels: 22378\n",
      "Effective number of clusters: 71\n",
      "Input shape:  (1141278,)\n",
      "Number of clusters:  3\n",
      "Number of voxels: 22378\n",
      "Effective number of clusters: 2\n",
      "Input shape:  (1141278,)\n",
      "Number of clusters:  3\n",
      "Number of voxels: 22378\n",
      "Effective number of clusters: 2\n",
      "Input shape:  (1141278,)\n",
      "Number of clusters:  4\n",
      "Number of voxels: 22378\n",
      "Effective number of clusters: 3\n",
      "Input shape:  (1141278,)\n",
      "Number of clusters:  4\n",
      "Number of voxels: 22378\n",
      "Effective number of clusters: 3\n",
      "Input shape:  (1141278,)\n",
      "Number of clusters:  4\n",
      "Number of voxels: 22378\n",
      "Effective number of clusters: 3\n",
      "Input shape:  (1141278,)\n",
      "Number of clusters:  3\n",
      "Number of voxels: 22378\n",
      "Effective number of clusters: 2\n",
      "Input shape:  (1141278,)\n",
      "Number of clusters:  3\n",
      "Number of voxels: 22378\n",
      "Effective number of clusters: 2\n",
      "Input shape:  (1141278,)\n",
      "Number of clusters:  7\n",
      "Number of voxels: 22378\n",
      "Effective number of clusters: 6\n",
      "Input shape:  (1141278,)\n",
      "Number of clusters:  6\n",
      "Number of voxels: 22378\n",
      "Effective number of clusters: 5\n",
      "Input shape:  (1141278,)\n",
      "Number of clusters:  6\n",
      "Number of voxels: 22378\n",
      "Effective number of clusters: 5\n",
      "Input shape:  (1141278,)\n",
      "Number of clusters:  6\n",
      "Number of voxels: 22378\n",
      "Effective number of clusters: 5\n",
      "Input shape:  (1141278,)\n",
      "Number of clusters:  5\n",
      "Number of voxels: 22378\n",
      "Effective number of clusters: 4\n",
      "Input shape:  (1141278,)\n",
      "Number of clusters:  4\n",
      "Number of voxels: 22378\n",
      "Effective number of clusters: 3\n",
      "Input shape:  (1141278,)\n",
      "Number of clusters:  3\n",
      "Number of voxels: 22378\n",
      "Effective number of clusters: 2\n",
      "Input shape:  (1141278,)\n",
      "Number of clusters:  3\n",
      "Number of voxels: 22378\n",
      "Effective number of clusters: 2\n",
      "Input shape:  (1141278,)\n",
      "Number of clusters:  3\n",
      "Number of voxels: 22378\n",
      "Effective number of clusters: 2\n",
      "Input shape:  (1141278,)\n",
      "Number of clusters:  3\n",
      "Number of voxels: 22378\n",
      "Effective number of clusters: 2\n",
      "Input shape:  (1141278,)\n",
      "Number of clusters:  3\n",
      "Number of voxels: 22378\n",
      "Effective number of clusters: 2\n",
      "Input shape:  (1141278,)\n",
      "Number of clusters:  3\n",
      "Number of voxels: 22378\n",
      "Effective number of clusters: 2\n",
      "Input shape:  (1141278,)\n",
      "Number of clusters:  3\n",
      "Number of voxels: 22378\n",
      "Effective number of clusters: 2\n",
      "Input shape:  (1141278,)\n",
      "Number of clusters:  3\n",
      "Number of voxels: 22378\n",
      "Effective number of clusters: 2\n"
     ]
    },
    {
     "name": "stdout",
     "output_type": "stream",
     "text": [
      "Input shape:  (1141278,)\n",
      "Number of clusters:  3\n",
      "Number of voxels: 22378\n",
      "Effective number of clusters: 2\n",
      "Input shape:  (1141278,)\n",
      "Number of clusters:  3\n",
      "Number of voxels: 22378\n",
      "Effective number of clusters: 2\n",
      "Input shape:  (1141278,)\n",
      "Number of clusters:  3\n",
      "Number of voxels: 22378\n",
      "Effective number of clusters: 2\n",
      "Input shape:  (1141278,)\n",
      "Number of clusters:  3\n",
      "Number of voxels: 22378\n",
      "Effective number of clusters: 2\n",
      "Input shape:  (1141278,)\n",
      "Number of clusters:  152\n",
      "Number of voxels: 22378\n",
      "Effective number of clusters: 151\n",
      "Input shape:  (1141278,)\n",
      "Number of clusters:  75\n",
      "Number of voxels: 22378\n",
      "Effective number of clusters: 74\n",
      "Input shape:  (1141278,)\n",
      "Number of clusters:  3\n",
      "Number of voxels: 22378\n",
      "Effective number of clusters: 2\n",
      "Input shape:  (1141278,)\n",
      "Number of clusters:  3\n",
      "Number of voxels: 22378\n",
      "Effective number of clusters: 2\n",
      "Input shape:  (1141278,)\n",
      "Number of clusters:  4\n",
      "Number of voxels: 22378\n",
      "Effective number of clusters: 3\n",
      "Input shape:  (1141278,)\n",
      "Number of clusters:  4\n",
      "Number of voxels: 22378\n",
      "Effective number of clusters: 3\n",
      "Input shape:  (1141278,)\n",
      "Number of clusters:  4\n",
      "Number of voxels: 22378\n",
      "Effective number of clusters: 3\n",
      "Input shape:  (1141278,)\n",
      "Number of clusters:  3\n",
      "Number of voxels: 22378\n",
      "Effective number of clusters: 2\n",
      "Input shape:  (1141278,)\n",
      "Number of clusters:  8\n",
      "Number of voxels: 22378\n",
      "Effective number of clusters: 7\n",
      "Input shape:  (1141278,)\n",
      "Number of clusters:  8\n",
      "Number of voxels: 22378\n",
      "Effective number of clusters: 7\n",
      "Input shape:  (1141278,)\n",
      "Number of clusters:  8\n",
      "Number of voxels: 22378\n",
      "Effective number of clusters: 7\n",
      "Input shape:  (1141278,)\n",
      "Number of clusters:  7\n",
      "Number of voxels: 22378\n",
      "Effective number of clusters: 6\n",
      "Input shape:  (1141278,)\n",
      "Number of clusters:  7\n",
      "Number of voxels: 22378\n",
      "Effective number of clusters: 6\n",
      "Input shape:  (1141278,)\n",
      "Number of clusters:  6\n",
      "Number of voxels: 22378\n",
      "Effective number of clusters: 5\n",
      "Input shape:  (1141278,)\n",
      "Number of clusters:  5\n",
      "Number of voxels: 22378\n",
      "Effective number of clusters: 4\n",
      "Input shape:  (1141278,)\n",
      "Number of clusters:  4\n",
      "Number of voxels: 22378\n",
      "Effective number of clusters: 3\n",
      "Input shape:  (1141278,)\n",
      "Number of clusters:  4\n",
      "Number of voxels: 22378\n",
      "Effective number of clusters: 3\n",
      "Input shape:  (1141278,)\n",
      "Number of clusters:  3\n",
      "Number of voxels: 22378\n",
      "Effective number of clusters: 2\n",
      "Input shape:  (1141278,)\n",
      "Number of clusters:  3\n",
      "Number of voxels: 22378\n",
      "Effective number of clusters: 2\n",
      "Input shape:  (1141278,)\n",
      "Number of clusters:  3\n",
      "Number of voxels: 22378\n",
      "Effective number of clusters: 2\n",
      "Input shape:  (1141278,)\n",
      "Number of clusters:  3\n",
      "Number of voxels: 22378\n",
      "Effective number of clusters: 2\n",
      "Input shape:  (1141278,)\n",
      "Number of clusters:  3\n",
      "Number of voxels: 22378\n",
      "Effective number of clusters: 2\n",
      "Input shape:  (1141278,)\n",
      "Number of clusters:  3\n",
      "Number of voxels: 22378\n",
      "Effective number of clusters: 2\n",
      "Input shape:  (1141278,)\n",
      "Number of clusters:  3\n",
      "Number of voxels: 22378\n",
      "Effective number of clusters: 2\n",
      "Input shape:  (1141278,)\n",
      "Number of clusters:  3\n",
      "Number of voxels: 22378\n",
      "Effective number of clusters: 2\n",
      "Input shape:  (1141278,)\n",
      "Number of clusters:  3\n",
      "Number of voxels: 22378\n",
      "Effective number of clusters: 2\n",
      "Input shape:  (1141278,)\n",
      "Number of clusters:  3\n",
      "Number of voxels: 22378\n",
      "Effective number of clusters: 2\n",
      "Input shape:  (1141278,)\n",
      "Number of clusters:  147\n",
      "Number of voxels: 22378\n",
      "Effective number of clusters: 146\n",
      "Input shape:  (1141278,)\n",
      "Number of clusters:  78\n",
      "Number of voxels: 22378\n",
      "Effective number of clusters: 77\n",
      "Input shape:  (1141278,)\n",
      "Number of clusters:  3\n",
      "Number of voxels: 22378\n",
      "Effective number of clusters: 2\n",
      "Input shape:  (1141278,)\n",
      "Number of clusters:  3\n",
      "Number of voxels: 22378\n",
      "Effective number of clusters: 2\n",
      "Input shape:  (1141278,)\n",
      "Number of clusters:  19\n",
      "Number of voxels: 22378\n",
      "Effective number of clusters: 18\n",
      "Input shape:  (1141278,)\n",
      "Number of clusters:  18\n",
      "Number of voxels: 22378\n",
      "Effective number of clusters: 17\n",
      "Input shape:  (1141278,)\n",
      "Number of clusters:  14\n",
      "Number of voxels: 22378\n",
      "Effective number of clusters: 13\n",
      "Input shape:  (1141278,)\n",
      "Number of clusters:  15\n",
      "Number of voxels: 22378\n",
      "Effective number of clusters: 14\n",
      "Input shape:  (1141278,)\n",
      "Number of clusters:  7\n",
      "Number of voxels: 22378\n",
      "Effective number of clusters: 6\n",
      "Input shape:  (1141278,)\n",
      "Number of clusters:  13\n",
      "Number of voxels: 22378\n",
      "Effective number of clusters: 12\n",
      "Input shape:  (1141278,)\n",
      "Number of clusters:  13\n",
      "Number of voxels: 22378\n",
      "Effective number of clusters: 12\n",
      "Input shape:  (1141278,)\n",
      "Number of clusters:  11\n",
      "Number of voxels: 22378\n",
      "Effective number of clusters: 10\n",
      "Input shape:  (1141278,)\n",
      "Number of clusters:  11\n",
      "Number of voxels: 22378\n",
      "Effective number of clusters: 10\n",
      "Input shape:  (1141278,)\n",
      "Number of clusters:  9\n",
      "Number of voxels: 22378\n",
      "Effective number of clusters: 8\n",
      "Input shape:  (1141278,)\n",
      "Number of clusters:  7\n",
      "Number of voxels: 22378\n",
      "Effective number of clusters: 6\n",
      "Input shape:  (1141278,)\n",
      "Number of clusters:  5\n",
      "Number of voxels: 22378\n",
      "Effective number of clusters: 4\n",
      "Input shape:  (1141278,)\n",
      "Number of clusters:  5\n",
      "Number of voxels: 22378\n",
      "Effective number of clusters: 4\n",
      "Input shape:  (1141278,)\n",
      "Number of clusters:  4\n",
      "Number of voxels: 22378\n",
      "Effective number of clusters: 3\n",
      "Input shape:  (1141278,)\n",
      "Number of clusters:  3\n",
      "Number of voxels: 22378\n",
      "Effective number of clusters: 2\n",
      "Input shape:  (1141278,)\n",
      "Number of clusters:  3\n",
      "Number of voxels: 22378\n",
      "Effective number of clusters: 2\n",
      "Input shape:  (1141278,)\n",
      "Number of clusters:  3\n",
      "Number of voxels: 22378\n",
      "Effective number of clusters: 2\n",
      "Input shape:  (1141278,)\n",
      "Number of clusters:  3\n",
      "Number of voxels: 22378\n",
      "Effective number of clusters: 2\n",
      "Input shape:  (1141278,)\n",
      "Number of clusters:  3\n",
      "Number of voxels: 22378\n",
      "Effective number of clusters: 2\n",
      "Input shape:  (1141278,)\n",
      "Number of clusters:  3\n",
      "Number of voxels: 22378\n",
      "Effective number of clusters: 2\n",
      "Input shape:  (1141278,)\n",
      "Number of clusters:  3\n",
      "Number of voxels: 22378\n",
      "Effective number of clusters: 2\n",
      "Input shape:  (1141278,)\n",
      "Number of clusters:  3\n",
      "Number of voxels: 22378\n",
      "Effective number of clusters: 2\n",
      "Input shape:  (1141278,)\n",
      "Number of clusters:  3\n",
      "Number of voxels: 22378\n",
      "Effective number of clusters: 2\n",
      "Input shape:  (1141278,)\n",
      "Number of clusters:  140\n",
      "Number of voxels: 22378\n",
      "Effective number of clusters: 139\n",
      "Input shape:  (1141278,)\n",
      "Number of clusters:  80\n",
      "Number of voxels: 22378\n",
      "Effective number of clusters: 79\n",
      "Input shape:  (1141278,)\n",
      "Number of clusters:  3\n",
      "Number of voxels: 22378\n",
      "Effective number of clusters: 2\n",
      "Input shape:  (1141278,)\n",
      "Number of clusters:  3\n",
      "Number of voxels: 22378\n",
      "Effective number of clusters: 2\n",
      "Input shape:  (1141278,)\n",
      "Number of clusters:  6\n",
      "Number of voxels: 22378\n",
      "Effective number of clusters: 5\n",
      "Input shape:  (1141278,)\n",
      "Number of clusters:  4\n",
      "Number of voxels: 22378\n",
      "Effective number of clusters: 3\n",
      "Input shape:  (1141278,)\n",
      "Number of clusters:  14\n",
      "Number of voxels: 22378\n",
      "Effective number of clusters: 13\n",
      "Input shape:  (1141278,)\n",
      "Number of clusters:  13\n",
      "Number of voxels: 22378\n",
      "Effective number of clusters: 12\n",
      "Input shape:  (1141278,)\n",
      "Number of clusters:  12\n",
      "Number of voxels: 22378\n",
      "Effective number of clusters: 11\n",
      "Input shape:  (1141278,)\n",
      "Number of clusters:  12\n",
      "Number of voxels: 22378\n",
      "Effective number of clusters: 11\n",
      "Input shape:  (1141278,)\n",
      "Number of clusters:  11\n",
      "Number of voxels: 22378\n",
      "Effective number of clusters: 10\n",
      "Input shape:  (1141278,)\n",
      "Number of clusters:  10\n",
      "Number of voxels: 22378\n",
      "Effective number of clusters: 9\n",
      "Input shape:  (1141278,)\n",
      "Number of clusters:  10\n",
      "Number of voxels: 22378\n",
      "Effective number of clusters: 9\n",
      "Input shape:  (1141278,)\n",
      "Number of clusters:  8\n",
      "Number of voxels: 22378\n",
      "Effective number of clusters: 7\n",
      "Input shape:  (1141278,)\n",
      "Number of clusters:  6\n",
      "Number of voxels: 22378\n",
      "Effective number of clusters: 5\n",
      "Input shape:  (1141278,)\n",
      "Number of clusters:  4\n",
      "Number of voxels: 22378\n",
      "Effective number of clusters: 3\n",
      "Input shape:  (1141278,)\n",
      "Number of clusters:  3\n",
      "Number of voxels: 22378\n",
      "Effective number of clusters: 2\n",
      "Input shape:  (1141278,)\n",
      "Number of clusters:  3\n",
      "Number of voxels: 22378\n",
      "Effective number of clusters: 2\n",
      "Input shape:  (1141278,)\n",
      "Number of clusters:  3\n",
      "Number of voxels: 22378\n",
      "Effective number of clusters: 2\n",
      "Input shape:  (1141278,)\n",
      "Number of clusters:  3\n",
      "Number of voxels: 22378\n",
      "Effective number of clusters: 2\n",
      "Input shape:  (1141278,)\n",
      "Number of clusters:  3\n",
      "Number of voxels: 22378\n",
      "Effective number of clusters: 2\n"
     ]
    },
    {
     "name": "stdout",
     "output_type": "stream",
     "text": [
      "Input shape:  (1141278,)\n",
      "Number of clusters:  3\n",
      "Number of voxels: 22378\n",
      "Effective number of clusters: 2\n",
      "Input shape:  (1141278,)\n",
      "Number of clusters:  3\n",
      "Number of voxels: 22378\n",
      "Effective number of clusters: 2\n",
      "Input shape:  (1141278,)\n",
      "Number of clusters:  3\n",
      "Number of voxels: 22378\n",
      "Effective number of clusters: 2\n",
      "Input shape:  (1141278,)\n",
      "Number of clusters:  3\n",
      "Number of voxels: 22378\n",
      "Effective number of clusters: 2\n",
      "Input shape:  (1141278,)\n",
      "Number of clusters:  3\n",
      "Number of voxels: 22378\n",
      "Effective number of clusters: 2\n",
      "Input shape:  (1141278,)\n",
      "Number of clusters:  3\n",
      "Number of voxels: 22378\n",
      "Effective number of clusters: 2\n",
      "Input shape:  (1141278,)\n",
      "Number of clusters:  140\n",
      "Number of voxels: 22378\n",
      "Effective number of clusters: 139\n",
      "Input shape:  (1141278,)\n",
      "Number of clusters:  63\n",
      "Number of voxels: 22378\n",
      "Effective number of clusters: 62\n",
      "Input shape:  (1141278,)\n",
      "Number of clusters:  3\n",
      "Number of voxels: 22378\n",
      "Effective number of clusters: 2\n",
      "Input shape:  (1141278,)\n",
      "Number of clusters:  3\n",
      "Number of voxels: 22378\n",
      "Effective number of clusters: 2\n",
      "Input shape:  (1141278,)\n",
      "Number of clusters:  23\n",
      "Number of voxels: 22378\n",
      "Effective number of clusters: 22\n",
      "Input shape:  (1141278,)\n",
      "Number of clusters:  5\n",
      "Number of voxels: 22378\n",
      "Effective number of clusters: 4\n",
      "Input shape:  (1141278,)\n",
      "Number of clusters:  5\n",
      "Number of voxels: 22378\n",
      "Effective number of clusters: 4\n",
      "Input shape:  (1141278,)\n",
      "Number of clusters:  3\n",
      "Number of voxels: 22378\n",
      "Effective number of clusters: 2\n",
      "Input shape:  (1141278,)\n",
      "Number of clusters:  6\n",
      "Number of voxels: 22378\n",
      "Effective number of clusters: 5\n",
      "Input shape:  (1141278,)\n",
      "Number of clusters:  10\n",
      "Number of voxels: 22378\n",
      "Effective number of clusters: 9\n",
      "Input shape:  (1141278,)\n",
      "Number of clusters:  10\n",
      "Number of voxels: 22378\n",
      "Effective number of clusters: 9\n",
      "Input shape:  (1141278,)\n",
      "Number of clusters:  9\n",
      "Number of voxels: 22378\n",
      "Effective number of clusters: 8\n",
      "Input shape:  (1141278,)\n",
      "Number of clusters:  9\n",
      "Number of voxels: 22378\n",
      "Effective number of clusters: 8\n",
      "Input shape:  (1141278,)\n",
      "Number of clusters:  6\n",
      "Number of voxels: 22378\n",
      "Effective number of clusters: 5\n",
      "Input shape:  (1141278,)\n",
      "Number of clusters:  4\n",
      "Number of voxels: 22378\n",
      "Effective number of clusters: 3\n",
      "Input shape:  (1141278,)\n",
      "Number of clusters:  3\n",
      "Number of voxels: 22378\n",
      "Effective number of clusters: 2\n",
      "Input shape:  (1141278,)\n",
      "Number of clusters:  5\n",
      "Number of voxels: 22378\n",
      "Effective number of clusters: 4\n",
      "Input shape:  (1141278,)\n",
      "Number of clusters:  5\n",
      "Number of voxels: 22378\n",
      "Effective number of clusters: 4\n",
      "Input shape:  (1141278,)\n",
      "Number of clusters:  5\n",
      "Number of voxels: 22378\n",
      "Effective number of clusters: 4\n",
      "Input shape:  (1141278,)\n",
      "Number of clusters:  5\n",
      "Number of voxels: 22378\n",
      "Effective number of clusters: 4\n",
      "Input shape:  (1141278,)\n",
      "Number of clusters:  5\n",
      "Number of voxels: 22378\n",
      "Effective number of clusters: 4\n",
      "Input shape:  (1141278,)\n",
      "Number of clusters:  5\n",
      "Number of voxels: 22378\n",
      "Effective number of clusters: 4\n",
      "Input shape:  (1141278,)\n",
      "Number of clusters:  5\n",
      "Number of voxels: 22378\n",
      "Effective number of clusters: 4\n",
      "Input shape:  (1141278,)\n",
      "Number of clusters:  4\n",
      "Number of voxels: 22378\n",
      "Effective number of clusters: 3\n",
      "Input shape:  (1141278,)\n",
      "Number of clusters:  4\n",
      "Number of voxels: 22378\n",
      "Effective number of clusters: 3\n",
      "Input shape:  (1141278,)\n",
      "Number of clusters:  4\n",
      "Number of voxels: 22378\n",
      "Effective number of clusters: 3\n",
      "Input shape:  (1141278,)\n",
      "Number of clusters:  4\n",
      "Number of voxels: 22378\n",
      "Effective number of clusters: 3\n",
      "Input shape:  (1141278,)\n",
      "Number of clusters:  139\n",
      "Number of voxels: 22378\n",
      "Effective number of clusters: 138\n",
      "Input shape:  (1141278,)\n",
      "Number of clusters:  57\n",
      "Number of voxels: 22378\n",
      "Effective number of clusters: 56\n",
      "Input shape:  (1141278,)\n",
      "Number of clusters:  8\n",
      "Number of voxels: 22378\n",
      "Effective number of clusters: 7\n",
      "Input shape:  (1141278,)\n",
      "Number of clusters:  3\n",
      "Number of voxels: 22378\n",
      "Effective number of clusters: 2\n",
      "Input shape:  (1141278,)\n",
      "Number of clusters:  6\n",
      "Number of voxels: 22378\n",
      "Effective number of clusters: 5\n",
      "Input shape:  (1141278,)\n",
      "Number of clusters:  6\n",
      "Number of voxels: 22378\n",
      "Effective number of clusters: 5\n",
      "Input shape:  (1141278,)\n",
      "Number of clusters:  6\n",
      "Number of voxels: 22378\n",
      "Effective number of clusters: 5\n",
      "Input shape:  (1141278,)\n",
      "Number of clusters:  4\n",
      "Number of voxels: 22378\n",
      "Effective number of clusters: 3\n",
      "Input shape:  (1141278,)\n",
      "Number of clusters:  3\n",
      "Number of voxels: 22378\n",
      "Effective number of clusters: 2\n",
      "Input shape:  (1141278,)\n",
      "Number of clusters:  3\n",
      "Number of voxels: 22378\n",
      "Effective number of clusters: 2\n",
      "Input shape:  (1141278,)\n",
      "Number of clusters:  3\n",
      "Number of voxels: 22378\n",
      "Effective number of clusters: 2\n",
      "Input shape:  (1141278,)\n",
      "Number of clusters:  3\n",
      "Number of voxels: 22378\n",
      "Effective number of clusters: 2\n",
      "Input shape:  (1141278,)\n",
      "Number of clusters:  3\n",
      "Number of voxels: 22378\n",
      "Effective number of clusters: 2\n",
      "Input shape:  (1141278,)\n",
      "Number of clusters:  3\n",
      "Number of voxels: 22378\n",
      "Effective number of clusters: 2\n",
      "Input shape:  (1141278,)\n",
      "Number of clusters:  3\n",
      "Number of voxels: 22378\n",
      "Effective number of clusters: 2\n",
      "Input shape:  (1141278,)\n",
      "Number of clusters:  3\n",
      "Number of voxels: 22378\n",
      "Effective number of clusters: 2\n",
      "Input shape:  (1141278,)\n",
      "Number of clusters:  3\n",
      "Number of voxels: 22378\n",
      "Effective number of clusters: 2\n",
      "Input shape:  (1141278,)\n",
      "Number of clusters:  3\n",
      "Number of voxels: 22378\n",
      "Effective number of clusters: 2\n",
      "Input shape:  (1141278,)\n",
      "Number of clusters:  3\n",
      "Number of voxels: 22378\n",
      "Effective number of clusters: 2\n",
      "Input shape:  (1141278,)\n",
      "Number of clusters:  3\n",
      "Number of voxels: 22378\n",
      "Effective number of clusters: 2\n",
      "Input shape:  (1141278,)\n",
      "Number of clusters:  3\n",
      "Number of voxels: 22378\n",
      "Effective number of clusters: 2\n",
      "Input shape:  (1141278,)\n",
      "Number of clusters:  3\n",
      "Number of voxels: 22378\n",
      "Effective number of clusters: 2\n",
      "Input shape:  (1141278,)\n",
      "Number of clusters:  3\n",
      "Number of voxels: 22378\n",
      "Effective number of clusters: 2\n",
      "Input shape:  (1141278,)\n",
      "Number of clusters:  3\n",
      "Number of voxels: 22378\n",
      "Effective number of clusters: 2\n",
      "Input shape:  (1141278,)\n",
      "Number of clusters:  3\n",
      "Number of voxels: 22378\n",
      "Effective number of clusters: 2\n",
      "Input shape:  (1141278,)\n",
      "Number of clusters:  3\n",
      "Number of voxels: 22378\n",
      "Effective number of clusters: 2\n",
      "Input shape:  (1141278,)\n",
      "Number of clusters:  3\n",
      "Number of voxels: 22378\n",
      "Effective number of clusters: 2\n",
      "Reducing...\n",
      "Input shape:  (1141278,)\n",
      "Number of clusters:  176\n",
      "Number of voxels: 22378\n",
      "Effective number of clusters: 175\n",
      "Input shape:  (1141278,)\n",
      "Number of clusters:  105\n",
      "Number of voxels: 22378\n",
      "Effective number of clusters: 104\n",
      "Input shape:  (1141278,)\n",
      "Number of clusters:  48\n",
      "Number of voxels: 22378\n",
      "Effective number of clusters: 47\n",
      "Input shape:  (1141278,)\n",
      "Number of clusters:  41\n",
      "Number of voxels: 22378\n",
      "Effective number of clusters: 40\n",
      "Input shape:  (1141278,)\n",
      "Number of clusters:  12\n",
      "Number of voxels: 22378\n",
      "Effective number of clusters: 11\n",
      "Input shape:  (1141278,)\n",
      "Number of clusters:  11\n",
      "Number of voxels: 22378\n",
      "Effective number of clusters: 10\n",
      "Input shape:  (1141278,)\n",
      "Number of clusters:  11\n",
      "Number of voxels: 22378\n",
      "Effective number of clusters: 10\n",
      "Input shape:  (1141278,)\n",
      "Number of clusters:  10\n",
      "Number of voxels: 22378\n",
      "Effective number of clusters: 9\n",
      "Input shape:  (1141278,)\n",
      "Number of clusters:  10\n",
      "Number of voxels: 22378\n",
      "Effective number of clusters: 9\n",
      "Input shape:  (1141278,)\n",
      "Number of clusters:  9\n",
      "Number of voxels: 22378\n",
      "Effective number of clusters: 8\n",
      "Input shape:  (1141278,)\n",
      "Number of clusters:  9\n",
      "Number of voxels: 22378\n",
      "Effective number of clusters: 8\n",
      "Input shape:  (1141278,)\n",
      "Number of clusters:  8\n",
      "Number of voxels: 22378\n",
      "Effective number of clusters: 7\n",
      "Input shape:  (1141278,)\n",
      "Number of clusters:  8\n",
      "Number of voxels: 22378\n",
      "Effective number of clusters: 7\n",
      "Input shape:  (1141278,)\n",
      "Number of clusters:  7\n",
      "Number of voxels: 22378\n",
      "Effective number of clusters: 6\n",
      "Input shape:  (1141278,)\n",
      "Number of clusters:  6\n",
      "Number of voxels: 22378\n",
      "Effective number of clusters: 5\n",
      "Input shape:  (1141278,)\n",
      "Number of clusters:  6\n",
      "Number of voxels: 22378\n",
      "Effective number of clusters: 5\n",
      "Input shape:  (1141278,)\n",
      "Number of clusters:  5\n",
      "Number of voxels: 22378\n",
      "Effective number of clusters: 4\n",
      "Input shape:  (1141278,)\n",
      "Number of clusters:  5\n",
      "Number of voxels: 22378\n",
      "Effective number of clusters: 4\n",
      "Input shape:  (1141278,)\n",
      "Number of clusters:  5\n",
      "Number of voxels: 22378\n",
      "Effective number of clusters: 4\n"
     ]
    },
    {
     "name": "stdout",
     "output_type": "stream",
     "text": [
      "Input shape:  (1141278,)\n",
      "Number of clusters:  4\n",
      "Number of voxels: 22378\n",
      "Effective number of clusters: 3\n",
      "Input shape:  (1141278,)\n",
      "Number of clusters:  4\n",
      "Number of voxels: 22378\n",
      "Effective number of clusters: 3\n",
      "Input shape:  (1141278,)\n",
      "Number of clusters:  4\n",
      "Number of voxels: 22378\n",
      "Effective number of clusters: 3\n",
      "Input shape:  (1141278,)\n",
      "Number of clusters:  3\n",
      "Number of voxels: 22378\n",
      "Effective number of clusters: 2\n",
      "Input shape:  (1141278,)\n",
      "Number of clusters:  3\n",
      "Number of voxels: 22378\n",
      "Effective number of clusters: 2\n",
      "Input shape:  (1141278,)\n",
      "Number of clusters:  3\n",
      "Number of voxels: 22378\n",
      "Effective number of clusters: 2\n",
      "Input shape:  (1141278,)\n",
      "Number of clusters:  3\n",
      "Number of voxels: 22378\n",
      "Effective number of clusters: 2\n",
      "Input shape:  (1141278,)\n",
      "Number of clusters:  3\n",
      "Number of voxels: 22378\n",
      "Effective number of clusters: 2\n",
      "Input shape:  (1141278,)\n",
      "Number of clusters:  177\n",
      "Number of voxels: 22378\n",
      "Effective number of clusters: 176\n",
      "Input shape:  (1141278,)\n",
      "Number of clusters:  100\n",
      "Number of voxels: 22378\n",
      "Effective number of clusters: 99\n",
      "Input shape:  (1141278,)\n",
      "Number of clusters:  48\n",
      "Number of voxels: 22378\n",
      "Effective number of clusters: 47\n",
      "Input shape:  (1141278,)\n",
      "Number of clusters:  41\n",
      "Number of voxels: 22378\n",
      "Effective number of clusters: 40\n",
      "Input shape:  (1141278,)\n",
      "Number of clusters:  13\n",
      "Number of voxels: 22378\n",
      "Effective number of clusters: 12\n",
      "Input shape:  (1141278,)\n",
      "Number of clusters:  12\n",
      "Number of voxels: 22378\n",
      "Effective number of clusters: 11\n",
      "Input shape:  (1141278,)\n",
      "Number of clusters:  12\n",
      "Number of voxels: 22378\n",
      "Effective number of clusters: 11\n",
      "Input shape:  (1141278,)\n",
      "Number of clusters:  9\n",
      "Number of voxels: 22378\n",
      "Effective number of clusters: 8\n",
      "Input shape:  (1141278,)\n",
      "Number of clusters:  9\n",
      "Number of voxels: 22378\n",
      "Effective number of clusters: 8\n",
      "Input shape:  (1141278,)\n",
      "Number of clusters:  9\n",
      "Number of voxels: 22378\n",
      "Effective number of clusters: 8\n",
      "Input shape:  (1141278,)\n",
      "Number of clusters:  9\n",
      "Number of voxels: 22378\n",
      "Effective number of clusters: 8\n",
      "Input shape:  (1141278,)\n",
      "Number of clusters:  9\n",
      "Number of voxels: 22378\n",
      "Effective number of clusters: 8\n",
      "Input shape:  (1141278,)\n",
      "Number of clusters:  9\n",
      "Number of voxels: 22378\n",
      "Effective number of clusters: 8\n",
      "Input shape:  (1141278,)\n",
      "Number of clusters:  7\n",
      "Number of voxels: 22378\n",
      "Effective number of clusters: 6\n",
      "Input shape:  (1141278,)\n",
      "Number of clusters:  7\n",
      "Number of voxels: 22378\n",
      "Effective number of clusters: 6\n",
      "Input shape:  (1141278,)\n",
      "Number of clusters:  6\n",
      "Number of voxels: 22378\n",
      "Effective number of clusters: 5\n",
      "Input shape:  (1141278,)\n",
      "Number of clusters:  6\n",
      "Number of voxels: 22378\n",
      "Effective number of clusters: 5\n",
      "Input shape:  (1141278,)\n",
      "Number of clusters:  6\n",
      "Number of voxels: 22378\n",
      "Effective number of clusters: 5\n",
      "Input shape:  (1141278,)\n",
      "Number of clusters:  5\n",
      "Number of voxels: 22378\n",
      "Effective number of clusters: 4\n",
      "Input shape:  (1141278,)\n",
      "Number of clusters:  4\n",
      "Number of voxels: 22378\n",
      "Effective number of clusters: 3\n",
      "Input shape:  (1141278,)\n",
      "Number of clusters:  4\n",
      "Number of voxels: 22378\n",
      "Effective number of clusters: 3\n",
      "Input shape:  (1141278,)\n",
      "Number of clusters:  4\n",
      "Number of voxels: 22378\n",
      "Effective number of clusters: 3\n",
      "Input shape:  (1141278,)\n",
      "Number of clusters:  3\n",
      "Number of voxels: 22378\n",
      "Effective number of clusters: 2\n",
      "Input shape:  (1141278,)\n",
      "Number of clusters:  3\n",
      "Number of voxels: 22378\n",
      "Effective number of clusters: 2\n",
      "Input shape:  (1141278,)\n",
      "Number of clusters:  3\n",
      "Number of voxels: 22378\n",
      "Effective number of clusters: 2\n",
      "Input shape:  (1141278,)\n",
      "Number of clusters:  3\n",
      "Number of voxels: 22378\n",
      "Effective number of clusters: 2\n",
      "Input shape:  (1141278,)\n",
      "Number of clusters:  3\n",
      "Number of voxels: 22378\n",
      "Effective number of clusters: 2\n",
      "Input shape:  (1141278,)\n",
      "Number of clusters:  177\n",
      "Number of voxels: 22378\n",
      "Effective number of clusters: 176\n",
      "Input shape:  (1141278,)\n",
      "Number of clusters:  95\n",
      "Number of voxels: 22378\n",
      "Effective number of clusters: 94\n",
      "Input shape:  (1141278,)\n",
      "Number of clusters:  29\n",
      "Number of voxels: 22378\n",
      "Effective number of clusters: 28\n",
      "Input shape:  (1141278,)\n",
      "Number of clusters:  22\n",
      "Number of voxels: 22378\n",
      "Effective number of clusters: 21\n",
      "Input shape:  (1141278,)\n",
      "Number of clusters:  20\n",
      "Number of voxels: 22378\n",
      "Effective number of clusters: 19\n",
      "Input shape:  (1141278,)\n",
      "Number of clusters:  16\n",
      "Number of voxels: 22378\n",
      "Effective number of clusters: 15\n",
      "Input shape:  (1141278,)\n",
      "Number of clusters:  16\n",
      "Number of voxels: 22378\n",
      "Effective number of clusters: 15\n",
      "Input shape:  (1141278,)\n",
      "Number of clusters:  14\n",
      "Number of voxels: 22378\n",
      "Effective number of clusters: 13\n",
      "Input shape:  (1141278,)\n",
      "Number of clusters:  13\n",
      "Number of voxels: 22378\n",
      "Effective number of clusters: 12\n",
      "Input shape:  (1141278,)\n",
      "Number of clusters:  13\n",
      "Number of voxels: 22378\n",
      "Effective number of clusters: 12\n",
      "Input shape:  (1141278,)\n",
      "Number of clusters:  13\n",
      "Number of voxels: 22378\n",
      "Effective number of clusters: 12\n",
      "Input shape:  (1141278,)\n",
      "Number of clusters:  7\n",
      "Number of voxels: 22378\n",
      "Effective number of clusters: 6\n",
      "Input shape:  (1141278,)\n",
      "Number of clusters:  7\n",
      "Number of voxels: 22378\n",
      "Effective number of clusters: 6\n",
      "Input shape:  (1141278,)\n",
      "Number of clusters:  7\n",
      "Number of voxels: 22378\n",
      "Effective number of clusters: 6\n",
      "Input shape:  (1141278,)\n",
      "Number of clusters:  7\n",
      "Number of voxels: 22378\n",
      "Effective number of clusters: 6\n",
      "Input shape:  (1141278,)\n",
      "Number of clusters:  6\n",
      "Number of voxels: 22378\n",
      "Effective number of clusters: 5\n",
      "Input shape:  (1141278,)\n",
      "Number of clusters:  6\n",
      "Number of voxels: 22378\n",
      "Effective number of clusters: 5\n",
      "Input shape:  (1141278,)\n",
      "Number of clusters:  6\n",
      "Number of voxels: 22378\n",
      "Effective number of clusters: 5\n",
      "Input shape:  (1141278,)\n",
      "Number of clusters:  6\n",
      "Number of voxels: 22378\n",
      "Effective number of clusters: 5\n",
      "Input shape:  (1141278,)\n",
      "Number of clusters:  5\n",
      "Number of voxels: 22378\n",
      "Effective number of clusters: 4\n",
      "Input shape:  (1141278,)\n",
      "Number of clusters:  4\n",
      "Number of voxels: 22378\n",
      "Effective number of clusters: 3\n",
      "Input shape:  (1141278,)\n",
      "Number of clusters:  4\n",
      "Number of voxels: 22378\n",
      "Effective number of clusters: 3\n",
      "Input shape:  (1141278,)\n",
      "Number of clusters:  3\n",
      "Number of voxels: 22378\n",
      "Effective number of clusters: 2\n",
      "Input shape:  (1141278,)\n",
      "Number of clusters:  3\n",
      "Number of voxels: 22378\n",
      "Effective number of clusters: 2\n",
      "Input shape:  (1141278,)\n",
      "Number of clusters:  3\n",
      "Number of voxels: 22378\n",
      "Effective number of clusters: 2\n",
      "Input shape:  (1141278,)\n",
      "Number of clusters:  3\n",
      "Number of voxels: 22378\n",
      "Effective number of clusters: 2\n",
      "Input shape:  (1141278,)\n",
      "Number of clusters:  3\n",
      "Number of voxels: 22378\n",
      "Effective number of clusters: 2\n",
      "Input shape:  (1141278,)\n",
      "Number of clusters:  171\n",
      "Number of voxels: 22378\n",
      "Effective number of clusters: 170\n",
      "Input shape:  (1141278,)\n",
      "Number of clusters:  98\n",
      "Number of voxels: 22378\n",
      "Effective number of clusters: 97\n",
      "Input shape:  (1141278,)\n",
      "Number of clusters:  49\n",
      "Number of voxels: 22378\n",
      "Effective number of clusters: 48\n",
      "Input shape:  (1141278,)\n",
      "Number of clusters:  41\n",
      "Number of voxels: 22378\n",
      "Effective number of clusters: 40\n",
      "Input shape:  (1141278,)\n",
      "Number of clusters:  11\n",
      "Number of voxels: 22378\n",
      "Effective number of clusters: 10\n",
      "Input shape:  (1141278,)\n",
      "Number of clusters:  9\n",
      "Number of voxels: 22378\n",
      "Effective number of clusters: 8\n",
      "Input shape:  (1141278,)\n",
      "Number of clusters:  9\n",
      "Number of voxels: 22378\n",
      "Effective number of clusters: 8\n",
      "Input shape:  (1141278,)\n",
      "Number of clusters:  8\n",
      "Number of voxels: 22378\n",
      "Effective number of clusters: 7\n",
      "Input shape:  (1141278,)\n",
      "Number of clusters:  8\n",
      "Number of voxels: 22378\n",
      "Effective number of clusters: 7\n",
      "Input shape:  (1141278,)\n",
      "Number of clusters:  8\n",
      "Number of voxels: 22378\n",
      "Effective number of clusters: 7\n",
      "Input shape:  (1141278,)\n",
      "Number of clusters:  8\n",
      "Number of voxels: 22378\n",
      "Effective number of clusters: 7\n",
      "Input shape:  (1141278,)\n",
      "Number of clusters:  7\n",
      "Number of voxels: 22378\n",
      "Effective number of clusters: 6\n",
      "Input shape:  (1141278,)\n",
      "Number of clusters:  7\n",
      "Number of voxels: 22378\n",
      "Effective number of clusters: 6\n",
      "Input shape:  (1141278,)\n",
      "Number of clusters:  7\n",
      "Number of voxels: 22378\n",
      "Effective number of clusters: 6\n",
      "Input shape:  (1141278,)\n",
      "Number of clusters:  7\n",
      "Number of voxels: 22378\n",
      "Effective number of clusters: 6\n",
      "Input shape:  (1141278,)\n",
      "Number of clusters:  7\n",
      "Number of voxels: 22378\n",
      "Effective number of clusters: 6\n",
      "Input shape:  (1141278,)\n",
      "Number of clusters:  6\n",
      "Number of voxels: 22378\n",
      "Effective number of clusters: 5\n"
     ]
    },
    {
     "name": "stdout",
     "output_type": "stream",
     "text": [
      "Input shape:  (1141278,)\n",
      "Number of clusters:  6\n",
      "Number of voxels: 22378\n",
      "Effective number of clusters: 5\n",
      "Input shape:  (1141278,)\n",
      "Number of clusters:  6\n",
      "Number of voxels: 22378\n",
      "Effective number of clusters: 5\n",
      "Input shape:  (1141278,)\n",
      "Number of clusters:  5\n",
      "Number of voxels: 22378\n",
      "Effective number of clusters: 4\n",
      "Input shape:  (1141278,)\n",
      "Number of clusters:  4\n",
      "Number of voxels: 22378\n",
      "Effective number of clusters: 3\n",
      "Input shape:  (1141278,)\n",
      "Number of clusters:  4\n",
      "Number of voxels: 22378\n",
      "Effective number of clusters: 3\n",
      "Input shape:  (1141278,)\n",
      "Number of clusters:  3\n",
      "Number of voxels: 22378\n",
      "Effective number of clusters: 2\n",
      "Input shape:  (1141278,)\n",
      "Number of clusters:  3\n",
      "Number of voxels: 22378\n",
      "Effective number of clusters: 2\n",
      "Input shape:  (1141278,)\n",
      "Number of clusters:  3\n",
      "Number of voxels: 22378\n",
      "Effective number of clusters: 2\n",
      "Input shape:  (1141278,)\n",
      "Number of clusters:  3\n",
      "Number of voxels: 22378\n",
      "Effective number of clusters: 2\n",
      "Input shape:  (1141278,)\n",
      "Number of clusters:  3\n",
      "Number of voxels: 22378\n",
      "Effective number of clusters: 2\n",
      "Input shape:  (1141278,)\n",
      "Number of clusters:  168\n",
      "Number of voxels: 22378\n",
      "Effective number of clusters: 167\n",
      "Input shape:  (1141278,)\n",
      "Number of clusters:  97\n",
      "Number of voxels: 22378\n",
      "Effective number of clusters: 96\n",
      "Input shape:  (1141278,)\n",
      "Number of clusters:  33\n",
      "Number of voxels: 22378\n",
      "Effective number of clusters: 32\n",
      "Input shape:  (1141278,)\n",
      "Number of clusters:  26\n",
      "Number of voxels: 22378\n",
      "Effective number of clusters: 25\n",
      "Input shape:  (1141278,)\n",
      "Number of clusters:  23\n",
      "Number of voxels: 22378\n",
      "Effective number of clusters: 22\n",
      "Input shape:  (1141278,)\n",
      "Number of clusters:  20\n",
      "Number of voxels: 22378\n",
      "Effective number of clusters: 19\n",
      "Input shape:  (1141278,)\n",
      "Number of clusters:  19\n",
      "Number of voxels: 22378\n",
      "Effective number of clusters: 18\n",
      "Input shape:  (1141278,)\n",
      "Number of clusters:  8\n",
      "Number of voxels: 22378\n",
      "Effective number of clusters: 7\n",
      "Input shape:  (1141278,)\n",
      "Number of clusters:  8\n",
      "Number of voxels: 22378\n",
      "Effective number of clusters: 7\n",
      "Input shape:  (1141278,)\n",
      "Number of clusters:  8\n",
      "Number of voxels: 22378\n",
      "Effective number of clusters: 7\n",
      "Input shape:  (1141278,)\n",
      "Number of clusters:  8\n",
      "Number of voxels: 22378\n",
      "Effective number of clusters: 7\n",
      "Input shape:  (1141278,)\n",
      "Number of clusters:  8\n",
      "Number of voxels: 22378\n",
      "Effective number of clusters: 7\n",
      "Input shape:  (1141278,)\n",
      "Number of clusters:  8\n",
      "Number of voxels: 22378\n",
      "Effective number of clusters: 7\n",
      "Input shape:  (1141278,)\n",
      "Number of clusters:  7\n",
      "Number of voxels: 22378\n",
      "Effective number of clusters: 6\n",
      "Input shape:  (1141278,)\n",
      "Number of clusters:  7\n",
      "Number of voxels: 22378\n",
      "Effective number of clusters: 6\n",
      "Input shape:  (1141278,)\n",
      "Number of clusters:  7\n",
      "Number of voxels: 22378\n",
      "Effective number of clusters: 6\n",
      "Input shape:  (1141278,)\n",
      "Number of clusters:  6\n",
      "Number of voxels: 22378\n",
      "Effective number of clusters: 5\n",
      "Input shape:  (1141278,)\n",
      "Number of clusters:  5\n",
      "Number of voxels: 22378\n",
      "Effective number of clusters: 4\n",
      "Input shape:  (1141278,)\n",
      "Number of clusters:  5\n",
      "Number of voxels: 22378\n",
      "Effective number of clusters: 4\n",
      "Input shape:  (1141278,)\n",
      "Number of clusters:  4\n",
      "Number of voxels: 22378\n",
      "Effective number of clusters: 3\n",
      "Input shape:  (1141278,)\n",
      "Number of clusters:  4\n",
      "Number of voxels: 22378\n",
      "Effective number of clusters: 3\n",
      "Input shape:  (1141278,)\n",
      "Number of clusters:  4\n",
      "Number of voxels: 22378\n",
      "Effective number of clusters: 3\n",
      "Input shape:  (1141278,)\n",
      "Number of clusters:  4\n",
      "Number of voxels: 22378\n",
      "Effective number of clusters: 3\n",
      "Input shape:  (1141278,)\n",
      "Number of clusters:  4\n",
      "Number of voxels: 22378\n",
      "Effective number of clusters: 3\n",
      "Input shape:  (1141278,)\n",
      "Number of clusters:  3\n",
      "Number of voxels: 22378\n",
      "Effective number of clusters: 2\n",
      "Input shape:  (1141278,)\n",
      "Number of clusters:  3\n",
      "Number of voxels: 22378\n",
      "Effective number of clusters: 2\n",
      "Input shape:  (1141278,)\n",
      "Number of clusters:  3\n",
      "Number of voxels: 22378\n",
      "Effective number of clusters: 2\n",
      "Input shape:  (1141278,)\n",
      "Number of clusters:  165\n",
      "Number of voxels: 22378\n",
      "Effective number of clusters: 164\n",
      "Input shape:  (1141278,)\n",
      "Number of clusters:  100\n",
      "Number of voxels: 22378\n",
      "Effective number of clusters: 99\n",
      "Input shape:  (1141278,)\n",
      "Number of clusters:  31\n",
      "Number of voxels: 22378\n",
      "Effective number of clusters: 30\n",
      "Input shape:  (1141278,)\n",
      "Number of clusters:  24\n",
      "Number of voxels: 22378\n",
      "Effective number of clusters: 23\n",
      "Input shape:  (1141278,)\n",
      "Number of clusters:  21\n",
      "Number of voxels: 22378\n",
      "Effective number of clusters: 20\n",
      "Input shape:  (1141278,)\n",
      "Number of clusters:  7\n",
      "Number of voxels: 22378\n",
      "Effective number of clusters: 6\n",
      "Input shape:  (1141278,)\n",
      "Number of clusters:  7\n",
      "Number of voxels: 22378\n",
      "Effective number of clusters: 6\n",
      "Input shape:  (1141278,)\n",
      "Number of clusters:  7\n",
      "Number of voxels: 22378\n",
      "Effective number of clusters: 6\n",
      "Input shape:  (1141278,)\n",
      "Number of clusters:  7\n",
      "Number of voxels: 22378\n",
      "Effective number of clusters: 6\n",
      "Input shape:  (1141278,)\n",
      "Number of clusters:  7\n",
      "Number of voxels: 22378\n",
      "Effective number of clusters: 6\n",
      "Input shape:  (1141278,)\n",
      "Number of clusters:  7\n",
      "Number of voxels: 22378\n",
      "Effective number of clusters: 6\n",
      "Input shape:  (1141278,)\n",
      "Number of clusters:  7\n",
      "Number of voxels: 22378\n",
      "Effective number of clusters: 6\n",
      "Input shape:  (1141278,)\n",
      "Number of clusters:  7\n",
      "Number of voxels: 22378\n",
      "Effective number of clusters: 6\n",
      "Input shape:  (1141278,)\n",
      "Number of clusters:  6\n",
      "Number of voxels: 22378\n",
      "Effective number of clusters: 5\n",
      "Input shape:  (1141278,)\n",
      "Number of clusters:  6\n",
      "Number of voxels: 22378\n",
      "Effective number of clusters: 5\n",
      "Input shape:  (1141278,)\n",
      "Number of clusters:  6\n",
      "Number of voxels: 22378\n",
      "Effective number of clusters: 5\n",
      "Input shape:  (1141278,)\n",
      "Number of clusters:  5\n",
      "Number of voxels: 22378\n",
      "Effective number of clusters: 4\n",
      "Input shape:  (1141278,)\n",
      "Number of clusters:  5\n",
      "Number of voxels: 22378\n",
      "Effective number of clusters: 4\n",
      "Input shape:  (1141278,)\n",
      "Number of clusters:  5\n",
      "Number of voxels: 22378\n",
      "Effective number of clusters: 4\n",
      "Input shape:  (1141278,)\n",
      "Number of clusters:  4\n",
      "Number of voxels: 22378\n",
      "Effective number of clusters: 3\n",
      "Input shape:  (1141278,)\n",
      "Number of clusters:  4\n",
      "Number of voxels: 22378\n",
      "Effective number of clusters: 3\n",
      "Input shape:  (1141278,)\n",
      "Number of clusters:  4\n",
      "Number of voxels: 22378\n",
      "Effective number of clusters: 3\n",
      "Input shape:  (1141278,)\n",
      "Number of clusters:  4\n",
      "Number of voxels: 22378\n",
      "Effective number of clusters: 3\n",
      "Input shape:  (1141278,)\n",
      "Number of clusters:  4\n",
      "Number of voxels: 22378\n",
      "Effective number of clusters: 3\n",
      "Input shape:  (1141278,)\n",
      "Number of clusters:  3\n",
      "Number of voxels: 22378\n",
      "Effective number of clusters: 2\n",
      "Input shape:  (1141278,)\n",
      "Number of clusters:  3\n",
      "Number of voxels: 22378\n",
      "Effective number of clusters: 2\n",
      "Input shape:  (1141278,)\n",
      "Number of clusters:  3\n",
      "Number of voxels: 22378\n",
      "Effective number of clusters: 2\n",
      "Input shape:  (1141278,)\n",
      "Number of clusters:  161\n",
      "Number of voxels: 22378\n",
      "Effective number of clusters: 160\n",
      "Input shape:  (1141278,)\n",
      "Number of clusters:  101\n",
      "Number of voxels: 22378\n",
      "Effective number of clusters: 100\n",
      "Input shape:  (1141278,)\n",
      "Number of clusters:  30\n",
      "Number of voxels: 22378\n",
      "Effective number of clusters: 29\n",
      "Input shape:  (1141278,)\n",
      "Number of clusters:  23\n",
      "Number of voxels: 22378\n",
      "Effective number of clusters: 22\n",
      "Input shape:  (1141278,)\n",
      "Number of clusters:  22\n",
      "Number of voxels: 22378\n",
      "Effective number of clusters: 21\n",
      "Input shape:  (1141278,)\n",
      "Number of clusters:  16\n",
      "Number of voxels: 22378\n",
      "Effective number of clusters: 15\n",
      "Input shape:  (1141278,)\n",
      "Number of clusters:  8\n",
      "Number of voxels: 22378\n",
      "Effective number of clusters: 7\n",
      "Input shape:  (1141278,)\n",
      "Number of clusters:  8\n",
      "Number of voxels: 22378\n",
      "Effective number of clusters: 7\n",
      "Input shape:  (1141278,)\n",
      "Number of clusters:  8\n",
      "Number of voxels: 22378\n",
      "Effective number of clusters: 7\n",
      "Input shape:  (1141278,)\n",
      "Number of clusters:  8\n",
      "Number of voxels: 22378\n",
      "Effective number of clusters: 7\n",
      "Input shape:  (1141278,)\n",
      "Number of clusters:  8\n",
      "Number of voxels: 22378\n",
      "Effective number of clusters: 7\n",
      "Input shape:  (1141278,)\n",
      "Number of clusters:  8\n",
      "Number of voxels: 22378\n",
      "Effective number of clusters: 7\n",
      "Input shape:  (1141278,)\n",
      "Number of clusters:  8\n",
      "Number of voxels: 22378\n",
      "Effective number of clusters: 7\n",
      "Input shape:  (1141278,)\n",
      "Number of clusters:  7\n",
      "Number of voxels: 22378\n",
      "Effective number of clusters: 6\n",
      "Input shape:  (1141278,)\n",
      "Number of clusters:  7\n",
      "Number of voxels: 22378\n",
      "Effective number of clusters: 6\n"
     ]
    },
    {
     "name": "stdout",
     "output_type": "stream",
     "text": [
      "Input shape:  (1141278,)\n",
      "Number of clusters:  6\n",
      "Number of voxels: 22378\n",
      "Effective number of clusters: 5\n",
      "Input shape:  (1141278,)\n",
      "Number of clusters:  5\n",
      "Number of voxels: 22378\n",
      "Effective number of clusters: 4\n",
      "Input shape:  (1141278,)\n",
      "Number of clusters:  5\n",
      "Number of voxels: 22378\n",
      "Effective number of clusters: 4\n",
      "Input shape:  (1141278,)\n",
      "Number of clusters:  5\n",
      "Number of voxels: 22378\n",
      "Effective number of clusters: 4\n",
      "Input shape:  (1141278,)\n",
      "Number of clusters:  5\n",
      "Number of voxels: 22378\n",
      "Effective number of clusters: 4\n",
      "Input shape:  (1141278,)\n",
      "Number of clusters:  4\n",
      "Number of voxels: 22378\n",
      "Effective number of clusters: 3\n",
      "Input shape:  (1141278,)\n",
      "Number of clusters:  4\n",
      "Number of voxels: 22378\n",
      "Effective number of clusters: 3\n",
      "Input shape:  (1141278,)\n",
      "Number of clusters:  4\n",
      "Number of voxels: 22378\n",
      "Effective number of clusters: 3\n",
      "Input shape:  (1141278,)\n",
      "Number of clusters:  4\n",
      "Number of voxels: 22378\n",
      "Effective number of clusters: 3\n",
      "Input shape:  (1141278,)\n",
      "Number of clusters:  3\n",
      "Number of voxels: 22378\n",
      "Effective number of clusters: 2\n",
      "Input shape:  (1141278,)\n",
      "Number of clusters:  3\n",
      "Number of voxels: 22378\n",
      "Effective number of clusters: 2\n",
      "Input shape:  (1141278,)\n",
      "Number of clusters:  3\n",
      "Number of voxels: 22378\n",
      "Effective number of clusters: 2\n",
      "Input shape:  (1141278,)\n",
      "Number of clusters:  158\n",
      "Number of voxels: 22378\n",
      "Effective number of clusters: 157\n",
      "Input shape:  (1141278,)\n",
      "Number of clusters:  102\n",
      "Number of voxels: 22378\n",
      "Effective number of clusters: 101\n",
      "Input shape:  (1141278,)\n",
      "Number of clusters:  31\n",
      "Number of voxels: 22378\n",
      "Effective number of clusters: 30\n",
      "Input shape:  (1141278,)\n",
      "Number of clusters:  26\n",
      "Number of voxels: 22378\n",
      "Effective number of clusters: 25\n",
      "Input shape:  (1141278,)\n",
      "Number of clusters:  24\n",
      "Number of voxels: 22378\n",
      "Effective number of clusters: 23\n",
      "Input shape:  (1141278,)\n",
      "Number of clusters:  9\n",
      "Number of voxels: 22378\n",
      "Effective number of clusters: 8\n",
      "Input shape:  (1141278,)\n",
      "Number of clusters:  9\n",
      "Number of voxels: 22378\n",
      "Effective number of clusters: 8\n",
      "Input shape:  (1141278,)\n",
      "Number of clusters:  9\n",
      "Number of voxels: 22378\n",
      "Effective number of clusters: 8\n",
      "Input shape:  (1141278,)\n",
      "Number of clusters:  9\n",
      "Number of voxels: 22378\n",
      "Effective number of clusters: 8\n",
      "Input shape:  (1141278,)\n",
      "Number of clusters:  8\n",
      "Number of voxels: 22378\n",
      "Effective number of clusters: 7\n",
      "Input shape:  (1141278,)\n",
      "Number of clusters:  8\n",
      "Number of voxels: 22378\n",
      "Effective number of clusters: 7\n",
      "Input shape:  (1141278,)\n",
      "Number of clusters:  7\n",
      "Number of voxels: 22378\n",
      "Effective number of clusters: 6\n",
      "Input shape:  (1141278,)\n",
      "Number of clusters:  6\n",
      "Number of voxels: 22378\n",
      "Effective number of clusters: 5\n",
      "Input shape:  (1141278,)\n",
      "Number of clusters:  5\n",
      "Number of voxels: 22378\n",
      "Effective number of clusters: 4\n",
      "Input shape:  (1141278,)\n",
      "Number of clusters:  5\n",
      "Number of voxels: 22378\n",
      "Effective number of clusters: 4\n",
      "Input shape:  (1141278,)\n",
      "Number of clusters:  5\n",
      "Number of voxels: 22378\n",
      "Effective number of clusters: 4\n",
      "Input shape:  (1141278,)\n",
      "Number of clusters:  4\n",
      "Number of voxels: 22378\n",
      "Effective number of clusters: 3\n",
      "Input shape:  (1141278,)\n",
      "Number of clusters:  4\n",
      "Number of voxels: 22378\n",
      "Effective number of clusters: 3\n",
      "Input shape:  (1141278,)\n",
      "Number of clusters:  4\n",
      "Number of voxels: 22378\n",
      "Effective number of clusters: 3\n",
      "Input shape:  (1141278,)\n",
      "Number of clusters:  4\n",
      "Number of voxels: 22378\n",
      "Effective number of clusters: 3\n",
      "Input shape:  (1141278,)\n",
      "Number of clusters:  4\n",
      "Number of voxels: 22378\n",
      "Effective number of clusters: 3\n",
      "Input shape:  (1141278,)\n",
      "Number of clusters:  4\n",
      "Number of voxels: 22378\n",
      "Effective number of clusters: 3\n",
      "Input shape:  (1141278,)\n",
      "Number of clusters:  3\n",
      "Number of voxels: 22378\n",
      "Effective number of clusters: 2\n",
      "Input shape:  (1141278,)\n",
      "Number of clusters:  3\n",
      "Number of voxels: 22378\n",
      "Effective number of clusters: 2\n",
      "Input shape:  (1141278,)\n",
      "Number of clusters:  3\n",
      "Number of voxels: 22378\n",
      "Effective number of clusters: 2\n",
      "Input shape:  (1141278,)\n",
      "Number of clusters:  3\n",
      "Number of voxels: 22378\n",
      "Effective number of clusters: 2\n",
      "Input shape:  (1141278,)\n",
      "Number of clusters:  3\n",
      "Number of voxels: 22378\n",
      "Effective number of clusters: 2\n",
      "Input shape:  (1141278,)\n",
      "Number of clusters:  163\n",
      "Number of voxels: 22378\n",
      "Effective number of clusters: 162\n",
      "Input shape:  (1141278,)\n",
      "Number of clusters:  98\n",
      "Number of voxels: 22378\n",
      "Effective number of clusters: 97\n",
      "Input shape:  (1141278,)\n",
      "Number of clusters:  29\n",
      "Number of voxels: 22378\n",
      "Effective number of clusters: 28\n",
      "Input shape:  (1141278,)\n",
      "Number of clusters:  26\n",
      "Number of voxels: 22378\n",
      "Effective number of clusters: 25\n",
      "Input shape:  (1141278,)\n",
      "Number of clusters:  23\n",
      "Number of voxels: 22378\n",
      "Effective number of clusters: 22\n",
      "Input shape:  (1141278,)\n",
      "Number of clusters:  10\n",
      "Number of voxels: 22378\n",
      "Effective number of clusters: 9\n",
      "Input shape:  (1141278,)\n",
      "Number of clusters:  10\n",
      "Number of voxels: 22378\n",
      "Effective number of clusters: 9\n",
      "Input shape:  (1141278,)\n",
      "Number of clusters:  10\n",
      "Number of voxels: 22378\n",
      "Effective number of clusters: 9\n",
      "Input shape:  (1141278,)\n",
      "Number of clusters:  9\n",
      "Number of voxels: 22378\n",
      "Effective number of clusters: 8\n",
      "Input shape:  (1141278,)\n",
      "Number of clusters:  8\n",
      "Number of voxels: 22378\n",
      "Effective number of clusters: 7\n",
      "Input shape:  (1141278,)\n",
      "Number of clusters:  8\n",
      "Number of voxels: 22378\n",
      "Effective number of clusters: 7\n",
      "Input shape:  (1141278,)\n",
      "Number of clusters:  7\n",
      "Number of voxels: 22378\n",
      "Effective number of clusters: 6\n",
      "Input shape:  (1141278,)\n",
      "Number of clusters:  7\n",
      "Number of voxels: 22378\n",
      "Effective number of clusters: 6\n",
      "Input shape:  (1141278,)\n",
      "Number of clusters:  6\n",
      "Number of voxels: 22378\n",
      "Effective number of clusters: 5\n",
      "Input shape:  (1141278,)\n",
      "Number of clusters:  6\n",
      "Number of voxels: 22378\n",
      "Effective number of clusters: 5\n",
      "Input shape:  (1141278,)\n",
      "Number of clusters:  5\n",
      "Number of voxels: 22378\n",
      "Effective number of clusters: 4\n",
      "Input shape:  (1141278,)\n",
      "Number of clusters:  5\n",
      "Number of voxels: 22378\n",
      "Effective number of clusters: 4\n",
      "Input shape:  (1141278,)\n",
      "Number of clusters:  5\n",
      "Number of voxels: 22378\n",
      "Effective number of clusters: 4\n",
      "Input shape:  (1141278,)\n",
      "Number of clusters:  5\n",
      "Number of voxels: 22378\n",
      "Effective number of clusters: 4\n",
      "Input shape:  (1141278,)\n",
      "Number of clusters:  4\n",
      "Number of voxels: 22378\n",
      "Effective number of clusters: 3\n",
      "Input shape:  (1141278,)\n",
      "Number of clusters:  4\n",
      "Number of voxels: 22378\n",
      "Effective number of clusters: 3\n",
      "Input shape:  (1141278,)\n",
      "Number of clusters:  4\n",
      "Number of voxels: 22378\n",
      "Effective number of clusters: 3\n",
      "Input shape:  (1141278,)\n",
      "Number of clusters:  3\n",
      "Number of voxels: 22378\n",
      "Effective number of clusters: 2\n",
      "Input shape:  (1141278,)\n",
      "Number of clusters:  3\n",
      "Number of voxels: 22378\n",
      "Effective number of clusters: 2\n",
      "Input shape:  (1141278,)\n",
      "Number of clusters:  3\n",
      "Number of voxels: 22378\n",
      "Effective number of clusters: 2\n",
      "Input shape:  (1141278,)\n",
      "Number of clusters:  3\n",
      "Number of voxels: 22378\n",
      "Effective number of clusters: 2\n",
      "Input shape:  (1141278,)\n",
      "Number of clusters:  3\n",
      "Number of voxels: 22378\n",
      "Effective number of clusters: 2\n",
      "Input shape:  (1141278,)\n",
      "Number of clusters:  160\n",
      "Number of voxels: 22378\n",
      "Effective number of clusters: 159\n",
      "Input shape:  (1141278,)\n",
      "Number of clusters:  98\n",
      "Number of voxels: 22378\n",
      "Effective number of clusters: 97\n",
      "Input shape:  (1141278,)\n",
      "Number of clusters:  29\n",
      "Number of voxels: 22378\n",
      "Effective number of clusters: 28\n",
      "Input shape:  (1141278,)\n",
      "Number of clusters:  23\n",
      "Number of voxels: 22378\n",
      "Effective number of clusters: 22\n",
      "Input shape:  (1141278,)\n",
      "Number of clusters:  20\n",
      "Number of voxels: 22378\n",
      "Effective number of clusters: 19\n",
      "Input shape:  (1141278,)\n",
      "Number of clusters:  10\n",
      "Number of voxels: 22378\n",
      "Effective number of clusters: 9\n",
      "Input shape:  (1141278,)\n",
      "Number of clusters:  10\n",
      "Number of voxels: 22378\n",
      "Effective number of clusters: 9\n",
      "Input shape:  (1141278,)\n",
      "Number of clusters:  10\n",
      "Number of voxels: 22378\n",
      "Effective number of clusters: 9\n",
      "Input shape:  (1141278,)\n",
      "Number of clusters:  9\n",
      "Number of voxels: 22378\n",
      "Effective number of clusters: 8\n",
      "Input shape:  (1141278,)\n",
      "Number of clusters:  8\n",
      "Number of voxels: 22378\n",
      "Effective number of clusters: 7\n",
      "Input shape:  (1141278,)\n",
      "Number of clusters:  8\n",
      "Number of voxels: 22378\n",
      "Effective number of clusters: 7\n",
      "Input shape:  (1141278,)\n",
      "Number of clusters:  7\n",
      "Number of voxels: 22378\n",
      "Effective number of clusters: 6\n",
      "Input shape:  (1141278,)\n",
      "Number of clusters:  7\n",
      "Number of voxels: 22378\n",
      "Effective number of clusters: 6\n"
     ]
    },
    {
     "name": "stdout",
     "output_type": "stream",
     "text": [
      "Input shape:  (1141278,)\n",
      "Number of clusters:  6\n",
      "Number of voxels: 22378\n",
      "Effective number of clusters: 5\n",
      "Input shape:  (1141278,)\n",
      "Number of clusters:  6\n",
      "Number of voxels: 22378\n",
      "Effective number of clusters: 5\n",
      "Input shape:  (1141278,)\n",
      "Number of clusters:  5\n",
      "Number of voxels: 22378\n",
      "Effective number of clusters: 4\n",
      "Input shape:  (1141278,)\n",
      "Number of clusters:  5\n",
      "Number of voxels: 22378\n",
      "Effective number of clusters: 4\n",
      "Input shape:  (1141278,)\n",
      "Number of clusters:  5\n",
      "Number of voxels: 22378\n",
      "Effective number of clusters: 4\n",
      "Input shape:  (1141278,)\n",
      "Number of clusters:  5\n",
      "Number of voxels: 22378\n",
      "Effective number of clusters: 4\n",
      "Input shape:  (1141278,)\n",
      "Number of clusters:  5\n",
      "Number of voxels: 22378\n",
      "Effective number of clusters: 4\n",
      "Input shape:  (1141278,)\n",
      "Number of clusters:  3\n",
      "Number of voxels: 22378\n",
      "Effective number of clusters: 2\n",
      "Input shape:  (1141278,)\n",
      "Number of clusters:  3\n",
      "Number of voxels: 22378\n",
      "Effective number of clusters: 2\n",
      "Input shape:  (1141278,)\n",
      "Number of clusters:  3\n",
      "Number of voxels: 22378\n",
      "Effective number of clusters: 2\n",
      "Input shape:  (1141278,)\n",
      "Number of clusters:  3\n",
      "Number of voxels: 22378\n",
      "Effective number of clusters: 2\n",
      "Input shape:  (1141278,)\n",
      "Number of clusters:  3\n",
      "Number of voxels: 22378\n",
      "Effective number of clusters: 2\n",
      "Input shape:  (1141278,)\n",
      "Number of clusters:  3\n",
      "Number of voxels: 22378\n",
      "Effective number of clusters: 2\n",
      "Input shape:  (1141278,)\n",
      "Number of clusters:  3\n",
      "Number of voxels: 22378\n",
      "Effective number of clusters: 2\n",
      "Input shape:  (1141278,)\n",
      "Number of clusters:  155\n",
      "Number of voxels: 22378\n",
      "Effective number of clusters: 154\n",
      "Input shape:  (1141278,)\n",
      "Number of clusters:  88\n",
      "Number of voxels: 22378\n",
      "Effective number of clusters: 87\n",
      "Input shape:  (1141278,)\n",
      "Number of clusters:  33\n",
      "Number of voxels: 22378\n",
      "Effective number of clusters: 32\n",
      "Input shape:  (1141278,)\n",
      "Number of clusters:  27\n",
      "Number of voxels: 22378\n",
      "Effective number of clusters: 26\n",
      "Input shape:  (1141278,)\n",
      "Number of clusters:  23\n",
      "Number of voxels: 22378\n",
      "Effective number of clusters: 22\n",
      "Input shape:  (1141278,)\n",
      "Number of clusters:  10\n",
      "Number of voxels: 22378\n",
      "Effective number of clusters: 9\n",
      "Input shape:  (1141278,)\n",
      "Number of clusters:  10\n",
      "Number of voxels: 22378\n",
      "Effective number of clusters: 9\n",
      "Input shape:  (1141278,)\n",
      "Number of clusters:  10\n",
      "Number of voxels: 22378\n",
      "Effective number of clusters: 9\n",
      "Input shape:  (1141278,)\n",
      "Number of clusters:  9\n",
      "Number of voxels: 22378\n",
      "Effective number of clusters: 8\n",
      "Input shape:  (1141278,)\n",
      "Number of clusters:  8\n",
      "Number of voxels: 22378\n",
      "Effective number of clusters: 7\n",
      "Input shape:  (1141278,)\n",
      "Number of clusters:  8\n",
      "Number of voxels: 22378\n",
      "Effective number of clusters: 7\n",
      "Input shape:  (1141278,)\n",
      "Number of clusters:  7\n",
      "Number of voxels: 22378\n",
      "Effective number of clusters: 6\n",
      "Input shape:  (1141278,)\n",
      "Number of clusters:  7\n",
      "Number of voxels: 22378\n",
      "Effective number of clusters: 6\n",
      "Input shape:  (1141278,)\n",
      "Number of clusters:  6\n",
      "Number of voxels: 22378\n",
      "Effective number of clusters: 5\n",
      "Input shape:  (1141278,)\n",
      "Number of clusters:  6\n",
      "Number of voxels: 22378\n",
      "Effective number of clusters: 5\n",
      "Input shape:  (1141278,)\n",
      "Number of clusters:  6\n",
      "Number of voxels: 22378\n",
      "Effective number of clusters: 5\n",
      "Input shape:  (1141278,)\n",
      "Number of clusters:  6\n",
      "Number of voxels: 22378\n",
      "Effective number of clusters: 5\n",
      "Input shape:  (1141278,)\n",
      "Number of clusters:  5\n",
      "Number of voxels: 22378\n",
      "Effective number of clusters: 4\n",
      "Input shape:  (1141278,)\n",
      "Number of clusters:  5\n",
      "Number of voxels: 22378\n",
      "Effective number of clusters: 4\n",
      "Input shape:  (1141278,)\n",
      "Number of clusters:  5\n",
      "Number of voxels: 22378\n",
      "Effective number of clusters: 4\n",
      "Input shape:  (1141278,)\n",
      "Number of clusters:  4\n",
      "Number of voxels: 22378\n",
      "Effective number of clusters: 3\n",
      "Input shape:  (1141278,)\n",
      "Number of clusters:  4\n",
      "Number of voxels: 22378\n",
      "Effective number of clusters: 3\n",
      "Input shape:  (1141278,)\n",
      "Number of clusters:  3\n",
      "Number of voxels: 22378\n",
      "Effective number of clusters: 2\n",
      "Input shape:  (1141278,)\n",
      "Number of clusters:  3\n",
      "Number of voxels: 22378\n",
      "Effective number of clusters: 2\n",
      "Input shape:  (1141278,)\n",
      "Number of clusters:  3\n",
      "Number of voxels: 22378\n",
      "Effective number of clusters: 2\n",
      "Input shape:  (1141278,)\n",
      "Number of clusters:  3\n",
      "Number of voxels: 22378\n",
      "Effective number of clusters: 2\n",
      "Input shape:  (1141278,)\n",
      "Number of clusters:  3\n",
      "Number of voxels: 22378\n",
      "Effective number of clusters: 2\n"
     ]
    }
   ],
   "source": [
    "reporting.plot_functional_clustering(\n",
    "    data=voxels_data, \n",
    "    mask=np.hstack(all_masks),\n",
    "    masker=new_masker,\n",
    "    average_mask=average_mask,\n",
    "    nb_voxels=nb_voxels,\n",
    "    nb_subjects=len(subject_names_list),\n",
    "    data_name='{}_{}-{}'.format(model_name, aggregation_type, n_components_beginning),\n",
    "    params=params,\n",
    "    saving_folder=SAVING_FOLDER,\n",
    "    n_neighbors_list=[4, 5],\n",
    "    min_samples_list=[5, 8, 10, 12, 15, 17, 20, 23,  25, 27, 30],\n",
    "    min_cluster_size_list=[200, 300, 500, 550, 600, 650, 700, 750, 800, 850, 900, 950, 1000, 1100, 1200, 1300, 1350 ,1400, 1450, 1500, 1550, 1600, 1700, 1750, 1800, 1850, 1900],\n",
    "    tmp_folder=TMP_FOLDER, \n",
    "    return_plot=False,\n",
    "    **kwargs\n",
    "    )"
   ]
  },
  {
   "cell_type": "markdown",
   "metadata": {},
   "source": [
    "Have a loook at 'SAVING_FOLDER' were all figures are displayed."
   ]
  },
  {
   "cell_type": "markdown",
   "metadata": {},
   "source": [
    "Interesting plots:"
   ]
  },
  {
   "cell_type": "code",
   "execution_count": 27,
   "metadata": {},
   "outputs": [],
   "source": [
    "paths = [\n",
    " '/neurospin/unicog/protocols/IRMf/LePetitPrince_Pallier_2018/LePetitPrince/derivatives/fMRI/clustering/data-average_umap_hdbscan/labels/all-subjects_red-umap_clust-hdbscan_min-c-size-1250_n-neigh-5_n-comp-3_aff-clus-euclidean_link-ward_min-samples-3_metric-r-cosine_metric-c-euclidean_out-metric-euclidean_nb_clusters-23.npy',\n",
    " '/neurospin/unicog/protocols/IRMf/LePetitPrince_Pallier_2018/LePetitPrince/derivatives/fMRI/clustering/data-average_umap_hdbscan/labels/all-subjects_red-umap_clust-hdbscan_min-c-size-1450_n-neigh-4_n-comp-3_aff-clus-euclidean_link-ward_min-samples-10_metric-r-cosine_metric-c-euclidean_out-metric-euclidean_nb_clusters-15.npy',\n",
    " '/neurospin/unicog/protocols/IRMf/LePetitPrince_Pallier_2018/LePetitPrince/derivatives/fMRI/clustering/data-average_umap_hdbscan/labels/all-subjects_red-umap_clust-hdbscan_min-c-size-1500_n-neigh-4_n-comp-3_aff-clus-euclidean_link-ward_min-samples-10_metric-r-cosine_metric-c-euclidean_out-metric-euclidean_nb_clusters-15.npy',\n",
    " '/neurospin/unicog/protocols/IRMf/LePetitPrince_Pallier_2018/LePetitPrince/derivatives/fMRI/clustering/data-average_umap_hdbscan/labels/all-subjects_red-umap_clust-hdbscan_min-c-size-1550_n-neigh-4_n-comp-3_aff-clus-euclidean_link-ward_min-samples-10_metric-r-cosine_metric-c-euclidean_out-metric-euclidean_nb_clusters-15.npy',\n",
    " '/neurospin/unicog/protocols/IRMf/LePetitPrince_Pallier_2018/LePetitPrince/derivatives/fMRI/clustering/data-pca_umap_hdbscan/labels/all-subjects_red-umap_clust-hdbscan_min-c-size-1450_n-neigh-4_n-comp-3_aff-clus-euclidean_link-ward_min-samples-5_metric-r-cosine_metric-c-euclidean_out-metric-euclidean_nb_clusters-19.npy',\n",
    " '/neurospin/unicog/protocols/IRMf/LePetitPrince_Pallier_2018/LePetitPrince/derivatives/fMRI/clustering/data-pca_umap_hdbscan/labels/all-subjects_red-umap_clust-hdbscan_min-c-size-1500_n-neigh-4_n-comp-3_aff-clus-euclidean_link-ward_min-samples-5_metric-r-cosine_metric-c-euclidean_out-metric-euclidean_nb_clusters-19.npy',\n",
    " '/neurospin/unicog/protocols/IRMf/LePetitPrince_Pallier_2018/LePetitPrince/derivatives/fMRI/clustering/data-pca_umap_hdbscan/labels/all-subjects_red-umap_clust-hdbscan_min-c-size-1550_n-neigh-4_n-comp-3_aff-clus-euclidean_link-ward_min-samples-5_metric-r-cosine_metric-c-euclidean_out-metric-euclidean_nb_clusters-17.npy',\n",
    " '/neurospin/unicog/protocols/IRMf/LePetitPrince_Pallier_2018/LePetitPrince/derivatives/fMRI/clustering/bert-base-cased_pre-7_1_post-0_norm-None_norm-inf/data-attention_head_umap_hdbscan/labels/all-subjects_red-umap_clust-hdbscan_min-c-size-1350_n-neigh-3_n-comp-3_aff-clus-cosine_link-average_min-samples-30_metric-r-cosine_metric-c-euclidean_out-metric-euclidean_nb_clusters-26.npy',\n",
    " '/neurospin/unicog/protocols/IRMf/LePetitPrince_Pallier_2018/LePetitPrince/derivatives/fMRI/clustering/bert-base-cased_pre-7_1_post-0_norm-None_norm-inf/data-attention_head_umap_hdbscan/labels/all-subjects_red-umap_clust-hdbscan_min-c-size-1400_n-neigh-3_n-comp-3_aff-clus-cosine_link-average_min-samples-20_metric-r-cosine_metric-c-euclidean_out-metric-euclidean_nb_clusters-26.npy',\n",
    " '/neurospin/unicog/protocols/IRMf/LePetitPrince_Pallier_2018/LePetitPrince/derivatives/fMRI/clustering/bert-base-cased_pre-7_1_post-0_norm-None_norm-inf/data-attention_head_umap_hdbscan/labels/all-subjects_red-umap_clust-hdbscan_min-c-size-1400_n-neigh-3_n-comp-3_aff-clus-cosine_link-average_min-samples-23_metric-r-cosine_metric-c-euclidean_out-metric-euclidean_nb_clusters-24.npy',\n",
    " '/neurospin/unicog/protocols/IRMf/LePetitPrince_Pallier_2018/LePetitPrince/derivatives/fMRI/clustering/bert-base-cased_pre-7_1_post-0_norm-None_norm-inf/data-attention_head_umap_hdbscan/labels/all-subjects_red-umap_clust-hdbscan_min-c-size-1400_n-neigh-3_n-comp-3_aff-clus-cosine_link-average_min-samples-25_metric-r-cosine_metric-c-euclidean_out-metric-euclidean_nb_clusters-22.npy',\n",
    " '/neurospin/unicog/protocols/IRMf/LePetitPrince_Pallier_2018/LePetitPrince/derivatives/fMRI/clustering/bert-base-cased_pre-7_1_post-0_norm-None_norm-inf/data-attention_head_umap_hdbscan/labels/all-subjects_red-umap_clust-hdbscan_min-c-size-1400_n-neigh-3_n-comp-3_aff-clus-cosine_link-average_min-samples-27_metric-r-cosine_metric-c-euclidean_out-metric-euclidean_nb_clusters-29.npy',\n",
    " '/neurospin/unicog/protocols/IRMf/LePetitPrince_Pallier_2018/LePetitPrince/derivatives/fMRI/clustering/bert-base-cased_pre-7_1_post-0_norm-None_norm-inf/data-attention_head_umap_hdbscan/labels/all-subjects_red-umap_clust-hdbscan_min-c-size-1450_n-neigh-3_n-comp-3_aff-clus-cosine_link-average_min-samples-15_metric-r-cosine_metric-c-euclidean_out-metric-euclidean_nb_clusters-29.npy',\n",
    " '/neurospin/unicog/protocols/IRMf/LePetitPrince_Pallier_2018/LePetitPrince/derivatives/fMRI/clustering/bert-base-cased_pre-7_1_post-0_norm-None_norm-inf/data-attention_head_umap_hdbscan/labels/all-subjects_red-umap_clust-hdbscan_min-c-size-1450_n-neigh-3_n-comp-3_aff-clus-cosine_link-average_min-samples-17_metric-r-cosine_metric-c-euclidean_out-metric-euclidean_nb_clusters-27.npy',\n",
    " '/neurospin/unicog/protocols/IRMf/LePetitPrince_Pallier_2018/LePetitPrince/derivatives/fMRI/clustering/bert-base-cased_pre-7_1_post-0_norm-None_norm-inf/data-attention_head_umap_hdbscan/labels/all-subjects_red-umap_clust-hdbscan_min-c-size-1450_n-neigh-3_n-comp-3_aff-clus-cosine_link-average_min-samples-20_metric-r-cosine_metric-c-euclidean_out-metric-euclidean_nb_clusters-24.npy',\n",
    " '/neurospin/unicog/protocols/IRMf/LePetitPrince_Pallier_2018/LePetitPrince/derivatives/fMRI/clustering/bert-base-cased_pre-7_1_post-0_norm-None_norm-inf/data-attention_head_umap_hdbscan/labels/all-subjects_red-umap_clust-hdbscan_min-c-size-1450_n-neigh-3_n-comp-3_aff-clus-cosine_link-average_min-samples-25_metric-r-cosine_metric-c-euclidean_out-metric-euclidean_nb_clusters-19.npy',\n",
    " '/neurospin/unicog/protocols/IRMf/LePetitPrince_Pallier_2018/LePetitPrince/derivatives/fMRI/clustering/bert-base-cased_pre-7_1_post-0_norm-None_norm-inf/data-attention_head_umap_hdbscan/labels/all-subjects_red-umap_clust-hdbscan_min-c-size-1450_n-neigh-3_n-comp-3_aff-clus-cosine_link-average_min-samples-27_metric-r-cosine_metric-c-euclidean_out-metric-euclidean_nb_clusters-28.npy',\n",
    " '/neurospin/unicog/protocols/IRMf/LePetitPrince_Pallier_2018/LePetitPrince/derivatives/fMRI/clustering/bert-base-cased_pre-7_1_post-0_norm-None_norm-inf/data-attention_head_umap_hdbscan/labels/all-subjects_red-umap_clust-hdbscan_min-c-size-1500_n-neigh-3_n-comp-3_aff-clus-cosine_link-average_min-samples-17_metric-r-cosine_metric-c-euclidean_out-metric-euclidean_nb_clusters-25.npy',\n",
    " '/neurospin/unicog/protocols/IRMf/LePetitPrince_Pallier_2018/LePetitPrince/derivatives/fMRI/clustering/bert-base-cased_pre-7_1_post-0_norm-None_norm-inf/data-attention_head_umap_hdbscan/labels/all-subjects_red-umap_clust-hdbscan_min-c-size-1500_n-neigh-3_n-comp-3_aff-clus-cosine_link-average_min-samples-20_metric-r-cosine_metric-c-euclidean_out-metric-euclidean_nb_clusters-23.npy',\n",
    " '/neurospin/unicog/protocols/IRMf/LePetitPrince_Pallier_2018/LePetitPrince/derivatives/fMRI/clustering/bert-base-cased_pre-7_1_post-0_norm-None_norm-inf/data-attention_head_umap_hdbscan/labels/all-subjects_red-umap_clust-hdbscan_min-c-size-1500_n-neigh-3_n-comp-3_aff-clus-cosine_link-average_min-samples-25_metric-r-cosine_metric-c-euclidean_out-metric-euclidean_nb_clusters-19.npy',\n",
    " '/neurospin/unicog/protocols/IRMf/LePetitPrince_Pallier_2018/LePetitPrince/derivatives/fMRI/clustering/bert-base-cased_pre-7_1_post-0_norm-None_norm-inf/data-attention_head_umap_hdbscan/labels/all-subjects_red-umap_clust-hdbscan_min-c-size-1500_n-neigh-3_n-comp-3_aff-clus-cosine_link-average_min-samples-27_metric-r-cosine_metric-c-euclidean_out-metric-euclidean_nb_clusters-25.npy',\n",
    " '/neurospin/unicog/protocols/IRMf/LePetitPrince_Pallier_2018/LePetitPrince/derivatives/fMRI/clustering/bert-base-cased_pre-7_1_post-0_norm-None_norm-inf/data-attention_head_umap_hdbscan/labels/all-subjects_red-umap_clust-hdbscan_min-c-size-1500_n-neigh-3_n-comp-3_aff-clus-cosine_link-average_min-samples-30_metric-r-cosine_metric-c-euclidean_out-metric-euclidean_nb_clusters-23.npy',\n",
    " '/neurospin/unicog/protocols/IRMf/LePetitPrince_Pallier_2018/LePetitPrince/derivatives/fMRI/clustering/bert-base-cased_pre-7_1_post-0_norm-None_norm-inf/data-attention_head_umap_hdbscan/labels/all-subjects_red-umap_clust-hdbscan_min-c-size-1550_n-neigh-3_n-comp-3_aff-clus-cosine_link-average_min-samples-17_metric-r-cosine_metric-c-euclidean_out-metric-euclidean_nb_clusters-24.npy',\n",
    " '/neurospin/unicog/protocols/IRMf/LePetitPrince_Pallier_2018/LePetitPrince/derivatives/fMRI/clustering/bert-base-cased_pre-7_1_post-0_norm-None_norm-inf/data-attention_head_umap_hdbscan/labels/all-subjects_red-umap_clust-hdbscan_min-c-size-1550_n-neigh-3_n-comp-3_aff-clus-cosine_link-average_min-samples-20_metric-r-cosine_metric-c-euclidean_out-metric-euclidean_nb_clusters-22.npy',\n",
    " '/neurospin/unicog/protocols/IRMf/LePetitPrince_Pallier_2018/LePetitPrince/derivatives/fMRI/clustering/bert-base-cased_pre-7_1_post-0_norm-None_norm-inf/data-attention_head_umap_hdbscan/labels/all-subjects_red-umap_clust-hdbscan_min-c-size-1550_n-neigh-3_n-comp-3_aff-clus-cosine_link-average_min-samples-25_metric-r-cosine_metric-c-euclidean_out-metric-euclidean_nb_clusters-19.npy',\n",
    " '/neurospin/unicog/protocols/IRMf/LePetitPrince_Pallier_2018/LePetitPrince/derivatives/fMRI/clustering/bert-base-cased_pre-7_1_post-0_norm-None_norm-inf/data-attention_head_umap_hdbscan/labels/all-subjects_red-umap_clust-hdbscan_min-c-size-1550_n-neigh-3_n-comp-3_aff-clus-cosine_link-average_min-samples-27_metric-r-cosine_metric-c-euclidean_out-metric-euclidean_nb_clusters-25.npy',\n",
    " '/neurospin/unicog/protocols/IRMf/LePetitPrince_Pallier_2018/LePetitPrince/derivatives/fMRI/clustering/bert-base-cased_pre-7_1_post-0_norm-None_norm-inf/data-attention_head_umap_hdbscan/labels/all-subjects_red-umap_clust-hdbscan_min-c-size-1550_n-neigh-3_n-comp-3_aff-clus-cosine_link-average_min-samples-30_metric-r-cosine_metric-c-euclidean_out-metric-euclidean_nb_clusters-23.npy',\n",
    " '/neurospin/unicog/protocols/IRMf/LePetitPrince_Pallier_2018/LePetitPrince/derivatives/fMRI/clustering/bert-base-cased_pre-7_1_post-0_norm-None_norm-inf/data-attention_head_umap_hdbscan/labels/all-subjects_red-umap_clust-hdbscan_min-c-size-1600_n-neigh-3_n-comp-3_aff-clus-cosine_link-average_min-samples-20_metric-r-cosine_metric-c-euclidean_out-metric-euclidean_nb_clusters-21.npy',\n",
    " '/neurospin/unicog/protocols/IRMf/LePetitPrince_Pallier_2018/LePetitPrince/derivatives/fMRI/clustering/bert-base-cased_pre-7_1_post-0_norm-None_norm-inf/data-attention_head_umap_hdbscan/labels/all-subjects_red-umap_clust-hdbscan_min-c-size-1600_n-neigh-3_n-comp-3_aff-clus-cosine_link-average_min-samples-25_metric-r-cosine_metric-c-euclidean_out-metric-euclidean_nb_clusters-18.npy',\n",
    " '/neurospin/unicog/protocols/IRMf/LePetitPrince_Pallier_2018/LePetitPrince/derivatives/fMRI/clustering/bert-base-cased_pre-7_1_post-0_norm-None_norm-inf/data-attention_head_umap_hdbscan/labels/all-subjects_red-umap_clust-hdbscan_min-c-size-1600_n-neigh-3_n-comp-3_aff-clus-cosine_link-average_min-samples-27_metric-r-cosine_metric-c-euclidean_out-metric-euclidean_nb_clusters-22.npy',\n",
    " '/neurospin/unicog/protocols/IRMf/LePetitPrince_Pallier_2018/LePetitPrince/derivatives/fMRI/clustering/bert-base-cased_pre-7_1_post-0_norm-None_norm-inf/data-attention_head_umap_hdbscan/labels/all-subjects_red-umap_clust-hdbscan_min-c-size-1600_n-neigh-3_n-comp-3_aff-clus-cosine_link-average_min-samples-30_metric-r-cosine_metric-c-euclidean_out-metric-euclidean_nb_clusters-22.npy',\n",
    " '/neurospin/unicog/protocols/IRMf/LePetitPrince_Pallier_2018/LePetitPrince/derivatives/fMRI/clustering/bert-base-cased_pre-7_1_post-0_norm-None_norm-inf/data-attention_head_umap_hdbscan/labels/all-subjects_red-umap_clust-hdbscan_min-c-size-1700_n-neigh-3_n-comp-3_aff-clus-cosine_link-average_min-samples-20_metric-r-cosine_metric-c-euclidean_out-metric-euclidean_nb_clusters-16.npy',\n",
    " '/neurospin/unicog/protocols/IRMf/LePetitPrince_Pallier_2018/LePetitPrince/derivatives/fMRI/clustering/bert-base-cased_pre-7_1_post-0_norm-None_norm-inf/data-attention_head_umap_hdbscan/labels/all-subjects_red-umap_clust-hdbscan_min-c-size-1700_n-neigh-3_n-comp-3_aff-clus-cosine_link-average_min-samples-25_metric-r-cosine_metric-c-euclidean_out-metric-euclidean_nb_clusters-16.npy',\n",
    " '/neurospin/unicog/protocols/IRMf/LePetitPrince_Pallier_2018/LePetitPrince/derivatives/fMRI/clustering/bert-base-cased_pre-7_1_post-0_norm-None_norm-inf/data-attention_head_umap_hdbscan/labels/all-subjects_red-umap_clust-hdbscan_min-c-size-1700_n-neigh-3_n-comp-3_aff-clus-cosine_link-average_min-samples-27_metric-r-cosine_metric-c-euclidean_out-metric-euclidean_nb_clusters-20.npy',\n",
    " '/neurospin/unicog/protocols/IRMf/LePetitPrince_Pallier_2018/LePetitPrince/derivatives/fMRI/clustering/bert-base-cased_pre-7_1_post-0_norm-None_norm-inf/data-attention_head_umap_hdbscan/labels/all-subjects_red-umap_clust-hdbscan_min-c-size-1700_n-neigh-3_n-comp-3_aff-clus-cosine_link-average_min-samples-30_metric-r-cosine_metric-c-euclidean_out-metric-euclidean_nb_clusters-20.npy',\n",
    " '/neurospin/unicog/protocols/IRMf/LePetitPrince_Pallier_2018/LePetitPrince/derivatives/fMRI/clustering/bert-base-cased_pre-7_1_post-0_norm-None_norm-inf/data-attention_head_umap_hdbscan/labels/all-subjects_red-umap_clust-hdbscan_min-c-size-1750_n-neigh-3_n-comp-3_aff-clus-cosine_link-average_min-samples-25_metric-r-cosine_metric-c-euclidean_out-metric-euclidean_nb_clusters-16.npy',\n",
    " '/neurospin/unicog/protocols/IRMf/LePetitPrince_Pallier_2018/LePetitPrince/derivatives/fMRI/clustering/bert-base-cased_pre-7_1_post-0_norm-None_norm-inf/data-attention_head_umap_hdbscan/labels/all-subjects_red-umap_clust-hdbscan_min-c-size-1750_n-neigh-3_n-comp-3_aff-clus-cosine_link-average_min-samples-27_metric-r-cosine_metric-c-euclidean_out-metric-euclidean_nb_clusters-20.npy',\n",
    " '/neurospin/unicog/protocols/IRMf/LePetitPrince_Pallier_2018/LePetitPrince/derivatives/fMRI/clustering/bert-base-cased_pre-7_1_post-0_norm-None_norm-inf/data-attention_head_umap_hdbscan/labels/all-subjects_red-umap_clust-hdbscan_min-c-size-1750_n-neigh-3_n-comp-3_aff-clus-cosine_link-average_min-samples-30_metric-r-cosine_metric-c-euclidean_out-metric-euclidean_nb_clusters-20.npy',\n",
    " '/neurospin/unicog/protocols/IRMf/LePetitPrince_Pallier_2018/LePetitPrince/derivatives/fMRI/clustering/bert-base-cased_pre-7_1_post-0_norm-None_norm-inf/data-attention_head_umap_hdbscan/labels/all-subjects_red-umap_clust-hdbscan_min-c-size-1800_n-neigh-3_n-comp-3_aff-clus-cosine_link-average_min-samples-25_metric-r-cosine_metric-c-euclidean_out-metric-euclidean_nb_clusters-16.npy',\n",
    " '/neurospin/unicog/protocols/IRMf/LePetitPrince_Pallier_2018/LePetitPrince/derivatives/fMRI/clustering/bert-base-cased_pre-7_1_post-0_norm-None_norm-inf/data-attention_head_umap_hdbscan/labels/all-subjects_red-umap_clust-hdbscan_min-c-size-1800_n-neigh-3_n-comp-3_aff-clus-cosine_link-average_min-samples-27_metric-r-cosine_metric-c-euclidean_out-metric-euclidean_nb_clusters-19.npy',\n",
    " '/neurospin/unicog/protocols/IRMf/LePetitPrince_Pallier_2018/LePetitPrince/derivatives/fMRI/clustering/bert-base-cased_pre-7_1_post-0_norm-None_norm-inf/data-attention_head_umap_hdbscan/labels/all-subjects_red-umap_clust-hdbscan_min-c-size-1800_n-neigh-3_n-comp-3_aff-clus-cosine_link-average_min-samples-30_metric-r-cosine_metric-c-euclidean_out-metric-euclidean_nb_clusters-18.npy',\n",
    " '/neurospin/unicog/protocols/IRMf/LePetitPrince_Pallier_2018/LePetitPrince/derivatives/fMRI/clustering/bert-base-cased_pre-7_1_post-0_norm-None_norm-inf/data-attention_head_umap_hdbscan/labels/all-subjects_red-umap_clust-hdbscan_min-c-size-1850_n-neigh-3_n-comp-3_aff-clus-cosine_link-average_min-samples-25_metric-r-cosine_metric-c-euclidean_out-metric-euclidean_nb_clusters-15.npy',\n",
    " '/neurospin/unicog/protocols/IRMf/LePetitPrince_Pallier_2018/LePetitPrince/derivatives/fMRI/clustering/bert-base-cased_pre-7_1_post-0_norm-None_norm-inf/data-attention_head_umap_hdbscan/labels/all-subjects_red-umap_clust-hdbscan_min-c-size-1850_n-neigh-3_n-comp-3_aff-clus-cosine_link-average_min-samples-27_metric-r-cosine_metric-c-euclidean_out-metric-euclidean_nb_clusters-17.npy',\n",
    " '/neurospin/unicog/protocols/IRMf/LePetitPrince_Pallier_2018/LePetitPrince/derivatives/fMRI/clustering/bert-base-cased_pre-7_1_post-0_norm-None_norm-inf/data-attention_head_umap_hdbscan/labels/all-subjects_red-umap_clust-hdbscan_min-c-size-1850_n-neigh-3_n-comp-3_aff-clus-cosine_link-average_min-samples-30_metric-r-cosine_metric-c-euclidean_out-metric-euclidean_nb_clusters-17.npy',\n",
    " '/neurospin/unicog/protocols/IRMf/LePetitPrince_Pallier_2018/LePetitPrince/derivatives/fMRI/clustering/bert-base-cased_pre-7_1_post-0_norm-None_norm-inf/data-attention_head_umap_hdbscan/labels/all-subjects_red-umap_clust-hdbscan_min-c-size-1900_n-neigh-3_n-comp-3_aff-clus-cosine_link-average_min-samples-27_metric-r-cosine_metric-c-euclidean_out-metric-euclidean_nb_clusters-17.npy',\n",
    " '/neurospin/unicog/protocols/IRMf/LePetitPrince_Pallier_2018/LePetitPrince/derivatives/fMRI/clustering/bert-base-cased_pre-7_1_post-0_norm-None_norm-inf/data-attention_head_umap_hdbscan/labels/all-subjects_red-umap_clust-hdbscan_min-c-size-1900_n-neigh-3_n-comp-3_aff-clus-cosine_link-average_min-samples-30_metric-r-cosine_metric-c-euclidean_out-metric-euclidean_nb_clusters-17.npy',\n",
    " '/neurospin/unicog/protocols/IRMf/LePetitPrince_Pallier_2018/LePetitPrince/derivatives/fMRI/clustering/bert-base-cased_pre-7_1_post-0_norm-None_norm-inf/data-attention_head_umap_hdbscan/labels/all-subjects_red-umap_clust-hdbscan_min-c-size-1850_n-neigh-3_n-comp-3_aff-clus-cosine_link-average_min-samples-25_metric-r-cosine_metric-c-euclidean_out-metric-euclidean_nb_clusters-15.npy',\n",
    " '/neurospin/unicog/protocols/IRMf/LePetitPrince_Pallier_2018/LePetitPrince/derivatives/fMRI/clustering/bert-base-cased_pre-7_1_post-0_norm-None_norm-inf/data-attention_head_umap_hdbscan/labels/all-subjects_red-umap_clust-hdbscan_min-c-size-1900_n-neigh-3_n-comp-3_aff-clus-cosine_link-average_min-samples-25_metric-r-cosine_metric-c-euclidean_out-metric-euclidean_nb_clusters-13.npy',\n",
    " '/neurospin/unicog/protocols/IRMf/LePetitPrince_Pallier_2018/LePetitPrince/derivatives/fMRI/clustering/bert-base-cased_pre-7_1_post-0_norm-None_norm-inf/data-attention_head_umap_hdbscan/labels/all-subjects_red-umap_clust-hdbscan_min-c-size-1850_n-neigh-5_n-comp-3_aff-clus-cosine_link-average_min-samples-25_metric-r-cosine_metric-c-euclidean_out-metric-euclidean_nb_clusters-44.npy',\n",
    " '/neurospin/unicog/protocols/IRMf/LePetitPrince_Pallier_2018/LePetitPrince/derivatives/fMRI/clustering/bert-base-cased_pre-7_1_post-0_norm-None_norm-inf/data-attention_head_umap_hdbscan/labels/all-subjects_red-umap_clust-hdbscan_min-c-size-1850_n-neigh-5_n-comp-3_aff-clus-cosine_link-average_min-samples-27_metric-r-cosine_metric-c-euclidean_out-metric-euclidean_nb_clusters-44.npy',\n",
    " '/neurospin/unicog/protocols/IRMf/LePetitPrince_Pallier_2018/LePetitPrince/derivatives/fMRI/clustering/bert-base-cased_pre-7_1_post-0_norm-None_norm-inf/data-attention_head_umap_hdbscan/labels/all-subjects_red-umap_clust-hdbscan_min-c-size-1870_n-neigh-5_n-comp-3_aff-clus-cosine_link-average_min-samples-20_metric-r-cosine_metric-c-euclidean_out-metric-euclidean_nb_clusters-44.npy',\n",
    " '/neurospin/unicog/protocols/IRMf/LePetitPrince_Pallier_2018/LePetitPrince/derivatives/fMRI/clustering/bert-base-cased_pre-7_1_post-0_norm-None_norm-inf/data-attention_head_umap_hdbscan/labels/all-subjects_red-umap_clust-hdbscan_min-c-size-1870_n-neigh-5_n-comp-3_aff-clus-cosine_link-average_min-samples-23_metric-r-cosine_metric-c-euclidean_out-metric-euclidean_nb_clusters-45.npy',\n",
    " '/neurospin/unicog/protocols/IRMf/LePetitPrince_Pallier_2018/LePetitPrince/derivatives/fMRI/clustering/bert-base-cased_pre-7_1_post-0_norm-None_norm-inf/data-attention_head_umap_hdbscan/labels/all-subjects_red-umap_clust-hdbscan_min-c-size-1870_n-neigh-5_n-comp-3_aff-clus-cosine_link-average_min-samples-25_metric-r-cosine_metric-c-euclidean_out-metric-euclidean_nb_clusters-44.npy',\n",
    " '/neurospin/unicog/protocols/IRMf/LePetitPrince_Pallier_2018/LePetitPrince/derivatives/fMRI/clustering/bert-base-cased_pre-7_1_post-0_norm-None_norm-inf/data-attention_head_umap_hdbscan/labels/all-subjects_red-umap_clust-hdbscan_min-c-size-1870_n-neigh-5_n-comp-3_aff-clus-cosine_link-average_min-samples-27_metric-r-cosine_metric-c-euclidean_out-metric-euclidean_nb_clusters-44.npy',\n",
    " '/neurospin/unicog/protocols/IRMf/LePetitPrince_Pallier_2018/LePetitPrince/derivatives/fMRI/clustering/bert-base-cased_pre-7_1_post-0_norm-None_norm-inf/data-attention_head_umap_hdbscan/labels/all-subjects_red-umap_clust-hdbscan_min-c-size-1870_n-neigh-5_n-comp-3_aff-clus-cosine_link-average_min-samples-30_metric-r-cosine_metric-c-euclidean_out-metric-euclidean_nb_clusters-43.npy',\n",
    " '/neurospin/unicog/protocols/IRMf/LePetitPrince_Pallier_2018/LePetitPrince/derivatives/fMRI/clustering/bert-base-cased_pre-7_1_post-0_norm-None_norm-inf/data-attention_head_umap_hdbscan/labels/all-subjects_red-umap_clust-hdbscan_min-c-size-1900_n-neigh-5_n-comp-3_aff-clus-cosine_link-average_min-samples-20_metric-r-cosine_metric-c-euclidean_out-metric-euclidean_nb_clusters-44.npy',\n",
    " '/neurospin/unicog/protocols/IRMf/LePetitPrince_Pallier_2018/LePetitPrince/derivatives/fMRI/clustering/bert-base-cased_pre-7_1_post-0_norm-None_norm-inf/data-attention_head_umap_hdbscan/labels/all-subjects_red-umap_clust-hdbscan_min-c-size-1900_n-neigh-5_n-comp-3_aff-clus-cosine_link-average_min-samples-23_metric-r-cosine_metric-c-euclidean_out-metric-euclidean_nb_clusters-45.npy',\n",
    " '/neurospin/unicog/protocols/IRMf/LePetitPrince_Pallier_2018/LePetitPrince/derivatives/fMRI/clustering/bert-base-cased_pre-7_1_post-0_norm-None_norm-inf/data-attention_head_umap_hdbscan/labels/all-subjects_red-umap_clust-hdbscan_min-c-size-1900_n-neigh-5_n-comp-3_aff-clus-cosine_link-average_min-samples-25_metric-r-cosine_metric-c-euclidean_out-metric-euclidean_nb_clusters-44.npy',\n",
    " '/neurospin/unicog/protocols/IRMf/LePetitPrince_Pallier_2018/LePetitPrince/derivatives/fMRI/clustering/bert-base-cased_pre-7_1_post-0_norm-None_norm-inf/data-attention_head_umap_hdbscan/labels/all-subjects_red-umap_clust-hdbscan_min-c-size-1900_n-neigh-5_n-comp-3_aff-clus-cosine_link-average_min-samples-27_metric-r-cosine_metric-c-euclidean_out-metric-euclidean_nb_clusters-44.npy',\n",
    " '/neurospin/unicog/protocols/IRMf/LePetitPrince_Pallier_2018/LePetitPrince/derivatives/fMRI/clustering/bert-base-cased_pre-7_1_post-0_norm-None_norm-inf/data-attention_head_umap_hdbscan/labels/all-subjects_red-umap_clust-hdbscan_min-c-size-1900_n-neigh-5_n-comp-3_aff-clus-cosine_link-average_min-samples-30_metric-r-cosine_metric-c-euclidean_out-metric-euclidean_nb_clusters-42.npy',\n",
    " '/neurospin/unicog/protocols/IRMf/LePetitPrince_Pallier_2018/LePetitPrince/derivatives/fMRI/clustering/bert-base-cased_pre-7_1_post-0_norm-None_norm-inf/data-attention_head_umap_hdbscan/labels/all-subjects_red-umap_clust-hdbscan_min-c-size-1920_n-neigh-5_n-comp-3_aff-clus-cosine_link-average_min-samples-20_metric-r-cosine_metric-c-euclidean_out-metric-euclidean_nb_clusters-44.npy',\n",
    " '/neurospin/unicog/protocols/IRMf/LePetitPrince_Pallier_2018/LePetitPrince/derivatives/fMRI/clustering/bert-base-cased_pre-7_1_post-0_norm-None_norm-inf/data-attention_head_umap_hdbscan/labels/all-subjects_red-umap_clust-hdbscan_min-c-size-1920_n-neigh-5_n-comp-3_aff-clus-cosine_link-average_min-samples-23_metric-r-cosine_metric-c-euclidean_out-metric-euclidean_nb_clusters-45.npy',\n",
    " '/neurospin/unicog/protocols/IRMf/LePetitPrince_Pallier_2018/LePetitPrince/derivatives/fMRI/clustering/bert-base-cased_pre-7_1_post-0_norm-None_norm-inf/data-attention_head_umap_hdbscan/labels/all-subjects_red-umap_clust-hdbscan_min-c-size-1920_n-neigh-5_n-comp-3_aff-clus-cosine_link-average_min-samples-25_metric-r-cosine_metric-c-euclidean_out-metric-euclidean_nb_clusters-44.npy',\n",
    " '/neurospin/unicog/protocols/IRMf/LePetitPrince_Pallier_2018/LePetitPrince/derivatives/fMRI/clustering/bert-base-cased_pre-7_1_post-0_norm-None_norm-inf/data-attention_head_umap_hdbscan/labels/all-subjects_red-umap_clust-hdbscan_min-c-size-1920_n-neigh-5_n-comp-3_aff-clus-cosine_link-average_min-samples-27_metric-r-cosine_metric-c-euclidean_out-metric-euclidean_nb_clusters-43.npy',\n",
    " '/neurospin/unicog/protocols/IRMf/LePetitPrince_Pallier_2018/LePetitPrince/derivatives/fMRI/clustering/bert-base-cased_pre-7_1_post-0_norm-None_norm-inf/data-attention_head_umap_hdbscan/labels/all-subjects_red-umap_clust-hdbscan_min-c-size-1920_n-neigh-5_n-comp-3_aff-clus-cosine_link-average_min-samples-30_metric-r-cosine_metric-c-euclidean_out-metric-euclidean_nb_clusters-42.npy',\n",
    " '/neurospin/unicog/protocols/IRMf/LePetitPrince_Pallier_2018/LePetitPrince/derivatives/fMRI/clustering/gpt2_pre-20_1_norm-inf_norm-inf/data-attention_head_umap_hdbscan/labels/all-subjects_red-umap_clust-hdbscan_min-c-size-950_n-neigh-3_n-comp-3_aff-clus-cosine_link-average_min-samples-15_metric-r-cosine_metric-c-euclidean_out-metric-euclidean_nb_clusters-25.npy',\n",
    " '/neurospin/unicog/protocols/IRMf/LePetitPrince_Pallier_2018/LePetitPrince/derivatives/fMRI/clustering/gpt2_pre-20_1_norm-inf_norm-inf/data-attention_head_umap_hdbscan/labels/all-subjects_red-umap_clust-hdbscan_min-c-size-900_n-neigh-3_n-comp-3_aff-clus-cosine_link-average_min-samples-15_metric-r-cosine_metric-c-euclidean_out-metric-euclidean_nb_clusters-29.npy',\n",
    " '/neurospin/unicog/protocols/IRMf/LePetitPrince_Pallier_2018/LePetitPrince/derivatives/fMRI/clustering/gpt2_pre-20_1_norm-inf_norm-inf/data-attention_head_umap_hdbscan/labels/all-subjects_red-umap_clust-hdbscan_min-c-size-1400_n-neigh-3_n-comp-3_aff-clus-cosine_link-average_min-samples-15_metric-r-cosine_metric-c-euclidean_out-metric-euclidean_nb_clusters-15.npy',\n",
    " '/neurospin/unicog/protocols/IRMf/LePetitPrince_Pallier_2018/LePetitPrince/derivatives/fMRI/clustering/gpt2_pre-20_1_norm-inf_norm-inf/data-attention_head_umap_hdbscan/labels/all-subjects_red-umap_clust-hdbscan_min-c-size-1350_n-neigh-3_n-comp-3_aff-clus-cosine_link-average_min-samples-15_metric-r-cosine_metric-c-euclidean_out-metric-euclidean_nb_clusters-17.npy',\n",
    " '/neurospin/unicog/protocols/IRMf/LePetitPrince_Pallier_2018/LePetitPrince/derivatives/fMRI/clustering/gpt2_pre-20_1_norm-inf_norm-inf/data-attention_head_umap_hdbscan/labels/all-subjects_red-umap_clust-hdbscan_min-c-size-1300_n-neigh-3_n-comp-3_aff-clus-cosine_link-average_min-samples-15_metric-r-cosine_metric-c-euclidean_out-metric-euclidean_nb_clusters-17.npy',\n",
    " '/neurospin/unicog/protocols/IRMf/LePetitPrince_Pallier_2018/LePetitPrince/derivatives/fMRI/clustering/gpt2_pre-20_1_norm-inf_norm-inf/data-attention_head_umap_hdbscan/labels/all-subjects_red-umap_clust-hdbscan_min-c-size-1200_n-neigh-3_n-comp-3_aff-clus-cosine_link-average_min-samples-20_metric-r-cosine_metric-c-euclidean_out-metric-euclidean_nb_clusters-22.npy',\n",
    " '/neurospin/unicog/protocols/IRMf/LePetitPrince_Pallier_2018/LePetitPrince/derivatives/fMRI/clustering/gpt2_pre-20_1_norm-inf_norm-inf/data-attention_head_umap_hdbscan/labels/all-subjects_red-umap_clust-hdbscan_min-c-size-1100_n-neigh-3_n-comp-3_aff-clus-cosine_link-average_min-samples-20_metric-r-cosine_metric-c-euclidean_out-metric-euclidean_nb_clusters-23.npy',\n",
    " '/neurospin/unicog/protocols/IRMf/LePetitPrince_Pallier_2018/LePetitPrince/derivatives/fMRI/clustering/gpt2_pre-20_1_norm-inf_norm-inf/data-attention_head_umap_hdbscan/labels/all-subjects_red-umap_clust-hdbscan_min-c-size-1100_n-neigh-3_n-comp-3_aff-clus-cosine_link-average_min-samples-15_metric-r-cosine_metric-c-euclidean_out-metric-euclidean_nb_clusters-21.npy',\n",
    " '/neurospin/unicog/protocols/IRMf/LePetitPrince_Pallier_2018/LePetitPrince/derivatives/fMRI/clustering/gpt2_pre-20_1_norm-inf_norm-inf/data-attention_head_umap_hdbscan/labels/all-subjects_red-umap_clust-hdbscan_min-c-size-1100_n-neigh-3_n-comp-3_aff-clus-cosine_link-average_min-samples-10_metric-r-cosine_metric-c-euclidean_out-metric-euclidean_nb_clusters-29.npy',\n",
    " '/neurospin/unicog/protocols/IRMf/LePetitPrince_Pallier_2018/LePetitPrince/derivatives/fMRI/clustering/gpt2_pre-20_1_norm-inf_norm-inf/data-attention_head_umap_hdbscan/labels/all-subjects_red-umap_clust-hdbscan_min-c-size-1000_n-neigh-3_n-comp-3_aff-clus-cosine_link-average_min-samples-15_metric-r-cosine_metric-c-euclidean_out-metric-euclidean_nb_clusters-25.npy',\n",
    " '/neurospin/unicog/protocols/IRMf/LePetitPrince_Pallier_2018/LePetitPrince/derivatives/fMRI/clustering/gpt2_pre-20_1_norm-inf_norm-inf/data-attention_head_umap_hdbscan/labels/all-subjects_red-umap_clust-hdbscan_min-c-size-1200_n-neigh-4_n-comp-3_aff-clus-cosine_link-average_min-samples-17_metric-r-cosine_metric-c-euclidean_out-metric-euclidean_nb_clusters-39.npy',\n",
    " '/neurospin/unicog/protocols/IRMf/LePetitPrince_Pallier_2018/LePetitPrince/derivatives/fMRI/clustering/gpt2_pre-20_1_norm-inf_norm-inf/data-attention_head_umap_hdbscan/labels/all-subjects_red-umap_clust-hdbscan_min-c-size-1200_n-neigh-4_n-comp-3_aff-clus-cosine_link-average_min-samples-23_metric-r-cosine_metric-c-euclidean_out-metric-euclidean_nb_clusters-37.npy',\n",
    " '/neurospin/unicog/protocols/IRMf/LePetitPrince_Pallier_2018/LePetitPrince/derivatives/fMRI/clustering/bert-base-cased_pre-7_1_post-0_norm-None_norm-inf/data-attention_head_umap_hdbscan/labels/all-subjects_red-umap_clust-hdbscan_min-c-size-1750_n-neigh-4_n-comp-3_aff-clus-cosine_link-average_min-samples-25_metric-r-cosine_metric-c-euclidean_out-metric-euclidean_nb_clusters-36.npy',\n",
    " '/neurospin/unicog/protocols/IRMf/LePetitPrince_Pallier_2018/LePetitPrince/derivatives/fMRI/clustering/bert-base-cased_pre-7_1_post-0_norm-None_norm-inf/data-attention_head_umap_hdbscan/labels/all-subjects_red-umap_clust-hdbscan_min-c-size-1750_n-neigh-4_n-comp-3_aff-clus-cosine_link-average_min-samples-27_metric-r-cosine_metric-c-euclidean_out-metric-euclidean_nb_clusters-28.npy',\n",
    " '/neurospin/unicog/protocols/IRMf/LePetitPrince_Pallier_2018/LePetitPrince/derivatives/fMRI/clustering/bert-base-cased_pre-7_1_post-0_norm-None_norm-inf/data-attention_head_umap_hdbscan/labels/all-subjects_red-umap_clust-hdbscan_min-c-size-1780_n-neigh-4_n-comp-3_aff-clus-cosine_link-average_min-samples-20_metric-r-cosine_metric-c-euclidean_out-metric-euclidean_nb_clusters-36.npy',\n",
    " '/neurospin/unicog/protocols/IRMf/LePetitPrince_Pallier_2018/LePetitPrince/derivatives/fMRI/clustering/bert-base-cased_pre-7_1_post-0_norm-None_norm-inf/data-attention_head_umap_hdbscan/labels/all-subjects_red-umap_clust-hdbscan_min-c-size-1780_n-neigh-4_n-comp-3_aff-clus-cosine_link-average_min-samples-23_metric-r-cosine_metric-c-euclidean_out-metric-euclidean_nb_clusters-36.npy',\n",
    " '/neurospin/unicog/protocols/IRMf/LePetitPrince_Pallier_2018/LePetitPrince/derivatives/fMRI/clustering/bert-base-cased_pre-7_1_post-0_norm-None_norm-inf/data-attention_head_umap_hdbscan/labels/all-subjects_red-umap_clust-hdbscan_min-c-size-1780_n-neigh-4_n-comp-3_aff-clus-cosine_link-average_min-samples-25_metric-r-cosine_metric-c-euclidean_out-metric-euclidean_nb_clusters-35.npy',\n",
    " '/neurospin/unicog/protocols/IRMf/LePetitPrince_Pallier_2018/LePetitPrince/derivatives/fMRI/clustering/bert-base-cased_pre-7_1_post-0_norm-None_norm-inf/data-attention_head_umap_hdbscan/labels/all-subjects_red-umap_clust-hdbscan_min-c-size-1780_n-neigh-4_n-comp-3_aff-clus-cosine_link-average_min-samples-27_metric-r-cosine_metric-c-euclidean_out-metric-euclidean_nb_clusters-27.npy',\n",
    " '/neurospin/unicog/protocols/IRMf/LePetitPrince_Pallier_2018/LePetitPrince/derivatives/fMRI/clustering/bert-base-cased_pre-7_1_post-0_norm-None_norm-inf/data-attention_head_umap_hdbscan/labels/all-subjects_red-umap_clust-hdbscan_min-c-size-1780_n-neigh-4_n-comp-3_aff-clus-cosine_link-average_min-samples-30_metric-r-cosine_metric-c-euclidean_out-metric-euclidean_nb_clusters-36.npy',\n",
    " '/neurospin/unicog/protocols/IRMf/LePetitPrince_Pallier_2018/LePetitPrince/derivatives/fMRI/clustering/bert-base-cased_pre-7_1_post-0_norm-None_norm-inf/data-attention_head_umap_hdbscan/labels/all-subjects_red-umap_clust-hdbscan_min-c-size-1800_n-neigh-4_n-comp-3_aff-clus-cosine_link-average_min-samples-20_metric-r-cosine_metric-c-euclidean_out-metric-euclidean_nb_clusters-36.npy',\n",
    " '/neurospin/unicog/protocols/IRMf/LePetitPrince_Pallier_2018/LePetitPrince/derivatives/fMRI/clustering/bert-base-cased_pre-7_1_post-0_norm-None_norm-inf/data-attention_head_umap_hdbscan/labels/all-subjects_red-umap_clust-hdbscan_min-c-size-1800_n-neigh-4_n-comp-3_aff-clus-cosine_link-average_min-samples-23_metric-r-cosine_metric-c-euclidean_out-metric-euclidean_nb_clusters-34.npy',\n",
    " '/neurospin/unicog/protocols/IRMf/LePetitPrince_Pallier_2018/LePetitPrince/derivatives/fMRI/clustering/bert-base-cased_pre-7_1_post-0_norm-None_norm-inf/data-attention_head_umap_hdbscan/labels/all-subjects_red-umap_clust-hdbscan_min-c-size-1800_n-neigh-4_n-comp-3_aff-clus-cosine_link-average_min-samples-25_metric-r-cosine_metric-c-euclidean_out-metric-euclidean_nb_clusters-35.npy',\n",
    " '/neurospin/unicog/protocols/IRMf/LePetitPrince_Pallier_2018/LePetitPrince/derivatives/fMRI/clustering/bert-base-cased_pre-7_1_post-0_norm-None_norm-inf/data-attention_head_umap_hdbscan/labels/all-subjects_red-umap_clust-hdbscan_min-c-size-1800_n-neigh-4_n-comp-3_aff-clus-cosine_link-average_min-samples-27_metric-r-cosine_metric-c-euclidean_out-metric-euclidean_nb_clusters-27.npy',\n",
    " '/neurospin/unicog/protocols/IRMf/LePetitPrince_Pallier_2018/LePetitPrince/derivatives/fMRI/clustering/bert-base-cased_pre-7_1_post-0_norm-None_norm-inf/data-attention_head_umap_hdbscan/labels/all-subjects_red-umap_clust-hdbscan_min-c-size-1800_n-neigh-4_n-comp-3_aff-clus-cosine_link-average_min-samples-30_metric-r-cosine_metric-c-euclidean_out-metric-euclidean_nb_clusters-36.npy',\n",
    " '/neurospin/unicog/protocols/IRMf/LePetitPrince_Pallier_2018/LePetitPrince/derivatives/fMRI/clustering/bert-base-cased_pre-7_1_post-0_norm-None_norm-inf/data-attention_head_umap_hdbscan/labels/all-subjects_red-umap_clust-hdbscan_min-c-size-1830_n-neigh-4_n-comp-3_aff-clus-cosine_link-average_min-samples-20_metric-r-cosine_metric-c-euclidean_out-metric-euclidean_nb_clusters-34.npy',\n",
    " '/neurospin/unicog/protocols/IRMf/LePetitPrince_Pallier_2018/LePetitPrince/derivatives/fMRI/clustering/bert-base-cased_pre-7_1_post-0_norm-None_norm-inf/data-attention_head_umap_hdbscan/labels/all-subjects_red-umap_clust-hdbscan_min-c-size-1830_n-neigh-4_n-comp-3_aff-clus-cosine_link-average_min-samples-23_metric-r-cosine_metric-c-euclidean_out-metric-euclidean_nb_clusters-33.npy',\n",
    " '/neurospin/unicog/protocols/IRMf/LePetitPrince_Pallier_2018/LePetitPrince/derivatives/fMRI/clustering/bert-base-cased_pre-7_1_post-0_norm-None_norm-inf/data-attention_head_umap_hdbscan/labels/all-subjects_red-umap_clust-hdbscan_min-c-size-1830_n-neigh-4_n-comp-3_aff-clus-cosine_link-average_min-samples-25_metric-r-cosine_metric-c-euclidean_out-metric-euclidean_nb_clusters-35.npy',\n",
    " '/neurospin/unicog/protocols/IRMf/LePetitPrince_Pallier_2018/LePetitPrince/derivatives/fMRI/clustering/bert-base-cased_pre-7_1_post-0_norm-None_norm-inf/data-attention_head_umap_hdbscan/labels/all-subjects_red-umap_clust-hdbscan_min-c-size-1830_n-neigh-4_n-comp-3_aff-clus-cosine_link-average_min-samples-27_metric-r-cosine_metric-c-euclidean_out-metric-euclidean_nb_clusters-26.npy',\n",
    " '/neurospin/unicog/protocols/IRMf/LePetitPrince_Pallier_2018/LePetitPrince/derivatives/fMRI/clustering/bert-base-cased_pre-7_1_post-0_norm-None_norm-inf/data-attention_head_umap_hdbscan/labels/all-subjects_red-umap_clust-hdbscan_min-c-size-1850_n-neigh-4_n-comp-3_aff-clus-cosine_link-average_min-samples-20_metric-r-cosine_metric-c-euclidean_out-metric-euclidean_nb_clusters-33.npy',\n",
    " '/neurospin/unicog/protocols/IRMf/LePetitPrince_Pallier_2018/LePetitPrince/derivatives/fMRI/clustering/bert-base-cased_pre-7_1_post-0_norm-None_norm-inf/data-attention_head_umap_hdbscan/labels/all-subjects_red-umap_clust-hdbscan_min-c-size-1850_n-neigh-4_n-comp-3_aff-clus-cosine_link-average_min-samples-27_metric-r-cosine_metric-c-euclidean_out-metric-euclidean_nb_clusters-26.npy',\n",
    " '/neurospin/unicog/protocols/IRMf/LePetitPrince_Pallier_2018/LePetitPrince/derivatives/fMRI/clustering/gpt2_pre-20_1_norm-inf_norm-inf/data-average_umap_hdbscan/labels/all-subjects_red-umap_clust-hdbscan_min-c-size-550_n-neigh-5_n-comp-3_aff-clus-cosine_link-average_min-samples-8_metric-r-cosine_metric-c-euclidean_out-metric-euclidean_nb_clusters-20.npy',\n",
    " '/neurospin/unicog/protocols/IRMf/LePetitPrince_Pallier_2018/LePetitPrince/derivatives/fMRI/clustering/gpt2_pre-20_1_norm-inf_norm-inf/data-average_umap_hdbscan/labels/all-subjects_red-umap_clust-hdbscan_min-c-size-600_n-neigh-5_n-comp-3_aff-clus-cosine_link-average_min-samples-8_metric-r-cosine_metric-c-euclidean_out-metric-euclidean_nb_clusters-18.npy',\n",
    " '/neurospin/unicog/protocols/IRMf/LePetitPrince_Pallier_2018/LePetitPrince/derivatives/fMRI/clustering/gpt2_pre-20_1_norm-inf_norm-inf/data-average_umap_hdbscan/labels/all-subjects_red-umap_clust-hdbscan_min-c-size-650_n-neigh-5_n-comp-3_aff-clus-cosine_link-average_min-samples-8_metric-r-cosine_metric-c-euclidean_out-metric-euclidean_nb_clusters-15.npy',\n",
    " '/neurospin/unicog/protocols/IRMf/LePetitPrince_Pallier_2018/LePetitPrince/derivatives/fMRI/clustering/gpt2_pre-20_1_norm-inf_norm-inf/data-average_umap_hdbscan/labels/all-subjects_red-umap_clust-hdbscan_min-c-size-800_n-neigh-5_n-comp-3_aff-clus-cosine_link-average_min-samples-12_metric-r-cosine_metric-c-euclidean_out-metric-euclidean_nb_clusters-15.npy',\n",
    " '/neurospin/unicog/protocols/IRMf/LePetitPrince_Pallier_2018/LePetitPrince/derivatives/fMRI/clustering/gpt2_pre-20_1_norm-inf_norm-inf/data-average_umap_hdbscan/labels/all-subjects_red-umap_clust-hdbscan_min-c-size-800_n-neigh-5_n-comp-3_aff-clus-cosine_link-average_min-samples-3_metric-r-cosine_metric-c-euclidean_out-metric-euclidean_nb_clusters-16.npy',\n",
    " '/neurospin/unicog/protocols/IRMf/LePetitPrince_Pallier_2018/LePetitPrince/derivatives/fMRI/clustering/gpt2_pre-20_1_norm-inf_norm-inf/data-average_umap_hdbscan/labels/all-subjects_red-umap_clust-hdbscan_min-c-size-850_n-neigh-5_n-comp-3_aff-clus-cosine_link-average_min-samples-3_metric-r-cosine_metric-c-euclidean_out-metric-euclidean_nb_clusters-16.npy',\n",
    " '/neurospin/unicog/protocols/IRMf/LePetitPrince_Pallier_2018/LePetitPrince/derivatives/fMRI/clustering/gpt2_pre-20_1_norm-inf_norm-inf/data-average_umap_hdbscan/labels/all-subjects_red-umap_clust-hdbscan_min-c-size-900_n-neigh-5_n-comp-3_aff-clus-cosine_link-average_min-samples-3_metric-r-cosine_metric-c-euclidean_out-metric-euclidean_nb_clusters-15.npy',\n",
    " '/neurospin/unicog/protocols/IRMf/LePetitPrince_Pallier_2018/LePetitPrince/derivatives/fMRI/clustering/gpt2_pre-20_1_norm-inf_norm-inf/data-attention_head_umap_hdbscan/labels/all-subjects_red-umap_clust-hdbscan_min-c-size-1700_n-neigh-5_n-comp-3_aff-clus-cosine_link-average_min-samples-10_metric-r-cosine_metric-c-euclidean_out-metric-euclidean_nb_clusters-24.npy',\n",
    " '/neurospin/unicog/protocols/IRMf/LePetitPrince_Pallier_2018/LePetitPrince/derivatives/fMRI/clustering/gpt2_pre-20_1_norm-inf_norm-inf/data-attention_head_umap_hdbscan/labels/all-subjects_red-umap_clust-hdbscan_min-c-size-1900_n-neigh-5_n-comp-3_aff-clus-cosine_link-average_min-samples-10_metric-r-cosine_metric-c-euclidean_out-metric-euclidean_nb_clusters-21.npy',\n",
    " '/neurospin/unicog/protocols/IRMf/LePetitPrince_Pallier_2018/LePetitPrince/derivatives/fMRI/clustering/data-pca_umap_hdbscan/labels/all-subjects_red-umap_clust-hdbscan_min-c-size-1550_n-neigh-5_n-comp-3_aff-clus-euclidean_link-ward_min-samples-20_metric-r-cosine_metric-c-euclidean_out-metric-euclidean_nb_clusters-7.npy',     \n",
    " '/neurospin/unicog/protocols/IRMf/LePetitPrince_Pallier_2018/LePetitPrince/derivatives/fMRI/clustering/data-pca_umap_hdbscan/labels/all-subjects_red-umap_clust-hdbscan_min-c-size-1550_n-neigh-5_n-comp-3_aff-clus-euclidean_link-ward_min-samples-10_metric-r-cosine_metric-c-euclidean_out-metric-euclidean_nb_clusters-9.npy',\n",
    " '/neurospin/unicog/protocols/IRMf/LePetitPrince_Pallier_2018/LePetitPrince/derivatives/fMRI/clustering/data-pca_umap_hdbscan/labels/all-subjects_red-umap_clust-hdbscan_min-c-size-650_n-neigh-3_n-comp-3_aff-clus-euclidean_link-ward_min-samples-3_metric-r-cosine_metric-c-euclidean_out-metric-euclidean_nb_clusters-60.npy',\n",
    " '/neurospin/unicog/protocols/IRMf/LePetitPrince_Pallier_2018/LePetitPrince/derivatives/fMRI/clustering/data-pca_umap_hdbscan/labels/all-subjects_red-umap_clust-hdbscan_min-c-size-650_n-neigh-3_n-comp-3_aff-clus-euclidean_link-ward_min-samples-2_metric-r-cosine_metric-c-euclidean_out-metric-euclidean_nb_clusters-65.npy',\n",
    "        ]\n"
   ]
  },
  {
   "cell_type": "code",
   "execution_count": 28,
   "metadata": {},
   "outputs": [
    {
     "ename": "FileNotFoundError",
     "evalue": "[Errno 2] No such file or directory: '/neurospin/unicog/protocols/IRMf/LePetitPrince_Pallier_2018/LePetitPrince/derivatives/fMRI/clustering/data-average_umap_hdbscan/labels/all-subjects_red-umap_clust-hdbscan_min-c-size-1250_n-neigh-5_n-comp-3_aff-clus-euclidean_link-ward_min-samples-3_metric-r-cosine_metric-c-euclidean_out-metric-euclidean_nb_clusters-23.npy'",
     "output_type": "error",
     "traceback": [
      "\u001b[0;31m---------------------------------------------------------------------------\u001b[0m",
      "\u001b[0;31mFileNotFoundError\u001b[0m                         Traceback (most recent call last)",
      "\u001b[0;32m<ipython-input-28-17440cb9c533>\u001b[0m in \u001b[0;36m<module>\u001b[0;34m\u001b[0m\n\u001b[1;32m      8\u001b[0m     \u001b[0maverage_mask\u001b[0m\u001b[0;34m=\u001b[0m\u001b[0maverage_mask\u001b[0m\u001b[0;34m,\u001b[0m\u001b[0;34m\u001b[0m\u001b[0;34m\u001b[0m\u001b[0m\n\u001b[1;32m      9\u001b[0m     \u001b[0mreturn_plot\u001b[0m\u001b[0;34m=\u001b[0m\u001b[0;32mTrue\u001b[0m\u001b[0;34m,\u001b[0m\u001b[0;34m\u001b[0m\u001b[0;34m\u001b[0m\u001b[0m\n\u001b[0;32m---> 10\u001b[0;31m     \u001b[0;34m**\u001b[0m\u001b[0mkwargs\u001b[0m\u001b[0;34m\u001b[0m\u001b[0;34m\u001b[0m\u001b[0m\n\u001b[0m\u001b[1;32m     11\u001b[0m     )\n",
      "\u001b[0;32m/neurospin/unicog/protocols/IRMf/LePetitPrince_Pallier_2018/LePetitPrince/code/fMRI/reporting.py\u001b[0m in \u001b[0;36mmulti_plot\u001b[0;34m(paths, saving_path, nb_subjects, nb_voxels, plot_name, new_masker, average_mask, return_plot, **kwargs)\u001b[0m\n\u001b[1;32m   1612\u001b[0m             \u001b[0;34m'figure'\u001b[0m\u001b[0;34m:\u001b[0m \u001b[0mfig1\u001b[0m\u001b[0;34m\u001b[0m\u001b[0;34m\u001b[0m\u001b[0m\n\u001b[1;32m   1613\u001b[0m         }\n\u001b[0;32m-> 1614\u001b[0;31m         \u001b[0msave_results\u001b[0m\u001b[0;34m(\u001b[0m\u001b[0mpath\u001b[0m\u001b[0;34m,\u001b[0m \u001b[0;34m(\u001b[0m\u001b[0mnp\u001b[0m\u001b[0;34m.\u001b[0m\u001b[0mones\u001b[0m\u001b[0;34m(\u001b[0m\u001b[0mnb_subjects\u001b[0m\u001b[0;34m)\u001b[0m\u001b[0;34m*\u001b[0m\u001b[0mnb_voxels\u001b[0m\u001b[0;34m)\u001b[0m\u001b[0;34m.\u001b[0m\u001b[0mastype\u001b[0m\u001b[0;34m(\u001b[0m\u001b[0mint\u001b[0m\u001b[0;34m)\u001b[0m\u001b[0;34m,\u001b[0m \u001b[0;32mNone\u001b[0m\u001b[0;34m,\u001b[0m \u001b[0mplot_name\u001b[0m\u001b[0;34m,\u001b[0m \u001b[0mnew_masker\u001b[0m\u001b[0;34m,\u001b[0m \u001b[0maverage_mask\u001b[0m\u001b[0;34m,\u001b[0m \u001b[0mreturn_plot\u001b[0m\u001b[0;34m=\u001b[0m\u001b[0mreturn_plot\u001b[0m\u001b[0;34m,\u001b[0m \u001b[0;34m**\u001b[0m\u001b[0mkwargs\u001b[0m\u001b[0;34m)\u001b[0m \u001b[0;31m#params['saving_folder']\u001b[0m\u001b[0;34m\u001b[0m\u001b[0;34m\u001b[0m\u001b[0m\n\u001b[0m\u001b[1;32m   1615\u001b[0m \u001b[0;34m\u001b[0m\u001b[0m\n\u001b[1;32m   1616\u001b[0m         \u001b[0mview\u001b[0m \u001b[0;34m=\u001b[0m \u001b[0;34m'left'\u001b[0m \u001b[0;31m#left\u001b[0m\u001b[0;34m\u001b[0m\u001b[0;34m\u001b[0m\u001b[0m\n",
      "\u001b[0;32m/neurospin/unicog/protocols/IRMf/LePetitPrince_Pallier_2018/LePetitPrince/code/fMRI/reporting.py\u001b[0m in \u001b[0;36msave_results\u001b[0;34m(data, all_original_length, saving_folder, plot_name, global_masker, mask, return_plot, subject_wise, inflated, **kwargs)\u001b[0m\n\u001b[1;32m   1187\u001b[0m     \u001b[0mgc\u001b[0m\u001b[0;34m.\u001b[0m\u001b[0mcollect\u001b[0m\u001b[0;34m(\u001b[0m\u001b[0;34m)\u001b[0m\u001b[0;34m\u001b[0m\u001b[0;34m\u001b[0m\u001b[0m\n\u001b[1;32m   1188\u001b[0m     \u001b[0;32mif\u001b[0m \u001b[0misinstance\u001b[0m\u001b[0;34m(\u001b[0m\u001b[0mdata\u001b[0m\u001b[0;34m,\u001b[0m \u001b[0mstr\u001b[0m\u001b[0;34m)\u001b[0m\u001b[0;34m:\u001b[0m\u001b[0;34m\u001b[0m\u001b[0;34m\u001b[0m\u001b[0m\n\u001b[0;32m-> 1189\u001b[0;31m         \u001b[0mdata\u001b[0m \u001b[0;34m=\u001b[0m \u001b[0mnp\u001b[0m\u001b[0;34m.\u001b[0m\u001b[0mload\u001b[0m\u001b[0;34m(\u001b[0m\u001b[0mdata\u001b[0m\u001b[0;34m)\u001b[0m\u001b[0;34m\u001b[0m\u001b[0;34m\u001b[0m\u001b[0m\n\u001b[0m\u001b[1;32m   1190\u001b[0m     \u001b[0;32melif\u001b[0m \u001b[0msaving_folder\u001b[0m \u001b[0;32mis\u001b[0m \u001b[0;32mnot\u001b[0m \u001b[0;32mNone\u001b[0m\u001b[0;34m:\u001b[0m\u001b[0;34m\u001b[0m\u001b[0;34m\u001b[0m\u001b[0m\n\u001b[1;32m   1191\u001b[0m         \u001b[0mcheck_folder\u001b[0m\u001b[0;34m(\u001b[0m\u001b[0mos\u001b[0m\u001b[0;34m.\u001b[0m\u001b[0mpath\u001b[0m\u001b[0;34m.\u001b[0m\u001b[0mjoin\u001b[0m\u001b[0;34m(\u001b[0m\u001b[0msaving_folder\u001b[0m\u001b[0;34m,\u001b[0m \u001b[0;34m'labels'\u001b[0m\u001b[0;34m)\u001b[0m\u001b[0;34m)\u001b[0m\u001b[0;34m\u001b[0m\u001b[0;34m\u001b[0m\u001b[0m\n",
      "\u001b[0;32m~/anaconda3/envs/parietal/lib/python3.7/site-packages/numpy/lib/npyio.py\u001b[0m in \u001b[0;36mload\u001b[0;34m(file, mmap_mode, allow_pickle, fix_imports, encoding)\u001b[0m\n\u001b[1;32m    426\u001b[0m         \u001b[0mown_fid\u001b[0m \u001b[0;34m=\u001b[0m \u001b[0;32mFalse\u001b[0m\u001b[0;34m\u001b[0m\u001b[0;34m\u001b[0m\u001b[0m\n\u001b[1;32m    427\u001b[0m     \u001b[0;32melse\u001b[0m\u001b[0;34m:\u001b[0m\u001b[0;34m\u001b[0m\u001b[0;34m\u001b[0m\u001b[0m\n\u001b[0;32m--> 428\u001b[0;31m         \u001b[0mfid\u001b[0m \u001b[0;34m=\u001b[0m \u001b[0mopen\u001b[0m\u001b[0;34m(\u001b[0m\u001b[0mos_fspath\u001b[0m\u001b[0;34m(\u001b[0m\u001b[0mfile\u001b[0m\u001b[0;34m)\u001b[0m\u001b[0;34m,\u001b[0m \u001b[0;34m\"rb\"\u001b[0m\u001b[0;34m)\u001b[0m\u001b[0;34m\u001b[0m\u001b[0;34m\u001b[0m\u001b[0m\n\u001b[0m\u001b[1;32m    429\u001b[0m         \u001b[0mown_fid\u001b[0m \u001b[0;34m=\u001b[0m \u001b[0;32mTrue\u001b[0m\u001b[0;34m\u001b[0m\u001b[0;34m\u001b[0m\u001b[0m\n\u001b[1;32m    430\u001b[0m \u001b[0;34m\u001b[0m\u001b[0m\n",
      "\u001b[0;31mFileNotFoundError\u001b[0m: [Errno 2] No such file or directory: '/neurospin/unicog/protocols/IRMf/LePetitPrince_Pallier_2018/LePetitPrince/derivatives/fMRI/clustering/data-average_umap_hdbscan/labels/all-subjects_red-umap_clust-hdbscan_min-c-size-1250_n-neigh-5_n-comp-3_aff-clus-euclidean_link-ward_min-samples-3_metric-r-cosine_metric-c-euclidean_out-metric-euclidean_nb_clusters-23.npy'"
     ]
    },
    {
     "data": {
      "image/png": "[encoded data removed]",
      "text/plain": [
       "<Figure size 1080x720 with 4 Axes>"
      ]
     },
     "metadata": {
      "needs_background": "light"
     },
     "output_type": "display_data"
    }
   ],
   "source": [
    "reporting.multi_plot(\n",
    "    paths, \n",
    "    saving_path=SAVING_FOLDER,\n",
    "    nb_subjects=len(subject_names_list),\n",
    "    nb_voxels=nb_voxels,\n",
    "    plot_name='', \n",
    "    new_masker=new_masker, \n",
    "    average_mask=average_mask,\n",
    "    return_plot=True, \n",
    "    **kwargs\n",
    "    )"
   ]
  },
  {
   "cell_type": "markdown",
   "metadata": {},
   "source": [
    "## Semantic clustering\n",
    "\n",
    "We cluster words based on their embedding, and apply the transformations learnt to the voxels of each subject independently."
   ]
  },
  {
   "cell_type": "code",
   "execution_count": null,
   "metadata": {},
   "outputs": [
    {
     "name": "stdout",
     "output_type": "stream",
     "text": [
      "Number of neighbors:  3\n",
      "Loading...\n"
     ]
    },
    {
     "name": "stderr",
     "output_type": "stream",
     "text": [
      "100%|██████████| 51/51 [01:35<00:00,  1.88s/it]\n"
     ]
    },
    {
     "name": "stdout",
     "output_type": "stream",
     "text": [
      "min_cluster_size:  200 min_samples:  20\n"
     ]
    },
    {
     "name": "stderr",
     "output_type": "stream",
     "text": [
      "100%|██████████| 51/51 [05:07<00:00,  6.04s/it]\n"
     ]
    },
    {
     "name": "stdout",
     "output_type": "stream",
     "text": [
      "min_cluster_size:  300 min_samples:  20\n"
     ]
    },
    {
     "name": "stderr",
     "output_type": "stream",
     "text": [
      "100%|██████████| 51/51 [07:02<00:00,  8.29s/it]\n"
     ]
    },
    {
     "name": "stdout",
     "output_type": "stream",
     "text": [
      "min_cluster_size:  1200 min_samples:  20\n"
     ]
    },
    {
     "name": "stderr",
     "output_type": "stream",
     "text": [
      "100%|██████████| 51/51 [08:58<00:00, 10.55s/it]\n"
     ]
    },
    {
     "name": "stdout",
     "output_type": "stream",
     "text": [
      "min_cluster_size:  200 min_samples:  23\n"
     ]
    },
    {
     "name": "stderr",
     "output_type": "stream",
     "text": [
      "100%|██████████| 51/51 [10:49<00:00, 12.73s/it]\n"
     ]
    },
    {
     "name": "stdout",
     "output_type": "stream",
     "text": [
      "min_cluster_size:  300 min_samples:  23\n"
     ]
    },
    {
     "name": "stderr",
     "output_type": "stream",
     "text": [
      "100%|██████████| 51/51 [13:00<00:00, 15.31s/it]\n"
     ]
    },
    {
     "name": "stdout",
     "output_type": "stream",
     "text": [
      "min_cluster_size:  1200 min_samples:  23\n"
     ]
    },
    {
     "name": "stderr",
     "output_type": "stream",
     "text": [
      "100%|██████████| 51/51 [15:15<00:00, 17.95s/it]\n"
     ]
    },
    {
     "name": "stdout",
     "output_type": "stream",
     "text": [
      "min_cluster_size:  200 min_samples:  25\n"
     ]
    },
    {
     "name": "stderr",
     "output_type": "stream",
     "text": [
      "100%|██████████| 51/51 [17:20<00:00, 20.39s/it]\n"
     ]
    },
    {
     "name": "stdout",
     "output_type": "stream",
     "text": [
      "min_cluster_size:  300 min_samples:  25\n"
     ]
    },
    {
     "name": "stderr",
     "output_type": "stream",
     "text": [
      "100%|██████████| 51/51 [19:21<00:00, 22.77s/it]\n"
     ]
    },
    {
     "name": "stdout",
     "output_type": "stream",
     "text": [
      "min_cluster_size:  1200 min_samples:  25\n"
     ]
    },
    {
     "name": "stderr",
     "output_type": "stream",
     "text": [
      "100%|██████████| 51/51 [21:09<00:00, 24.90s/it]\n"
     ]
    },
    {
     "name": "stdout",
     "output_type": "stream",
     "text": [
      "Number of neighbors:  4\n",
      "Loading...\n"
     ]
    },
    {
     "name": "stderr",
     "output_type": "stream",
     "text": [
      "100%|██████████| 51/51 [10:09<00:00, 11.96s/it]\n"
     ]
    },
    {
     "name": "stdout",
     "output_type": "stream",
     "text": [
      "min_cluster_size:  200 min_samples:  20\n"
     ]
    },
    {
     "name": "stderr",
     "output_type": "stream",
     "text": [
      "100%|██████████| 51/51 [23:21<00:00, 27.47s/it]\n"
     ]
    },
    {
     "name": "stdout",
     "output_type": "stream",
     "text": [
      "min_cluster_size:  300 min_samples:  20\n"
     ]
    },
    {
     "name": "stderr",
     "output_type": "stream",
     "text": [
      "100%|██████████| 51/51 [25:25<00:00, 29.91s/it]\n"
     ]
    },
    {
     "name": "stdout",
     "output_type": "stream",
     "text": [
      "min_cluster_size:  1200 min_samples:  20\n"
     ]
    },
    {
     "name": "stderr",
     "output_type": "stream",
     "text": [
      "100%|██████████| 51/51 [27:32<00:00, 32.40s/it]\n"
     ]
    },
    {
     "name": "stdout",
     "output_type": "stream",
     "text": [
      "min_cluster_size:  200 min_samples:  23\n"
     ]
    },
    {
     "name": "stderr",
     "output_type": "stream",
     "text": [
      "100%|██████████| 51/51 [29:37<00:00, 34.84s/it]\n"
     ]
    },
    {
     "name": "stdout",
     "output_type": "stream",
     "text": [
      "min_cluster_size:  300 min_samples:  23\n"
     ]
    },
    {
     "name": "stderr",
     "output_type": "stream",
     "text": [
      "100%|██████████| 51/51 [32:19<00:00, 38.03s/it]\n"
     ]
    },
    {
     "name": "stdout",
     "output_type": "stream",
     "text": [
      "min_cluster_size:  1200 min_samples:  23\n"
     ]
    },
    {
     "name": "stderr",
     "output_type": "stream",
     "text": [
      "100%|██████████| 51/51 [35:03<00:00, 41.25s/it]\n"
     ]
    },
    {
     "name": "stdout",
     "output_type": "stream",
     "text": [
      "min_cluster_size:  200 min_samples:  25\n"
     ]
    },
    {
     "name": "stderr",
     "output_type": "stream",
     "text": [
      " 76%|███████▋  | 39/51 [27:19<08:28, 42.35s/it]"
     ]
    }
   ],
   "source": [
    "reporting.plot_semantic_clustering(\n",
    "    data_words_filtered,\n",
    "    path_to_data_template,\n",
    "    average_mask,\n",
    "    original_masker,\n",
    "    new_masker,\n",
    "    onsets_filtered,\n",
    "    subject_names_list,\n",
    "    subject_ids_list,\n",
    "    data_name='{}_attention-head'.format(model_name),\n",
    "    params=params,\n",
    "    saving_folder=SAVING_FOLDER,\n",
    "    n_neighbors_list=[3, 4, 5],\n",
    "    min_samples_list=[ 20, 23,  25],\n",
    "    min_cluster_size_list=[200, 300, 1200],\n",
    "    tmp_folder=TMP_FOLDER, \n",
    "    model_name=model_name,\n",
    "    aggregation_type='pca', # 'pca', 'layer', 'attention_head'\n",
    "    return_plot=False,\n",
    "    standardize_beta_maps=True,\n",
    "    n_components_aggregation=100,\n",
    "    **kwargs\n",
    "    )"
   ]
  },
  {
   "cell_type": "markdown",
   "metadata": {},
   "source": [
    "Have a look at scatter text plots that are saved in 'SAVING_FOLDER' (they are too heavy to display, ~10MB each)."
   ]
  },
  {
   "cell_type": "code",
   "execution_count": null,
   "metadata": {},
   "outputs": [],
   "source": [
    "d = reporting.extract_clusters(labels_, onsets[mask])"
   ]
  }
 ],
 "metadata": {
  "kernelspec": {
   "display_name": "Python 3",
   "language": "python",
   "name": "python3"
  },
  "language_info": {
   "codemirror_mode": {
    "name": "ipython",
    "version": 3
   },
   "file_extension": ".py",
   "mimetype": "text/x-python",
   "name": "python",
   "nbconvert_exporter": "python",
   "pygments_lexer": "ipython3",
   "version": "3.8.3"
  }
 },
 "nbformat": 4,
 "nbformat_minor": 2
}
