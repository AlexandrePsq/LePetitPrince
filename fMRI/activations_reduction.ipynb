{
 "cells": [
  {
   "cell_type": "markdown",
   "metadata": {},
   "source": [
    "## Notebook to vizualise the reduction of models activations"
   ]
  },
  {
   "cell_type": "code",
   "execution_count": null,
   "metadata": {},
   "outputs": [],
   "source": [
    "import os\n",
    "import pandas as pd\n",
    "import umap\n",
    "import hdbscan\n",
    "from sklearn.cluster import AgglomerativeClustering\n",
    "from sklearn.decomposition import PCA\n",
    "from sklearn.cluster import AgglomerativeClustering\n",
    "from sklearn.manifold import LocallyLinearEmbedding\n",
    "from sklearn.decomposition import FastICA \n",
    "from sklearn import manifold\n",
    "import numpy as np\n",
    "%matplotlib inline\n",
    "import matplotlib.pyplot as plt"
   ]
  },
  {
   "cell_type": "markdown",
   "metadata": {},
   "source": [
    "### Reading data"
   ]
  },
  {
   "cell_type": "code",
   "execution_count": null,
   "metadata": {},
   "outputs": [],
   "source": [
    "MODEL_NAME = \"bert-base-cased\"\n",
    "PROJECT_PATH = \"/neurospin/unicog/protocols/IRMf/LePetitPrince_Pallier_2018/LePetitPrince/\"\n",
    "DATA_PATH = os.path.join(PROJECT_PATH, 'data', 'stimuli-representations')\n",
    "LANGUAGE = \"english\"\n",
    "SEED=1111"
   ]
  },
  {
   "cell_type": "code",
   "execution_count": null,
   "metadata": {},
   "outputs": [],
   "source": [
    "paths = sorted(glob.glob(os.path.join(DATA_PATH, LANGUAGE, MODEL_NAME, 'activations*.csv')))"
   ]
  },
  {
   "cell_type": "code",
   "execution_count": null,
   "metadata": {},
   "outputs": [],
   "source": [
    "dataframes = [pd.read_csv(path) for path in paths]"
   ]
  },
  {
   "cell_type": "code",
   "execution_count": null,
   "metadata": {},
   "outputs": [],
   "source": [
    "data = np.vstack([df.values for df in dataframes])"
   ]
  },
  {
   "cell_type": "markdown",
   "metadata": {},
   "source": [
    "### Plotting function"
   ]
  },
  {
   "cell_type": "code",
   "execution_count": null,
   "metadata": {},
   "outputs": [],
   "source": [
    "def plot_reduction(data, plot_type='2D', reduction_type='', **kwargs):\n",
    "    \"\"\"kwargs includes: \n",
    "     - s=5\n",
    "     - c='density'\n",
    "     - cmap='Spectral'\n",
    "    \"\"\"\n",
    "    plt.close('all')\n",
    "    if plot_type=='2D':\n",
    "        plt.scatter(data[:, 0], data[:, 1], **kwargs)\n",
    "    elif plot_type=='3D':\n",
    "        plt.scatter(data[:, 0], data[:, 1], data[:, 2], **kwargs)\n",
    "    plt.title('Activations embedding for {}'.format(reduction_type), fontsize=24);\n",
    "    plt.show()"
   ]
  },
  {
   "cell_type": "code",
   "execution_count": null,
   "metadata": {},
   "outputs": [],
   "source": [
    "kwargs = {\n",
    "    's'=5,\n",
    "    'c':'density',\n",
    "    'cmap':'Spectral'\n",
    "}"
   ]
  },
  {
   "cell_type": "markdown",
   "metadata": {},
   "source": [
    "### PCA"
   ]
  },
  {
   "cell_type": "code",
   "execution_count": null,
   "metadata": {},
   "outputs": [],
   "source": [
    "pca_2D = PCA(n_components=2, random_state=SEED)\n",
    "pca_result_2D = pca_2D.fit_transform(data)\n",
    "pca_3D = PCA(n_components=3, random_state=SEED)\n",
    "pca_result_3D = pca_3D.fit_transform(data)"
   ]
  },
  {
   "cell_type": "code",
   "execution_count": null,
   "metadata": {},
   "outputs": [],
   "source": [
    "plot_reduction(pca_result_2D, plot_type='2D', reduction_type='PCA', **kwargs)"
   ]
  },
  {
   "cell_type": "code",
   "execution_count": null,
   "metadata": {},
   "outputs": [],
   "source": [
    "plot_reduction(pca_result_3D, plot_type='3D', reduction_type='PCA', **kwargs)"
   ]
  },
  {
   "cell_type": "markdown",
   "metadata": {},
   "source": [
    "### ICA"
   ]
  },
  {
   "cell_type": "code",
   "execution_count": null,
   "metadata": {},
   "outputs": [],
   "source": [
    "ica_2D = FastICA(n_components=2, random_state=SEED)\n",
    "ica_result_2D = ica_2D.fit_transform(data)\n",
    "ica_3D = FastICA(n_components=3, random_state=SEED)\n",
    "ica_result_3D = ica_3D.fit_transform(data)"
   ]
  },
  {
   "cell_type": "code",
   "execution_count": null,
   "metadata": {},
   "outputs": [],
   "source": [
    "plot_reduction(ica_result_2D, plot_type='2D', reduction_type='ICA', **kwargs)"
   ]
  },
  {
   "cell_type": "code",
   "execution_count": null,
   "metadata": {},
   "outputs": [],
   "source": [
    "plot_reduction(ica_result_3D, plot_type='3D', reduction_type='ICA', **kwargs)"
   ]
  },
  {
   "cell_type": "markdown",
   "metadata": {},
   "source": [
    "### UMAP"
   ]
  },
  {
   "cell_type": "code",
   "execution_count": null,
   "metadata": {},
   "outputs": [],
   "source": [
    "umap_2D = umap.UMAP(n_components=2, random_state=SEED, n_neighbors=20, min_dist=0.1)\n",
    "umap_result_2D = umap_2D.fit_transform(data)\n",
    "umap_3D = umap.UMAP(n_components=3, random_state=SEED, n_neighbors=20, min_dist=0.1)\n",
    "umap_result_3D = umap_3D.fit_transform(data)"
   ]
  },
  {
   "cell_type": "code",
   "execution_count": null,
   "metadata": {},
   "outputs": [],
   "source": [
    "plot_reduction(umap_result_2D, plot_type='2D', reduction_type='UMAP', **kwargs)"
   ]
  },
  {
   "cell_type": "code",
   "execution_count": null,
   "metadata": {},
   "outputs": [],
   "source": [
    "plot_reduction(umap_result_3D, plot_type='3D', reduction_type='UMAP', **kwargs)"
   ]
  },
  {
   "cell_type": "markdown",
   "metadata": {},
   "source": [
    "### AGGLOMERATIVE CLUSTERING"
   ]
  },
  {
   "cell_type": "code",
   "execution_count": null,
   "metadata": {},
   "outputs": [],
   "source": [
    "def agglomerative_clustering(data, linkage):\n",
    "    ac_2D = AgglomerativeClustering(n_clusters=2, random_state=SEED, linkage=linkage)\n",
    "    ac_result_2D = np.zeros((data.shape[0], 2))\n",
    "    ac_2D.fit(data.T)\n",
    "    for component in range(2):\n",
    "        ac_result_2D[:, component] = np.mean(data[:, ac_2D.labels_==component], axis=1) \n",
    "    ac_3D = AgglomerativeClustering(n_clusters=3, random_state=SEED, linkage=linkage)\n",
    "    ac_result_3D = np.zeros((data.shape[0], 3))\n",
    "    ac_3D.fit(data.T)\n",
    "    for component in range(3):\n",
    "        ac_result_3D[:, component] = np.mean(data[:, ac_3D.labels_==component], axis=1) \n",
    "    return ac_result_2D, ac_result_3D"
   ]
  },
  {
   "cell_type": "markdown",
   "metadata": {},
   "source": [
    "#### WARD"
   ]
  },
  {
   "cell_type": "code",
   "execution_count": null,
   "metadata": {},
   "outputs": [],
   "source": [
    "ward_result_2D, ward_result_3D = agglomerative_clustering(data, \"ward\")"
   ]
  },
  {
   "cell_type": "code",
   "execution_count": null,
   "metadata": {},
   "outputs": [],
   "source": [
    "plot_reduction(ward_result_2D, plot_type='2D', reduction_type='AgglomerativeClustering - WARD', **kwargs)"
   ]
  },
  {
   "cell_type": "code",
   "execution_count": null,
   "metadata": {},
   "outputs": [],
   "source": [
    "plot_reduction(ward_result_3D, plot_type='3D', reduction_type='AgglomerativeClustering - WARD', **kwargs)"
   ]
  },
  {
   "cell_type": "markdown",
   "metadata": {},
   "source": [
    "#### AVERAGE"
   ]
  },
  {
   "cell_type": "code",
   "execution_count": null,
   "metadata": {},
   "outputs": [],
   "source": [
    "average_result_2D, average_result_3D = agglomerative_clustering(data, \"average\")"
   ]
  },
  {
   "cell_type": "code",
   "execution_count": null,
   "metadata": {},
   "outputs": [],
   "source": [
    "plot_reduction(average_result_2D, plot_type='2D', reduction_type='AgglomerativeClustering - AVERAGE', **kwargs)"
   ]
  },
  {
   "cell_type": "code",
   "execution_count": null,
   "metadata": {},
   "outputs": [],
   "source": [
    "plot_reduction(average_result_3D, plot_type='3D', reduction_type='AgglomerativeClustering - AVERAGE', **kwargs)"
   ]
  },
  {
   "cell_type": "markdown",
   "metadata": {},
   "source": [
    "#### COMPLETE"
   ]
  },
  {
   "cell_type": "code",
   "execution_count": null,
   "metadata": {},
   "outputs": [],
   "source": [
    "complete_result_2D, complete_result_3D = agglomerative_clustering(data, \"complete\")"
   ]
  },
  {
   "cell_type": "code",
   "execution_count": null,
   "metadata": {},
   "outputs": [],
   "source": [
    "plot_reduction(complete_result_2D, plot_type='2D', reduction_type='AgglomerativeClustering - COMPLETE', **kwargs)"
   ]
  },
  {
   "cell_type": "code",
   "execution_count": null,
   "metadata": {},
   "outputs": [],
   "source": [
    "plot_reduction(complete_result_3D, plot_type='3D', reduction_type='AgglomerativeClustering - COMPLETE', **kwargs)"
   ]
  },
  {
   "cell_type": "markdown",
   "metadata": {},
   "source": [
    "#### SINGLE"
   ]
  },
  {
   "cell_type": "code",
   "execution_count": null,
   "metadata": {},
   "outputs": [],
   "source": [
    "single_result_2D, single_result_3D = agglomerative_clustering(data, \"single\")"
   ]
  },
  {
   "cell_type": "code",
   "execution_count": null,
   "metadata": {},
   "outputs": [],
   "source": [
    "plot_reduction(single_result_2D, plot_type='2D', reduction_type='AgglomerativeClustering - SINGLE', **kwargs)"
   ]
  },
  {
   "cell_type": "code",
   "execution_count": null,
   "metadata": {},
   "outputs": [],
   "source": [
    "plot_reduction(single_result_3D, plot_type='3D', reduction_type='AgglomerativeClustering - SINGLE', **kwargs)"
   ]
  },
  {
   "cell_type": "markdown",
   "metadata": {},
   "source": [
    "### MANIFOLD REDUCTION"
   ]
  },
  {
   "cell_type": "markdown",
   "metadata": {},
   "source": [
    "#### ISOMAP"
   ]
  },
  {
   "cell_type": "code",
   "execution_count": null,
   "metadata": {},
   "outputs": [],
   "source": [
    "isomap_2D = manifold.ISOMAP(n_components=2, random_state=SEED, n_neighbors=20)\n",
    "isomap_result_2D = isomap_2D.fit_transform(data)\n",
    "isomap_3D = manifold.ISOMAP(n_components=3, random_state=SEED, n_neighbors=20)\n",
    "umap_result_3D = isomap_3D.fit_transform(data)"
   ]
  },
  {
   "cell_type": "code",
   "execution_count": null,
   "metadata": {},
   "outputs": [],
   "source": [
    "plot_reduction(isomap_result_2D, plot_type='2D', reduction_type='ISOMAP', **kwargs)"
   ]
  },
  {
   "cell_type": "code",
   "execution_count": null,
   "metadata": {},
   "outputs": [],
   "source": [
    "plot_reduction(isomap_result_3D, plot_type='3D', reduction_type='ISOMAP', **kwargs)"
   ]
  },
  {
   "cell_type": "markdown",
   "metadata": {},
   "source": [
    "#### LOCALLY LINEAR EMBEDDING"
   ]
  },
  {
   "cell_type": "code",
   "execution_count": null,
   "metadata": {},
   "outputs": [],
   "source": [
    "lle_2D = LocallyLinearEmbedding(n_components=2, random_state=SEED, n_neighbors=20, method='standard') #‘standard’, ‘hessian’, ‘modified’ or ‘ltsa’\n",
    "lle_result_2D = lle_2D.fit_transform(data)\n",
    "lle_3D = LocallyLinearEmbedding(n_components=3, random_state=SEED, n_neighbors=20, method='standard')\n",
    "lle_result_3D = lle_3D.fit_transform(data)"
   ]
  },
  {
   "cell_type": "code",
   "execution_count": null,
   "metadata": {},
   "outputs": [],
   "source": [
    "plot_reduction(lle_result_2D, plot_type='2D', reduction_type='LOCALLY LINEAR EMBEDDING', **kwargs)"
   ]
  },
  {
   "cell_type": "code",
   "execution_count": null,
   "metadata": {},
   "outputs": [],
   "source": [
    "plot_reduction(lle_result_3D, plot_type='3D', reduction_type='LOCALLY LINEAR EMBEDDING', **kwargs)"
   ]
  },
  {
   "cell_type": "markdown",
   "metadata": {},
   "source": [
    "#### MDS"
   ]
  },
  {
   "cell_type": "code",
   "execution_count": null,
   "metadata": {},
   "outputs": [],
   "source": [
    "mds_2D = manifold.MDS(n_components=2, random_state=SEED)\n",
    "mds_result_2D = mds_2D.fit_transform(data)\n",
    "mds_3D = manifold.MDS(n_components=3, random_state=SEED)\n",
    "mds_result_3D = mds_3D.fit_transform(data)"
   ]
  },
  {
   "cell_type": "code",
   "execution_count": null,
   "metadata": {},
   "outputs": [],
   "source": [
    "plot_reduction(mds_result_2D, plot_type='2D', reduction_type='MDS', **kwargs)"
   ]
  },
  {
   "cell_type": "code",
   "execution_count": null,
   "metadata": {},
   "outputs": [],
   "source": [
    "plot_reduction(mds_result_3D, plot_type='3D', reduction_type='MDS', **kwargs)"
   ]
  },
  {
   "cell_type": "markdown",
   "metadata": {},
   "source": [
    "#### SPECTRAL EMBEDDING"
   ]
  },
  {
   "cell_type": "code",
   "execution_count": null,
   "metadata": {},
   "outputs": [],
   "source": [
    "se_2D = manifold.SpectralEmbedding(n_components=2, random_state=SEED, n_neighbors=20)\n",
    "se_result_2D = se_2D.fit_transform(data)\n",
    "se_3D = manifold.SpectralEmbedding(n_components=3, random_state=SEED, n_neighbors=20)\n",
    "se_result_3D = se_3D.fit_transform(data)"
   ]
  },
  {
   "cell_type": "code",
   "execution_count": null,
   "metadata": {},
   "outputs": [],
   "source": [
    "plot_reduction(se_result_2D, plot_type='2D', reduction_type='SPECTRAL EMBEDDING', **kwargs)"
   ]
  },
  {
   "cell_type": "code",
   "execution_count": null,
   "metadata": {},
   "outputs": [],
   "source": [
    "plot_reduction(se_result_3D, plot_type='3D', reduction_type='SPECTRAL EMBEDDING', **kwargs)"
   ]
  },
  {
   "cell_type": "code",
   "execution_count": null,
   "metadata": {},
   "outputs": [],
   "source": []
  },
  {
   "cell_type": "code",
   "execution_count": null,
   "metadata": {},
   "outputs": [],
   "source": []
  }
 ],
 "metadata": {
  "kernelspec": {
   "display_name": "Python 3",
   "language": "python",
   "name": "python3"
  },
  "language_info": {
   "codemirror_mode": {
    "name": "ipython",
    "version": 3
   },
   "file_extension": ".py",
   "mimetype": "text/x-python",
   "name": "python",
   "nbconvert_exporter": "python",
   "pygments_lexer": "ipython3",
   "version": "3.7.6"
  }
 },
 "nbformat": 4,
 "nbformat_minor": 4
}
