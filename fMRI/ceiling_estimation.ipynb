{
 "cells": [
  {
   "cell_type": "markdown",
   "metadata": {},
   "source": [
    "# Use FastSRM to determine ceiling level of fMRI BOLD signal predictability"
   ]
  },
  {
   "cell_type": "code",
   "execution_count": 6,
   "metadata": {},
   "outputs": [],
   "source": [
    "from fastsrm.identifiable_srm import IdentifiableFastSRM\n",
    "from sklearn.model_selection import KFold\n",
    "from tqdm import tqdm\n",
    "import numpy as np\n",
    "import glob\n",
    "import os"
   ]
  },
  {
   "cell_type": "code",
   "execution_count": 5,
   "metadata": {},
   "outputs": [],
   "source": [
    "from utils import possible_subjects_id, get_subject_name, fetch_data, fetch_masker\n",
    "from logger import Logger\n",
    "import reporting"
   ]
  },
  {
   "cell_type": "markdown",
   "metadata": {},
   "source": [
    "## Defining parameters"
   ]
  },
  {
   "cell_type": "code",
   "execution_count": 7,
   "metadata": {},
   "outputs": [],
   "source": [
    "language = 'english'\n",
    "nb_runs = 9\n",
    "path_to_input = ''\n",
    "path_to_fmridata = \"/neurospin/unicog/protocols/IRMf/LePetitPrince_Pallier_2018/LePetitPrince/data/fMRI\""
   ]
  },
  {
   "cell_type": "code",
   "execution_count": 8,
   "metadata": {},
   "outputs": [],
   "source": [
    "PROJECT_PATH = f\"/neurospin/unicog/protocols/IRMf/LePetitPrince_Pallier_2018/LePetitPrince/\"\n",
    "OUTPUT_PATH = f\"/neurospin/unicog/protocols/IRMf/LePetitPrince_Pallier_2018/LePetitPrince/derivatives/fMRI/maps/{language}\"\n",
    "INPUT_PATH = f\"/neurospin/unicog/protocols/IRMf/LePetitPrince_Pallier_2018/LePetitPrince/data/stimuli-representations/{language}\"\n",
    "FMRIDATA_PATH = f\"/neurospin/unicog/protocols/IRMf/LePetitPrince_Pallier_2018/LePetitPrince/data/fMRI/{language}\"\n",
    "MASKER_PATH = f\"/neurospin/unicog/protocols/IRMf/LePetitPrince_Pallier_2018/LePetitPrince/global_masker_{language}\"\n",
    "SMOOTHED_MASKER_PATH = f\"/neurospin/unicog/protocols/IRMf/LePetitPrince_Pallier_2018/LePetitPrince/smoothed_global_masker_{language}\""
   ]
  },
  {
   "cell_type": "markdown",
   "metadata": {},
   "source": [
    "## Retrieving masker"
   ]
  },
  {
   "cell_type": "code",
   "execution_count": 10,
   "metadata": {},
   "outputs": [],
   "source": [
    "logger = Logger(os.path.join(PROJECT_PATH, 'logs.txt'))"
   ]
  },
  {
   "cell_type": "code",
   "execution_count": null,
   "metadata": {},
   "outputs": [],
   "source": [
    "global_masker = fetch_masker(MASKER_PATH, language, FMRIDATA_PATH, INPUT_PATH, smoothing_fwhm=None, logger=logger)\n",
    "atlas_maps, labels = reporting.load_atlas() # load harvard-oxford atlas named'cort-prob-2mm'\n",
    "x_labels = labels[1:]"
   ]
  },
  {
   "cell_type": "markdown",
   "metadata": {},
   "source": [
    "## Preprocessing function"
   ]
  },
  {
   "cell_type": "code",
   "execution_count": null,
   "metadata": {},
   "outputs": [],
   "source": [
    "subjects = [get_subject_name(sub_id) for sub_id in possible_subjects_id(language)]\n",
    "paths = sorted([glob.glob(os.path.join(FMRIDATA_PATH, sub, func, 'fMRI_*run*.nii.gz')) for sub in subjects])"
   ]
  },
  {
   "cell_type": "code",
   "execution_count": null,
   "metadata": {},
   "outputs": [],
   "source": []
  },
  {
   "cell_type": "code",
   "execution_count": 40,
   "metadata": {},
   "outputs": [],
   "source": [
    "def process_fmri_data(fmri_paths, masker):\n",
    "    \"\"\" Load fMRI data and mask it with a given masker.\n",
    "    Preprocess it to avoid NaN value when using Pearson\n",
    "    Correlation coefficients in the following analysis.\n",
    "    Arguments:\n",
    "        - fmri_paths: list (of string)\n",
    "        - masker: NiftiMasker object\n",
    "    Returns:\n",
    "        - data: list of length #runs (np.array of shape: #scans * #voxels) \n",
    "    \"\"\"\n",
    "    data = [masker.transform(f) for f in fmri_paths]\n",
    "    # voxels with activation at zero at each time step generate a nan-value pearson correlation => we add a small variation to the first element\n",
    "    for run in range(len(data)):\n",
    "        zero = np.zeros(data[run].shape[0])\n",
    "        new = zero.copy()\n",
    "        new[0] += np.random.random()/1000\n",
    "        data[run] = np.apply_along_axis(lambda x: x if not np.array_equal(x, zero) else new, 0, data[run])\n",
    "        np.save(fmri_paths[run][:-7] + '.npy', data[run])\n",
    "    return data"
   ]
  },
  {
   "cell_type": "markdown",
   "metadata": {},
   "source": [
    "## Preparing subjects data (transforming to numpy array with masker)"
   ]
  },
  {
   "cell_type": "code",
   "execution_count": 43,
   "metadata": {},
   "outputs": [],
   "source": [
    "for sub_paths in tqdm(paths):\n",
    "    process_fmri_data(sub_paths, global_masker)"
   ]
  },
  {
   "cell_type": "markdown",
   "metadata": {},
   "source": [
    "## Retrieving data & FastSRM"
   ]
  },
  {
   "cell_type": "code",
   "execution_count": null,
   "metadata": {},
   "outputs": [],
   "source": [
    "result = {}"
   ]
  },
  {
   "cell_type": "code",
   "execution_count": null,
   "metadata": {},
   "outputs": [],
   "source": [
    "for subjects_train, subjects_test in KFold(n_splits=len(subjects),\n",
    "                                        shuffle=True\n",
    "                                       ).split(np.arange(len(subjects))):\n",
    "    \n",
    "    n_subjects_train = len(subjects_train)\n",
    "    n_subjects_test = len(subjects_test)\n",
    "\n",
    "    X_train = np.array(paths)[subjects_train, :]\n",
    "    X_test = np.array(paths)[subjects_test, :]\n",
    "    \n",
    "    for session_train, session_test in KFold(n_splits=nb_runs,\n",
    "                                        shuffle=True\n",
    "                                       ).split(np.arange(nb_runs)):\n",
    "        X_train_session_train = X_train[:, session_train]\n",
    "        X_train_session_test = X_train[:, session_test]\n",
    "        X_test_session_train = X_test[:, session_train]\n",
    "        X_test_session_test = X_test[:, session_test]\n",
    "        \n",
    "        fastsrm = IdentifiableFastSRM(n_components=100, temp_dir=\"/home/ap25995/fast_srm\")\n",
    "        fastsrm.fit(X_train_session_train)\n",
    "        W_list = fastsrm.basis_list\n",
    "        S1 = fastsrm.transform(X_train_session_train)\n",
    "        S2 = fastsrm.transform(X_train_session_test)\n",
    "        fastsrm.add_subjects(X_test_session_train, S1)\n",
    "\n",
    "        predictions = fastsrm.inverse_transform(\n",
    "                    S2,\n",
    "                    subjects_indexes=np.arange(n_subjects_train, n_subjects_train + n_subjects_test))\n",
    "\n",
    "        for i in range(n_subjects_test):\n",
    "            diff = predictions[i] - X_test_session_test[i]\n",
    "            r2 = 1 - diff.var(axis=1)\n",
    "            r2_subjects.append(r2)\n",
    "    result[subjects_test[0]] = np.mean(r2_subjects, axis=0)\n"
   ]
  },
  {
   "cell_type": "code",
   "execution_count": null,
   "metadata": {},
   "outputs": [],
   "source": []
  },
  {
   "cell_type": "code",
   "execution_count": null,
   "metadata": {},
   "outputs": [],
   "source": []
  },
  {
   "cell_type": "code",
   "execution_count": null,
   "metadata": {},
   "outputs": [],
   "source": []
  }
 ],
 "metadata": {
  "kernelspec": {
   "display_name": "Python 3",
   "language": "python",
   "name": "python3"
  },
  "language_info": {
   "codemirror_mode": {
    "name": "ipython",
    "version": 3
   },
   "file_extension": ".py",
   "mimetype": "text/x-python",
   "name": "python",
   "nbconvert_exporter": "python",
   "pygments_lexer": "ipython3",
   "version": "3.7.6"
  }
 },
 "nbformat": 4,
 "nbformat_minor": 4
}
