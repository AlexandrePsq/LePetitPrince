{
 "cells": [
  {
   "cell_type": "markdown",
   "metadata": {},
   "source": [
    "## Cleaning directories"
   ]
  },
  {
   "cell_type": "code",
   "execution_count": 35,
   "metadata": {},
   "outputs": [],
   "source": [
    "import shutil\n",
    "import utils\n",
    "import os\n",
    "import glob\n",
    "from tqdm import tqdm\n",
    "\n",
    "import utils"
   ]
  },
  {
   "cell_type": "code",
   "execution_count": 36,
   "metadata": {},
   "outputs": [],
   "source": [
    "#local = 'Volumes'\n",
    "local = 'neurospin'\n",
    "language = 'english'"
   ]
  },
  {
   "cell_type": "code",
   "execution_count": 37,
   "metadata": {},
   "outputs": [
    {
     "name": "stderr",
     "output_type": "stream",
     "text": [
      "100%|██████████| 459/459 [00:01<00:00, 401.44it/s]\n"
     ]
    }
   ],
   "source": [
    "files = sorted(glob.glob(f\"/{local}/unicog/protocols/IRMf/LePetitPrince_Pallier_2018/LePetitPrince/derivatives/fMRI/maps/english/*/*/*_coef_.npy\"))\n",
    "\n",
    "\n",
    "\n",
    "for f in tqdm(files):\n",
    "    try:\n",
    "        os.remove(f)\n",
    "    except Exception as e:\n",
    "        print(e)\n",
    "        print('ERROR: ', f)"
   ]
  },
  {
   "cell_type": "code",
   "execution_count": null,
   "metadata": {},
   "outputs": [],
   "source": [
    "names = [\n",
    "#'cp -r /neurospin/unicog/.snapshots/hebdomadaire_2020_08_30__05_30/protocols/IRMf/LePetitPrince_Pallier_2018/LePetitPrince/derivatives/fMRI/maps/english/{subject_name}/glove_300_norm_np.inf_centering_scaling_axis_0_{subject_id} /neurospin/unicog/protocols/IRMf/LePetitPrince_Pallier_2018/LePetitPrince/derivatives/fMRI/maps/english/{subject_name}/',\n",
    "\"/neurospin/unicog/protocols/IRMf/LePetitPrince_Pallier_2018/LePetitPrince/derivatives/fMRI/maps/english/{subject_name}/bert-base-uncased_L-12_H-768_pre-0_post-0_mask-1000-0_norm-2_norm-None_temporal-shifting-0_{subject_id}_hidden-layer-8\",\n",
    "]\n",
    "\n",
    "\n",
    "\n",
    "subject_names_list = [utils.get_subject_name(sub_id) for sub_id in utils.possible_subjects_id(language)]\n",
    "subject_ids_list = utils.possible_subjects_id(language)\n",
    "\n",
    "for name in tqdm(names):\n",
    "    for subject_name, subject_id in zip(subject_names_list, subject_ids_list):\n",
    "        try:\n",
    "            shutil.rmtree(name.format(subject_name=subject_name, subject_id=subject_id))\n",
    "            #os.system(name.format(subject_name=subject_name, subject_id=subject_id))\n",
    "        except Exception as e:\n",
    "            print(e)\n",
    "            print('ERROR: ', name.format(subject_name=subject_name, subject_id=subject_id))"
   ]
  },
  {
   "cell_type": "code",
   "execution_count": null,
   "metadata": {},
   "outputs": [],
   "source": []
  }
 ],
 "metadata": {
  "kernelspec": {
   "display_name": "Python 3",
   "language": "python",
   "name": "python3"
  },
  "language_info": {
   "codemirror_mode": {
    "name": "ipython",
    "version": 3
   },
   "file_extension": ".py",
   "mimetype": "text/x-python",
   "name": "python",
   "nbconvert_exporter": "python",
   "pygments_lexer": "ipython3",
   "version": "3.8.3"
  }
 },
 "nbformat": 4,
 "nbformat_minor": 4
}
