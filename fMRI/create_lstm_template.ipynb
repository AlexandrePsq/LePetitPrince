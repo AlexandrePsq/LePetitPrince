{
 "cells": [
  {
   "cell_type": "markdown",
   "metadata": {},
   "source": [
    "# Notebook to generate templates for LSTM models"
   ]
  },
  {
   "cell_type": "code",
   "execution_count": 1,
   "metadata": {},
   "outputs": [
    {
     "name": "stderr",
     "output_type": "stream",
     "text": [
      "/home/ap263679/anaconda3/lib/python3.8/site-packages/sklearn/linear_model/least_angle.py:30: DeprecationWarning: `np.float` is a deprecated alias for the builtin `float`. To silence this warning, use `float` by itself. Doing this will not modify any behavior and is safe. If you specifically wanted the numpy scalar type, use `np.float64` here.\n",
      "Deprecated in NumPy 1.20; for more details and guidance: https://numpy.org/devdocs/release/1.20.0-notes.html#deprecations\n",
      "  method='lar', copy_X=True, eps=np.finfo(np.float).eps,\n",
      "/home/ap263679/anaconda3/lib/python3.8/site-packages/sklearn/linear_model/least_angle.py:167: DeprecationWarning: `np.float` is a deprecated alias for the builtin `float`. To silence this warning, use `float` by itself. Doing this will not modify any behavior and is safe. If you specifically wanted the numpy scalar type, use `np.float64` here.\n",
      "Deprecated in NumPy 1.20; for more details and guidance: https://numpy.org/devdocs/release/1.20.0-notes.html#deprecations\n",
      "  method='lar', copy_X=True, eps=np.finfo(np.float).eps,\n",
      "/home/ap263679/anaconda3/lib/python3.8/site-packages/sklearn/linear_model/least_angle.py:284: DeprecationWarning: `np.float` is a deprecated alias for the builtin `float`. To silence this warning, use `float` by itself. Doing this will not modify any behavior and is safe. If you specifically wanted the numpy scalar type, use `np.float64` here.\n",
      "Deprecated in NumPy 1.20; for more details and guidance: https://numpy.org/devdocs/release/1.20.0-notes.html#deprecations\n",
      "  eps=np.finfo(np.float).eps, copy_Gram=True, verbose=0,\n",
      "/home/ap263679/anaconda3/lib/python3.8/site-packages/sklearn/linear_model/least_angle.py:862: DeprecationWarning: `np.float` is a deprecated alias for the builtin `float`. To silence this warning, use `float` by itself. Doing this will not modify any behavior and is safe. If you specifically wanted the numpy scalar type, use `np.float64` here.\n",
      "Deprecated in NumPy 1.20; for more details and guidance: https://numpy.org/devdocs/release/1.20.0-notes.html#deprecations\n",
      "  eps=np.finfo(np.float).eps, copy_X=True, fit_path=True,\n",
      "/home/ap263679/anaconda3/lib/python3.8/site-packages/sklearn/linear_model/least_angle.py:1101: DeprecationWarning: `np.float` is a deprecated alias for the builtin `float`. To silence this warning, use `float` by itself. Doing this will not modify any behavior and is safe. If you specifically wanted the numpy scalar type, use `np.float64` here.\n",
      "Deprecated in NumPy 1.20; for more details and guidance: https://numpy.org/devdocs/release/1.20.0-notes.html#deprecations\n",
      "  eps=np.finfo(np.float).eps, copy_X=True, fit_path=True,\n",
      "/home/ap263679/anaconda3/lib/python3.8/site-packages/sklearn/linear_model/least_angle.py:1127: DeprecationWarning: `np.float` is a deprecated alias for the builtin `float`. To silence this warning, use `float` by itself. Doing this will not modify any behavior and is safe. If you specifically wanted the numpy scalar type, use `np.float64` here.\n",
      "Deprecated in NumPy 1.20; for more details and guidance: https://numpy.org/devdocs/release/1.20.0-notes.html#deprecations\n",
      "  eps=np.finfo(np.float).eps, positive=False):\n",
      "/home/ap263679/anaconda3/lib/python3.8/site-packages/sklearn/linear_model/least_angle.py:1362: DeprecationWarning: `np.float` is a deprecated alias for the builtin `float`. To silence this warning, use `float` by itself. Doing this will not modify any behavior and is safe. If you specifically wanted the numpy scalar type, use `np.float64` here.\n",
      "Deprecated in NumPy 1.20; for more details and guidance: https://numpy.org/devdocs/release/1.20.0-notes.html#deprecations\n",
      "  max_n_alphas=1000, n_jobs=None, eps=np.finfo(np.float).eps,\n",
      "/home/ap263679/anaconda3/lib/python3.8/site-packages/sklearn/linear_model/least_angle.py:1602: DeprecationWarning: `np.float` is a deprecated alias for the builtin `float`. To silence this warning, use `float` by itself. Doing this will not modify any behavior and is safe. If you specifically wanted the numpy scalar type, use `np.float64` here.\n",
      "Deprecated in NumPy 1.20; for more details and guidance: https://numpy.org/devdocs/release/1.20.0-notes.html#deprecations\n",
      "  max_n_alphas=1000, n_jobs=None, eps=np.finfo(np.float).eps,\n",
      "/home/ap263679/anaconda3/lib/python3.8/site-packages/sklearn/linear_model/least_angle.py:1738: DeprecationWarning: `np.float` is a deprecated alias for the builtin `float`. To silence this warning, use `float` by itself. Doing this will not modify any behavior and is safe. If you specifically wanted the numpy scalar type, use `np.float64` here.\n",
      "Deprecated in NumPy 1.20; for more details and guidance: https://numpy.org/devdocs/release/1.20.0-notes.html#deprecations\n",
      "  eps=np.finfo(np.float).eps, copy_X=True, positive=False):\n",
      "/home/ap263679/anaconda3/lib/python3.8/site-packages/sklearn/decomposition/online_lda.py:29: DeprecationWarning: `np.float` is a deprecated alias for the builtin `float`. To silence this warning, use `float` by itself. Doing this will not modify any behavior and is safe. If you specifically wanted the numpy scalar type, use `np.float64` here.\n",
      "Deprecated in NumPy 1.20; for more details and guidance: https://numpy.org/devdocs/release/1.20.0-notes.html#deprecations\n",
      "  EPS = np.finfo(np.float).eps\n",
      "/home/ap263679/anaconda3/lib/python3.8/site-packages/sklearn/feature_extraction/image.py:167: DeprecationWarning: `np.int` is a deprecated alias for the builtin `int`. To silence this warning, use `int` by itself. Doing this will not modify any behavior and is safe. When replacing `np.int`, you may wish to use e.g. `np.int64` or `np.int32` to specify the precision. If you wish to review your current use, check the release note link for additional information.\n",
      "Deprecated in NumPy 1.20; for more details and guidance: https://numpy.org/devdocs/release/1.20.0-notes.html#deprecations\n",
      "  dtype=np.int):\n",
      "/home/ap263679/anaconda3/lib/python3.8/site-packages/nilearn/datasets/__init__.py:93: FutureWarning: Fetchers from the nilearn.datasets module will be updated in version 0.9 to return python strings instead of bytes and Pandas dataframes instead of Numpy arrays.\n",
      "  warn(\"Fetchers from the nilearn.datasets module will be \"\n"
     ]
    }
   ],
   "source": [
    "import os\n",
    "import yaml\n",
    "import numpy as np\n",
    "import itertools\n",
    "\n",
    "from utils import check_folder, read_yaml, save_yaml, write"
   ]
  },
  {
   "cell_type": "code",
   "execution_count": 2,
   "metadata": {},
   "outputs": [],
   "source": [
    "path_to_main = \"/neurospin/unicog/protocols/IRMf/LePetitPrince_Pallier_2018/LePetitPrince/code/fMRI/fast_main.py\""
   ]
  },
  {
   "cell_type": "code",
   "execution_count": 3,
   "metadata": {},
   "outputs": [],
   "source": [
    "subject_dict = {'english': [57, 58, 59, 61, 62, 63, 64, 65, 66, 67, 68, 69, 70,\n",
    "                    72, 73, 74, 75, 76, 77, 78, 79, 80, 81, 82, 83, 84, 86, 87, 88, 89, 91, 92, 93,\n",
    "                    94, 95, 96, 97, 98, 99, 100, 101, 103, 104, 105, 106, 108, 109, 110, 113, 114, 115],\n",
    "                'french':[1, 2, 3, 4, 5, 6, 7, 8, 9, 10, 11, 12, 13, 14, 15, 16, 17, 18, 19, 20,\n",
    "                          21, 22, 23, 24, 25, 26, 27, 29, 30\n",
    "                         ]\n",
    "               }"
   ]
  },
  {
   "cell_type": "code",
   "execution_count": 4,
   "metadata": {},
   "outputs": [],
   "source": [
    "hrf_list = [\n",
    "    'spm', # hrf model used in SPM\n",
    "    'spm + derivative', # SPM model plus its time derivative (2 regressors)\n",
    "    'spm + derivative + dispersion', # idem, plus dispersion derivative (3 regressors)\n",
    "    'glover', # this one corresponds to the Glover hrf\n",
    "    'glover + derivative', # the Glover hrf + time derivative (2 regressors)\n",
    "    'glover + derivative + dispersion' # idem + dispersion derivative\n",
    "]\n",
    "hrf = 'spm'"
   ]
  },
  {
   "cell_type": "code",
   "execution_count": 5,
   "metadata": {},
   "outputs": [],
   "source": [
    "language = 'english'\n",
    "temporal_shifting = 0"
   ]
  },
  {
   "cell_type": "code",
   "execution_count": 6,
   "metadata": {},
   "outputs": [],
   "source": [
    "template = {\n",
    "  # Shared General parameters\n",
    "  'subject': None,\n",
    "  'parallel': False,\n",
    "  'cuda': True,\n",
    "  'seed': 1111,\n",
    "  'language': None,\n",
    "  'path_to_root': \"/neurospin/unicog/protocols/IRMf/LePetitPrince_Pallier_2018/LePetitPrince/\",\n",
    "  'path_to_fmridata': \"/neurospin/unicog/protocols/IRMf/LePetitPrince_Pallier_2018/LePetitPrince/data/fMRI\",\n",
    "  'output': \"/neurospin/unicog/protocols/IRMf/LePetitPrince_Pallier_2018/LePetitPrince/derivatives/fMRI/maps/\"  ,\n",
    "  'input': \"/neurospin/unicog/protocols/IRMf/LePetitPrince_Pallier_2018/LePetitPrince/data/stimuli-representations/\" ,\n",
    "  'detrend': True, \n",
    "  'standardize': True, \n",
    "  'high_pass': None, \n",
    "  'low_pass': None, \n",
    "  'mask_strategy': 'background', \n",
    "  #'dtype': 'float32', \n",
    "  'memory_level': 0, \n",
    "  'smoothing_fwhm': None , \n",
    "  'verbose': 0, \n",
    "\n",
    "\n",
    "  # Shared Splitter parameters\n",
    "  'nb_runs': 9,\n",
    "  'nb_runs_test': 1,\n",
    "\n",
    "  # Shared Compression parameters\n",
    "  'manifold_method': None,\n",
    "  'manifold_args': {'n_neighbors':4, 'random_state':1111, 'min_dist':0.0, 'metric':'cosine'},\n",
    "\n",
    "  # Shared Transformation parameters (includes the making of regressor and scaling)\n",
    "  'tr': 2.,\n",
    "  'scaling_mean': True,\n",
    "  'scaling_var': True,\n",
    "  'scaling_axis': 0,\n",
    "  'hrf': None,\n",
    "  'offset_path': \"/neurospin/unicog/protocols/IRMf/LePetitPrince_Pallier_2018/LePetitPrince/data/onsets-offsets/\",\n",
    "  'duration_path': \"/neurospin/unicog/protocols/IRMf/LePetitPrince_Pallier_2018/LePetitPrince/\",\n",
    "  'temporal_shifting': 0,\n",
    "  'oversampling': 10,\n",
    "  'add_noise_to_constant': True,\n",
    "\n",
    "  # Shared Estimator model parameters\n",
    "  'base': 10.0,\n",
    "  'voxel_wise': True,\n",
    "  'alpha_percentile': 99.9,\n",
    "  'alpha': 100,\n",
    "  'alpha_min_log_scale': 1,\n",
    "  'alpha_max_log_scale': 5,\n",
    "  'nb_alphas': 10,\n",
    "  'optimizing_criteria': 'R2',\n",
    "  'estimator_model': 'Ridge()',\n",
    "  'save_all_weights': False, \n",
    "\n",
    "  # Maps creation parameters\n",
    "  'atlas': 'cort-prob-2mm',\n",
    "  'masker_path': \"/neurospin/unicog/protocols/IRMf/LePetitPrince_Pallier_2018/LePetitPrince/derivatives/fMRI/ROI_masks/global_masker_english\",\n",
    "  'smoothed_masker_path': \"/neurospin/unicog/protocols/IRMf/LePetitPrince_Pallier_2018/LePetitPrince/derivatives/fMRI/ROI_masks/smoothed_global_masker_english\",\n",
    "\n",
    "\n",
    "  # Models\n",
    "  'models': None, \n",
    "  'model_name': None\n",
    "}"
   ]
  },
  {
   "cell_type": "code",
   "execution_count": 7,
   "metadata": {},
   "outputs": [],
   "source": [
    "def write_commands(command_lines, path_to_sh, queue='Nspin_long'):\n",
    "    for index, command in enumerate(command_lines):\n",
    "        write(path_to_sh[index], command)\n",
    "        walltime = '99:00:00'\n",
    "        output_log = '/home/ap263679/logs/log_o_{}'.format(index)\n",
    "        error_log = '/home/ap263679/logs/log_e_{}'.format(index)\n",
    "        job_name = os.path.basename(path_to_sh[index]).split('.')[0]\n",
    "        write(job_to_launch_path, f\"qsub -q {queue} -N {job_name} -l walltime={walltime} -o {output_log} -e {error_log} {path_to_sh[index]}\")\n"
   ]
  },
  {
   "cell_type": "code",
   "execution_count": 8,
   "metadata": {},
   "outputs": [],
   "source": [
    "def get_lstm_template(\n",
    "    model_name, \n",
    "    layers, \n",
    "    ninp,\n",
    "    nhid,\n",
    "    parameters,\n",
    "    surname,\n",
    "    data_compression, \n",
    "    ncomponents,\n",
    "    offset_type,\n",
    "    duration_type,\n",
    "    shift_surprisal,\n",
    "    includ_surprisal,\n",
    "    includ_entropy,\n",
    "    input_template='activations',\n",
    "    centering=False,\n",
    "    order=None,\n",
    "    scaling_type=None\n",
    "):\n",
    "    \n",
    "    columns_to_retrieve = []\n",
    "    for param in parameters:\n",
    "        columns_to_retrieve = ['{}-layer-{}-{}'.format(param, layer, i) for layer in layers for i in range(1, nhid + 1)]\n",
    "    if includ_surprisal:\n",
    "        columns_to_retrieve += ['surprisal']\n",
    "    if includ_entropy:\n",
    "        columns_to_retrieve += ['entropy']\n",
    "    result = { \n",
    "        'model_name': model_name,\n",
    "        'columns_to_retrieve': str(columns_to_retrieve),\n",
    "        'surname': surname,\n",
    "        'data_compression': data_compression,\n",
    "        'ncomponents': ncomponents,\n",
    "        'offset_type': offset_type, # word / word+punctuation / ...,\n",
    "        'duration_type': duration_type,\n",
    "        'shift_surprisal': shift_surprisal,\n",
    "        'input_template': input_template, # activations\n",
    "        'centering': centering,\n",
    "        'order': order,\n",
    "        'scaling_type': scaling_type,\n",
    "      }\n",
    "\n",
    "    \n",
    "        \n",
    "        \n",
    "    return result\n",
    "    "
   ]
  },
  {
   "cell_type": "code",
   "execution_count": null,
   "metadata": {},
   "outputs": [],
   "source": []
  },
  {
   "cell_type": "code",
   "execution_count": null,
   "metadata": {},
   "outputs": [],
   "source": []
  },
  {
   "cell_type": "markdown",
   "metadata": {},
   "source": [
    "## Here starts the generation"
   ]
  },
  {
   "cell_type": "code",
   "execution_count": 9,
   "metadata": {},
   "outputs": [],
   "source": [
    "templates_folder = \"/neurospin/unicog/protocols/IRMf/LePetitPrince_Pallier_2018/LePetitPrince/tmp_lstm_random/templates/\"\n",
    "sh_folder = \"/neurospin/unicog/protocols/IRMf/LePetitPrince_Pallier_2018/LePetitPrince/tmp_lstm_random/shell_commands/\"\n",
    "job_to_launch_path = \"/neurospin/unicog/protocols/IRMf/LePetitPrince_Pallier_2018/LePetitPrince/tmp_lstm_random/jobs.txt\"\n",
    "check_folder(templates_folder)\n",
    "check_folder(sh_folder)\n"
   ]
  },
  {
   "cell_type": "code",
   "execution_count": 10,
   "metadata": {},
   "outputs": [],
   "source": [
    "model_names = [\n",
    "    'LSTM_embedding-size-650_nhid-650_nlayers-2_dropout-02_memory-size-inf_wiki-kristina_english_random-5793_norm-2',\n",
    "]\n",
    "hidden_layer_list = [[1, 2]] * len(model_names)\n",
    "parameters_list = [['hidden'],] #['hidden'], ['in'], ['forget'], ['out'], ['c_tilde'], ['cell']\n",
    "data_compression = [None] * len(model_names)\n",
    "ncomponents = [None] * len(model_names)\n",
    "shift_surprisal = False\n",
    "includ_surprisal = False\n",
    "includ_entropy = False\n",
    "params = [{'ninp': 650, 'nhid': 650, 'nlayers': 2}] * len(model_names)\n",
    "order = [None] * len(model_names)\n",
    "centering = ['True'] * len(model_names)\n",
    "scaling_type = [None] * len(model_names)\n",
    "input_template = 'activations'\n",
    "scaling_axis = 0\n",
    "temporal_shifting = 0"
   ]
  },
  {
   "cell_type": "code",
   "execution_count": 11,
   "metadata": {},
   "outputs": [],
   "source": [
    "template['language'] = language\n",
    "template['scaling_axis'] = scaling_axis\n",
    "template['hrf'] = hrf\n",
    "template['temporal_shifting'] = temporal_shifting"
   ]
  },
  {
   "cell_type": "code",
   "execution_count": 12,
   "metadata": {},
   "outputs": [],
   "source": [
    "command_lines = []\n",
    "path_to_sh = []"
   ]
  },
  {
   "cell_type": "code",
   "execution_count": 13,
   "metadata": {},
   "outputs": [],
   "source": [
    "for index, model_name in enumerate(model_names):\n",
    "    param = params[index]\n",
    "    for subject in subject_dict[language]:\n",
    "        template['hrf'] = hrf\n",
    "        template['subject'] = subject\n",
    "        \n",
    "        for parameters in parameters_list:\n",
    "        \n",
    "            # hidden layers comparison\n",
    "            model = get_lstm_template(\n",
    "                model_name, \n",
    "                hidden_layer_list[index], \n",
    "                param['ninp'],\n",
    "                param['nhid'],\n",
    "                parameters,\n",
    "                \"{}_all-{}-layers\".format(model_name, parameters[0]),\n",
    "                data_compression[index], \n",
    "                ncomponents[index],\n",
    "                \"word+punctuation\",\n",
    "                None,\n",
    "                shift_surprisal,\n",
    "                includ_surprisal,\n",
    "                includ_entropy,\n",
    "                input_template='activations',\n",
    "                centering=centering[index],\n",
    "                order=order[index],\n",
    "                scaling_type=scaling_type[index]\n",
    "            )\n",
    "\n",
    "            template['models'] = [model]\n",
    "            template['model_name'] = '{}_{}_all-{}-layers'.format(model_name, subject, parameters[0])\n",
    "            yaml_path = os.path.join(templates_folder, '{}_{}_all-{}-layers.yml'.format(model_name, subject, parameters[0]))\n",
    "\n",
    "            save_yaml(template, yaml_path)\n",
    "            command_lines.append(\"python {} --yaml_file {}\".format(path_to_main, yaml_path))\n",
    "            path_to_sh.append(os.path.join(sh_folder, '{}_{}_all-{}-layers.sh'.format(model_name, subject, parameters[0])))\n"
   ]
  },
  {
   "cell_type": "code",
   "execution_count": 14,
   "metadata": {},
   "outputs": [],
   "source": [
    "write_commands(command_lines, path_to_sh)"
   ]
  },
  {
   "cell_type": "code",
   "execution_count": 15,
   "metadata": {
    "scrolled": false
   },
   "outputs": [
    {
     "data": {
      "text/plain": [
       "{'subject': 115,\n",
       " 'parallel': False,\n",
       " 'cuda': True,\n",
       " 'seed': 1111,\n",
       " 'language': 'english',\n",
       " 'path_to_root': '/neurospin/unicog/protocols/IRMf/LePetitPrince_Pallier_2018/LePetitPrince/',\n",
       " 'path_to_fmridata': '/neurospin/unicog/protocols/IRMf/LePetitPrince_Pallier_2018/LePetitPrince/data/fMRI',\n",
       " 'output': '/neurospin/unicog/protocols/IRMf/LePetitPrince_Pallier_2018/LePetitPrince/derivatives/fMRI/maps/',\n",
       " 'input': '/neurospin/unicog/protocols/IRMf/LePetitPrince_Pallier_2018/LePetitPrince/data/stimuli-representations/',\n",
       " 'detrend': True,\n",
       " 'standardize': True,\n",
       " 'high_pass': None,\n",
       " 'low_pass': None,\n",
       " 'mask_strategy': 'background',\n",
       " 'memory_level': 0,\n",
       " 'smoothing_fwhm': None,\n",
       " 'verbose': 0,\n",
       " 'nb_runs': 9,\n",
       " 'nb_runs_test': 1,\n",
       " 'manifold_method': None,\n",
       " 'manifold_args': {'n_neighbors': 4,\n",
       "  'random_state': 1111,\n",
       "  'min_dist': 0.0,\n",
       "  'metric': 'cosine'},\n",
       " 'tr': 2.0,\n",
       " 'scaling_mean': True,\n",
       " 'scaling_var': True,\n",
       " 'scaling_axis': 0,\n",
       " 'hrf': 'spm',\n",
       " 'offset_path': '/neurospin/unicog/protocols/IRMf/LePetitPrince_Pallier_2018/LePetitPrince/data/onsets-offsets/',\n",
       " 'duration_path': '/neurospin/unicog/protocols/IRMf/LePetitPrince_Pallier_2018/LePetitPrince/',\n",
       " 'temporal_shifting': 0,\n",
       " 'oversampling': 10,\n",
       " 'add_noise_to_constant': True,\n",
       " 'base': 10.0,\n",
       " 'voxel_wise': True,\n",
       " 'alpha_percentile': 99.9,\n",
       " 'alpha': 100,\n",
       " 'alpha_min_log_scale': 1,\n",
       " 'alpha_max_log_scale': 5,\n",
       " 'nb_alphas': 10,\n",
       " 'optimizing_criteria': 'R2',\n",
       " 'estimator_model': 'Ridge()',\n",
       " 'save_all_weights': False,\n",
       " 'atlas': 'cort-prob-2mm',\n",
       " 'masker_path': '/neurospin/unicog/protocols/IRMf/LePetitPrince_Pallier_2018/LePetitPrince/derivatives/fMRI/ROI_masks/global_masker_english',\n",
       " 'smoothed_masker_path': '/neurospin/unicog/protocols/IRMf/LePetitPrince_Pallier_2018/LePetitPrince/derivatives/fMRI/ROI_masks/smoothed_global_masker_english',\n",
       " 'models': [{'model_name': 'LSTM_embedding-size-650_nhid-650_nlayers-2_dropout-02_memory-size-inf_wiki-kristina_english_random-5793_norm-2',\n",
       "   'columns_to_retrieve': \"['hidden-layer-1-1', 'hidden-layer-1-2', 'hidden-layer-1-3', 'hidden-layer-1-4', 'hidden-layer-1-5', 'hidden-layer-1-6', 'hidden-layer-1-7', 'hidden-layer-1-8', 'hidden-layer-1-9', 'hidden-layer-1-10', 'hidden-layer-1-11', 'hidden-layer-1-12', 'hidden-layer-1-13', 'hidden-layer-1-14', 'hidden-layer-1-15', 'hidden-layer-1-16', 'hidden-layer-1-17', 'hidden-layer-1-18', 'hidden-layer-1-19', 'hidden-layer-1-20', 'hidden-layer-1-21', 'hidden-layer-1-22', 'hidden-layer-1-23', 'hidden-layer-1-24', 'hidden-layer-1-25', 'hidden-layer-1-26', 'hidden-layer-1-27', 'hidden-layer-1-28', 'hidden-layer-1-29', 'hidden-layer-1-30', 'hidden-layer-1-31', 'hidden-layer-1-32', 'hidden-layer-1-33', 'hidden-layer-1-34', 'hidden-layer-1-35', 'hidden-layer-1-36', 'hidden-layer-1-37', 'hidden-layer-1-38', 'hidden-layer-1-39', 'hidden-layer-1-40', 'hidden-layer-1-41', 'hidden-layer-1-42', 'hidden-layer-1-43', 'hidden-layer-1-44', 'hidden-layer-1-45', 'hidden-layer-1-46', 'hidden-layer-1-47', 'hidden-layer-1-48', 'hidden-layer-1-49', 'hidden-layer-1-50', 'hidden-layer-1-51', 'hidden-layer-1-52', 'hidden-layer-1-53', 'hidden-layer-1-54', 'hidden-layer-1-55', 'hidden-layer-1-56', 'hidden-layer-1-57', 'hidden-layer-1-58', 'hidden-layer-1-59', 'hidden-layer-1-60', 'hidden-layer-1-61', 'hidden-layer-1-62', 'hidden-layer-1-63', 'hidden-layer-1-64', 'hidden-layer-1-65', 'hidden-layer-1-66', 'hidden-layer-1-67', 'hidden-layer-1-68', 'hidden-layer-1-69', 'hidden-layer-1-70', 'hidden-layer-1-71', 'hidden-layer-1-72', 'hidden-layer-1-73', 'hidden-layer-1-74', 'hidden-layer-1-75', 'hidden-layer-1-76', 'hidden-layer-1-77', 'hidden-layer-1-78', 'hidden-layer-1-79', 'hidden-layer-1-80', 'hidden-layer-1-81', 'hidden-layer-1-82', 'hidden-layer-1-83', 'hidden-layer-1-84', 'hidden-layer-1-85', 'hidden-layer-1-86', 'hidden-layer-1-87', 'hidden-layer-1-88', 'hidden-layer-1-89', 'hidden-layer-1-90', 'hidden-layer-1-91', 'hidden-layer-1-92', 'hidden-layer-1-93', 'hidden-layer-1-94', 'hidden-layer-1-95', 'hidden-layer-1-96', 'hidden-layer-1-97', 'hidden-layer-1-98', 'hidden-layer-1-99', 'hidden-layer-1-100', 'hidden-layer-1-101', 'hidden-layer-1-102', 'hidden-layer-1-103', 'hidden-layer-1-104', 'hidden-layer-1-105', 'hidden-layer-1-106', 'hidden-layer-1-107', 'hidden-layer-1-108', 'hidden-layer-1-109', 'hidden-layer-1-110', 'hidden-layer-1-111', 'hidden-layer-1-112', 'hidden-layer-1-113', 'hidden-layer-1-114', 'hidden-layer-1-115', 'hidden-layer-1-116', 'hidden-layer-1-117', 'hidden-layer-1-118', 'hidden-layer-1-119', 'hidden-layer-1-120', 'hidden-layer-1-121', 'hidden-layer-1-122', 'hidden-layer-1-123', 'hidden-layer-1-124', 'hidden-layer-1-125', 'hidden-layer-1-126', 'hidden-layer-1-127', 'hidden-layer-1-128', 'hidden-layer-1-129', 'hidden-layer-1-130', 'hidden-layer-1-131', 'hidden-layer-1-132', 'hidden-layer-1-133', 'hidden-layer-1-134', 'hidden-layer-1-135', 'hidden-layer-1-136', 'hidden-layer-1-137', 'hidden-layer-1-138', 'hidden-layer-1-139', 'hidden-layer-1-140', 'hidden-layer-1-141', 'hidden-layer-1-142', 'hidden-layer-1-143', 'hidden-layer-1-144', 'hidden-layer-1-145', 'hidden-layer-1-146', 'hidden-layer-1-147', 'hidden-layer-1-148', 'hidden-layer-1-149', 'hidden-layer-1-150', 'hidden-layer-1-151', 'hidden-layer-1-152', 'hidden-layer-1-153', 'hidden-layer-1-154', 'hidden-layer-1-155', 'hidden-layer-1-156', 'hidden-layer-1-157', 'hidden-layer-1-158', 'hidden-layer-1-159', 'hidden-layer-1-160', 'hidden-layer-1-161', 'hidden-layer-1-162', 'hidden-layer-1-163', 'hidden-layer-1-164', 'hidden-layer-1-165', 'hidden-layer-1-166', 'hidden-layer-1-167', 'hidden-layer-1-168', 'hidden-layer-1-169', 'hidden-layer-1-170', 'hidden-layer-1-171', 'hidden-layer-1-172', 'hidden-layer-1-173', 'hidden-layer-1-174', 'hidden-layer-1-175', 'hidden-layer-1-176', 'hidden-layer-1-177', 'hidden-layer-1-178', 'hidden-layer-1-179', 'hidden-layer-1-180', 'hidden-layer-1-181', 'hidden-layer-1-182', 'hidden-layer-1-183', 'hidden-layer-1-184', 'hidden-layer-1-185', 'hidden-layer-1-186', 'hidden-layer-1-187', 'hidden-layer-1-188', 'hidden-layer-1-189', 'hidden-layer-1-190', 'hidden-layer-1-191', 'hidden-layer-1-192', 'hidden-layer-1-193', 'hidden-layer-1-194', 'hidden-layer-1-195', 'hidden-layer-1-196', 'hidden-layer-1-197', 'hidden-layer-1-198', 'hidden-layer-1-199', 'hidden-layer-1-200', 'hidden-layer-1-201', 'hidden-layer-1-202', 'hidden-layer-1-203', 'hidden-layer-1-204', 'hidden-layer-1-205', 'hidden-layer-1-206', 'hidden-layer-1-207', 'hidden-layer-1-208', 'hidden-layer-1-209', 'hidden-layer-1-210', 'hidden-layer-1-211', 'hidden-layer-1-212', 'hidden-layer-1-213', 'hidden-layer-1-214', 'hidden-layer-1-215', 'hidden-layer-1-216', 'hidden-layer-1-217', 'hidden-layer-1-218', 'hidden-layer-1-219', 'hidden-layer-1-220', 'hidden-layer-1-221', 'hidden-layer-1-222', 'hidden-layer-1-223', 'hidden-layer-1-224', 'hidden-layer-1-225', 'hidden-layer-1-226', 'hidden-layer-1-227', 'hidden-layer-1-228', 'hidden-layer-1-229', 'hidden-layer-1-230', 'hidden-layer-1-231', 'hidden-layer-1-232', 'hidden-layer-1-233', 'hidden-layer-1-234', 'hidden-layer-1-235', 'hidden-layer-1-236', 'hidden-layer-1-237', 'hidden-layer-1-238', 'hidden-layer-1-239', 'hidden-layer-1-240', 'hidden-layer-1-241', 'hidden-layer-1-242', 'hidden-layer-1-243', 'hidden-layer-1-244', 'hidden-layer-1-245', 'hidden-layer-1-246', 'hidden-layer-1-247', 'hidden-layer-1-248', 'hidden-layer-1-249', 'hidden-layer-1-250', 'hidden-layer-1-251', 'hidden-layer-1-252', 'hidden-layer-1-253', 'hidden-layer-1-254', 'hidden-layer-1-255', 'hidden-layer-1-256', 'hidden-layer-1-257', 'hidden-layer-1-258', 'hidden-layer-1-259', 'hidden-layer-1-260', 'hidden-layer-1-261', 'hidden-layer-1-262', 'hidden-layer-1-263', 'hidden-layer-1-264', 'hidden-layer-1-265', 'hidden-layer-1-266', 'hidden-layer-1-267', 'hidden-layer-1-268', 'hidden-layer-1-269', 'hidden-layer-1-270', 'hidden-layer-1-271', 'hidden-layer-1-272', 'hidden-layer-1-273', 'hidden-layer-1-274', 'hidden-layer-1-275', 'hidden-layer-1-276', 'hidden-layer-1-277', 'hidden-layer-1-278', 'hidden-layer-1-279', 'hidden-layer-1-280', 'hidden-layer-1-281', 'hidden-layer-1-282', 'hidden-layer-1-283', 'hidden-layer-1-284', 'hidden-layer-1-285', 'hidden-layer-1-286', 'hidden-layer-1-287', 'hidden-layer-1-288', 'hidden-layer-1-289', 'hidden-layer-1-290', 'hidden-layer-1-291', 'hidden-layer-1-292', 'hidden-layer-1-293', 'hidden-layer-1-294', 'hidden-layer-1-295', 'hidden-layer-1-296', 'hidden-layer-1-297', 'hidden-layer-1-298', 'hidden-layer-1-299', 'hidden-layer-1-300', 'hidden-layer-1-301', 'hidden-layer-1-302', 'hidden-layer-1-303', 'hidden-layer-1-304', 'hidden-layer-1-305', 'hidden-layer-1-306', 'hidden-layer-1-307', 'hidden-layer-1-308', 'hidden-layer-1-309', 'hidden-layer-1-310', 'hidden-layer-1-311', 'hidden-layer-1-312', 'hidden-layer-1-313', 'hidden-layer-1-314', 'hidden-layer-1-315', 'hidden-layer-1-316', 'hidden-layer-1-317', 'hidden-layer-1-318', 'hidden-layer-1-319', 'hidden-layer-1-320', 'hidden-layer-1-321', 'hidden-layer-1-322', 'hidden-layer-1-323', 'hidden-layer-1-324', 'hidden-layer-1-325', 'hidden-layer-1-326', 'hidden-layer-1-327', 'hidden-layer-1-328', 'hidden-layer-1-329', 'hidden-layer-1-330', 'hidden-layer-1-331', 'hidden-layer-1-332', 'hidden-layer-1-333', 'hidden-layer-1-334', 'hidden-layer-1-335', 'hidden-layer-1-336', 'hidden-layer-1-337', 'hidden-layer-1-338', 'hidden-layer-1-339', 'hidden-layer-1-340', 'hidden-layer-1-341', 'hidden-layer-1-342', 'hidden-layer-1-343', 'hidden-layer-1-344', 'hidden-layer-1-345', 'hidden-layer-1-346', 'hidden-layer-1-347', 'hidden-layer-1-348', 'hidden-layer-1-349', 'hidden-layer-1-350', 'hidden-layer-1-351', 'hidden-layer-1-352', 'hidden-layer-1-353', 'hidden-layer-1-354', 'hidden-layer-1-355', 'hidden-layer-1-356', 'hidden-layer-1-357', 'hidden-layer-1-358', 'hidden-layer-1-359', 'hidden-layer-1-360', 'hidden-layer-1-361', 'hidden-layer-1-362', 'hidden-layer-1-363', 'hidden-layer-1-364', 'hidden-layer-1-365', 'hidden-layer-1-366', 'hidden-layer-1-367', 'hidden-layer-1-368', 'hidden-layer-1-369', 'hidden-layer-1-370', 'hidden-layer-1-371', 'hidden-layer-1-372', 'hidden-layer-1-373', 'hidden-layer-1-374', 'hidden-layer-1-375', 'hidden-layer-1-376', 'hidden-layer-1-377', 'hidden-layer-1-378', 'hidden-layer-1-379', 'hidden-layer-1-380', 'hidden-layer-1-381', 'hidden-layer-1-382', 'hidden-layer-1-383', 'hidden-layer-1-384', 'hidden-layer-1-385', 'hidden-layer-1-386', 'hidden-layer-1-387', 'hidden-layer-1-388', 'hidden-layer-1-389', 'hidden-layer-1-390', 'hidden-layer-1-391', 'hidden-layer-1-392', 'hidden-layer-1-393', 'hidden-layer-1-394', 'hidden-layer-1-395', 'hidden-layer-1-396', 'hidden-layer-1-397', 'hidden-layer-1-398', 'hidden-layer-1-399', 'hidden-layer-1-400', 'hidden-layer-1-401', 'hidden-layer-1-402', 'hidden-layer-1-403', 'hidden-layer-1-404', 'hidden-layer-1-405', 'hidden-layer-1-406', 'hidden-layer-1-407', 'hidden-layer-1-408', 'hidden-layer-1-409', 'hidden-layer-1-410', 'hidden-layer-1-411', 'hidden-layer-1-412', 'hidden-layer-1-413', 'hidden-layer-1-414', 'hidden-layer-1-415', 'hidden-layer-1-416', 'hidden-layer-1-417', 'hidden-layer-1-418', 'hidden-layer-1-419', 'hidden-layer-1-420', 'hidden-layer-1-421', 'hidden-layer-1-422', 'hidden-layer-1-423', 'hidden-layer-1-424', 'hidden-layer-1-425', 'hidden-layer-1-426', 'hidden-layer-1-427', 'hidden-layer-1-428', 'hidden-layer-1-429', 'hidden-layer-1-430', 'hidden-layer-1-431', 'hidden-layer-1-432', 'hidden-layer-1-433', 'hidden-layer-1-434', 'hidden-layer-1-435', 'hidden-layer-1-436', 'hidden-layer-1-437', 'hidden-layer-1-438', 'hidden-layer-1-439', 'hidden-layer-1-440', 'hidden-layer-1-441', 'hidden-layer-1-442', 'hidden-layer-1-443', 'hidden-layer-1-444', 'hidden-layer-1-445', 'hidden-layer-1-446', 'hidden-layer-1-447', 'hidden-layer-1-448', 'hidden-layer-1-449', 'hidden-layer-1-450', 'hidden-layer-1-451', 'hidden-layer-1-452', 'hidden-layer-1-453', 'hidden-layer-1-454', 'hidden-layer-1-455', 'hidden-layer-1-456', 'hidden-layer-1-457', 'hidden-layer-1-458', 'hidden-layer-1-459', 'hidden-layer-1-460', 'hidden-layer-1-461', 'hidden-layer-1-462', 'hidden-layer-1-463', 'hidden-layer-1-464', 'hidden-layer-1-465', 'hidden-layer-1-466', 'hidden-layer-1-467', 'hidden-layer-1-468', 'hidden-layer-1-469', 'hidden-layer-1-470', 'hidden-layer-1-471', 'hidden-layer-1-472', 'hidden-layer-1-473', 'hidden-layer-1-474', 'hidden-layer-1-475', 'hidden-layer-1-476', 'hidden-layer-1-477', 'hidden-layer-1-478', 'hidden-layer-1-479', 'hidden-layer-1-480', 'hidden-layer-1-481', 'hidden-layer-1-482', 'hidden-layer-1-483', 'hidden-layer-1-484', 'hidden-layer-1-485', 'hidden-layer-1-486', 'hidden-layer-1-487', 'hidden-layer-1-488', 'hidden-layer-1-489', 'hidden-layer-1-490', 'hidden-layer-1-491', 'hidden-layer-1-492', 'hidden-layer-1-493', 'hidden-layer-1-494', 'hidden-layer-1-495', 'hidden-layer-1-496', 'hidden-layer-1-497', 'hidden-layer-1-498', 'hidden-layer-1-499', 'hidden-layer-1-500', 'hidden-layer-1-501', 'hidden-layer-1-502', 'hidden-layer-1-503', 'hidden-layer-1-504', 'hidden-layer-1-505', 'hidden-layer-1-506', 'hidden-layer-1-507', 'hidden-layer-1-508', 'hidden-layer-1-509', 'hidden-layer-1-510', 'hidden-layer-1-511', 'hidden-layer-1-512', 'hidden-layer-1-513', 'hidden-layer-1-514', 'hidden-layer-1-515', 'hidden-layer-1-516', 'hidden-layer-1-517', 'hidden-layer-1-518', 'hidden-layer-1-519', 'hidden-layer-1-520', 'hidden-layer-1-521', 'hidden-layer-1-522', 'hidden-layer-1-523', 'hidden-layer-1-524', 'hidden-layer-1-525', 'hidden-layer-1-526', 'hidden-layer-1-527', 'hidden-layer-1-528', 'hidden-layer-1-529', 'hidden-layer-1-530', 'hidden-layer-1-531', 'hidden-layer-1-532', 'hidden-layer-1-533', 'hidden-layer-1-534', 'hidden-layer-1-535', 'hidden-layer-1-536', 'hidden-layer-1-537', 'hidden-layer-1-538', 'hidden-layer-1-539', 'hidden-layer-1-540', 'hidden-layer-1-541', 'hidden-layer-1-542', 'hidden-layer-1-543', 'hidden-layer-1-544', 'hidden-layer-1-545', 'hidden-layer-1-546', 'hidden-layer-1-547', 'hidden-layer-1-548', 'hidden-layer-1-549', 'hidden-layer-1-550', 'hidden-layer-1-551', 'hidden-layer-1-552', 'hidden-layer-1-553', 'hidden-layer-1-554', 'hidden-layer-1-555', 'hidden-layer-1-556', 'hidden-layer-1-557', 'hidden-layer-1-558', 'hidden-layer-1-559', 'hidden-layer-1-560', 'hidden-layer-1-561', 'hidden-layer-1-562', 'hidden-layer-1-563', 'hidden-layer-1-564', 'hidden-layer-1-565', 'hidden-layer-1-566', 'hidden-layer-1-567', 'hidden-layer-1-568', 'hidden-layer-1-569', 'hidden-layer-1-570', 'hidden-layer-1-571', 'hidden-layer-1-572', 'hidden-layer-1-573', 'hidden-layer-1-574', 'hidden-layer-1-575', 'hidden-layer-1-576', 'hidden-layer-1-577', 'hidden-layer-1-578', 'hidden-layer-1-579', 'hidden-layer-1-580', 'hidden-layer-1-581', 'hidden-layer-1-582', 'hidden-layer-1-583', 'hidden-layer-1-584', 'hidden-layer-1-585', 'hidden-layer-1-586', 'hidden-layer-1-587', 'hidden-layer-1-588', 'hidden-layer-1-589', 'hidden-layer-1-590', 'hidden-layer-1-591', 'hidden-layer-1-592', 'hidden-layer-1-593', 'hidden-layer-1-594', 'hidden-layer-1-595', 'hidden-layer-1-596', 'hidden-layer-1-597', 'hidden-layer-1-598', 'hidden-layer-1-599', 'hidden-layer-1-600', 'hidden-layer-1-601', 'hidden-layer-1-602', 'hidden-layer-1-603', 'hidden-layer-1-604', 'hidden-layer-1-605', 'hidden-layer-1-606', 'hidden-layer-1-607', 'hidden-layer-1-608', 'hidden-layer-1-609', 'hidden-layer-1-610', 'hidden-layer-1-611', 'hidden-layer-1-612', 'hidden-layer-1-613', 'hidden-layer-1-614', 'hidden-layer-1-615', 'hidden-layer-1-616', 'hidden-layer-1-617', 'hidden-layer-1-618', 'hidden-layer-1-619', 'hidden-layer-1-620', 'hidden-layer-1-621', 'hidden-layer-1-622', 'hidden-layer-1-623', 'hidden-layer-1-624', 'hidden-layer-1-625', 'hidden-layer-1-626', 'hidden-layer-1-627', 'hidden-layer-1-628', 'hidden-layer-1-629', 'hidden-layer-1-630', 'hidden-layer-1-631', 'hidden-layer-1-632', 'hidden-layer-1-633', 'hidden-layer-1-634', 'hidden-layer-1-635', 'hidden-layer-1-636', 'hidden-layer-1-637', 'hidden-layer-1-638', 'hidden-layer-1-639', 'hidden-layer-1-640', 'hidden-layer-1-641', 'hidden-layer-1-642', 'hidden-layer-1-643', 'hidden-layer-1-644', 'hidden-layer-1-645', 'hidden-layer-1-646', 'hidden-layer-1-647', 'hidden-layer-1-648', 'hidden-layer-1-649', 'hidden-layer-1-650', 'hidden-layer-2-1', 'hidden-layer-2-2', 'hidden-layer-2-3', 'hidden-layer-2-4', 'hidden-layer-2-5', 'hidden-layer-2-6', 'hidden-layer-2-7', 'hidden-layer-2-8', 'hidden-layer-2-9', 'hidden-layer-2-10', 'hidden-layer-2-11', 'hidden-layer-2-12', 'hidden-layer-2-13', 'hidden-layer-2-14', 'hidden-layer-2-15', 'hidden-layer-2-16', 'hidden-layer-2-17', 'hidden-layer-2-18', 'hidden-layer-2-19', 'hidden-layer-2-20', 'hidden-layer-2-21', 'hidden-layer-2-22', 'hidden-layer-2-23', 'hidden-layer-2-24', 'hidden-layer-2-25', 'hidden-layer-2-26', 'hidden-layer-2-27', 'hidden-layer-2-28', 'hidden-layer-2-29', 'hidden-layer-2-30', 'hidden-layer-2-31', 'hidden-layer-2-32', 'hidden-layer-2-33', 'hidden-layer-2-34', 'hidden-layer-2-35', 'hidden-layer-2-36', 'hidden-layer-2-37', 'hidden-layer-2-38', 'hidden-layer-2-39', 'hidden-layer-2-40', 'hidden-layer-2-41', 'hidden-layer-2-42', 'hidden-layer-2-43', 'hidden-layer-2-44', 'hidden-layer-2-45', 'hidden-layer-2-46', 'hidden-layer-2-47', 'hidden-layer-2-48', 'hidden-layer-2-49', 'hidden-layer-2-50', 'hidden-layer-2-51', 'hidden-layer-2-52', 'hidden-layer-2-53', 'hidden-layer-2-54', 'hidden-layer-2-55', 'hidden-layer-2-56', 'hidden-layer-2-57', 'hidden-layer-2-58', 'hidden-layer-2-59', 'hidden-layer-2-60', 'hidden-layer-2-61', 'hidden-layer-2-62', 'hidden-layer-2-63', 'hidden-layer-2-64', 'hidden-layer-2-65', 'hidden-layer-2-66', 'hidden-layer-2-67', 'hidden-layer-2-68', 'hidden-layer-2-69', 'hidden-layer-2-70', 'hidden-layer-2-71', 'hidden-layer-2-72', 'hidden-layer-2-73', 'hidden-layer-2-74', 'hidden-layer-2-75', 'hidden-layer-2-76', 'hidden-layer-2-77', 'hidden-layer-2-78', 'hidden-layer-2-79', 'hidden-layer-2-80', 'hidden-layer-2-81', 'hidden-layer-2-82', 'hidden-layer-2-83', 'hidden-layer-2-84', 'hidden-layer-2-85', 'hidden-layer-2-86', 'hidden-layer-2-87', 'hidden-layer-2-88', 'hidden-layer-2-89', 'hidden-layer-2-90', 'hidden-layer-2-91', 'hidden-layer-2-92', 'hidden-layer-2-93', 'hidden-layer-2-94', 'hidden-layer-2-95', 'hidden-layer-2-96', 'hidden-layer-2-97', 'hidden-layer-2-98', 'hidden-layer-2-99', 'hidden-layer-2-100', 'hidden-layer-2-101', 'hidden-layer-2-102', 'hidden-layer-2-103', 'hidden-layer-2-104', 'hidden-layer-2-105', 'hidden-layer-2-106', 'hidden-layer-2-107', 'hidden-layer-2-108', 'hidden-layer-2-109', 'hidden-layer-2-110', 'hidden-layer-2-111', 'hidden-layer-2-112', 'hidden-layer-2-113', 'hidden-layer-2-114', 'hidden-layer-2-115', 'hidden-layer-2-116', 'hidden-layer-2-117', 'hidden-layer-2-118', 'hidden-layer-2-119', 'hidden-layer-2-120', 'hidden-layer-2-121', 'hidden-layer-2-122', 'hidden-layer-2-123', 'hidden-layer-2-124', 'hidden-layer-2-125', 'hidden-layer-2-126', 'hidden-layer-2-127', 'hidden-layer-2-128', 'hidden-layer-2-129', 'hidden-layer-2-130', 'hidden-layer-2-131', 'hidden-layer-2-132', 'hidden-layer-2-133', 'hidden-layer-2-134', 'hidden-layer-2-135', 'hidden-layer-2-136', 'hidden-layer-2-137', 'hidden-layer-2-138', 'hidden-layer-2-139', 'hidden-layer-2-140', 'hidden-layer-2-141', 'hidden-layer-2-142', 'hidden-layer-2-143', 'hidden-layer-2-144', 'hidden-layer-2-145', 'hidden-layer-2-146', 'hidden-layer-2-147', 'hidden-layer-2-148', 'hidden-layer-2-149', 'hidden-layer-2-150', 'hidden-layer-2-151', 'hidden-layer-2-152', 'hidden-layer-2-153', 'hidden-layer-2-154', 'hidden-layer-2-155', 'hidden-layer-2-156', 'hidden-layer-2-157', 'hidden-layer-2-158', 'hidden-layer-2-159', 'hidden-layer-2-160', 'hidden-layer-2-161', 'hidden-layer-2-162', 'hidden-layer-2-163', 'hidden-layer-2-164', 'hidden-layer-2-165', 'hidden-layer-2-166', 'hidden-layer-2-167', 'hidden-layer-2-168', 'hidden-layer-2-169', 'hidden-layer-2-170', 'hidden-layer-2-171', 'hidden-layer-2-172', 'hidden-layer-2-173', 'hidden-layer-2-174', 'hidden-layer-2-175', 'hidden-layer-2-176', 'hidden-layer-2-177', 'hidden-layer-2-178', 'hidden-layer-2-179', 'hidden-layer-2-180', 'hidden-layer-2-181', 'hidden-layer-2-182', 'hidden-layer-2-183', 'hidden-layer-2-184', 'hidden-layer-2-185', 'hidden-layer-2-186', 'hidden-layer-2-187', 'hidden-layer-2-188', 'hidden-layer-2-189', 'hidden-layer-2-190', 'hidden-layer-2-191', 'hidden-layer-2-192', 'hidden-layer-2-193', 'hidden-layer-2-194', 'hidden-layer-2-195', 'hidden-layer-2-196', 'hidden-layer-2-197', 'hidden-layer-2-198', 'hidden-layer-2-199', 'hidden-layer-2-200', 'hidden-layer-2-201', 'hidden-layer-2-202', 'hidden-layer-2-203', 'hidden-layer-2-204', 'hidden-layer-2-205', 'hidden-layer-2-206', 'hidden-layer-2-207', 'hidden-layer-2-208', 'hidden-layer-2-209', 'hidden-layer-2-210', 'hidden-layer-2-211', 'hidden-layer-2-212', 'hidden-layer-2-213', 'hidden-layer-2-214', 'hidden-layer-2-215', 'hidden-layer-2-216', 'hidden-layer-2-217', 'hidden-layer-2-218', 'hidden-layer-2-219', 'hidden-layer-2-220', 'hidden-layer-2-221', 'hidden-layer-2-222', 'hidden-layer-2-223', 'hidden-layer-2-224', 'hidden-layer-2-225', 'hidden-layer-2-226', 'hidden-layer-2-227', 'hidden-layer-2-228', 'hidden-layer-2-229', 'hidden-layer-2-230', 'hidden-layer-2-231', 'hidden-layer-2-232', 'hidden-layer-2-233', 'hidden-layer-2-234', 'hidden-layer-2-235', 'hidden-layer-2-236', 'hidden-layer-2-237', 'hidden-layer-2-238', 'hidden-layer-2-239', 'hidden-layer-2-240', 'hidden-layer-2-241', 'hidden-layer-2-242', 'hidden-layer-2-243', 'hidden-layer-2-244', 'hidden-layer-2-245', 'hidden-layer-2-246', 'hidden-layer-2-247', 'hidden-layer-2-248', 'hidden-layer-2-249', 'hidden-layer-2-250', 'hidden-layer-2-251', 'hidden-layer-2-252', 'hidden-layer-2-253', 'hidden-layer-2-254', 'hidden-layer-2-255', 'hidden-layer-2-256', 'hidden-layer-2-257', 'hidden-layer-2-258', 'hidden-layer-2-259', 'hidden-layer-2-260', 'hidden-layer-2-261', 'hidden-layer-2-262', 'hidden-layer-2-263', 'hidden-layer-2-264', 'hidden-layer-2-265', 'hidden-layer-2-266', 'hidden-layer-2-267', 'hidden-layer-2-268', 'hidden-layer-2-269', 'hidden-layer-2-270', 'hidden-layer-2-271', 'hidden-layer-2-272', 'hidden-layer-2-273', 'hidden-layer-2-274', 'hidden-layer-2-275', 'hidden-layer-2-276', 'hidden-layer-2-277', 'hidden-layer-2-278', 'hidden-layer-2-279', 'hidden-layer-2-280', 'hidden-layer-2-281', 'hidden-layer-2-282', 'hidden-layer-2-283', 'hidden-layer-2-284', 'hidden-layer-2-285', 'hidden-layer-2-286', 'hidden-layer-2-287', 'hidden-layer-2-288', 'hidden-layer-2-289', 'hidden-layer-2-290', 'hidden-layer-2-291', 'hidden-layer-2-292', 'hidden-layer-2-293', 'hidden-layer-2-294', 'hidden-layer-2-295', 'hidden-layer-2-296', 'hidden-layer-2-297', 'hidden-layer-2-298', 'hidden-layer-2-299', 'hidden-layer-2-300', 'hidden-layer-2-301', 'hidden-layer-2-302', 'hidden-layer-2-303', 'hidden-layer-2-304', 'hidden-layer-2-305', 'hidden-layer-2-306', 'hidden-layer-2-307', 'hidden-layer-2-308', 'hidden-layer-2-309', 'hidden-layer-2-310', 'hidden-layer-2-311', 'hidden-layer-2-312', 'hidden-layer-2-313', 'hidden-layer-2-314', 'hidden-layer-2-315', 'hidden-layer-2-316', 'hidden-layer-2-317', 'hidden-layer-2-318', 'hidden-layer-2-319', 'hidden-layer-2-320', 'hidden-layer-2-321', 'hidden-layer-2-322', 'hidden-layer-2-323', 'hidden-layer-2-324', 'hidden-layer-2-325', 'hidden-layer-2-326', 'hidden-layer-2-327', 'hidden-layer-2-328', 'hidden-layer-2-329', 'hidden-layer-2-330', 'hidden-layer-2-331', 'hidden-layer-2-332', 'hidden-layer-2-333', 'hidden-layer-2-334', 'hidden-layer-2-335', 'hidden-layer-2-336', 'hidden-layer-2-337', 'hidden-layer-2-338', 'hidden-layer-2-339', 'hidden-layer-2-340', 'hidden-layer-2-341', 'hidden-layer-2-342', 'hidden-layer-2-343', 'hidden-layer-2-344', 'hidden-layer-2-345', 'hidden-layer-2-346', 'hidden-layer-2-347', 'hidden-layer-2-348', 'hidden-layer-2-349', 'hidden-layer-2-350', 'hidden-layer-2-351', 'hidden-layer-2-352', 'hidden-layer-2-353', 'hidden-layer-2-354', 'hidden-layer-2-355', 'hidden-layer-2-356', 'hidden-layer-2-357', 'hidden-layer-2-358', 'hidden-layer-2-359', 'hidden-layer-2-360', 'hidden-layer-2-361', 'hidden-layer-2-362', 'hidden-layer-2-363', 'hidden-layer-2-364', 'hidden-layer-2-365', 'hidden-layer-2-366', 'hidden-layer-2-367', 'hidden-layer-2-368', 'hidden-layer-2-369', 'hidden-layer-2-370', 'hidden-layer-2-371', 'hidden-layer-2-372', 'hidden-layer-2-373', 'hidden-layer-2-374', 'hidden-layer-2-375', 'hidden-layer-2-376', 'hidden-layer-2-377', 'hidden-layer-2-378', 'hidden-layer-2-379', 'hidden-layer-2-380', 'hidden-layer-2-381', 'hidden-layer-2-382', 'hidden-layer-2-383', 'hidden-layer-2-384', 'hidden-layer-2-385', 'hidden-layer-2-386', 'hidden-layer-2-387', 'hidden-layer-2-388', 'hidden-layer-2-389', 'hidden-layer-2-390', 'hidden-layer-2-391', 'hidden-layer-2-392', 'hidden-layer-2-393', 'hidden-layer-2-394', 'hidden-layer-2-395', 'hidden-layer-2-396', 'hidden-layer-2-397', 'hidden-layer-2-398', 'hidden-layer-2-399', 'hidden-layer-2-400', 'hidden-layer-2-401', 'hidden-layer-2-402', 'hidden-layer-2-403', 'hidden-layer-2-404', 'hidden-layer-2-405', 'hidden-layer-2-406', 'hidden-layer-2-407', 'hidden-layer-2-408', 'hidden-layer-2-409', 'hidden-layer-2-410', 'hidden-layer-2-411', 'hidden-layer-2-412', 'hidden-layer-2-413', 'hidden-layer-2-414', 'hidden-layer-2-415', 'hidden-layer-2-416', 'hidden-layer-2-417', 'hidden-layer-2-418', 'hidden-layer-2-419', 'hidden-layer-2-420', 'hidden-layer-2-421', 'hidden-layer-2-422', 'hidden-layer-2-423', 'hidden-layer-2-424', 'hidden-layer-2-425', 'hidden-layer-2-426', 'hidden-layer-2-427', 'hidden-layer-2-428', 'hidden-layer-2-429', 'hidden-layer-2-430', 'hidden-layer-2-431', 'hidden-layer-2-432', 'hidden-layer-2-433', 'hidden-layer-2-434', 'hidden-layer-2-435', 'hidden-layer-2-436', 'hidden-layer-2-437', 'hidden-layer-2-438', 'hidden-layer-2-439', 'hidden-layer-2-440', 'hidden-layer-2-441', 'hidden-layer-2-442', 'hidden-layer-2-443', 'hidden-layer-2-444', 'hidden-layer-2-445', 'hidden-layer-2-446', 'hidden-layer-2-447', 'hidden-layer-2-448', 'hidden-layer-2-449', 'hidden-layer-2-450', 'hidden-layer-2-451', 'hidden-layer-2-452', 'hidden-layer-2-453', 'hidden-layer-2-454', 'hidden-layer-2-455', 'hidden-layer-2-456', 'hidden-layer-2-457', 'hidden-layer-2-458', 'hidden-layer-2-459', 'hidden-layer-2-460', 'hidden-layer-2-461', 'hidden-layer-2-462', 'hidden-layer-2-463', 'hidden-layer-2-464', 'hidden-layer-2-465', 'hidden-layer-2-466', 'hidden-layer-2-467', 'hidden-layer-2-468', 'hidden-layer-2-469', 'hidden-layer-2-470', 'hidden-layer-2-471', 'hidden-layer-2-472', 'hidden-layer-2-473', 'hidden-layer-2-474', 'hidden-layer-2-475', 'hidden-layer-2-476', 'hidden-layer-2-477', 'hidden-layer-2-478', 'hidden-layer-2-479', 'hidden-layer-2-480', 'hidden-layer-2-481', 'hidden-layer-2-482', 'hidden-layer-2-483', 'hidden-layer-2-484', 'hidden-layer-2-485', 'hidden-layer-2-486', 'hidden-layer-2-487', 'hidden-layer-2-488', 'hidden-layer-2-489', 'hidden-layer-2-490', 'hidden-layer-2-491', 'hidden-layer-2-492', 'hidden-layer-2-493', 'hidden-layer-2-494', 'hidden-layer-2-495', 'hidden-layer-2-496', 'hidden-layer-2-497', 'hidden-layer-2-498', 'hidden-layer-2-499', 'hidden-layer-2-500', 'hidden-layer-2-501', 'hidden-layer-2-502', 'hidden-layer-2-503', 'hidden-layer-2-504', 'hidden-layer-2-505', 'hidden-layer-2-506', 'hidden-layer-2-507', 'hidden-layer-2-508', 'hidden-layer-2-509', 'hidden-layer-2-510', 'hidden-layer-2-511', 'hidden-layer-2-512', 'hidden-layer-2-513', 'hidden-layer-2-514', 'hidden-layer-2-515', 'hidden-layer-2-516', 'hidden-layer-2-517', 'hidden-layer-2-518', 'hidden-layer-2-519', 'hidden-layer-2-520', 'hidden-layer-2-521', 'hidden-layer-2-522', 'hidden-layer-2-523', 'hidden-layer-2-524', 'hidden-layer-2-525', 'hidden-layer-2-526', 'hidden-layer-2-527', 'hidden-layer-2-528', 'hidden-layer-2-529', 'hidden-layer-2-530', 'hidden-layer-2-531', 'hidden-layer-2-532', 'hidden-layer-2-533', 'hidden-layer-2-534', 'hidden-layer-2-535', 'hidden-layer-2-536', 'hidden-layer-2-537', 'hidden-layer-2-538', 'hidden-layer-2-539', 'hidden-layer-2-540', 'hidden-layer-2-541', 'hidden-layer-2-542', 'hidden-layer-2-543', 'hidden-layer-2-544', 'hidden-layer-2-545', 'hidden-layer-2-546', 'hidden-layer-2-547', 'hidden-layer-2-548', 'hidden-layer-2-549', 'hidden-layer-2-550', 'hidden-layer-2-551', 'hidden-layer-2-552', 'hidden-layer-2-553', 'hidden-layer-2-554', 'hidden-layer-2-555', 'hidden-layer-2-556', 'hidden-layer-2-557', 'hidden-layer-2-558', 'hidden-layer-2-559', 'hidden-layer-2-560', 'hidden-layer-2-561', 'hidden-layer-2-562', 'hidden-layer-2-563', 'hidden-layer-2-564', 'hidden-layer-2-565', 'hidden-layer-2-566', 'hidden-layer-2-567', 'hidden-layer-2-568', 'hidden-layer-2-569', 'hidden-layer-2-570', 'hidden-layer-2-571', 'hidden-layer-2-572', 'hidden-layer-2-573', 'hidden-layer-2-574', 'hidden-layer-2-575', 'hidden-layer-2-576', 'hidden-layer-2-577', 'hidden-layer-2-578', 'hidden-layer-2-579', 'hidden-layer-2-580', 'hidden-layer-2-581', 'hidden-layer-2-582', 'hidden-layer-2-583', 'hidden-layer-2-584', 'hidden-layer-2-585', 'hidden-layer-2-586', 'hidden-layer-2-587', 'hidden-layer-2-588', 'hidden-layer-2-589', 'hidden-layer-2-590', 'hidden-layer-2-591', 'hidden-layer-2-592', 'hidden-layer-2-593', 'hidden-layer-2-594', 'hidden-layer-2-595', 'hidden-layer-2-596', 'hidden-layer-2-597', 'hidden-layer-2-598', 'hidden-layer-2-599', 'hidden-layer-2-600', 'hidden-layer-2-601', 'hidden-layer-2-602', 'hidden-layer-2-603', 'hidden-layer-2-604', 'hidden-layer-2-605', 'hidden-layer-2-606', 'hidden-layer-2-607', 'hidden-layer-2-608', 'hidden-layer-2-609', 'hidden-layer-2-610', 'hidden-layer-2-611', 'hidden-layer-2-612', 'hidden-layer-2-613', 'hidden-layer-2-614', 'hidden-layer-2-615', 'hidden-layer-2-616', 'hidden-layer-2-617', 'hidden-layer-2-618', 'hidden-layer-2-619', 'hidden-layer-2-620', 'hidden-layer-2-621', 'hidden-layer-2-622', 'hidden-layer-2-623', 'hidden-layer-2-624', 'hidden-layer-2-625', 'hidden-layer-2-626', 'hidden-layer-2-627', 'hidden-layer-2-628', 'hidden-layer-2-629', 'hidden-layer-2-630', 'hidden-layer-2-631', 'hidden-layer-2-632', 'hidden-layer-2-633', 'hidden-layer-2-634', 'hidden-layer-2-635', 'hidden-layer-2-636', 'hidden-layer-2-637', 'hidden-layer-2-638', 'hidden-layer-2-639', 'hidden-layer-2-640', 'hidden-layer-2-641', 'hidden-layer-2-642', 'hidden-layer-2-643', 'hidden-layer-2-644', 'hidden-layer-2-645', 'hidden-layer-2-646', 'hidden-layer-2-647', 'hidden-layer-2-648', 'hidden-layer-2-649', 'hidden-layer-2-650']\",\n",
       "   'surname': 'LSTM_embedding-size-650_nhid-650_nlayers-2_dropout-02_memory-size-inf_wiki-kristina_english_random-5793_norm-2_all-hidden-layers',\n",
       "   'data_compression': None,\n",
       "   'ncomponents': None,\n",
       "   'offset_type': 'word+punctuation',\n",
       "   'duration_type': None,\n",
       "   'shift_surprisal': False,\n",
       "   'input_template': 'activations',\n",
       "   'centering': 'True',\n",
       "   'order': None,\n",
       "   'scaling_type': None}],\n",
       " 'model_name': 'LSTM_embedding-size-650_nhid-650_nlayers-2_dropout-02_memory-size-inf_wiki-kristina_english_random-5793_norm-2_115_all-hidden-layers'}"
      ]
     },
     "execution_count": 15,
     "metadata": {},
     "output_type": "execute_result"
    }
   ],
   "source": [
    "template"
   ]
  },
  {
   "cell_type": "code",
   "execution_count": null,
   "metadata": {},
   "outputs": [],
   "source": []
  }
 ],
 "metadata": {
  "kernelspec": {
   "display_name": "Python 3",
   "language": "python",
   "name": "python3"
  },
  "language_info": {
   "codemirror_mode": {
    "name": "ipython",
    "version": 3
   },
   "file_extension": ".py",
   "mimetype": "text/x-python",
   "name": "python",
   "nbconvert_exporter": "python",
   "pygments_lexer": "ipython3",
   "version": "3.8.3"
  }
 },
 "nbformat": 4,
 "nbformat_minor": 4
}
