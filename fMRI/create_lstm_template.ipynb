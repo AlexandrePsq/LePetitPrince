{
 "cells": [
  {
   "cell_type": "markdown",
   "metadata": {},
   "source": [
    "# Notebook to generate templates for LSTM models"
   ]
  },
  {
   "cell_type": "code",
   "execution_count": 1,
   "metadata": {},
   "outputs": [],
   "source": [
    "import os\n",
    "import yaml\n",
    "import numpy as np\n",
    "import itertools\n",
    "\n",
    "from utils import check_folder, read_yaml, save_yaml, write"
   ]
  },
  {
   "cell_type": "code",
   "execution_count": 2,
   "metadata": {},
   "outputs": [],
   "source": [
    "path_to_main = \"/neurospin/unicog/protocols/IRMf/LePetitPrince_Pallier_2018/LePetitPrince/code/fMRI/main.py\""
   ]
  },
  {
   "cell_type": "code",
   "execution_count": 3,
   "metadata": {},
   "outputs": [],
   "source": [
    "subject_dict = {'english': [57, 58, 59, 61, 62, 63, 64, 65, 66, 67, 68, 69, 70,\n",
    "                    72, 73, 74, 75, 76, 77, 78, 79, 80, 81, 82, 83, 84, 86, 87, 88, 89, 91, 92, 93,\n",
    "                    94, 95, 96, 97, 98, 99, 100, 101, 103, 104, 105, 106, 108, 109, 110, 113, 114, 115],\n",
    "                'french':[1, 2, 3, 4, 5, 6, 7, 8, 9, 10, 11, 12, 13, 14, 15, 16, 17, 18, 19, 20,\n",
    "                          21, 22, 23, 24, 25, 26, 27, 29, 30\n",
    "                         ]\n",
    "               }"
   ]
  },
  {
   "cell_type": "code",
   "execution_count": 4,
   "metadata": {},
   "outputs": [],
   "source": [
    "hrf_list = [\n",
    "    'spm', # hrf model used in SPM\n",
    "    'spm + derivative', # SPM model plus its time derivative (2 regressors)\n",
    "    'spm + derivative + dispersion', # idem, plus dispersion derivative (3 regressors)\n",
    "    'glover', # this one corresponds to the Glover hrf\n",
    "    'glover + derivative', # the Glover hrf + time derivative (2 regressors)\n",
    "    'glover + derivative + dispersion' # idem + dispersion derivative\n",
    "]\n",
    "hrf = 'spm'"
   ]
  },
  {
   "cell_type": "code",
   "execution_count": 5,
   "metadata": {},
   "outputs": [],
   "source": [
    "language = 'english'\n",
    "temporal_shifting = 0"
   ]
  },
  {
   "cell_type": "code",
   "execution_count": 6,
   "metadata": {},
   "outputs": [],
   "source": [
    "template = {\n",
    "  # Shared General parameters\n",
    "  'subject': None,\n",
    "  'parallel': False,\n",
    "  'cuda': True,\n",
    "  'seed': 1111,\n",
    "  'language': None,\n",
    "  'path_to_root': \"/neurospin/unicog/protocols/IRMf/LePetitPrince_Pallier_2018/LePetitPrince/\",\n",
    "  'path_to_fmridata': \"/neurospin/unicog/protocols/IRMf/LePetitPrince_Pallier_2018/LePetitPrince/data/fMRI\",\n",
    "  'output': \"/neurospin/unicog/protocols/IRMf/LePetitPrince_Pallier_2018/LePetitPrince/derivatives/fMRI/maps/\"  ,\n",
    "  'input': \"/neurospin/unicog/protocols/IRMf/LePetitPrince_Pallier_2018/LePetitPrince/data/stimuli-representations/\" ,\n",
    "  'detrend': True, \n",
    "  'standardize': True, \n",
    "  'high_pass': None, \n",
    "  'low_pass': None, \n",
    "  'mask_strategy': 'background', \n",
    "  #'dtype': 'float32', \n",
    "  'memory_level': 0, \n",
    "  'smoothing_fwhm': None , \n",
    "  'verbose': 0, \n",
    "\n",
    "\n",
    "  # Shared Splitter parameters\n",
    "  'nb_runs': 9,\n",
    "  'nb_runs_test': 1,\n",
    "\n",
    "  # Shared Compression parameters\n",
    "  'manifold_method': None,\n",
    "  'manifold_args': {'n_neighbors':4, 'random_state':1111, 'min_dist':0.0, 'metric':'cosine'},\n",
    "\n",
    "  # Shared Transformation parameters (includes the making of regressor and scaling)\n",
    "  'tr': 2.,\n",
    "  'scaling_mean': True,\n",
    "  'scaling_var': True,\n",
    "  'scaling_axis': 0,\n",
    "  'hrf': None,\n",
    "  'offset_path': \"/neurospin/unicog/protocols/IRMf/LePetitPrince_Pallier_2018/LePetitPrince/data/onsets-offsets/\",\n",
    "  'duration_path': \"/neurospin/unicog/protocols/IRMf/LePetitPrince_Pallier_2018/LePetitPrince/\",\n",
    "  'temporal_shifting': 0,\n",
    "  'oversampling': 10,\n",
    "  'add_noise_to_constant': True,\n",
    "\n",
    "  # Shared Estimator model parameters\n",
    "  'base': 10.0,\n",
    "  'voxel_wise': True,\n",
    "  'alpha_percentile': 99.9,\n",
    "  'alpha': None,\n",
    "  'alpha_min_log_scale': 1,\n",
    "  'alpha_max_log_scale': 5,\n",
    "  'nb_alphas': 10,\n",
    "  'optimizing_criteria': 'R2',\n",
    "  'estimator_model': 'Ridge()',\n",
    "  'save_all_weights': False, \n",
    "\n",
    "  # Maps creation parameters\n",
    "  'atlas': 'cort-prob-2mm',\n",
    "  'masker_path': \"/neurospin/unicog/protocols/IRMf/LePetitPrince_Pallier_2018/LePetitPrince/derivatives/fMRI/ROI_masks/global_masker_english\",\n",
    "  'smoothed_masker_path': \"/neurospin/unicog/protocols/IRMf/LePetitPrince_Pallier_2018/LePetitPrince/derivatives/fMRI/ROI_masks/smoothed_global_masker_english\",\n",
    "\n",
    "\n",
    "  # Models\n",
    "  'models': None, \n",
    "  'model_name': None\n",
    "}"
   ]
  },
  {
   "cell_type": "code",
   "execution_count": 8,
   "metadata": {},
   "outputs": [],
   "source": [
    "def get_lstm_template(\n",
    "    model_name, \n",
    "    layers, \n",
    "    ninp,\n",
    "    nhid,\n",
    "    parameters,\n",
    "    surname,\n",
    "    data_compression, \n",
    "    ncomponents,\n",
    "    offset_type,\n",
    "    duration_type,\n",
    "    shift_surprisal,\n",
    "    includ_surprisal,\n",
    "    includ_entropy,\n",
    "    input_template='activations',\n",
    "    centering=False,\n",
    "    order=None,\n",
    "    scaling_type=None\n",
    "):\n",
    "    \n",
    "    columns_to_retrieve = []\n",
    "    for param in parameters:\n",
    "        columns_to_retrieve = ['{}-layer-{}-{}'.format(param, layer, i) for layer in layers for i in range(1, nhid + 1)]\n",
    "    if includ_surprisal:\n",
    "        columns_to_retrieve += ['surprisal']\n",
    "    if includ_entropy:\n",
    "        columns_to_retrieve += ['entropy']\n",
    "    result = { \n",
    "        'model_name': model_name,\n",
    "        'columns_to_retrieve': str(columns_to_retrieve),\n",
    "        'surname': surname,\n",
    "        'data_compression': data_compression,\n",
    "        'ncomponents': ncomponents,\n",
    "        'offset_type': offset_type, # word / word+punctuation / ...,\n",
    "        'duration_type': duration_type,\n",
    "        'shift_surprisal': shift_surprisal,\n",
    "        'input_template': input_template, # activations\n",
    "        'centering': centering,\n",
    "        'order': order,\n",
    "        'scaling_type': scaling_type,\n",
    "      }\n",
    "\n",
    "    \n",
    "        \n",
    "        \n",
    "    return result\n",
    "    "
   ]
  },
  {
   "cell_type": "markdown",
   "metadata": {},
   "source": [
    "## Here starts the generation"
   ]
  },
  {
   "cell_type": "code",
   "execution_count": 30,
   "metadata": {},
   "outputs": [],
   "source": [
    "templates_folder = \"/neurospin/unicog/protocols/IRMf/LePetitPrince_Pallier_2018/LePetitPrince/tmp_lstm/templates/\"\n",
    "sh_folder = \"/neurospin/unicog/protocols/IRMf/LePetitPrince_Pallier_2018/LePetitPrince/tmp_lstm/shell_commands/\"\n",
    "job_to_launch_path = \"/Volumes/unicog/protocols/IRMf/LePetitPrince_Pallier_2018/LePetitPrince/tmp_lstm/jobs.txt\"\n",
    "\n",
    "check_folder(os.path.join('/', job_to_launch_path.split('/')[1], '/'.join(templates_folder.split('/')[2:])))\n",
    "check_folder(os.path.join('/', job_to_launch_path.split('/')[1], '/'.join(sh_folder.split('/')[2:])))\n"
   ]
  },
  {
   "cell_type": "code",
   "execution_count": 31,
   "metadata": {},
   "outputs": [],
   "source": [
    "def write_commands(command_lines, path_to_sh, job_to_launch_path, queue='Nspin_long'):\n",
    "    for index, command in enumerate(command_lines):\n",
    "        write(os.path.join('/', job_to_launch_path.split('/')[1], '/'.join(path_to_sh[index].split('/')[2:])), command)\n",
    "        walltime = '99:00:00'\n",
    "        job_name = os.path.basename(path_to_sh[index]).split('.')[0]\n",
    "        write(job_to_launch_path, f\"qsub -q {queue} -N {job_name} -l ncpus=2 -l walltime={walltime} {path_to_sh[index]}\")\n"
   ]
  },
  {
   "cell_type": "code",
   "execution_count": 32,
   "metadata": {},
   "outputs": [],
   "source": [
    "model_names = [\n",
    "#\"LSTM_embedding-size_768_nhid_768_nlayers_1_dropout_02_gutenberg_big_3_norm-2\",\n",
    "\"LSTM_embedding-size_768_nhid_768_nlayers_1_dropout_02_gutenberg_big_2_norm-2\",\n",
    "#\"LSTM_embedding-size_768_nhid_768_nlayers_1_dropout_02_gutenberg_big_1_norm-2\",\n",
    "\n",
    "]\n",
    "hidden_layer_list = [[1]] * len(model_names)\n",
    "parameters_list = [['hidden']] #['hidden'], ['in'], ['forget'], ['out'], ['c_tilde'], ['cell']\n",
    "data_compression = ['pca'] * len(model_names)\n",
    "ncomponents = [300] * len(model_names)\n",
    "shift_surprisal = False\n",
    "includ_surprisal = False\n",
    "includ_entropy = False\n",
    "params = [{'ninp': 768, 'nhid': 768, 'nlayers': 1}] * len(model_names)\n",
    "order = [None] * len(model_names)\n",
    "centering = ['True'] * len(model_names)\n",
    "scaling_type = [None] * len(model_names)\n",
    "input_template = 'activations'\n",
    "scaling_axis = 0\n",
    "temporal_shifting = 0"
   ]
  },
  {
   "cell_type": "code",
   "execution_count": 33,
   "metadata": {},
   "outputs": [],
   "source": [
    "template['language'] = language\n",
    "template['scaling_axis'] = scaling_axis\n",
    "template['hrf'] = hrf\n",
    "template['temporal_shifting'] = temporal_shifting"
   ]
  },
  {
   "cell_type": "code",
   "execution_count": 34,
   "metadata": {},
   "outputs": [],
   "source": [
    "command_lines = []\n",
    "path_to_sh = []"
   ]
  },
  {
   "cell_type": "code",
   "execution_count": 35,
   "metadata": {},
   "outputs": [],
   "source": [
    "for index, model_name in enumerate(model_names):\n",
    "    param = params[index]\n",
    "    for subject in subject_dict[language]:\n",
    "        template['hrf'] = hrf\n",
    "        template['subject'] = subject\n",
    "        \n",
    "        for parameters in parameters_list:\n",
    "        \n",
    "            # hidden layers comparison\n",
    "            model = get_lstm_template(\n",
    "                model_name, \n",
    "                hidden_layer_list[index], \n",
    "                param['ninp'],\n",
    "                param['nhid'],\n",
    "                parameters,\n",
    "                \"{}_all-{}-layers\".format(model_name, parameters[0]),\n",
    "                data_compression[index], \n",
    "                ncomponents[index],\n",
    "                \"word+punctuation\",\n",
    "                None,\n",
    "                shift_surprisal,\n",
    "                includ_surprisal,\n",
    "                includ_entropy,\n",
    "                input_template='activations',\n",
    "                centering=centering[index],\n",
    "                order=order[index],\n",
    "                scaling_type=scaling_type[index]\n",
    "            )\n",
    "\n",
    "            additional = '_{}_{}'.format(data_compression[index], ncomponents[index]) if data_compression[index] is not None else ''\n",
    "            template['models'] = [model]\n",
    "            template['model_name'] = '{}_{}_all-{}-layers{}'.format(model_name, subject, parameters[0], additional)\n",
    "            yaml_path = os.path.join(templates_folder, '{}_{}_all-{}-layers{}.yml'.format(model_name, subject, parameters[0], additional))\n",
    "            \n",
    "            save_yaml(template, os.path.join('/', job_to_launch_path.split('/')[1], '/'.join(yaml_path.split('/')[2:])))\n",
    "            #save_yaml(template, yaml_path)\n",
    "            command_lines.append(\"python {} --yaml_file {}\".format(path_to_main, yaml_path))\n",
    "            path_to_sh.append(os.path.join(sh_folder, '{}_{}_all-{}-layers{}.sh'.format(model_name, subject, parameters[0], additional)))\n"
   ]
  },
  {
   "cell_type": "code",
   "execution_count": 36,
   "metadata": {},
   "outputs": [],
   "source": [
    "write_commands(command_lines, path_to_sh, job_to_launch_path)"
   ]
  },
  {
   "cell_type": "code",
   "execution_count": 37,
   "metadata": {
    "scrolled": false
   },
   "outputs": [
    {
     "data": {
      "text/plain": [
       "{'subject': 115,\n",
       " 'parallel': False,\n",
       " 'cuda': True,\n",
       " 'seed': 1111,\n",
       " 'language': 'english',\n",
       " 'path_to_root': '/neurospin/unicog/protocols/IRMf/LePetitPrince_Pallier_2018/LePetitPrince/',\n",
       " 'path_to_fmridata': '/neurospin/unicog/protocols/IRMf/LePetitPrince_Pallier_2018/LePetitPrince/data/fMRI',\n",
       " 'output': '/neurospin/unicog/protocols/IRMf/LePetitPrince_Pallier_2018/LePetitPrince/derivatives/fMRI/maps/',\n",
       " 'input': '/neurospin/unicog/protocols/IRMf/LePetitPrince_Pallier_2018/LePetitPrince/data/stimuli-representations/',\n",
       " 'detrend': True,\n",
       " 'standardize': True,\n",
       " 'high_pass': None,\n",
       " 'low_pass': None,\n",
       " 'mask_strategy': 'background',\n",
       " 'memory_level': 0,\n",
       " 'smoothing_fwhm': None,\n",
       " 'verbose': 0,\n",
       " 'nb_runs': 9,\n",
       " 'nb_runs_test': 1,\n",
       " 'manifold_method': None,\n",
       " 'manifold_args': {'n_neighbors': 4,\n",
       "  'random_state': 1111,\n",
       "  'min_dist': 0.0,\n",
       "  'metric': 'cosine'},\n",
       " 'tr': 2.0,\n",
       " 'scaling_mean': True,\n",
       " 'scaling_var': True,\n",
       " 'scaling_axis': 0,\n",
       " 'hrf': 'spm',\n",
       " 'offset_path': '/neurospin/unicog/protocols/IRMf/LePetitPrince_Pallier_2018/LePetitPrince/data/onsets-offsets/',\n",
       " 'duration_path': '/neurospin/unicog/protocols/IRMf/LePetitPrince_Pallier_2018/LePetitPrince/',\n",
       " 'temporal_shifting': 0,\n",
       " 'oversampling': 10,\n",
       " 'add_noise_to_constant': True,\n",
       " 'base': 10.0,\n",
       " 'voxel_wise': True,\n",
       " 'alpha_percentile': 99.9,\n",
       " 'alpha': None,\n",
       " 'alpha_min_log_scale': 1,\n",
       " 'alpha_max_log_scale': 5,\n",
       " 'nb_alphas': 10,\n",
       " 'optimizing_criteria': 'R2',\n",
       " 'estimator_model': 'Ridge()',\n",
       " 'save_all_weights': False,\n",
       " 'atlas': 'cort-prob-2mm',\n",
       " 'masker_path': '/neurospin/unicog/protocols/IRMf/LePetitPrince_Pallier_2018/LePetitPrince/derivatives/fMRI/ROI_masks/global_masker_english',\n",
       " 'smoothed_masker_path': '/neurospin/unicog/protocols/IRMf/LePetitPrince_Pallier_2018/LePetitPrince/derivatives/fMRI/ROI_masks/smoothed_global_masker_english',\n",
       " 'models': [{'model_name': 'LSTM_embedding-size_768_nhid_768_nlayers_1_dropout_02_gutenberg_big_2_norm-2',\n",
       "   'columns_to_retrieve': \"['hidden-layer-1-1', 'hidden-layer-1-2', 'hidden-layer-1-3', 'hidden-layer-1-4', 'hidden-layer-1-5', 'hidden-layer-1-6', 'hidden-layer-1-7', 'hidden-layer-1-8', 'hidden-layer-1-9', 'hidden-layer-1-10', 'hidden-layer-1-11', 'hidden-layer-1-12', 'hidden-layer-1-13', 'hidden-layer-1-14', 'hidden-layer-1-15', 'hidden-layer-1-16', 'hidden-layer-1-17', 'hidden-layer-1-18', 'hidden-layer-1-19', 'hidden-layer-1-20', 'hidden-layer-1-21', 'hidden-layer-1-22', 'hidden-layer-1-23', 'hidden-layer-1-24', 'hidden-layer-1-25', 'hidden-layer-1-26', 'hidden-layer-1-27', 'hidden-layer-1-28', 'hidden-layer-1-29', 'hidden-layer-1-30', 'hidden-layer-1-31', 'hidden-layer-1-32', 'hidden-layer-1-33', 'hidden-layer-1-34', 'hidden-layer-1-35', 'hidden-layer-1-36', 'hidden-layer-1-37', 'hidden-layer-1-38', 'hidden-layer-1-39', 'hidden-layer-1-40', 'hidden-layer-1-41', 'hidden-layer-1-42', 'hidden-layer-1-43', 'hidden-layer-1-44', 'hidden-layer-1-45', 'hidden-layer-1-46', 'hidden-layer-1-47', 'hidden-layer-1-48', 'hidden-layer-1-49', 'hidden-layer-1-50', 'hidden-layer-1-51', 'hidden-layer-1-52', 'hidden-layer-1-53', 'hidden-layer-1-54', 'hidden-layer-1-55', 'hidden-layer-1-56', 'hidden-layer-1-57', 'hidden-layer-1-58', 'hidden-layer-1-59', 'hidden-layer-1-60', 'hidden-layer-1-61', 'hidden-layer-1-62', 'hidden-layer-1-63', 'hidden-layer-1-64', 'hidden-layer-1-65', 'hidden-layer-1-66', 'hidden-layer-1-67', 'hidden-layer-1-68', 'hidden-layer-1-69', 'hidden-layer-1-70', 'hidden-layer-1-71', 'hidden-layer-1-72', 'hidden-layer-1-73', 'hidden-layer-1-74', 'hidden-layer-1-75', 'hidden-layer-1-76', 'hidden-layer-1-77', 'hidden-layer-1-78', 'hidden-layer-1-79', 'hidden-layer-1-80', 'hidden-layer-1-81', 'hidden-layer-1-82', 'hidden-layer-1-83', 'hidden-layer-1-84', 'hidden-layer-1-85', 'hidden-layer-1-86', 'hidden-layer-1-87', 'hidden-layer-1-88', 'hidden-layer-1-89', 'hidden-layer-1-90', 'hidden-layer-1-91', 'hidden-layer-1-92', 'hidden-layer-1-93', 'hidden-layer-1-94', 'hidden-layer-1-95', 'hidden-layer-1-96', 'hidden-layer-1-97', 'hidden-layer-1-98', 'hidden-layer-1-99', 'hidden-layer-1-100', 'hidden-layer-1-101', 'hidden-layer-1-102', 'hidden-layer-1-103', 'hidden-layer-1-104', 'hidden-layer-1-105', 'hidden-layer-1-106', 'hidden-layer-1-107', 'hidden-layer-1-108', 'hidden-layer-1-109', 'hidden-layer-1-110', 'hidden-layer-1-111', 'hidden-layer-1-112', 'hidden-layer-1-113', 'hidden-layer-1-114', 'hidden-layer-1-115', 'hidden-layer-1-116', 'hidden-layer-1-117', 'hidden-layer-1-118', 'hidden-layer-1-119', 'hidden-layer-1-120', 'hidden-layer-1-121', 'hidden-layer-1-122', 'hidden-layer-1-123', 'hidden-layer-1-124', 'hidden-layer-1-125', 'hidden-layer-1-126', 'hidden-layer-1-127', 'hidden-layer-1-128', 'hidden-layer-1-129', 'hidden-layer-1-130', 'hidden-layer-1-131', 'hidden-layer-1-132', 'hidden-layer-1-133', 'hidden-layer-1-134', 'hidden-layer-1-135', 'hidden-layer-1-136', 'hidden-layer-1-137', 'hidden-layer-1-138', 'hidden-layer-1-139', 'hidden-layer-1-140', 'hidden-layer-1-141', 'hidden-layer-1-142', 'hidden-layer-1-143', 'hidden-layer-1-144', 'hidden-layer-1-145', 'hidden-layer-1-146', 'hidden-layer-1-147', 'hidden-layer-1-148', 'hidden-layer-1-149', 'hidden-layer-1-150', 'hidden-layer-1-151', 'hidden-layer-1-152', 'hidden-layer-1-153', 'hidden-layer-1-154', 'hidden-layer-1-155', 'hidden-layer-1-156', 'hidden-layer-1-157', 'hidden-layer-1-158', 'hidden-layer-1-159', 'hidden-layer-1-160', 'hidden-layer-1-161', 'hidden-layer-1-162', 'hidden-layer-1-163', 'hidden-layer-1-164', 'hidden-layer-1-165', 'hidden-layer-1-166', 'hidden-layer-1-167', 'hidden-layer-1-168', 'hidden-layer-1-169', 'hidden-layer-1-170', 'hidden-layer-1-171', 'hidden-layer-1-172', 'hidden-layer-1-173', 'hidden-layer-1-174', 'hidden-layer-1-175', 'hidden-layer-1-176', 'hidden-layer-1-177', 'hidden-layer-1-178', 'hidden-layer-1-179', 'hidden-layer-1-180', 'hidden-layer-1-181', 'hidden-layer-1-182', 'hidden-layer-1-183', 'hidden-layer-1-184', 'hidden-layer-1-185', 'hidden-layer-1-186', 'hidden-layer-1-187', 'hidden-layer-1-188', 'hidden-layer-1-189', 'hidden-layer-1-190', 'hidden-layer-1-191', 'hidden-layer-1-192', 'hidden-layer-1-193', 'hidden-layer-1-194', 'hidden-layer-1-195', 'hidden-layer-1-196', 'hidden-layer-1-197', 'hidden-layer-1-198', 'hidden-layer-1-199', 'hidden-layer-1-200', 'hidden-layer-1-201', 'hidden-layer-1-202', 'hidden-layer-1-203', 'hidden-layer-1-204', 'hidden-layer-1-205', 'hidden-layer-1-206', 'hidden-layer-1-207', 'hidden-layer-1-208', 'hidden-layer-1-209', 'hidden-layer-1-210', 'hidden-layer-1-211', 'hidden-layer-1-212', 'hidden-layer-1-213', 'hidden-layer-1-214', 'hidden-layer-1-215', 'hidden-layer-1-216', 'hidden-layer-1-217', 'hidden-layer-1-218', 'hidden-layer-1-219', 'hidden-layer-1-220', 'hidden-layer-1-221', 'hidden-layer-1-222', 'hidden-layer-1-223', 'hidden-layer-1-224', 'hidden-layer-1-225', 'hidden-layer-1-226', 'hidden-layer-1-227', 'hidden-layer-1-228', 'hidden-layer-1-229', 'hidden-layer-1-230', 'hidden-layer-1-231', 'hidden-layer-1-232', 'hidden-layer-1-233', 'hidden-layer-1-234', 'hidden-layer-1-235', 'hidden-layer-1-236', 'hidden-layer-1-237', 'hidden-layer-1-238', 'hidden-layer-1-239', 'hidden-layer-1-240', 'hidden-layer-1-241', 'hidden-layer-1-242', 'hidden-layer-1-243', 'hidden-layer-1-244', 'hidden-layer-1-245', 'hidden-layer-1-246', 'hidden-layer-1-247', 'hidden-layer-1-248', 'hidden-layer-1-249', 'hidden-layer-1-250', 'hidden-layer-1-251', 'hidden-layer-1-252', 'hidden-layer-1-253', 'hidden-layer-1-254', 'hidden-layer-1-255', 'hidden-layer-1-256', 'hidden-layer-1-257', 'hidden-layer-1-258', 'hidden-layer-1-259', 'hidden-layer-1-260', 'hidden-layer-1-261', 'hidden-layer-1-262', 'hidden-layer-1-263', 'hidden-layer-1-264', 'hidden-layer-1-265', 'hidden-layer-1-266', 'hidden-layer-1-267', 'hidden-layer-1-268', 'hidden-layer-1-269', 'hidden-layer-1-270', 'hidden-layer-1-271', 'hidden-layer-1-272', 'hidden-layer-1-273', 'hidden-layer-1-274', 'hidden-layer-1-275', 'hidden-layer-1-276', 'hidden-layer-1-277', 'hidden-layer-1-278', 'hidden-layer-1-279', 'hidden-layer-1-280', 'hidden-layer-1-281', 'hidden-layer-1-282', 'hidden-layer-1-283', 'hidden-layer-1-284', 'hidden-layer-1-285', 'hidden-layer-1-286', 'hidden-layer-1-287', 'hidden-layer-1-288', 'hidden-layer-1-289', 'hidden-layer-1-290', 'hidden-layer-1-291', 'hidden-layer-1-292', 'hidden-layer-1-293', 'hidden-layer-1-294', 'hidden-layer-1-295', 'hidden-layer-1-296', 'hidden-layer-1-297', 'hidden-layer-1-298', 'hidden-layer-1-299', 'hidden-layer-1-300', 'hidden-layer-1-301', 'hidden-layer-1-302', 'hidden-layer-1-303', 'hidden-layer-1-304', 'hidden-layer-1-305', 'hidden-layer-1-306', 'hidden-layer-1-307', 'hidden-layer-1-308', 'hidden-layer-1-309', 'hidden-layer-1-310', 'hidden-layer-1-311', 'hidden-layer-1-312', 'hidden-layer-1-313', 'hidden-layer-1-314', 'hidden-layer-1-315', 'hidden-layer-1-316', 'hidden-layer-1-317', 'hidden-layer-1-318', 'hidden-layer-1-319', 'hidden-layer-1-320', 'hidden-layer-1-321', 'hidden-layer-1-322', 'hidden-layer-1-323', 'hidden-layer-1-324', 'hidden-layer-1-325', 'hidden-layer-1-326', 'hidden-layer-1-327', 'hidden-layer-1-328', 'hidden-layer-1-329', 'hidden-layer-1-330', 'hidden-layer-1-331', 'hidden-layer-1-332', 'hidden-layer-1-333', 'hidden-layer-1-334', 'hidden-layer-1-335', 'hidden-layer-1-336', 'hidden-layer-1-337', 'hidden-layer-1-338', 'hidden-layer-1-339', 'hidden-layer-1-340', 'hidden-layer-1-341', 'hidden-layer-1-342', 'hidden-layer-1-343', 'hidden-layer-1-344', 'hidden-layer-1-345', 'hidden-layer-1-346', 'hidden-layer-1-347', 'hidden-layer-1-348', 'hidden-layer-1-349', 'hidden-layer-1-350', 'hidden-layer-1-351', 'hidden-layer-1-352', 'hidden-layer-1-353', 'hidden-layer-1-354', 'hidden-layer-1-355', 'hidden-layer-1-356', 'hidden-layer-1-357', 'hidden-layer-1-358', 'hidden-layer-1-359', 'hidden-layer-1-360', 'hidden-layer-1-361', 'hidden-layer-1-362', 'hidden-layer-1-363', 'hidden-layer-1-364', 'hidden-layer-1-365', 'hidden-layer-1-366', 'hidden-layer-1-367', 'hidden-layer-1-368', 'hidden-layer-1-369', 'hidden-layer-1-370', 'hidden-layer-1-371', 'hidden-layer-1-372', 'hidden-layer-1-373', 'hidden-layer-1-374', 'hidden-layer-1-375', 'hidden-layer-1-376', 'hidden-layer-1-377', 'hidden-layer-1-378', 'hidden-layer-1-379', 'hidden-layer-1-380', 'hidden-layer-1-381', 'hidden-layer-1-382', 'hidden-layer-1-383', 'hidden-layer-1-384', 'hidden-layer-1-385', 'hidden-layer-1-386', 'hidden-layer-1-387', 'hidden-layer-1-388', 'hidden-layer-1-389', 'hidden-layer-1-390', 'hidden-layer-1-391', 'hidden-layer-1-392', 'hidden-layer-1-393', 'hidden-layer-1-394', 'hidden-layer-1-395', 'hidden-layer-1-396', 'hidden-layer-1-397', 'hidden-layer-1-398', 'hidden-layer-1-399', 'hidden-layer-1-400', 'hidden-layer-1-401', 'hidden-layer-1-402', 'hidden-layer-1-403', 'hidden-layer-1-404', 'hidden-layer-1-405', 'hidden-layer-1-406', 'hidden-layer-1-407', 'hidden-layer-1-408', 'hidden-layer-1-409', 'hidden-layer-1-410', 'hidden-layer-1-411', 'hidden-layer-1-412', 'hidden-layer-1-413', 'hidden-layer-1-414', 'hidden-layer-1-415', 'hidden-layer-1-416', 'hidden-layer-1-417', 'hidden-layer-1-418', 'hidden-layer-1-419', 'hidden-layer-1-420', 'hidden-layer-1-421', 'hidden-layer-1-422', 'hidden-layer-1-423', 'hidden-layer-1-424', 'hidden-layer-1-425', 'hidden-layer-1-426', 'hidden-layer-1-427', 'hidden-layer-1-428', 'hidden-layer-1-429', 'hidden-layer-1-430', 'hidden-layer-1-431', 'hidden-layer-1-432', 'hidden-layer-1-433', 'hidden-layer-1-434', 'hidden-layer-1-435', 'hidden-layer-1-436', 'hidden-layer-1-437', 'hidden-layer-1-438', 'hidden-layer-1-439', 'hidden-layer-1-440', 'hidden-layer-1-441', 'hidden-layer-1-442', 'hidden-layer-1-443', 'hidden-layer-1-444', 'hidden-layer-1-445', 'hidden-layer-1-446', 'hidden-layer-1-447', 'hidden-layer-1-448', 'hidden-layer-1-449', 'hidden-layer-1-450', 'hidden-layer-1-451', 'hidden-layer-1-452', 'hidden-layer-1-453', 'hidden-layer-1-454', 'hidden-layer-1-455', 'hidden-layer-1-456', 'hidden-layer-1-457', 'hidden-layer-1-458', 'hidden-layer-1-459', 'hidden-layer-1-460', 'hidden-layer-1-461', 'hidden-layer-1-462', 'hidden-layer-1-463', 'hidden-layer-1-464', 'hidden-layer-1-465', 'hidden-layer-1-466', 'hidden-layer-1-467', 'hidden-layer-1-468', 'hidden-layer-1-469', 'hidden-layer-1-470', 'hidden-layer-1-471', 'hidden-layer-1-472', 'hidden-layer-1-473', 'hidden-layer-1-474', 'hidden-layer-1-475', 'hidden-layer-1-476', 'hidden-layer-1-477', 'hidden-layer-1-478', 'hidden-layer-1-479', 'hidden-layer-1-480', 'hidden-layer-1-481', 'hidden-layer-1-482', 'hidden-layer-1-483', 'hidden-layer-1-484', 'hidden-layer-1-485', 'hidden-layer-1-486', 'hidden-layer-1-487', 'hidden-layer-1-488', 'hidden-layer-1-489', 'hidden-layer-1-490', 'hidden-layer-1-491', 'hidden-layer-1-492', 'hidden-layer-1-493', 'hidden-layer-1-494', 'hidden-layer-1-495', 'hidden-layer-1-496', 'hidden-layer-1-497', 'hidden-layer-1-498', 'hidden-layer-1-499', 'hidden-layer-1-500', 'hidden-layer-1-501', 'hidden-layer-1-502', 'hidden-layer-1-503', 'hidden-layer-1-504', 'hidden-layer-1-505', 'hidden-layer-1-506', 'hidden-layer-1-507', 'hidden-layer-1-508', 'hidden-layer-1-509', 'hidden-layer-1-510', 'hidden-layer-1-511', 'hidden-layer-1-512', 'hidden-layer-1-513', 'hidden-layer-1-514', 'hidden-layer-1-515', 'hidden-layer-1-516', 'hidden-layer-1-517', 'hidden-layer-1-518', 'hidden-layer-1-519', 'hidden-layer-1-520', 'hidden-layer-1-521', 'hidden-layer-1-522', 'hidden-layer-1-523', 'hidden-layer-1-524', 'hidden-layer-1-525', 'hidden-layer-1-526', 'hidden-layer-1-527', 'hidden-layer-1-528', 'hidden-layer-1-529', 'hidden-layer-1-530', 'hidden-layer-1-531', 'hidden-layer-1-532', 'hidden-layer-1-533', 'hidden-layer-1-534', 'hidden-layer-1-535', 'hidden-layer-1-536', 'hidden-layer-1-537', 'hidden-layer-1-538', 'hidden-layer-1-539', 'hidden-layer-1-540', 'hidden-layer-1-541', 'hidden-layer-1-542', 'hidden-layer-1-543', 'hidden-layer-1-544', 'hidden-layer-1-545', 'hidden-layer-1-546', 'hidden-layer-1-547', 'hidden-layer-1-548', 'hidden-layer-1-549', 'hidden-layer-1-550', 'hidden-layer-1-551', 'hidden-layer-1-552', 'hidden-layer-1-553', 'hidden-layer-1-554', 'hidden-layer-1-555', 'hidden-layer-1-556', 'hidden-layer-1-557', 'hidden-layer-1-558', 'hidden-layer-1-559', 'hidden-layer-1-560', 'hidden-layer-1-561', 'hidden-layer-1-562', 'hidden-layer-1-563', 'hidden-layer-1-564', 'hidden-layer-1-565', 'hidden-layer-1-566', 'hidden-layer-1-567', 'hidden-layer-1-568', 'hidden-layer-1-569', 'hidden-layer-1-570', 'hidden-layer-1-571', 'hidden-layer-1-572', 'hidden-layer-1-573', 'hidden-layer-1-574', 'hidden-layer-1-575', 'hidden-layer-1-576', 'hidden-layer-1-577', 'hidden-layer-1-578', 'hidden-layer-1-579', 'hidden-layer-1-580', 'hidden-layer-1-581', 'hidden-layer-1-582', 'hidden-layer-1-583', 'hidden-layer-1-584', 'hidden-layer-1-585', 'hidden-layer-1-586', 'hidden-layer-1-587', 'hidden-layer-1-588', 'hidden-layer-1-589', 'hidden-layer-1-590', 'hidden-layer-1-591', 'hidden-layer-1-592', 'hidden-layer-1-593', 'hidden-layer-1-594', 'hidden-layer-1-595', 'hidden-layer-1-596', 'hidden-layer-1-597', 'hidden-layer-1-598', 'hidden-layer-1-599', 'hidden-layer-1-600', 'hidden-layer-1-601', 'hidden-layer-1-602', 'hidden-layer-1-603', 'hidden-layer-1-604', 'hidden-layer-1-605', 'hidden-layer-1-606', 'hidden-layer-1-607', 'hidden-layer-1-608', 'hidden-layer-1-609', 'hidden-layer-1-610', 'hidden-layer-1-611', 'hidden-layer-1-612', 'hidden-layer-1-613', 'hidden-layer-1-614', 'hidden-layer-1-615', 'hidden-layer-1-616', 'hidden-layer-1-617', 'hidden-layer-1-618', 'hidden-layer-1-619', 'hidden-layer-1-620', 'hidden-layer-1-621', 'hidden-layer-1-622', 'hidden-layer-1-623', 'hidden-layer-1-624', 'hidden-layer-1-625', 'hidden-layer-1-626', 'hidden-layer-1-627', 'hidden-layer-1-628', 'hidden-layer-1-629', 'hidden-layer-1-630', 'hidden-layer-1-631', 'hidden-layer-1-632', 'hidden-layer-1-633', 'hidden-layer-1-634', 'hidden-layer-1-635', 'hidden-layer-1-636', 'hidden-layer-1-637', 'hidden-layer-1-638', 'hidden-layer-1-639', 'hidden-layer-1-640', 'hidden-layer-1-641', 'hidden-layer-1-642', 'hidden-layer-1-643', 'hidden-layer-1-644', 'hidden-layer-1-645', 'hidden-layer-1-646', 'hidden-layer-1-647', 'hidden-layer-1-648', 'hidden-layer-1-649', 'hidden-layer-1-650', 'hidden-layer-1-651', 'hidden-layer-1-652', 'hidden-layer-1-653', 'hidden-layer-1-654', 'hidden-layer-1-655', 'hidden-layer-1-656', 'hidden-layer-1-657', 'hidden-layer-1-658', 'hidden-layer-1-659', 'hidden-layer-1-660', 'hidden-layer-1-661', 'hidden-layer-1-662', 'hidden-layer-1-663', 'hidden-layer-1-664', 'hidden-layer-1-665', 'hidden-layer-1-666', 'hidden-layer-1-667', 'hidden-layer-1-668', 'hidden-layer-1-669', 'hidden-layer-1-670', 'hidden-layer-1-671', 'hidden-layer-1-672', 'hidden-layer-1-673', 'hidden-layer-1-674', 'hidden-layer-1-675', 'hidden-layer-1-676', 'hidden-layer-1-677', 'hidden-layer-1-678', 'hidden-layer-1-679', 'hidden-layer-1-680', 'hidden-layer-1-681', 'hidden-layer-1-682', 'hidden-layer-1-683', 'hidden-layer-1-684', 'hidden-layer-1-685', 'hidden-layer-1-686', 'hidden-layer-1-687', 'hidden-layer-1-688', 'hidden-layer-1-689', 'hidden-layer-1-690', 'hidden-layer-1-691', 'hidden-layer-1-692', 'hidden-layer-1-693', 'hidden-layer-1-694', 'hidden-layer-1-695', 'hidden-layer-1-696', 'hidden-layer-1-697', 'hidden-layer-1-698', 'hidden-layer-1-699', 'hidden-layer-1-700', 'hidden-layer-1-701', 'hidden-layer-1-702', 'hidden-layer-1-703', 'hidden-layer-1-704', 'hidden-layer-1-705', 'hidden-layer-1-706', 'hidden-layer-1-707', 'hidden-layer-1-708', 'hidden-layer-1-709', 'hidden-layer-1-710', 'hidden-layer-1-711', 'hidden-layer-1-712', 'hidden-layer-1-713', 'hidden-layer-1-714', 'hidden-layer-1-715', 'hidden-layer-1-716', 'hidden-layer-1-717', 'hidden-layer-1-718', 'hidden-layer-1-719', 'hidden-layer-1-720', 'hidden-layer-1-721', 'hidden-layer-1-722', 'hidden-layer-1-723', 'hidden-layer-1-724', 'hidden-layer-1-725', 'hidden-layer-1-726', 'hidden-layer-1-727', 'hidden-layer-1-728', 'hidden-layer-1-729', 'hidden-layer-1-730', 'hidden-layer-1-731', 'hidden-layer-1-732', 'hidden-layer-1-733', 'hidden-layer-1-734', 'hidden-layer-1-735', 'hidden-layer-1-736', 'hidden-layer-1-737', 'hidden-layer-1-738', 'hidden-layer-1-739', 'hidden-layer-1-740', 'hidden-layer-1-741', 'hidden-layer-1-742', 'hidden-layer-1-743', 'hidden-layer-1-744', 'hidden-layer-1-745', 'hidden-layer-1-746', 'hidden-layer-1-747', 'hidden-layer-1-748', 'hidden-layer-1-749', 'hidden-layer-1-750', 'hidden-layer-1-751', 'hidden-layer-1-752', 'hidden-layer-1-753', 'hidden-layer-1-754', 'hidden-layer-1-755', 'hidden-layer-1-756', 'hidden-layer-1-757', 'hidden-layer-1-758', 'hidden-layer-1-759', 'hidden-layer-1-760', 'hidden-layer-1-761', 'hidden-layer-1-762', 'hidden-layer-1-763', 'hidden-layer-1-764', 'hidden-layer-1-765', 'hidden-layer-1-766', 'hidden-layer-1-767', 'hidden-layer-1-768']\",\n",
       "   'surname': 'LSTM_embedding-size_768_nhid_768_nlayers_1_dropout_02_gutenberg_big_2_norm-2_all-hidden-layers',\n",
       "   'data_compression': 'pca',\n",
       "   'ncomponents': 300,\n",
       "   'offset_type': 'word+punctuation',\n",
       "   'duration_type': None,\n",
       "   'shift_surprisal': False,\n",
       "   'input_template': 'activations',\n",
       "   'centering': 'True',\n",
       "   'order': None,\n",
       "   'scaling_type': None}],\n",
       " 'model_name': 'LSTM_embedding-size_768_nhid_768_nlayers_1_dropout_02_gutenberg_big_2_norm-2_115_all-hidden-layers_pca_300'}"
      ]
     },
     "execution_count": 37,
     "metadata": {},
     "output_type": "execute_result"
    }
   ],
   "source": [
    "template"
   ]
  },
  {
   "cell_type": "code",
   "execution_count": null,
   "metadata": {},
   "outputs": [],
   "source": []
  }
 ],
 "metadata": {
  "kernelspec": {
   "display_name": "Python 3",
   "language": "python",
   "name": "python3"
  },
  "language_info": {
   "codemirror_mode": {
    "name": "ipython",
    "version": 3
   },
   "file_extension": ".py",
   "mimetype": "text/x-python",
   "name": "python",
   "nbconvert_exporter": "python",
   "pygments_lexer": "ipython3",
   "version": "3.7.6"
  }
 },
 "nbformat": 4,
 "nbformat_minor": 4
}
