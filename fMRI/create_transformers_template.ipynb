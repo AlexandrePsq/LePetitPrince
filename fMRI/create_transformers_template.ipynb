{
 "cells": [
  {
   "cell_type": "markdown",
   "metadata": {},
   "source": [
    "# Notebook to generate templates for Transformer-based models"
   ]
  },
  {
   "cell_type": "code",
   "execution_count": 90,
   "metadata": {},
   "outputs": [],
   "source": [
    "import os\n",
    "import yaml\n",
    "import numpy as np\n",
    "\n",
    "from utils import check_folder, read_yaml, save_yaml, write"
   ]
  },
  {
   "cell_type": "code",
   "execution_count": 91,
   "metadata": {},
   "outputs": [],
   "source": [
    "path_to_main = \"/neurospin/unicog/protocols/IRMf/LePetitPrince_Pallier_2018/LePetitPrince/code/fMRI/main.py\""
   ]
  },
  {
   "cell_type": "code",
   "execution_count": 92,
   "metadata": {},
   "outputs": [],
   "source": [
    "subject_dict = {'english': [57, 58, 59, 61, 62, 63, 64, 65, 66, 67, 68, 69, 70,\n",
    "                    72, 73, 74, 75, 76, 77, 78, 79, 80, 81, 82, 83, 84, 86, 87, 88, 89, 91, 92, 93,\n",
    "                    94, 95, 96, 97, 98, 99, 100, 101, 103, 104, 105, 106, 108, 109, 110, 113, 114, 115],\n",
    "                'french':[1, 2, 3, 4, 5, 6, 7, 8, 9, 10, 11, 12, 13, 14, 15, 16, 17, 18, 19, 20,\n",
    "                          21, 22, 23, 24, 25, 26, 27, 29, 30\n",
    "                         ]\n",
    "               }"
   ]
  },
  {
   "cell_type": "code",
   "execution_count": 93,
   "metadata": {},
   "outputs": [],
   "source": [
    "hrf_list = [\n",
    "    'spm', # hrf model used in SPM\n",
    "    'spm + derivative', # SPM model plus its time derivative (2 regressors)\n",
    "    'spm + derivative + dispersion', # idem, plus dispersion derivative (3 regressors)\n",
    "    'glover', # this one corresponds to the Glover hrf\n",
    "    'glover + derivative', # the Glover hrf + time derivative (2 regressors)\n",
    "    'glover + derivative + dispersion' # idem + dispersion derivative\n",
    "]\n",
    "hrf = 'spm'"
   ]
  },
  {
   "cell_type": "code",
   "execution_count": 94,
   "metadata": {},
   "outputs": [],
   "source": [
    "language = 'english'"
   ]
  },
  {
   "cell_type": "code",
   "execution_count": 95,
   "metadata": {},
   "outputs": [],
   "source": [
    "template = {\n",
    "  # Shared General parameters\n",
    "  'subject': None,\n",
    "  'parallel': False,\n",
    "  'cuda': True,\n",
    "  'seed': 1111,\n",
    "  'language': None,\n",
    "  'path_to_root': \"/neurospin/unicog/protocols/IRMf/LePetitPrince_Pallier_2018/LePetitPrince/\",\n",
    "  'path_to_fmridata': \"/neurospin/unicog/protocols/IRMf/LePetitPrince_Pallier_2018/LePetitPrince/data/fMRI\",\n",
    "  'output': \"/neurospin/unicog/protocols/IRMf/LePetitPrince_Pallier_2018/LePetitPrince/derivatives/fMRI/maps/\"  ,\n",
    "  'input': \"/neurospin/unicog/protocols/IRMf/LePetitPrince_Pallier_2018/LePetitPrince/data/stimuli-representations/\" ,\n",
    "  'detrend': True, \n",
    "  'standardize': True, \n",
    "  'high_pass': None, \n",
    "  'low_pass': None, \n",
    "  'mask_strategy': 'background', \n",
    "  #'dtype': 'float32', \n",
    "  'memory_level': 0, \n",
    "  'smoothing_fwhm': None , \n",
    "  'verbose': 0, \n",
    "\n",
    "\n",
    "  # Shared Splitter parameters\n",
    "  'nb_runs': 9,\n",
    "  'nb_runs_test': 1,\n",
    "\n",
    "  # Shared Compression parameters\n",
    "\n",
    "\n",
    "  # Shared Transformation parameters (includes the making of regressor and scaling)\n",
    "  'tr': 2.,\n",
    "  'scaling_mean': True,\n",
    "  'scaling_var': True,\n",
    "  'scaling_axis': None,\n",
    "  'hrf': None,\n",
    "  'offset_path': \"/neurospin/unicog/protocols/IRMf/LePetitPrince_Pallier_2018/LePetitPrince/data/onsets-offsets/\",\n",
    "  'duration_path': \"/neurospin/unicog/protocols/IRMf/LePetitPrince_Pallier_2018/LePetitPrince/\",\n",
    "\n",
    "  # Shared Estimator model parameters\n",
    "  'base': 10.0,\n",
    "  'voxel_wise': True,\n",
    "  'alpha_percentile': 99.9,\n",
    "  'alpha': None,\n",
    "  'alpha_min_log_scale': 2,\n",
    "  'alpha_max_log_scale': 5,\n",
    "  'nb_alphas': 10,\n",
    "  'optimizing_criteria': 'R2',\n",
    "  'estimator_model': 'Ridge()',\n",
    "\n",
    "  # Maps creation parameters\n",
    "  'atlas': 'cort-prob-2mm',\n",
    "  'masker_path': \"/neurospin/unicog/protocols/IRMf/LePetitPrince_Pallier_2018/LePetitPrince/global_masker_english\",\n",
    "  'smoothed_masker_path': \"/neurospin/unicog/protocols/IRMf/LePetitPrince_Pallier_2018/LePetitPrince/smoothed_global_masker_english\",\n",
    "\n",
    "\n",
    "  # Models\n",
    "  'models': None, \n",
    "  'model_name': None\n",
    "}"
   ]
  },
  {
   "cell_type": "code",
   "execution_count": 96,
   "metadata": {},
   "outputs": [],
   "source": [
    "def write_commands(command_lines, path_to_sh, queue='Nspin_long'):\n",
    "    for index, command in enumerate(command_lines):\n",
    "        write(path_to_sh[index], command)\n",
    "        queue = queue # 'Nspin_bigM'\n",
    "        walltime = '99:00:00'\n",
    "        output_log = '/home/ap259944/logs/log_o_{}'.format(index)\n",
    "        error_log = '/home/ap259944/logs/log_e_{}'.format(index)\n",
    "        job_name = os.path.basename(path_to_sh[index]).split('.')[0]\n",
    "        write(job_to_launch_path, f\"qsub -q {queue} -N {job_name} -l walltime={walltime} -o {output_log} -e {error_log} {path_to_sh[index]}\")\n"
   ]
  },
  {
   "cell_type": "code",
   "execution_count": 97,
   "metadata": {},
   "outputs": [],
   "source": [
    "def get_model_template(\n",
    "    model_name, \n",
    "    layers, \n",
    "    hidden_states, \n",
    "    attention_heads, \n",
    "    heads,\n",
    "    surname,\n",
    "    data_compression, \n",
    "    ncomponents,\n",
    "    offset_type='word+punctuation',\n",
    "    duration_type=None,\n",
    "    centering=False,\n",
    "    shift_surprisal=False,\n",
    "    scaling_type=None,\n",
    "    order=None,\n",
    "    input_template='activations'):\n",
    "    \n",
    "    columns_to_retrieve = []\n",
    "    if hidden_states:\n",
    "        columns_to_retrieve = ['hidden_state-layer-{}-{}'.format(layer, i) for layer in layers for i in range(1, 769)]\n",
    "    if attention_heads:\n",
    "        columns_to_retrieve += ['attention-layer-{}-head-{}-{}'.format(layer, head, i) for layer in layers for head in heads for i in range(1, 65)]\n",
    "    result = { \n",
    "        'model_name': model_name,\n",
    "        'columns_to_retrieve': str(columns_to_retrieve),\n",
    "        'surname': surname,\n",
    "        'data_compression': data_compression,\n",
    "        'ncomponents': ncomponents,\n",
    "        'offset_type': offset_type, # word / word+punctuation / ...,\n",
    "        'duration_type': duration_type,\n",
    "        'shift_surprisal': shift_surprisal,\n",
    "        'centering': centering,\n",
    "        'order': order,\n",
    "        'scaling_type': scaling_type,\n",
    "        'input_template': input_template # cls / sep / activations\n",
    "      }\n",
    "    return result\n",
    "    "
   ]
  },
  {
   "cell_type": "code",
   "execution_count": 98,
   "metadata": {},
   "outputs": [],
   "source": [
    "def fill_template_folder(\n",
    "    model_names, \n",
    "    language, \n",
    "    template, \n",
    "    hidden_layer_list,\n",
    "    attention_layer_list,\n",
    "    attention_layer_head_list,\n",
    "    centering,\n",
    "    order,\n",
    "    scaling_type,\n",
    "    input_template,\n",
    "    data_compression,\n",
    "    ncomponents,\n",
    "    path_to_main=path_to_main):\n",
    "    command_lines = []\n",
    "    path_to_sh = []\n",
    "    for index, model_name in enumerate(model_names):\n",
    "        for subject in subject_dict[language]:\n",
    "            template['subject'] = subject\n",
    "\n",
    "            # hidden layers comparison\n",
    "            for hidden_layers in hidden_layer_list:\n",
    "                model = get_model_template(model_name=model_name, \n",
    "                                           layers=hidden_layers, \n",
    "                                           hidden_states=True,\n",
    "                                           attention_heads=False, \n",
    "                                           heads=None, \n",
    "                                           surname=\"{}_hidden-layer-{}\".format(model_name, hidden_layers),\n",
    "                                           data_compression=data_compression[index], \n",
    "                                           ncomponents=ncomponents[index],\n",
    "                                           offset_type=\"word+punctuation\", \n",
    "                                           duration_type=None, \n",
    "                                           centering=centering[index],\n",
    "                                           order=order[index],\n",
    "                                           shift_surprisal=False,\n",
    "                                           scaling_type=scaling_type[index],\n",
    "                                           input_template=input_template\n",
    "                                          )\n",
    "                template['models'] = [model]\n",
    "                additional = '_{}_{}'.format(data_compression[index], ncomponents[index]) if data_compression[index] is not None else ''\n",
    "                #template['model_name'] = '{}_{}_hidden-layer-{}'.format(model_name, subject, hidden_layers[0])\n",
    "                #yaml_path = os.path.join(templates_folder, '{}_{}_hidden-layer-{}.yml'.format(model_name, subject, hidden_layers[0]))\n",
    "                template['model_name'] = '{}_norm-{}_{}_hidden-all-layers{}'.format(model_name, order[index], subject, additional).replace('np.', '')\n",
    "                yaml_path = os.path.join(templates_folder, '{}_norm-{}_{}_hidden-all-layers{}.yml'.format(model_name, order[index], subject, additional)).replace('np.', '')\n",
    "\n",
    "                save_yaml(template, yaml_path)\n",
    "                command_lines.append(\"python {} --yaml_file {}\".format(path_to_main, yaml_path))\n",
    "                #path_to_sh.append(os.path.join(sh_folder, '{}_norm-{}_{}_hidden-layer-{}.sh'.format(model_name, order[index], subject, hidden_layers[0])))\n",
    "                path_to_sh.append(os.path.join(sh_folder, '{}_norm-{}_{}_hidden-all-layers{}.sh'.format(model_name, order[index], subject, additional).replace('np.', '')))\n",
    "\n",
    "            # attention layers comparison\n",
    "            for attention_layers in attention_layer_list:\n",
    "                model = get_model_template(model_name=model_name, \n",
    "                                           layers=attention_layers, \n",
    "                                           hidden_states=False,\n",
    "                                           attention_heads=True, \n",
    "                                           heads=heads, \n",
    "                                           surname=\"{}_norm-{}_attention-layer-{}\".format(model_name, order[index], attention_layers),\n",
    "                                           data_compression=data_compression[index], \n",
    "                                           ncomponents=ncomponents[index],\n",
    "                                           offset_type=\"word+punctuation\", \n",
    "                                           duration_type=None, \n",
    "                                           centering=centering[index],\n",
    "                                           order=order[index],\n",
    "                                           shift_surprisal=False,\n",
    "                                           scaling_type=scaling_type[index],\n",
    "                                           input_template=input_template\n",
    "                                          )\n",
    "                template['models'] = [model]\n",
    "                #additional = '_{}_{}'.format(data_compression[index], ncomponents[index]) if data_compression[index] is not None else ''\n",
    "                template['model_name'] = '{}_norm-{}_{}_attention_layer-{}'.format(model_name, order[index], subject, attention_layers[0])\n",
    "                yaml_path = os.path.join(templates_folder, '{}_norm-{}_{}_attention-layer-{}.yml'.format(model_name, order[index], subject, attention_layers[0]))\n",
    "                save_yaml(template, yaml_path)\n",
    "                command_lines.append(\"python {} --yaml_file {}\".format(path_to_main, yaml_path))\n",
    "                path_to_sh.append(os.path.join(sh_folder, '{}_norm-{}_{}_attention-layer-{}.sh'.format(model_name, order[index], subject, attention_layers[0])))\n",
    "\n",
    "            # specific attention heads comparison    \n",
    "            for (layer, head) in attention_layer_head_list:\n",
    "                model = get_model_template(model_name=model_name, \n",
    "                                           layers=[layer], \n",
    "                                           hidden_states=False,\n",
    "                                           attention_heads=True, \n",
    "                                           heads=[head], \n",
    "                                           surname=\"{}_norm-{}_attention-layer-{}-head-{}\".format(model_name, order[index], layer, head),\n",
    "                                           data_compression=None, \n",
    "                                           ncomponents=None,\n",
    "                                           offset_type=\"word+punctuation\", \n",
    "                                           duration_type=None, \n",
    "                                           centering=centering[index],\n",
    "                                           order=order[index],\n",
    "                                           shift_surprisal=False,\n",
    "                                           scaling_type=scaling_type[index],\n",
    "                                           input_template=input_template\n",
    "                                          )\n",
    "                template['models'] = [model]\n",
    "                template['model_name'] = '{}_norm-{}_{}_attention-layer-{}_head-{}'.format(model_name, order[index], subject, layer, head)\n",
    "                yaml_path = os.path.join(templates_folder, '{}_norm-{}_{}_attention-layer-{}_head-{}.yml'.format(model_name, order[index], subject, layer, head))\n",
    "                save_yaml(template, yaml_path)\n",
    "                command_lines.append(\"python {} --yaml_file {}\".format(path_to_main, yaml_path))\n",
    "                path_to_sh.append(os.path.join(sh_folder, '{}_norm-{}_{}_attention-layer-{}_head-{}.sh'.format(model_name, order[index], subject, layer, head)))\n",
    "    return path_to_sh, command_lines\n"
   ]
  },
  {
   "cell_type": "markdown",
   "metadata": {},
   "source": [
    "## Here we start the generation"
   ]
  },
  {
   "cell_type": "code",
   "execution_count": 99,
   "metadata": {},
   "outputs": [],
   "source": [
    "templates_folder = \"/neurospin/unicog/protocols/IRMf/LePetitPrince_Pallier_2018/LePetitPrince/tmp_transformers/templates/\"\n",
    "sh_folder = \"/neurospin/unicog/protocols/IRMf/LePetitPrince_Pallier_2018/LePetitPrince/tmp_transformers/shell_commands/\"\n",
    "job_to_launch_path = \"/neurospin/unicog/protocols/IRMf/LePetitPrince_Pallier_2018/LePetitPrince/tmp_transformers/jobs.txt\"\n",
    "check_folder(templates_folder)\n",
    "check_folder(sh_folder)\n"
   ]
  },
  {
   "cell_type": "markdown",
   "metadata": {},
   "source": [
    "### Layer-wise"
   ]
  },
  {
   "cell_type": "code",
   "execution_count": null,
   "metadata": {},
   "outputs": [],
   "source": [
    "model_names = [\n",
    "        'bert-base-cased_pre-0_1_post-0',\n",
    "    'bert-base-cased_pre-1_1_post-0',\n",
    "    'bert-base-cased_pre-2_1_post-0',\n",
    "    'bert-base-cased_pre-5_1_post-0',\n",
    "    'bert-base-cased_pre-7_1_post-0',\n",
    "    'bert-base-cased_pre-10_1_post-0',\n",
    "    'bert-base-cased_pre-15_1_post-0',\n",
    "    'bert-base-cased_pre-20_1_post-0'\n",
    "]"
   ]
  },
  {
   "cell_type": "code",
   "execution_count": null,
   "metadata": {},
   "outputs": [],
   "source": [
    "#model_names = ['bert-base-cased', 'gpt2_scaled', 'roberta-base']\n",
    "hidden_layer_list = [[i] for i in range(13)]\n",
    "attention_layer_list = [[i] for i in range(1, 13)]\n",
    "heads = np.arange(1, 13)\n",
    "attention_layer_head_list = [[7, 6], [4, 10], [8, 1], [8,2], [6,7], [8, 10], [8, 11], [9, 6]]\n",
    "command_lines = []\n",
    "data_compression = [None]\n",
    "ncomponents = [None]\n",
    "order = [2]\n",
    "centering = ['True']\n",
    "scaling_type = ['normalize']\n",
    "input_template = 'activations'\n",
    "scaling_axis = 1\n"
   ]
  },
  {
   "cell_type": "code",
   "execution_count": null,
   "metadata": {},
   "outputs": [],
   "source": [
    "template['scaling_axis'] = scaling_axis\n",
    "template['language'] = language\n",
    "template['hrf'] = hrf"
   ]
  },
  {
   "cell_type": "code",
   "execution_count": null,
   "metadata": {},
   "outputs": [],
   "source": [
    "path_to_sh, command_lines = fill_template_folder(\n",
    "                    model_names, \n",
    "                    language, \n",
    "                    template, \n",
    "                    hidden_layer_list,\n",
    "                    attention_layer_list,\n",
    "                    centering,\n",
    "                    order,\n",
    "                    scaling_type,\n",
    "                    input_template,\n",
    "                    data_compression,\n",
    "                    ncomponents,\n",
    "                    path_to_main=path_to_main\n",
    "                )"
   ]
  },
  {
   "cell_type": "code",
   "execution_count": null,
   "metadata": {},
   "outputs": [],
   "source": [
    "write_commands(command_lines, path_to_sh)"
   ]
  },
  {
   "cell_type": "markdown",
   "metadata": {},
   "source": [
    "### Full Model"
   ]
  },
  {
   "cell_type": "code",
   "execution_count": 100,
   "metadata": {},
   "outputs": [],
   "source": [
    "model_names = [\n",
    "    'bert-base-cased_pre-0_1_post-0_norm-std',\n",
    "    'bert-base-cased_pre-1_1_post-0_norm-std',\n",
    "    'bert-base-cased_pre-2_1_post-0_norm-std',\n",
    "    'bert-base-cased_pre-5_1_post-0_norm-std',\n",
    "    'bert-base-cased_pre-7_1_post-0_norm-std',\n",
    "    'bert-base-cased_pre-10_1_post-0_norm-std',\n",
    "    'bert-base-cased_pre-15_1_post-0_norm-std',\n",
    "    'bert-base-cased_pre-20_1_post-0_norm-std',\n",
    "    #'bert-base-cased_pre-0_1_post-0_norm-None',\n",
    "    #'bert-base-cased_pre-1_1_post-0_norm-None',\n",
    "    #'bert-base-cased_pre-2_1_post-0_norm-None',\n",
    "    #'bert-base-cased_pre-5_1_post-0_norm-None',\n",
    "    #'bert-base-cased_pre-7_1_post-0_norm-None',\n",
    "    #'bert-base-cased_pre-10_1_post-0_norm-None',\n",
    "    #'bert-base-cased_pre-15_1_post-0_norm-None',\n",
    "    #'bert-base-cased_pre-20_1_post-0_norm-None',\n",
    "    'bert-base-cased_pre-0_1_post-0_norm-inf',\n",
    "    'bert-base-cased_pre-1_1_post-0_norm-inf',\n",
    "    'bert-base-cased_pre-2_1_post-0_norm-inf',\n",
    "    'bert-base-cased_pre-5_1_post-0_norm-inf',\n",
    "    'bert-base-cased_pre-7_1_post-0_norm-inf',\n",
    "    'bert-base-cased_pre-10_1_post-0_norm-inf',\n",
    "    'bert-base-cased_pre-15_1_post-0_norm-inf',\n",
    "    'bert-base-cased_pre-20_1_post-0_norm-inf',\n",
    "    'bert-base-cased_pre-0_1_post-0_norm-5',\n",
    "    'bert-base-cased_pre-1_1_post-0_norm-5',\n",
    "    'bert-base-cased_pre-2_1_post-0_norm-5',\n",
    "    'bert-base-cased_pre-5_1_post-0_norm-5',\n",
    "    'bert-base-cased_pre-7_1_post-0_norm-5',\n",
    "    'bert-base-cased_pre-10_1_post-0_norm-5',\n",
    "    'bert-base-cased_pre-15_1_post-0_norm-5',\n",
    "    'bert-base-cased_pre-20_1_post-0_norm-5',\n",
    "    'bert-base-cased_pre-0_1_post-0_norm-3',\n",
    "    'bert-base-cased_pre-1_1_post-0_norm-3',\n",
    "    'bert-base-cased_pre-2_1_post-0_norm-3',\n",
    "    'bert-base-cased_pre-5_1_post-0_norm-3',\n",
    "    'bert-base-cased_pre-7_1_post-0_norm-3',\n",
    "    'bert-base-cased_pre-10_1_post-0_norm-3',\n",
    "    'bert-base-cased_pre-15_1_post-0_norm-3',\n",
    "    'bert-base-cased_pre-20_1_post-0_norm-3',\n",
    "    'bert-base-cased_pre-0_1_post-0_norm-2',\n",
    "    'bert-base-cased_pre-1_1_post-0_norm-2',\n",
    "    'bert-base-cased_pre-2_1_post-0_norm-2',\n",
    "    'bert-base-cased_pre-5_1_post-0_norm-2',\n",
    "    'bert-base-cased_pre-7_1_post-0_norm-2',\n",
    "    'bert-base-cased_pre-10_1_post-0_norm-2',\n",
    "    'bert-base-cased_pre-15_1_post-0_norm-2',\n",
    "    'bert-base-cased_pre-20_1_post-0_norm-2'\n",
    "]\n",
    "\n",
    "\n",
    "for index, model in enumerate(model_names):\n",
    "    model_names[index] = model.replace('bert-base-cased', 'gpt2').replace('post-0_', '')"
   ]
  },
  {
   "cell_type": "code",
   "execution_count": 102,
   "metadata": {},
   "outputs": [
    {
     "data": {
      "text/plain": [
       "40"
      ]
     },
     "execution_count": 102,
     "metadata": {},
     "output_type": "execute_result"
    }
   ],
   "source": [
    "len(model_names)"
   ]
  },
  {
   "cell_type": "code",
   "execution_count": 103,
   "metadata": {},
   "outputs": [],
   "source": [
    "hidden_layer_list = [[i for i in range(13)]]\n",
    "attention_layer_list = [] # [[i for i in range(1, 13)]]\n",
    "attention_layer_head_list =  [] # np.arange(1, 13)\n",
    "command_lines = []\n",
    "data_compression = ['pca'] * 48\n",
    "ncomponents = [300] * 48\n",
    "#order = ['std'] * 8 + ['None'] * 8 + ['np.inf'] * 8 + ['5'] * 8 + ['3'] * 8 + ['2'] * 8 # to replace with only None\n",
    "order = ['std']*8  + ['np.inf']*8 + ['5']*8 + ['3']*8 + ['2']*8 # to replace with only None\n",
    "centering = ['True'] * 48\n",
    "#scaling_type = ['standardize'] * 8 + ['normalize'] * 40\n",
    "scaling_type = ['standardize']*8 + ['normalize']*32\n",
    "input_template = 'activations'\n",
    "scaling_axis = 1"
   ]
  },
  {
   "cell_type": "code",
   "execution_count": 104,
   "metadata": {
    "scrolled": false
   },
   "outputs": [],
   "source": [
    "#for index, model_name in enumerate(model_names):\n",
    "#    additional = '_{}_{}'.format(data_compression[index], ncomponents[index]) if data_compression[index] is not None else ''\n",
    "#    print('{}_norm-{}_{}_hidden-all-layers{}'.format(model_name, order[index], '{}',additional).replace('np.', ''))"
   ]
  },
  {
   "cell_type": "code",
   "execution_count": 105,
   "metadata": {},
   "outputs": [],
   "source": [
    "template['scaling_axis'] = scaling_axis\n",
    "template['language'] = language\n",
    "template['hrf'] = hrf"
   ]
  },
  {
   "cell_type": "code",
   "execution_count": 110,
   "metadata": {
    "scrolled": true
   },
   "outputs": [],
   "source": [
    "path_to_sh, command_lines = fill_template_folder(\n",
    "                    model_names, \n",
    "                    language, \n",
    "                    template, \n",
    "                    hidden_layer_list,\n",
    "                    attention_layer_list,\n",
    "                    attention_layer_head_list,\n",
    "                    centering,\n",
    "                    order,\n",
    "                    scaling_type,\n",
    "                    input_template,\n",
    "                    data_compression,\n",
    "                    ncomponents,\n",
    "                    path_to_main=path_to_main\n",
    "                )"
   ]
  },
  {
   "cell_type": "code",
   "execution_count": 111,
   "metadata": {},
   "outputs": [],
   "source": [
    "write_commands(command_lines, path_to_sh)"
   ]
  },
  {
   "cell_type": "code",
   "execution_count": 106,
   "metadata": {
    "scrolled": true
   },
   "outputs": [
    {
     "data": {
      "text/plain": [
       "{'subject': None,\n",
       " 'parallel': False,\n",
       " 'cuda': True,\n",
       " 'seed': 1111,\n",
       " 'language': 'english',\n",
       " 'path_to_root': '/neurospin/unicog/protocols/IRMf/LePetitPrince_Pallier_2018/LePetitPrince/',\n",
       " 'path_to_fmridata': '/neurospin/unicog/protocols/IRMf/LePetitPrince_Pallier_2018/LePetitPrince/data/fMRI',\n",
       " 'output': '/neurospin/unicog/protocols/IRMf/LePetitPrince_Pallier_2018/LePetitPrince/derivatives/fMRI/maps/',\n",
       " 'input': '/neurospin/unicog/protocols/IRMf/LePetitPrince_Pallier_2018/LePetitPrince/data/stimuli-representations/',\n",
       " 'nb_runs': 9,\n",
       " 'nb_runs_test': 1,\n",
       " 'tr': 2.0,\n",
       " 'scaling_mean': True,\n",
       " 'scaling_var': True,\n",
       " 'scaling_axis': 1,\n",
       " 'hrf': 'spm',\n",
       " 'offset_path': '/neurospin/unicog/protocols/IRMf/LePetitPrince_Pallier_2018/LePetitPrince/data/onsets-offsets/',\n",
       " 'duration_path': '/neurospin/unicog/protocols/IRMf/LePetitPrince_Pallier_2018/LePetitPrince/',\n",
       " 'base': 10.0,\n",
       " 'voxel_wise': True,\n",
       " 'alpha_percentile': 99.9,\n",
       " 'alpha': None,\n",
       " 'alpha_min_log_scale': 2,\n",
       " 'alpha_max_log_scale': 5,\n",
       " 'nb_alphas': 10,\n",
       " 'optimizing_criteria': 'R2',\n",
       " 'estimator_model': 'Ridge()',\n",
       " 'atlas': 'cort-prob-2mm',\n",
       " 'masker_path': '/neurospin/unicog/protocols/IRMf/LePetitPrince_Pallier_2018/LePetitPrince/global_masker_english',\n",
       " 'smoothed_masker_path': '/neurospin/unicog/protocols/IRMf/LePetitPrince_Pallier_2018/LePetitPrince/smoothed_global_masker_english',\n",
       " 'models': None,\n",
       " 'model_name': None}"
      ]
     },
     "execution_count": 106,
     "metadata": {},
     "output_type": "execute_result"
    }
   ],
   "source": [
    "template"
   ]
  },
  {
   "cell_type": "code",
   "execution_count": null,
   "metadata": {},
   "outputs": [],
   "source": []
  },
  {
   "cell_type": "code",
   "execution_count": null,
   "metadata": {},
   "outputs": [],
   "source": []
  }
 ],
 "metadata": {
  "kernelspec": {
   "display_name": "Python 3",
   "language": "python",
   "name": "python3"
  },
  "language_info": {
   "codemirror_mode": {
    "name": "ipython",
    "version": 3
   },
   "file_extension": ".py",
   "mimetype": "text/x-python",
   "name": "python",
   "nbconvert_exporter": "python",
   "pygments_lexer": "ipython3",
   "version": "3.7.7"
  }
 },
 "nbformat": 4,
 "nbformat_minor": 4
}
