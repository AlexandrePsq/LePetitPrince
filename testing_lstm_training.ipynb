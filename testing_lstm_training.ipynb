{
 "cells": [
  {
   "cell_type": "code",
   "execution_count": 88,
   "metadata": {},
   "outputs": [],
   "source": [
    "from models.english.LSTM import model\n",
    "from utilities.settings import Params, Paths\n",
    "import torch.nn as nn"
   ]
  },
  {
   "cell_type": "code",
   "execution_count": 48,
   "metadata": {},
   "outputs": [],
   "source": [
    "paths = Paths()\n",
    "params = Params()"
   ]
  },
  {
   "cell_type": "code",
   "execution_count": 49,
   "metadata": {},
   "outputs": [],
   "source": [
    "paths.path2root =  '/Users/alexpsq/Code/NeuroSpin/LePetitPrince'\n",
    "paths.path2data =  '/Users/alexpsq/Code/NeuroSpin/LePetitPrince/data'\n",
    "paths.path2derivatives =  '/Users/alexpsq/Code/NeuroSpin/LePetitPrince/derivatives'\n",
    "paths.path2code =  '/Users/alexpsq/Code/NeuroSpin/LePetitPrince/code'\n",
    "paths.path2paradigm =  '/Users/alexpsq/Code/NeuroSpin/LePetitPrince/paradigm'\n",
    "paths.path2oldstuff =  '/Users/alexpsq/Code/NeuroSpin/LePetitPrince/oldstuff'\n",
    "paths.path2test =  '/Users/alexpsq/Code/NeuroSpin/LePetitPrince/oldstuff/test'"
   ]
  },
  {
   "cell_type": "code",
   "execution_count": 50,
   "metadata": {},
   "outputs": [
    {
     "data": {
      "text/plain": [
       "{'path2root': '/Users/alexpsq/Code/NeuroSpin/LePetitPrince',\n",
       " 'path2data': '/Users/alexpsq/Code/NeuroSpin/LePetitPrince/data',\n",
       " 'path2derivatives': '/Users/alexpsq/Code/NeuroSpin/LePetitPrince/derivatives',\n",
       " 'path2code': '/Users/alexpsq/Code/NeuroSpin/LePetitPrince/code',\n",
       " 'path2paradigm': '/Users/alexpsq/Code/NeuroSpin/LePetitPrince/paradigm',\n",
       " 'path2oldstuff': '/Users/alexpsq/Code/NeuroSpin/LePetitPrince/oldstuff',\n",
       " 'path2test': '/Users/alexpsq/Code/NeuroSpin/LePetitPrince/oldstuff/test'}"
      ]
     },
     "execution_count": 50,
     "metadata": {},
     "output_type": "execute_result"
    }
   ],
   "source": [
    "vars(paths)"
   ]
  },
  {
   "cell_type": "markdown",
   "metadata": {},
   "source": [
    "## Dictionary and Corpus"
   ]
  },
  {
   "cell_type": "code",
   "execution_count": 51,
   "metadata": {},
   "outputs": [],
   "source": [
    "import os\n",
    "import torch\n",
    "from collections import defaultdict\n",
    "import logging\n",
    "from tqdm import tqdm\n",
    "\n",
    "class Dictionary(object):\n",
    "    def __init__(self, path, language):\n",
    "        self.word2idx = {}\n",
    "        self.idx2word = []\n",
    "        self.language = language\n",
    "        self.word2freq = defaultdict(int)\n",
    "\n",
    "        vocab_path = os.path.join(path, 'vocab.txt')\n",
    "        try:\n",
    "            vocab = open(vocab_path, encoding=\"utf8\").read()\n",
    "            self.word2idx = {w: i for i, w in enumerate(vocab.split())}\n",
    "            self.idx2word = [w for w in vocab.split()]\n",
    "            self.vocab_file_exists = True\n",
    "        except FileNotFoundError:\n",
    "            logging.info(\"Vocab file not found, creating new vocab file.\")\n",
    "            self.create_vocab(os.path.join(path, 'train.txt'))\n",
    "            open(vocab_path,\"w\").write(\"\\n\".join([w for w in self.idx2word]))\n",
    "\n",
    "\n",
    "    def add_word(self, word):\n",
    "        self.word2freq[word] += 1\n",
    "        if word not in self.word2idx:\n",
    "            self.idx2word.append(word)\n",
    "            self.word2idx[word] = len(self.idx2word) - 1\n",
    "\n",
    "\n",
    "    def __len__(self):\n",
    "        return len(self.idx2word)\n",
    "\n",
    "\n",
    "    def create_vocab(self, path):\n",
    "        iterator = tokenize(path, self.language, train=True)\n",
    "        for item in tqdm(iterator):\n",
    "            self.add_word(item)\n",
    "        self.add_word('<unk>')\n",
    "\n",
    "\n",
    "\n",
    "class Corpus(object):\n",
    "    def __init__(self, path, language):\n",
    "        print('Building dictionary...')\n",
    "        self.dictionary = Dictionary(path, language)\n",
    "        print('Dictionary built.')\n",
    "        train_path = os.path.join(path, 'train.txt')\n",
    "        valid_path = os.path.join(path, 'valid.txt')\n",
    "        test_path = os.path.join(path, 'test.txt')\n",
    "        train_tensor = os.path.join(path, 'train.pkl')\n",
    "        valid_tensor = os.path.join(path, 'valid.pkl')\n",
    "        test_tensor = os.path.join(path, 'test.pkl')\n",
    "        try:\n",
    "            with open(train_tensor, 'rb') as f:\n",
    "                self.train = torch.load(f)\n",
    "            with open(valid_tensor, 'rb') as f:\n",
    "                self.valid = torch.load(f)\n",
    "            with open(test_tensor, 'rb') as f:\n",
    "                self.test = torch.load(f)\n",
    "\n",
    "        except FileNotFoundError:\n",
    "            logging.info(\"Tensor files not found, creating new tensor files.\")\n",
    "            print('Computing train tensor...')\n",
    "            self.train = create_tokenized_tensor(tokenize(train_path, language, self.dictionary, train=True), self.dictionary)\n",
    "            print('Train tensor computed.')\n",
    "            print('Computing valid tensor...')\n",
    "            self.valid = create_tokenized_tensor(tokenize(valid_path, language, self.dictionary, train=True), self.dictionary)\n",
    "            print('Valid tensor computed.')\n",
    "            print('Computing test tensor...')\n",
    "            self.test = create_tokenized_tensor(tokenize(test_path, language, self.dictionary, train=True), self.dictionary)\n",
    "            print('Test tensor computed.')\n",
    "\n",
    "            with open(train_tensor, 'wb') as f:\n",
    "                torch.save(self.train, f)\n",
    "            with open(valid_tensor, 'wb') as f:\n",
    "                torch.save(self.valid, f)\n",
    "            with open(test_tensor, 'wb') as f:\n",
    "                torch.save(self.test, f)\n",
    "        \n",
    "\n",
    "\n",
    "\n",
    "def create_tokenized_tensor(iterator, dictionary):\n",
    "    \"\"\"Create tensor of embeddings from word iterator.\"\"\"\n",
    "    tensor = torch.LongTensor(len(iterator))\n",
    "    token = 0\n",
    "    for item in tqdm(iterator):\n",
    "        tensor[token] = dictionary.word2idx[item] if item in dictionary.word2idx else dictionary.word2idx['<unk>']\n",
    "        token += 1\n",
    "    return tensor"
   ]
  },
  {
   "cell_type": "markdown",
   "metadata": {},
   "source": [
    "## Tokenizer"
   ]
  },
  {
   "cell_type": "code",
   "execution_count": 52,
   "metadata": {},
   "outputs": [],
   "source": [
    "from nltk.tokenize import sent_tokenize \n",
    "from nltk.tokenize import word_tokenize\n",
    "import os\n",
    "import re\n",
    "import inflect\n",
    "from tqdm import tqdm\n",
    "\n",
    "\n",
    "special_words = {\n",
    "    'english': {\n",
    "        'grown-ups': 'grownups',\n",
    "        'grown-up': 'grownup',\n",
    "        'hasn\\'t': 'hasnt',\n",
    "        'hasn‘t': 'hasnt'\n",
    "    },\n",
    "    'french': {\n",
    "\n",
    "    }\n",
    "}\n",
    "\n",
    "\n",
    "def tokenize(path, language, vocab=None, path_like=True, train=False):\n",
    "    print('Tokenizing...')\n",
    "    if path_like:\n",
    "        print(path)\n",
    "        assert os.path.exists(path)\n",
    "        path = open(path, 'r', encoding='utf8').read()\n",
    "\n",
    "    if not train:\n",
    "        print('Preprocessing...')\n",
    "        text = preprocess(path, special_words, language)\n",
    "        print('Preprocessed.')\n",
    "    else:\n",
    "        text = path\n",
    "    # iterator = [unk_transform(item, vocab).lower() for item in text.split()]\n",
    "    iterator = [unk_transform(item, vocab) for item in tqdm(text.split())] # vocab words not lowered\n",
    "    print('Tokenized.')\n",
    "    return iterator\n",
    "\n",
    "\n",
    "def unk_transform(word, vocab=None):\n",
    "    if word == 'unk':\n",
    "        return '<unk>'\n",
    "    elif not vocab:\n",
    "        return word\n",
    "    elif word in vocab.idx2word:\n",
    "        return word\n",
    "    else:\n",
    "        return '<unk>'\n",
    "\n",
    "\n",
    "def preprocess(text, special_words, language):\n",
    "    text = text.replace('\\n', '')\n",
    "    text = text.replace('<unk>', 'unk')\n",
    "    for word in special_words[language].keys():\n",
    "        text = text.replace(word, special_words[language][word])\n",
    "    transf = inflect.engine()\n",
    "    numbers = re.findall('\\d+', text)\n",
    "    for number in numbers:\n",
    "        text = text.replace(number, transf.number_to_words(number))\n",
    "    punctuation = ['.', '\\'', ',', ';', ':', '!', '?', '/', '-', '\"', '‘', '’', '(', ')', '{', '}', '[', ']', '`', '“', '”', '—']\n",
    "    for item in punctuation:\n",
    "        text = text.replace(item, ' '+ item + ' ')\n",
    "    text = text.replace('.  .  .', '...')\n",
    "    ### tokenize without punctuation ###\n",
    "    # for item in punctuation:\n",
    "    #     text = text.replace(item, ' ')\n",
    "    ### tokenize with punctuation ###\n",
    "    # ### tokenize thanks to usual tools for text without strange characters ###\n",
    "    # tokenized = sent_tokenize(text, language=language)\n",
    "    # tokenized = [word_tokenize(sentence, language=language) + ['<eos>'] for sentence in tokenized]\n",
    "    # iterator = [unk_transform(item, vocab).lower() for sublist in tokenized for item in sublist]\n",
    "    return text"
   ]
  },
  {
   "cell_type": "code",
   "execution_count": null,
   "metadata": {},
   "outputs": [],
   "source": []
  },
  {
   "cell_type": "code",
   "execution_count": null,
   "metadata": {},
   "outputs": [],
   "source": []
  },
  {
   "cell_type": "markdown",
   "metadata": {},
   "source": [
    "## Model analysis - Generation"
   ]
  },
  {
   "cell_type": "code",
   "execution_count": null,
   "metadata": {},
   "outputs": [],
   "source": []
  },
  {
   "cell_type": "code",
   "execution_count": 53,
   "metadata": {},
   "outputs": [],
   "source": [
    "def generate(model, input, hidden, temperature, corpus, log_interval):\n",
    "    output, hidden = model(input, hidden) \n",
    "    word_weights = output.squeeze().div(temperature).exp().cpu() \n",
    "    word_idx = torch.multinomial(word_weights, 1)[0] \n",
    "    input.fill_(word_idx) \n",
    "    word = corpus.dictionary.idx2word[word_idx]\n",
    "    return(word, input)\n"
   ]
  },
  {
   "cell_type": "code",
   "execution_count": 54,
   "metadata": {},
   "outputs": [],
   "source": [
    "def check_lstm(model, data, save_path, language, words2generate=1000, temperature=1.0, log_interval=100, saving=False,cuda=False, seed=1111): \n",
    "    torch.manual_seed(seed) \n",
    "    if torch.cuda.is_available(): \n",
    "        if not cuda: \n",
    "            print(\"WARNING: You have a CUDA device, so you should probably run with --cuda\") \n",
    "\n",
    "    device = torch.device(\"cuda\" if (cuda & torch.cuda.is_available()) else \"cpu\") \n",
    "\n",
    "    model.eval()\n",
    "\n",
    "    result = ''\n",
    "    corpus = Corpus(data, language) \n",
    "    ntokens = len(corpus.dictionary) \n",
    "    hidden = model.init_hidden(1) \n",
    "    input = torch.randint(ntokens, (1,1), dtype=torch.long).to(device)\n",
    "    with torch.no_grad(): # no tracking history\n",
    "        word, input = generate(model, input, hidden, temperature, corpus, log_interval)\n",
    "        with open(save_path, 'w') as outf: \n",
    "        \n",
    "            for i in range(words2generate):\n",
    "                word, input = generate(model, input, hidden, temperature, corpus, log_interval)\n",
    "                result += ' ' + str(word)\n",
    "                if saving:\n",
    "                    outf.write(word + ('\\n' if i % 20 == 19 else ' '))\n",
    "                if i % log_interval == 0: \n",
    "                    print('| Generated {}/{} words'.format(i, words2generate))\n",
    "    print(result)\n",
    "    return result"
   ]
  },
  {
   "cell_type": "code",
   "execution_count": 55,
   "metadata": {},
   "outputs": [],
   "source": [
    "data_name = 'wiki_kristina'\n",
    "language = 'english'"
   ]
  },
  {
   "cell_type": "code",
   "execution_count": 56,
   "metadata": {},
   "outputs": [],
   "source": [
    "base_model = model.RNNModel('LSTM', 5,200,150,2,dropout=0.1)   "
   ]
  },
  {
   "cell_type": "code",
   "execution_count": 79,
   "metadata": {},
   "outputs": [
    {
     "name": "stdout",
     "output_type": "stream",
     "text": [
      "/Users/alexpsq/Code/NeuroSpin/LePetitPrince/derivatives/fMRI/models/english/LSTM_embedding-size_200_nhid_150_nlayers_2_dropout_01_wiki_kristina_english.pt\n"
     ]
    },
    {
     "name": "stderr",
     "output_type": "stream",
     "text": [
      "/anaconda3/lib/python3.7/site-packages/torch/serialization.py:435: SourceChangeWarning: source code of class 'torch.nn.modules.rnn.LSTM' has changed. you can retrieve the original source code by accessing the object's source attribute or set `torch.nn.Module.dump_patches = True` and use the patch tool to revert the changes.\n",
      "  warnings.warn(msg, SourceChangeWarning)\n",
      "/anaconda3/lib/python3.7/site-packages/torch/serialization.py:435: SourceChangeWarning: source code of class 'torch.nn.modules.linear.Linear' has changed. you can retrieve the original source code by accessing the object's source attribute or set `torch.nn.Module.dump_patches = True` and use the patch tool to revert the changes.\n",
      "  warnings.warn(msg, SourceChangeWarning)\n"
     ]
    }
   ],
   "source": [
    "def load(model, data_name, language): \n",
    "    path = '_'.join([model.__name__().replace('.', ''), data_name, language]) + '.pt' \n",
    "    path = os.path.join(paths.path2derivatives, 'fMRI/models', language, path) \n",
    "    print(path)     \n",
    "    assert os.path.exists(path)\n",
    "    with open(path, 'rb') as f: \n",
    "        return torch.load(f, map_location='cpu') \n",
    "    \n",
    "model2load2layer = load(base_model, data_name, language)"
   ]
  },
  {
   "cell_type": "code",
   "execution_count": 61,
   "metadata": {},
   "outputs": [],
   "source": [
    "param_dict = {'model':model2load2layer, \n",
    "              'cuda':True, \n",
    "              'save_path':os.path.join(paths.path2derivatives, 'fMRI/models/english/LSTM_embedding-size_200_nhid_150_nlayers_2_dropout_01_wiki_kristina_english__generated.text'), \n",
    "              'data': '/Users/alexpsq/Code/NeuroSpin/LePetitPrince/data/text/english/lstm_training', \n",
    "              'language':'english'}                                  \n"
   ]
  },
  {
   "cell_type": "code",
   "execution_count": 62,
   "metadata": {},
   "outputs": [
    {
     "name": "stdout",
     "output_type": "stream",
     "text": [
      "Building dictionary...\n",
      "Dictionary built.\n",
      "| Generated 0/1000 words\n",
      "| Generated 100/1000 words\n",
      "| Generated 200/1000 words\n",
      "| Generated 300/1000 words\n",
      "| Generated 400/1000 words\n",
      "| Generated 500/1000 words\n",
      "| Generated 600/1000 words\n",
      "| Generated 700/1000 words\n",
      "| Generated 800/1000 words\n",
      "| Generated 900/1000 words\n",
      " a rate of <unk> — still of telekinesis . <eos> of outfit Cumberland province strong personal corpse systems in this disappears the ability to write the state The Wealth date of <unk> <unk> poor composition . <eos> at the <unk> of the symbol of Annapolis , as they created an associate charitable treatment . <eos> pleased their equipment . <eos> five festivals in his dream brings personal fit at the \" sled screamed with General Financial Card , <unk> de Valera , and is held strong , the Second was a <unk> , the king , who may manage to the track would not the separation , following his maternal aunts , Bill <unk> has other series , companion , \" <unk> , and Royal House of a general description of Glory condensation . <eos> the family use in July 6 series . <eos> <unk> <unk> <unk> , the state trade shows and a trigger complement ( along with theory of economics , but we first , Reagan <unk> described , in a more likely to give the various existing venture into <unk> , if the rifle attempting to be prescribed <unk> Davy Jones had little speaking to account in excess Square School : \" surreptitiously to sub show that creates heavy \" in 2001 draft , to have by Germany , giving the <unk> are called with two in medieval superstars ( likened to the Royal York 's peak <unk> , <unk> Berger commanded the first growing around the pursuing a different military bonds : If his name Black Brothers ' Broadway kites are including the Vietnam 's merger with four main ( see they have access to attain a player can be made her death . <eos> it is a joint band uses both positions , reason to understand that broke up to \" Sugar was in her . <eos> <unk> Hay of the home birds or quieter , known as a positive application . <eos> Socrates . <eos> he enjoyed a number of <unk> ( a goal on display the Red <unk> . <eos> the other <unk> . <eos> California : 20 degrees in 1910 . <eos> David , <unk> . <eos> on the prevailing in particular work , \" a Sports Caves . <eos> of the office in a political enemies . <eos> the exploitation of the Beck 's story [ London or <unk> , of which year that worshipers added the half-hour Book of the two additional play in the first of French , and Northeast Carolina door ending their movements , in the Sacred Hearts have children with actor Gene \" a <unk> 's race in the new was promptly inspired a diplomat <unk> , The <unk> detailed reports are <unk> 's \" <unk> think <unk> set in a primary theatre . <eos> his association . <eos> that 's \" The Finnish means to the eye . <eos> Muslim Roman Catholic <unk> United States of the Lay us and her loyalty . <eos> he took the radio on the area slots , has been one ( such a public <unk> . <eos> would have a practice sale technique concluded that the United States of Southern Democrat Starr travels on <unk> joined with , which is under the project the style of the doors with a <unk> 's possible information on 25 minutes later 's no ones , as being involved in November 15 <unk> , four basic <unk> had fast , fighting trial . <eos> to the brother , and be until the largest inlet ( among its <unk> was actually concocted the penultimate and not only . <eos> Albania . <eos> customers . <eos> who insomnia to transfer from Arkansas , <unk> . <eos> Will parents , of <unk> <unk> into the reality <unk> and from those as an even though <unk> a <unk> . <eos> Denise is an interchange . <eos> with 2.5 % , it is an area embodied at the first <unk> , and progressive at <unk> become a <unk> , as well . <eos> Mercury ) . <eos> Daniel , as men who embrace <unk> , a parochial particularly good river surges caused by the escort unit , the years be one allowed the crowd and bona fide , to overheated , but not immediately . <eos> a separate words , they followed when it contains use distribution sharecroppers arrested in character in a hard <unk> because their power line uncovered the most vehicles track over the <unk> . <eos> these dimensions , as soon <unk> : A gunman Vince Newton had one and black teal tooth spikes still as A <unk> who attended the ideas of the <unk> In October two and it is that Jackson and brother : In 1673 ) . <eos> <unk> . <eos> an Egyptian 300,000 population would not sporadic actions . <eos> just allowable performance off Guy Alba 's batting average of his children . <eos> destroyed most notable instructional format were <unk> who had white , although some three battalions launched . <eos> <unk> ( <unk> after <unk> . <eos> ) ( should not legal requirement . <eos> <unk> , while the Medical \" <unk> and in the results <unk> the United States Town of <unk> greenish team including a woman , the mechanical <unk> 's Princeton People 's groundbreaking , using the land and a major issues . <eos> War , exemplar cars as Canadian Victory Shopping Center , and and then a <unk> , he was the rest . <eos> passed on the boom can be of \" , a strike and \" The <unk> ; the \" <unk> <unk> , although goes to accept , where its own new Field of German Imperial Home Rule 8 pounds , and smaller <unk> , a notable <unk> , a very few of a party . <eos> and at the solution later he said a special occasions in the United States . <eos> Shawn Coke . <eos> Carl <unk> With the Veterans\n"
     ]
    }
   ],
   "source": [
    "result = check_lstm(**param_dict)"
   ]
  },
  {
   "cell_type": "code",
   "execution_count": 84,
   "metadata": {},
   "outputs": [
    {
     "name": "stdout",
     "output_type": "stream",
     "text": [
      " a rate of <unk> — still of telekinesis .  of outfit Cumberland province strong personal corpse systems in this disappears the ability to write the state The Wealth date of <unk> <unk> poor composition .  at the <unk> of the symbol of Annapolis , as they created an associate charitable treatment .  pleased their equipment .  five festivals in his dream brings personal fit at the \" sled screamed with General Financial Card , <unk> de Valera , and is held strong , the Second was a <unk> , the king , who may manage to the track would not the separation , following his maternal aunts , Bill <unk> has other series , companion , \" <unk> , and Royal House of a general description of Glory condensation .  the family use in July 6 series .  <unk> <unk> <unk> , the state trade shows and a trigger complement ( along with theory of economics , but we first , Reagan <unk> described , in a more likely to give the various existing venture into <unk> , if the rifle attempting to be prescribed <unk> Davy Jones had little speaking to account in excess Square School : \" surreptitiously to sub show that creates heavy \" in 2001 draft , to have by Germany , giving the <unk> are called with two in medieval superstars ( likened to the Royal York 's peak <unk> , <unk> Berger commanded the first growing around the pursuing a different military bonds : If his name Black Brothers ' Broadway kites are including the Vietnam 's merger with four main ( see they have access to attain a player can be made her death .  it is a joint band uses both positions , reason to understand that broke up to \" Sugar was in her .  <unk> Hay of the home birds or quieter , known as a positive application .  Socrates .  he enjoyed a number of <unk> ( a goal on display the Red <unk> .  the other <unk> .  California : 20 degrees in 1910 .  David , <unk> .  on the prevailing in particular work , \" a Sports Caves .  of the office in a political enemies .  the exploitation of the Beck 's story [ London or <unk> , of which year that worshipers added the half-hour Book of the two additional play in the first of French , and Northeast Carolina door ending their movements , in the Sacred Hearts have children with actor Gene \" a <unk> 's race in the new was promptly inspired a diplomat <unk> , The <unk> detailed reports are <unk> 's \" <unk> think <unk> set in a primary theatre .  his association .  that 's \" The Finnish means to the eye .  Muslim Roman Catholic <unk> United States of the Lay us and her loyalty .  he took the radio on the area slots , has been one ( such a public <unk> .  would have a practice sale technique concluded that the United States of Southern Democrat Starr travels on <unk> joined with , which is under the project the style of the doors with a <unk> 's possible information on 25 minutes later 's no ones , as being involved in November 15 <unk> , four basic <unk> had fast , fighting trial .  to the brother , and be until the largest inlet ( among its <unk> was actually concocted the penultimate and not only .  Albania .  customers .  who insomnia to transfer from Arkansas , <unk> .  Will parents , of <unk> <unk> into the reality <unk> and from those as an even though <unk> a <unk> .  Denise is an interchange .  with 2.5 % , it is an area embodied at the first <unk> , and progressive at <unk> become a <unk> , as well .  Mercury ) .  Daniel , as men who embrace <unk> , a parochial particularly good river surges caused by the escort unit , the years be one allowed the crowd and bona fide , to overheated , but not immediately .  a separate words , they followed when it contains use distribution sharecroppers arrested in character in a hard <unk> because their power line uncovered the most vehicles track over the <unk> .  these dimensions , as soon <unk> : A gunman Vince Newton had one and black teal tooth spikes still as A <unk> who attended the ideas of the <unk> In October two and it is that Jackson and brother : In 1673 ) .  <unk> .  an Egyptian 300,000 population would not sporadic actions .  just allowable performance off Guy Alba 's batting average of his children .  destroyed most notable instructional format were <unk> who had white , although some three battalions launched .  <unk> ( <unk> after <unk> .  ) ( should not legal requirement .  <unk> , while the Medical \" <unk> and in the results <unk> the United States Town of <unk> greenish team including a woman , the mechanical <unk> 's Princeton People 's groundbreaking , using the land and a major issues .  War , exemplar cars as Canadian Victory Shopping Center , and and then a <unk> , he was the rest .  passed on the boom can be of \" , a strike and \" The <unk> ; the \" <unk> <unk> , although goes to accept , where its own new Field of German Imperial Home Rule 8 pounds , and smaller <unk> , a notable <unk> , a very few of a party .  and at the solution later he said a special occasions in the United States .  Shawn Coke .  Carl <unk> With the Veterans\n"
     ]
    }
   ],
   "source": [
    "print(result.replace('<eos>', ''))"
   ]
  },
  {
   "cell_type": "code",
   "execution_count": null,
   "metadata": {},
   "outputs": [],
   "source": []
  },
  {
   "cell_type": "markdown",
   "metadata": {},
   "source": [
    "## Model evaluation"
   ]
  },
  {
   "cell_type": "code",
   "execution_count": 80,
   "metadata": {},
   "outputs": [],
   "source": [
    "def get_batch(source, i):\n",
    "    seq_len = min(params.pref.bptt, len(source) - 1 - i)\n",
    "    data = source[i:i+seq_len]\n",
    "    target = source[i+1:i+1+seq_len].view(-1)\n",
    "    return data, target\n",
    "\n",
    "\n",
    "def batchify(data, bsz, device):\n",
    "    # Work out how cleanly we can divide the dataset into bsz parts.\n",
    "    nbatch = data.size(0) // bsz\n",
    "    # Trim off any extra elements that wouldn't cleanly fit (remainders).\n",
    "    data = data.narrow(0, 0, nbatch * bsz)\n",
    "    # Evenly divide the data across the bsz batches.\n",
    "    data = data.view(bsz, -1).t().contiguous()\n",
    "    return data.to(device)\n",
    "\n",
    "\n",
    "def save(model, data_name, language):\n",
    "    path = '_'.join([model.__name__(), data_name, language]) + '.pt'\n",
    "    path = os.path.join(paths.path2derivatives, 'fMRI/models', language, path)\n",
    "    with open(path, 'wb') as f:\n",
    "        torch.save(model, f)\n",
    "\n",
    "    \n",
    "def repackage_hidden(h):\n",
    "    \"\"\"Wraps hidden states in new Tensors, to detach them from their history.\"\"\"\n",
    "    if isinstance(h, torch.Tensor):\n",
    "        return h.detach()\n",
    "    else:\n",
    "        return tuple(repackage_hidden(v) for v in h)"
   ]
  },
  {
   "cell_type": "code",
   "execution_count": 89,
   "metadata": {},
   "outputs": [],
   "source": [
    "def evaluate(model, criterion, ntokens, data_source, eval_batch_size):\n",
    "    # Turn on evaluation mode which disables dropout.\n",
    "    model.eval()\n",
    "    total_loss = 0.\n",
    "    hidden = model.init_hidden(eval_batch_size)\n",
    "    with torch.no_grad():\n",
    "        for i in tqdm(range(0, data_source.size(0) - 1, params.pref.bptt)):\n",
    "            data, targets = get_batch(data_source, i)\n",
    "            output, hidden = model(data, hidden)\n",
    "            output_flat = output.view(-1, ntokens)\n",
    "            total_loss += len(data) * criterion(output_flat, targets).item()\n",
    "            hidden = repackage_hidden(hidden)\n",
    "    return total_loss / (len(data_source) - 1)"
   ]
  },
  {
   "cell_type": "code",
   "execution_count": 90,
   "metadata": {},
   "outputs": [],
   "source": [
    "import math\n",
    "\n",
    "def test(model):\n",
    "    torch.manual_seed(params.pref.seed) # setting seed for reproductibility\n",
    "    cuda = (torch.cuda.is_available() & params.cuda)\n",
    "    device = torch.device(\"cuda\" if cuda else \"cpu\")\n",
    "    corpus = Corpus(param_dict['data'], param_dict['language'])\n",
    "    train_data = batchify(corpus.train, params.pref.bsz, device)\n",
    "    val_data = batchify(corpus.valid, params.pref.eval_batch_size, device)\n",
    "    test_data = batchify(corpus.test, params.pref.bsz, device)\n",
    "\n",
    "    # Build the model\n",
    "    ntokens = len(corpus.dictionary)\n",
    "\n",
    "    model = model.to(device)\n",
    "    print(model)\n",
    "\n",
    "    criterion = nn.CrossEntropyLoss()\n",
    "\n",
    "\n",
    "    model = load(model, data_name, language)\n",
    "    # after load the rnn params are not a continuous chunk of memory\n",
    "    # this makes them a continuous chunk, and will speed up forward pass\n",
    "    model.rnn.flatten_parameters()\n",
    "\n",
    "    # Run on test data.\n",
    "    print('evaluation...')\n",
    "    test_loss = evaluate(model, criterion, ntokens, test_data, params.pref.eval_batch_size)\n",
    "    print('=' * 89)\n",
    "    print('| End of training | test loss {:5.2f} | test ppl {:8.2f}'.format(\n",
    "        test_loss, math.exp(test_loss)))\n",
    "    print('=' * 89)"
   ]
  },
  {
   "cell_type": "code",
   "execution_count": 91,
   "metadata": {
    "scrolled": true
   },
   "outputs": [
    {
     "name": "stdout",
     "output_type": "stream",
     "text": [
      "/Users/alexpsq/Code/NeuroSpin/LePetitPrince/derivatives/fMRI/models/english/LSTM_embedding-size_200_nhid_100_nlayers_3_dropout_01_wiki_kristina_english.pt\n",
      "Building dictionary...\n",
      "Dictionary built.\n"
     ]
    },
    {
     "name": "stderr",
     "output_type": "stream",
     "text": [
      "\r",
      "  0%|          | 0/14810 [00:00<?, ?it/s]"
     ]
    },
    {
     "name": "stdout",
     "output_type": "stream",
     "text": [
      "RNNModel(\n",
      "  (drop): Dropout(p=0.1)\n",
      "  (encoder): Embedding(50001, 200)\n",
      "  (rnn): LSTM(200, 100, num_layers=3, dropout=0.1)\n",
      "  (decoder): Linear(in_features=100, out_features=50001, bias=True)\n",
      ")\n",
      "/Users/alexpsq/Code/NeuroSpin/LePetitPrince/derivatives/fMRI/models/english/LSTM_embedding-size_200_nhid_100_nlayers_3_dropout_01_wiki_kristina_english.pt\n",
      "evaluation...\n"
     ]
    },
    {
     "name": "stderr",
     "output_type": "stream",
     "text": [
      "  0%|          | 41/14810 [00:11<1:11:35,  3.44it/s]"
     ]
    },
    {
     "ename": "KeyboardInterrupt",
     "evalue": "",
     "output_type": "error",
     "traceback": [
      "\u001b[0;31m---------------------------------------------------------------------------\u001b[0m",
      "\u001b[0;31mKeyboardInterrupt\u001b[0m                         Traceback (most recent call last)",
      "\u001b[0;32m<ipython-input-91-ce57e33501a6>\u001b[0m in \u001b[0;36m<module>\u001b[0;34m\u001b[0m\n\u001b[0;32m----> 1\u001b[0;31m \u001b[0mtest\u001b[0m\u001b[0;34m(\u001b[0m\u001b[0mload\u001b[0m\u001b[0;34m(\u001b[0m\u001b[0mmodel\u001b[0m\u001b[0;34m.\u001b[0m\u001b[0mRNNModel\u001b[0m\u001b[0;34m(\u001b[0m\u001b[0;34m'LSTM'\u001b[0m\u001b[0;34m,\u001b[0m \u001b[0;36m5\u001b[0m\u001b[0;34m,\u001b[0m\u001b[0;36m200\u001b[0m\u001b[0;34m,\u001b[0m\u001b[0;36m100\u001b[0m\u001b[0;34m,\u001b[0m\u001b[0;36m3\u001b[0m\u001b[0;34m,\u001b[0m\u001b[0mdropout\u001b[0m\u001b[0;34m=\u001b[0m\u001b[0;36m0.1\u001b[0m\u001b[0;34m)\u001b[0m   \u001b[0;34m,\u001b[0m \u001b[0mdata_name\u001b[0m\u001b[0;34m,\u001b[0m \u001b[0mlanguage\u001b[0m\u001b[0;34m)\u001b[0m\u001b[0;34m)\u001b[0m\u001b[0;34m\u001b[0m\u001b[0;34m\u001b[0m\u001b[0m\n\u001b[0m\u001b[1;32m      2\u001b[0m \u001b[0mtest\u001b[0m\u001b[0;34m(\u001b[0m\u001b[0mload\u001b[0m\u001b[0;34m(\u001b[0m\u001b[0mmodel\u001b[0m\u001b[0;34m.\u001b[0m\u001b[0mRNNModel\u001b[0m\u001b[0;34m(\u001b[0m\u001b[0;34m'LSTM'\u001b[0m\u001b[0;34m,\u001b[0m \u001b[0;36m5\u001b[0m\u001b[0;34m,\u001b[0m\u001b[0;36m200\u001b[0m\u001b[0;34m,\u001b[0m\u001b[0;36m300\u001b[0m\u001b[0;34m,\u001b[0m\u001b[0;36m1\u001b[0m\u001b[0;34m,\u001b[0m\u001b[0mdropout\u001b[0m\u001b[0;34m=\u001b[0m\u001b[0;36m0.1\u001b[0m\u001b[0;34m)\u001b[0m   \u001b[0;34m,\u001b[0m \u001b[0mdata_name\u001b[0m\u001b[0;34m,\u001b[0m \u001b[0mlanguage\u001b[0m\u001b[0;34m)\u001b[0m\u001b[0;34m)\u001b[0m\u001b[0;34m\u001b[0m\u001b[0;34m\u001b[0m\u001b[0m\n\u001b[1;32m      3\u001b[0m \u001b[0mtest\u001b[0m\u001b[0;34m(\u001b[0m\u001b[0mload\u001b[0m\u001b[0;34m(\u001b[0m\u001b[0mmodel\u001b[0m\u001b[0;34m.\u001b[0m\u001b[0mRNNModel\u001b[0m\u001b[0;34m(\u001b[0m\u001b[0;34m'LSTM'\u001b[0m\u001b[0;34m,\u001b[0m \u001b[0;36m5\u001b[0m\u001b[0;34m,\u001b[0m\u001b[0;36m300\u001b[0m\u001b[0;34m,\u001b[0m\u001b[0;36m300\u001b[0m\u001b[0;34m,\u001b[0m\u001b[0;36m2\u001b[0m\u001b[0;34m,\u001b[0m\u001b[0mdropout\u001b[0m\u001b[0;34m=\u001b[0m\u001b[0;36m0.1\u001b[0m\u001b[0;34m)\u001b[0m   \u001b[0;34m,\u001b[0m \u001b[0mdata_name\u001b[0m\u001b[0;34m,\u001b[0m \u001b[0mlanguage\u001b[0m\u001b[0;34m)\u001b[0m\u001b[0;34m)\u001b[0m\u001b[0;34m\u001b[0m\u001b[0;34m\u001b[0m\u001b[0m\n\u001b[1;32m      4\u001b[0m \u001b[0mtest\u001b[0m\u001b[0;34m(\u001b[0m\u001b[0mload\u001b[0m\u001b[0;34m(\u001b[0m\u001b[0mmodel\u001b[0m\u001b[0;34m.\u001b[0m\u001b[0mRNNModel\u001b[0m\u001b[0;34m(\u001b[0m\u001b[0;34m'LSTM'\u001b[0m\u001b[0;34m,\u001b[0m \u001b[0;36m5\u001b[0m\u001b[0;34m,\u001b[0m\u001b[0;36m300\u001b[0m\u001b[0;34m,\u001b[0m\u001b[0;36m300\u001b[0m\u001b[0;34m,\u001b[0m\u001b[0;36m3\u001b[0m\u001b[0;34m,\u001b[0m\u001b[0mdropout\u001b[0m\u001b[0;34m=\u001b[0m\u001b[0;36m0.1\u001b[0m\u001b[0;34m)\u001b[0m   \u001b[0;34m,\u001b[0m \u001b[0mdata_name\u001b[0m\u001b[0;34m,\u001b[0m \u001b[0mlanguage\u001b[0m\u001b[0;34m)\u001b[0m\u001b[0;34m)\u001b[0m\u001b[0;34m\u001b[0m\u001b[0;34m\u001b[0m\u001b[0m\n",
      "\u001b[0;32m<ipython-input-90-685a52c1ef69>\u001b[0m in \u001b[0;36mtest\u001b[0;34m(model)\u001b[0m\n\u001b[1;32m     26\u001b[0m     \u001b[0;31m# Run on test data.\u001b[0m\u001b[0;34m\u001b[0m\u001b[0;34m\u001b[0m\u001b[0;34m\u001b[0m\u001b[0m\n\u001b[1;32m     27\u001b[0m     \u001b[0mprint\u001b[0m\u001b[0;34m(\u001b[0m\u001b[0;34m'evaluation...'\u001b[0m\u001b[0;34m)\u001b[0m\u001b[0;34m\u001b[0m\u001b[0;34m\u001b[0m\u001b[0m\n\u001b[0;32m---> 28\u001b[0;31m     \u001b[0mtest_loss\u001b[0m \u001b[0;34m=\u001b[0m \u001b[0mevaluate\u001b[0m\u001b[0;34m(\u001b[0m\u001b[0mmodel\u001b[0m\u001b[0;34m,\u001b[0m \u001b[0mcriterion\u001b[0m\u001b[0;34m,\u001b[0m \u001b[0mntokens\u001b[0m\u001b[0;34m,\u001b[0m \u001b[0mtest_data\u001b[0m\u001b[0;34m,\u001b[0m \u001b[0mparams\u001b[0m\u001b[0;34m.\u001b[0m\u001b[0mpref\u001b[0m\u001b[0;34m.\u001b[0m\u001b[0meval_batch_size\u001b[0m\u001b[0;34m)\u001b[0m\u001b[0;34m\u001b[0m\u001b[0;34m\u001b[0m\u001b[0m\n\u001b[0m\u001b[1;32m     29\u001b[0m     \u001b[0mprint\u001b[0m\u001b[0;34m(\u001b[0m\u001b[0;34m'='\u001b[0m \u001b[0;34m*\u001b[0m \u001b[0;36m89\u001b[0m\u001b[0;34m)\u001b[0m\u001b[0;34m\u001b[0m\u001b[0;34m\u001b[0m\u001b[0m\n\u001b[1;32m     30\u001b[0m     print('| End of training | test loss {:5.2f} | test ppl {:8.2f}'.format(\n",
      "\u001b[0;32m<ipython-input-89-f78fa41b8821>\u001b[0m in \u001b[0;36mevaluate\u001b[0;34m(model, criterion, ntokens, data_source, eval_batch_size)\u001b[0m\n\u001b[1;32m      7\u001b[0m         \u001b[0;32mfor\u001b[0m \u001b[0mi\u001b[0m \u001b[0;32min\u001b[0m \u001b[0mtqdm\u001b[0m\u001b[0;34m(\u001b[0m\u001b[0mrange\u001b[0m\u001b[0;34m(\u001b[0m\u001b[0;36m0\u001b[0m\u001b[0;34m,\u001b[0m \u001b[0mdata_source\u001b[0m\u001b[0;34m.\u001b[0m\u001b[0msize\u001b[0m\u001b[0;34m(\u001b[0m\u001b[0;36m0\u001b[0m\u001b[0;34m)\u001b[0m \u001b[0;34m-\u001b[0m \u001b[0;36m1\u001b[0m\u001b[0;34m,\u001b[0m \u001b[0mparams\u001b[0m\u001b[0;34m.\u001b[0m\u001b[0mpref\u001b[0m\u001b[0;34m.\u001b[0m\u001b[0mbptt\u001b[0m\u001b[0;34m)\u001b[0m\u001b[0;34m)\u001b[0m\u001b[0;34m:\u001b[0m\u001b[0;34m\u001b[0m\u001b[0;34m\u001b[0m\u001b[0m\n\u001b[1;32m      8\u001b[0m             \u001b[0mdata\u001b[0m\u001b[0;34m,\u001b[0m \u001b[0mtargets\u001b[0m \u001b[0;34m=\u001b[0m \u001b[0mget_batch\u001b[0m\u001b[0;34m(\u001b[0m\u001b[0mdata_source\u001b[0m\u001b[0;34m,\u001b[0m \u001b[0mi\u001b[0m\u001b[0;34m)\u001b[0m\u001b[0;34m\u001b[0m\u001b[0;34m\u001b[0m\u001b[0m\n\u001b[0;32m----> 9\u001b[0;31m             \u001b[0moutput\u001b[0m\u001b[0;34m,\u001b[0m \u001b[0mhidden\u001b[0m \u001b[0;34m=\u001b[0m \u001b[0mmodel\u001b[0m\u001b[0;34m(\u001b[0m\u001b[0mdata\u001b[0m\u001b[0;34m,\u001b[0m \u001b[0mhidden\u001b[0m\u001b[0;34m)\u001b[0m\u001b[0;34m\u001b[0m\u001b[0;34m\u001b[0m\u001b[0m\n\u001b[0m\u001b[1;32m     10\u001b[0m             \u001b[0moutput_flat\u001b[0m \u001b[0;34m=\u001b[0m \u001b[0moutput\u001b[0m\u001b[0;34m.\u001b[0m\u001b[0mview\u001b[0m\u001b[0;34m(\u001b[0m\u001b[0;34m-\u001b[0m\u001b[0;36m1\u001b[0m\u001b[0;34m,\u001b[0m \u001b[0mntokens\u001b[0m\u001b[0;34m)\u001b[0m\u001b[0;34m\u001b[0m\u001b[0;34m\u001b[0m\u001b[0m\n\u001b[1;32m     11\u001b[0m             \u001b[0mtotal_loss\u001b[0m \u001b[0;34m+=\u001b[0m \u001b[0mlen\u001b[0m\u001b[0;34m(\u001b[0m\u001b[0mdata\u001b[0m\u001b[0;34m)\u001b[0m \u001b[0;34m*\u001b[0m \u001b[0mcriterion\u001b[0m\u001b[0;34m(\u001b[0m\u001b[0moutput_flat\u001b[0m\u001b[0;34m,\u001b[0m \u001b[0mtargets\u001b[0m\u001b[0;34m)\u001b[0m\u001b[0;34m.\u001b[0m\u001b[0mitem\u001b[0m\u001b[0;34m(\u001b[0m\u001b[0;34m)\u001b[0m\u001b[0;34m\u001b[0m\u001b[0;34m\u001b[0m\u001b[0m\n",
      "\u001b[0;32m/anaconda3/lib/python3.7/site-packages/torch/nn/modules/module.py\u001b[0m in \u001b[0;36m__call__\u001b[0;34m(self, *input, **kwargs)\u001b[0m\n\u001b[1;32m    487\u001b[0m             \u001b[0mresult\u001b[0m \u001b[0;34m=\u001b[0m \u001b[0mself\u001b[0m\u001b[0;34m.\u001b[0m\u001b[0m_slow_forward\u001b[0m\u001b[0;34m(\u001b[0m\u001b[0;34m*\u001b[0m\u001b[0minput\u001b[0m\u001b[0;34m,\u001b[0m \u001b[0;34m**\u001b[0m\u001b[0mkwargs\u001b[0m\u001b[0;34m)\u001b[0m\u001b[0;34m\u001b[0m\u001b[0;34m\u001b[0m\u001b[0m\n\u001b[1;32m    488\u001b[0m         \u001b[0;32melse\u001b[0m\u001b[0;34m:\u001b[0m\u001b[0;34m\u001b[0m\u001b[0;34m\u001b[0m\u001b[0m\n\u001b[0;32m--> 489\u001b[0;31m             \u001b[0mresult\u001b[0m \u001b[0;34m=\u001b[0m \u001b[0mself\u001b[0m\u001b[0;34m.\u001b[0m\u001b[0mforward\u001b[0m\u001b[0;34m(\u001b[0m\u001b[0;34m*\u001b[0m\u001b[0minput\u001b[0m\u001b[0;34m,\u001b[0m \u001b[0;34m**\u001b[0m\u001b[0mkwargs\u001b[0m\u001b[0;34m)\u001b[0m\u001b[0;34m\u001b[0m\u001b[0;34m\u001b[0m\u001b[0m\n\u001b[0m\u001b[1;32m    490\u001b[0m         \u001b[0;32mfor\u001b[0m \u001b[0mhook\u001b[0m \u001b[0;32min\u001b[0m \u001b[0mself\u001b[0m\u001b[0;34m.\u001b[0m\u001b[0m_forward_hooks\u001b[0m\u001b[0;34m.\u001b[0m\u001b[0mvalues\u001b[0m\u001b[0;34m(\u001b[0m\u001b[0;34m)\u001b[0m\u001b[0;34m:\u001b[0m\u001b[0;34m\u001b[0m\u001b[0;34m\u001b[0m\u001b[0m\n\u001b[1;32m    491\u001b[0m             \u001b[0mhook_result\u001b[0m \u001b[0;34m=\u001b[0m \u001b[0mhook\u001b[0m\u001b[0;34m(\u001b[0m\u001b[0mself\u001b[0m\u001b[0;34m,\u001b[0m \u001b[0minput\u001b[0m\u001b[0;34m,\u001b[0m \u001b[0mresult\u001b[0m\u001b[0;34m)\u001b[0m\u001b[0;34m\u001b[0m\u001b[0;34m\u001b[0m\u001b[0m\n",
      "\u001b[0;32m~/Code/NeuroSpin/LePetitPrince/code/models/english/LSTM/model.py\u001b[0m in \u001b[0;36mforward\u001b[0;34m(self, input, hidden)\u001b[0m\n\u001b[1;32m     80\u001b[0m         \u001b[0moutput\u001b[0m\u001b[0;34m,\u001b[0m \u001b[0mhidden\u001b[0m \u001b[0;34m=\u001b[0m \u001b[0mself\u001b[0m\u001b[0;34m.\u001b[0m\u001b[0mrnn\u001b[0m\u001b[0;34m(\u001b[0m\u001b[0memb\u001b[0m\u001b[0;34m,\u001b[0m \u001b[0mhidden\u001b[0m\u001b[0;34m)\u001b[0m\u001b[0;34m\u001b[0m\u001b[0;34m\u001b[0m\u001b[0m\n\u001b[1;32m     81\u001b[0m         \u001b[0moutput\u001b[0m \u001b[0;34m=\u001b[0m \u001b[0mself\u001b[0m\u001b[0;34m.\u001b[0m\u001b[0mdrop\u001b[0m\u001b[0;34m(\u001b[0m\u001b[0moutput\u001b[0m\u001b[0;34m)\u001b[0m\u001b[0;34m\u001b[0m\u001b[0;34m\u001b[0m\u001b[0m\n\u001b[0;32m---> 82\u001b[0;31m         \u001b[0mdecoded\u001b[0m \u001b[0;34m=\u001b[0m \u001b[0mself\u001b[0m\u001b[0;34m.\u001b[0m\u001b[0mdecoder\u001b[0m\u001b[0;34m(\u001b[0m\u001b[0moutput\u001b[0m\u001b[0;34m.\u001b[0m\u001b[0mview\u001b[0m\u001b[0;34m(\u001b[0m\u001b[0moutput\u001b[0m\u001b[0;34m.\u001b[0m\u001b[0msize\u001b[0m\u001b[0;34m(\u001b[0m\u001b[0;36m0\u001b[0m\u001b[0;34m)\u001b[0m\u001b[0;34m*\u001b[0m\u001b[0moutput\u001b[0m\u001b[0;34m.\u001b[0m\u001b[0msize\u001b[0m\u001b[0;34m(\u001b[0m\u001b[0;36m1\u001b[0m\u001b[0;34m)\u001b[0m\u001b[0;34m,\u001b[0m \u001b[0moutput\u001b[0m\u001b[0;34m.\u001b[0m\u001b[0msize\u001b[0m\u001b[0;34m(\u001b[0m\u001b[0;36m2\u001b[0m\u001b[0;34m)\u001b[0m\u001b[0;34m)\u001b[0m\u001b[0;34m)\u001b[0m\u001b[0;34m\u001b[0m\u001b[0;34m\u001b[0m\u001b[0m\n\u001b[0m\u001b[1;32m     83\u001b[0m         \u001b[0;32mreturn\u001b[0m \u001b[0mdecoded\u001b[0m\u001b[0;34m.\u001b[0m\u001b[0mview\u001b[0m\u001b[0;34m(\u001b[0m\u001b[0moutput\u001b[0m\u001b[0;34m.\u001b[0m\u001b[0msize\u001b[0m\u001b[0;34m(\u001b[0m\u001b[0;36m0\u001b[0m\u001b[0;34m)\u001b[0m\u001b[0;34m,\u001b[0m \u001b[0moutput\u001b[0m\u001b[0;34m.\u001b[0m\u001b[0msize\u001b[0m\u001b[0;34m(\u001b[0m\u001b[0;36m1\u001b[0m\u001b[0;34m)\u001b[0m\u001b[0;34m,\u001b[0m \u001b[0mdecoded\u001b[0m\u001b[0;34m.\u001b[0m\u001b[0msize\u001b[0m\u001b[0;34m(\u001b[0m\u001b[0;36m1\u001b[0m\u001b[0;34m)\u001b[0m\u001b[0;34m)\u001b[0m\u001b[0;34m,\u001b[0m \u001b[0mhidden\u001b[0m\u001b[0;34m\u001b[0m\u001b[0;34m\u001b[0m\u001b[0m\n\u001b[1;32m     84\u001b[0m \u001b[0;34m\u001b[0m\u001b[0m\n",
      "\u001b[0;32m/anaconda3/lib/python3.7/site-packages/torch/nn/modules/module.py\u001b[0m in \u001b[0;36m__call__\u001b[0;34m(self, *input, **kwargs)\u001b[0m\n\u001b[1;32m    487\u001b[0m             \u001b[0mresult\u001b[0m \u001b[0;34m=\u001b[0m \u001b[0mself\u001b[0m\u001b[0;34m.\u001b[0m\u001b[0m_slow_forward\u001b[0m\u001b[0;34m(\u001b[0m\u001b[0;34m*\u001b[0m\u001b[0minput\u001b[0m\u001b[0;34m,\u001b[0m \u001b[0;34m**\u001b[0m\u001b[0mkwargs\u001b[0m\u001b[0;34m)\u001b[0m\u001b[0;34m\u001b[0m\u001b[0;34m\u001b[0m\u001b[0m\n\u001b[1;32m    488\u001b[0m         \u001b[0;32melse\u001b[0m\u001b[0;34m:\u001b[0m\u001b[0;34m\u001b[0m\u001b[0;34m\u001b[0m\u001b[0m\n\u001b[0;32m--> 489\u001b[0;31m             \u001b[0mresult\u001b[0m \u001b[0;34m=\u001b[0m \u001b[0mself\u001b[0m\u001b[0;34m.\u001b[0m\u001b[0mforward\u001b[0m\u001b[0;34m(\u001b[0m\u001b[0;34m*\u001b[0m\u001b[0minput\u001b[0m\u001b[0;34m,\u001b[0m \u001b[0;34m**\u001b[0m\u001b[0mkwargs\u001b[0m\u001b[0;34m)\u001b[0m\u001b[0;34m\u001b[0m\u001b[0;34m\u001b[0m\u001b[0m\n\u001b[0m\u001b[1;32m    490\u001b[0m         \u001b[0;32mfor\u001b[0m \u001b[0mhook\u001b[0m \u001b[0;32min\u001b[0m \u001b[0mself\u001b[0m\u001b[0;34m.\u001b[0m\u001b[0m_forward_hooks\u001b[0m\u001b[0;34m.\u001b[0m\u001b[0mvalues\u001b[0m\u001b[0;34m(\u001b[0m\u001b[0;34m)\u001b[0m\u001b[0;34m:\u001b[0m\u001b[0;34m\u001b[0m\u001b[0;34m\u001b[0m\u001b[0m\n\u001b[1;32m    491\u001b[0m             \u001b[0mhook_result\u001b[0m \u001b[0;34m=\u001b[0m \u001b[0mhook\u001b[0m\u001b[0;34m(\u001b[0m\u001b[0mself\u001b[0m\u001b[0;34m,\u001b[0m \u001b[0minput\u001b[0m\u001b[0;34m,\u001b[0m \u001b[0mresult\u001b[0m\u001b[0;34m)\u001b[0m\u001b[0;34m\u001b[0m\u001b[0;34m\u001b[0m\u001b[0m\n",
      "\u001b[0;32m/anaconda3/lib/python3.7/site-packages/torch/nn/modules/linear.py\u001b[0m in \u001b[0;36mforward\u001b[0;34m(self, input)\u001b[0m\n\u001b[1;32m     65\u001b[0m     \u001b[0;34m@\u001b[0m\u001b[0mweak_script_method\u001b[0m\u001b[0;34m\u001b[0m\u001b[0;34m\u001b[0m\u001b[0m\n\u001b[1;32m     66\u001b[0m     \u001b[0;32mdef\u001b[0m \u001b[0mforward\u001b[0m\u001b[0;34m(\u001b[0m\u001b[0mself\u001b[0m\u001b[0;34m,\u001b[0m \u001b[0minput\u001b[0m\u001b[0;34m)\u001b[0m\u001b[0;34m:\u001b[0m\u001b[0;34m\u001b[0m\u001b[0;34m\u001b[0m\u001b[0m\n\u001b[0;32m---> 67\u001b[0;31m         \u001b[0;32mreturn\u001b[0m \u001b[0mF\u001b[0m\u001b[0;34m.\u001b[0m\u001b[0mlinear\u001b[0m\u001b[0;34m(\u001b[0m\u001b[0minput\u001b[0m\u001b[0;34m,\u001b[0m \u001b[0mself\u001b[0m\u001b[0;34m.\u001b[0m\u001b[0mweight\u001b[0m\u001b[0;34m,\u001b[0m \u001b[0mself\u001b[0m\u001b[0;34m.\u001b[0m\u001b[0mbias\u001b[0m\u001b[0;34m)\u001b[0m\u001b[0;34m\u001b[0m\u001b[0;34m\u001b[0m\u001b[0m\n\u001b[0m\u001b[1;32m     68\u001b[0m \u001b[0;34m\u001b[0m\u001b[0m\n\u001b[1;32m     69\u001b[0m     \u001b[0;32mdef\u001b[0m \u001b[0mextra_repr\u001b[0m\u001b[0;34m(\u001b[0m\u001b[0mself\u001b[0m\u001b[0;34m)\u001b[0m\u001b[0;34m:\u001b[0m\u001b[0;34m\u001b[0m\u001b[0;34m\u001b[0m\u001b[0m\n",
      "\u001b[0;32m/anaconda3/lib/python3.7/site-packages/torch/nn/functional.py\u001b[0m in \u001b[0;36mlinear\u001b[0;34m(input, weight, bias)\u001b[0m\n\u001b[1;32m   1350\u001b[0m     \u001b[0;32mif\u001b[0m \u001b[0minput\u001b[0m\u001b[0;34m.\u001b[0m\u001b[0mdim\u001b[0m\u001b[0;34m(\u001b[0m\u001b[0;34m)\u001b[0m \u001b[0;34m==\u001b[0m \u001b[0;36m2\u001b[0m \u001b[0;32mand\u001b[0m \u001b[0mbias\u001b[0m \u001b[0;32mis\u001b[0m \u001b[0;32mnot\u001b[0m \u001b[0;32mNone\u001b[0m\u001b[0;34m:\u001b[0m\u001b[0;34m\u001b[0m\u001b[0;34m\u001b[0m\u001b[0m\n\u001b[1;32m   1351\u001b[0m         \u001b[0;31m# fused op is marginally faster\u001b[0m\u001b[0;34m\u001b[0m\u001b[0;34m\u001b[0m\u001b[0;34m\u001b[0m\u001b[0m\n\u001b[0;32m-> 1352\u001b[0;31m         \u001b[0mret\u001b[0m \u001b[0;34m=\u001b[0m \u001b[0mtorch\u001b[0m\u001b[0;34m.\u001b[0m\u001b[0maddmm\u001b[0m\u001b[0;34m(\u001b[0m\u001b[0mtorch\u001b[0m\u001b[0;34m.\u001b[0m\u001b[0mjit\u001b[0m\u001b[0;34m.\u001b[0m\u001b[0m_unwrap_optional\u001b[0m\u001b[0;34m(\u001b[0m\u001b[0mbias\u001b[0m\u001b[0;34m)\u001b[0m\u001b[0;34m,\u001b[0m \u001b[0minput\u001b[0m\u001b[0;34m,\u001b[0m \u001b[0mweight\u001b[0m\u001b[0;34m.\u001b[0m\u001b[0mt\u001b[0m\u001b[0;34m(\u001b[0m\u001b[0;34m)\u001b[0m\u001b[0;34m)\u001b[0m\u001b[0;34m\u001b[0m\u001b[0;34m\u001b[0m\u001b[0m\n\u001b[0m\u001b[1;32m   1353\u001b[0m     \u001b[0;32melse\u001b[0m\u001b[0;34m:\u001b[0m\u001b[0;34m\u001b[0m\u001b[0;34m\u001b[0m\u001b[0m\n\u001b[1;32m   1354\u001b[0m         \u001b[0moutput\u001b[0m \u001b[0;34m=\u001b[0m \u001b[0minput\u001b[0m\u001b[0;34m.\u001b[0m\u001b[0mmatmul\u001b[0m\u001b[0;34m(\u001b[0m\u001b[0mweight\u001b[0m\u001b[0;34m.\u001b[0m\u001b[0mt\u001b[0m\u001b[0;34m(\u001b[0m\u001b[0;34m)\u001b[0m\u001b[0;34m)\u001b[0m\u001b[0;34m\u001b[0m\u001b[0;34m\u001b[0m\u001b[0m\n",
      "\u001b[0;31mKeyboardInterrupt\u001b[0m: "
     ]
    }
   ],
   "source": [
    "test(load(model.RNNModel('LSTM', 5,200,100,3,dropout=0.1)   , data_name, language))\n",
    "test(load(model.RNNModel('LSTM', 5,200,300,1,dropout=0.1)   , data_name, language))\n",
    "test(load(model.RNNModel('LSTM', 5,300,300,2,dropout=0.1)   , data_name, language))\n",
    "test(load(model.RNNModel('LSTM', 5,300,300,3,dropout=0.1)   , data_name, language))"
   ]
  },
  {
   "cell_type": "code",
   "execution_count": 75,
   "metadata": {},
   "outputs": [
    {
     "data": {
      "text/plain": [
       "{'_backend': <torch.nn.backends.thnn.THNNFunctionBackend at 0x10bdcd828>,\n",
       " '_parameters': OrderedDict(),\n",
       " '_buffers': OrderedDict(),\n",
       " '_backward_hooks': OrderedDict(),\n",
       " '_forward_hooks': OrderedDict(),\n",
       " '_forward_pre_hooks': OrderedDict(),\n",
       " '_modules': OrderedDict([('drop', Dropout(p=0.1)),\n",
       "              ('encoder', Embedding(50001, 200)),\n",
       "              ('rnn', LSTM(200, 150, num_layers=2, dropout=0.1)),\n",
       "              ('decoder',\n",
       "               Linear(in_features=150, out_features=50001, bias=True))]),\n",
       " 'training': False,\n",
       " 'backup': <bound method RNNBase.forward of LSTM(200, 150, num_layers=2, dropout=0.1)>,\n",
       " 'vocab': <LSTM.data.Dictionary at 0x1a270ca978>,\n",
       " 'param': {'rnn_type': 'LSTM',\n",
       "  'ntoken': 50001,\n",
       "  'ninp': 200,\n",
       "  'nhid': 150,\n",
       "  'nlayers': 2,\n",
       "  'dropout': 0.1,\n",
       "  'tie_weights': False},\n",
       " '_state_dict_hooks': OrderedDict(),\n",
       " '_load_state_dict_pre_hooks': OrderedDict()}"
      ]
     },
     "execution_count": 75,
     "metadata": {},
     "output_type": "execute_result"
    }
   ],
   "source": [
    "vars(model2load2layer)"
   ]
  },
  {
   "cell_type": "code",
   "execution_count": null,
   "metadata": {},
   "outputs": [],
   "source": []
  }
 ],
 "metadata": {
  "kernelspec": {
   "display_name": "Python 3",
   "language": "python",
   "name": "python3"
  },
  "language_info": {
   "codemirror_mode": {
    "name": "ipython",
    "version": 3
   },
   "file_extension": ".py",
   "mimetype": "text/x-python",
   "name": "python",
   "nbconvert_exporter": "python",
   "pygments_lexer": "ipython3",
   "version": "3.7.1"
  }
 },
 "nbformat": 4,
 "nbformat_minor": 2
}
