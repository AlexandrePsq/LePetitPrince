{
 "cells": [
  {
   "cell_type": "code",
   "execution_count": 1,
   "metadata": {},
   "outputs": [],
   "source": [
    "from models.english.LSTM import model\n",
    "from utilities.settings import Params, Paths\n",
    "import torch.nn as nn"
   ]
  },
  {
   "cell_type": "code",
   "execution_count": 2,
   "metadata": {},
   "outputs": [],
   "source": [
    "paths = Paths()\n",
    "params = Params()"
   ]
  },
  {
   "cell_type": "code",
   "execution_count": 3,
   "metadata": {},
   "outputs": [],
   "source": [
    "paths.path2root =  '/Users/alexpsq/Code/NeuroSpin/LePetitPrince'\n",
    "paths.path2data =  '/Users/alexpsq/Code/NeuroSpin/LePetitPrince/data'\n",
    "paths.path2derivatives =  '/Users/alexpsq/Code/NeuroSpin/LePetitPrince/derivatives'\n",
    "paths.path2code =  '/Users/alexpsq/Code/NeuroSpin/LePetitPrince/code'\n",
    "paths.path2paradigm =  '/Users/alexpsq/Code/NeuroSpin/LePetitPrince/paradigm'\n",
    "paths.path2oldstuff =  '/Users/alexpsq/Code/NeuroSpin/LePetitPrince/oldstuff'\n",
    "paths.path2test =  '/Users/alexpsq/Code/NeuroSpin/LePetitPrince/oldstuff/test'"
   ]
  },
  {
   "cell_type": "code",
   "execution_count": 4,
   "metadata": {},
   "outputs": [
    {
     "data": {
      "text/plain": [
       "{'path2root': '/Users/alexpsq/Code/NeuroSpin/LePetitPrince',\n",
       " 'path2data': '/Users/alexpsq/Code/NeuroSpin/LePetitPrince/data',\n",
       " 'path2derivatives': '/Users/alexpsq/Code/NeuroSpin/LePetitPrince/derivatives',\n",
       " 'path2code': '/Users/alexpsq/Code/NeuroSpin/LePetitPrince/code',\n",
       " 'path2paradigm': '/Users/alexpsq/Code/NeuroSpin/LePetitPrince/paradigm',\n",
       " 'path2oldstuff': '/Users/alexpsq/Code/NeuroSpin/LePetitPrince/oldstuff',\n",
       " 'path2test': '/Users/alexpsq/Code/NeuroSpin/LePetitPrince/oldstuff/test'}"
      ]
     },
     "execution_count": 4,
     "metadata": {},
     "output_type": "execute_result"
    }
   ],
   "source": [
    "vars(paths)"
   ]
  },
  {
   "cell_type": "markdown",
   "metadata": {},
   "source": [
    "## Dictionary and Corpus"
   ]
  },
  {
   "cell_type": "code",
   "execution_count": 5,
   "metadata": {},
   "outputs": [],
   "source": [
    "import os\n",
    "import torch\n",
    "from collections import defaultdict\n",
    "import logging\n",
    "from tqdm import tqdm\n",
    "\n",
    "class Dictionary(object):\n",
    "    def __init__(self, path, language):\n",
    "        self.word2idx = {}\n",
    "        self.idx2word = []\n",
    "        self.language = language\n",
    "        self.word2freq = defaultdict(int)\n",
    "\n",
    "        vocab_path = os.path.join(path, 'vocab.txt')\n",
    "        try:\n",
    "            vocab = open(vocab_path, encoding=\"utf8\").read()\n",
    "            self.word2idx = {w: i for i, w in enumerate(vocab.split())}\n",
    "            self.idx2word = [w for w in vocab.split()]\n",
    "            self.vocab_file_exists = True\n",
    "        except FileNotFoundError:\n",
    "            logging.info(\"Vocab file not found, creating new vocab file.\")\n",
    "            self.create_vocab(os.path.join(path, 'train.txt'))\n",
    "            open(vocab_path,\"w\").write(\"\\n\".join([w for w in self.idx2word]))\n",
    "\n",
    "\n",
    "    def add_word(self, word):\n",
    "        self.word2freq[word] += 1\n",
    "        if word not in self.word2idx:\n",
    "            self.idx2word.append(word)\n",
    "            self.word2idx[word] = len(self.idx2word) - 1\n",
    "\n",
    "\n",
    "    def __len__(self):\n",
    "        return len(self.idx2word)\n",
    "\n",
    "\n",
    "    def create_vocab(self, path):\n",
    "        iterator = tokenize(path, self.language, train=True)\n",
    "        for item in tqdm(iterator):\n",
    "            self.add_word(item)\n",
    "        self.add_word('<unk>')\n",
    "\n",
    "\n",
    "\n",
    "class Corpus(object):\n",
    "    def __init__(self, path, language):\n",
    "        print('Building dictionary...')\n",
    "        self.dictionary = Dictionary(path, language)\n",
    "        print('Dictionary built.')\n",
    "        train_path = os.path.join(path, 'train.txt')\n",
    "        valid_path = os.path.join(path, 'valid.txt')\n",
    "        test_path = os.path.join(path, 'test.txt')\n",
    "        train_tensor = os.path.join(path, 'train.pkl')\n",
    "        valid_tensor = os.path.join(path, 'valid.pkl')\n",
    "        test_tensor = os.path.join(path, 'test.pkl')\n",
    "        try:\n",
    "            with open(train_tensor, 'rb') as f:\n",
    "                self.train = torch.load(f)\n",
    "            with open(valid_tensor, 'rb') as f:\n",
    "                self.valid = torch.load(f)\n",
    "            with open(test_tensor, 'rb') as f:\n",
    "                self.test = torch.load(f)\n",
    "\n",
    "        except FileNotFoundError:\n",
    "            logging.info(\"Tensor files not found, creating new tensor files.\")\n",
    "            print('Computing train tensor...')\n",
    "            self.train = create_tokenized_tensor(tokenize(train_path, language, self.dictionary, train=True), self.dictionary)\n",
    "            print('Train tensor computed.')\n",
    "            print('Computing valid tensor...')\n",
    "            self.valid = create_tokenized_tensor(tokenize(valid_path, language, self.dictionary, train=True), self.dictionary)\n",
    "            print('Valid tensor computed.')\n",
    "            print('Computing test tensor...')\n",
    "            self.test = create_tokenized_tensor(tokenize(test_path, language, self.dictionary, train=True), self.dictionary)\n",
    "            print('Test tensor computed.')\n",
    "\n",
    "            with open(train_tensor, 'wb') as f:\n",
    "                torch.save(self.train, f)\n",
    "            with open(valid_tensor, 'wb') as f:\n",
    "                torch.save(self.valid, f)\n",
    "            with open(test_tensor, 'wb') as f:\n",
    "                torch.save(self.test, f)\n",
    "        \n",
    "\n",
    "\n",
    "\n",
    "def create_tokenized_tensor(iterator, dictionary):\n",
    "    \"\"\"Create tensor of embeddings from word iterator.\"\"\"\n",
    "    tensor = torch.LongTensor(len(iterator))\n",
    "    token = 0\n",
    "    for item in tqdm(iterator):\n",
    "        tensor[token] = dictionary.word2idx[item] if item in dictionary.word2idx else dictionary.word2idx['<unk>']\n",
    "        token += 1\n",
    "    return tensor"
   ]
  },
  {
   "cell_type": "markdown",
   "metadata": {},
   "source": [
    "## Tokenizer"
   ]
  },
  {
   "cell_type": "code",
   "execution_count": 6,
   "metadata": {},
   "outputs": [],
   "source": [
    "from nltk.tokenize import sent_tokenize \n",
    "from nltk.tokenize import word_tokenize\n",
    "import os\n",
    "import re\n",
    "import inflect\n",
    "from tqdm import tqdm\n",
    "\n",
    "\n",
    "special_words = {\n",
    "    'english': {\n",
    "        'grown-ups': 'grownups',\n",
    "        'grown-up': 'grownup',\n",
    "        'hasn\\'t': 'hasnt',\n",
    "        'hasn‘t': 'hasnt'\n",
    "    },\n",
    "    'french': {\n",
    "\n",
    "    }\n",
    "}\n",
    "\n",
    "\n",
    "def tokenize(path, language, vocab=None, path_like=True, train=False):\n",
    "    print('Tokenizing...')\n",
    "    if path_like:\n",
    "        print(path)\n",
    "        assert os.path.exists(path)\n",
    "        path = open(path, 'r', encoding='utf8').read()\n",
    "\n",
    "    if not train:\n",
    "        print('Preprocessing...')\n",
    "        text = preprocess(path, special_words, language)\n",
    "        print('Preprocessed.')\n",
    "    else:\n",
    "        text = path\n",
    "    # iterator = [unk_transform(item, vocab).lower() for item in text.split()]\n",
    "    iterator = [unk_transform(item, vocab) for item in tqdm(text.split())] # vocab words not lowered\n",
    "    print('Tokenized.')\n",
    "    return iterator\n",
    "\n",
    "\n",
    "def unk_transform(word, vocab=None):\n",
    "    if word == 'unk':\n",
    "        return '<unk>'\n",
    "    elif not vocab:\n",
    "        return word\n",
    "    elif word in vocab.idx2word:\n",
    "        return word\n",
    "    else:\n",
    "        return '<unk>'\n",
    "\n",
    "\n",
    "def preprocess(text, special_words, language):\n",
    "    text = text.replace('\\n', '')\n",
    "    text = text.replace('<unk>', 'unk')\n",
    "    for word in special_words[language].keys():\n",
    "        text = text.replace(word, special_words[language][word])\n",
    "    transf = inflect.engine()\n",
    "    numbers = re.findall('\\d+', text)\n",
    "    for number in numbers:\n",
    "        text = text.replace(number, transf.number_to_words(number))\n",
    "    punctuation = ['.', '\\'', ',', ';', ':', '!', '?', '/', '-', '\"', '‘', '’', '(', ')', '{', '}', '[', ']', '`', '“', '”', '—']\n",
    "    for item in punctuation:\n",
    "        text = text.replace(item, ' '+ item + ' ')\n",
    "    text = text.replace('.  .  .', '...')\n",
    "    ### tokenize without punctuation ###\n",
    "    # for item in punctuation:\n",
    "    #     text = text.replace(item, ' ')\n",
    "    ### tokenize with punctuation ###\n",
    "    # ### tokenize thanks to usual tools for text without strange characters ###\n",
    "    # tokenized = sent_tokenize(text, language=language)\n",
    "    # tokenized = [word_tokenize(sentence, language=language) + ['<eos>'] for sentence in tokenized]\n",
    "    # iterator = [unk_transform(item, vocab).lower() for sublist in tokenized for item in sublist]\n",
    "    return text"
   ]
  },
  {
   "cell_type": "code",
   "execution_count": null,
   "metadata": {},
   "outputs": [],
   "source": []
  },
  {
   "cell_type": "code",
   "execution_count": null,
   "metadata": {},
   "outputs": [],
   "source": []
  },
  {
   "cell_type": "markdown",
   "metadata": {},
   "source": [
    "## Model analysis - Generation"
   ]
  },
  {
   "cell_type": "code",
   "execution_count": null,
   "metadata": {},
   "outputs": [],
   "source": []
  },
  {
   "cell_type": "code",
   "execution_count": 7,
   "metadata": {},
   "outputs": [],
   "source": [
    "def generate(model, input, hidden, temperature, corpus, log_interval):\n",
    "    output, hidden = model(input, hidden) \n",
    "    word_weights = output.squeeze().div(temperature).exp().cpu() \n",
    "    word_idx = torch.multinomial(word_weights, 1)[0] \n",
    "    input.fill_(word_idx) \n",
    "    word = corpus.dictionary.idx2word[word_idx]\n",
    "    return(word, input)\n"
   ]
  },
  {
   "cell_type": "code",
   "execution_count": 8,
   "metadata": {},
   "outputs": [],
   "source": [
    "def check_lstm(model, data, save_path, language, words2generate=1000, temperature=1.0, log_interval=100, saving=False,cuda=False, seed=1111): \n",
    "    torch.manual_seed(seed) \n",
    "    if torch.cuda.is_available(): \n",
    "        if not cuda: \n",
    "            print(\"WARNING: You have a CUDA device, so you should probably run with --cuda\") \n",
    "\n",
    "    device = torch.device(\"cuda\" if (cuda & torch.cuda.is_available()) else \"cpu\") \n",
    "\n",
    "    model.eval()\n",
    "\n",
    "    result = ''\n",
    "    corpus = Corpus(data, language) \n",
    "    ntokens = len(corpus.dictionary) \n",
    "    hidden = model.init_hidden(1) \n",
    "    input = torch.randint(ntokens, (1,1), dtype=torch.long).to(device)\n",
    "    with torch.no_grad(): # no tracking history\n",
    "        word, input = generate(model, input, hidden, temperature, corpus, log_interval)\n",
    "        with open(save_path, 'w') as outf: \n",
    "        \n",
    "            for i in range(words2generate):\n",
    "                word, input = generate(model, input, hidden, temperature, corpus, log_interval)\n",
    "                result += ' ' + str(word)\n",
    "                if saving:\n",
    "                    outf.write(word + ('\\n' if i % 20 == 19 else ' '))\n",
    "                if i % log_interval == 0: \n",
    "                    print('| Generated {}/{} words'.format(i, words2generate))\n",
    "    print(result)\n",
    "    return result"
   ]
  },
  {
   "cell_type": "code",
   "execution_count": 9,
   "metadata": {},
   "outputs": [],
   "source": [
    "data_name = 'wiki_kristina'\n",
    "language = 'english'"
   ]
  },
  {
   "cell_type": "code",
   "execution_count": 48,
   "metadata": {},
   "outputs": [],
   "source": [
    "base_model = model.RNNModel('LSTM', 5,200,100,3,dropout=0.1)   "
   ]
  },
  {
   "cell_type": "code",
   "execution_count": 49,
   "metadata": {},
   "outputs": [
    {
     "name": "stdout",
     "output_type": "stream",
     "text": [
      "/Users/alexpsq/Code/NeuroSpin/LePetitPrince/derivatives/fMRI/models/english/LSTM_embedding-size_200_nhid_100_nlayers_3_dropout_01_wiki_kristina_english.pt\n"
     ]
    },
    {
     "name": "stderr",
     "output_type": "stream",
     "text": [
      "/anaconda3/lib/python3.7/site-packages/torch/serialization.py:435: SourceChangeWarning: source code of class 'LSTM.model.RNNModel' has changed. you can retrieve the original source code by accessing the object's source attribute or set `torch.nn.Module.dump_patches = True` and use the patch tool to revert the changes.\n",
      "  warnings.warn(msg, SourceChangeWarning)\n",
      "/anaconda3/lib/python3.7/site-packages/torch/serialization.py:435: SourceChangeWarning: source code of class 'torch.nn.modules.dropout.Dropout' has changed. you can retrieve the original source code by accessing the object's source attribute or set `torch.nn.Module.dump_patches = True` and use the patch tool to revert the changes.\n",
      "  warnings.warn(msg, SourceChangeWarning)\n",
      "/anaconda3/lib/python3.7/site-packages/torch/serialization.py:435: SourceChangeWarning: source code of class 'torch.nn.modules.sparse.Embedding' has changed. you can retrieve the original source code by accessing the object's source attribute or set `torch.nn.Module.dump_patches = True` and use the patch tool to revert the changes.\n",
      "  warnings.warn(msg, SourceChangeWarning)\n",
      "/anaconda3/lib/python3.7/site-packages/torch/serialization.py:435: SourceChangeWarning: source code of class 'torch.nn.modules.rnn.LSTM' has changed. you can retrieve the original source code by accessing the object's source attribute or set `torch.nn.Module.dump_patches = True` and use the patch tool to revert the changes.\n",
      "  warnings.warn(msg, SourceChangeWarning)\n",
      "/anaconda3/lib/python3.7/site-packages/torch/serialization.py:435: SourceChangeWarning: source code of class 'torch.nn.modules.linear.Linear' has changed. you can retrieve the original source code by accessing the object's source attribute or set `torch.nn.Module.dump_patches = True` and use the patch tool to revert the changes.\n",
      "  warnings.warn(msg, SourceChangeWarning)\n"
     ]
    }
   ],
   "source": [
    "def load(model, data_name, language): \n",
    "    path = '_'.join([model.__name__().replace('.', ''), data_name, language]) + '.pt' \n",
    "    path = os.path.join(paths.path2derivatives, 'fMRI/models', language, path) \n",
    "    print(path)     \n",
    "    assert os.path.exists(path)\n",
    "    with open(path, 'rb') as f: \n",
    "        return torch.load(f, map_location='cpu') \n",
    "    \n",
    "model2load2layer = load(base_model, data_name, language)"
   ]
  },
  {
   "cell_type": "code",
   "execution_count": 50,
   "metadata": {},
   "outputs": [
    {
     "data": {
      "text/plain": [
       "RNNModel(\n",
       "  (drop): Dropout(p=0.1)\n",
       "  (encoder): Embedding(50001, 200)\n",
       "  (rnn): LSTM(200, 100, num_layers=3, dropout=0.1)\n",
       "  (decoder): Linear(in_features=100, out_features=50001, bias=True)\n",
       ")"
      ]
     },
     "execution_count": 50,
     "metadata": {},
     "output_type": "execute_result"
    }
   ],
   "source": [
    "model2load2layer"
   ]
  },
  {
   "cell_type": "code",
   "execution_count": 57,
   "metadata": {
    "scrolled": false
   },
   "outputs": [
    {
     "data": {
      "text/plain": [
       "torch.Size([400, 100])"
      ]
     },
     "execution_count": 57,
     "metadata": {},
     "output_type": "execute_result"
    }
   ],
   "source": [
    "model2load2layer.rnn.all_weights[1][0].shape"
   ]
  },
  {
   "cell_type": "code",
   "execution_count": 56,
   "metadata": {
    "scrolled": false
   },
   "outputs": [
    {
     "data": {
      "text/plain": [
       "torch.Size([400, 100])"
      ]
     },
     "execution_count": 56,
     "metadata": {},
     "output_type": "execute_result"
    }
   ],
   "source": [
    "model2load2layer.rnn.all_weights[2][0].shape"
   ]
  },
  {
   "cell_type": "code",
   "execution_count": 47,
   "metadata": {},
   "outputs": [
    {
     "ename": "ModuleNotFoundError",
     "evalue": "No module named 'model'",
     "output_type": "error",
     "traceback": [
      "\u001b[0;31m---------------------------------------------------------------------------\u001b[0m",
      "\u001b[0;31mModuleNotFoundError\u001b[0m                       Traceback (most recent call last)",
      "\u001b[0;32m<ipython-input-47-c1e8cfa21d4f>\u001b[0m in \u001b[0;36m<module>\u001b[0;34m\u001b[0m\n\u001b[1;32m      1\u001b[0m \u001b[0mmodelFB\u001b[0m \u001b[0;34m=\u001b[0m \u001b[0mopen\u001b[0m\u001b[0;34m(\u001b[0m\u001b[0;34m'/Users/alexpsq/Code/NeuroSpin/LePetitPrince/derivatives/fMRI/models/english/hidden650_batch128_dropout0.2_lr20.0.pt'\u001b[0m\u001b[0;34m,\u001b[0m \u001b[0;34m'rb'\u001b[0m\u001b[0;34m)\u001b[0m\u001b[0;34m\u001b[0m\u001b[0;34m\u001b[0m\u001b[0m\n\u001b[1;32m      2\u001b[0m \u001b[0;34m\u001b[0m\u001b[0m\n\u001b[0;32m----> 3\u001b[0;31m \u001b[0mfb_model\u001b[0m \u001b[0;34m=\u001b[0m \u001b[0mtorch\u001b[0m\u001b[0;34m.\u001b[0m\u001b[0mload\u001b[0m\u001b[0;34m(\u001b[0m\u001b[0mmodelFB\u001b[0m\u001b[0;34m,\u001b[0m \u001b[0mmap_location\u001b[0m\u001b[0;34m=\u001b[0m\u001b[0;34m'cpu'\u001b[0m\u001b[0;34m)\u001b[0m\u001b[0;34m\u001b[0m\u001b[0;34m\u001b[0m\u001b[0m\n\u001b[0m",
      "\u001b[0;32m/anaconda3/lib/python3.7/site-packages/torch/serialization.py\u001b[0m in \u001b[0;36mload\u001b[0;34m(f, map_location, pickle_module)\u001b[0m\n\u001b[1;32m    366\u001b[0m         \u001b[0mf\u001b[0m \u001b[0;34m=\u001b[0m \u001b[0mopen\u001b[0m\u001b[0;34m(\u001b[0m\u001b[0mf\u001b[0m\u001b[0;34m,\u001b[0m \u001b[0;34m'rb'\u001b[0m\u001b[0;34m)\u001b[0m\u001b[0;34m\u001b[0m\u001b[0;34m\u001b[0m\u001b[0m\n\u001b[1;32m    367\u001b[0m     \u001b[0;32mtry\u001b[0m\u001b[0;34m:\u001b[0m\u001b[0;34m\u001b[0m\u001b[0;34m\u001b[0m\u001b[0m\n\u001b[0;32m--> 368\u001b[0;31m         \u001b[0;32mreturn\u001b[0m \u001b[0m_load\u001b[0m\u001b[0;34m(\u001b[0m\u001b[0mf\u001b[0m\u001b[0;34m,\u001b[0m \u001b[0mmap_location\u001b[0m\u001b[0;34m,\u001b[0m \u001b[0mpickle_module\u001b[0m\u001b[0;34m)\u001b[0m\u001b[0;34m\u001b[0m\u001b[0;34m\u001b[0m\u001b[0m\n\u001b[0m\u001b[1;32m    369\u001b[0m     \u001b[0;32mfinally\u001b[0m\u001b[0;34m:\u001b[0m\u001b[0;34m\u001b[0m\u001b[0;34m\u001b[0m\u001b[0m\n\u001b[1;32m    370\u001b[0m         \u001b[0;32mif\u001b[0m \u001b[0mnew_fd\u001b[0m\u001b[0;34m:\u001b[0m\u001b[0;34m\u001b[0m\u001b[0;34m\u001b[0m\u001b[0m\n",
      "\u001b[0;32m/anaconda3/lib/python3.7/site-packages/torch/serialization.py\u001b[0m in \u001b[0;36m_load\u001b[0;34m(f, map_location, pickle_module)\u001b[0m\n\u001b[1;32m    540\u001b[0m     \u001b[0munpickler\u001b[0m \u001b[0;34m=\u001b[0m \u001b[0mpickle_module\u001b[0m\u001b[0;34m.\u001b[0m\u001b[0mUnpickler\u001b[0m\u001b[0;34m(\u001b[0m\u001b[0mf\u001b[0m\u001b[0;34m)\u001b[0m\u001b[0;34m\u001b[0m\u001b[0;34m\u001b[0m\u001b[0m\n\u001b[1;32m    541\u001b[0m     \u001b[0munpickler\u001b[0m\u001b[0;34m.\u001b[0m\u001b[0mpersistent_load\u001b[0m \u001b[0;34m=\u001b[0m \u001b[0mpersistent_load\u001b[0m\u001b[0;34m\u001b[0m\u001b[0;34m\u001b[0m\u001b[0m\n\u001b[0;32m--> 542\u001b[0;31m     \u001b[0mresult\u001b[0m \u001b[0;34m=\u001b[0m \u001b[0munpickler\u001b[0m\u001b[0;34m.\u001b[0m\u001b[0mload\u001b[0m\u001b[0;34m(\u001b[0m\u001b[0;34m)\u001b[0m\u001b[0;34m\u001b[0m\u001b[0;34m\u001b[0m\u001b[0m\n\u001b[0m\u001b[1;32m    543\u001b[0m \u001b[0;34m\u001b[0m\u001b[0m\n\u001b[1;32m    544\u001b[0m     \u001b[0mdeserialized_storage_keys\u001b[0m \u001b[0;34m=\u001b[0m \u001b[0mpickle_module\u001b[0m\u001b[0;34m.\u001b[0m\u001b[0mload\u001b[0m\u001b[0;34m(\u001b[0m\u001b[0mf\u001b[0m\u001b[0;34m)\u001b[0m\u001b[0;34m\u001b[0m\u001b[0;34m\u001b[0m\u001b[0m\n",
      "\u001b[0;31mModuleNotFoundError\u001b[0m: No module named 'model'"
     ]
    }
   ],
   "source": [
    "modelFB = open('/Users/alexpsq/Code/NeuroSpin/LePetitPrince/derivatives/fMRI/models/english/hidden650_batch128_dropout0.2_lr20.0.pt', 'rb')\n",
    "\n",
    "fb_model = torch.load(modelFB, map_location='cpu')"
   ]
  },
  {
   "cell_type": "code",
   "execution_count": 32,
   "metadata": {},
   "outputs": [],
   "source": [
    "param_dict = {'model':fb_model, \n",
    "              'cuda':True, \n",
    "              'save_path':os.path.join(paths.path2derivatives, 'fMRI/models/english/LSTM_embedding-size_200_nhid_150_nlayers_2_dropout_01_wiki_kristina_english__generated.text'), \n",
    "              'data': '/Users/alexpsq/Code/NeuroSpin/LePetitPrince/data/text/english/lstm_training', \n",
    "              'language':'english'}                                  \n"
   ]
  },
  {
   "cell_type": "code",
   "execution_count": null,
   "metadata": {},
   "outputs": [],
   "source": []
  },
  {
   "cell_type": "code",
   "execution_count": 33,
   "metadata": {},
   "outputs": [
    {
     "name": "stdout",
     "output_type": "stream",
     "text": [
      "Building dictionary...\n",
      "Dictionary built.\n",
      "| Generated 0/1000 words\n",
      "| Generated 100/1000 words\n",
      "| Generated 200/1000 words\n",
      "| Generated 300/1000 words\n",
      "| Generated 400/1000 words\n",
      "| Generated 500/1000 words\n",
      "| Generated 600/1000 words\n",
      "| Generated 700/1000 words\n",
      "| Generated 800/1000 words\n",
      "| Generated 900/1000 words\n",
      " a departure from <unk> 2002 's main exponents of the original Jasmine Hey Ram Cage to enable him . <eos> Toulon : \" Anthony Dolphin , and then sampled metal masks that white clump <unk> became a temporary ( the question . <eos> <unk> trailers , that killed are perhaps causing spontaneous <unk> and <unk> candidates from eight years after being closed to take various Shu Han Solo <unk> . <eos> Green Hornet \" Popular Front Free and later included an <unk> , in addition to the <unk> God , and the <unk> , since the plant process studies at the last some of the corridor , although leaving him Oliver and Hamilton . <eos> a spiritual , putting the economic movement and , itself . <eos> it was promulgated by Members ’ <unk> , and can do not actually studied such as a “ One Heart and the main transportation levels . <eos> sailing crews to contain strong mineral rights agreement . <eos> this number and hunted for it is a series . <eos> \" leagues , an anarchist herbs for home . <eos> the writer Harold <unk> . <eos> as potent water \" Club others . <eos> <unk> Prize winners of the term Highlander , Bangalore in the controversy towards the <unk> which Christopher <unk> that \" <unk> moved the answer . <eos> Michael E. H. P. <unk> Thomas J. P. Philo Vance . <eos> a solar panels in the offer endorsement suited for the secretary – and throne . <eos> the attempt , along with Donald Kraft Music Today 's bombarding Norway is a large clerical waste banks ( from the champion after the Gold <unk> 's history . <eos> <unk> in what is used lifted from the City Manager . <eos> Colorado cities , after 1999 Christian Christianity when one of the firearms . <eos> A , and it cost of the rare skeletons of extreme , after Louis <unk> unit with the alfalfa fungi and its color on the next to help to the presence on campus , limited support for just as a new knowledge of ideas on record label in 1928 . <eos> Turner , <unk> . <eos> the first class . <eos> it is given the desire not included pictures in the route to be reduced time . <eos> the smaller building on the display <unk> ships from 2001 . <eos> a shared area in ever-changing disciplines , commenting that , and the ABC design for the Christian ( 12 and , assuming that bears There were displayed on the <unk> where one of the building sets set to the <unk> 's release in the \" <unk> designations from the Ground Forces , by the Pole <unk> radio . <eos> the ship out of old <unk> . <eos> Carthage . <eos> more important numbers . <eos> \" <unk> of dialogue in order and advance and structure or other times . <eos> <unk> <unk> , Shirley Temple . <eos> many of the pair of the total : On April 1895 , after this form of \" two men . <eos> the streets , and either pull washed back in the redundancy and over 600 houses based upon the inclusion between 1917 . <eos> the highly effective launch on the audiences , From about its own tools in order : Leo Brant 's common <unk> <unk> , in his success would also contributed to the facility in the service \" <unk> out of the powers of the enormous power . <eos> . <eos> \" Blas to every woman , such a bustling in contractual claims of those of the southernmost U.S. English laws and then back Hyundai Beetle or past Mayor and \" <unk> . <eos> government , a palace ( though , H. Gerald over a larger , which was inspired by his \" <unk> he nonetheless , which included in the whole Howard was the former treatment of the 291 % of the world and a deluxe edition of paper . <eos> the most common <unk> and fostered by all night flights the official response to reversion to the original reuse of a list prompted back to the expenses from the <unk> , then followed by the environment , fueling of the same feat , but not considered for me . <eos> other <unk> da Vinci was removed from where Jenkins Principles being based on the 1960s ( a larger research , which archeologists , as both movements or the <unk> . <eos> such individual and <unk> tower . <eos> <unk> Zone reading ( being appointed and some onlookers attracted scholars continued in those with both \" <unk> Long Island . <eos> August 11 of the following the U.S. destroyers , though the latter apocalypse in a number of the <unk> 's courtyard rooms that school . <eos> he was widely believed reincarnation of Smith Ismail ibn Justice Hans von <unk> 's treatment . <eos> thermal lift companies decide to try . <eos> the increase , although some acting like guided by the version of the elaborate methods for the Great Falls Road <unk> who has <unk> and to the space and over the party . <eos> the purchasing land : \" <unk> Group A 's busts of university in which he became friends , supporting conspicuously sitting with small-town <unk> Lake , at the time on the record has been in Moncton also each week closing orders in the National Center of the <unk> , in a better instrument in <unk> along the World War Theodore Stone <unk> to the three small <unk> for their first lesbian , and ) . <eos> even faster than any other common access to be raised in 1994 also much often conceived back , and ambitious and the original magazines and in a team for the third of the River <unk> . <eos> \" Java for up to see and uses the game development . <eos> psychoanalysis to a basic doctrines . <eos> the demon\n"
     ]
    }
   ],
   "source": [
    "result = check_lstm(**param_dict)"
   ]
  },
  {
   "cell_type": "code",
   "execution_count": 34,
   "metadata": {},
   "outputs": [
    {
     "name": "stdout",
     "output_type": "stream",
     "text": [
      " a departure from <unk> 2002 's main exponents of the original Jasmine Hey Ram Cage to enable him .  Toulon : \" Anthony Dolphin , and then sampled metal masks that white clump <unk> became a temporary ( the question .  <unk> trailers , that killed are perhaps causing spontaneous <unk> and <unk> candidates from eight years after being closed to take various Shu Han Solo <unk> .  Green Hornet \" Popular Front Free and later included an <unk> , in addition to the <unk> God , and the <unk> , since the plant process studies at the last some of the corridor , although leaving him Oliver and Hamilton .  a spiritual , putting the economic movement and , itself .  it was promulgated by Members ’ <unk> , and can do not actually studied such as a “ One Heart and the main transportation levels .  sailing crews to contain strong mineral rights agreement .  this number and hunted for it is a series .  \" leagues , an anarchist herbs for home .  the writer Harold <unk> .  as potent water \" Club others .  <unk> Prize winners of the term Highlander , Bangalore in the controversy towards the <unk> which Christopher <unk> that \" <unk> moved the answer .  Michael E. H. P. <unk> Thomas J. P. Philo Vance .  a solar panels in the offer endorsement suited for the secretary – and throne .  the attempt , along with Donald Kraft Music Today 's bombarding Norway is a large clerical waste banks ( from the champion after the Gold <unk> 's history .  <unk> in what is used lifted from the City Manager .  Colorado cities , after 1999 Christian Christianity when one of the firearms .  A , and it cost of the rare skeletons of extreme , after Louis <unk> unit with the alfalfa fungi and its color on the next to help to the presence on campus , limited support for just as a new knowledge of ideas on record label in 1928 .  Turner , <unk> .  the first class .  it is given the desire not included pictures in the route to be reduced time .  the smaller building on the display <unk> ships from 2001 .  a shared area in ever-changing disciplines , commenting that , and the ABC design for the Christian ( 12 and , assuming that bears There were displayed on the <unk> where one of the building sets set to the <unk> 's release in the \" <unk> designations from the Ground Forces , by the Pole <unk> radio .  the ship out of old <unk> .  Carthage .  more important numbers .  \" <unk> of dialogue in order and advance and structure or other times .  <unk> <unk> , Shirley Temple .  many of the pair of the total : On April 1895 , after this form of \" two men .  the streets , and either pull washed back in the redundancy and over 600 houses based upon the inclusion between 1917 .  the highly effective launch on the audiences , From about its own tools in order : Leo Brant 's common <unk> <unk> , in his success would also contributed to the facility in the service \" <unk> out of the powers of the enormous power .  .  \" Blas to every woman , such a bustling in contractual claims of those of the southernmost U.S. English laws and then back Hyundai Beetle or past Mayor and \" <unk> .  government , a palace ( though , H. Gerald over a larger , which was inspired by his \" <unk> he nonetheless , which included in the whole Howard was the former treatment of the 291 % of the world and a deluxe edition of paper .  the most common <unk> and fostered by all night flights the official response to reversion to the original reuse of a list prompted back to the expenses from the <unk> , then followed by the environment , fueling of the same feat , but not considered for me .  other <unk> da Vinci was removed from where Jenkins Principles being based on the 1960s ( a larger research , which archeologists , as both movements or the <unk> .  such individual and <unk> tower .  <unk> Zone reading ( being appointed and some onlookers attracted scholars continued in those with both \" <unk> Long Island .  August 11 of the following the U.S. destroyers , though the latter apocalypse in a number of the <unk> 's courtyard rooms that school .  he was widely believed reincarnation of Smith Ismail ibn Justice Hans von <unk> 's treatment .  thermal lift companies decide to try .  the increase , although some acting like guided by the version of the elaborate methods for the Great Falls Road <unk> who has <unk> and to the space and over the party .  the purchasing land : \" <unk> Group A 's busts of university in which he became friends , supporting conspicuously sitting with small-town <unk> Lake , at the time on the record has been in Moncton also each week closing orders in the National Center of the <unk> , in a better instrument in <unk> along the World War Theodore Stone <unk> to the three small <unk> for their first lesbian , and ) .  even faster than any other common access to be raised in 1994 also much often conceived back , and ambitious and the original magazines and in a team for the third of the River <unk> .  \" Java for up to see and uses the game development .  psychoanalysis to a basic doctrines .  the demon\n"
     ]
    }
   ],
   "source": [
    "print(result.replace('<eos>', ''))"
   ]
  },
  {
   "cell_type": "code",
   "execution_count": null,
   "metadata": {},
   "outputs": [],
   "source": []
  },
  {
   "cell_type": "markdown",
   "metadata": {},
   "source": [
    "## Model evaluation"
   ]
  },
  {
   "cell_type": "code",
   "execution_count": 80,
   "metadata": {},
   "outputs": [],
   "source": [
    "def get_batch(source, i):\n",
    "    seq_len = min(params.pref.bptt, len(source) - 1 - i)\n",
    "    data = source[i:i+seq_len]\n",
    "    target = source[i+1:i+1+seq_len].view(-1)\n",
    "    return data, target\n",
    "\n",
    "\n",
    "def batchify(data, bsz, device):\n",
    "    # Work out how cleanly we can divide the dataset into bsz parts.\n",
    "    nbatch = data.size(0) // bsz\n",
    "    # Trim off any extra elements that wouldn't cleanly fit (remainders).\n",
    "    data = data.narrow(0, 0, nbatch * bsz)\n",
    "    # Evenly divide the data across the bsz batches.\n",
    "    data = data.view(bsz, -1).t().contiguous()\n",
    "    return data.to(device)\n",
    "\n",
    "\n",
    "def save(model, data_name, language):\n",
    "    path = '_'.join([model.__name__(), data_name, language]) + '.pt'\n",
    "    path = os.path.join(paths.path2derivatives, 'fMRI/models', language, path)\n",
    "    with open(path, 'wb') as f:\n",
    "        torch.save(model, f)\n",
    "\n",
    "    \n",
    "def repackage_hidden(h):\n",
    "    \"\"\"Wraps hidden states in new Tensors, to detach them from their history.\"\"\"\n",
    "    if isinstance(h, torch.Tensor):\n",
    "        return h.detach()\n",
    "    else:\n",
    "        return tuple(repackage_hidden(v) for v in h)"
   ]
  },
  {
   "cell_type": "code",
   "execution_count": 89,
   "metadata": {},
   "outputs": [],
   "source": [
    "def evaluate(model, criterion, ntokens, data_source, eval_batch_size):\n",
    "    # Turn on evaluation mode which disables dropout.\n",
    "    model.eval()\n",
    "    total_loss = 0.\n",
    "    hidden = model.init_hidden(eval_batch_size)\n",
    "    with torch.no_grad():\n",
    "        for i in tqdm(range(0, data_source.size(0) - 1, params.pref.bptt)):\n",
    "            data, targets = get_batch(data_source, i)\n",
    "            output, hidden = model(data, hidden)\n",
    "            output_flat = output.view(-1, ntokens)\n",
    "            total_loss += len(data) * criterion(output_flat, targets).item()\n",
    "            hidden = repackage_hidden(hidden)\n",
    "    return total_loss / (len(data_source) - 1)"
   ]
  },
  {
   "cell_type": "code",
   "execution_count": 90,
   "metadata": {},
   "outputs": [],
   "source": [
    "import math\n",
    "\n",
    "def test(model):\n",
    "    torch.manual_seed(params.pref.seed) # setting seed for reproductibility\n",
    "    cuda = (torch.cuda.is_available() & params.cuda)\n",
    "    device = torch.device(\"cuda\" if cuda else \"cpu\")\n",
    "    corpus = Corpus(param_dict['data'], param_dict['language'])\n",
    "    train_data = batchify(corpus.train, params.pref.bsz, device)\n",
    "    val_data = batchify(corpus.valid, params.pref.eval_batch_size, device)\n",
    "    test_data = batchify(corpus.test, params.pref.bsz, device)\n",
    "\n",
    "    # Build the model\n",
    "    ntokens = len(corpus.dictionary)\n",
    "\n",
    "    model = model.to(device)\n",
    "    print(model)\n",
    "\n",
    "    criterion = nn.CrossEntropyLoss()\n",
    "\n",
    "\n",
    "    model = load(model, data_name, language)\n",
    "    # after load the rnn params are not a continuous chunk of memory\n",
    "    # this makes them a continuous chunk, and will speed up forward pass\n",
    "    model.rnn.flatten_parameters()\n",
    "\n",
    "    # Run on test data.\n",
    "    print('evaluation...')\n",
    "    test_loss = evaluate(model, criterion, ntokens, test_data, params.pref.eval_batch_size)\n",
    "    print('=' * 89)\n",
    "    print('| End of training | test loss {:5.2f} | test ppl {:8.2f}'.format(\n",
    "        test_loss, math.exp(test_loss)))\n",
    "    print('=' * 89)"
   ]
  },
  {
   "cell_type": "code",
   "execution_count": 91,
   "metadata": {
    "scrolled": true
   },
   "outputs": [
    {
     "name": "stdout",
     "output_type": "stream",
     "text": [
      "/Users/alexpsq/Code/NeuroSpin/LePetitPrince/derivatives/fMRI/models/english/LSTM_embedding-size_200_nhid_100_nlayers_3_dropout_01_wiki_kristina_english.pt\n",
      "Building dictionary...\n",
      "Dictionary built.\n"
     ]
    },
    {
     "name": "stderr",
     "output_type": "stream",
     "text": [
      "\r",
      "  0%|          | 0/14810 [00:00<?, ?it/s]"
     ]
    },
    {
     "name": "stdout",
     "output_type": "stream",
     "text": [
      "RNNModel(\n",
      "  (drop): Dropout(p=0.1)\n",
      "  (encoder): Embedding(50001, 200)\n",
      "  (rnn): LSTM(200, 100, num_layers=3, dropout=0.1)\n",
      "  (decoder): Linear(in_features=100, out_features=50001, bias=True)\n",
      ")\n",
      "/Users/alexpsq/Code/NeuroSpin/LePetitPrince/derivatives/fMRI/models/english/LSTM_embedding-size_200_nhid_100_nlayers_3_dropout_01_wiki_kristina_english.pt\n",
      "evaluation...\n"
     ]
    },
    {
     "name": "stderr",
     "output_type": "stream",
     "text": [
      "  0%|          | 41/14810 [00:11<1:11:35,  3.44it/s]"
     ]
    },
    {
     "ename": "KeyboardInterrupt",
     "evalue": "",
     "output_type": "error",
     "traceback": [
      "\u001b[0;31m---------------------------------------------------------------------------\u001b[0m",
      "\u001b[0;31mKeyboardInterrupt\u001b[0m                         Traceback (most recent call last)",
      "\u001b[0;32m<ipython-input-91-ce57e33501a6>\u001b[0m in \u001b[0;36m<module>\u001b[0;34m\u001b[0m\n\u001b[0;32m----> 1\u001b[0;31m \u001b[0mtest\u001b[0m\u001b[0;34m(\u001b[0m\u001b[0mload\u001b[0m\u001b[0;34m(\u001b[0m\u001b[0mmodel\u001b[0m\u001b[0;34m.\u001b[0m\u001b[0mRNNModel\u001b[0m\u001b[0;34m(\u001b[0m\u001b[0;34m'LSTM'\u001b[0m\u001b[0;34m,\u001b[0m \u001b[0;36m5\u001b[0m\u001b[0;34m,\u001b[0m\u001b[0;36m200\u001b[0m\u001b[0;34m,\u001b[0m\u001b[0;36m100\u001b[0m\u001b[0;34m,\u001b[0m\u001b[0;36m3\u001b[0m\u001b[0;34m,\u001b[0m\u001b[0mdropout\u001b[0m\u001b[0;34m=\u001b[0m\u001b[0;36m0.1\u001b[0m\u001b[0;34m)\u001b[0m   \u001b[0;34m,\u001b[0m \u001b[0mdata_name\u001b[0m\u001b[0;34m,\u001b[0m \u001b[0mlanguage\u001b[0m\u001b[0;34m)\u001b[0m\u001b[0;34m)\u001b[0m\u001b[0;34m\u001b[0m\u001b[0;34m\u001b[0m\u001b[0m\n\u001b[0m\u001b[1;32m      2\u001b[0m \u001b[0mtest\u001b[0m\u001b[0;34m(\u001b[0m\u001b[0mload\u001b[0m\u001b[0;34m(\u001b[0m\u001b[0mmodel\u001b[0m\u001b[0;34m.\u001b[0m\u001b[0mRNNModel\u001b[0m\u001b[0;34m(\u001b[0m\u001b[0;34m'LSTM'\u001b[0m\u001b[0;34m,\u001b[0m \u001b[0;36m5\u001b[0m\u001b[0;34m,\u001b[0m\u001b[0;36m200\u001b[0m\u001b[0;34m,\u001b[0m\u001b[0;36m300\u001b[0m\u001b[0;34m,\u001b[0m\u001b[0;36m1\u001b[0m\u001b[0;34m,\u001b[0m\u001b[0mdropout\u001b[0m\u001b[0;34m=\u001b[0m\u001b[0;36m0.1\u001b[0m\u001b[0;34m)\u001b[0m   \u001b[0;34m,\u001b[0m \u001b[0mdata_name\u001b[0m\u001b[0;34m,\u001b[0m \u001b[0mlanguage\u001b[0m\u001b[0;34m)\u001b[0m\u001b[0;34m)\u001b[0m\u001b[0;34m\u001b[0m\u001b[0;34m\u001b[0m\u001b[0m\n\u001b[1;32m      3\u001b[0m \u001b[0mtest\u001b[0m\u001b[0;34m(\u001b[0m\u001b[0mload\u001b[0m\u001b[0;34m(\u001b[0m\u001b[0mmodel\u001b[0m\u001b[0;34m.\u001b[0m\u001b[0mRNNModel\u001b[0m\u001b[0;34m(\u001b[0m\u001b[0;34m'LSTM'\u001b[0m\u001b[0;34m,\u001b[0m \u001b[0;36m5\u001b[0m\u001b[0;34m,\u001b[0m\u001b[0;36m300\u001b[0m\u001b[0;34m,\u001b[0m\u001b[0;36m300\u001b[0m\u001b[0;34m,\u001b[0m\u001b[0;36m2\u001b[0m\u001b[0;34m,\u001b[0m\u001b[0mdropout\u001b[0m\u001b[0;34m=\u001b[0m\u001b[0;36m0.1\u001b[0m\u001b[0;34m)\u001b[0m   \u001b[0;34m,\u001b[0m \u001b[0mdata_name\u001b[0m\u001b[0;34m,\u001b[0m \u001b[0mlanguage\u001b[0m\u001b[0;34m)\u001b[0m\u001b[0;34m)\u001b[0m\u001b[0;34m\u001b[0m\u001b[0;34m\u001b[0m\u001b[0m\n\u001b[1;32m      4\u001b[0m \u001b[0mtest\u001b[0m\u001b[0;34m(\u001b[0m\u001b[0mload\u001b[0m\u001b[0;34m(\u001b[0m\u001b[0mmodel\u001b[0m\u001b[0;34m.\u001b[0m\u001b[0mRNNModel\u001b[0m\u001b[0;34m(\u001b[0m\u001b[0;34m'LSTM'\u001b[0m\u001b[0;34m,\u001b[0m \u001b[0;36m5\u001b[0m\u001b[0;34m,\u001b[0m\u001b[0;36m300\u001b[0m\u001b[0;34m,\u001b[0m\u001b[0;36m300\u001b[0m\u001b[0;34m,\u001b[0m\u001b[0;36m3\u001b[0m\u001b[0;34m,\u001b[0m\u001b[0mdropout\u001b[0m\u001b[0;34m=\u001b[0m\u001b[0;36m0.1\u001b[0m\u001b[0;34m)\u001b[0m   \u001b[0;34m,\u001b[0m \u001b[0mdata_name\u001b[0m\u001b[0;34m,\u001b[0m \u001b[0mlanguage\u001b[0m\u001b[0;34m)\u001b[0m\u001b[0;34m)\u001b[0m\u001b[0;34m\u001b[0m\u001b[0;34m\u001b[0m\u001b[0m\n",
      "\u001b[0;32m<ipython-input-90-685a52c1ef69>\u001b[0m in \u001b[0;36mtest\u001b[0;34m(model)\u001b[0m\n\u001b[1;32m     26\u001b[0m     \u001b[0;31m# Run on test data.\u001b[0m\u001b[0;34m\u001b[0m\u001b[0;34m\u001b[0m\u001b[0;34m\u001b[0m\u001b[0m\n\u001b[1;32m     27\u001b[0m     \u001b[0mprint\u001b[0m\u001b[0;34m(\u001b[0m\u001b[0;34m'evaluation...'\u001b[0m\u001b[0;34m)\u001b[0m\u001b[0;34m\u001b[0m\u001b[0;34m\u001b[0m\u001b[0m\n\u001b[0;32m---> 28\u001b[0;31m     \u001b[0mtest_loss\u001b[0m \u001b[0;34m=\u001b[0m \u001b[0mevaluate\u001b[0m\u001b[0;34m(\u001b[0m\u001b[0mmodel\u001b[0m\u001b[0;34m,\u001b[0m \u001b[0mcriterion\u001b[0m\u001b[0;34m,\u001b[0m \u001b[0mntokens\u001b[0m\u001b[0;34m,\u001b[0m \u001b[0mtest_data\u001b[0m\u001b[0;34m,\u001b[0m \u001b[0mparams\u001b[0m\u001b[0;34m.\u001b[0m\u001b[0mpref\u001b[0m\u001b[0;34m.\u001b[0m\u001b[0meval_batch_size\u001b[0m\u001b[0;34m)\u001b[0m\u001b[0;34m\u001b[0m\u001b[0;34m\u001b[0m\u001b[0m\n\u001b[0m\u001b[1;32m     29\u001b[0m     \u001b[0mprint\u001b[0m\u001b[0;34m(\u001b[0m\u001b[0;34m'='\u001b[0m \u001b[0;34m*\u001b[0m \u001b[0;36m89\u001b[0m\u001b[0;34m)\u001b[0m\u001b[0;34m\u001b[0m\u001b[0;34m\u001b[0m\u001b[0m\n\u001b[1;32m     30\u001b[0m     print('| End of training | test loss {:5.2f} | test ppl {:8.2f}'.format(\n",
      "\u001b[0;32m<ipython-input-89-f78fa41b8821>\u001b[0m in \u001b[0;36mevaluate\u001b[0;34m(model, criterion, ntokens, data_source, eval_batch_size)\u001b[0m\n\u001b[1;32m      7\u001b[0m         \u001b[0;32mfor\u001b[0m \u001b[0mi\u001b[0m \u001b[0;32min\u001b[0m \u001b[0mtqdm\u001b[0m\u001b[0;34m(\u001b[0m\u001b[0mrange\u001b[0m\u001b[0;34m(\u001b[0m\u001b[0;36m0\u001b[0m\u001b[0;34m,\u001b[0m \u001b[0mdata_source\u001b[0m\u001b[0;34m.\u001b[0m\u001b[0msize\u001b[0m\u001b[0;34m(\u001b[0m\u001b[0;36m0\u001b[0m\u001b[0;34m)\u001b[0m \u001b[0;34m-\u001b[0m \u001b[0;36m1\u001b[0m\u001b[0;34m,\u001b[0m \u001b[0mparams\u001b[0m\u001b[0;34m.\u001b[0m\u001b[0mpref\u001b[0m\u001b[0;34m.\u001b[0m\u001b[0mbptt\u001b[0m\u001b[0;34m)\u001b[0m\u001b[0;34m)\u001b[0m\u001b[0;34m:\u001b[0m\u001b[0;34m\u001b[0m\u001b[0;34m\u001b[0m\u001b[0m\n\u001b[1;32m      8\u001b[0m             \u001b[0mdata\u001b[0m\u001b[0;34m,\u001b[0m \u001b[0mtargets\u001b[0m \u001b[0;34m=\u001b[0m \u001b[0mget_batch\u001b[0m\u001b[0;34m(\u001b[0m\u001b[0mdata_source\u001b[0m\u001b[0;34m,\u001b[0m \u001b[0mi\u001b[0m\u001b[0;34m)\u001b[0m\u001b[0;34m\u001b[0m\u001b[0;34m\u001b[0m\u001b[0m\n\u001b[0;32m----> 9\u001b[0;31m             \u001b[0moutput\u001b[0m\u001b[0;34m,\u001b[0m \u001b[0mhidden\u001b[0m \u001b[0;34m=\u001b[0m \u001b[0mmodel\u001b[0m\u001b[0;34m(\u001b[0m\u001b[0mdata\u001b[0m\u001b[0;34m,\u001b[0m \u001b[0mhidden\u001b[0m\u001b[0;34m)\u001b[0m\u001b[0;34m\u001b[0m\u001b[0;34m\u001b[0m\u001b[0m\n\u001b[0m\u001b[1;32m     10\u001b[0m             \u001b[0moutput_flat\u001b[0m \u001b[0;34m=\u001b[0m \u001b[0moutput\u001b[0m\u001b[0;34m.\u001b[0m\u001b[0mview\u001b[0m\u001b[0;34m(\u001b[0m\u001b[0;34m-\u001b[0m\u001b[0;36m1\u001b[0m\u001b[0;34m,\u001b[0m \u001b[0mntokens\u001b[0m\u001b[0;34m)\u001b[0m\u001b[0;34m\u001b[0m\u001b[0;34m\u001b[0m\u001b[0m\n\u001b[1;32m     11\u001b[0m             \u001b[0mtotal_loss\u001b[0m \u001b[0;34m+=\u001b[0m \u001b[0mlen\u001b[0m\u001b[0;34m(\u001b[0m\u001b[0mdata\u001b[0m\u001b[0;34m)\u001b[0m \u001b[0;34m*\u001b[0m \u001b[0mcriterion\u001b[0m\u001b[0;34m(\u001b[0m\u001b[0moutput_flat\u001b[0m\u001b[0;34m,\u001b[0m \u001b[0mtargets\u001b[0m\u001b[0;34m)\u001b[0m\u001b[0;34m.\u001b[0m\u001b[0mitem\u001b[0m\u001b[0;34m(\u001b[0m\u001b[0;34m)\u001b[0m\u001b[0;34m\u001b[0m\u001b[0;34m\u001b[0m\u001b[0m\n",
      "\u001b[0;32m/anaconda3/lib/python3.7/site-packages/torch/nn/modules/module.py\u001b[0m in \u001b[0;36m__call__\u001b[0;34m(self, *input, **kwargs)\u001b[0m\n\u001b[1;32m    487\u001b[0m             \u001b[0mresult\u001b[0m \u001b[0;34m=\u001b[0m \u001b[0mself\u001b[0m\u001b[0;34m.\u001b[0m\u001b[0m_slow_forward\u001b[0m\u001b[0;34m(\u001b[0m\u001b[0;34m*\u001b[0m\u001b[0minput\u001b[0m\u001b[0;34m,\u001b[0m \u001b[0;34m**\u001b[0m\u001b[0mkwargs\u001b[0m\u001b[0;34m)\u001b[0m\u001b[0;34m\u001b[0m\u001b[0;34m\u001b[0m\u001b[0m\n\u001b[1;32m    488\u001b[0m         \u001b[0;32melse\u001b[0m\u001b[0;34m:\u001b[0m\u001b[0;34m\u001b[0m\u001b[0;34m\u001b[0m\u001b[0m\n\u001b[0;32m--> 489\u001b[0;31m             \u001b[0mresult\u001b[0m \u001b[0;34m=\u001b[0m \u001b[0mself\u001b[0m\u001b[0;34m.\u001b[0m\u001b[0mforward\u001b[0m\u001b[0;34m(\u001b[0m\u001b[0;34m*\u001b[0m\u001b[0minput\u001b[0m\u001b[0;34m,\u001b[0m \u001b[0;34m**\u001b[0m\u001b[0mkwargs\u001b[0m\u001b[0;34m)\u001b[0m\u001b[0;34m\u001b[0m\u001b[0;34m\u001b[0m\u001b[0m\n\u001b[0m\u001b[1;32m    490\u001b[0m         \u001b[0;32mfor\u001b[0m \u001b[0mhook\u001b[0m \u001b[0;32min\u001b[0m \u001b[0mself\u001b[0m\u001b[0;34m.\u001b[0m\u001b[0m_forward_hooks\u001b[0m\u001b[0;34m.\u001b[0m\u001b[0mvalues\u001b[0m\u001b[0;34m(\u001b[0m\u001b[0;34m)\u001b[0m\u001b[0;34m:\u001b[0m\u001b[0;34m\u001b[0m\u001b[0;34m\u001b[0m\u001b[0m\n\u001b[1;32m    491\u001b[0m             \u001b[0mhook_result\u001b[0m \u001b[0;34m=\u001b[0m \u001b[0mhook\u001b[0m\u001b[0;34m(\u001b[0m\u001b[0mself\u001b[0m\u001b[0;34m,\u001b[0m \u001b[0minput\u001b[0m\u001b[0;34m,\u001b[0m \u001b[0mresult\u001b[0m\u001b[0;34m)\u001b[0m\u001b[0;34m\u001b[0m\u001b[0;34m\u001b[0m\u001b[0m\n",
      "\u001b[0;32m~/Code/NeuroSpin/LePetitPrince/code/models/english/LSTM/model.py\u001b[0m in \u001b[0;36mforward\u001b[0;34m(self, input, hidden)\u001b[0m\n\u001b[1;32m     80\u001b[0m         \u001b[0moutput\u001b[0m\u001b[0;34m,\u001b[0m \u001b[0mhidden\u001b[0m \u001b[0;34m=\u001b[0m \u001b[0mself\u001b[0m\u001b[0;34m.\u001b[0m\u001b[0mrnn\u001b[0m\u001b[0;34m(\u001b[0m\u001b[0memb\u001b[0m\u001b[0;34m,\u001b[0m \u001b[0mhidden\u001b[0m\u001b[0;34m)\u001b[0m\u001b[0;34m\u001b[0m\u001b[0;34m\u001b[0m\u001b[0m\n\u001b[1;32m     81\u001b[0m         \u001b[0moutput\u001b[0m \u001b[0;34m=\u001b[0m \u001b[0mself\u001b[0m\u001b[0;34m.\u001b[0m\u001b[0mdrop\u001b[0m\u001b[0;34m(\u001b[0m\u001b[0moutput\u001b[0m\u001b[0;34m)\u001b[0m\u001b[0;34m\u001b[0m\u001b[0;34m\u001b[0m\u001b[0m\n\u001b[0;32m---> 82\u001b[0;31m         \u001b[0mdecoded\u001b[0m \u001b[0;34m=\u001b[0m \u001b[0mself\u001b[0m\u001b[0;34m.\u001b[0m\u001b[0mdecoder\u001b[0m\u001b[0;34m(\u001b[0m\u001b[0moutput\u001b[0m\u001b[0;34m.\u001b[0m\u001b[0mview\u001b[0m\u001b[0;34m(\u001b[0m\u001b[0moutput\u001b[0m\u001b[0;34m.\u001b[0m\u001b[0msize\u001b[0m\u001b[0;34m(\u001b[0m\u001b[0;36m0\u001b[0m\u001b[0;34m)\u001b[0m\u001b[0;34m*\u001b[0m\u001b[0moutput\u001b[0m\u001b[0;34m.\u001b[0m\u001b[0msize\u001b[0m\u001b[0;34m(\u001b[0m\u001b[0;36m1\u001b[0m\u001b[0;34m)\u001b[0m\u001b[0;34m,\u001b[0m \u001b[0moutput\u001b[0m\u001b[0;34m.\u001b[0m\u001b[0msize\u001b[0m\u001b[0;34m(\u001b[0m\u001b[0;36m2\u001b[0m\u001b[0;34m)\u001b[0m\u001b[0;34m)\u001b[0m\u001b[0;34m)\u001b[0m\u001b[0;34m\u001b[0m\u001b[0;34m\u001b[0m\u001b[0m\n\u001b[0m\u001b[1;32m     83\u001b[0m         \u001b[0;32mreturn\u001b[0m \u001b[0mdecoded\u001b[0m\u001b[0;34m.\u001b[0m\u001b[0mview\u001b[0m\u001b[0;34m(\u001b[0m\u001b[0moutput\u001b[0m\u001b[0;34m.\u001b[0m\u001b[0msize\u001b[0m\u001b[0;34m(\u001b[0m\u001b[0;36m0\u001b[0m\u001b[0;34m)\u001b[0m\u001b[0;34m,\u001b[0m \u001b[0moutput\u001b[0m\u001b[0;34m.\u001b[0m\u001b[0msize\u001b[0m\u001b[0;34m(\u001b[0m\u001b[0;36m1\u001b[0m\u001b[0;34m)\u001b[0m\u001b[0;34m,\u001b[0m \u001b[0mdecoded\u001b[0m\u001b[0;34m.\u001b[0m\u001b[0msize\u001b[0m\u001b[0;34m(\u001b[0m\u001b[0;36m1\u001b[0m\u001b[0;34m)\u001b[0m\u001b[0;34m)\u001b[0m\u001b[0;34m,\u001b[0m \u001b[0mhidden\u001b[0m\u001b[0;34m\u001b[0m\u001b[0;34m\u001b[0m\u001b[0m\n\u001b[1;32m     84\u001b[0m \u001b[0;34m\u001b[0m\u001b[0m\n",
      "\u001b[0;32m/anaconda3/lib/python3.7/site-packages/torch/nn/modules/module.py\u001b[0m in \u001b[0;36m__call__\u001b[0;34m(self, *input, **kwargs)\u001b[0m\n\u001b[1;32m    487\u001b[0m             \u001b[0mresult\u001b[0m \u001b[0;34m=\u001b[0m \u001b[0mself\u001b[0m\u001b[0;34m.\u001b[0m\u001b[0m_slow_forward\u001b[0m\u001b[0;34m(\u001b[0m\u001b[0;34m*\u001b[0m\u001b[0minput\u001b[0m\u001b[0;34m,\u001b[0m \u001b[0;34m**\u001b[0m\u001b[0mkwargs\u001b[0m\u001b[0;34m)\u001b[0m\u001b[0;34m\u001b[0m\u001b[0;34m\u001b[0m\u001b[0m\n\u001b[1;32m    488\u001b[0m         \u001b[0;32melse\u001b[0m\u001b[0;34m:\u001b[0m\u001b[0;34m\u001b[0m\u001b[0;34m\u001b[0m\u001b[0m\n\u001b[0;32m--> 489\u001b[0;31m             \u001b[0mresult\u001b[0m \u001b[0;34m=\u001b[0m \u001b[0mself\u001b[0m\u001b[0;34m.\u001b[0m\u001b[0mforward\u001b[0m\u001b[0;34m(\u001b[0m\u001b[0;34m*\u001b[0m\u001b[0minput\u001b[0m\u001b[0;34m,\u001b[0m \u001b[0;34m**\u001b[0m\u001b[0mkwargs\u001b[0m\u001b[0;34m)\u001b[0m\u001b[0;34m\u001b[0m\u001b[0;34m\u001b[0m\u001b[0m\n\u001b[0m\u001b[1;32m    490\u001b[0m         \u001b[0;32mfor\u001b[0m \u001b[0mhook\u001b[0m \u001b[0;32min\u001b[0m \u001b[0mself\u001b[0m\u001b[0;34m.\u001b[0m\u001b[0m_forward_hooks\u001b[0m\u001b[0;34m.\u001b[0m\u001b[0mvalues\u001b[0m\u001b[0;34m(\u001b[0m\u001b[0;34m)\u001b[0m\u001b[0;34m:\u001b[0m\u001b[0;34m\u001b[0m\u001b[0;34m\u001b[0m\u001b[0m\n\u001b[1;32m    491\u001b[0m             \u001b[0mhook_result\u001b[0m \u001b[0;34m=\u001b[0m \u001b[0mhook\u001b[0m\u001b[0;34m(\u001b[0m\u001b[0mself\u001b[0m\u001b[0;34m,\u001b[0m \u001b[0minput\u001b[0m\u001b[0;34m,\u001b[0m \u001b[0mresult\u001b[0m\u001b[0;34m)\u001b[0m\u001b[0;34m\u001b[0m\u001b[0;34m\u001b[0m\u001b[0m\n",
      "\u001b[0;32m/anaconda3/lib/python3.7/site-packages/torch/nn/modules/linear.py\u001b[0m in \u001b[0;36mforward\u001b[0;34m(self, input)\u001b[0m\n\u001b[1;32m     65\u001b[0m     \u001b[0;34m@\u001b[0m\u001b[0mweak_script_method\u001b[0m\u001b[0;34m\u001b[0m\u001b[0;34m\u001b[0m\u001b[0m\n\u001b[1;32m     66\u001b[0m     \u001b[0;32mdef\u001b[0m \u001b[0mforward\u001b[0m\u001b[0;34m(\u001b[0m\u001b[0mself\u001b[0m\u001b[0;34m,\u001b[0m \u001b[0minput\u001b[0m\u001b[0;34m)\u001b[0m\u001b[0;34m:\u001b[0m\u001b[0;34m\u001b[0m\u001b[0;34m\u001b[0m\u001b[0m\n\u001b[0;32m---> 67\u001b[0;31m         \u001b[0;32mreturn\u001b[0m \u001b[0mF\u001b[0m\u001b[0;34m.\u001b[0m\u001b[0mlinear\u001b[0m\u001b[0;34m(\u001b[0m\u001b[0minput\u001b[0m\u001b[0;34m,\u001b[0m \u001b[0mself\u001b[0m\u001b[0;34m.\u001b[0m\u001b[0mweight\u001b[0m\u001b[0;34m,\u001b[0m \u001b[0mself\u001b[0m\u001b[0;34m.\u001b[0m\u001b[0mbias\u001b[0m\u001b[0;34m)\u001b[0m\u001b[0;34m\u001b[0m\u001b[0;34m\u001b[0m\u001b[0m\n\u001b[0m\u001b[1;32m     68\u001b[0m \u001b[0;34m\u001b[0m\u001b[0m\n\u001b[1;32m     69\u001b[0m     \u001b[0;32mdef\u001b[0m \u001b[0mextra_repr\u001b[0m\u001b[0;34m(\u001b[0m\u001b[0mself\u001b[0m\u001b[0;34m)\u001b[0m\u001b[0;34m:\u001b[0m\u001b[0;34m\u001b[0m\u001b[0;34m\u001b[0m\u001b[0m\n",
      "\u001b[0;32m/anaconda3/lib/python3.7/site-packages/torch/nn/functional.py\u001b[0m in \u001b[0;36mlinear\u001b[0;34m(input, weight, bias)\u001b[0m\n\u001b[1;32m   1350\u001b[0m     \u001b[0;32mif\u001b[0m \u001b[0minput\u001b[0m\u001b[0;34m.\u001b[0m\u001b[0mdim\u001b[0m\u001b[0;34m(\u001b[0m\u001b[0;34m)\u001b[0m \u001b[0;34m==\u001b[0m \u001b[0;36m2\u001b[0m \u001b[0;32mand\u001b[0m \u001b[0mbias\u001b[0m \u001b[0;32mis\u001b[0m \u001b[0;32mnot\u001b[0m \u001b[0;32mNone\u001b[0m\u001b[0;34m:\u001b[0m\u001b[0;34m\u001b[0m\u001b[0;34m\u001b[0m\u001b[0m\n\u001b[1;32m   1351\u001b[0m         \u001b[0;31m# fused op is marginally faster\u001b[0m\u001b[0;34m\u001b[0m\u001b[0;34m\u001b[0m\u001b[0;34m\u001b[0m\u001b[0m\n\u001b[0;32m-> 1352\u001b[0;31m         \u001b[0mret\u001b[0m \u001b[0;34m=\u001b[0m \u001b[0mtorch\u001b[0m\u001b[0;34m.\u001b[0m\u001b[0maddmm\u001b[0m\u001b[0;34m(\u001b[0m\u001b[0mtorch\u001b[0m\u001b[0;34m.\u001b[0m\u001b[0mjit\u001b[0m\u001b[0;34m.\u001b[0m\u001b[0m_unwrap_optional\u001b[0m\u001b[0;34m(\u001b[0m\u001b[0mbias\u001b[0m\u001b[0;34m)\u001b[0m\u001b[0;34m,\u001b[0m \u001b[0minput\u001b[0m\u001b[0;34m,\u001b[0m \u001b[0mweight\u001b[0m\u001b[0;34m.\u001b[0m\u001b[0mt\u001b[0m\u001b[0;34m(\u001b[0m\u001b[0;34m)\u001b[0m\u001b[0;34m)\u001b[0m\u001b[0;34m\u001b[0m\u001b[0;34m\u001b[0m\u001b[0m\n\u001b[0m\u001b[1;32m   1353\u001b[0m     \u001b[0;32melse\u001b[0m\u001b[0;34m:\u001b[0m\u001b[0;34m\u001b[0m\u001b[0;34m\u001b[0m\u001b[0m\n\u001b[1;32m   1354\u001b[0m         \u001b[0moutput\u001b[0m \u001b[0;34m=\u001b[0m \u001b[0minput\u001b[0m\u001b[0;34m.\u001b[0m\u001b[0mmatmul\u001b[0m\u001b[0;34m(\u001b[0m\u001b[0mweight\u001b[0m\u001b[0;34m.\u001b[0m\u001b[0mt\u001b[0m\u001b[0;34m(\u001b[0m\u001b[0;34m)\u001b[0m\u001b[0;34m)\u001b[0m\u001b[0;34m\u001b[0m\u001b[0;34m\u001b[0m\u001b[0m\n",
      "\u001b[0;31mKeyboardInterrupt\u001b[0m: "
     ]
    }
   ],
   "source": [
    "test(load(model.RNNModel('LSTM', 5,200,100,3,dropout=0.1)   , data_name, language))\n",
    "test(load(model.RNNModel('LSTM', 5,200,300,1,dropout=0.1)   , data_name, language))\n",
    "test(load(model.RNNModel('LSTM', 5,300,300,2,dropout=0.1)   , data_name, language))\n",
    "test(load(model.RNNModel('LSTM', 5,300,300,3,dropout=0.1)   , data_name, language))"
   ]
  },
  {
   "cell_type": "code",
   "execution_count": 75,
   "metadata": {},
   "outputs": [
    {
     "data": {
      "text/plain": [
       "{'_backend': <torch.nn.backends.thnn.THNNFunctionBackend at 0x10bdcd828>,\n",
       " '_parameters': OrderedDict(),\n",
       " '_buffers': OrderedDict(),\n",
       " '_backward_hooks': OrderedDict(),\n",
       " '_forward_hooks': OrderedDict(),\n",
       " '_forward_pre_hooks': OrderedDict(),\n",
       " '_modules': OrderedDict([('drop', Dropout(p=0.1)),\n",
       "              ('encoder', Embedding(50001, 200)),\n",
       "              ('rnn', LSTM(200, 150, num_layers=2, dropout=0.1)),\n",
       "              ('decoder',\n",
       "               Linear(in_features=150, out_features=50001, bias=True))]),\n",
       " 'training': False,\n",
       " 'backup': <bound method RNNBase.forward of LSTM(200, 150, num_layers=2, dropout=0.1)>,\n",
       " 'vocab': <LSTM.data.Dictionary at 0x1a270ca978>,\n",
       " 'param': {'rnn_type': 'LSTM',\n",
       "  'ntoken': 50001,\n",
       "  'ninp': 200,\n",
       "  'nhid': 150,\n",
       "  'nlayers': 2,\n",
       "  'dropout': 0.1,\n",
       "  'tie_weights': False},\n",
       " '_state_dict_hooks': OrderedDict(),\n",
       " '_load_state_dict_pre_hooks': OrderedDict()}"
      ]
     },
     "execution_count": 75,
     "metadata": {},
     "output_type": "execute_result"
    }
   ],
   "source": [
    "vars(model2load2layer)"
   ]
  },
  {
   "cell_type": "code",
   "execution_count": null,
   "metadata": {},
   "outputs": [],
   "source": []
  }
 ],
 "metadata": {
  "kernelspec": {
   "display_name": "Python 3",
   "language": "python",
   "name": "python3"
  },
  "language_info": {
   "codemirror_mode": {
    "name": "ipython",
    "version": 3
   },
   "file_extension": ".py",
   "mimetype": "text/x-python",
   "name": "python",
   "nbconvert_exporter": "python",
   "pygments_lexer": "ipython3",
   "version": "3.7.1"
  }
 },
 "nbformat": 4,
 "nbformat_minor": 2
}
